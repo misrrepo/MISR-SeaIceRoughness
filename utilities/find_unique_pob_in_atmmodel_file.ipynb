{
 "cells": [
  {
   "cell_type": "code",
   "execution_count": 1,
   "id": "686e5e39",
   "metadata": {},
   "outputs": [],
   "source": [
    "import pandas as pd\n",
    "import os"
   ]
  },
  {
   "cell_type": "code",
   "execution_count": 2,
   "id": "56526530",
   "metadata": {},
   "outputs": [
    {
     "name": "stdout",
     "output_type": "stream",
     "text": [
      "Python 3.9.7\r\n"
     ]
    }
   ],
   "source": [
    "!python -V"
   ]
  },
  {
   "cell_type": "code",
   "execution_count": 11,
   "id": "7a4f182e",
   "metadata": {},
   "outputs": [],
   "source": [
    "def find_unique_pob(atmmodel_file_fp, list_of_columns):\n",
    "    \n",
    "    print(os.path.isfile(atmmodel_file_fp))\n",
    "    in_csv_df = pd.read_csv(atmmodel_file_fp)\n",
    "    print(in_csv_df.columns)\n",
    "    pob_unique = in_csv_df.drop_duplicates(subset=list_of_columns, keep='first', ignore_index=False)\n",
    "    \n",
    "    return pob_unique"
   ]
  },
  {
   "cell_type": "code",
   "execution_count": 12,
   "id": "fc35212d",
   "metadata": {},
   "outputs": [],
   "source": [
    "# directory path\n",
    "atmmodel_csv = 'atmmodel_july_2016_k_zero.csv'\n",
    "home_dir = '/Volumes/Ehsan-7757225325/2016/july_2016/atmmodel'\n",
    "# full path\n",
    "in_csv = os.path.join(home_dir, atmmodel_csv)"
   ]
  },
  {
   "cell_type": "code",
   "execution_count": 13,
   "id": "90a797aa",
   "metadata": {},
   "outputs": [
    {
     "data": {
      "text/plain": [
       "True"
      ]
     },
     "execution_count": 13,
     "metadata": {},
     "output_type": "execute_result"
    }
   ],
   "source": [
    "# check if csv file exists\n",
    "os.path.isfile(in_csv)"
   ]
  },
  {
   "cell_type": "code",
   "execution_count": 14,
   "id": "33e9c2eb",
   "metadata": {},
   "outputs": [],
   "source": [
    "# find unique values in POB columns\n",
    "\n",
    "list_of_cols = ['#path',' orbit', ' img_block']\n"
   ]
  },
  {
   "cell_type": "code",
   "execution_count": 16,
   "id": "c6882f56",
   "metadata": {},
   "outputs": [
    {
     "name": "stdout",
     "output_type": "stream",
     "text": [
      "True\n",
      "Index(['#path', ' orbit', ' img_block', ' line', ' sample', ' firstLat',\n",
      "       ' firstLon', ' an', ' ca', ' cf', ' rms', ' weight', ' npts', ' cloud',\n",
      "       ' var'],\n",
      "      dtype='object')\n"
     ]
    },
    {
     "data": {
      "text/plain": [
       "(49, 15)"
      ]
     },
     "execution_count": 16,
     "metadata": {},
     "output_type": "execute_result"
    }
   ],
   "source": [
    "pob_in_ds = find_unique_pob(in_csv, list_of_cols)\n",
    "pob_in_ds.shape"
   ]
  },
  {
   "cell_type": "code",
   "execution_count": 18,
   "id": "2811905a",
   "metadata": {},
   "outputs": [
    {
     "name": "stdout",
     "output_type": "stream",
     "text": [
      "/Volumes/Ehsan-7757225325/2016/july_2016/atmmodel/unique_pob_in_atmmodel_july_2016_k_zero.csv\n"
     ]
    }
   ],
   "source": [
    "# write out the unique POB dateset\n",
    "out_file_label = 'unique_pob_in_'+atmmodel_csv\n",
    "out_file_fp = os.path.join(home_dir, out_file_label)\n",
    "pob_in_ds.to_csv(out_file_fp, index=False)\n",
    "print(out_file_fp)"
   ]
  },
  {
   "cell_type": "code",
   "execution_count": null,
   "id": "57f2bca4",
   "metadata": {},
   "outputs": [],
   "source": []
  }
 ],
 "metadata": {
  "kernelspec": {
   "display_name": "Python 3 (ipykernel)",
   "language": "python",
   "name": "python3"
  },
  "language_info": {
   "codemirror_mode": {
    "name": "ipython",
    "version": 3
   },
   "file_extension": ".py",
   "mimetype": "text/x-python",
   "name": "python",
   "nbconvert_exporter": "python",
   "pygments_lexer": "ipython3",
   "version": "3.9.7"
  }
 },
 "nbformat": 4,
 "nbformat_minor": 5
}
