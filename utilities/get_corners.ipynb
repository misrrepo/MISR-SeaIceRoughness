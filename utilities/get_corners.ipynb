{
 "cells": [
  {
   "cell_type": "code",
   "execution_count": 2,
   "id": "188f254c",
   "metadata": {},
   "outputs": [],
   "source": [
    "import MisrToolkit as mtk"
   ]
  },
  {
   "cell_type": "code",
   "execution_count": 3,
   "id": "b494ac5c",
   "metadata": {},
   "outputs": [],
   "source": [
    "corners = mtk.path_block_range_to_block_corners(48,1,46)"
   ]
  },
  {
   "cell_type": "code",
   "execution_count": 7,
   "id": "55ffae4a",
   "metadata": {},
   "outputs": [
    {
     "data": {
      "text/plain": [
       "<function tuple.index>"
      ]
     },
     "execution_count": 7,
     "metadata": {},
     "output_type": "execute_result"
    }
   ],
   "source": [
    "corners.block.index"
   ]
  },
  {
   "cell_type": "code",
   "execution_count": null,
   "id": "c91d4d4f",
   "metadata": {},
   "outputs": [],
   "source": []
  }
 ],
 "metadata": {
  "kernelspec": {
   "display_name": "Python 3",
   "language": "python",
   "name": "python3"
  },
  "language_info": {
   "codemirror_mode": {
    "name": "ipython",
    "version": 3
   },
   "file_extension": ".py",
   "mimetype": "text/x-python",
   "name": "python",
   "nbconvert_exporter": "python",
   "pygments_lexer": "ipython3",
   "version": "3.6.9"
  }
 },
 "nbformat": 4,
 "nbformat_minor": 5
}
