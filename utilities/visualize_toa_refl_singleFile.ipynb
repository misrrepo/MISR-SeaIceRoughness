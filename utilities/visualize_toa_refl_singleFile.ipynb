{
 "cells": [
  {
   "cell_type": "code",
   "execution_count": 1,
   "metadata": {},
   "outputs": [],
   "source": [
    "import os\n",
    "import numpy as np\n",
    "from matplotlib import image as pltimg, pyplot as plt  #  pyplot uses the actual RGB values as they are, more accurate than PIL"
   ]
  },
  {
   "cell_type": "code",
   "execution_count": 2,
   "metadata": {},
   "outputs": [],
   "source": [
    "path = 89\n",
    "orbit = 87020\n",
    "block = 40\n",
    "cam_dir = 'Ba'\n",
    "cam_name = 'ba'\n",
    "rgbnir = 'red'"
   ]
  },
  {
   "cell_type": "markdown",
   "metadata": {},
   "source": [
    "## define single file"
   ]
  },
  {
   "cell_type": "code",
   "execution_count": 3,
   "metadata": {},
   "outputs": [],
   "source": [
    "toa_refl_home = \"/home/ehsan/misr_lab/orders/14528_apr2016/toa_refl_april_2016_9cam4bands_day1_16_p1_233_b1_46\"\n",
    "toa_refl_file_pattern = 'toa_refl_P0'+str(path)+'_O0'+str(orbit)+'_B0'+str(block)+'_'+cam_name+'_'+rgbnir+'.dat'\n",
    "toa_refl_fp = os.path.join(toa_refl_home, cam_dir, toa_refl_file_pattern)\n",
    "\n",
    "# toa_refl_P089_O087020_B042_aa_red.dat\n",
    "# cm_in = '/Volumes/Ehsanm_DRI/research/MISR/cloud_mask/cloudmask_apr2013_day1to16_p1to233/all_cloudmask_files/cloudmask_P0'+str(path)+'_O0'+str(orbit)+'_B0'+str(block)+'.msk'"
   ]
  },
  {
   "cell_type": "code",
   "execution_count": 4,
   "metadata": {},
   "outputs": [],
   "source": [
    "in_file_list = [toa_refl_fp] #, cm_in]"
   ]
  },
  {
   "cell_type": "markdown",
   "metadata": {},
   "source": [
    "## plot function"
   ]
  },
  {
   "cell_type": "code",
   "execution_count": 5,
   "metadata": {},
   "outputs": [],
   "source": [
    "# from matplotlib import image as pltimg, pyplot as plt  #  pyplot uses the actual RGB values as they are, more accurate than PIL\n",
    "\n",
    "def plot_here_and_write(in_arr):\n",
    "    write_mode = 0\n",
    "    \n",
    "    img_format = \".jpg\"\n",
    "    %matplotlib inline \n",
    "\n",
    "    plt.gray() # This will show the images in grayscale as default\n",
    "\n",
    "    plt.figure(figsize=(20,20))  # set the figure size\n",
    "\n",
    "    plt.imshow(in_arr)\n",
    "    plt.show()\n",
    "    \n",
    "    if (write_mode):\n",
    "        print('save mode: on, we write images to disc')\n",
    "        \n",
    "        out_img = img_label+img_format\n",
    "        out_img_fullpath = os.path.join(img_dir, out_img)\n",
    "        print(\"-> output img is: %s\" %out_img_fullpath)\n",
    "        pltimg.imsave(out_img_fullpath, input_array)\n",
    "        #     plt.savefig(out_img)\n",
    "    \n",
    "    return 0"
   ]
  },
  {
   "cell_type": "markdown",
   "metadata": {},
   "source": [
    "## check file exists"
   ]
  },
  {
   "cell_type": "code",
   "execution_count": 6,
   "metadata": {},
   "outputs": [
    {
     "name": "stdout",
     "output_type": "stream",
     "text": [
      "file NOT exist: /home/ehsan/misr_lab/orders/14528_apr2016/toa_refl_april_2016_9cam4bands_day1_16_p1_233_b1_46/Ba/toa_refl_P089_O087020_B040_ba_red.dat\n"
     ]
    },
    {
     "ename": "SystemExit",
     "evalue": "",
     "output_type": "error",
     "traceback": [
      "An exception has occurred, use %tb to see the full traceback.\n",
      "\u001b[0;31mSystemExit\u001b[0m\n"
     ]
    },
    {
     "name": "stderr",
     "output_type": "stream",
     "text": [
      "/home/ehsan/.local/lib/python3.6/site-packages/IPython/core/interactiveshell.py:3351: UserWarning: To exit: use 'exit', 'quit', or Ctrl-D.\n",
      "  warn(\"To exit: use 'exit', 'quit', or Ctrl-D.\", stacklevel=1)\n"
     ]
    }
   ],
   "source": [
    "for each_file in in_file_list:\n",
    "    if (not os.path.isfile(each_file)):\n",
    "        print('file NOT exist: %s' % each_file)\n",
    "        raise SystemExit()\n",
    "    else:\n",
    "        print('file exists.')"
   ]
  },
  {
   "cell_type": "markdown",
   "metadata": {},
   "source": [
    "## selecting the correct data-type is important"
   ]
  },
  {
   "cell_type": "code",
   "execution_count": null,
   "metadata": {},
   "outputs": [],
   "source": [
    "toa_arr = np.fromfile(in_file_list[0], dtype='float64') #, count=-1)     # is this roughness in cm?\n",
    "\n",
    "# cm_arr = np.fromfile(in_file_list[1], dtype='int8') #, count=-1)     # is this roughness in cm?\n"
   ]
  },
  {
   "cell_type": "markdown",
   "metadata": {},
   "source": [
    "## toa-refl stats"
   ]
  },
  {
   "cell_type": "code",
   "execution_count": null,
   "metadata": {},
   "outputs": [],
   "source": [
    "print(toa_arr.shape)\n",
    "print(toa_arr.min())\n",
    "print(toa_arr.max())"
   ]
  },
  {
   "cell_type": "markdown",
   "metadata": {},
   "source": [
    "## cloudMask stats"
   ]
  },
  {
   "cell_type": "code",
   "execution_count": null,
   "metadata": {},
   "outputs": [],
   "source": [
    "# print(cm_arr.shape)\n",
    "# print(cm_arr.min())\n",
    "# print(cm_arr.max())"
   ]
  },
  {
   "cell_type": "markdown",
   "metadata": {},
   "source": [
    "## process toa-refl file"
   ]
  },
  {
   "cell_type": "code",
   "execution_count": null,
   "metadata": {
    "scrolled": true
   },
   "outputs": [],
   "source": [
    "new_shape = (512,2048)\n",
    "toa_arr_reshaped = toa_arr.reshape(new_shape)\n",
    "print(toa_arr_reshaped.shape)"
   ]
  },
  {
   "cell_type": "code",
   "execution_count": null,
   "metadata": {
    "scrolled": true
   },
   "outputs": [],
   "source": [
    "plot_here_and_write(toa_arr_reshaped)"
   ]
  },
  {
   "cell_type": "markdown",
   "metadata": {},
   "source": [
    "## process cloudMask file "
   ]
  },
  {
   "cell_type": "code",
   "execution_count": null,
   "metadata": {
    "scrolled": true
   },
   "outputs": [],
   "source": [
    "# new_shape = (512,2048)\n",
    "# cm_arr_reshaped = cm_arr.reshape(new_shape)\n",
    "# print(cm_arr_reshaped.shape)"
   ]
  },
  {
   "cell_type": "code",
   "execution_count": null,
   "metadata": {},
   "outputs": [],
   "source": [
    "# plot_here_and_write(cm_arr_reshaped)"
   ]
  }
 ],
 "metadata": {
  "kernelspec": {
   "display_name": "Python 3",
   "language": "python",
   "name": "python3"
  },
  "language_info": {
   "codemirror_mode": {
    "name": "ipython",
    "version": 3
   },
   "file_extension": ".py",
   "mimetype": "text/x-python",
   "name": "python",
   "nbconvert_exporter": "python",
   "pygments_lexer": "ipython3",
   "version": "3.6.9"
  }
 },
 "nbformat": 4,
 "nbformat_minor": 2
}
