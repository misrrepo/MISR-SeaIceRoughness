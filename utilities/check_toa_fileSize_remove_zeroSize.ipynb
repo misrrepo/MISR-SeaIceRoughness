{
 "cells": [
  {
   "cell_type": "code",
   "execution_count": 1,
   "id": "8c81a6fc",
   "metadata": {},
   "outputs": [],
   "source": [
    "import os, shutil\n",
    "from glob import glob"
   ]
  },
  {
   "cell_type": "code",
   "execution_count": 2,
   "id": "6592c228",
   "metadata": {},
   "outputs": [],
   "source": [
    "## home to toa or masked_toa files\n",
    "\n",
    "home_dir = \"/media/ehsan/easyStone/30612/toa_refl_may_2010_9cam4bands_day1_30_p1_233_b1_46/\"  "
   ]
  },
  {
   "cell_type": "code",
   "execution_count": 3,
   "id": "b00b8757",
   "metadata": {},
   "outputs": [],
   "source": [
    "toa_file_pattern = \"toa_refl_P*.dat\"\n",
    "# toa_file_pattern = \"masked_toa_refl_P*.dat\""
   ]
  },
  {
   "cell_type": "code",
   "execution_count": 4,
   "id": "188d4529",
   "metadata": {},
   "outputs": [],
   "source": [
    "remove_file = False"
   ]
  },
  {
   "cell_type": "code",
   "execution_count": 5,
   "id": "65e67cbd",
   "metadata": {},
   "outputs": [],
   "source": [
    "toa_found_list = []\n",
    "\n",
    "for toa_dir_label in [\"Df\",\"Cf\",\"Bf\",\"Af\",\"An\",\"Aa\",\"Ba\",\"Ca\",\"Da\"]:\n",
    "    toa_dir = os.path.join(home_dir,toa_dir_label)\n",
    "    toa_found_list.extend(glob(os.path.join(toa_dir, toa_file_pattern)))"
   ]
  },
  {
   "cell_type": "code",
   "execution_count": 6,
   "id": "e88cb86b",
   "metadata": {},
   "outputs": [
    {
     "name": "stdout",
     "output_type": "stream",
     "text": [
      "total TOA files foubd: 233229\n"
     ]
    }
   ],
   "source": [
    "print(\"total TOA files foubd: %d\" %len(toa_found_list))"
   ]
  },
  {
   "cell_type": "code",
   "execution_count": 7,
   "id": "eaf15997",
   "metadata": {},
   "outputs": [],
   "source": [
    "zero_files_list = []\n",
    "incomplete_files_list = []\n",
    "\n",
    "for toa_file_fp in toa_found_list:\n",
    "\n",
    "    if (os.path.getsize(toa_file_fp) == 0.0):\n",
    "        print(\"file size is zero\")\n",
    "        zero_files_list.append(toa_file_fp)\n",
    "        if (remove_file):\n",
    "            os.remove(toa_file_fp)\n",
    "\n",
    "    elif (os.path.getsize(toa_file_fp) != 8388608.0):\n",
    "        print(\"file size incomplete\")\n",
    "        incomplete_files_list.append(toa_file_fp)\n",
    "        if (remove_file):\n",
    "            os.remove(toa_file_fp)\n",
    "        \n",
    "    else:\n",
    "        continue"
   ]
  },
  {
   "cell_type": "code",
   "execution_count": 8,
   "id": "8de7eebc",
   "metadata": {},
   "outputs": [
    {
     "name": "stdout",
     "output_type": "stream",
     "text": [
      "num of TOA ziro-size files found (&removed): 0\n"
     ]
    }
   ],
   "source": [
    "print(\"num of TOA ziro-size files found (&removed): %d\" %len(zero_files_list))"
   ]
  },
  {
   "cell_type": "code",
   "execution_count": 9,
   "id": "8a964ac7",
   "metadata": {},
   "outputs": [
    {
     "name": "stdout",
     "output_type": "stream",
     "text": [
      "num of TOA incomplete files found (&removed): 0\n"
     ]
    }
   ],
   "source": [
    "print(\"num of TOA incomplete files found (&removed): %d\" %len(incomplete_files_list))"
   ]
  },
  {
   "cell_type": "code",
   "execution_count": 10,
   "id": "e542eb20",
   "metadata": {},
   "outputs": [],
   "source": [
    "for ifile in incomplete_files_list:\n",
    "    print(ifile)\n",
    "    print(os.path.getsize(ifile))"
   ]
  },
  {
   "cell_type": "code",
   "execution_count": 11,
   "id": "1714f27e",
   "metadata": {},
   "outputs": [
    {
     "name": "stdout",
     "output_type": "stream",
     "text": [
      "making parking dir\n"
     ]
    }
   ],
   "source": [
    "parking_zero_files = os.path.join(home_dir,\"parking_zero\")\n",
    "\n",
    "if (not os.path.isdir(parking_zero_files)):\n",
    "    os.mkdir(parking_zero_files)\n",
    "    print(\"making parking dir\")\n",
    "else:\n",
    "    print(\"parking dir exists!\")\n"
   ]
  },
  {
   "cell_type": "code",
   "execution_count": 12,
   "id": "1a35ec89",
   "metadata": {},
   "outputs": [],
   "source": [
    "## move zero file size to another filder\n",
    "for file_iter, zero_file in enumerate(zero_files_list):\n",
    "    \n",
    "    file_label = zero_file.split(\"/\")[-1]\n",
    "    new_file = os.path.join(parking_zero_files, file_label)\n",
    "    shutil.move(zero_file, new_file)\n",
    "    \n",
    "    print(\"moved %d zero files to parking dir\" %file_iter)"
   ]
  },
  {
   "cell_type": "code",
   "execution_count": 13,
   "id": "74a0a87b",
   "metadata": {},
   "outputs": [
    {
     "data": {
      "text/plain": [
       "[]"
      ]
     },
     "execution_count": 13,
     "metadata": {},
     "output_type": "execute_result"
    }
   ],
   "source": [
    "zero_files_list"
   ]
  },
  {
   "cell_type": "code",
   "execution_count": null,
   "id": "2d4c4f8e",
   "metadata": {},
   "outputs": [],
   "source": []
  }
 ],
 "metadata": {
  "kernelspec": {
   "display_name": "Python 3",
   "language": "python",
   "name": "python3"
  },
  "language_info": {
   "codemirror_mode": {
    "name": "ipython",
    "version": 3
   },
   "file_extension": ".py",
   "mimetype": "text/x-python",
   "name": "python",
   "nbconvert_exporter": "python",
   "pygments_lexer": "ipython3",
   "version": "3.6.9"
  }
 },
 "nbformat": 4,
 "nbformat_minor": 5
}
