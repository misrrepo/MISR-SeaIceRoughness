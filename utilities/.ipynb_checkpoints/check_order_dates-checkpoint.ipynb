{
 "cells": [
  {
   "cell_type": "code",
   "execution_count": 1,
   "id": "b4d0512a",
   "metadata": {},
   "outputs": [
    {
     "ename": "ModuleNotFoundError",
     "evalue": "No module named 'MisrToolkit'",
     "output_type": "error",
     "traceback": [
      "\u001b[0;31m---------------------------------------------------------------------------\u001b[0m",
      "\u001b[0;31mModuleNotFoundError\u001b[0m                       Traceback (most recent call last)",
      "\u001b[0;32m/var/folders/0l/r3vc28ks6n99yn157sn20whw0000gn/T/ipykernel_43137/3472846764.py\u001b[0m in \u001b[0;36m<module>\u001b[0;34m\u001b[0m\n\u001b[0;32m----> 1\u001b[0;31m \u001b[0;32mimport\u001b[0m \u001b[0mglob\u001b[0m\u001b[0;34m,\u001b[0m \u001b[0mos\u001b[0m\u001b[0;34m,\u001b[0m \u001b[0mMisrToolkit\u001b[0m \u001b[0;32mas\u001b[0m \u001b[0mMTK\u001b[0m\u001b[0;34m,\u001b[0m \u001b[0mdatetime\u001b[0m \u001b[0;32mas\u001b[0m \u001b[0mdt\u001b[0m\u001b[0;34m,\u001b[0m \u001b[0mshutil\u001b[0m\u001b[0;34m\u001b[0m\u001b[0;34m\u001b[0m\u001b[0m\n\u001b[0m",
      "\u001b[0;31mModuleNotFoundError\u001b[0m: No module named 'MisrToolkit'"
     ]
    }
   ],
   "source": [
    "import glob, os, MisrToolkit as MTK, datetime as dt, shutil"
   ]
  },
  {
   "cell_type": "code",
   "execution_count": 2,
   "id": "bd3cb765",
   "metadata": {},
   "outputs": [],
   "source": [
    "order_dir = '/Volumes/Ehsan-7757225325/2016/april_2016/hdf_files_on_PH'"
   ]
  },
  {
   "cell_type": "code",
   "execution_count": 3,
   "id": "193d419e",
   "metadata": {},
   "outputs": [],
   "source": [
    "file_pattern = 'MISR_AM1_GRP_ELLIPSOID_GM_P**.hdf'"
   ]
  },
  {
   "cell_type": "markdown",
   "id": "a2d97c8f",
   "metadata": {},
   "source": [
    "## will check each hdf file to be in this range"
   ]
  },
  {
   "cell_type": "code",
   "execution_count": 5,
   "id": "c04c2e3e",
   "metadata": {},
   "outputs": [
    {
     "name": "stdout",
     "output_type": "stream",
     "text": [
      "HDF_files_not_in_range_2016_4\n"
     ]
    }
   ],
   "source": [
    "my_year = 2016\n",
    "my_month = 4\n",
    "parking = 'HDF_files_not_in_range_'+str(my_year)+'_'+str(my_month)\n",
    "print(parking)"
   ]
  },
  {
   "cell_type": "code",
   "execution_count": 4,
   "id": "8b16e4ce",
   "metadata": {},
   "outputs": [
    {
     "name": "stdout",
     "output_type": "stream",
     "text": [
      "10\n"
     ]
    }
   ],
   "source": [
    "hdf_file_list = glob.glob(os.path.join(order_dir, file_pattern))\n",
    "print(len(hdf_file_list))"
   ]
  },
  {
   "cell_type": "code",
   "execution_count": 6,
   "id": "dfdefada",
   "metadata": {},
   "outputs": [],
   "source": [
    "# hdf_file = hdf_file_list[0]\n",
    "# print(hdf_file)"
   ]
  },
  {
   "cell_type": "code",
   "execution_count": 7,
   "id": "ca6c1831",
   "metadata": {},
   "outputs": [],
   "source": [
    "# hdf_orbit = '086647'"
   ]
  },
  {
   "cell_type": "code",
   "execution_count": 8,
   "id": "e1ee8647",
   "metadata": {},
   "outputs": [],
   "source": [
    "# hdf_time_range = MTK.orbit_to_time_range(int(hdf_orbit))\n",
    "# print(hdf_time_range)"
   ]
  },
  {
   "cell_type": "code",
   "execution_count": 9,
   "id": "aeb43719",
   "metadata": {},
   "outputs": [],
   "source": [
    "# hdf_year = hdf_time_range[0].split('-')[0]\n",
    "# print(hdf_year)"
   ]
  },
  {
   "cell_type": "code",
   "execution_count": 10,
   "id": "1a578c7b",
   "metadata": {},
   "outputs": [],
   "source": [
    "# hdf_month = hdf_time_range[0].split('-')[1]\n",
    "# print(hdf_month)"
   ]
  },
  {
   "cell_type": "code",
   "execution_count": 11,
   "id": "93031960",
   "metadata": {},
   "outputs": [],
   "source": [
    "hdf_wrong_file_count = 0"
   ]
  },
  {
   "cell_type": "code",
   "execution_count": 12,
   "id": "329f5b33",
   "metadata": {},
   "outputs": [
    {
     "name": "stdout",
     "output_type": "stream",
     "text": [
      "MISR_AM1_GRP_ELLIPSOID_GM_P002_O088165_AN_F03_0024.hdf\n",
      "O088165\n",
      "88165\n",
      "('2016-07-15T14:05:34Z', '2016-07-15T15:44:27Z')\n",
      "2016\n",
      "07\n",
      "MISR_AM1_GRP_ELLIPSOID_GM_P117_O086847_AA_F03_0024.b007-046.f49e0896e.hdf\n",
      "O086847\n",
      "86847\n",
      "('2016-04-16T01:56:17Z', '2016-04-16T03:35:11Z')\n",
      "2016\n",
      "04\n",
      "MISR_AM1_GRP_ELLIPSOID_GM_P116_O086978_DA_F03_0024.b004-046.f49e0896e.hdf\n",
      "O086978\n",
      "86978\n",
      "('2016-04-25T01:50:07Z', '2016-04-25T03:29:00Z')\n",
      "2016\n",
      "04\n",
      "MISR_AM1_GRP_ELLIPSOID_GM_P117_O086847_AF_F03_0024.b007-046.f49e0896e.hdf\n",
      "O086847\n",
      "86847\n",
      "('2016-04-16T01:56:17Z', '2016-04-16T03:35:11Z')\n",
      "2016\n",
      "04\n",
      "MISR_AM1_GRP_ELLIPSOID_GM_P001_O088063_CA_F03_0024.hdf\n",
      "O088063\n",
      "88063\n",
      "('2016-07-08T13:59:23Z', '2016-07-08T15:38:16Z')\n",
      "2016\n",
      "07\n",
      "MISR_AM1_GRP_ELLIPSOID_GM_P001_O088063_AN_F03_0024.hdf\n",
      "O088063\n",
      "88063\n",
      "('2016-07-08T13:59:23Z', '2016-07-08T15:38:16Z')\n",
      "2016\n",
      "07\n",
      "MISR_AM1_GRP_ELLIPSOID_GM_P116_O086978_AN_F03_0024.b004-046.f49e0896e.hdf\n",
      "O086978\n",
      "86978\n",
      "('2016-04-25T01:50:07Z', '2016-04-25T03:29:00Z')\n",
      "2016\n",
      "04\n",
      "MISR_AM1_GRP_ELLIPSOID_GM_P001_O088296_AN_F03_0024.hdf\n",
      "O088296\n",
      "88296\n",
      "('2016-07-24T13:59:23Z', '2016-07-24T15:38:16Z')\n",
      "2016\n",
      "07\n",
      "MISR_AM1_GRP_ELLIPSOID_GM_P001_O088296_CF_F03_0024.hdf\n",
      "O088296\n",
      "88296\n",
      "('2016-07-24T13:59:23Z', '2016-07-24T15:38:16Z')\n",
      "2016\n",
      "07\n",
      "MISR_AM1_GRP_ELLIPSOID_GM_P233_O087029_AN_F03_0024.b003-046.f49e0896e.hdf\n",
      "O087029\n",
      "87029\n",
      "('2016-04-28T13:53:12Z', '2016-04-28T15:32:05Z')\n",
      "2016\n",
      "04\n",
      "wrong/miss-matched hdf files found: 0\n"
     ]
    }
   ],
   "source": [
    "for ifile in range(0, len(hdf_file_list), 1):\n",
    "   \n",
    "    hdf_file_fp = hdf_file_list[ifile]\n",
    "    # extract orbit \n",
    "    hdf_file = hdf_file_fp.split('/')[-1]\n",
    "    print(hdf_file)\n",
    "    \n",
    "    hdf_orbit = hdf_file.split('_')[6] # if O and 0 at the begining, delete them \n",
    "    print(hdf_orbit)\n",
    "    if hdf_orbit.startswith('O'):\n",
    "        hdf_orbit = hdf_orbit[1:]\n",
    "    if hdf_orbit.startswith('0'):\n",
    "        hdf_orbit = hdf_orbit[1:]\n",
    "        print(hdf_orbit)\n",
    "\n",
    "    \n",
    "    hdf_time_range = MTK.orbit_to_time_range(int(hdf_orbit))\n",
    "    print(hdf_time_range)\n",
    "    \n",
    "    hdf_file_year = hdf_time_range[0].split('-')[0]\n",
    "    print(hdf_file_year)\n",
    "    hdf_file_month = hdf_time_range[0].split('-')[1]\n",
    "    print(hdf_file_month)\n",
    "\n",
    "\n",
    "    if (hdf_file_year != str(my_year)) and (hdf_file_month != str(my_month).zfill(2)):\n",
    "\n",
    "        print('WRONG year or month, moving hdf file to parking')\n",
    "        # mkdir if dir not found\n",
    "        parking_dir = os.path.join(order_dir, parking)\n",
    "        if (not os.path.isdir(parking_dir)):\n",
    "            os.mkdir(parking_dir)\n",
    "        # move hdf file to parking\n",
    "        shutil.move(os.path.join(order_dir, hdf_file), os.path.join(parking_dir, hdf_file))\n",
    "        hdf_wrong_file_count = hdf_wrong_file_count+1\n",
    "\n",
    "print('wrong/miss-matched hdf files found: %s' %hdf_wrong_file_count)\n",
    "        \n",
    "\n",
    "\n",
    "#     if (hdf_year == str(my_year)) and (hdf_month == str(my_month).zfill(2)):\n",
    "#         print('year & month match, moving to the next hdf file')\n",
    "\n",
    "#     else:\n",
    "\n",
    "#         print('WRONG year or month, moving hdf file to parking')\n",
    "#         # mkdir if dir not found\n",
    "#         parking_dir = os.path.join(order_dir, parking)\n",
    "#         if (not os.path.isdir(parking_dir)):\n",
    "#             os.mkdir(parking_dir)\n",
    "#         # move hdf file to parking\n",
    "#         shutil.move(os.path.join(order_dir, hdf_file), os.path.join(parking_dir, hdf_file))"
   ]
  },
  {
   "cell_type": "code",
   "execution_count": 13,
   "id": "95298ff9",
   "metadata": {},
   "outputs": [],
   "source": [
    "# # check the first 10 files in the list\n",
    "# for ifile in range(0, len(hdf_file_list), 1):\n",
    "# # for ifile in range(0, 2, 1):\n",
    "\n",
    "#     hdf_file_fp = hdf_file_list[ifile]\n",
    "#     print (hdf_file_fp)\n",
    "#     hdf_file = hdf_file_fp.split('/')[-1]\n",
    "#     print(hdf_file)\n",
    "    \n",
    "#     m = MTK.MtkFile(hdf_file_fp)\n",
    "#     metadateTime = m.time_metadata_read()\n",
    "#     ref_time_list = metadateTime.ref_time\n",
    "# # #     print(ref_time_list[1])\n",
    "# #     print(type(m))\n",
    "# #     del m  # close class object correctly!\n",
    "    \n",
    "#     for itime in range(1, len(ref_time_list),1):\n",
    "        \n",
    "#         time_line = ref_time_list[itime][0]\n",
    "# #         print('printing time-line: %s' %time_line)\n",
    "        \n",
    "#         if len(time_line) == 0:\n",
    "#             print('time line empty, continue')\n",
    "#             continue\n",
    "    \n",
    "#         else:\n",
    "    \n",
    "#             time_data_list = time_line.split()[0].split('-')\n",
    "#             year, month = (time_data_list[0], time_data_list[1])\n",
    "#             print('year: %s, month: %s' % (year, month))        \n",
    "            \n",
    "            \n",
    "#             if (year == str(my_year)) and (month == str(my_month).zfill(2)):\n",
    "#                 print('year & month match, moving to the next hdf file')\n",
    "                \n",
    "#                 # skip to next hdf ile- exit loop\n",
    "#                 print('break: to next HDF file')\n",
    "#                 del m\n",
    "#                 break # to the nest hdf file\n",
    "\n",
    "#             else:\n",
    "                \n",
    "#                 print('WRONG year or month, moving file to parking')\n",
    "#                 # mkdir if dir not found\n",
    "#                 parking_dir = os.path.join(order_dir, parking)\n",
    "#                 if (not os.path.isdir(parking_dir)):\n",
    "#                     os.mkdir(parking_dir)\n",
    "#                 # move hdf file to parking\n",
    "#                 shutil.move(os.path.join(order_dir, hdf_file), os.path.join(parking_dir, hdf_file))\n",
    "                \n",
    "#                 del m\n",
    "\n",
    "\n"
   ]
  },
  {
   "cell_type": "code",
   "execution_count": 14,
   "id": "8896cef1",
   "metadata": {},
   "outputs": [],
   "source": [
    "# hdf_file = hdf_file_list[0]\n",
    "# m = MTK.MtkFile(hdf_file)"
   ]
  },
  {
   "cell_type": "code",
   "execution_count": 15,
   "id": "c7c8e167",
   "metadata": {},
   "outputs": [],
   "source": [
    "# metadateTime = m.time_metadata_read()"
   ]
  },
  {
   "cell_type": "code",
   "execution_count": 16,
   "id": "04191200",
   "metadata": {},
   "outputs": [],
   "source": [
    "# ref_time_list = metadateTime.ref_time"
   ]
  },
  {
   "cell_type": "code",
   "execution_count": 17,
   "id": "f02596c6",
   "metadata": {},
   "outputs": [],
   "source": [
    "# len(ref_time_list)"
   ]
  },
  {
   "cell_type": "code",
   "execution_count": 18,
   "id": "fb937409",
   "metadata": {},
   "outputs": [],
   "source": [
    "# my_year = 2016\n",
    "# my_month = 4\n",
    "# parking = 'HDF_files_not_in_range_'+str(my_year)+'_'+str(my_month)\n",
    "# print(parking)\n",
    "# hdf_file = hdf_file_fp.split('/')[-1]\n",
    "# print(hdf_file)"
   ]
  },
  {
   "cell_type": "code",
   "execution_count": 19,
   "id": "877461ef",
   "metadata": {},
   "outputs": [],
   "source": [
    "# for itime in range(0, len(ref_time_list),1):\n",
    "\n",
    "# # for ifile in range(0, 12,1):\n",
    "\n",
    "#     time_line = ref_time_list[itime][0]\n",
    "\n",
    "#     if len(time_line) == 0:\n",
    "#         continue\n",
    "#     else:\n",
    "#         time_data_list = time_line.split()[0].split('-')\n",
    "#         year, month = (time_data_list[0], time_data_list[1])\n",
    "#         print('year: %s, month: %s' % (year, month))\n",
    "#         if (year != my_year) or (month != my_month):\n",
    "#             print('wrong year or month, moving file to parking folder')\n",
    "#             # mkdir if dir not found\n",
    "#             parking_dir = os.path.join(order_dir, parking)\n",
    "#             if (not os.path.isdir(parking_dir)):\n",
    "#                 os.mkdir(parking_dir)\n",
    "#             else:\n",
    "#                 # move hdf file to parking\n",
    "#                 shutil.move(order_dir+hdf_file, parking_dir+hdf_file)\n",
    "            \n",
    "#                 # skip to next hdf ile- exit loop\n",
    "#                 print('break to next HDF file')\n",
    "#                 break \n",
    "            \n"
   ]
  },
  {
   "cell_type": "code",
   "execution_count": 20,
   "id": "deff3476",
   "metadata": {},
   "outputs": [],
   "source": [
    "# check date of each HDF file using MTK library\n",
    "\n",
    "# extract date-time for each file\n",
    "\n",
    "# if date-time not in my desired range:\n",
    "    # move the file w/wrong date-time to a subfolder [check if directory exists]\n",
    "    "
   ]
  },
  {
   "cell_type": "code",
   "execution_count": null,
   "id": "e3d9489f",
   "metadata": {},
   "outputs": [],
   "source": []
  }
 ],
 "metadata": {
  "kernelspec": {
   "display_name": "Python 3 (ipykernel)",
   "language": "python",
   "name": "python3"
  },
  "language_info": {
   "codemirror_mode": {
    "name": "ipython",
    "version": 3
   },
   "file_extension": ".py",
   "mimetype": "text/x-python",
   "name": "python",
   "nbconvert_exporter": "python",
   "pygments_lexer": "ipython3",
   "version": "3.9.7"
  }
 },
 "nbformat": 4,
 "nbformat_minor": 5
}
