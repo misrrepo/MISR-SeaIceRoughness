{
 "cells": [
  {
   "cell_type": "code",
   "execution_count": 2,
   "id": "ddab95d4",
   "metadata": {},
   "outputs": [],
   "source": [
    "# use code with python 3.6- virtual env in conda\n",
    "\n",
    "import MisrToolkit as mtk\n",
    "from MisrToolkit import *"
   ]
  },
  {
   "cell_type": "code",
   "execution_count": 5,
   "id": "c86f9257",
   "metadata": {},
   "outputs": [],
   "source": [
    "# Given start time and end time return list of orbits. Time format: YYYY-MM-DDThh:mm:ssZ (ISO 8601)\n",
    "start='2016-04-21T00:00:00Z' \n",
    "end='2016-04-21T23:59:59Z' "
   ]
  },
  {
   "cell_type": "code",
   "execution_count": 6,
   "id": "7e96e31b",
   "metadata": {},
   "outputs": [
    {
     "data": {
      "text/plain": [
       "[86918,\n",
       " 86919,\n",
       " 86920,\n",
       " 86921,\n",
       " 86922,\n",
       " 86923,\n",
       " 86924,\n",
       " 86925,\n",
       " 86926,\n",
       " 86927,\n",
       " 86928,\n",
       " 86929,\n",
       " 86930,\n",
       " 86931,\n",
       " 86932,\n",
       " 86933]"
      ]
     },
     "execution_count": 6,
     "metadata": {},
     "output_type": "execute_result"
    }
   ],
   "source": [
    "orbit_list = time_range_to_orbit_list(start, end)\n",
    "orbit_list"
   ]
  },
  {
   "cell_type": "code",
   "execution_count": 7,
   "id": "d1f29736",
   "metadata": {},
   "outputs": [
    {
     "data": {
      "text/plain": [
       "16"
      ]
     },
     "execution_count": 7,
     "metadata": {},
     "output_type": "execute_result"
    }
   ],
   "source": [
    "len(orbit_list)"
   ]
  },
  {
   "cell_type": "code",
   "execution_count": 8,
   "id": "83231c3f",
   "metadata": {},
   "outputs": [
    {
     "data": {
      "text/plain": [
       "[88, 104, 120, 136, 152, 168, 184, 200, 216, 232, 15, 31, 47, 63, 79, 95]"
      ]
     },
     "execution_count": 8,
     "metadata": {},
     "output_type": "execute_result"
    }
   ],
   "source": [
    "path_list = []\n",
    "for iorbit in orbit_list:\n",
    "    path_list.append(orbit_to_path(iorbit))\n",
    "    \n",
    "path_list"
   ]
  },
  {
   "cell_type": "code",
   "execution_count": 9,
   "id": "434b842a",
   "metadata": {},
   "outputs": [
    {
     "data": {
      "text/plain": [
       "16"
      ]
     },
     "execution_count": 9,
     "metadata": {},
     "output_type": "execute_result"
    }
   ],
   "source": [
    "len(path_list)"
   ]
  },
  {
   "cell_type": "code",
   "execution_count": null,
   "id": "f39f2a41",
   "metadata": {},
   "outputs": [],
   "source": []
  },
  {
   "cell_type": "code",
   "execution_count": null,
   "id": "7c8a4d71",
   "metadata": {},
   "outputs": [],
   "source": []
  },
  {
   "cell_type": "code",
   "execution_count": null,
   "id": "8f82e715",
   "metadata": {},
   "outputs": [],
   "source": []
  }
 ],
 "metadata": {
  "kernelspec": {
   "display_name": "Python 3",
   "language": "python",
   "name": "python3"
  },
  "language_info": {
   "codemirror_mode": {
    "name": "ipython",
    "version": 3
   },
   "file_extension": ".py",
   "mimetype": "text/x-python",
   "name": "python",
   "nbconvert_exporter": "python",
   "pygments_lexer": "ipython3",
   "version": "3.6.13"
  }
 },
 "nbformat": 4,
 "nbformat_minor": 5
}
