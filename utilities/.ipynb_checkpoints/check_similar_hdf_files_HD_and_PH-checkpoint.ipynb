{
 "cells": [
  {
   "cell_type": "code",
   "execution_count": 9,
   "id": "f80e877f",
   "metadata": {},
   "outputs": [],
   "source": [
    "import os, glob, pandas as pd"
   ]
  },
  {
   "cell_type": "code",
   "execution_count": 3,
   "id": "b6ac8c96",
   "metadata": {},
   "outputs": [],
   "source": [
    "src_dir = \"/data/gpfs/assoc/misr_roughness/2016/july_2016/hdf_downloaded/july_2016_3cams\"\n",
    "output_dir = \"/Users/ehsanmos/Documents/MISR/MISR-SeaIceRoughness/utilities\"\n"
   ]
  },
  {
   "cell_type": "code",
   "execution_count": 6,
   "id": "6ae7d00a",
   "metadata": {},
   "outputs": [],
   "source": [
    "# make a list \n",
    "hdf_file_pattern = \"MISR_AM1_GRP_ELLIPSOID_GM*\"\n",
    "hdf_found_list = glob.glob(os.path.join(src_dir, hdf_file_pattern))"
   ]
  },
  {
   "cell_type": "code",
   "execution_count": 8,
   "id": "66dd4ca6",
   "metadata": {},
   "outputs": [
    {
     "data": {
      "text/plain": [
       "1321"
      ]
     },
     "execution_count": 8,
     "metadata": {},
     "output_type": "execute_result"
    }
   ],
   "source": [
    "len(hdf_found_list)"
   ]
  },
  {
   "cell_type": "code",
   "execution_count": 18,
   "id": "d1aff093",
   "metadata": {},
   "outputs": [
    {
     "name": "stdout",
     "output_type": "stream",
     "text": [
      "/Volumes/Ehsan-7757225325/2016/july_2016_old_review_later/ellipsoid_files/elliposid_files_used_for_mapping/list_of_hdf_on_HD.csv\n"
     ]
    }
   ],
   "source": [
    "# write a CSV file\n",
    "output_csv_label = \"list_of_hdf_files_on_PH.csv\"\n",
    "output_file_fp = os.path.join(output_dir, output_csv_label)\n",
    "\n",
    "pd.DataFrame(hdf_found_list).to_csv(output_file_fp, index=False, header=False)\n",
    "print(output_file_fp)"
   ]
  },
  {
   "cell_type": "code",
   "execution_count": null,
   "id": "c4617360",
   "metadata": {},
   "outputs": [],
   "source": []
  }
 ],
 "metadata": {
  "kernelspec": {
   "display_name": "Python 3 (ipykernel)",
   "language": "python",
   "name": "python3"
  },
  "language_info": {
   "codemirror_mode": {
    "name": "ipython",
    "version": 3
   },
   "file_extension": ".py",
   "mimetype": "text/x-python",
   "name": "python",
   "nbconvert_exporter": "python",
   "pygments_lexer": "ipython3",
   "version": "3.9.7"
  }
 },
 "nbformat": 4,
 "nbformat_minor": 5
}
