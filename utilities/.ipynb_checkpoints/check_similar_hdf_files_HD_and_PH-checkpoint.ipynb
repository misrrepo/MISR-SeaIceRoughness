{
 "cells": [
  {
   "cell_type": "code",
   "execution_count": 1,
   "id": "3288c0c0",
   "metadata": {},
   "outputs": [],
   "source": [
    "import os, glob, pandas as pd"
   ]
  },
  {
   "cell_type": "markdown",
   "id": "4ac7acf5",
   "metadata": {},
   "source": [
    "## make a list of hdf files on PH"
   ]
  },
  {
   "cell_type": "code",
   "execution_count": 2,
   "id": "7fb48f81",
   "metadata": {},
   "outputs": [],
   "source": [
    "# src_PH_dir = \"/data/gpfs/assoc/misr_roughness/2016/july_2016/hdf_downloaded/july_2016_3cams\"\n",
    "# output_dir = \"/Users/ehsanmos/Documents/MISR/MISR-SeaIceRoughness/utilities\"\n",
    "\n",
    "\n",
    "# # make a list \n",
    "# hdf_file_pattern = \"MISR_AM1_GRP_ELLIPSOID_GM*\"\n",
    "# hdf_found_list = glob.glob(os.path.join(src_dir, hdf_file_pattern))\n",
    "\n",
    "\n",
    "# # write a CSV file\n",
    "# output_csv_label = \"list_of_hdf_files_on_PH.csv\"\n",
    "# output_file_fp = os.path.join(output_dir, output_csv_label)\n",
    "\n",
    "# pd.DataFrame(hdf_found_list).to_csv(output_file_fp, index=False, header=False)\n",
    "# print(output_file_fp)\n"
   ]
  },
  {
   "cell_type": "code",
   "execution_count": 3,
   "id": "943c3309",
   "metadata": {},
   "outputs": [
    {
     "data": {
      "text/plain": [
       "1321"
      ]
     },
     "execution_count": 3,
     "metadata": {},
     "output_type": "execute_result"
    }
   ],
   "source": [
    "# make list of hdf files on external hard-drive\n",
    "\n",
    "src_HD_dir = \"/Volumes/Ehsan-7757225325/2016/july_2016_old_review_later/ellipsoid_files/elliposid_files_used_for_mapping\"\n",
    "\n",
    "hdf_file_pattern = \"MISR_AM1_GRP_ELLIPSOID_GM*\"\n",
    "\n",
    "hdf_on_HD_list = glob.glob(os.path.join(src_HD_dir, hdf_file_pattern))\n",
    "\n",
    "\n",
    "hdf_on_harddrive_list = []\n",
    "for hdf_file in hdf_on_HD_list:\n",
    "    hdf_on_harddrive_list.append(hdf_file.split('/')[-1])\n",
    "    \n",
    "len(hdf_on_harddrive_list)\n"
   ]
  },
  {
   "cell_type": "code",
   "execution_count": 4,
   "id": "5094aa6e",
   "metadata": {},
   "outputs": [],
   "source": [
    "# open csv list file\n",
    "\n",
    "hdf_list_PH_csv_fp = \"/Users/ehsanmos/Documents/MISR/MISR-SeaIceRoughness/utilities/list_of_hdf_files_on_PH.csv\"\n"
   ]
  },
  {
   "cell_type": "code",
   "execution_count": 5,
   "id": "98e7c2b8",
   "metadata": {},
   "outputs": [],
   "source": [
    "hdf_on_PH_list_2d = pd.read_csv(hdf_list_PH_csv_fp, header=None).values.tolist()"
   ]
  },
  {
   "cell_type": "code",
   "execution_count": 6,
   "id": "e47068ec",
   "metadata": {},
   "outputs": [],
   "source": [
    "hdf_on_PH_list = []\n",
    "for hdf_ph in hdf_on_PH_list_2d:\n",
    "    hdf_on_PH_list.append(hdf_ph[0].split('/')[-1])\n",
    "\n",
    "# hdf_on_PH_list"
   ]
  },
  {
   "cell_type": "code",
   "execution_count": 10,
   "id": "d96deb65",
   "metadata": {},
   "outputs": [
    {
     "data": {
      "text/plain": [
       "0"
      ]
     },
     "execution_count": 10,
     "metadata": {},
     "output_type": "execute_result"
    }
   ],
   "source": [
    "# compare files on HD against list of files on PH to check if local file is available on PH\n",
    "\n",
    "hdf_onHD_notonPH = []\n",
    "\n",
    "for hdf_on_HD in hdf_on_harddrive_list:\n",
    "    if (hdf_on_HD not in hdf_on_PH_list):\n",
    "        hdf_onHD_notonPH.append(hdf_on_HD)\n",
    "\n",
    "len(hdf_onHD_notonPH)\n",
    "\n",
    "    \n",
    "#     hdffile_on_PH = hdf_on_PH_list.iloc[hdf_cntr].to_list()[0].split('/')[-1]\n",
    "# #     print(hdf_avail_on_PH)\n",
    "#     if (hdffile_on_PH not in hdf_on_harddrive_list):\n",
    "#         print('not found')\n",
    "#         hdf_list_not_found_on_PH.append(hdffile_on_PH)\n",
    "        "
   ]
  },
  {
   "cell_type": "code",
   "execution_count": null,
   "id": "8090128d",
   "metadata": {},
   "outputs": [],
   "source": []
  },
  {
   "cell_type": "code",
   "execution_count": null,
   "id": "cd0365a7",
   "metadata": {},
   "outputs": [],
   "source": []
  },
  {
   "cell_type": "code",
   "execution_count": null,
   "id": "d1af1260",
   "metadata": {},
   "outputs": [],
   "source": []
  }
 ],
 "metadata": {
  "kernelspec": {
   "display_name": "Python 3 (ipykernel)",
   "language": "python",
   "name": "python3"
  },
  "language_info": {
   "codemirror_mode": {
    "name": "ipython",
    "version": 3
   },
   "file_extension": ".py",
   "mimetype": "text/x-python",
   "name": "python",
   "nbconvert_exporter": "python",
   "pygments_lexer": "ipython3",
   "version": "3.9.7"
  }
 },
 "nbformat": 4,
 "nbformat_minor": 5
}
