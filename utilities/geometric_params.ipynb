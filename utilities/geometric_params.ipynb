{
 "cells": [
  {
   "cell_type": "code",
   "execution_count": 17,
   "id": "af52ba92",
   "metadata": {},
   "outputs": [],
   "source": [
    "import MisrToolkit as mtk\n",
    "from MisrToolkit import *"
   ]
  },
  {
   "cell_type": "code",
   "execution_count": 18,
   "id": "17a74149",
   "metadata": {},
   "outputs": [],
   "source": [
    "gp_fp = '/Users/ehsanmos/MLP_dataset/geometric_params/july_2016/MISR_AM1_GP_GMP_P094_O088229_F03_0013.hdf'"
   ]
  },
  {
   "cell_type": "code",
   "execution_count": 19,
   "id": "4144e7b6",
   "metadata": {},
   "outputs": [],
   "source": [
    "input_hdf = MtkFile(gp_fp)"
   ]
  },
  {
   "cell_type": "code",
   "execution_count": 20,
   "id": "e5042616",
   "metadata": {},
   "outputs": [
    {
     "data": {
      "text/plain": [
       "(1, 142)"
      ]
     },
     "execution_count": 20,
     "metadata": {},
     "output_type": "execute_result"
    }
   ],
   "source": [
    "input_hdf.block"
   ]
  },
  {
   "cell_type": "code",
   "execution_count": 21,
   "id": "f1b863f8",
   "metadata": {},
   "outputs": [
    {
     "data": {
      "text/plain": [
       "MisrToolkit.MtkRegion"
      ]
     },
     "execution_count": 21,
     "metadata": {},
     "output_type": "execute_result"
    }
   ],
   "source": [
    "region1 = MtkRegion(94, 30, 30)\n",
    "type(region1)"
   ]
  },
  {
   "cell_type": "code",
   "execution_count": 22,
   "id": "2af3bf05",
   "metadata": {},
   "outputs": [
    {
     "data": {
      "text/plain": [
       "['GeometricParameters']"
      ]
     },
     "execution_count": 22,
     "metadata": {},
     "output_type": "execute_result"
    }
   ],
   "source": [
    "input_hdf.grid_list"
   ]
  },
  {
   "cell_type": "code",
   "execution_count": 23,
   "id": "310c58e0",
   "metadata": {},
   "outputs": [],
   "source": [
    "# input_hdf.field_list"
   ]
  },
  {
   "cell_type": "code",
   "execution_count": 24,
   "id": "264b1d86",
   "metadata": {},
   "outputs": [],
   "source": [
    "grid = MtkFile(gp_fp)"
   ]
  },
  {
   "cell_type": "code",
   "execution_count": 25,
   "id": "c6e6e4b2",
   "metadata": {},
   "outputs": [
    {
     "data": {
      "text/plain": [
       "['GeometricParameters']"
      ]
     },
     "execution_count": 25,
     "metadata": {},
     "output_type": "execute_result"
    }
   ],
   "source": [
    "grid.grid_list"
   ]
  },
  {
   "cell_type": "code",
   "execution_count": 33,
   "id": "5504a610",
   "metadata": {},
   "outputs": [
    {
     "data": {
      "text/plain": [
       "['SolarAzimuth',\n",
       " 'SolarZenith',\n",
       " 'DfAzimuth',\n",
       " 'DfZenith',\n",
       " 'DfScatter',\n",
       " 'DfGlitter',\n",
       " 'CfAzimuth',\n",
       " 'CfZenith',\n",
       " 'CfScatter',\n",
       " 'CfGlitter',\n",
       " 'BfAzimuth',\n",
       " 'BfZenith',\n",
       " 'BfScatter',\n",
       " 'BfGlitter',\n",
       " 'AfAzimuth',\n",
       " 'AfZenith',\n",
       " 'AfScatter',\n",
       " 'AfGlitter',\n",
       " 'AnAzimuth',\n",
       " 'AnZenith',\n",
       " 'AnScatter',\n",
       " 'AnGlitter',\n",
       " 'AaAzimuth',\n",
       " 'AaZenith',\n",
       " 'AaScatter',\n",
       " 'AaGlitter',\n",
       " 'BaAzimuth',\n",
       " 'BaZenith',\n",
       " 'BaScatter',\n",
       " 'BaGlitter',\n",
       " 'CaAzimuth',\n",
       " 'CaZenith',\n",
       " 'CaScatter',\n",
       " 'CaGlitter',\n",
       " 'DaAzimuth',\n",
       " 'DaZenith',\n",
       " 'DaScatter',\n",
       " 'DaGlitter']"
      ]
     },
     "execution_count": 33,
     "metadata": {},
     "output_type": "execute_result"
    }
   ],
   "source": [
    "input_hdf.grid('GeometricParameters').field_list"
   ]
  },
  {
   "cell_type": "code",
   "execution_count": 37,
   "id": "7684a5e9",
   "metadata": {},
   "outputs": [],
   "source": [
    "p94_b30_solarazimuth = input_hdf.grid('GeometricParameters').field('SolarAzimuth').read(region1).data()"
   ]
  },
  {
   "cell_type": "code",
   "execution_count": 43,
   "id": "23dd0cfe",
   "metadata": {},
   "outputs": [
    {
     "data": {
      "text/plain": [
       "(8, 32)"
      ]
     },
     "execution_count": 43,
     "metadata": {},
     "output_type": "execute_result"
    }
   ],
   "source": [
    "p94_b30_solarazimuth.shape"
   ]
  },
  {
   "cell_type": "code",
   "execution_count": 55,
   "id": "73ced936",
   "metadata": {},
   "outputs": [
    {
     "data": {
      "text/plain": [
       "358.63931186405597"
      ]
     },
     "execution_count": 55,
     "metadata": {},
     "output_type": "execute_result"
    }
   ],
   "source": [
    "p94_b30_solarazimuth[0,0]"
   ]
  },
  {
   "cell_type": "code",
   "execution_count": 56,
   "id": "ceeb8b7c",
   "metadata": {},
   "outputs": [
    {
     "data": {
      "text/plain": [
       "54.975504683212726"
      ]
     },
     "execution_count": 56,
     "metadata": {},
     "output_type": "execute_result"
    }
   ],
   "source": [
    "p94_b30_solarzenith = input_hdf.grid('GeometricParameters').field('SolarZenith').read(region1).data()\n",
    "p94_b30_solarzenith[0,0]"
   ]
  },
  {
   "cell_type": "code",
   "execution_count": 57,
   "id": "aa8527e0",
   "metadata": {},
   "outputs": [
    {
     "data": {
      "text/plain": [
       "34.71329763054737"
      ]
     },
     "execution_count": 57,
     "metadata": {},
     "output_type": "execute_result"
    }
   ],
   "source": [
    "df_azimuth = input_hdf.grid('GeometricParameters').field('DfAzimuth').read(region1).data()\n",
    "df_azimuth[0,0]"
   ]
  },
  {
   "cell_type": "code",
   "execution_count": 60,
   "id": "cf9244de",
   "metadata": {},
   "outputs": [
    {
     "data": {
      "text/plain": [
       "71.34522024349579"
      ]
     },
     "execution_count": 60,
     "metadata": {},
     "output_type": "execute_result"
    }
   ],
   "source": [
    "df_zenith = input_hdf.grid('GeometricParameters').field('DfZenith').read(region1).data()\n",
    "df_zenith[0,0]"
   ]
  },
  {
   "cell_type": "code",
   "execution_count": null,
   "id": "f4a5e5e9",
   "metadata": {},
   "outputs": [],
   "source": []
  }
 ],
 "metadata": {
  "kernelspec": {
   "display_name": "Python 3",
   "language": "python",
   "name": "python3"
  },
  "language_info": {
   "codemirror_mode": {
    "name": "ipython",
    "version": 3
   },
   "file_extension": ".py",
   "mimetype": "text/x-python",
   "name": "python",
   "nbconvert_exporter": "python",
   "pygments_lexer": "ipython3",
   "version": "3.6.13"
  }
 },
 "nbformat": 4,
 "nbformat_minor": 5
}
