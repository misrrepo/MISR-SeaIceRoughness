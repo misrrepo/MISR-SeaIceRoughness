{
 "cells": [
  {
   "cell_type": "code",
   "execution_count": 1,
   "id": "dda2714d",
   "metadata": {},
   "outputs": [],
   "source": [
    "import rasterio, os, glob, shutil, pyproj\n",
    "from rasterio.windows import Window\n",
    "from pyproj import Transformer"
   ]
  },
  {
   "cell_type": "markdown",
   "id": "92c8e8da",
   "metadata": {},
   "source": [
    "### How to use this code\n",
    "\n",
    "first find the coordinates of the point of interest inside QGIS. decide the EPSG code. then run this code and find the blocks that POI falls inside them"
   ]
  },
  {
   "cell_type": "code",
   "execution_count": 2,
   "id": "b15eb682",
   "metadata": {},
   "outputs": [],
   "source": [
    "# find lat-lon inside block and use it here\n",
    "\n",
    "# location of small island north of Greenland for 16/july/2016\n",
    "lat = -809888  # X in QGIS\n",
    "lon = -303799 # Y in QGIS\n"
   ]
  },
  {
   "cell_type": "code",
   "execution_count": 3,
   "id": "fe699fb3",
   "metadata": {},
   "outputs": [],
   "source": [
    "# where all polar raster blocks are\n",
    "\n",
    "home_dir = \"/data/gpfs/assoc/misr_roughness/2016/july_2016/predict_roughness_k_zero_npts_10/roughness_subdir_2016_7_16/2016_7_rasters_noDataNeg99_TiffFileFloat64_max_geographicalMesh_withLatLonList\"\n",
    "\n"
   ]
  },
  {
   "cell_type": "code",
   "execution_count": 4,
   "id": "92acf1e0",
   "metadata": {},
   "outputs": [
    {
     "data": {
      "text/plain": [
       "True"
      ]
     },
     "execution_count": 4,
     "metadata": {},
     "output_type": "execute_result"
    }
   ],
   "source": [
    "os.path.isdir(home_dir)"
   ]
  },
  {
   "cell_type": "code",
   "execution_count": 5,
   "id": "5ccb6f6b",
   "metadata": {},
   "outputs": [],
   "source": [
    "# with rasterio.open(path) as rds:\n",
    "#     # convert coordinate to raster projection\n",
    "#     transformer = Transformer.from_crs(\"EPSG:3995\", rds.crs, always_xy=True)\n",
    "#     xx, yy = transformer.transform(lon, lat)\n",
    "#     row, col = rds.index(xx, yy)\n",
    "#     print('row: %s, col: %s' %(row,col))\n",
    "# #     window = Window.from_slices(rows=(row-2, row+2), cols=(col-2, col+2))\n",
    "# #     data = rds.read(window=window)"
   ]
  },
  {
   "cell_type": "code",
   "execution_count": 6,
   "id": "b4a226cb",
   "metadata": {},
   "outputs": [],
   "source": [
    "# dataset = rasterio.open(path)"
   ]
  },
  {
   "cell_type": "code",
   "execution_count": 7,
   "id": "ad13ccc0",
   "metadata": {},
   "outputs": [],
   "source": [
    "# dataset.bounds"
   ]
  },
  {
   "cell_type": "code",
   "execution_count": 8,
   "id": "469b5195",
   "metadata": {},
   "outputs": [
    {
     "data": {
      "text/plain": [
       "14"
      ]
     },
     "execution_count": 8,
     "metadata": {},
     "output_type": "execute_result"
    }
   ],
   "source": [
    "file_pattern = 'raster_path*_3995.tif'\n",
    "rasters_list = glob.glob(os.path.join(home_dir, file_pattern))\n",
    "len(rasters_list)"
   ]
  },
  {
   "cell_type": "code",
   "execution_count": 10,
   "id": "1c1255ef",
   "metadata": {},
   "outputs": [
    {
     "name": "stdout",
     "output_type": "stream",
     "text": [
      "target dir exists!\n"
     ]
    }
   ],
   "source": [
    "# create a directory inside home-dir\n",
    "target_dir_name = 'blocks_covering_my_point' \n",
    "target_dir_fp = os.path.join(home_dir, target_dir_name)\n",
    "if (os.path.isdir(target_dir_fp) == False):\n",
    "    print('target directory NOT exist, making it...')\n",
    "    os.mkdir(target_dir_fp)\n",
    "else:\n",
    "    print('target dir exists!')"
   ]
  },
  {
   "cell_type": "code",
   "execution_count": 11,
   "id": "da7d47ec",
   "metadata": {},
   "outputs": [
    {
     "name": "stdout",
     "output_type": "stream",
     "text": [
      "point is inside block\n",
      "moving file: 2\n",
      "point is inside block\n",
      "moving file: 3\n",
      "point is inside block\n",
      "moving file: 4\n",
      "point is inside block\n",
      "moving file: 7\n",
      "point is inside block\n",
      "moving file: 9\n",
      "point is inside block\n",
      "moving file: 10\n",
      "point is inside block\n",
      "moving file: 11\n",
      "point is inside block\n",
      "moving file: 12\n"
     ]
    }
   ],
   "source": [
    "for src_counter , src_file_fp in enumerate(rasters_list):\n",
    "    # open files\n",
    "#     dataset = rasterio.open(src_file_fp)\n",
    "    with rasterio.open(src_file_fp) as dataset:\n",
    "        # find edges\n",
    "        #left edge\n",
    "        leftlon = dataset.bounds[0]\n",
    "        #bottom edge\n",
    "        bottomlat = dataset.bounds[1]\n",
    "        #right edge\n",
    "        rightlon = dataset.bounds[2]\n",
    "        #top edge\n",
    "        toplat = dataset.bounds[3]\n",
    "\n",
    "        # decide\n",
    "        if (bottomlat < lat < toplat) and (leftlon < lon < rightlon):\n",
    "            print('point is inside block')\n",
    "            #### move these blocks inside target directory and then mosaic them\n",
    "            ##- move files from src dir to target dir\n",
    "            print('moving file: %s' %src_counter)\n",
    "            shutil.move(src_file_fp, target_dir_fp)\n",
    "\n"
   ]
  },
  {
   "cell_type": "code",
   "execution_count": null,
   "id": "8f8729bf",
   "metadata": {},
   "outputs": [],
   "source": []
  }
 ],
 "metadata": {
  "kernelspec": {
   "display_name": "Python 3 (ipykernel)",
   "language": "python",
   "name": "python3"
  },
  "language_info": {
   "codemirror_mode": {
    "name": "ipython",
    "version": 3
   },
   "file_extension": ".py",
   "mimetype": "text/x-python",
   "name": "python",
   "nbconvert_exporter": "python",
   "pygments_lexer": "ipython3",
   "version": "3.9.13"
  }
 },
 "nbformat": 4,
 "nbformat_minor": 5
}
