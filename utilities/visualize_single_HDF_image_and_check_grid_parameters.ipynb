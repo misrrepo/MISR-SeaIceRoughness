{
 "cells": [
  {
   "cell_type": "code",
   "execution_count": 1,
   "id": "8a000d45",
   "metadata": {},
   "outputs": [],
   "source": [
    "import MisrToolkit as Mtk\n",
    "from MisrToolkit import *\n",
    "import os\n",
    "import pandas as pd\n",
    "import numpy as np\n",
    "from matplotlib import image as pltimg, pyplot as plt  #  pyplot uses the actual RGB values as they are, more accurate than PIL\n"
   ]
  },
  {
   "cell_type": "code",
   "execution_count": 2,
   "id": "22047129",
   "metadata": {},
   "outputs": [],
   "source": [
    "def find_unique_pob(atmmodel_file_fp, list_of_columns):\n",
    "    \n",
    "    print('input file found: %s' %(os.path.isfile(atmmodel_file_fp)))\n",
    "    in_csv_df = pd.read_csv(atmmodel_file_fp)\n",
    "    print(in_csv_df.columns)\n",
    "    pob_unique = in_csv_df.drop_duplicates(subset=list_of_columns, keep='first', ignore_index=False)\n",
    "    pob_unique.info()\n",
    "    \n",
    "    return pob_unique"
   ]
  },
  {
   "cell_type": "code",
   "execution_count": 3,
   "id": "ed520e36",
   "metadata": {},
   "outputs": [],
   "source": [
    "# from matplotlib import image as pltimg, pyplot as plt  #  pyplot uses the actual RGB values as they are, more accurate than PIL\n",
    "\n",
    "def plot_here_and_write(in_arr, img_dir):\n",
    "    write_mode = 0\n",
    "    img_label = 'path_'+path_num+'_'+'blocks_'+str(start_block)+'_'+str(end_block)+'_cam_'+cam\n",
    "    img_format = \".jpg\"\n",
    "    %matplotlib inline \n",
    "\n",
    "    plt.gray() # This will show the images in grayscale as default\n",
    "\n",
    "    plt.figure(figsize=(30,30))  # set the figure size\n",
    "\n",
    "    plt.imshow(in_arr)\n",
    "    plt.show()\n",
    "    \n",
    "    if (write_mode):\n",
    "        print('save mode: on, we write images to disc')\n",
    "        \n",
    "        out_img = img_label+img_format\n",
    "        out_img_fullpath = os.path.join(img_dir, out_img)\n",
    "        print(\"-> output img is: %s\" %out_img_fullpath)\n",
    "        pltimg.imsave(out_img_fullpath, in_arr)\n",
    "        #     plt.savefig(out_img)\n",
    "    \n",
    "    return 0"
   ]
  },
  {
   "cell_type": "markdown",
   "id": "2e438108",
   "metadata": {},
   "source": [
    "## set up hdf file directory"
   ]
  },
  {
   "cell_type": "code",
   "execution_count": 9,
   "id": "4e60dfe4",
   "metadata": {},
   "outputs": [],
   "source": [
    "# hdf_dir = \"/Volumes/SEAGATE/april_2016/hdf_from_PH/move_to_Mac\"\n",
    "# hdf_dir = \"/Volumes/SEAGATE/april_2016/hdf_from_PH/move_to_Mac\"\n",
    "# hdf_dir = \"/Volumes/Ehsan-7757225325/2016/july_2016/ellipsoid_files/elliposid_files_used_for_mapping\"\n",
    "\n",
    "hdf_dir = \"/Volumes/Ehsan-7757225325/2016/april_2016/hdf_files_April2016_from_PH\"\n",
    "# hdf_dir = \"/Volumes/Ehsan-7757225325/2016/july_2016/ellipsoid_files/elliposid_files_used_for_mapping\"\n",
    "# hdf_file = \"MISR_AM1_GRP_ELLIPSOID_GM_P\"+path_num+\"_O0\"+str(orbit_num)+\"_\"+cam+\"_F03_0024.hdf\""
   ]
  },
  {
   "cell_type": "code",
   "execution_count": 10,
   "id": "44fca8e0",
   "metadata": {},
   "outputs": [],
   "source": [
    "path_num = '157'\n",
    "orbit_num = 88131\n",
    "start_block = 10\n",
    "end_block = 10\n",
    "corners_for_block = 23\n",
    "cam = \"AN\"\n"
   ]
  },
  {
   "cell_type": "code",
   "execution_count": 11,
   "id": "21491949",
   "metadata": {},
   "outputs": [
    {
     "data": {
      "text/plain": [
       "False"
      ]
     },
     "execution_count": 11,
     "metadata": {},
     "output_type": "execute_result"
    }
   ],
   "source": [
    "hdf_file_label = \"MISR_AM1_GRP_ELLIPSOID_GM_P233_O086796_CF_F03_0024.hdf\"\n",
    "hdf_file_fp = os.path.join(hdf_dir, hdf_file_label)\n",
    "\n",
    "os.path.isfile(hdf_file_fp)"
   ]
  },
  {
   "cell_type": "code",
   "execution_count": 12,
   "id": "4c56df20",
   "metadata": {},
   "outputs": [
    {
     "ename": "NameError",
     "evalue": "name 'hdf_file' is not defined",
     "output_type": "error",
     "traceback": [
      "\u001b[0;31m---------------------------------------------------------------------------\u001b[0m",
      "\u001b[0;31mNameError\u001b[0m                                 Traceback (most recent call last)",
      "\u001b[0;32m<ipython-input-12-ee9fc227f550>\u001b[0m in \u001b[0;36m<module>\u001b[0;34m\u001b[0m\n\u001b[0;32m----> 1\u001b[0;31m \u001b[0mhdf_file_fp\u001b[0m \u001b[0;34m=\u001b[0m \u001b[0mos\u001b[0m\u001b[0;34m.\u001b[0m\u001b[0mpath\u001b[0m\u001b[0;34m.\u001b[0m\u001b[0mjoin\u001b[0m\u001b[0;34m(\u001b[0m\u001b[0mhdf_dir\u001b[0m\u001b[0;34m,\u001b[0m\u001b[0mhdf_file\u001b[0m\u001b[0;34m)\u001b[0m\u001b[0;34m\u001b[0m\u001b[0;34m\u001b[0m\u001b[0m\n\u001b[0m\u001b[1;32m      2\u001b[0m \u001b[0mprint\u001b[0m\u001b[0;34m(\u001b[0m\u001b[0mos\u001b[0m\u001b[0;34m.\u001b[0m\u001b[0mpath\u001b[0m\u001b[0;34m.\u001b[0m\u001b[0misfile\u001b[0m\u001b[0;34m(\u001b[0m\u001b[0mhdf_file_fp\u001b[0m\u001b[0;34m)\u001b[0m\u001b[0;34m)\u001b[0m\u001b[0;34m\u001b[0m\u001b[0;34m\u001b[0m\u001b[0m\n\u001b[1;32m      3\u001b[0m \u001b[0mprint\u001b[0m\u001b[0;34m(\u001b[0m\u001b[0mhdf_file_fp\u001b[0m\u001b[0;34m)\u001b[0m\u001b[0;34m\u001b[0m\u001b[0;34m\u001b[0m\u001b[0m\n",
      "\u001b[0;31mNameError\u001b[0m: name 'hdf_file' is not defined"
     ]
    }
   ],
   "source": [
    "hdf_file_fp = os.path.join(hdf_dir,hdf_file)\n",
    "print(os.path.isfile(hdf_file_fp))\n",
    "print(hdf_file_fp)"
   ]
  },
  {
   "cell_type": "code",
   "execution_count": 13,
   "id": "9045722a",
   "metadata": {},
   "outputs": [
    {
     "ename": "OSError",
     "evalue": "Trouble opening file: /Volumes/Ehsan-7757225325/2016/april_2016/hdf_files_April2016_from_PH/MISR_AM1_GRP_ELLIPSOID_GM_P233_O086796_CF_F03_0024.hdf",
     "output_type": "error",
     "traceback": [
      "\u001b[0;31m---------------------------------------------------------------------------\u001b[0m",
      "\u001b[0;31mOSError\u001b[0m                                   Traceback (most recent call last)",
      "\u001b[0;32m<ipython-input-13-7736e0c04070>\u001b[0m in \u001b[0;36m<module>\u001b[0;34m\u001b[0m\n\u001b[0;32m----> 1\u001b[0;31m \u001b[0minput_hdf\u001b[0m \u001b[0;34m=\u001b[0m \u001b[0mMtkFile\u001b[0m\u001b[0;34m(\u001b[0m\u001b[0mhdf_file_fp\u001b[0m\u001b[0;34m)\u001b[0m\u001b[0;34m\u001b[0m\u001b[0;34m\u001b[0m\u001b[0m\n\u001b[0m",
      "\u001b[0;31mOSError\u001b[0m: Trouble opening file: /Volumes/Ehsan-7757225325/2016/april_2016/hdf_files_April2016_from_PH/MISR_AM1_GRP_ELLIPSOID_GM_P233_O086796_CF_F03_0024.hdf"
     ]
    }
   ],
   "source": [
    "input_hdf = MtkFile(hdf_file_fp)"
   ]
  },
  {
   "cell_type": "code",
   "execution_count": 14,
   "id": "1209e1ec",
   "metadata": {},
   "outputs": [
    {
     "ename": "NameError",
     "evalue": "name 'input_hdf' is not defined",
     "output_type": "error",
     "traceback": [
      "\u001b[0;31m---------------------------------------------------------------------------\u001b[0m",
      "\u001b[0;31mNameError\u001b[0m                                 Traceback (most recent call last)",
      "\u001b[0;32m<ipython-input-14-d577514fcc2a>\u001b[0m in \u001b[0;36m<module>\u001b[0;34m\u001b[0m\n\u001b[0;32m----> 1\u001b[0;31m \u001b[0minput_hdf\u001b[0m\u001b[0;34m.\u001b[0m\u001b[0mblock\u001b[0m\u001b[0;34m\u001b[0m\u001b[0;34m\u001b[0m\u001b[0m\n\u001b[0m",
      "\u001b[0;31mNameError\u001b[0m: name 'input_hdf' is not defined"
     ]
    }
   ],
   "source": [
    "input_hdf.block"
   ]
  },
  {
   "cell_type": "code",
   "execution_count": 15,
   "id": "8ee18a23",
   "metadata": {},
   "outputs": [
    {
     "ename": "NameError",
     "evalue": "name 'input_hdf' is not defined",
     "output_type": "error",
     "traceback": [
      "\u001b[0;31m---------------------------------------------------------------------------\u001b[0m",
      "\u001b[0;31mNameError\u001b[0m                                 Traceback (most recent call last)",
      "\u001b[0;32m<ipython-input-15-ebd5adc9fec9>\u001b[0m in \u001b[0;36m<module>\u001b[0;34m\u001b[0m\n\u001b[0;32m----> 1\u001b[0;31m \u001b[0minput_hdf\u001b[0m\u001b[0;34m.\u001b[0m\u001b[0mgrid\u001b[0m\u001b[0;34m\u001b[0m\u001b[0;34m\u001b[0m\u001b[0m\n\u001b[0m",
      "\u001b[0;31mNameError\u001b[0m: name 'input_hdf' is not defined"
     ]
    }
   ],
   "source": [
    "input_hdf.grid"
   ]
  },
  {
   "cell_type": "code",
   "execution_count": 16,
   "id": "392972f1",
   "metadata": {},
   "outputs": [
    {
     "ename": "NameError",
     "evalue": "name 'input_hdf' is not defined",
     "output_type": "error",
     "traceback": [
      "\u001b[0;31m---------------------------------------------------------------------------\u001b[0m",
      "\u001b[0;31mNameError\u001b[0m                                 Traceback (most recent call last)",
      "\u001b[0;32m<ipython-input-16-4293a717c726>\u001b[0m in \u001b[0;36m<module>\u001b[0;34m\u001b[0m\n\u001b[0;32m----> 1\u001b[0;31m \u001b[0minput_hdf\u001b[0m\u001b[0;34m.\u001b[0m\u001b[0mgrid_list\u001b[0m\u001b[0;34m\u001b[0m\u001b[0;34m\u001b[0m\u001b[0m\n\u001b[0m",
      "\u001b[0;31mNameError\u001b[0m: name 'input_hdf' is not defined"
     ]
    }
   ],
   "source": [
    "input_hdf.grid_list"
   ]
  },
  {
   "cell_type": "code",
   "execution_count": 17,
   "id": "2a1d0eab",
   "metadata": {},
   "outputs": [
    {
     "ename": "NameError",
     "evalue": "name 'input_hdf' is not defined",
     "output_type": "error",
     "traceback": [
      "\u001b[0;31m---------------------------------------------------------------------------\u001b[0m",
      "\u001b[0;31mNameError\u001b[0m                                 Traceback (most recent call last)",
      "\u001b[0;32m<ipython-input-17-7571096d2c6c>\u001b[0m in \u001b[0;36m<module>\u001b[0;34m\u001b[0m\n\u001b[0;32m----> 1\u001b[0;31m \u001b[0minput_hdf\u001b[0m\u001b[0;34m.\u001b[0m\u001b[0mgrid\u001b[0m\u001b[0;34m(\u001b[0m\u001b[0;34m\"RedBand\"\u001b[0m\u001b[0;34m)\u001b[0m\u001b[0;34m.\u001b[0m\u001b[0mfield_list\u001b[0m\u001b[0;34m\u001b[0m\u001b[0;34m\u001b[0m\u001b[0m\n\u001b[0m",
      "\u001b[0;31mNameError\u001b[0m: name 'input_hdf' is not defined"
     ]
    }
   ],
   "source": [
    "input_hdf.grid(\"RedBand\").field_list"
   ]
  },
  {
   "cell_type": "code",
   "execution_count": 18,
   "id": "31bcbcdd",
   "metadata": {},
   "outputs": [
    {
     "ename": "NameError",
     "evalue": "name 'input_hdf' is not defined",
     "output_type": "error",
     "traceback": [
      "\u001b[0;31m---------------------------------------------------------------------------\u001b[0m",
      "\u001b[0;31mNameError\u001b[0m                                 Traceback (most recent call last)",
      "\u001b[0;32m<ipython-input-18-9fa64cc9a575>\u001b[0m in \u001b[0;36m<module>\u001b[0;34m\u001b[0m\n\u001b[0;32m----> 1\u001b[0;31m \u001b[0minput_hdf\u001b[0m\u001b[0;34m.\u001b[0m\u001b[0mgrid\u001b[0m\u001b[0;34m(\u001b[0m\u001b[0;34m\"RedBand\"\u001b[0m\u001b[0;34m)\u001b[0m\u001b[0;34m.\u001b[0m\u001b[0mnative_field_list\u001b[0m\u001b[0;34m\u001b[0m\u001b[0;34m\u001b[0m\u001b[0m\n\u001b[0m",
      "\u001b[0;31mNameError\u001b[0m: name 'input_hdf' is not defined"
     ]
    }
   ],
   "source": [
    "input_hdf.grid(\"RedBand\").native_field_list"
   ]
  },
  {
   "cell_type": "code",
   "execution_count": 19,
   "id": "f032d3ca",
   "metadata": {},
   "outputs": [
    {
     "data": {
      "text/plain": [
       "MisrToolkit.MtkRegion"
      ]
     },
     "execution_count": 19,
     "metadata": {},
     "output_type": "execute_result"
    }
   ],
   "source": [
    "r = MtkRegion(int(path_num), start_block, end_block)\n",
    "type(r)"
   ]
  },
  {
   "cell_type": "code",
   "execution_count": 20,
   "id": "6e173f71",
   "metadata": {},
   "outputs": [],
   "source": [
    "# find block corners\n",
    "\n",
    "corners = path_block_range_to_block_corners(int(path_num), start_block, end_block)"
   ]
  },
  {
   "cell_type": "code",
   "execution_count": 21,
   "id": "3e04b31f",
   "metadata": {},
   "outputs": [],
   "source": [
    "# type(corners.block[1].ctr)\n",
    "# dir(corners.block[9])"
   ]
  },
  {
   "cell_type": "code",
   "execution_count": 22,
   "id": "7e463e70",
   "metadata": {},
   "outputs": [
    {
     "name": "stdout",
     "output_type": "stream",
     "text": [
      "(0.000000,0.000000)\n",
      "(0.000000,0.000000)\n",
      "(0.000000,0.000000)\n",
      "(0.000000,0.000000)\n"
     ]
    }
   ],
   "source": [
    "print(corners.block[corners_for_block].ulc)\n",
    "print(corners.block[corners_for_block].urc)\n",
    "print(corners.block[corners_for_block].llc)\n",
    "print(corners.block[corners_for_block].lrc)"
   ]
  },
  {
   "cell_type": "code",
   "execution_count": 23,
   "id": "a5b91b6d",
   "metadata": {},
   "outputs": [],
   "source": [
    "# print(bls_to_latlon(int(path_num), 275, 9, 0, 0))\n",
    "# print(bls_to_latlon(int(path_num), 275, 9, 0, 2047))\n",
    "# print(bls_to_latlon(int(path_num), 275, 9, 511, 0)) # llc\n",
    "# print(bls_to_latlon(int(path_num), 275, 9, 511, 2047))"
   ]
  },
  {
   "cell_type": "code",
   "execution_count": 24,
   "id": "fa160a3a",
   "metadata": {},
   "outputs": [
    {
     "ename": "NameError",
     "evalue": "name 'input_hdf' is not defined",
     "output_type": "error",
     "traceback": [
      "\u001b[0;31m---------------------------------------------------------------------------\u001b[0m",
      "\u001b[0;31mNameError\u001b[0m                                 Traceback (most recent call last)",
      "\u001b[0;32m<ipython-input-24-629460d5867a>\u001b[0m in \u001b[0;36m<module>\u001b[0;34m\u001b[0m\n\u001b[0;32m----> 1\u001b[0;31m \u001b[0minput_hdf\u001b[0m\u001b[0;34m.\u001b[0m\u001b[0mgrid\u001b[0m\u001b[0;34m(\u001b[0m\u001b[0;34m\"RedBand\"\u001b[0m\u001b[0;34m)\u001b[0m\u001b[0;34m.\u001b[0m\u001b[0mfield\u001b[0m\u001b[0;34m(\u001b[0m\u001b[0;34m\"Red Radiance/RDQI\"\u001b[0m\u001b[0;34m)\u001b[0m\u001b[0;34m.\u001b[0m\u001b[0mfill_value\u001b[0m\u001b[0;34m\u001b[0m\u001b[0;34m\u001b[0m\u001b[0m\n\u001b[0m",
      "\u001b[0;31mNameError\u001b[0m: name 'input_hdf' is not defined"
     ]
    }
   ],
   "source": [
    "input_hdf.grid(\"RedBand\").field(\"Red Radiance/RDQI\").fill_value"
   ]
  },
  {
   "cell_type": "markdown",
   "id": "88b668ac",
   "metadata": {},
   "source": [
    "## note: 65515 is fill value for padding part of the image = white part?"
   ]
  },
  {
   "cell_type": "code",
   "execution_count": 25,
   "id": "31417323",
   "metadata": {},
   "outputs": [
    {
     "ename": "NameError",
     "evalue": "name 'input_hdf' is not defined",
     "output_type": "error",
     "traceback": [
      "\u001b[0;31m---------------------------------------------------------------------------\u001b[0m",
      "\u001b[0;31mNameError\u001b[0m                                 Traceback (most recent call last)",
      "\u001b[0;32m<ipython-input-25-467a5c9e35f6>\u001b[0m in \u001b[0;36m<module>\u001b[0;34m\u001b[0m\n\u001b[0;32m----> 1\u001b[0;31m \u001b[0mredband_img\u001b[0m \u001b[0;34m=\u001b[0m \u001b[0minput_hdf\u001b[0m\u001b[0;34m.\u001b[0m\u001b[0mgrid\u001b[0m\u001b[0;34m(\u001b[0m\u001b[0;34m\"RedBand\"\u001b[0m\u001b[0;34m)\u001b[0m\u001b[0;34m.\u001b[0m\u001b[0mfield\u001b[0m\u001b[0;34m(\u001b[0m\u001b[0;34m\"Red Radiance/RDQI\"\u001b[0m\u001b[0;34m)\u001b[0m\u001b[0;34m.\u001b[0m\u001b[0mread\u001b[0m\u001b[0;34m(\u001b[0m\u001b[0mr\u001b[0m\u001b[0;34m)\u001b[0m\u001b[0;34m.\u001b[0m\u001b[0mdata\u001b[0m\u001b[0;34m(\u001b[0m\u001b[0;34m)\u001b[0m\u001b[0;34m\u001b[0m\u001b[0;34m\u001b[0m\u001b[0m\n\u001b[0m",
      "\u001b[0;31mNameError\u001b[0m: name 'input_hdf' is not defined"
     ]
    }
   ],
   "source": [
    "redband_img = input_hdf.grid(\"RedBand\").field(\"Red Radiance/RDQI\").read(r).data()"
   ]
  },
  {
   "cell_type": "code",
   "execution_count": 26,
   "id": "f397d62e",
   "metadata": {},
   "outputs": [
    {
     "ename": "NameError",
     "evalue": "name 'redband_img' is not defined",
     "output_type": "error",
     "traceback": [
      "\u001b[0;31m---------------------------------------------------------------------------\u001b[0m",
      "\u001b[0;31mNameError\u001b[0m                                 Traceback (most recent call last)",
      "\u001b[0;32m<ipython-input-26-7f7bfee29320>\u001b[0m in \u001b[0;36m<module>\u001b[0;34m\u001b[0m\n\u001b[0;32m----> 1\u001b[0;31m \u001b[0mprint\u001b[0m\u001b[0;34m(\u001b[0m\u001b[0;34m\"redBand min: %d\"\u001b[0m \u001b[0;34m%\u001b[0m\u001b[0mredband_img\u001b[0m\u001b[0;34m.\u001b[0m\u001b[0mmin\u001b[0m\u001b[0;34m(\u001b[0m\u001b[0;34m)\u001b[0m\u001b[0;34m)\u001b[0m\u001b[0;34m\u001b[0m\u001b[0;34m\u001b[0m\u001b[0m\n\u001b[0m\u001b[1;32m      2\u001b[0m \u001b[0mprint\u001b[0m\u001b[0;34m(\u001b[0m\u001b[0;34m\"redBand med: %d\"\u001b[0m \u001b[0;34m%\u001b[0m\u001b[0mnp\u001b[0m\u001b[0;34m.\u001b[0m\u001b[0mmedian\u001b[0m\u001b[0;34m(\u001b[0m\u001b[0mredband_img\u001b[0m\u001b[0;34m)\u001b[0m\u001b[0;34m)\u001b[0m\u001b[0;34m\u001b[0m\u001b[0;34m\u001b[0m\u001b[0m\n\u001b[1;32m      3\u001b[0m \u001b[0mprint\u001b[0m\u001b[0;34m(\u001b[0m\u001b[0;34m\"redBand max: %d\"\u001b[0m \u001b[0;34m%\u001b[0m\u001b[0mredband_img\u001b[0m\u001b[0;34m.\u001b[0m\u001b[0mmax\u001b[0m\u001b[0;34m(\u001b[0m\u001b[0;34m)\u001b[0m\u001b[0;34m)\u001b[0m\u001b[0;34m\u001b[0m\u001b[0;34m\u001b[0m\u001b[0m\n",
      "\u001b[0;31mNameError\u001b[0m: name 'redband_img' is not defined"
     ]
    }
   ],
   "source": [
    "print(\"redBand min: %d\" %redband_img.min())\n",
    "print(\"redBand med: %d\" %np.median(redband_img))\n",
    "print(\"redBand max: %d\" %redband_img.max())"
   ]
  },
  {
   "cell_type": "code",
   "execution_count": 27,
   "id": "c4a5ca60",
   "metadata": {},
   "outputs": [
    {
     "ename": "NameError",
     "evalue": "name 'redband_img' is not defined",
     "output_type": "error",
     "traceback": [
      "\u001b[0;31m---------------------------------------------------------------------------\u001b[0m",
      "\u001b[0;31mNameError\u001b[0m                                 Traceback (most recent call last)",
      "\u001b[0;32m<ipython-input-27-5445d4141572>\u001b[0m in \u001b[0;36m<module>\u001b[0;34m\u001b[0m\n\u001b[0;32m----> 1\u001b[0;31m \u001b[0mredband_img\u001b[0m\u001b[0;34m.\u001b[0m\u001b[0mshape\u001b[0m\u001b[0;34m\u001b[0m\u001b[0;34m\u001b[0m\u001b[0m\n\u001b[0m",
      "\u001b[0;31mNameError\u001b[0m: name 'redband_img' is not defined"
     ]
    }
   ],
   "source": [
    "redband_img.shape"
   ]
  },
  {
   "cell_type": "code",
   "execution_count": 28,
   "id": "8b00cc90",
   "metadata": {},
   "outputs": [
    {
     "ename": "NameError",
     "evalue": "name 'redband_img' is not defined",
     "output_type": "error",
     "traceback": [
      "\u001b[0;31m---------------------------------------------------------------------------\u001b[0m",
      "\u001b[0;31mNameError\u001b[0m                                 Traceback (most recent call last)",
      "\u001b[0;32m<ipython-input-28-68964d67f58a>\u001b[0m in \u001b[0;36m<module>\u001b[0;34m\u001b[0m\n\u001b[0;32m----> 1\u001b[0;31m \u001b[0mprint\u001b[0m\u001b[0;34m(\u001b[0m\u001b[0mredband_img\u001b[0m\u001b[0;34m.\u001b[0m\u001b[0mdtype\u001b[0m\u001b[0;34m)\u001b[0m\u001b[0;34m\u001b[0m\u001b[0;34m\u001b[0m\u001b[0m\n\u001b[0m\u001b[1;32m      2\u001b[0m \u001b[0mprint\u001b[0m\u001b[0;34m(\u001b[0m\u001b[0mtype\u001b[0m\u001b[0;34m(\u001b[0m\u001b[0mredband_img\u001b[0m\u001b[0;34m)\u001b[0m\u001b[0;34m)\u001b[0m\u001b[0;34m\u001b[0m\u001b[0;34m\u001b[0m\u001b[0m\n",
      "\u001b[0;31mNameError\u001b[0m: name 'redband_img' is not defined"
     ]
    }
   ],
   "source": [
    "print(redband_img.dtype)\n",
    "print(type(redband_img))"
   ]
  },
  {
   "cell_type": "code",
   "execution_count": 29,
   "id": "dce94c17",
   "metadata": {},
   "outputs": [
    {
     "ename": "NameError",
     "evalue": "name 'redband_img' is not defined",
     "output_type": "error",
     "traceback": [
      "\u001b[0;31m---------------------------------------------------------------------------\u001b[0m",
      "\u001b[0;31mNameError\u001b[0m                                 Traceback (most recent call last)",
      "\u001b[0;32m<ipython-input-29-182d1b0d3365>\u001b[0m in \u001b[0;36m<module>\u001b[0;34m\u001b[0m\n\u001b[0;32m----> 1\u001b[0;31m \u001b[0mredband_img_flat\u001b[0m \u001b[0;34m=\u001b[0m \u001b[0mredband_img\u001b[0m\u001b[0;34m.\u001b[0m\u001b[0mflatten\u001b[0m\u001b[0;34m(\u001b[0m\u001b[0;34m)\u001b[0m\u001b[0;34m\u001b[0m\u001b[0;34m\u001b[0m\u001b[0m\n\u001b[0m\u001b[1;32m      2\u001b[0m \u001b[0mredband_img_flat\u001b[0m\u001b[0;34m.\u001b[0m\u001b[0mshape\u001b[0m\u001b[0;34m\u001b[0m\u001b[0;34m\u001b[0m\u001b[0m\n",
      "\u001b[0;31mNameError\u001b[0m: name 'redband_img' is not defined"
     ]
    }
   ],
   "source": [
    "redband_img_flat = redband_img.flatten()\n",
    "redband_img_flat.shape"
   ]
  },
  {
   "cell_type": "code",
   "execution_count": 30,
   "id": "8fa7230a",
   "metadata": {},
   "outputs": [
    {
     "ename": "NameError",
     "evalue": "name 'redband_img_flat' is not defined",
     "output_type": "error",
     "traceback": [
      "\u001b[0;31m---------------------------------------------------------------------------\u001b[0m",
      "\u001b[0;31mNameError\u001b[0m                                 Traceback (most recent call last)",
      "\u001b[0;32m<ipython-input-30-2559e585b88e>\u001b[0m in \u001b[0;36m<module>\u001b[0;34m\u001b[0m\n\u001b[1;32m      1\u001b[0m \u001b[0;31m# np.histogram(redband_img)\u001b[0m\u001b[0;34m\u001b[0m\u001b[0;34m\u001b[0m\u001b[0;34m\u001b[0m\u001b[0m\n\u001b[0;32m----> 2\u001b[0;31m \u001b[0mret_hist\u001b[0m \u001b[0;34m=\u001b[0m \u001b[0mplt\u001b[0m\u001b[0;34m.\u001b[0m\u001b[0mhist\u001b[0m\u001b[0;34m(\u001b[0m\u001b[0mredband_img_flat\u001b[0m\u001b[0;34m,\u001b[0m \u001b[0mbins\u001b[0m\u001b[0;34m=\u001b[0m\u001b[0;34m'auto'\u001b[0m\u001b[0;34m)\u001b[0m\u001b[0;34m\u001b[0m\u001b[0;34m\u001b[0m\u001b[0m\n\u001b[0m\u001b[1;32m      3\u001b[0m \u001b[0mplt\u001b[0m\u001b[0;34m.\u001b[0m\u001b[0mshow\u001b[0m\u001b[0;34m(\u001b[0m\u001b[0;34m)\u001b[0m\u001b[0;34m\u001b[0m\u001b[0;34m\u001b[0m\u001b[0m\n",
      "\u001b[0;31mNameError\u001b[0m: name 'redband_img_flat' is not defined"
     ]
    }
   ],
   "source": [
    "# np.histogram(redband_img)\n",
    "ret_hist = plt.hist(redband_img_flat, bins='auto')\n",
    "plt.show()"
   ]
  },
  {
   "cell_type": "code",
   "execution_count": 31,
   "id": "fd0d3869",
   "metadata": {},
   "outputs": [],
   "source": [
    "# def rescale(in_arr):\n",
    "#     domain = in_arr.max()-in_arr.min()\n",
    "#     for i in "
   ]
  },
  {
   "cell_type": "code",
   "execution_count": 32,
   "id": "3be1bc15",
   "metadata": {},
   "outputs": [
    {
     "ename": "NameError",
     "evalue": "name 'redband_img' is not defined",
     "output_type": "error",
     "traceback": [
      "\u001b[0;31m---------------------------------------------------------------------------\u001b[0m",
      "\u001b[0;31mNameError\u001b[0m                                 Traceback (most recent call last)",
      "\u001b[0;32m<ipython-input-32-04764daaa18a>\u001b[0m in \u001b[0;36m<module>\u001b[0;34m\u001b[0m\n\u001b[0;32m----> 1\u001b[0;31m \u001b[0mplot_here_and_write\u001b[0m\u001b[0;34m(\u001b[0m\u001b[0mredband_img\u001b[0m\u001b[0;34m,\u001b[0m \u001b[0mhdf_dir\u001b[0m\u001b[0;34m)\u001b[0m\u001b[0;34m\u001b[0m\u001b[0;34m\u001b[0m\u001b[0m\n\u001b[0m",
      "\u001b[0;31mNameError\u001b[0m: name 'redband_img' is not defined"
     ]
    }
   ],
   "source": [
    "plot_here_and_write(redband_img, hdf_dir)\n"
   ]
  },
  {
   "cell_type": "markdown",
   "id": "e027afa1",
   "metadata": {},
   "source": [
    "## plot images using atmmodel.csv "
   ]
  },
  {
   "cell_type": "code",
   "execution_count": 33,
   "id": "c9c0d37f",
   "metadata": {},
   "outputs": [],
   "source": [
    "# # atmmodel_csv = 'atmmodel_july_2016_1to16.csv'\n",
    "# # home_dir = '/Users/ehsanmos/MLP_dataset/july_2016'\n",
    "\n",
    "# # april\n",
    "# atmmodel_csv = 'atmmodel_april_2016.csv'\n",
    "# home_dir = '/Volumes/Ehsan-7757225325/2016/april_2016/atmmodel'\n",
    "\n",
    "# # july\n",
    "# # atmmodel_csv = 'atmmodel_july_2016_1to16.csv'\n",
    "# # home_dir = '/Users/ehsanmos/MLP_dataset/july_2016'\n",
    "\n",
    "\n",
    "# in_csv = os.path.join(home_dir, atmmodel_csv)"
   ]
  },
  {
   "cell_type": "code",
   "execution_count": 34,
   "id": "d636ba32",
   "metadata": {},
   "outputs": [],
   "source": [
    "# # find unique POB from atmmodel.csv \n",
    "\n",
    "# list_of_cols = ['#path',' orbit', ' img_block']\n",
    "# pob_unique = find_unique_pob(in_csv, list_of_cols)\n",
    "# pob_unique[['#path',' orbit',' img_block']]"
   ]
  },
  {
   "cell_type": "code",
   "execution_count": 35,
   "id": "88d676b7",
   "metadata": {},
   "outputs": [],
   "source": [
    "# # write out the unique POB info to a file\n",
    "# output_dir = home_dir\n",
    "# output_filename = 'uniques_pob_withATMinThem_from_atmmodel.csv'\n",
    "\n",
    "# pob_unique[['#path',' orbit',' img_block']].to_csv(os.path.join(output_dir, output_filename), index=False)"
   ]
  },
  {
   "cell_type": "code",
   "execution_count": 36,
   "id": "9a1f2ddd",
   "metadata": {},
   "outputs": [],
   "source": [
    "# # check/visualize unique images in a loop\n",
    "\n",
    "# for row_indx in range(pob_unique.shape[0]):\n",
    "    \n",
    "#     path_num = str(pob_unique['#path'].iloc[row_indx])\n",
    "#     orbit_num = str(pob_unique[' orbit'].iloc[row_indx])\n",
    "#     start_block = str(pob_unique[' img_block'].iloc[row_indx])\n",
    "#     end_block = start_block\n",
    "#     cam = \"AN\"\n",
    "    \n",
    "#     hdf_file = \"MISR_AM1_GRP_ELLIPSOID_GM_P\"+path_num+\"_O0\"+str(orbit_num)+\"_\"+cam+\"_F03_0024.hdf\"\n",
    "#     print('P:%s O:%s B:%s' %(path_num, orbit_num, start_block))\n",
    "#     hdf_file_fp = os.path.join(hdf_dir, hdf_file)\n",
    "#     hdf_file_stat = os.path.isfile(hdf_file_fp)\n",
    "# #     print(hdf_file_stat)\n",
    "#     if (hdf_file_stat==False):\n",
    "#         print('hdf file not found!')\n",
    "#         continue\n",
    "#     # open (allocate pointer) and read hdf file \n",
    "#     input_hdf = MtkFile(hdf_file_fp)\n",
    "#     input_hdf.block\n",
    "#     r = MtkRegion(int(path_num), int(start_block), int(end_block))\n",
    "#     type(r)\n",
    "#     redband_img = input_hdf.grid(\"RedBand\").field(\"Red Radiance/RDQI\").read(r).data()\n",
    "#     print('path: %s orbit: %s block: %s' %(path_num, orbit_num, start_block))\n",
    "#     plot_here_and_write(redband_img, hdf_dir)\n",
    "#     # need to close the hdf-file here?\n",
    "\n",
    "\n",
    "# print('successfully printed %s files!' %pob_unique.shape[0])\n"
   ]
  },
  {
   "cell_type": "code",
   "execution_count": null,
   "id": "001c4c2b",
   "metadata": {},
   "outputs": [],
   "source": []
  },
  {
   "cell_type": "code",
   "execution_count": null,
   "id": "be6229e6",
   "metadata": {},
   "outputs": [],
   "source": []
  },
  {
   "cell_type": "code",
   "execution_count": null,
   "id": "26af3eab",
   "metadata": {},
   "outputs": [],
   "source": []
  }
 ],
 "metadata": {
  "kernelspec": {
   "display_name": "Python 3",
   "language": "python",
   "name": "python3"
  },
  "language_info": {
   "codemirror_mode": {
    "name": "ipython",
    "version": 3
   },
   "file_extension": ".py",
   "mimetype": "text/x-python",
   "name": "python",
   "nbconvert_exporter": "python",
   "pygments_lexer": "ipython3",
   "version": "3.6.13"
  }
 },
 "nbformat": 4,
 "nbformat_minor": 5
}
