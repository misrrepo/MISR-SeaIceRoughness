{
 "cells": [
  {
   "cell_type": "code",
   "execution_count": 1,
   "id": "a495e8a5",
   "metadata": {},
   "outputs": [],
   "source": [
    "import pandas as pd\n",
    "import matplotlib.pyplot as plt\n",
    "import numpy as np\n",
    "import MisrToolkit as mtk # needs python3.6\n",
    "# from mpl_toolkits.basemap import Basemap # needs python 3.8?\n",
    "import sys # to check python version\n",
    "import os\n",
    "import glob"
   ]
  },
  {
   "cell_type": "markdown",
   "id": "231e24c1",
   "metadata": {},
   "source": [
    "# Extract data from MISR-estimated roughness files by using MTK library. Should use python3.6 for this purpose "
   ]
  },
  {
   "cell_type": "markdown",
   "id": "d64951bb",
   "metadata": {},
   "source": [
    "## Plot Transect "
   ]
  },
  {
   "cell_type": "code",
   "execution_count": 2,
   "id": "75637827",
   "metadata": {},
   "outputs": [],
   "source": [
    "atm_file = \"3cams_insample_atm.csv\"\n",
    "atm_dir = \"/home/ehsan/misr_lab/MISR-SeaIceRoughness/post_processing\"\n",
    "atm_data_fp = os.path.join(atm_dir, atm_file)"
   ]
  },
  {
   "cell_type": "code",
   "execution_count": 3,
   "id": "958f28bb",
   "metadata": {},
   "outputs": [
    {
     "data": {
      "text/html": [
       "<div>\n",
       "<style scoped>\n",
       "    .dataframe tbody tr th:only-of-type {\n",
       "        vertical-align: middle;\n",
       "    }\n",
       "\n",
       "    .dataframe tbody tr th {\n",
       "        vertical-align: top;\n",
       "    }\n",
       "\n",
       "    .dataframe thead th {\n",
       "        text-align: right;\n",
       "    }\n",
       "</style>\n",
       "<table border=\"1\" class=\"dataframe\">\n",
       "  <thead>\n",
       "    <tr style=\"text-align: right;\">\n",
       "      <th></th>\n",
       "      <th>Unnamed: 0</th>\n",
       "      <th>lat</th>\n",
       "      <th>lon</th>\n",
       "      <th>Ca_r</th>\n",
       "      <th>Cf_r</th>\n",
       "      <th>An_r</th>\n",
       "      <th>rms</th>\n",
       "    </tr>\n",
       "  </thead>\n",
       "  <tbody>\n",
       "    <tr>\n",
       "      <th>0</th>\n",
       "      <td>1</td>\n",
       "      <td>76.235487</td>\n",
       "      <td>230.712293</td>\n",
       "      <td>0.66574</td>\n",
       "      <td>1.03182</td>\n",
       "      <td>0.53599</td>\n",
       "      <td>15.24</td>\n",
       "    </tr>\n",
       "    <tr>\n",
       "      <th>1</th>\n",
       "      <td>2</td>\n",
       "      <td>76.235648</td>\n",
       "      <td>230.710186</td>\n",
       "      <td>0.66574</td>\n",
       "      <td>1.03182</td>\n",
       "      <td>0.53599</td>\n",
       "      <td>22.32</td>\n",
       "    </tr>\n",
       "    <tr>\n",
       "      <th>2</th>\n",
       "      <td>3</td>\n",
       "      <td>76.235474</td>\n",
       "      <td>230.712462</td>\n",
       "      <td>0.66574</td>\n",
       "      <td>1.03182</td>\n",
       "      <td>0.53599</td>\n",
       "      <td>17.44</td>\n",
       "    </tr>\n",
       "    <tr>\n",
       "      <th>3</th>\n",
       "      <td>4</td>\n",
       "      <td>76.235619</td>\n",
       "      <td>230.714797</td>\n",
       "      <td>0.66574</td>\n",
       "      <td>1.03182</td>\n",
       "      <td>0.53599</td>\n",
       "      <td>14.30</td>\n",
       "    </tr>\n",
       "    <tr>\n",
       "      <th>4</th>\n",
       "      <td>5</td>\n",
       "      <td>76.235781</td>\n",
       "      <td>230.712690</td>\n",
       "      <td>0.66574</td>\n",
       "      <td>1.03182</td>\n",
       "      <td>0.53599</td>\n",
       "      <td>14.95</td>\n",
       "    </tr>\n",
       "    <tr>\n",
       "      <th>...</th>\n",
       "      <td>...</td>\n",
       "      <td>...</td>\n",
       "      <td>...</td>\n",
       "      <td>...</td>\n",
       "      <td>...</td>\n",
       "      <td>...</td>\n",
       "      <td>...</td>\n",
       "    </tr>\n",
       "    <tr>\n",
       "      <th>9995</th>\n",
       "      <td>9996</td>\n",
       "      <td>75.999639</td>\n",
       "      <td>230.398900</td>\n",
       "      <td>0.58862</td>\n",
       "      <td>0.95719</td>\n",
       "      <td>0.41134</td>\n",
       "      <td>5.65</td>\n",
       "    </tr>\n",
       "    <tr>\n",
       "      <th>9996</th>\n",
       "      <td>9997</td>\n",
       "      <td>75.999793</td>\n",
       "      <td>230.401122</td>\n",
       "      <td>0.58862</td>\n",
       "      <td>0.95719</td>\n",
       "      <td>0.41134</td>\n",
       "      <td>5.24</td>\n",
       "    </tr>\n",
       "    <tr>\n",
       "      <th>9997</th>\n",
       "      <td>9998</td>\n",
       "      <td>75.999951</td>\n",
       "      <td>230.399059</td>\n",
       "      <td>0.58862</td>\n",
       "      <td>0.95719</td>\n",
       "      <td>0.41134</td>\n",
       "      <td>6.27</td>\n",
       "    </tr>\n",
       "    <tr>\n",
       "      <th>9998</th>\n",
       "      <td>9999</td>\n",
       "      <td>76.000109</td>\n",
       "      <td>230.396997</td>\n",
       "      <td>0.58163</td>\n",
       "      <td>0.95175</td>\n",
       "      <td>0.41600</td>\n",
       "      <td>5.40</td>\n",
       "    </tr>\n",
       "    <tr>\n",
       "      <th>9999</th>\n",
       "      <td>10000</td>\n",
       "      <td>75.999934</td>\n",
       "      <td>230.399286</td>\n",
       "      <td>0.58862</td>\n",
       "      <td>0.95719</td>\n",
       "      <td>0.41134</td>\n",
       "      <td>6.15</td>\n",
       "    </tr>\n",
       "  </tbody>\n",
       "</table>\n",
       "<p>10000 rows × 7 columns</p>\n",
       "</div>"
      ],
      "text/plain": [
       "      Unnamed: 0        lat         lon     Ca_r     Cf_r     An_r    rms\n",
       "0              1  76.235487  230.712293  0.66574  1.03182  0.53599  15.24\n",
       "1              2  76.235648  230.710186  0.66574  1.03182  0.53599  22.32\n",
       "2              3  76.235474  230.712462  0.66574  1.03182  0.53599  17.44\n",
       "3              4  76.235619  230.714797  0.66574  1.03182  0.53599  14.30\n",
       "4              5  76.235781  230.712690  0.66574  1.03182  0.53599  14.95\n",
       "...          ...        ...         ...      ...      ...      ...    ...\n",
       "9995        9996  75.999639  230.398900  0.58862  0.95719  0.41134   5.65\n",
       "9996        9997  75.999793  230.401122  0.58862  0.95719  0.41134   5.24\n",
       "9997        9998  75.999951  230.399059  0.58862  0.95719  0.41134   6.27\n",
       "9998        9999  76.000109  230.396997  0.58163  0.95175  0.41600   5.40\n",
       "9999       10000  75.999934  230.399286  0.58862  0.95719  0.41134   6.15\n",
       "\n",
       "[10000 rows x 7 columns]"
      ]
     },
     "execution_count": 3,
     "metadata": {},
     "output_type": "execute_result"
    }
   ],
   "source": [
    "transect_small = pd.read_csv(atm_data_fp)\n",
    "transect_small"
   ]
  },
  {
   "cell_type": "code",
   "execution_count": 4,
   "id": "e119c8e0",
   "metadata": {},
   "outputs": [
    {
     "data": {
      "text/plain": [
       "Unnamed: 0      1.000000\n",
       "lat            76.235487\n",
       "lon           230.712293\n",
       "Ca_r            0.665740\n",
       "Cf_r            1.031820\n",
       "An_r            0.535990\n",
       "rms            15.240000\n",
       "Name: 0, dtype: float64"
      ]
     },
     "execution_count": 4,
     "metadata": {},
     "output_type": "execute_result"
    }
   ],
   "source": [
    "transect_small = transect_small.iloc[0:10]\n",
    "transect_small.iloc[0]"
   ]
  },
  {
   "cell_type": "code",
   "execution_count": 5,
   "id": "cd4fa23b",
   "metadata": {},
   "outputs": [],
   "source": [
    "roughness_dir = \"/media/ehsan/6T_part1/2016/april_2016/14528_apr2016/project_april_2016_3cam/roughness_predicted_from_PH\"\n"
   ]
  },
  {
   "cell_type": "code",
   "execution_count": 18,
   "id": "f954d850",
   "metadata": {},
   "outputs": [],
   "source": [
    "# # extract MISR-estimated roughness for the same latLon locations and plot them together with ATM\n",
    "# transect_from_misr = []\n",
    "# for irow in range(transect_small.shape[0]): # each row==LatLon might fall in several blocks==POB, we open each block and will average all at the end\n",
    "    \n",
    "#     print(\"DF row: %s\" %irow)\n",
    "#     lat_lon = transect_small[['lat','lon']].iloc[irow]\n",
    "#     print(lat_lon)\n",
    "    \n",
    "#     path_list = mtk.latlon_to_path_list(lat_lon[0], lat_lon[1])\n",
    "#     print(path_list)\n",
    "    \n",
    "#     roughness_per_pixel_list = []\n",
    "#     for path in path_list:\n",
    "#         # Q- now that we have found many paths, how figure out to select which path?\n",
    "#         bls = mtk.latlon_to_bls(path, 275 , lat_lon[0], lat_lon[1])\n",
    "#         print(bls)\n",
    "        \n",
    "#         # use P and B to find roughness file, open it, and extract value for LS, append it to a list, and maybe finally append the list to DF as the last column\n",
    "#         if path < 100:\n",
    "#             print(path)\n",
    "#             path_str = str(path).zfill(3)\n",
    "#             print(path_str)\n",
    "            \n",
    "#         roughness_filepattern = \"roughness_toa_refl_P\"+path_str+\"_*\"+\"_B0\"+str(bls[0])+\".dat\"\n",
    "#         print(roughness_filepattern)\n",
    "#         rough_file_fp = os.path.join(roughness_dir, roughness_filepattern)\n",
    "#         print(rough_file_fp)\n",
    "        \n",
    "#         # check if file is found on machine\n",
    "#         roughness_file_found_list = glob.glob(os.path.join(roughness_dir, roughness_filepattern))\n",
    "#         print(\"roughness file found: %d\" %len(roughness_file_found_list))\n",
    "        \n",
    "#         if (len(roughness_file_found_list) > 1):\n",
    "#             raise ValueError('more than 1 file found, there is a problem with this code and it has to be reviewed.')\n",
    "        \n",
    "#         if (len(roughness_file_found_list) <= 0):\n",
    "#             print(\"roughness file not found- continue to next path\")\n",
    "#             continue\n",
    "            \n",
    "#         # open roughness file and read pixel value- chat binary format to 2D array and read pixel value\n",
    "#         rough_2d_arr = np.fromfile(roughness_file_found_list[0], dtype=np.double)[0:1048576].reshape((512,-1))\n",
    "#         print(rough_2d_arr.shape)\n",
    "        \n",
    "#         pixel_row = bls[1]\n",
    "#         pixel_col = bls[2]\n",
    "#         roughness_value = rough_2d_arr[int(pixel_row), int(pixel_col)]\n",
    "#         if roughness_value > 0:\n",
    "#             roughness_per_pixel_list.append(roughness_value)\n",
    "    \n",
    "#     print(\"========================== extracted rough pixels ===========================\")\n",
    "#     print(roughness_per_pixel_list)\n",
    "#     mean_roughness_per_pixel = sum(roughness_per_pixel_list)/len(roughness_per_pixel_list)\n",
    "#     roughness_per_pixel_list.clear()\n",
    "#     print(roughness_per_pixel_list)\n",
    "#     print(mean_roughness_per_pixel)\n",
    "#     print(\"\\n\")\n",
    "#     transect_from_misr.append(mean_roughness_per_pixel)\n"
   ]
  },
  {
   "cell_type": "code",
   "execution_count": null,
   "id": "60ec3e52",
   "metadata": {},
   "outputs": [],
   "source": [
    "# extract MISR-estimated roughness for the same latLon locations and plot them together with ATM\n",
    "transect_from_misr = []\n",
    "for irow in range(transect_small.shape[0]): # each row==LatLon might fall in several blocks==POB, we open each block and will average all at the end\n",
    "    \n",
    "    print(\"DF row: %s\" %irow)\n",
    "    lat_lon = transect_small[['lat','lon']].iloc[irow]\n",
    "    print(lat_lon)\n",
    "    \n",
    "    \n",
    "    \n",
    "#########################################################################\n",
    "    ### we do not need this part anymore\n",
    "#     path_list = mtk.latlon_to_path_list(lat_lon[0], lat_lon[1])\n",
    "    atm_day_time = ???\n",
    "    orbit_path = mtk.time_to_orbit_path(atm_day_time)\n",
    "    \n",
    "#########################################################################\n",
    "    \n",
    "    roughness_per_pixel = []\n",
    "    # Q- now that we have found many paths, how figure out to select which path?\n",
    "    bls = mtk.latlon_to_bls(orbit_path[1], 275 , lat_lon[0], lat_lon[1])\n",
    "    print(bls)\n",
    "\n",
    "    # use P and B to find roughness file, open it, and extract value for LS, append it to a list, and maybe finally append the list to DF as the last column\n",
    "    if path < 100:\n",
    "        print(path)\n",
    "        path_str = str(path).zfill(3)\n",
    "        print(path_str)\n",
    "\n",
    "    roughness_filepattern = \"roughness_toa_refl_P\"+path_str+\"_O0\"+orbit_path[0]+\"_B0\"+str(bls[0])+\".dat\"\n",
    "    print(roughness_filepattern)\n",
    "    rough_file_fp = os.path.join(roughness_dir, roughness_filepattern)\n",
    "    print(rough_file_fp)\n",
    "\n",
    "    # check if file is found on machine\n",
    "    roughness_file_found_list = glob.glob(os.path.join(roughness_dir, roughness_filepattern))\n",
    "    print(\"roughness file found: %d\" %len(roughness_file_found_list))\n",
    "\n",
    "    if (len(roughness_file_found_list) > 1):\n",
    "        raise ValueError('more than 1 file found, there is a problem with this code and it has to be reviewed.')\n",
    "\n",
    "    if (len(roughness_file_found_list) <= 0):\n",
    "        print(\"roughness file not found- continue to next path\")\n",
    "        continue\n",
    "\n",
    "    # open roughness file and read pixel value- chat binary format to 2D array and read pixel value\n",
    "    rough_2d_arr = np.fromfile(roughness_file_found_list[0], dtype=np.double)[0:1048576].reshape((512,-1))\n",
    "    print(rough_2d_arr.shape)\n",
    "\n",
    "    pixel_row = bls[1]\n",
    "    pixel_col = bls[2]\n",
    "    roughness_per_pixel = rough_2d_arr[int(pixel_row), int(pixel_col)]\n",
    "    if roughness_value < 0:\n",
    "        continue\n",
    "    else:\n",
    "        transect_from_misr.append(roughness_per_pixel)\n"
   ]
  },
  {
   "cell_type": "code",
   "execution_count": 16,
   "id": "a6c7d070",
   "metadata": {},
   "outputs": [
    {
     "data": {
      "text/plain": [
       "int"
      ]
     },
     "execution_count": 16,
     "metadata": {},
     "output_type": "execute_result"
    }
   ],
   "source": [
    "atm_day_time = \"2016-04-29T11:30:28Z\"\n",
    "orbit_path = mtk.time_to_orbit_path(atm_day_time)\n",
    "orbit_path[1]"
   ]
  },
  {
   "cell_type": "code",
   "execution_count": 17,
   "id": "07ab9f01",
   "metadata": {},
   "outputs": [
    {
     "ename": "Exception",
     "evalue": "MtkLatLonToBls Failed",
     "output_type": "error",
     "traceback": [
      "\u001b[0;31m---------------------------------------------------------------------------\u001b[0m",
      "\u001b[0;31mException\u001b[0m                                 Traceback (most recent call last)",
      "\u001b[0;32m<ipython-input-17-6d9c5ca46d33>\u001b[0m in \u001b[0;36m<module>\u001b[0;34m\u001b[0m\n\u001b[0;32m----> 1\u001b[0;31m \u001b[0mbls\u001b[0m \u001b[0;34m=\u001b[0m \u001b[0mmtk\u001b[0m\u001b[0;34m.\u001b[0m\u001b[0mlatlon_to_bls\u001b[0m\u001b[0;34m(\u001b[0m\u001b[0morbit_path\u001b[0m\u001b[0;34m[\u001b[0m\u001b[0;36m1\u001b[0m\u001b[0;34m]\u001b[0m\u001b[0;34m,\u001b[0m \u001b[0;36m275\u001b[0m \u001b[0;34m,\u001b[0m \u001b[0mlat_lon\u001b[0m\u001b[0;34m[\u001b[0m\u001b[0;36m0\u001b[0m\u001b[0;34m]\u001b[0m\u001b[0;34m,\u001b[0m \u001b[0mlat_lon\u001b[0m\u001b[0;34m[\u001b[0m\u001b[0;36m1\u001b[0m\u001b[0;34m]\u001b[0m\u001b[0;34m)\u001b[0m\u001b[0;34m\u001b[0m\u001b[0;34m\u001b[0m\u001b[0m\n\u001b[0m\u001b[1;32m      2\u001b[0m \u001b[0mbls\u001b[0m\u001b[0;34m\u001b[0m\u001b[0;34m\u001b[0m\u001b[0m\n",
      "\u001b[0;31mException\u001b[0m: MtkLatLonToBls Failed"
     ]
    }
   ],
   "source": [
    "bls = mtk.latlon_to_bls(orbit_path[1], 275 , lat_lon[0], lat_lon[1])\n",
    "bls"
   ]
  },
  {
   "cell_type": "code",
   "execution_count": 7,
   "id": "9e6127dd",
   "metadata": {},
   "outputs": [
    {
     "data": {
      "text/plain": [
       "<matplotlib.legend.Legend at 0x7f337ba63f98>"
      ]
     },
     "execution_count": 7,
     "metadata": {},
     "output_type": "execute_result"
    },
    {
     "data": {
      "image/png": "[encoded data removed]",
      "text/plain": [
       "<Figure size 432x288 with 1 Axes>"
      ]
     },
     "metadata": {
      "needs_background": "light"
     },
     "output_type": "display_data"
    }
   ],
   "source": [
    "# plot transect\n",
    "# transect_small[\"rms\"].plot(x=transect_small.index)#, y=transect_small)\n",
    "# plt.plot(transect_from_misr)\n",
    "\n",
    "x = transect_small.index\n",
    "plt.plot(x, transect_small[\"rms\"])\n",
    "plt.plot(x, transect_from_misr)\n",
    "plt.legend([\"ATM obs\",\"MISR-estimated\"])"
   ]
  },
  {
   "cell_type": "code",
   "execution_count": 8,
   "id": "a85a8d6e",
   "metadata": {},
   "outputs": [
    {
     "data": {
      "text/plain": [
       "RangeIndex(start=0, stop=10, step=1)"
      ]
     },
     "execution_count": 8,
     "metadata": {},
     "output_type": "execute_result"
    }
   ],
   "source": [
    "transect_small.index"
   ]
  },
  {
   "cell_type": "code",
   "execution_count": 9,
   "id": "91d1cf1f",
   "metadata": {},
   "outputs": [
    {
     "data": {
      "text/plain": [
       "[17.936515542331403,\n",
       " 18.07615123740873,\n",
       " 17.936515542331403,\n",
       " 17.969362313984306,\n",
       " 17.595307829924753,\n",
       " 17.67606097383951,\n",
       " 17.651999449965285,\n",
       " 17.969362313984306,\n",
       " 17.673886373626285,\n",
       " 17.67606097383951]"
      ]
     },
     "execution_count": 9,
     "metadata": {},
     "output_type": "execute_result"
    }
   ],
   "source": [
    "transect_from_misr"
   ]
  },
  {
   "cell_type": "markdown",
   "id": "0693fc12",
   "metadata": {},
   "source": [
    "## statistics"
   ]
  },
  {
   "cell_type": "code",
   "execution_count": 10,
   "id": "57c613bd",
   "metadata": {},
   "outputs": [
    {
     "data": {
      "text/html": [
       "<div>\n",
       "<style scoped>\n",
       "    .dataframe tbody tr th:only-of-type {\n",
       "        vertical-align: middle;\n",
       "    }\n",
       "\n",
       "    .dataframe tbody tr th {\n",
       "        vertical-align: top;\n",
       "    }\n",
       "\n",
       "    .dataframe thead th {\n",
       "        text-align: right;\n",
       "    }\n",
       "</style>\n",
       "<table border=\"1\" class=\"dataframe\">\n",
       "  <thead>\n",
       "    <tr style=\"text-align: right;\">\n",
       "      <th></th>\n",
       "      <th>Unnamed: 0</th>\n",
       "      <th>lat</th>\n",
       "      <th>lon</th>\n",
       "      <th>Ca_r</th>\n",
       "      <th>Cf_r</th>\n",
       "      <th>An_r</th>\n",
       "      <th>rms</th>\n",
       "    </tr>\n",
       "  </thead>\n",
       "  <tbody>\n",
       "    <tr>\n",
       "      <th>count</th>\n",
       "      <td>10.00000</td>\n",
       "      <td>10.000000</td>\n",
       "      <td>10.000000</td>\n",
       "      <td>1.000000e+01</td>\n",
       "      <td>10.00000</td>\n",
       "      <td>10.00000</td>\n",
       "      <td>10.00000</td>\n",
       "    </tr>\n",
       "    <tr>\n",
       "      <th>mean</th>\n",
       "      <td>5.50000</td>\n",
       "      <td>76.235794</td>\n",
       "      <td>230.712513</td>\n",
       "      <td>6.657400e-01</td>\n",
       "      <td>1.03182</td>\n",
       "      <td>0.53599</td>\n",
       "      <td>17.72300</td>\n",
       "    </tr>\n",
       "    <tr>\n",
       "      <th>std</th>\n",
       "      <td>3.02765</td>\n",
       "      <td>0.000249</td>\n",
       "      <td>0.001647</td>\n",
       "      <td>1.170278e-16</td>\n",
       "      <td>0.00000</td>\n",
       "      <td>0.00000</td>\n",
       "      <td>3.77318</td>\n",
       "    </tr>\n",
       "    <tr>\n",
       "      <th>min</th>\n",
       "      <td>1.00000</td>\n",
       "      <td>76.235474</td>\n",
       "      <td>230.710186</td>\n",
       "      <td>6.657400e-01</td>\n",
       "      <td>1.03182</td>\n",
       "      <td>0.53599</td>\n",
       "      <td>12.64000</td>\n",
       "    </tr>\n",
       "    <tr>\n",
       "      <th>25%</th>\n",
       "      <td>3.25000</td>\n",
       "      <td>76.235626</td>\n",
       "      <td>230.711308</td>\n",
       "      <td>6.657400e-01</td>\n",
       "      <td>1.03182</td>\n",
       "      <td>0.53599</td>\n",
       "      <td>15.02250</td>\n",
       "    </tr>\n",
       "    <tr>\n",
       "      <th>50%</th>\n",
       "      <td>5.50000</td>\n",
       "      <td>76.235775</td>\n",
       "      <td>230.712576</td>\n",
       "      <td>6.657400e-01</td>\n",
       "      <td>1.03182</td>\n",
       "      <td>0.53599</td>\n",
       "      <td>17.60000</td>\n",
       "    </tr>\n",
       "    <tr>\n",
       "      <th>75%</th>\n",
       "      <td>7.75000</td>\n",
       "      <td>76.235935</td>\n",
       "      <td>230.713030</td>\n",
       "      <td>6.657400e-01</td>\n",
       "      <td>1.03182</td>\n",
       "      <td>0.53599</td>\n",
       "      <td>18.84000</td>\n",
       "    </tr>\n",
       "    <tr>\n",
       "      <th>max</th>\n",
       "      <td>10.00000</td>\n",
       "      <td>76.236236</td>\n",
       "      <td>230.715193</td>\n",
       "      <td>6.657400e-01</td>\n",
       "      <td>1.03182</td>\n",
       "      <td>0.53599</td>\n",
       "      <td>25.02000</td>\n",
       "    </tr>\n",
       "  </tbody>\n",
       "</table>\n",
       "</div>"
      ],
      "text/plain": [
       "       Unnamed: 0        lat         lon          Ca_r      Cf_r      An_r  \\\n",
       "count    10.00000  10.000000   10.000000  1.000000e+01  10.00000  10.00000   \n",
       "mean      5.50000  76.235794  230.712513  6.657400e-01   1.03182   0.53599   \n",
       "std       3.02765   0.000249    0.001647  1.170278e-16   0.00000   0.00000   \n",
       "min       1.00000  76.235474  230.710186  6.657400e-01   1.03182   0.53599   \n",
       "25%       3.25000  76.235626  230.711308  6.657400e-01   1.03182   0.53599   \n",
       "50%       5.50000  76.235775  230.712576  6.657400e-01   1.03182   0.53599   \n",
       "75%       7.75000  76.235935  230.713030  6.657400e-01   1.03182   0.53599   \n",
       "max      10.00000  76.236236  230.715193  6.657400e-01   1.03182   0.53599   \n",
       "\n",
       "            rms  \n",
       "count  10.00000  \n",
       "mean   17.72300  \n",
       "std     3.77318  \n",
       "min    12.64000  \n",
       "25%    15.02250  \n",
       "50%    17.60000  \n",
       "75%    18.84000  \n",
       "max    25.02000  "
      ]
     },
     "execution_count": 10,
     "metadata": {},
     "output_type": "execute_result"
    }
   ],
   "source": [
    "transect_small.describe()"
   ]
  },
  {
   "cell_type": "markdown",
   "id": "c43a678b",
   "metadata": {},
   "source": [
    "## histogram"
   ]
  },
  {
   "cell_type": "code",
   "execution_count": 11,
   "id": "836a4915",
   "metadata": {},
   "outputs": [
    {
     "data": {
      "text/plain": [
       "<AxesSubplot:>"
      ]
     },
     "execution_count": 11,
     "metadata": {},
     "output_type": "execute_result"
    },
    {
     "data": {
      "image/png": "[encoded data removed]",
      "text/plain": [
       "<Figure size 432x288 with 1 Axes>"
      ]
     },
     "metadata": {
      "needs_background": "light"
     },
     "output_type": "display_data"
    }
   ],
   "source": [
    "transect_small[\"rms\"].hist(bins=20, alpha=1)"
   ]
  },
  {
   "cell_type": "code",
   "execution_count": null,
   "id": "a8a8b31c",
   "metadata": {},
   "outputs": [],
   "source": []
  }
 ],
 "metadata": {
  "kernelspec": {
   "display_name": "Python 3",
   "language": "python",
   "name": "python3"
  },
  "language_info": {
   "codemirror_mode": {
    "name": "ipython",
    "version": 3
   },
   "file_extension": ".py",
   "mimetype": "text/x-python",
   "name": "python",
   "nbconvert_exporter": "python",
   "pygments_lexer": "ipython3",
   "version": "3.6.9"
  }
 },
 "nbformat": 4,
 "nbformat_minor": 5
}
