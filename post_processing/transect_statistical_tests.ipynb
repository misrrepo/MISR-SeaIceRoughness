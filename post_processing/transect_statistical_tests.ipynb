{
 "cells": [
  {
   "cell_type": "code",
   "execution_count": null,
   "id": "a495e8a5",
   "metadata": {},
   "outputs": [],
   "source": [
    "import pandas as pd\n",
    "import matplotlib.pyplot as plt\n",
    "import numpy as np\n",
    "# import MisrToolkit as mtk # needs python3.6\n",
    "from mpl_toolkits.basemap import Basemap # needs python 3.8?\n",
    "import sys # to check python version\n",
    "import os\n",
    "import glob"
   ]
  },
  {
   "cell_type": "markdown",
   "id": "231e24c1",
   "metadata": {},
   "source": [
    "# Extract data from MISR-estimated roughness files by using MTK library. Should use python3.6 for this purpose "
   ]
  },
  {
   "cell_type": "markdown",
   "id": "d64951bb",
   "metadata": {},
   "source": [
    "## Plot Transect "
   ]
  },
  {
   "cell_type": "code",
   "execution_count": 1,
   "id": "cd4fa23b",
   "metadata": {},
   "outputs": [],
   "source": [
    "roughness_dir = \"/media/ehsan/6T_part1/2016/april_2016/14528_apr2016/project_april_2016_3cam/roughness_predicted_from_PH\"\n"
   ]
  },
  {
   "cell_type": "code",
   "execution_count": 2,
   "id": "f954d850",
   "metadata": {},
   "outputs": [
    {
     "ename": "NameError",
     "evalue": "name 'transect_small' is not defined",
     "output_type": "error",
     "traceback": [
      "\u001b[0;31m---------------------------------------------------------------------------\u001b[0m",
      "\u001b[0;31mNameError\u001b[0m                                 Traceback (most recent call last)",
      "\u001b[0;32m/var/folders/0l/r3vc28ks6n99yn157sn20whw0000gn/T/ipykernel_2489/3548020964.py\u001b[0m in \u001b[0;36m<module>\u001b[0;34m\u001b[0m\n\u001b[1;32m      1\u001b[0m \u001b[0;31m# extract MISR-estimated roughness for the same latLon locations and plot them together with ATM\u001b[0m\u001b[0;34m\u001b[0m\u001b[0;34m\u001b[0m\u001b[0m\n\u001b[1;32m      2\u001b[0m \u001b[0mtransect_from_misr\u001b[0m \u001b[0;34m=\u001b[0m \u001b[0;34m[\u001b[0m\u001b[0;34m]\u001b[0m\u001b[0;34m\u001b[0m\u001b[0;34m\u001b[0m\u001b[0m\n\u001b[0;32m----> 3\u001b[0;31m \u001b[0;32mfor\u001b[0m \u001b[0mirow\u001b[0m \u001b[0;32min\u001b[0m \u001b[0mrange\u001b[0m\u001b[0;34m(\u001b[0m\u001b[0mtransect_small\u001b[0m\u001b[0;34m.\u001b[0m\u001b[0mshape\u001b[0m\u001b[0;34m[\u001b[0m\u001b[0;36m0\u001b[0m\u001b[0;34m]\u001b[0m\u001b[0;34m)\u001b[0m\u001b[0;34m:\u001b[0m \u001b[0;31m# each row==LatLon might fall in several blocks==POB, we open each block and will average all at the end\u001b[0m\u001b[0;34m\u001b[0m\u001b[0;34m\u001b[0m\u001b[0m\n\u001b[0m\u001b[1;32m      4\u001b[0m \u001b[0;34m\u001b[0m\u001b[0m\n\u001b[1;32m      5\u001b[0m     \u001b[0mprint\u001b[0m\u001b[0;34m(\u001b[0m\u001b[0;34m\"DF row: %s\"\u001b[0m \u001b[0;34m%\u001b[0m\u001b[0mirow\u001b[0m\u001b[0;34m)\u001b[0m\u001b[0;34m\u001b[0m\u001b[0;34m\u001b[0m\u001b[0m\n",
      "\u001b[0;31mNameError\u001b[0m: name 'transect_small' is not defined"
     ]
    }
   ],
   "source": [
    "# extract MISR-estimated roughness for the same latLon locations and plot them together with ATM\n",
    "transect_from_misr = []\n",
    "for irow in range(transect_small.shape[0]): # each row==LatLon might fall in several blocks==POB, we open each block and will average all at the end\n",
    "    \n",
    "    print(\"DF row: %s\" %irow)\n",
    "    lat_lon = transect_small[['lat','lon']].iloc[irow]\n",
    "    print(lat_lon)\n",
    "    \n",
    "    path_list = mtk.latlon_to_path_list(lat_lon[0], lat_lon[1])\n",
    "    print(path_list)\n",
    "    \n",
    "    roughness_per_pixel_list = []\n",
    "    for path in path_list:\n",
    "        # Q- now that we have found many paths, how figure out to select which path?\n",
    "        bls = mtk.latlon_to_bls(path, 275 , lat_lon[0], lat_lon[1])\n",
    "        print(bls)\n",
    "        \n",
    "        # use P and B to find roughness file, open it, and extract value for LS, append it to a list, and maybe finally append the list to DF as the last column\n",
    "        if path < 100:\n",
    "            print(path)\n",
    "            path_str = str(path).zfill(3)\n",
    "            print(path_str)\n",
    "            \n",
    "        roughness_filepattern = \"roughness_toa_refl_P\"+path_str+\"_*\"+\"_B0\"+str(bls[0])+\".dat\"\n",
    "        print(roughness_filepattern)\n",
    "        rough_file_fp = os.path.join(roughness_dir, roughness_filepattern)\n",
    "        print(rough_file_fp)\n",
    "        \n",
    "        # check if file is found on machine\n",
    "        roughness_file_found_list = glob.glob(os.path.join(roughness_dir, roughness_filepattern))\n",
    "        print(\"if more than 1 file found, there is a problem with this code and it has to be reviewed\")\n",
    "        print(len(roughness_file_found_list))\n",
    "        \n",
    "        if (len(roughness_file_found_list) <= 0):\n",
    "            print(\"roughness file not found- continue to next path\")\n",
    "            continue\n",
    "        # open roughness file and read pixel value- chat binary format to 2D array and read pixel value\n",
    "        rough_2d_arr = np.fromfile(roughness_file_found_list[0], dtype=np.double)[0:1048576].reshape((512,-1))\n",
    "        print(rough_2d_arr.shape)\n",
    "        \n",
    "        pixel_row = bls[1]\n",
    "        pixel_col = bls[2]\n",
    "        roughness_value = rough_2d_arr[int(pixel_row), int(pixel_col)]\n",
    "        if roughness_value > 0:\n",
    "            roughness_per_pixel_list.append(roughness_value)\n",
    "    \n",
    "    print(\"----------> rough pixels...\")\n",
    "    print(roughness_per_pixel_list)\n",
    "    mean_roughness_per_pixel = sum(roughness_per_pixel_list)/len(roughness_per_pixel_list)\n",
    "    \n",
    "    transect_from_misr.append(mean_roughness_per_pixel)\n"
   ]
  },
  {
   "cell_type": "code",
   "execution_count": null,
   "id": "9e6127dd",
   "metadata": {},
   "outputs": [],
   "source": [
    "# plot transect\n",
    "transect_small[\"rms\"].plot(x=transect_small.index)#, y=transect_small)\n",
    "plt.plot(transect_from_misr)"
   ]
  },
  {
   "cell_type": "code",
   "execution_count": null,
   "id": "91d1cf1f",
   "metadata": {},
   "outputs": [],
   "source": [
    "transect_from_misr"
   ]
  },
  {
   "cell_type": "markdown",
   "id": "0693fc12",
   "metadata": {},
   "source": [
    "## statistics"
   ]
  },
  {
   "cell_type": "code",
   "execution_count": null,
   "id": "57c613bd",
   "metadata": {},
   "outputs": [],
   "source": [
    "transect_small.describe()"
   ]
  },
  {
   "cell_type": "markdown",
   "id": "c43a678b",
   "metadata": {},
   "source": [
    "## histogram"
   ]
  },
  {
   "cell_type": "code",
   "execution_count": null,
   "id": "836a4915",
   "metadata": {},
   "outputs": [],
   "source": [
    "transect_small[\"rms\"].hist(bins=20, alpha=1)"
   ]
  }
 ],
 "metadata": {
  "kernelspec": {
   "display_name": "Python 3 (ipykernel)",
   "language": "python",
   "name": "python3"
  },
  "language_info": {
   "codemirror_mode": {
    "name": "ipython",
    "version": 3
   },
   "file_extension": ".py",
   "mimetype": "text/x-python",
   "name": "python",
   "nbconvert_exporter": "python",
   "pygments_lexer": "ipython3",
   "version": "3.9.7"
  }
 },
 "nbformat": 4,
 "nbformat_minor": 5
}
