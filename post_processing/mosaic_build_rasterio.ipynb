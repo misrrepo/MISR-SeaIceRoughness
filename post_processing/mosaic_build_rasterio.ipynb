{
 "cells": [
  {
   "cell_type": "code",
   "execution_count": 1,
   "id": "370323a4",
   "metadata": {},
   "outputs": [],
   "source": [
    "import rasterio\n",
    "from rasterio.merge import merge\n",
    "from rasterio.plot import show\n",
    "import glob\n",
    "import os\n",
    "%matplotlib inline"
   ]
  },
  {
   "cell_type": "code",
   "execution_count": 2,
   "id": "eba3a0c1",
   "metadata": {},
   "outputs": [
    {
     "name": "stdout",
     "output_type": "stream",
     "text": [
      "/Users/ehsanmos/MLP_dataset/test_AM_crossing/raster_path_**_reprojToEPSG_3995.tif\n"
     ]
    },
    {
     "data": {
      "text/plain": [
       "True"
      ]
     },
     "execution_count": 2,
     "metadata": {},
     "output_type": "execute_result"
    }
   ],
   "source": [
    "# File and folder paths- path to where raster files are\n",
    "# dirpath = \"/Volumes/Ehsan-7757225325/2016/july_2016/predict_roughness_k_zero_npts_10/2016_7_rasters_noDataNeg99_TiffFileFloat64_max_geographicalMesh_withLatLonList_withAM/small_samples\"\n",
    "dirpath = \"/Users/ehsanmos/MLP_dataset/test_AM_crossing\"\n",
    "\n",
    "\n",
    "\n",
    "# out_fp = os.path.join(dirpath, \"final_mosaic_rasterio_july2016_test_AMcrossingBlocks.tif\")\n",
    "out_fp = os.path.join(dirpath, \"mosaic_rasterio_july2016_test_AMcrossingBlocks.tif\")\n",
    "\n",
    "\n",
    "# Make a search criteria to select the DEM files\n",
    "search_criteria = 'raster_path_*'+'*_reprojToEPSG_3995.tif'\n",
    "q = os.path.join(dirpath, search_criteria)\n",
    "print(q)\n",
    "os.path.isdir(dirpath)\n"
   ]
  },
  {
   "cell_type": "code",
   "execution_count": 3,
   "id": "2b61a861",
   "metadata": {},
   "outputs": [
    {
     "data": {
      "text/plain": [
       "41"
      ]
     },
     "execution_count": 3,
     "metadata": {},
     "output_type": "execute_result"
    }
   ],
   "source": [
    "# glob function can be used to list files from a directory with specific criteria\n",
    "dem_fps = glob.glob(q)\n",
    "\n",
    "# Files that were found:\n",
    "len(dem_fps)"
   ]
  },
  {
   "cell_type": "code",
   "execution_count": 4,
   "id": "90af94c1",
   "metadata": {},
   "outputs": [],
   "source": [
    "# List for the source files\n",
    "src_files_to_mosaic = []\n",
    "\n",
    "# Iterate over raster files and add them to source -list in 'read mode'\n",
    "for fp in dem_fps:\n",
    "    src = rasterio.open(fp)\n",
    "    src_files_to_mosaic.append(src)\n",
    "\n",
    "# src_files_to_mosaic"
   ]
  },
  {
   "cell_type": "code",
   "execution_count": 5,
   "id": "ee2c345f",
   "metadata": {},
   "outputs": [
    {
     "data": {
      "image/png": "[encoded data removed]",
      "text/plain": [
       "<Figure size 864x288 with 4 Axes>"
      ]
     },
     "metadata": {
      "needs_background": "light"
     },
     "output_type": "display_data"
    }
   ],
   "source": [
    "# Create a visual of 4 plots next to each other\n",
    "\n",
    "import matplotlib.pyplot as plt\n",
    "%matplotlib inline\n",
    "\n",
    "# Create 4 plots next to each other\n",
    "fig, (ax1, ax2, ax3, ax4) = plt.subplots(ncols=4, nrows=1, figsize=(12, 4))\n",
    "\n",
    "# Plot first four files\n",
    "show(src_files_to_mosaic[0], ax=ax1)\n",
    "show(src_files_to_mosaic[1], ax=ax2)\n",
    "show(src_files_to_mosaic[2], ax=ax3)\n",
    "show(src_files_to_mosaic[3], ax=ax4)\n",
    "\n",
    "# Do not show y-ticks values in last three axis\n",
    "for ax in [ax2, ax3, ax4]:\n",
    "    ax.yaxis.set_visible(False)\n"
   ]
  },
  {
   "cell_type": "code",
   "execution_count": 6,
   "id": "6bfa9d6c",
   "metadata": {},
   "outputs": [],
   "source": [
    "# # Merge function returns a single mosaic array and the transformation info\n",
    "# mosaic, out_trans = merge(src_files_to_mosaic)#, method='max')\n",
    "\n",
    "# # Plot the result\n",
    "# show(mosaic, cmap='terrain')"
   ]
  },
  {
   "cell_type": "code",
   "execution_count": 7,
   "id": "50dfb19b",
   "metadata": {},
   "outputs": [
    {
     "data": {
      "image/png": "[encoded data removed]",
      "text/plain": [
       "<Figure size 432x288 with 1 Axes>"
      ]
     },
     "metadata": {
      "needs_background": "light"
     },
     "output_type": "display_data"
    },
    {
     "data": {
      "text/plain": [
       "<AxesSubplot:>"
      ]
     },
     "execution_count": 7,
     "metadata": {},
     "output_type": "execute_result"
    }
   ],
   "source": [
    "# Merge function returns a single mosaic array and the transformation info\n",
    "mosaic, out_trans = merge(src_files_to_mosaic, method='max')\n",
    "\n",
    "# Plot the result\n",
    "show(mosaic, cmap='terrain')"
   ]
  },
  {
   "cell_type": "code",
   "execution_count": 8,
   "id": "7fc13545",
   "metadata": {},
   "outputs": [
    {
     "data": {
      "text/plain": [
       "Affine(307.66244926676063, 0.0, -799372.3486124503,\n",
       "       0.0, -307.66244926676063, 2302455.3904690905)"
      ]
     },
     "execution_count": 8,
     "metadata": {},
     "output_type": "execute_result"
    }
   ],
   "source": [
    "out_trans"
   ]
  },
  {
   "cell_type": "code",
   "execution_count": 9,
   "id": "2431cf7d",
   "metadata": {},
   "outputs": [],
   "source": [
    "# Copy the metadata\n",
    "out_meta = src.meta.copy()\n",
    "\n",
    "# Update the metadata\n",
    "out_meta.update({\"driver\": \"GTiff\",\n",
    "                 \"height\": mosaic.shape[1],\n",
    "                 \"width\": mosaic.shape[2],\n",
    "                 \"transform\": out_trans})"
   ]
  },
  {
   "cell_type": "code",
   "execution_count": 10,
   "id": "6e5566c7",
   "metadata": {},
   "outputs": [],
   "source": [
    "# Write the mosaic raster to disk\n",
    "with rasterio.open(out_fp, \"w\", **out_meta) as dest:\n",
    "    dest.write(mosaic)"
   ]
  },
  {
   "cell_type": "code",
   "execution_count": 11,
   "id": "5a9b9a52",
   "metadata": {},
   "outputs": [
    {
     "name": "stdout",
     "output_type": "stream",
     "text": [
      "/Users/ehsanmos/MLP_dataset/test_AM_crossing/mosaic_rasterio_july2016_test_AMcrossingBlocks.tif\n"
     ]
    }
   ],
   "source": [
    "print(out_fp)"
   ]
  },
  {
   "cell_type": "code",
   "execution_count": null,
   "id": "55e90a9b",
   "metadata": {},
   "outputs": [],
   "source": []
  }
 ],
 "metadata": {
  "kernelspec": {
   "display_name": "Python 3 (ipykernel)",
   "language": "python",
   "name": "python3"
  },
  "language_info": {
   "codemirror_mode": {
    "name": "ipython",
    "version": 3
   },
   "file_extension": ".py",
   "mimetype": "text/x-python",
   "name": "python",
   "nbconvert_exporter": "python",
   "pygments_lexer": "ipython3",
   "version": "3.9.11"
  }
 },
 "nbformat": 4,
 "nbformat_minor": 5
}
