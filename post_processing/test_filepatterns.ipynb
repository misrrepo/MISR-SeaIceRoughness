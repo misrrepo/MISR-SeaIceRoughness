{
 "cells": [
  {
   "cell_type": "code",
   "execution_count": 1,
   "id": "74c2f5f2",
   "metadata": {},
   "outputs": [],
   "source": [
    "ras_dir = '/Volumes/Ehsan-7757225325/2016/july_2016/predict_roughness_k_zero_npts_10/2016_7_rasters_noDataNeg99_TiffFileFloat64_max_geographicalMesh_withLatLonList_findingAMline_test1'\n"
   ]
  },
  {
   "cell_type": "code",
   "execution_count": 2,
   "id": "d1e1430d",
   "metadata": {},
   "outputs": [
    {
     "data": {
      "text/plain": [
       "'raster_path_46_block_10*_latlon.tif'"
      ]
     },
     "execution_count": 2,
     "metadata": {},
     "output_type": "execute_result"
    }
   ],
   "source": [
    "path_label = '46'\n",
    "block_label = '10'\n",
    "\n",
    "raster_filepattern = \"raster_path_\"+path_label+\"_block_\"+block_label+\"*_latlon.tif\"\n",
    "raster_filepattern"
   ]
  },
  {
   "cell_type": "code",
   "execution_count": 3,
   "id": "92dda881",
   "metadata": {},
   "outputs": [],
   "source": [
    "import glob, os"
   ]
  },
  {
   "cell_type": "code",
   "execution_count": 4,
   "id": "9c9ba2d8",
   "metadata": {},
   "outputs": [],
   "source": [
    "files_found_list = glob.glob(os.path.join(ras_dir, raster_filepattern))"
   ]
  },
  {
   "cell_type": "code",
   "execution_count": 5,
   "id": "7913f83f",
   "metadata": {},
   "outputs": [
    {
     "data": {
      "text/plain": [
       "1"
      ]
     },
     "execution_count": 5,
     "metadata": {},
     "output_type": "execute_result"
    }
   ],
   "source": [
    "len(files_found_list)"
   ]
  },
  {
   "cell_type": "code",
   "execution_count": 7,
   "id": "6639be67",
   "metadata": {},
   "outputs": [
    {
     "data": {
      "text/plain": [
       "['/Volumes/Ehsan-7757225325/2016/july_2016/predict_roughness_k_zero_npts_10/2016_7_rasters_noDataNeg99_TiffFileFloat64_max_geographicalMesh_withLatLonList_findingAMline_test1/raster_path_46_block_10_85GCPs_noGdalRes_dTypeFloat64_85gcps_latlon.tif']"
      ]
     },
     "execution_count": 7,
     "metadata": {},
     "output_type": "execute_result"
    }
   ],
   "source": [
    "files_found_list"
   ]
  },
  {
   "cell_type": "code",
   "execution_count": 6,
   "id": "dbd26975",
   "metadata": {},
   "outputs": [
    {
     "data": {
      "text/plain": [
       "'raster_path_46_block_10_85GCPs_noGdalRes_dTypeFloat64_85gcps_latlon.tif'"
      ]
     },
     "execution_count": 6,
     "metadata": {},
     "output_type": "execute_result"
    }
   ],
   "source": [
    "files_found_list[0].split('/')[-1]"
   ]
  },
  {
   "cell_type": "code",
   "execution_count": null,
   "id": "0443f068",
   "metadata": {},
   "outputs": [],
   "source": []
  }
 ],
 "metadata": {
  "kernelspec": {
   "display_name": "Python 3 (ipykernel)",
   "language": "python",
   "name": "python3"
  },
  "language_info": {
   "codemirror_mode": {
    "name": "ipython",
    "version": 3
   },
   "file_extension": ".py",
   "mimetype": "text/x-python",
   "name": "python",
   "nbconvert_exporter": "python",
   "pygments_lexer": "ipython3",
   "version": "3.9.11"
  }
 },
 "nbformat": 4,
 "nbformat_minor": 5
}
