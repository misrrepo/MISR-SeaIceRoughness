{
 "cells": [
  {
   "cell_type": "code",
   "execution_count": 1,
   "metadata": {},
   "outputs": [],
   "source": [
    "# import numpy as np\n",
    "import os, glob\n",
    "# import gdal, osr # python2.7\n",
    "import MisrToolkit as Mtk # python2.7\n",
    "from MisrToolkit import * # \n",
    "# from subprocess import call\n",
    "# import datetime as dt\n",
    "# from matplotlib import pyplot as plt \n",
    "import shutil"
   ]
  },
  {
   "cell_type": "code",
   "execution_count": 2,
   "metadata": {},
   "outputs": [],
   "source": [
    "main_roughness_dir_fullpath = '/Volumes/Ehsanm_DRI/research/MISR/roughness_files/from_PH/roughness_2013_apr1to16_p1to233_b1to40'"
   ]
  },
  {
   "cell_type": "code",
   "execution_count": 3,
   "metadata": {},
   "outputs": [],
   "source": [
    "year = 2013\n",
    "month = 4\n",
    "day = 6"
   ]
  },
  {
   "cell_type": "code",
   "execution_count": 4,
   "metadata": {},
   "outputs": [],
   "source": [
    "start_time = str(year)+'-'+str(month)+'-'+str(day)+'T00:00:00Z'\n",
    "end_time = str(year)+'-'+str(month)+'-'+str(day)+'T23:59:59Z'"
   ]
  },
  {
   "cell_type": "code",
   "execution_count": 5,
   "metadata": {},
   "outputs": [
    {
     "name": "stdout",
     "output_type": "stream",
     "text": [
      "2013-4-6T00:00:00Z\n",
      "2013-4-6T23:59:59Z\n"
     ]
    }
   ],
   "source": [
    "print(start_time)\n",
    "print(end_time)"
   ]
  },
  {
   "cell_type": "code",
   "execution_count": 6,
   "metadata": {},
   "outputs": [
    {
     "name": "stdout",
     "output_type": "stream",
     "text": [
      "[70739, 70740, 70741, 70742, 70743, 70744, 70745, 70746, 70747, 70748, 70749, 70750, 70751, 70752, 70753, 70754]\n",
      "-> found 16 orbits!\n"
     ]
    }
   ],
   "source": [
    "orbit_list = Mtk.time_range_to_orbit_list(start_time, end_time)\n",
    "print(orbit_list)\n",
    "print('-> found %d orbits!' %len(orbit_list))"
   ]
  },
  {
   "cell_type": "markdown",
   "metadata": {},
   "source": [
    "## for each orbit in list, we will find roughness files for that specific orbit "
   ]
  },
  {
   "cell_type": "markdown",
   "metadata": {},
   "source": [
    "## check if directory for specific day exists, else we create the directory"
   ]
  },
  {
   "cell_type": "code",
   "execution_count": 7,
   "metadata": {},
   "outputs": [
    {
     "name": "stdout",
     "output_type": "stream",
     "text": [
      "roughness_subdir_2013_4_6\n"
     ]
    }
   ],
   "source": [
    "rough_subdir_name = 'roughness_subdir_'+str(year)+'_'+str(month)+'_'+str(day)\n",
    "print(rough_subdir_name)"
   ]
  },
  {
   "cell_type": "code",
   "execution_count": 8,
   "metadata": {},
   "outputs": [
    {
     "name": "stdout",
     "output_type": "stream",
     "text": [
      "/Volumes/Ehsanm_DRI/research/MISR/roughness_files/from_PH/roughness_2013_apr1to16_p1to233_b1to40/roughness_subdir_2013_4_6\n"
     ]
    }
   ],
   "source": [
    "rough_subdir_fullpath = os.path.join(main_roughness_dir_fullpath, rough_subdir_name)\n",
    "print(rough_subdir_fullpath)"
   ]
  },
  {
   "cell_type": "code",
   "execution_count": 9,
   "metadata": {},
   "outputs": [
    {
     "name": "stdout",
     "output_type": "stream",
     "text": [
      "-> roughness subdir does NOT exist! We make that directory.\n",
      "/Volumes/Ehsanm_DRI/research/MISR/roughness_files/from_PH/roughness_2013_apr1to16_p1to233_b1to40/roughness_subdir_2013_4_6\n",
      "True\n"
     ]
    }
   ],
   "source": [
    "if (not (os.path.isdir(rough_subdir_fullpath))):\n",
    "    print('-> roughness subdir does NOT exist! We make that directory.')\n",
    "    os.mkdir(rough_subdir_fullpath)\n",
    "    print(rough_subdir_fullpath)\n",
    "    print(os.path.isdir(rough_subdir_fullpath))\n",
    "else:\n",
    "    print('-> roughness subdir exists!')\n",
    "    print(rough_subdir_fullpath)\n",
    "    print(os.path.isdir(rough_subdir_fullpath))"
   ]
  },
  {
   "cell_type": "markdown",
   "metadata": {},
   "source": [
    "## make list of all available roughness file patterns for specific day"
   ]
  },
  {
   "cell_type": "code",
   "execution_count": 10,
   "metadata": {},
   "outputs": [
    {
     "name": "stdout",
     "output_type": "stream",
     "text": [
      "-> processing orbit= 70739\n",
      "-> looking for pattern= roughness_toa_refl_P**_O070739*.dat\n",
      "0\n",
      "-> processing orbit= 70740\n",
      "-> looking for pattern= roughness_toa_refl_P**_O070740*.dat\n",
      "31\n",
      "-> processing orbit= 70741\n",
      "-> looking for pattern= roughness_toa_refl_P**_O070741*.dat\n",
      "31\n",
      "-> processing orbit= 70742\n",
      "-> looking for pattern= roughness_toa_refl_P**_O070742*.dat\n",
      "31\n",
      "-> processing orbit= 70743\n",
      "-> looking for pattern= roughness_toa_refl_P**_O070743*.dat\n",
      "31\n",
      "-> processing orbit= 70744\n",
      "-> looking for pattern= roughness_toa_refl_P**_O070744*.dat\n",
      "31\n",
      "-> processing orbit= 70745\n",
      "-> looking for pattern= roughness_toa_refl_P**_O070745*.dat\n",
      "31\n",
      "-> processing orbit= 70746\n",
      "-> looking for pattern= roughness_toa_refl_P**_O070746*.dat\n",
      "31\n",
      "-> processing orbit= 70747\n",
      "-> looking for pattern= roughness_toa_refl_P**_O070747*.dat\n",
      "30\n",
      "-> processing orbit= 70748\n",
      "-> looking for pattern= roughness_toa_refl_P**_O070748*.dat\n",
      "30\n",
      "-> processing orbit= 70749\n",
      "-> looking for pattern= roughness_toa_refl_P**_O070749*.dat\n",
      "31\n",
      "-> processing orbit= 70750\n",
      "-> looking for pattern= roughness_toa_refl_P**_O070750*.dat\n",
      "31\n",
      "-> processing orbit= 70751\n",
      "-> looking for pattern= roughness_toa_refl_P**_O070751*.dat\n",
      "31\n",
      "-> processing orbit= 70752\n",
      "-> looking for pattern= roughness_toa_refl_P**_O070752*.dat\n",
      "31\n",
      "-> processing orbit= 70753\n",
      "-> looking for pattern= roughness_toa_refl_P**_O070753*.dat\n",
      "31\n",
      "-> processing orbit= 70754\n",
      "-> looking for pattern= roughness_toa_refl_P**_O070754*.dat\n",
      "31\n"
     ]
    }
   ],
   "source": [
    "for orbit in orbit_list:\n",
    "    print('-> processing orbit= %d' %orbit)\n",
    "    #~ make pattern \n",
    "    roughness_file_pattern = 'roughness_toa_refl_P*'+'*_O0'+str(orbit)+'*'+'.dat'\n",
    "    print('-> looking for pattern= %s' %roughness_file_pattern)\n",
    "    #~ search for file pattern and make a list\n",
    "    roughness_files_found_list = glob.glob(os.path.join(main_roughness_dir_fullpath, roughness_file_pattern))\n",
    "    print(len(roughness_files_found_list))\n",
    "#     print(roughness_files_found_list)\n",
    "\n",
    "    for rough_file_day in roughness_files_found_list:\n",
    "        new_path = shutil.move(rough_file_day, rough_subdir_fullpath)"
   ]
  },
  {
   "cell_type": "code",
   "execution_count": 11,
   "metadata": {},
   "outputs": [],
   "source": [
    "# print('-> finished moving roughness files for day= %d' %day)\n",
    "# print(rough_subdir_fullpath)\n",
    "# moved_files_list = glob.glob(rough_subdir_fullpath, 'roughness_toa_refl*.dat')\n",
    "# print('-> moved files= %d' %len(moved_files_list))"
   ]
  },
  {
   "cell_type": "code",
   "execution_count": null,
   "metadata": {},
   "outputs": [],
   "source": []
  }
 ],
 "metadata": {
  "kernelspec": {
   "display_name": "Python 2",
   "language": "python",
   "name": "python2"
  },
  "language_info": {
   "codemirror_mode": {
    "name": "ipython",
    "version": 2
   },
   "file_extension": ".py",
   "mimetype": "text/x-python",
   "name": "python",
   "nbconvert_exporter": "python",
   "pygments_lexer": "ipython2",
   "version": "2.7.16"
  }
 },
 "nbformat": 4,
 "nbformat_minor": 2
}
