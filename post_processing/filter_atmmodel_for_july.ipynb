{
 "cells": [
  {
   "cell_type": "code",
   "execution_count": 1,
   "id": "662fd502",
   "metadata": {},
   "outputs": [],
   "source": [
    "import csv\n",
    "import os\n",
    "import MisrToolkit as mtk\n",
    "import pandas as pd"
   ]
  },
  {
   "cell_type": "code",
   "execution_count": 2,
   "id": "99459229",
   "metadata": {},
   "outputs": [
    {
     "name": "stdout",
     "output_type": "stream",
     "text": [
      "True\n"
     ]
    }
   ],
   "source": [
    "home_dir = '/Volumes/SEAGATE/july_2016/'\n",
    "csv_file = 'atmmodel_july_2016.csv'\n",
    "\n",
    "atmmodel_fp = os.path.join(home_dir, csv_file)\n",
    "print(os.path.isfile(atmmodel_fp))"
   ]
  },
  {
   "cell_type": "code",
   "execution_count": 3,
   "id": "5c841115",
   "metadata": {},
   "outputs": [],
   "source": [
    "in_df = pd.read_csv(atmmodel_fp)"
   ]
  },
  {
   "cell_type": "code",
   "execution_count": 4,
   "id": "8da7f4be",
   "metadata": {},
   "outputs": [
    {
     "data": {
      "text/plain": [
       "98658"
      ]
     },
     "execution_count": 4,
     "metadata": {},
     "output_type": "execute_result"
    }
   ],
   "source": [
    "total_rows = in_df.shape[0]\n",
    "total_rows"
   ]
  },
  {
   "cell_type": "code",
   "execution_count": 5,
   "id": "68fa43b0",
   "metadata": {},
   "outputs": [],
   "source": [
    "july_notInRange_index_list = []\n",
    "\n",
    "for irow in range(total_rows):\n",
    "    orbit = in_df[' orbit'][irow]\n",
    "    orbit_date = mtk.orbit_to_time_range(orbit)[0].split('-')[2][0:2]\n",
    "    if int(orbit_date) > 16:\n",
    "        july_notInRange_index_list.append(irow)\n",
    "        \n"
   ]
  },
  {
   "cell_type": "code",
   "execution_count": 6,
   "id": "d2233295",
   "metadata": {},
   "outputs": [
    {
     "data": {
      "text/plain": [
       "50847"
      ]
     },
     "execution_count": 6,
     "metadata": {},
     "output_type": "execute_result"
    }
   ],
   "source": [
    "len(july_notInRange_index_list)"
   ]
  },
  {
   "cell_type": "code",
   "execution_count": 7,
   "id": "4b72070f",
   "metadata": {},
   "outputs": [],
   "source": [
    "# drop rows from DF\n",
    "\n",
    "in_df.drop(july_notInRange_index_list, axis='index', inplace=True)"
   ]
  },
  {
   "cell_type": "code",
   "execution_count": 8,
   "id": "45bd36e1",
   "metadata": {},
   "outputs": [
    {
     "data": {
      "text/plain": [
       "(47811, 15)"
      ]
     },
     "execution_count": 8,
     "metadata": {},
     "output_type": "execute_result"
    }
   ],
   "source": [
    "in_df.shape"
   ]
  },
  {
   "cell_type": "code",
   "execution_count": 9,
   "id": "7347def9",
   "metadata": {},
   "outputs": [
    {
     "data": {
      "text/plain": [
       "'/Volumes/SEAGATE/july_2016/atmmodel_july_2016_1to16.csv'"
      ]
     },
     "execution_count": 9,
     "metadata": {},
     "output_type": "execute_result"
    }
   ],
   "source": [
    "output_file = 'atmmodel_july_2016_1to16.csv'\n",
    "output_fp = os.path.join(home_dir, output_file)\n",
    "output_fp"
   ]
  },
  {
   "cell_type": "code",
   "execution_count": 10,
   "id": "5dcfa867",
   "metadata": {},
   "outputs": [],
   "source": [
    "in_df.to_csv(output_fp, index=False)"
   ]
  },
  {
   "cell_type": "code",
   "execution_count": 11,
   "id": "47eaa936",
   "metadata": {},
   "outputs": [],
   "source": [
    "# orbit = in_df[' orbit'][0]\n",
    "# orbit"
   ]
  },
  {
   "cell_type": "code",
   "execution_count": 12,
   "id": "c2939f8d",
   "metadata": {},
   "outputs": [],
   "source": [
    "# orbit_date = mtk.orbit_to_time_range(orbit)[0].split('-')[2][0:2]\n",
    "# orbit_date"
   ]
  },
  {
   "cell_type": "code",
   "execution_count": 13,
   "id": "55df830b",
   "metadata": {},
   "outputs": [],
   "source": [
    "# in_df.drop(index, axis='index', inplace=True)"
   ]
  },
  {
   "cell_type": "code",
   "execution_count": null,
   "id": "bdc4c01e",
   "metadata": {},
   "outputs": [],
   "source": []
  }
 ],
 "metadata": {
  "kernelspec": {
   "display_name": "Python 3 (ipykernel)",
   "language": "python",
   "name": "python3"
  },
  "language_info": {
   "codemirror_mode": {
    "name": "ipython",
    "version": 3
   },
   "file_extension": ".py",
   "mimetype": "text/x-python",
   "name": "python",
   "nbconvert_exporter": "python",
   "pygments_lexer": "ipython3",
   "version": "3.9.7"
  }
 },
 "nbformat": 4,
 "nbformat_minor": 5
}
