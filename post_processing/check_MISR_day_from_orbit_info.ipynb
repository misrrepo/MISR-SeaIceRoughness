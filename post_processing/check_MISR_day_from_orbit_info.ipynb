{
 "cells": [
  {
   "cell_type": "code",
   "execution_count": 1,
   "metadata": {},
   "outputs": [],
   "source": [
    "from platform import python_version\n",
    "import os, string, glob\n",
    "import MisrToolkit as MTK\n"
   ]
  },
  {
   "cell_type": "code",
   "execution_count": 2,
   "metadata": {},
   "outputs": [
    {
     "data": {
      "text/plain": [
       "'2.7.16'"
      ]
     },
     "execution_count": 2,
     "metadata": {},
     "output_type": "execute_result"
    }
   ],
   "source": [
    "python_version()"
   ]
  },
  {
   "cell_type": "code",
   "execution_count": 3,
   "metadata": {},
   "outputs": [],
   "source": [
    "# hdf_file_fullpath = '/Volumes/Ehsan7757420250/april_2016/sample_ellipsoid_files_april2016/MISR_AM1_GRP_ELLIPSOID_GM_P001_O086665_AA_F03_0024.hdf'"
   ]
  },
  {
   "cell_type": "code",
   "execution_count": 4,
   "metadata": {},
   "outputs": [],
   "source": [
    "# os.path.isfile(hdf_file_fullpath)"
   ]
  },
  {
   "cell_type": "code",
   "execution_count": 5,
   "metadata": {},
   "outputs": [],
   "source": [
    "def check_day_from_orbit(hdf_file_fullpath):\n",
    "    orbit_num = hdf_file_fullpath.split('/')[-1].split('_')[6][1:]\n",
    "    orbit_day = MTK.orbit_to_time_range(int(orbit_num))\n",
    "    extracted_day = orbit_day[0].split('-')[-1][0:3]\n",
    "    #~ get rid of 'T' in the end\n",
    "    if (extracted_day.isalpha()==False):  # if found T in string\n",
    "        refined_day = extracted_day[:-1]  # does not include last char == except last char\n",
    "        print(refined_day)\n",
    "    else:\n",
    "        print('T not found in day-string')\n",
    "        refined_day = extracted_day\n",
    "        print(refined_day)\n",
    "    return refined_day\n",
    "    "
   ]
  },
  {
   "cell_type": "code",
   "execution_count": 6,
   "metadata": {},
   "outputs": [
    {
     "name": "stdout",
     "output_type": "stream",
     "text": [
      "03\n",
      "03\n",
      "03\n",
      "03\n",
      "03\n",
      "03\n",
      "03\n",
      "03\n",
      "03\n",
      "19\n",
      "days>16, we skip this file\n",
      "19\n",
      "days>16, we skip this file\n",
      "19\n",
      "days>16, we skip this file\n",
      "19\n",
      "days>16, we skip this file\n",
      "19\n",
      "days>16, we skip this file\n",
      "19\n",
      "days>16, we skip this file\n",
      "19\n",
      "days>16, we skip this file\n",
      "19\n",
      "days>16, we skip this file\n",
      "19\n",
      "days>16, we skip this file\n",
      "10\n",
      "10\n",
      "10\n",
      "10\n",
      "10\n",
      "10\n",
      "26\n",
      "days>16, we skip this file\n",
      "26\n",
      "days>16, we skip this file\n",
      "26\n",
      "days>16, we skip this file\n",
      "26\n",
      "days>16, we skip this file\n",
      "26\n",
      "days>16, we skip this file\n",
      "26\n",
      "days>16, we skip this file\n",
      "26\n",
      "days>16, we skip this file\n",
      "13\n",
      "29\n",
      "days>16, we skip this file\n",
      "29\n",
      "days>16, we skip this file\n",
      "05\n",
      "05\n",
      "05\n",
      "21\n",
      "days>16, we skip this file\n",
      "21\n",
      "days>16, we skip this file\n",
      "21\n",
      "days>16, we skip this file\n",
      "21\n",
      "days>16, we skip this file\n",
      "21\n",
      "days>16, we skip this file\n",
      "12\n",
      "28\n",
      "days>16, we skip this file\n",
      "28\n",
      "days>16, we skip this file\n",
      "28\n",
      "days>16, we skip this file\n",
      "28\n",
      "days>16, we skip this file\n",
      "01\n",
      "01\n",
      "01\n",
      "01\n",
      "01\n",
      "01\n",
      "01\n",
      "01\n",
      "01\n",
      "01\n",
      "01\n",
      "01\n",
      "01\n",
      "01\n",
      "01\n",
      "01\n",
      "01\n",
      "01\n",
      "01\n",
      "01\n",
      "01\n",
      "01\n",
      "01\n",
      "01\n",
      "01\n"
     ]
    }
   ],
   "source": [
    "hdf_pattern = 'MISR_AM1_GRP_ELLIPSOID_GM_P*'+'.hdf'\n",
    "hdf_dir = '/Volumes/Ehsan7757420250/april_2016/sample_ellipsoid_files_april2016/'\n",
    "hdf_pattern_fullpath = os.path.join(hdf_dir, hdf_pattern)\n",
    "hdfs_found_list = glob.glob(hdf_pattern_fullpath)\n",
    "for ifile in hdfs_found_list:\n",
    "    ret_day = check_day_from_orbit(ifile)\n",
    "    #~ check day to be in our range\n",
    "    if (int(ret_day) > 16):\n",
    "        print('days>16, we skip this file')"
   ]
  },
  {
   "cell_type": "code",
   "execution_count": null,
   "metadata": {},
   "outputs": [],
   "source": []
  }
 ],
 "metadata": {
  "kernelspec": {
   "display_name": "Python 2",
   "language": "python",
   "name": "python2"
  },
  "language_info": {
   "codemirror_mode": {
    "name": "ipython",
    "version": 2
   },
   "file_extension": ".py",
   "mimetype": "text/x-python",
   "name": "python",
   "nbconvert_exporter": "python",
   "pygments_lexer": "ipython2",
   "version": "2.7.16"
  }
 },
 "nbformat": 4,
 "nbformat_minor": 2
}
