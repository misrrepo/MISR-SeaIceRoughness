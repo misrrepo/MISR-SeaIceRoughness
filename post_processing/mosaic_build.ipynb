{
 "cells": [
  {
   "cell_type": "markdown",
   "id": "4ae0dc7d",
   "metadata": {},
   "source": [
    "challenges:\n",
    "\n",
    "1- how use vrt for geolocation? can we use it at all?\n",
    "\n",
    "2- how use vrt for making mosaic?\n",
    "\n",
    " <SRS>GEOGCS[\"WGS 84\",DATUM[\"WGS_1984\",SPHEROID[\"WGS 84\",6378137,298.257223563,AUTHORITY[\"EPSG\",\"7030\"]],AUTHORITY[\"EPSG\",\"6326\"]],PRIMEM[\"Greenwich\",0],UNIT[\"degree\",0.0174532925199433],AUTHORITY[\"EPSG\",\"4326\"]]</SRS>\n",
    " \n",
    " <GeoTransform> -3.0531428271702840e+01,  3.7890083929483308e-02,  0.0000000000000000e+00,  6.7079735828607269e+01,  0.0000000000000000e+00, -3.7890083929483308e-02</GeoTransform>\n",
    "\n",
    "Q- SRS? GeoTransform?\n",
    "Q- can I make vrt and build mosaic at the same time?\n",
    "\n",
    "\n",
    "steps:\n",
    "1- build vrt (virtual raster) from list of single raster files using my own code\n",
    "2- open vrt and add a pixel function to it\n",
    "3- transform single rasters to mosaic of rasters using vrt using gdal.translate() and vrt"
   ]
  },
  {
   "cell_type": "code",
   "execution_count": 1,
   "id": "ee4c1482",
   "metadata": {},
   "outputs": [],
   "source": [
    "import glob, os\n",
    "from osgeo import gdal\n",
    "from subprocess import call\n",
    "import datetime as dt\n",
    "import numpy as np"
   ]
  },
  {
   "cell_type": "code",
   "execution_count": 2,
   "id": "b2571ae5",
   "metadata": {},
   "outputs": [
    {
     "data": {
      "text/plain": [
       "'3.4.2'"
      ]
     },
     "execution_count": 2,
     "metadata": {},
     "output_type": "execute_result"
    }
   ],
   "source": [
    "gdal.__version__"
   ]
  },
  {
   "cell_type": "code",
   "execution_count": 3,
   "id": "7dcc5a30",
   "metadata": {},
   "outputs": [
    {
     "name": "stdout",
     "output_type": "stream",
     "text": [
      "looking for pattern: raster_path_**_reprojToEPSG_3995.tif\n"
     ]
    }
   ],
   "source": [
    "# we find this file pattern\n",
    "\n",
    "raster_file_pattern = 'raster_path_*'+'*_reprojToEPSG_3995.tif'\n",
    "\n",
    "print('looking for pattern: %s' % raster_file_pattern)"
   ]
  },
  {
   "cell_type": "code",
   "execution_count": 4,
   "id": "a247df29",
   "metadata": {},
   "outputs": [
    {
     "name": "stdout",
     "output_type": "stream",
     "text": [
      "raster dir: True\n"
     ]
    }
   ],
   "source": [
    "# path to date dir with raster.tif files there (example with 2 rasters)\n",
    "\n",
    "raster_dir_fullpath = \"/Volumes/Ehsan-7757225325/2016/april_2016/predict_roughness_k_zero_npts_10/roughness_subdir_2016_4_15/test_path_69_85\"\n",
    "\n",
    "print('raster dir: %s' %os.path.isdir(raster_dir_fullpath))\n",
    "\n"
   ]
  },
  {
   "cell_type": "code",
   "execution_count": 5,
   "id": "cc5b699c",
   "metadata": {},
   "outputs": [],
   "source": [
    "# day label\n",
    "\n",
    "day='15'\n",
    "month='april'\n",
    "year='2016'\n",
    "\n",
    "\n",
    "\n",
    "# form date-tag from 3 parameters\n",
    "date_tag = day+'_'+month+'_'+year\n",
    "\n",
    "# naming labels\n",
    "resamplingAlg = 'nearest'\n",
    "output_VRT_dataset_name = 'virtualDataset_float64_'+resamplingAlg+'_'+date_tag+'_pixelaveraged.vrt'\n"
   ]
  },
  {
   "cell_type": "code",
   "execution_count": 6,
   "id": "4e246b87",
   "metadata": {},
   "outputs": [
    {
     "name": "stdout",
     "output_type": "stream",
     "text": [
      "virtualDataset_float64_nearest_15_april_2016_pixelaveraged.vrt\n",
      "VRT available: True\n"
     ]
    }
   ],
   "source": [
    "VRT_fullpath = os.path.join(raster_dir_fullpath, output_VRT_dataset_name)\n",
    "print(output_VRT_dataset_name)\n",
    "print('VRT available: %s' %os.path.isfile(VRT_fullpath))"
   ]
  },
  {
   "cell_type": "code",
   "execution_count": 7,
   "id": "8835918d",
   "metadata": {},
   "outputs": [
    {
     "name": "stdout",
     "output_type": "stream",
     "text": [
      "mosaic_fromVRT_float64_nearest_15_april_2016_pixelaveraged.tif\n"
     ]
    }
   ],
   "source": [
    "output_mosaic_name = 'mosaic_fromVRT_float64_'+resamplingAlg+'_'+date_tag+'_pixelaveraged.tif'\n",
    "print(output_mosaic_name)\n"
   ]
  },
  {
   "cell_type": "code",
   "execution_count": 8,
   "id": "21813db6",
   "metadata": {},
   "outputs": [
    {
     "name": "stdout",
     "output_type": "stream",
     "text": [
      "raster files found: 73\n"
     ]
    }
   ],
   "source": [
    "# build a list from input raster files\n",
    "\n",
    "files_to_mosaic = glob.glob(os.path.join(raster_dir_fullpath, raster_file_pattern))\n",
    "print('raster files found: %d' % len(files_to_mosaic))"
   ]
  },
  {
   "cell_type": "markdown",
   "id": "9f9d0f99",
   "metadata": {},
   "source": [
    "## after running the following section, turn it off, or move the rest of the code to another notebook"
   ]
  },
  {
   "cell_type": "code",
   "execution_count": 9,
   "id": "483c3d63",
   "metadata": {},
   "outputs": [],
   "source": [
    "# #~ method 2- VRT and gdal_translate\n",
    "\n",
    "# print('building VRT dataset!')\n",
    "# vrt_options = gdal.BuildVRTOptions(resampleAlg='linear') #, addAlpha=True)\n",
    "# # vrt_options\n",
    "\n",
    "# my_vrt_ptr = gdal.BuildVRT(VRT_fullpath, \n",
    "#                             files_to_mosaic,\n",
    "#                             srcNodata = -99.0,\n",
    "#                             VRTNodata = -99.0)#, options=vrt_options)\n",
    "\n",
    "\n",
    "# # print(my_vrt_ptr)\n",
    "# print('closing VRT dataset!')\n",
    "# my_vrt_ptr = None "
   ]
  },
  {
   "cell_type": "markdown",
   "id": "73cf3372",
   "metadata": {},
   "source": [
    "# now open vrt and add pixel function"
   ]
  },
  {
   "cell_type": "markdown",
   "id": "a18162c4",
   "metadata": {},
   "source": [
    "## finally transform single rasters to mosaic of rasters \n",
    "we do the transfer using vrt file and gdal.translate() and vrt: translate() does the transformation: when it wants to open each raster, it checks the vrt and reads the raster based on the information inside vrt"
   ]
  },
  {
   "cell_type": "code",
   "execution_count": 10,
   "id": "7751763a",
   "metadata": {},
   "outputs": [
    {
     "data": {
      "text/plain": [
       "'/Volumes/Ehsan-7757225325/2016/april_2016/predict_roughness_k_zero_npts_10/roughness_subdir_2016_4_15/test_path_69_85/mosaic_fromVRT_float64_nearest_15_april_2016_pixelaveraged.tif'"
      ]
     },
     "execution_count": 10,
     "metadata": {},
     "output_type": "execute_result"
    }
   ],
   "source": [
    "# name of mosaic\n",
    "out_mosaic_fullpath = os.path.join(raster_dir_fullpath, output_mosaic_name)\n",
    "out_mosaic_fullpath"
   ]
  },
  {
   "cell_type": "code",
   "execution_count": 11,
   "id": "01ca2114",
   "metadata": {},
   "outputs": [
    {
     "name": "stdout",
     "output_type": "stream",
     "text": [
      "building mosaic from VRT dataset\n",
      "/Volumes/Ehsan-7757225325/2016/april_2016/predict_roughness_k_zero_npts_10/roughness_subdir_2016_4_15/test_path_69_85/virtualDataset_float64_nearest_15_april_2016_pixelaveraged.vrt\n"
     ]
    },
    {
     "name": "stderr",
     "output_type": "stream",
     "text": [
      "ERROR 1: PROJ: proj_create_from_database: /Applications/anaconda3/share/proj/proj.db contains DATABASE.LAYOUT.VERSION.MINOR = 0 whereas a number >= 2 is expected. It comes from another PROJ installation.\n",
      "Warning 1: PROJ: proj_create_from_database: /Applications/anaconda3/share/proj/proj.db contains DATABASE.LAYOUT.VERSION.MINOR = 0 whereas a number >= 2 is expected. It comes from another PROJ installation.\n",
      "Warning 1: PROJ: proj_create_from_database: /Applications/anaconda3/share/proj/proj.db contains DATABASE.LAYOUT.VERSION.MINOR = 0 whereas a number >= 2 is expected. It comes from another PROJ installation.\n",
      "ERROR 1: <class 'AttributeError'>, module 'gdal_vrt_module_0x7fa98d7ef980' has no attribute 'averageEM'\n"
     ]
    },
    {
     "name": "stdout",
     "output_type": "stream",
     "text": [
      "\n",
      "output mosaic: \n",
      "/Volumes/Ehsan-7757225325/2016/april_2016/predict_roughness_k_zero_npts_10/roughness_subdir_2016_4_15/test_path_69_85/mosaic_fromVRT_float64_nearest_15_april_2016_pixelaveraged.tif\n"
     ]
    }
   ],
   "source": [
    "print('building mosaic from VRT dataset')\n",
    "print(VRT_fullpath)\n",
    "\n",
    "gdal.SetConfigOption('GDAL_VRT_ENABLE_PYTHON', \"YES\")\n",
    "# translate_options = gdal.TranslateOptions('GDAL_VRT_ENABLE_PYTHON', \"YES\")\n",
    "\n",
    "mosaic_ds = gdal.Translate(out_mosaic_fullpath,\n",
    "                            VRT_fullpath,\n",
    "                            format = 'GTiff',\n",
    "                            noData = -99.0,\n",
    "                            resampleAlg = resamplingAlg,\n",
    "                            #options = translate_options,\n",
    "                            outputType = gdal.GDT_Float64) # note: input dtype is float_64==double, maybe here change dtype to make it smaller img???? # outputType = gdal.GDT_Byte \t\n",
    "                             \n",
    "\n",
    "\n",
    "print('\\noutput mosaic: ')\n",
    "print(out_mosaic_fullpath)\n"
   ]
  },
  {
   "cell_type": "markdown",
   "id": "ae81a81d",
   "metadata": {},
   "source": [
    "## Properly close the datasets to flush to disk"
   ]
  },
  {
   "cell_type": "code",
   "execution_count": 12,
   "id": "bb5b6b9e",
   "metadata": {},
   "outputs": [
    {
     "name": "stdout",
     "output_type": "stream",
     "text": [
      "closing mosaic dataset!\n"
     ]
    }
   ],
   "source": [
    "print('closing mosaic dataset!')\n",
    "mosaic_ds = None\n",
    "VRT_fullpath = None  # close opened input file"
   ]
  },
  {
   "cell_type": "code",
   "execution_count": 13,
   "id": "b09e4dc9",
   "metadata": {},
   "outputs": [],
   "source": [
    "# from IPython.display import Audio\n",
    "\n",
    "# sound_file = 'https://music.apple.com/us/album/beep-version-7-interface-multimedia-software-computer/581961437?i=581961750'\n",
    "\n",
    "# Audio(sound_file, autoplay=True)\n",
    "\n"
   ]
  },
  {
   "cell_type": "code",
   "execution_count": null,
   "id": "844eb2ae",
   "metadata": {},
   "outputs": [],
   "source": []
  }
 ],
 "metadata": {
  "kernelspec": {
   "display_name": "Python 3 (ipykernel)",
   "language": "python",
   "name": "python3"
  },
  "language_info": {
   "codemirror_mode": {
    "name": "ipython",
    "version": 3
   },
   "file_extension": ".py",
   "mimetype": "text/x-python",
   "name": "python",
   "nbconvert_exporter": "python",
   "pygments_lexer": "ipython3",
   "version": "3.9.7"
  }
 },
 "nbformat": 4,
 "nbformat_minor": 5
}
