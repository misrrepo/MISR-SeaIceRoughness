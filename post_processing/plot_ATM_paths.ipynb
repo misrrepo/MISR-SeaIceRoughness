{
 "cells": [
  {
   "cell_type": "code",
   "execution_count": 1,
   "id": "4fea46ec",
   "metadata": {},
   "outputs": [
    {
     "ename": "ModuleNotFoundError",
     "evalue": "No module named 'mpl_toolkits.basemap'",
     "output_type": "error",
     "traceback": [
      "\u001b[0;31m---------------------------------------------------------------------------\u001b[0m",
      "\u001b[0;31mModuleNotFoundError\u001b[0m                       Traceback (most recent call last)",
      "\u001b[0;32m<ipython-input-1-396fe0b89746>\u001b[0m in \u001b[0;36m<module>\u001b[0;34m\u001b[0m\n\u001b[1;32m      2\u001b[0m \u001b[0;32mimport\u001b[0m \u001b[0mmatplotlib\u001b[0m\u001b[0;34m.\u001b[0m\u001b[0mpyplot\u001b[0m \u001b[0;32mas\u001b[0m \u001b[0mplt\u001b[0m\u001b[0;34m\u001b[0m\u001b[0;34m\u001b[0m\u001b[0m\n\u001b[1;32m      3\u001b[0m \u001b[0;32mimport\u001b[0m \u001b[0mnumpy\u001b[0m \u001b[0;32mas\u001b[0m \u001b[0mnp\u001b[0m\u001b[0;34m\u001b[0m\u001b[0;34m\u001b[0m\u001b[0m\n\u001b[0;32m----> 4\u001b[0;31m \u001b[0;32mfrom\u001b[0m \u001b[0mmpl_toolkits\u001b[0m\u001b[0;34m.\u001b[0m\u001b[0mbasemap\u001b[0m \u001b[0;32mimport\u001b[0m \u001b[0mBasemap\u001b[0m \u001b[0;31m# needs python 3.8?\u001b[0m\u001b[0;34m\u001b[0m\u001b[0;34m\u001b[0m\u001b[0m\n\u001b[0m\u001b[1;32m      5\u001b[0m \u001b[0;32mimport\u001b[0m \u001b[0msys\u001b[0m \u001b[0;31m# to check python version\u001b[0m\u001b[0;34m\u001b[0m\u001b[0;34m\u001b[0m\u001b[0m\n\u001b[1;32m      6\u001b[0m \u001b[0;32mimport\u001b[0m \u001b[0mos\u001b[0m\u001b[0;34m\u001b[0m\u001b[0;34m\u001b[0m\u001b[0m\n",
      "\u001b[0;31mModuleNotFoundError\u001b[0m: No module named 'mpl_toolkits.basemap'"
     ]
    }
   ],
   "source": [
    "import pandas as pd\n",
    "import matplotlib.pyplot as plt\n",
    "import numpy as np\n",
    "from mpl_toolkits.basemap import Basemap # needs python 3.8?\n",
    "import sys # to check python version\n",
    "import os\n",
    "import glob\n",
    "import datetime as dt"
   ]
  },
  {
   "cell_type": "markdown",
   "id": "188dc9e8",
   "metadata": {},
   "source": [
    "note: runs with python 3.8"
   ]
  },
  {
   "cell_type": "code",
   "execution_count": 2,
   "id": "fb9dd58a",
   "metadata": {},
   "outputs": [
    {
     "ename": "NameError",
     "evalue": "name 'sys' is not defined",
     "output_type": "error",
     "traceback": [
      "\u001b[0;31m---------------------------------------------------------------------------\u001b[0m",
      "\u001b[0;31mNameError\u001b[0m                                 Traceback (most recent call last)",
      "\u001b[0;32m<ipython-input-2-d8f8c634d089>\u001b[0m in \u001b[0;36m<module>\u001b[0;34m\u001b[0m\n\u001b[1;32m      1\u001b[0m \u001b[0;31m# check python version\u001b[0m\u001b[0;34m\u001b[0m\u001b[0;34m\u001b[0m\u001b[0;34m\u001b[0m\u001b[0m\n\u001b[0;32m----> 2\u001b[0;31m \u001b[0msys\u001b[0m\u001b[0;34m.\u001b[0m\u001b[0mversion\u001b[0m\u001b[0;34m\u001b[0m\u001b[0;34m\u001b[0m\u001b[0m\n\u001b[0m",
      "\u001b[0;31mNameError\u001b[0m: name 'sys' is not defined"
     ]
    }
   ],
   "source": [
    "# check python version\n",
    "sys.version"
   ]
  },
  {
   "cell_type": "code",
   "execution_count": 3,
   "id": "546aaf0d",
   "metadata": {},
   "outputs": [],
   "source": [
    "# load training dataset\n",
    "# ds_fp = \"/Users/ehsanmos/Documents/RnD/MISR_lab/ML_research/training_dataset/merged_april_2016_9cam3bands.csv\"\n",
    "\n",
    "# ds_fp = \"/home/ehsan/misr_lab/training_dataset/april_2016/april_2016_parts/merged_april_2016_9cam_4bands_final_dataset_2.csv\"\n",
    "ds_fp = \"/media/ehsan/6T_part1/2016/april_2016/14528_apr2016/project_april_2016_3cam/training_data/MisrAtmCalibratedModel_april_2016_testRun.csv\"\n",
    "\n",
    "in_ds = pd.read_csv(ds_fp)"
   ]
  },
  {
   "cell_type": "code",
   "execution_count": null,
   "id": "a694daf8",
   "metadata": {},
   "outputs": [],
   "source": [
    "in_ds.head(5)"
   ]
  },
  {
   "cell_type": "code",
   "execution_count": null,
   "id": "c6c66760",
   "metadata": {},
   "outputs": [],
   "source": [
    "# determine range to print based on min, max lat and lon of the data\n",
    "# is it necessary?\n",
    "xlon = ds_3cam[' lon']\n",
    "ylat = ds_3cam[' lat']\n",
    "\n",
    "\n",
    "margin = 2 # buffer to add to the range\n",
    "lat_min = min(ylat) - margin\n",
    "lat_max = max(ylat) + margin\n",
    "lon_min = min(xlon) - margin\n",
    "lon_max = max(xlon) + margin"
   ]
  },
  {
   "cell_type": "code",
   "execution_count": null,
   "id": "0de67334",
   "metadata": {},
   "outputs": [],
   "source": [
    "print(lat_min)\n",
    "print(lat_max)\n",
    "print(lon_min)\n",
    "print(lon_max)"
   ]
  },
  {
   "cell_type": "code",
   "execution_count": null,
   "id": "e6a86a1e",
   "metadata": {},
   "outputs": [],
   "source": [
    "from itertools import chain\n",
    "\n",
    "def draw_map(m, scale=0.2):\n",
    "    # draw a shaded-relief image\n",
    "    m.shadedrelief(scale=scale)\n",
    "    \n",
    "    # lats and longs are returned as a dictionary\n",
    "    lats = m.drawparallels(np.linspace(-90, 90, num=7))\n",
    "    lons = m.drawmeridians(np.linspace(-180, 180, num=18))\n",
    "\n",
    "    # keys contain the plt.Line2D instances\n",
    "    lat_lines = chain(*(tup[1][0] for tup in lats.items()))\n",
    "    lon_lines = chain(*(tup[1][0] for tup in lons.items()))\n",
    "    all_lines = chain(lat_lines, lon_lines)\n",
    "    \n",
    "    # cycle through these lines and set the desired style\n",
    "    for line in all_lines:\n",
    "        line.set(linestyle='-', alpha=0.3, color='w')"
   ]
  },
  {
   "cell_type": "code",
   "execution_count": null,
   "id": "cfd7edac",
   "metadata": {},
   "outputs": [],
   "source": [
    "def make_the_map(XlonSet, YlatSet):\n",
    "    \n",
    "    fig = plt.figure(figsize=(12, 12))\n",
    "\n",
    "    basemap = Basemap(projection='ortho', resolution=None, lat_0=90, lon_0=180)\n",
    "\n",
    "    # locations on map: convert lat and lon to map projection coordinates\n",
    "    xlons, ylats = basemap(XlonSet, YlatSet)\n",
    "\n",
    "    plt.plot(xlons, ylats, 'ok', markersize=1)\n",
    "\n",
    "    # draw a circle on map on 60N  \n",
    "    basemap.drawparallels([60], color='red') #, labels='test'????)\n",
    "    plt.title('Study Region, 60N', fontsize=16)\n",
    "\n",
    "    draw_map(basemap);\n",
    "    return 0;"
   ]
  },
  {
   "cell_type": "code",
   "execution_count": null,
   "id": "c37b8644",
   "metadata": {},
   "outputs": [],
   "source": [
    "# run with oython >= 3.8\n",
    "\n",
    "make_the_map(xlon, ylat)"
   ]
  },
  {
   "cell_type": "code",
   "execution_count": null,
   "id": "71e25185",
   "metadata": {},
   "outputs": [],
   "source": [
    "xlon270 = transect_small[' lon']\n",
    "ylat270 = transect_small[' lat']"
   ]
  },
  {
   "cell_type": "code",
   "execution_count": null,
   "id": "a81055f9",
   "metadata": {},
   "outputs": [],
   "source": [
    "# run with python >= 3.8\n",
    "\n",
    "make_the_map(xlon270, ylat270)"
   ]
  }
 ],
 "metadata": {
  "kernelspec": {
   "display_name": "Python 3",
   "language": "python",
   "name": "python3"
  },
  "language_info": {
   "codemirror_mode": {
    "name": "ipython",
    "version": 3
   },
   "file_extension": ".py",
   "mimetype": "text/x-python",
   "name": "python",
   "nbconvert_exporter": "python",
   "pygments_lexer": "ipython3",
   "version": "3.6.9"
  }
 },
 "nbformat": 4,
 "nbformat_minor": 5
}
