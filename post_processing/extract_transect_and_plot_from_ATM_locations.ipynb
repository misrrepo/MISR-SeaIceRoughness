{
 "cells": [
  {
   "cell_type": "code",
   "execution_count": 1,
   "id": "63df5141",
   "metadata": {},
   "outputs": [],
   "source": [
    "import pandas as pd\n",
    "import matplotlib.pyplot as plt\n",
    "import numpy as np\n",
    "from mpl_toolkits.basemap import Basemap # needs python 3.8?\n",
    "import sys # to check python version\n",
    "import os\n",
    "import glob\n",
    "import datetime as dt"
   ]
  },
  {
   "cell_type": "code",
   "execution_count": 2,
   "id": "3cc75973",
   "metadata": {},
   "outputs": [],
   "source": [
    "t1 = dt.datetime.now()"
   ]
  },
  {
   "cell_type": "code",
   "execution_count": 3,
   "id": "76af2ca1",
   "metadata": {},
   "outputs": [
    {
     "data": {
      "text/plain": [
       "'3.6.9 (default, Dec  8 2021, 21:08:43) \\n[GCC 8.4.0]'"
      ]
     },
     "execution_count": 3,
     "metadata": {},
     "output_type": "execute_result"
    }
   ],
   "source": [
    "# check python version\n",
    "sys.version"
   ]
  },
  {
   "cell_type": "code",
   "execution_count": 4,
   "id": "9b180a96",
   "metadata": {},
   "outputs": [
    {
     "data": {
      "text/plain": [
       "True"
      ]
     },
     "execution_count": 4,
     "metadata": {},
     "output_type": "execute_result"
    }
   ],
   "source": [
    "# load input training dataset\n",
    "\n",
    "home_dir = \"/media/ehsan/6T_part1/2016/april_2016/14528_apr2016/project_april_2016_3cam/training_data\"\n",
    "trainDS_csv = \"myMethod_merged_april_2016_9cam_4bands_training_dataset_datetime.csv\"\n",
    "# in_csv = \"oldMethod_MisrAtmCalibratedModel_april_2016_training_dataset_datetime.csv\"\n",
    "\n",
    "ds_fp = os.path.join(home_dir, trainDS_csv)\n",
    "os.path.isfile(ds_fp)"
   ]
  },
  {
   "cell_type": "code",
   "execution_count": 5,
   "id": "54ffa489",
   "metadata": {},
   "outputs": [
    {
     "data": {
      "text/plain": [
       "'insample_19apr_lon200_220_myMethod_merged_april_2016_9cam_4bands_training_dataset_datetime.csv'"
      ]
     },
     "execution_count": 5,
     "metadata": {},
     "output_type": "execute_result"
    }
   ],
   "source": [
    "# label output file\n",
    "\n",
    "name_tag = 'insample_'\n",
    "date_tag = '19apr_lon200_220_'\n",
    "output_filename = name_tag+date_tag+trainDS_csv.split('.')[0]+'.csv'\n",
    "output_filename"
   ]
  },
  {
   "cell_type": "code",
   "execution_count": 6,
   "id": "cf3bf6f4",
   "metadata": {},
   "outputs": [
    {
     "ename": "UnicodeDecodeError",
     "evalue": "'utf-8' codec can't decode byte 0xff in position 0: invalid start byte",
     "output_type": "error",
     "traceback": [
      "\u001b[0;31m---------------------------------------------------------------------------\u001b[0m",
      "\u001b[0;31mUnicodeDecodeError\u001b[0m                        Traceback (most recent call last)",
      "\u001b[0;32m<ipython-input-6-bc81bbcc3606>\u001b[0m in \u001b[0;36m<module>\u001b[0;34m\u001b[0m\n\u001b[1;32m      1\u001b[0m \u001b[0;31m# read data\u001b[0m\u001b[0;34m\u001b[0m\u001b[0;34m\u001b[0m\u001b[0;34m\u001b[0m\u001b[0m\n\u001b[1;32m      2\u001b[0m \u001b[0;34m\u001b[0m\u001b[0m\n\u001b[0;32m----> 3\u001b[0;31m \u001b[0mds_3cam\u001b[0m \u001b[0;34m=\u001b[0m \u001b[0mpd\u001b[0m\u001b[0;34m.\u001b[0m\u001b[0mread_csv\u001b[0m\u001b[0;34m(\u001b[0m\u001b[0mds_fp\u001b[0m\u001b[0;34m)\u001b[0m\u001b[0;31m#, engine='python')#, dtype={'An_r':np.float64})#, encoding= 'unicode_escape')\u001b[0m\u001b[0;34m\u001b[0m\u001b[0;34m\u001b[0m\u001b[0m\n\u001b[0m\u001b[1;32m      4\u001b[0m \u001b[0mds_3cam\u001b[0m\u001b[0;34m.\u001b[0m\u001b[0mhead\u001b[0m\u001b[0;34m(\u001b[0m\u001b[0;34m)\u001b[0m\u001b[0;34m\u001b[0m\u001b[0;34m\u001b[0m\u001b[0m\n",
      "\u001b[0;32m~/.local/lib/python3.6/site-packages/pandas/io/parsers.py\u001b[0m in \u001b[0;36mread_csv\u001b[0;34m(filepath_or_buffer, sep, delimiter, header, names, index_col, usecols, squeeze, prefix, mangle_dupe_cols, dtype, engine, converters, true_values, false_values, skipinitialspace, skiprows, skipfooter, nrows, na_values, keep_default_na, na_filter, verbose, skip_blank_lines, parse_dates, infer_datetime_format, keep_date_col, date_parser, dayfirst, cache_dates, iterator, chunksize, compression, thousands, decimal, lineterminator, quotechar, quoting, doublequote, escapechar, comment, encoding, dialect, error_bad_lines, warn_bad_lines, delim_whitespace, low_memory, memory_map, float_precision)\u001b[0m\n\u001b[1;32m    686\u001b[0m     )\n\u001b[1;32m    687\u001b[0m \u001b[0;34m\u001b[0m\u001b[0m\n\u001b[0;32m--> 688\u001b[0;31m     \u001b[0;32mreturn\u001b[0m \u001b[0m_read\u001b[0m\u001b[0;34m(\u001b[0m\u001b[0mfilepath_or_buffer\u001b[0m\u001b[0;34m,\u001b[0m \u001b[0mkwds\u001b[0m\u001b[0;34m)\u001b[0m\u001b[0;34m\u001b[0m\u001b[0;34m\u001b[0m\u001b[0m\n\u001b[0m\u001b[1;32m    689\u001b[0m \u001b[0;34m\u001b[0m\u001b[0m\n\u001b[1;32m    690\u001b[0m \u001b[0;34m\u001b[0m\u001b[0m\n",
      "\u001b[0;32m~/.local/lib/python3.6/site-packages/pandas/io/parsers.py\u001b[0m in \u001b[0;36m_read\u001b[0;34m(filepath_or_buffer, kwds)\u001b[0m\n\u001b[1;32m    452\u001b[0m \u001b[0;34m\u001b[0m\u001b[0m\n\u001b[1;32m    453\u001b[0m     \u001b[0;31m# Create the parser.\u001b[0m\u001b[0;34m\u001b[0m\u001b[0;34m\u001b[0m\u001b[0;34m\u001b[0m\u001b[0m\n\u001b[0;32m--> 454\u001b[0;31m     \u001b[0mparser\u001b[0m \u001b[0;34m=\u001b[0m \u001b[0mTextFileReader\u001b[0m\u001b[0;34m(\u001b[0m\u001b[0mfp_or_buf\u001b[0m\u001b[0;34m,\u001b[0m \u001b[0;34m**\u001b[0m\u001b[0mkwds\u001b[0m\u001b[0;34m)\u001b[0m\u001b[0;34m\u001b[0m\u001b[0;34m\u001b[0m\u001b[0m\n\u001b[0m\u001b[1;32m    455\u001b[0m \u001b[0;34m\u001b[0m\u001b[0m\n\u001b[1;32m    456\u001b[0m     \u001b[0;32mif\u001b[0m \u001b[0mchunksize\u001b[0m \u001b[0;32mor\u001b[0m \u001b[0miterator\u001b[0m\u001b[0;34m:\u001b[0m\u001b[0;34m\u001b[0m\u001b[0;34m\u001b[0m\u001b[0m\n",
      "\u001b[0;32m~/.local/lib/python3.6/site-packages/pandas/io/parsers.py\u001b[0m in \u001b[0;36m__init__\u001b[0;34m(self, f, engine, **kwds)\u001b[0m\n\u001b[1;32m    946\u001b[0m             \u001b[0mself\u001b[0m\u001b[0;34m.\u001b[0m\u001b[0moptions\u001b[0m\u001b[0;34m[\u001b[0m\u001b[0;34m\"has_index_names\"\u001b[0m\u001b[0;34m]\u001b[0m \u001b[0;34m=\u001b[0m \u001b[0mkwds\u001b[0m\u001b[0;34m[\u001b[0m\u001b[0;34m\"has_index_names\"\u001b[0m\u001b[0;34m]\u001b[0m\u001b[0;34m\u001b[0m\u001b[0;34m\u001b[0m\u001b[0m\n\u001b[1;32m    947\u001b[0m \u001b[0;34m\u001b[0m\u001b[0m\n\u001b[0;32m--> 948\u001b[0;31m         \u001b[0mself\u001b[0m\u001b[0;34m.\u001b[0m\u001b[0m_make_engine\u001b[0m\u001b[0;34m(\u001b[0m\u001b[0mself\u001b[0m\u001b[0;34m.\u001b[0m\u001b[0mengine\u001b[0m\u001b[0;34m)\u001b[0m\u001b[0;34m\u001b[0m\u001b[0;34m\u001b[0m\u001b[0m\n\u001b[0m\u001b[1;32m    949\u001b[0m \u001b[0;34m\u001b[0m\u001b[0m\n\u001b[1;32m    950\u001b[0m     \u001b[0;32mdef\u001b[0m \u001b[0mclose\u001b[0m\u001b[0;34m(\u001b[0m\u001b[0mself\u001b[0m\u001b[0;34m)\u001b[0m\u001b[0;34m:\u001b[0m\u001b[0;34m\u001b[0m\u001b[0;34m\u001b[0m\u001b[0m\n",
      "\u001b[0;32m~/.local/lib/python3.6/site-packages/pandas/io/parsers.py\u001b[0m in \u001b[0;36m_make_engine\u001b[0;34m(self, engine)\u001b[0m\n\u001b[1;32m   1178\u001b[0m     \u001b[0;32mdef\u001b[0m \u001b[0m_make_engine\u001b[0m\u001b[0;34m(\u001b[0m\u001b[0mself\u001b[0m\u001b[0;34m,\u001b[0m \u001b[0mengine\u001b[0m\u001b[0;34m=\u001b[0m\u001b[0;34m\"c\"\u001b[0m\u001b[0;34m)\u001b[0m\u001b[0;34m:\u001b[0m\u001b[0;34m\u001b[0m\u001b[0;34m\u001b[0m\u001b[0m\n\u001b[1;32m   1179\u001b[0m         \u001b[0;32mif\u001b[0m \u001b[0mengine\u001b[0m \u001b[0;34m==\u001b[0m \u001b[0;34m\"c\"\u001b[0m\u001b[0;34m:\u001b[0m\u001b[0;34m\u001b[0m\u001b[0;34m\u001b[0m\u001b[0m\n\u001b[0;32m-> 1180\u001b[0;31m             \u001b[0mself\u001b[0m\u001b[0;34m.\u001b[0m\u001b[0m_engine\u001b[0m \u001b[0;34m=\u001b[0m \u001b[0mCParserWrapper\u001b[0m\u001b[0;34m(\u001b[0m\u001b[0mself\u001b[0m\u001b[0;34m.\u001b[0m\u001b[0mf\u001b[0m\u001b[0;34m,\u001b[0m \u001b[0;34m**\u001b[0m\u001b[0mself\u001b[0m\u001b[0;34m.\u001b[0m\u001b[0moptions\u001b[0m\u001b[0;34m)\u001b[0m\u001b[0;34m\u001b[0m\u001b[0;34m\u001b[0m\u001b[0m\n\u001b[0m\u001b[1;32m   1181\u001b[0m         \u001b[0;32melse\u001b[0m\u001b[0;34m:\u001b[0m\u001b[0;34m\u001b[0m\u001b[0;34m\u001b[0m\u001b[0m\n\u001b[1;32m   1182\u001b[0m             \u001b[0;32mif\u001b[0m \u001b[0mengine\u001b[0m \u001b[0;34m==\u001b[0m \u001b[0;34m\"python\"\u001b[0m\u001b[0;34m:\u001b[0m\u001b[0;34m\u001b[0m\u001b[0;34m\u001b[0m\u001b[0m\n",
      "\u001b[0;32m~/.local/lib/python3.6/site-packages/pandas/io/parsers.py\u001b[0m in \u001b[0;36m__init__\u001b[0;34m(self, src, **kwds)\u001b[0m\n\u001b[1;32m   2008\u001b[0m         \u001b[0mkwds\u001b[0m\u001b[0;34m[\u001b[0m\u001b[0;34m\"usecols\"\u001b[0m\u001b[0;34m]\u001b[0m \u001b[0;34m=\u001b[0m \u001b[0mself\u001b[0m\u001b[0;34m.\u001b[0m\u001b[0musecols\u001b[0m\u001b[0;34m\u001b[0m\u001b[0;34m\u001b[0m\u001b[0m\n\u001b[1;32m   2009\u001b[0m \u001b[0;34m\u001b[0m\u001b[0m\n\u001b[0;32m-> 2010\u001b[0;31m         \u001b[0mself\u001b[0m\u001b[0;34m.\u001b[0m\u001b[0m_reader\u001b[0m \u001b[0;34m=\u001b[0m \u001b[0mparsers\u001b[0m\u001b[0;34m.\u001b[0m\u001b[0mTextReader\u001b[0m\u001b[0;34m(\u001b[0m\u001b[0msrc\u001b[0m\u001b[0;34m,\u001b[0m \u001b[0;34m**\u001b[0m\u001b[0mkwds\u001b[0m\u001b[0;34m)\u001b[0m\u001b[0;34m\u001b[0m\u001b[0;34m\u001b[0m\u001b[0m\n\u001b[0m\u001b[1;32m   2011\u001b[0m         \u001b[0mself\u001b[0m\u001b[0;34m.\u001b[0m\u001b[0munnamed_cols\u001b[0m \u001b[0;34m=\u001b[0m \u001b[0mself\u001b[0m\u001b[0;34m.\u001b[0m\u001b[0m_reader\u001b[0m\u001b[0;34m.\u001b[0m\u001b[0munnamed_cols\u001b[0m\u001b[0;34m\u001b[0m\u001b[0;34m\u001b[0m\u001b[0m\n\u001b[1;32m   2012\u001b[0m \u001b[0;34m\u001b[0m\u001b[0m\n",
      "\u001b[0;32mpandas/_libs/parsers.pyx\u001b[0m in \u001b[0;36mpandas._libs.parsers.TextReader.__cinit__\u001b[0;34m()\u001b[0m\n",
      "\u001b[0;32mpandas/_libs/parsers.pyx\u001b[0m in \u001b[0;36mpandas._libs.parsers.TextReader._get_header\u001b[0;34m()\u001b[0m\n",
      "\u001b[0;31mUnicodeDecodeError\u001b[0m: 'utf-8' codec can't decode byte 0xff in position 0: invalid start byte"
     ]
    }
   ],
   "source": [
    "# read data\n",
    "\n",
    "ds_3cam = pd.read_csv(ds_fp)#, engine='python')#, dtype={'An_r':np.float64})#, encoding= 'unicode_escape')\n",
    "ds_3cam.head()"
   ]
  },
  {
   "cell_type": "code",
   "execution_count": 7,
   "id": "274fb4a2",
   "metadata": {},
   "outputs": [
    {
     "ename": "NameError",
     "evalue": "name 'ds_3cam' is not defined",
     "output_type": "error",
     "traceback": [
      "\u001b[0;31m---------------------------------------------------------------------------\u001b[0m",
      "\u001b[0;31mNameError\u001b[0m                                 Traceback (most recent call last)",
      "\u001b[0;32m<ipython-input-7-3ea4138567c5>\u001b[0m in \u001b[0;36m<module>\u001b[0;34m\u001b[0m\n\u001b[1;32m      1\u001b[0m \u001b[0;31m# check dtypes after reading dataset\u001b[0m\u001b[0;34m\u001b[0m\u001b[0;34m\u001b[0m\u001b[0;34m\u001b[0m\u001b[0m\n\u001b[1;32m      2\u001b[0m \u001b[0;34m\u001b[0m\u001b[0m\n\u001b[0;32m----> 3\u001b[0;31m \u001b[0mds_3cam\u001b[0m\u001b[0;34m.\u001b[0m\u001b[0mdtypes\u001b[0m\u001b[0;34m\u001b[0m\u001b[0;34m\u001b[0m\u001b[0m\n\u001b[0m",
      "\u001b[0;31mNameError\u001b[0m: name 'ds_3cam' is not defined"
     ]
    }
   ],
   "source": [
    "# check dtypes after reading dataset\n",
    "\n",
    "ds_3cam.dtypes"
   ]
  },
  {
   "cell_type": "code",
   "execution_count": 10,
   "id": "bd0eb579",
   "metadata": {},
   "outputs": [],
   "source": [
    "# confirm dtypes after reading dataset\n",
    "# ds_3cam = ds_3cam.astype({\"line\": float})"
   ]
  },
  {
   "cell_type": "code",
   "execution_count": null,
   "id": "6253bdab",
   "metadata": {},
   "outputs": [],
   "source": [
    "# ds_3cam.rename(columns={\"mean_ATM_roughness\":\"rms\"}, inplace=True)\n",
    "ds_3cam.columns"
   ]
  },
  {
   "cell_type": "code",
   "execution_count": null,
   "id": "59eb694b",
   "metadata": {},
   "outputs": [],
   "source": [
    "# determine range to print based on min, max lat and lon of the data\n",
    "# is it necessary?\n",
    "# xlon = ds_3cam[' lon']\n",
    "# ylat = ds_3cam[' lat']\n",
    "\n",
    "xlon = ds_3cam['lon']\n",
    "ylat = ds_3cam['lat']\n",
    "# xlon\n",
    "ylat[0]"
   ]
  },
  {
   "cell_type": "code",
   "execution_count": null,
   "id": "3feb04c8",
   "metadata": {},
   "outputs": [],
   "source": [
    "margin = 2 # buffer to add to the range\n",
    "\n",
    "lat_min = min(ylat) - margin\n",
    "lat_max = max(ylat) + margin\n",
    "lon_min = min(xlon) - margin\n",
    "lon_max = max(xlon) + margin"
   ]
  },
  {
   "cell_type": "code",
   "execution_count": null,
   "id": "a40022c6",
   "metadata": {},
   "outputs": [],
   "source": [
    "print(lat_min)\n",
    "print(lat_max)\n",
    "print(lon_min)\n",
    "print(lon_max)"
   ]
  },
  {
   "cell_type": "code",
   "execution_count": null,
   "id": "c2b030d1",
   "metadata": {},
   "outputs": [],
   "source": [
    "# for plotting needed \n",
    "from itertools import chain\n",
    "def draw_map(m, scale=0.2):\n",
    "    # draw a shaded-relief image\n",
    "    m.shadedrelief(scale=scale)\n",
    "    \n",
    "    # lats and longs are returned as a dictionary\n",
    "    lats = m.drawparallels(np.linspace(-90, 90, num=7))\n",
    "    lons = m.drawmeridians(np.linspace(-180, 180, num=18))\n",
    "\n",
    "    # keys contain the plt.Line2D instances\n",
    "    lat_lines = chain(*(tup[1][0] for tup in lats.items()))\n",
    "    lon_lines = chain(*(tup[1][0] for tup in lons.items()))\n",
    "    all_lines = chain(lat_lines, lon_lines)\n",
    "    \n",
    "    # cycle through these lines and set the desired style\n",
    "    for line in all_lines:\n",
    "        line.set(linestyle='-', alpha=0.3, color='w')"
   ]
  },
  {
   "cell_type": "code",
   "execution_count": null,
   "id": "b12812aa",
   "metadata": {},
   "outputs": [],
   "source": [
    "# # ref: https://stackoverflow.com/questions/44488167/plotting-lat-long-points-using-basemap\n",
    "# basemap = Basemap(llcrnrlon=lon_min,\n",
    "#                     llcrnrlat=lat_min,\n",
    "#                     urcrnrlon=lon_max,\n",
    "#                     urcrnrlat=lat_max,\n",
    "#                     lat_0=(lat_max - lat_min)/2,\n",
    "#                     lon_0=(lon_max-lon_min)/2,\n",
    "#                     projection='ortho',\n",
    "#                     resolution = None,\n",
    "#                     area_thresh=10000.,)"
   ]
  },
  {
   "cell_type": "code",
   "execution_count": null,
   "id": "aafde126",
   "metadata": {},
   "outputs": [],
   "source": [
    "# basemap.shadedrelief()\n",
    "# basemap.drawcoastlines(color='gray')\n",
    "# basemap.drawcountries(color='gray')\n",
    "# basemap.drawstates(color='gray')\n",
    "\n",
    "\n",
    "\n",
    "# basemap.drawcoastlines()\n",
    "# basemap.drawcountries()\n",
    "# basemap.drawstates()\n",
    "# basemap.drawmapboundary(fill_color='#46bcec')\n",
    "# basemap.fillcontinents(color = 'white',lake_color='#46bcec')"
   ]
  },
  {
   "cell_type": "code",
   "execution_count": null,
   "id": "79fc3080",
   "metadata": {},
   "outputs": [],
   "source": [
    "# fig = plt.figure(figsize=(12, 12))\n",
    "\n",
    "# basemap = Basemap(projection='ortho', resolution=None, lat_0=90, lon_0=180)\n",
    "\n",
    "# # locations on map: convert lat and lon to map projection coordinates\n",
    "# xlons, ylats = basemap(xlon, ylat)\n",
    "\n",
    "# plt.plot(xlons, ylats, 'ok', markersize=1)\n",
    "\n",
    "# # draw a circle on map on 60N  \n",
    "# basemap.drawparallels([60], color='red') #, labels='test'????)\n",
    "# plt.title('Study Region, 60N', fontsize=16)\n",
    "\n",
    "# draw_map(basemap);\n",
    "\n",
    "# how zoom to the region?"
   ]
  },
  {
   "cell_type": "code",
   "execution_count": null,
   "id": "753159f2",
   "metadata": {},
   "outputs": [],
   "source": [
    "# needed for plotting\n",
    "def make_the_map(XlonSet, YlatSet):\n",
    "    \n",
    "    fig = plt.figure(figsize=(12, 12))\n",
    "\n",
    "    basemap = Basemap(projection='ortho', resolution=None, lat_0=90, lon_0=180)\n",
    "\n",
    "    # locations on map: convert lat and lon to map projection coordinates\n",
    "    xlons, ylats = basemap(XlonSet, YlatSet)\n",
    "\n",
    "    plt.plot(xlons, ylats, 'ok', markersize=1)\n",
    "\n",
    "    # draw a circle on map on 60N  \n",
    "    basemap.drawparallels([60], color='red') #, labels='test'????)\n",
    "    plt.title('Study Region, 60N', fontsize=16)\n",
    "\n",
    "    draw_map(basemap);\n",
    "    return 0;"
   ]
  },
  {
   "cell_type": "code",
   "execution_count": null,
   "id": "fd725322",
   "metadata": {},
   "outputs": [],
   "source": [
    "# run with oython >= 3.8 or install Basemap on Ubuntu\n",
    "\n",
    "make_the_map(xlon, ylat)"
   ]
  },
  {
   "cell_type": "markdown",
   "id": "dd0142c5",
   "metadata": {},
   "source": [
    "## filter ATM locations"
   ]
  },
  {
   "cell_type": "code",
   "execution_count": null,
   "id": "b375c6ee",
   "metadata": {},
   "outputs": [],
   "source": [
    "# extract transect by date\n",
    "# filter for 19-april and then plot the transect for both my method and old method and then compare...\n",
    "\n",
    "transect = ds_3cam.loc[(ds_3cam['orbit_start'] >= '2016-04-19 00:00:00') & \n",
    "                             (ds_3cam['orbit_stop'] <= '2016-04-19 12:00:0')]\n",
    "transect.head()"
   ]
  },
  {
   "cell_type": "code",
   "execution_count": null,
   "id": "5d45c328",
   "metadata": {},
   "outputs": [],
   "source": [
    "transect['lon'].min()"
   ]
  },
  {
   "cell_type": "code",
   "execution_count": null,
   "id": "ba8fc516",
   "metadata": {},
   "outputs": [],
   "source": [
    "# extract transect by guessing longitudes\n",
    "transect = transect.loc[(transect['lon'] > 200.0) & \n",
    "                        (transect['lon'] < 220.0)]\n",
    "transect.head()\n"
   ]
  },
  {
   "cell_type": "code",
   "execution_count": null,
   "id": "534caf98",
   "metadata": {},
   "outputs": [],
   "source": [
    "# create a column as index and set that column as index to plot transect\n",
    "\n",
    "# lon_subset['index'] = [i for i in range(len(lon_subset['lon']))]\n",
    "transect.index = range(1,len(transect)+1)\n",
    "transect.head()\n",
    "\n",
    "# set that column as index\n",
    "# lon_subset.set_index['index']"
   ]
  },
  {
   "cell_type": "code",
   "execution_count": null,
   "id": "5ff7a067",
   "metadata": {},
   "outputs": [],
   "source": [
    "# needed for plotting\n",
    "\n",
    "xlon270 = transect['lon']\n",
    "ylat270 = transect['lat']"
   ]
  },
  {
   "cell_type": "code",
   "execution_count": null,
   "id": "e737451a",
   "metadata": {},
   "outputs": [],
   "source": [
    "# run with python >= 3.8 or install Basemap on Ubuntu\n",
    "\n",
    "make_the_map(xlon270, ylat270)"
   ]
  },
  {
   "cell_type": "code",
   "execution_count": null,
   "id": "cb06ffde",
   "metadata": {},
   "outputs": [],
   "source": [
    "# # select a smaller subset of transect, like the first 1000 points (or 10)\n",
    "\n",
    "# transect_small = transect.iloc[0:10000]\n",
    "# transect_small.head()"
   ]
  },
  {
   "cell_type": "code",
   "execution_count": null,
   "id": "350c8913",
   "metadata": {},
   "outputs": [],
   "source": [
    "# extract transect data & write it out\n",
    "\n",
    "output_path = home_dir\n",
    "output_file_fp = os.path.join(output_path, output_filename)\n",
    "transect.to_csv(output_file_fp)\n",
    "output_file_fp"
   ]
  },
  {
   "cell_type": "code",
   "execution_count": null,
   "id": "4f422cc9",
   "metadata": {},
   "outputs": [],
   "source": [
    "t2 = dt.datetime.now()\n",
    "runtime = t2-t1\n",
    "runtime"
   ]
  }
 ],
 "metadata": {
  "kernelspec": {
   "display_name": "Python 3",
   "language": "python",
   "name": "python3"
  },
  "language_info": {
   "codemirror_mode": {
    "name": "ipython",
    "version": 3
   },
   "file_extension": ".py",
   "mimetype": "text/x-python",
   "name": "python",
   "nbconvert_exporter": "python",
   "pygments_lexer": "ipython3",
   "version": "3.6.9"
  }
 },
 "nbformat": 4,
 "nbformat_minor": 5
}
