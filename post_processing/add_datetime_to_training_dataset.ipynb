{
 "cells": [
  {
   "cell_type": "code",
   "execution_count": 1,
   "id": "14787e04",
   "metadata": {},
   "outputs": [],
   "source": [
    "import pandas as pd\n",
    "import matplotlib.pyplot as plt\n",
    "import numpy as np\n",
    "import MisrToolkit as mtk # needs python3.6\n",
    "# from mpl_toolkits.basemap import Basemap # needs python 3.8?\n",
    "import sys # to check python version\n",
    "import os\n",
    "import glob\n",
    "import datetime as dt"
   ]
  },
  {
   "cell_type": "code",
   "execution_count": 2,
   "id": "e5911492",
   "metadata": {},
   "outputs": [
    {
     "data": {
      "text/plain": [
       "'3.6.13 |Anaconda, Inc.| (default, Feb 23 2021, 12:58:59) \\n[GCC Clang 10.0.0 ]'"
      ]
     },
     "execution_count": 2,
     "metadata": {},
     "output_type": "execute_result"
    }
   ],
   "source": [
    "# check python version\n",
    "t1 = dt.datetime.now()\n",
    "sys.version"
   ]
  },
  {
   "cell_type": "code",
   "execution_count": 3,
   "id": "bf14bd93",
   "metadata": {},
   "outputs": [
    {
     "data": {
      "text/plain": [
       "True"
      ]
     },
     "execution_count": 3,
     "metadata": {},
     "output_type": "execute_result"
    }
   ],
   "source": [
    "# load training dataset\n",
    "\n",
    "# home_dir = \"/media/ehsan/6T_part1/2016/april_2016/14528_apr2016/project_april_2016_3cam/training_data\"\n",
    "home_dir = \"/Users/ehsanmos/Documents/RnD/MISR_lab/ML_research/training_dataset\"\n",
    "\n",
    "# in_csv = \"myMethod_merged_april_2016_9cam_4bands_training_dataset.csv\"\n",
    "in_csv = \"oldMethod_MisrAtmCalibratedModel_april_2016_training_dataset.csv\"\n",
    "\n",
    "\n",
    "ds_fp = os.path.join(home_dir, in_csv)\n",
    "os.path.isfile(ds_fp)"
   ]
  },
  {
   "cell_type": "code",
   "execution_count": 4,
   "id": "a85a5d08",
   "metadata": {},
   "outputs": [],
   "source": [
    "# read data\n",
    "\n",
    "in_ds = pd.read_csv(ds_fp)"
   ]
  },
  {
   "cell_type": "code",
   "execution_count": 5,
   "id": "0dbf3ef1",
   "metadata": {},
   "outputs": [
    {
     "data": {
      "text/html": [
       "<div>\n",
       "<style scoped>\n",
       "    .dataframe tbody tr th:only-of-type {\n",
       "        vertical-align: middle;\n",
       "    }\n",
       "\n",
       "    .dataframe tbody tr th {\n",
       "        vertical-align: top;\n",
       "    }\n",
       "\n",
       "    .dataframe thead th {\n",
       "        text-align: right;\n",
       "    }\n",
       "</style>\n",
       "<table border=\"1\" class=\"dataframe\">\n",
       "  <thead>\n",
       "    <tr style=\"text-align: right;\">\n",
       "      <th></th>\n",
       "      <th>#path</th>\n",
       "      <th>orbit</th>\n",
       "      <th>img_block</th>\n",
       "      <th>line</th>\n",
       "      <th>sample</th>\n",
       "      <th>lat</th>\n",
       "      <th>lon</th>\n",
       "      <th>an</th>\n",
       "      <th>ca</th>\n",
       "      <th>cf</th>\n",
       "      <th>rms</th>\n",
       "      <th>weight</th>\n",
       "      <th>npts</th>\n",
       "      <th>cloud</th>\n",
       "      <th>var</th>\n",
       "    </tr>\n",
       "  </thead>\n",
       "  <tbody>\n",
       "    <tr>\n",
       "      <th>0</th>\n",
       "      <td>79</td>\n",
       "      <td>86932</td>\n",
       "      <td>32</td>\n",
       "      <td>411</td>\n",
       "      <td>771</td>\n",
       "      <td>71.753167</td>\n",
       "      <td>203.918390</td>\n",
       "      <td>0.654443</td>\n",
       "      <td>0.755881</td>\n",
       "      <td>0.791431</td>\n",
       "      <td>12.678750</td>\n",
       "      <td>0.5</td>\n",
       "      <td>8.0</td>\n",
       "      <td>-1</td>\n",
       "      <td>1.827518</td>\n",
       "    </tr>\n",
       "    <tr>\n",
       "      <th>1</th>\n",
       "      <td>79</td>\n",
       "      <td>86932</td>\n",
       "      <td>32</td>\n",
       "      <td>411</td>\n",
       "      <td>772</td>\n",
       "      <td>71.750189</td>\n",
       "      <td>203.921959</td>\n",
       "      <td>0.666452</td>\n",
       "      <td>0.778317</td>\n",
       "      <td>0.776579</td>\n",
       "      <td>12.010000</td>\n",
       "      <td>0.5</td>\n",
       "      <td>0.5</td>\n",
       "      <td>-1</td>\n",
       "      <td>0.000000</td>\n",
       "    </tr>\n",
       "    <tr>\n",
       "      <th>2</th>\n",
       "      <td>79</td>\n",
       "      <td>86932</td>\n",
       "      <td>32</td>\n",
       "      <td>412</td>\n",
       "      <td>772</td>\n",
       "      <td>71.749996</td>\n",
       "      <td>203.922187</td>\n",
       "      <td>0.676406</td>\n",
       "      <td>0.780845</td>\n",
       "      <td>0.787165</td>\n",
       "      <td>8.312353</td>\n",
       "      <td>0.5</td>\n",
       "      <td>8.5</td>\n",
       "      <td>-1</td>\n",
       "      <td>1.919447</td>\n",
       "    </tr>\n",
       "    <tr>\n",
       "      <th>3</th>\n",
       "      <td>79</td>\n",
       "      <td>86932</td>\n",
       "      <td>32</td>\n",
       "      <td>413</td>\n",
       "      <td>773</td>\n",
       "      <td>71.746816</td>\n",
       "      <td>203.925895</td>\n",
       "      <td>0.697736</td>\n",
       "      <td>0.813235</td>\n",
       "      <td>0.787481</td>\n",
       "      <td>9.718824</td>\n",
       "      <td>0.5</td>\n",
       "      <td>8.5</td>\n",
       "      <td>-1</td>\n",
       "      <td>3.094357</td>\n",
       "    </tr>\n",
       "    <tr>\n",
       "      <th>4</th>\n",
       "      <td>79</td>\n",
       "      <td>86932</td>\n",
       "      <td>32</td>\n",
       "      <td>414</td>\n",
       "      <td>773</td>\n",
       "      <td>71.743552</td>\n",
       "      <td>203.929087</td>\n",
       "      <td>0.713062</td>\n",
       "      <td>0.790641</td>\n",
       "      <td>0.801069</td>\n",
       "      <td>16.385000</td>\n",
       "      <td>0.5</td>\n",
       "      <td>1.0</td>\n",
       "      <td>-1</td>\n",
       "      <td>0.305000</td>\n",
       "    </tr>\n",
       "  </tbody>\n",
       "</table>\n",
       "</div>"
      ],
      "text/plain": [
       "   #path   orbit   img_block   line   sample        lat         lon        an  \\\n",
       "0     79   86932          32    411      771  71.753167  203.918390  0.654443   \n",
       "1     79   86932          32    411      772  71.750189  203.921959  0.666452   \n",
       "2     79   86932          32    412      772  71.749996  203.922187  0.676406   \n",
       "3     79   86932          32    413      773  71.746816  203.925895  0.697736   \n",
       "4     79   86932          32    414      773  71.743552  203.929087  0.713062   \n",
       "\n",
       "         ca        cf        rms   weight   npts   cloud       var  \n",
       "0  0.755881  0.791431  12.678750      0.5    8.0      -1  1.827518  \n",
       "1  0.778317  0.776579  12.010000      0.5    0.5      -1  0.000000  \n",
       "2  0.780845  0.787165   8.312353      0.5    8.5      -1  1.919447  \n",
       "3  0.813235  0.787481   9.718824      0.5    8.5      -1  3.094357  \n",
       "4  0.790641  0.801069  16.385000      0.5    1.0      -1  0.305000  "
      ]
     },
     "execution_count": 5,
     "metadata": {},
     "output_type": "execute_result"
    }
   ],
   "source": [
    "in_ds.head(5)"
   ]
  },
  {
   "cell_type": "code",
   "execution_count": 6,
   "id": "aff6080d",
   "metadata": {},
   "outputs": [
    {
     "name": "stdout",
     "output_type": "stream",
     "text": [
      "<class 'pandas.core.frame.DataFrame'>\n",
      "RangeIndex: 120969 entries, 0 to 120968\n",
      "Data columns (total 15 columns):\n",
      " #   Column      Non-Null Count   Dtype  \n",
      "---  ------      --------------   -----  \n",
      " 0   #path       120969 non-null  int64  \n",
      " 1    orbit      120969 non-null  int64  \n",
      " 2    img_block  120969 non-null  int64  \n",
      " 3    line       120969 non-null  int64  \n",
      " 4    sample     120969 non-null  int64  \n",
      " 5    lat        120969 non-null  float64\n",
      " 6    lon        120969 non-null  float64\n",
      " 7    an         120969 non-null  float64\n",
      " 8    ca         120969 non-null  float64\n",
      " 9    cf         120969 non-null  float64\n",
      " 10   rms        120969 non-null  float64\n",
      " 11   weight     120969 non-null  float64\n",
      " 12   npts       120969 non-null  float64\n",
      " 13   cloud      120969 non-null  int64  \n",
      " 14   var        120969 non-null  float64\n",
      "dtypes: float64(9), int64(6)\n",
      "memory usage: 13.8 MB\n"
     ]
    }
   ],
   "source": [
    "in_ds.info()"
   ]
  },
  {
   "cell_type": "code",
   "execution_count": 7,
   "id": "eba4ab8a",
   "metadata": {},
   "outputs": [
    {
     "data": {
      "text/html": [
       "<div>\n",
       "<style scoped>\n",
       "    .dataframe tbody tr th:only-of-type {\n",
       "        vertical-align: middle;\n",
       "    }\n",
       "\n",
       "    .dataframe tbody tr th {\n",
       "        vertical-align: top;\n",
       "    }\n",
       "\n",
       "    .dataframe thead th {\n",
       "        text-align: right;\n",
       "    }\n",
       "</style>\n",
       "<table border=\"1\" class=\"dataframe\">\n",
       "  <thead>\n",
       "    <tr style=\"text-align: right;\">\n",
       "      <th></th>\n",
       "      <th>#path</th>\n",
       "      <th>orbit</th>\n",
       "      <th>img_block</th>\n",
       "      <th>line</th>\n",
       "      <th>sample</th>\n",
       "      <th>lat</th>\n",
       "      <th>lon</th>\n",
       "      <th>an</th>\n",
       "      <th>ca</th>\n",
       "      <th>cf</th>\n",
       "      <th>rms</th>\n",
       "      <th>weight</th>\n",
       "      <th>npts</th>\n",
       "      <th>cloud</th>\n",
       "      <th>var</th>\n",
       "    </tr>\n",
       "  </thead>\n",
       "  <tbody>\n",
       "    <tr>\n",
       "      <th>0</th>\n",
       "      <td>79</td>\n",
       "      <td>86932</td>\n",
       "      <td>32</td>\n",
       "      <td>411</td>\n",
       "      <td>771</td>\n",
       "      <td>71.753167</td>\n",
       "      <td>203.918390</td>\n",
       "      <td>0.654443</td>\n",
       "      <td>0.755881</td>\n",
       "      <td>0.791431</td>\n",
       "      <td>12.678750</td>\n",
       "      <td>0.5</td>\n",
       "      <td>8.0</td>\n",
       "      <td>-1</td>\n",
       "      <td>1.827518</td>\n",
       "    </tr>\n",
       "    <tr>\n",
       "      <th>1</th>\n",
       "      <td>79</td>\n",
       "      <td>86932</td>\n",
       "      <td>32</td>\n",
       "      <td>411</td>\n",
       "      <td>772</td>\n",
       "      <td>71.750189</td>\n",
       "      <td>203.921959</td>\n",
       "      <td>0.666452</td>\n",
       "      <td>0.778317</td>\n",
       "      <td>0.776579</td>\n",
       "      <td>12.010000</td>\n",
       "      <td>0.5</td>\n",
       "      <td>0.5</td>\n",
       "      <td>-1</td>\n",
       "      <td>0.000000</td>\n",
       "    </tr>\n",
       "    <tr>\n",
       "      <th>2</th>\n",
       "      <td>79</td>\n",
       "      <td>86932</td>\n",
       "      <td>32</td>\n",
       "      <td>412</td>\n",
       "      <td>772</td>\n",
       "      <td>71.749996</td>\n",
       "      <td>203.922187</td>\n",
       "      <td>0.676406</td>\n",
       "      <td>0.780845</td>\n",
       "      <td>0.787165</td>\n",
       "      <td>8.312353</td>\n",
       "      <td>0.5</td>\n",
       "      <td>8.5</td>\n",
       "      <td>-1</td>\n",
       "      <td>1.919447</td>\n",
       "    </tr>\n",
       "    <tr>\n",
       "      <th>3</th>\n",
       "      <td>79</td>\n",
       "      <td>86932</td>\n",
       "      <td>32</td>\n",
       "      <td>413</td>\n",
       "      <td>773</td>\n",
       "      <td>71.746816</td>\n",
       "      <td>203.925895</td>\n",
       "      <td>0.697736</td>\n",
       "      <td>0.813235</td>\n",
       "      <td>0.787481</td>\n",
       "      <td>9.718824</td>\n",
       "      <td>0.5</td>\n",
       "      <td>8.5</td>\n",
       "      <td>-1</td>\n",
       "      <td>3.094357</td>\n",
       "    </tr>\n",
       "    <tr>\n",
       "      <th>4</th>\n",
       "      <td>79</td>\n",
       "      <td>86932</td>\n",
       "      <td>32</td>\n",
       "      <td>414</td>\n",
       "      <td>773</td>\n",
       "      <td>71.743552</td>\n",
       "      <td>203.929087</td>\n",
       "      <td>0.713062</td>\n",
       "      <td>0.790641</td>\n",
       "      <td>0.801069</td>\n",
       "      <td>16.385000</td>\n",
       "      <td>0.5</td>\n",
       "      <td>1.0</td>\n",
       "      <td>-1</td>\n",
       "      <td>0.305000</td>\n",
       "    </tr>\n",
       "  </tbody>\n",
       "</table>\n",
       "</div>"
      ],
      "text/plain": [
       "   #path   orbit   img_block   line   sample        lat         lon        an  \\\n",
       "0     79   86932          32    411      771  71.753167  203.918390  0.654443   \n",
       "1     79   86932          32    411      772  71.750189  203.921959  0.666452   \n",
       "2     79   86932          32    412      772  71.749996  203.922187  0.676406   \n",
       "3     79   86932          32    413      773  71.746816  203.925895  0.697736   \n",
       "4     79   86932          32    414      773  71.743552  203.929087  0.713062   \n",
       "\n",
       "         ca        cf        rms   weight   npts   cloud       var  \n",
       "0  0.755881  0.791431  12.678750      0.5    8.0      -1  1.827518  \n",
       "1  0.778317  0.776579  12.010000      0.5    0.5      -1  0.000000  \n",
       "2  0.780845  0.787165   8.312353      0.5    8.5      -1  1.919447  \n",
       "3  0.813235  0.787481   9.718824      0.5    8.5      -1  3.094357  \n",
       "4  0.790641  0.801069  16.385000      0.5    1.0      -1  0.305000  "
      ]
     },
     "execution_count": 7,
     "metadata": {},
     "output_type": "execute_result"
    }
   ],
   "source": [
    "# remove lines with zero\n",
    "# Note: we must put each condition within parenthesis\n",
    "\n",
    "# we use 3 filters to make sure we find every zero row and copy the filterd DF to new one\n",
    "\n",
    "in_ds = in_ds.loc[(in_ds['#path']!=0) &\n",
    "                 (in_ds[' orbit'] !=0) &\n",
    "                 (in_ds[' img_block'] !=0)]\n",
    "\n",
    "# in_ds = in_ds.loc[(in_ds['path']!=0) &\n",
    "#                  (in_ds['orbit'] !=0) &\n",
    "#                  (in_ds['block'] !=0)]\n",
    "\n",
    "in_ds.head()"
   ]
  },
  {
   "cell_type": "code",
   "execution_count": 8,
   "id": "c8bd7c4c",
   "metadata": {},
   "outputs": [
    {
     "data": {
      "text/plain": [
       "(120969, 15)"
      ]
     },
     "execution_count": 8,
     "metadata": {},
     "output_type": "execute_result"
    }
   ],
   "source": [
    "in_ds.shape"
   ]
  },
  {
   "cell_type": "code",
   "execution_count": 9,
   "id": "2f4469c4",
   "metadata": {},
   "outputs": [
    {
     "data": {
      "text/plain": [
       "Index(['#path', ' orbit', ' img_block', ' line', ' sample', ' lat', ' lon',\n",
       "       ' an', ' ca', ' cf', ' rms'],\n",
       "      dtype='object')"
      ]
     },
     "execution_count": 9,
     "metadata": {},
     "output_type": "execute_result"
    }
   ],
   "source": [
    "# subset necessary columns == 3 columns\n",
    "\n",
    "# ds_3cam = in_ds[[\"path\", \"orbit\", \"block\", \"line\", \"sample\", \"lat\", \"lon\", \"Ca_r\", \"Cf_r\", \"An_r\", \"mean_ATM_roughness\"]] # add path & block here\n",
    "\n",
    "ds_3cam = in_ds[[\"#path\", \" orbit\", \" img_block\", \" line\", \" sample\", \" lat\", \" lon\", \" an\", \" ca\", \" cf\", \" rms\"]] # add path & block here\n",
    "\n",
    "ds_3cam.columns"
   ]
  },
  {
   "cell_type": "code",
   "execution_count": 10,
   "id": "44f6e8db",
   "metadata": {},
   "outputs": [
    {
     "name": "stderr",
     "output_type": "stream",
     "text": [
      "/Applications/anaconda3/envs/virtEnv36/lib/python3.6/site-packages/pandas/core/frame.py:4308: SettingWithCopyWarning: \n",
      "A value is trying to be set on a copy of a slice from a DataFrame\n",
      "\n",
      "See the caveats in the documentation: https://pandas.pydata.org/pandas-docs/stable/user_guide/indexing.html#returning-a-view-versus-a-copy\n",
      "  errors=errors,\n"
     ]
    },
    {
     "data": {
      "text/plain": [
       "Index(['#path', ' orbit', ' img_block', ' line', ' sample', ' lat', ' lon',\n",
       "       ' an', ' ca', ' cf', ' rms'],\n",
       "      dtype='object')"
      ]
     },
     "execution_count": 10,
     "metadata": {},
     "output_type": "execute_result"
    }
   ],
   "source": [
    "# rename last column\n",
    "\n",
    "ds_3cam.rename(columns={\"mean_ATM_roughness\":\"rms\"}, inplace=True)\n",
    "ds_3cam.columns"
   ]
  },
  {
   "cell_type": "code",
   "execution_count": 11,
   "id": "cd60d32a",
   "metadata": {},
   "outputs": [
    {
     "name": "stdout",
     "output_type": "stream",
     "text": [
      "<class 'list'>\n"
     ]
    }
   ],
   "source": [
    "# compute date-time from orbit\n",
    "\n",
    "orbit_list = ds_3cam[' orbit'].to_list()\n",
    "\n",
    "print(type(orbit_list))\n",
    "\n",
    "# for x in orbit_list:\n",
    "#     if x<1:\n",
    "#         orbit_list.remove(x)\n",
    "\n",
    "orbit_list_noZero = [i for i in orbit_list if i>0]\n",
    "\n",
    "# print(len(orbit_list_noZero))\n",
    "# print(min(orbit_list_noZero))\n",
    "# print(max(orbit_list_noZero))"
   ]
  },
  {
   "cell_type": "code",
   "execution_count": 12,
   "id": "7730105b",
   "metadata": {},
   "outputs": [],
   "source": [
    "# use MTK and change orbit to date-time\n",
    "\n",
    "orbit_start_stop_list = []\n",
    "\n",
    "for orbiti in orbit_list_noZero:\n",
    "    orbit_start_stop = mtk.orbit_to_time_range(orbiti)\n",
    "    orbit_start_stop_list.append(orbit_start_stop)"
   ]
  },
  {
   "cell_type": "code",
   "execution_count": 13,
   "id": "32eccaaa",
   "metadata": {},
   "outputs": [],
   "source": [
    "# change list to np.array and extract start and stop columns \n",
    "\n",
    "orbit_start = np.array(orbit_start_stop_list)[:,0]\n",
    "orbit_stop = np.array(orbit_start_stop_list)[:,1]"
   ]
  },
  {
   "cell_type": "code",
   "execution_count": 14,
   "id": "0a290b64",
   "metadata": {},
   "outputs": [
    {
     "name": "stderr",
     "output_type": "stream",
     "text": [
      "/Applications/anaconda3/envs/virtEnv36/lib/python3.6/site-packages/ipykernel_launcher.py:3: SettingWithCopyWarning: \n",
      "A value is trying to be set on a copy of a slice from a DataFrame.\n",
      "Try using .loc[row_indexer,col_indexer] = value instead\n",
      "\n",
      "See the caveats in the documentation: https://pandas.pydata.org/pandas-docs/stable/user_guide/indexing.html#returning-a-view-versus-a-copy\n",
      "  This is separate from the ipykernel package so we can avoid doing imports until\n",
      "/Applications/anaconda3/envs/virtEnv36/lib/python3.6/site-packages/ipykernel_launcher.py:4: SettingWithCopyWarning: \n",
      "A value is trying to be set on a copy of a slice from a DataFrame.\n",
      "Try using .loc[row_indexer,col_indexer] = value instead\n",
      "\n",
      "See the caveats in the documentation: https://pandas.pydata.org/pandas-docs/stable/user_guide/indexing.html#returning-a-view-versus-a-copy\n",
      "  after removing the cwd from sys.path.\n"
     ]
    },
    {
     "data": {
      "text/html": [
       "<div>\n",
       "<style scoped>\n",
       "    .dataframe tbody tr th:only-of-type {\n",
       "        vertical-align: middle;\n",
       "    }\n",
       "\n",
       "    .dataframe tbody tr th {\n",
       "        vertical-align: top;\n",
       "    }\n",
       "\n",
       "    .dataframe thead th {\n",
       "        text-align: right;\n",
       "    }\n",
       "</style>\n",
       "<table border=\"1\" class=\"dataframe\">\n",
       "  <thead>\n",
       "    <tr style=\"text-align: right;\">\n",
       "      <th></th>\n",
       "      <th>#path</th>\n",
       "      <th>orbit</th>\n",
       "      <th>img_block</th>\n",
       "      <th>line</th>\n",
       "      <th>sample</th>\n",
       "      <th>lat</th>\n",
       "      <th>lon</th>\n",
       "      <th>an</th>\n",
       "      <th>ca</th>\n",
       "      <th>cf</th>\n",
       "      <th>rms</th>\n",
       "      <th>orbit_start</th>\n",
       "      <th>orbit_stop</th>\n",
       "    </tr>\n",
       "  </thead>\n",
       "  <tbody>\n",
       "    <tr>\n",
       "      <th>0</th>\n",
       "      <td>79</td>\n",
       "      <td>86932</td>\n",
       "      <td>32</td>\n",
       "      <td>411</td>\n",
       "      <td>771</td>\n",
       "      <td>71.753167</td>\n",
       "      <td>203.918390</td>\n",
       "      <td>0.654443</td>\n",
       "      <td>0.755881</td>\n",
       "      <td>0.791431</td>\n",
       "      <td>12.678750</td>\n",
       "      <td>2016-04-21T22:01:26Z</td>\n",
       "      <td>2016-04-21T23:40:20Z</td>\n",
       "    </tr>\n",
       "    <tr>\n",
       "      <th>1</th>\n",
       "      <td>79</td>\n",
       "      <td>86932</td>\n",
       "      <td>32</td>\n",
       "      <td>411</td>\n",
       "      <td>772</td>\n",
       "      <td>71.750189</td>\n",
       "      <td>203.921959</td>\n",
       "      <td>0.666452</td>\n",
       "      <td>0.778317</td>\n",
       "      <td>0.776579</td>\n",
       "      <td>12.010000</td>\n",
       "      <td>2016-04-21T22:01:26Z</td>\n",
       "      <td>2016-04-21T23:40:20Z</td>\n",
       "    </tr>\n",
       "    <tr>\n",
       "      <th>2</th>\n",
       "      <td>79</td>\n",
       "      <td>86932</td>\n",
       "      <td>32</td>\n",
       "      <td>412</td>\n",
       "      <td>772</td>\n",
       "      <td>71.749996</td>\n",
       "      <td>203.922187</td>\n",
       "      <td>0.676406</td>\n",
       "      <td>0.780845</td>\n",
       "      <td>0.787165</td>\n",
       "      <td>8.312353</td>\n",
       "      <td>2016-04-21T22:01:26Z</td>\n",
       "      <td>2016-04-21T23:40:20Z</td>\n",
       "    </tr>\n",
       "    <tr>\n",
       "      <th>3</th>\n",
       "      <td>79</td>\n",
       "      <td>86932</td>\n",
       "      <td>32</td>\n",
       "      <td>413</td>\n",
       "      <td>773</td>\n",
       "      <td>71.746816</td>\n",
       "      <td>203.925895</td>\n",
       "      <td>0.697736</td>\n",
       "      <td>0.813235</td>\n",
       "      <td>0.787481</td>\n",
       "      <td>9.718824</td>\n",
       "      <td>2016-04-21T22:01:26Z</td>\n",
       "      <td>2016-04-21T23:40:20Z</td>\n",
       "    </tr>\n",
       "    <tr>\n",
       "      <th>4</th>\n",
       "      <td>79</td>\n",
       "      <td>86932</td>\n",
       "      <td>32</td>\n",
       "      <td>414</td>\n",
       "      <td>773</td>\n",
       "      <td>71.743552</td>\n",
       "      <td>203.929087</td>\n",
       "      <td>0.713062</td>\n",
       "      <td>0.790641</td>\n",
       "      <td>0.801069</td>\n",
       "      <td>16.385000</td>\n",
       "      <td>2016-04-21T22:01:26Z</td>\n",
       "      <td>2016-04-21T23:40:20Z</td>\n",
       "    </tr>\n",
       "  </tbody>\n",
       "</table>\n",
       "</div>"
      ],
      "text/plain": [
       "   #path   orbit   img_block   line   sample        lat         lon        an  \\\n",
       "0     79   86932          32    411      771  71.753167  203.918390  0.654443   \n",
       "1     79   86932          32    411      772  71.750189  203.921959  0.666452   \n",
       "2     79   86932          32    412      772  71.749996  203.922187  0.676406   \n",
       "3     79   86932          32    413      773  71.746816  203.925895  0.697736   \n",
       "4     79   86932          32    414      773  71.743552  203.929087  0.713062   \n",
       "\n",
       "         ca        cf        rms           orbit_start            orbit_stop  \n",
       "0  0.755881  0.791431  12.678750  2016-04-21T22:01:26Z  2016-04-21T23:40:20Z  \n",
       "1  0.778317  0.776579  12.010000  2016-04-21T22:01:26Z  2016-04-21T23:40:20Z  \n",
       "2  0.780845  0.787165   8.312353  2016-04-21T22:01:26Z  2016-04-21T23:40:20Z  \n",
       "3  0.813235  0.787481   9.718824  2016-04-21T22:01:26Z  2016-04-21T23:40:20Z  \n",
       "4  0.790641  0.801069  16.385000  2016-04-21T22:01:26Z  2016-04-21T23:40:20Z  "
      ]
     },
     "execution_count": 14,
     "metadata": {},
     "output_type": "execute_result"
    }
   ],
   "source": [
    "# add a date-time column to DF\n",
    "\n",
    "ds_3cam['orbit_start'] = orbit_start\n",
    "ds_3cam['orbit_stop'] = orbit_stop\n",
    "ds_3cam.head(5)"
   ]
  },
  {
   "cell_type": "code",
   "execution_count": 15,
   "id": "ae0a54d6",
   "metadata": {},
   "outputs": [
    {
     "name": "stderr",
     "output_type": "stream",
     "text": [
      "/Applications/anaconda3/envs/virtEnv36/lib/python3.6/site-packages/ipykernel_launcher.py:3: SettingWithCopyWarning: \n",
      "A value is trying to be set on a copy of a slice from a DataFrame.\n",
      "Try using .loc[row_indexer,col_indexer] = value instead\n",
      "\n",
      "See the caveats in the documentation: https://pandas.pydata.org/pandas-docs/stable/user_guide/indexing.html#returning-a-view-versus-a-copy\n",
      "  This is separate from the ipykernel package so we can avoid doing imports until\n",
      "/Applications/anaconda3/envs/virtEnv36/lib/python3.6/site-packages/ipykernel_launcher.py:4: SettingWithCopyWarning: \n",
      "A value is trying to be set on a copy of a slice from a DataFrame.\n",
      "Try using .loc[row_indexer,col_indexer] = value instead\n",
      "\n",
      "See the caveats in the documentation: https://pandas.pydata.org/pandas-docs/stable/user_guide/indexing.html#returning-a-view-versus-a-copy\n",
      "  after removing the cwd from sys.path.\n"
     ]
    }
   ],
   "source": [
    "# change string to datetime format and apply it on specific DF column\n",
    "\n",
    "ds_3cam['orbit_start'] = pd.to_datetime(ds_3cam['orbit_start'])\n",
    "ds_3cam['orbit_stop'] = pd.to_datetime(ds_3cam['orbit_stop'])\n"
   ]
  },
  {
   "cell_type": "code",
   "execution_count": 16,
   "id": "d5ad8ea0",
   "metadata": {},
   "outputs": [
    {
     "data": {
      "text/html": [
       "<div>\n",
       "<style scoped>\n",
       "    .dataframe tbody tr th:only-of-type {\n",
       "        vertical-align: middle;\n",
       "    }\n",
       "\n",
       "    .dataframe tbody tr th {\n",
       "        vertical-align: top;\n",
       "    }\n",
       "\n",
       "    .dataframe thead th {\n",
       "        text-align: right;\n",
       "    }\n",
       "</style>\n",
       "<table border=\"1\" class=\"dataframe\">\n",
       "  <thead>\n",
       "    <tr style=\"text-align: right;\">\n",
       "      <th></th>\n",
       "      <th>#path</th>\n",
       "      <th>orbit</th>\n",
       "      <th>img_block</th>\n",
       "      <th>line</th>\n",
       "      <th>sample</th>\n",
       "      <th>lat</th>\n",
       "      <th>lon</th>\n",
       "      <th>an</th>\n",
       "      <th>ca</th>\n",
       "      <th>cf</th>\n",
       "      <th>rms</th>\n",
       "      <th>orbit_start</th>\n",
       "      <th>orbit_stop</th>\n",
       "    </tr>\n",
       "  </thead>\n",
       "  <tbody>\n",
       "    <tr>\n",
       "      <th>0</th>\n",
       "      <td>79</td>\n",
       "      <td>86932</td>\n",
       "      <td>32</td>\n",
       "      <td>411</td>\n",
       "      <td>771</td>\n",
       "      <td>71.753167</td>\n",
       "      <td>203.918390</td>\n",
       "      <td>0.654443</td>\n",
       "      <td>0.755881</td>\n",
       "      <td>0.791431</td>\n",
       "      <td>12.678750</td>\n",
       "      <td>2016-04-21 22:01:26+00:00</td>\n",
       "      <td>2016-04-21 23:40:20+00:00</td>\n",
       "    </tr>\n",
       "    <tr>\n",
       "      <th>1</th>\n",
       "      <td>79</td>\n",
       "      <td>86932</td>\n",
       "      <td>32</td>\n",
       "      <td>411</td>\n",
       "      <td>772</td>\n",
       "      <td>71.750189</td>\n",
       "      <td>203.921959</td>\n",
       "      <td>0.666452</td>\n",
       "      <td>0.778317</td>\n",
       "      <td>0.776579</td>\n",
       "      <td>12.010000</td>\n",
       "      <td>2016-04-21 22:01:26+00:00</td>\n",
       "      <td>2016-04-21 23:40:20+00:00</td>\n",
       "    </tr>\n",
       "    <tr>\n",
       "      <th>2</th>\n",
       "      <td>79</td>\n",
       "      <td>86932</td>\n",
       "      <td>32</td>\n",
       "      <td>412</td>\n",
       "      <td>772</td>\n",
       "      <td>71.749996</td>\n",
       "      <td>203.922187</td>\n",
       "      <td>0.676406</td>\n",
       "      <td>0.780845</td>\n",
       "      <td>0.787165</td>\n",
       "      <td>8.312353</td>\n",
       "      <td>2016-04-21 22:01:26+00:00</td>\n",
       "      <td>2016-04-21 23:40:20+00:00</td>\n",
       "    </tr>\n",
       "    <tr>\n",
       "      <th>3</th>\n",
       "      <td>79</td>\n",
       "      <td>86932</td>\n",
       "      <td>32</td>\n",
       "      <td>413</td>\n",
       "      <td>773</td>\n",
       "      <td>71.746816</td>\n",
       "      <td>203.925895</td>\n",
       "      <td>0.697736</td>\n",
       "      <td>0.813235</td>\n",
       "      <td>0.787481</td>\n",
       "      <td>9.718824</td>\n",
       "      <td>2016-04-21 22:01:26+00:00</td>\n",
       "      <td>2016-04-21 23:40:20+00:00</td>\n",
       "    </tr>\n",
       "    <tr>\n",
       "      <th>4</th>\n",
       "      <td>79</td>\n",
       "      <td>86932</td>\n",
       "      <td>32</td>\n",
       "      <td>414</td>\n",
       "      <td>773</td>\n",
       "      <td>71.743552</td>\n",
       "      <td>203.929087</td>\n",
       "      <td>0.713062</td>\n",
       "      <td>0.790641</td>\n",
       "      <td>0.801069</td>\n",
       "      <td>16.385000</td>\n",
       "      <td>2016-04-21 22:01:26+00:00</td>\n",
       "      <td>2016-04-21 23:40:20+00:00</td>\n",
       "    </tr>\n",
       "  </tbody>\n",
       "</table>\n",
       "</div>"
      ],
      "text/plain": [
       "   #path   orbit   img_block   line   sample        lat         lon        an  \\\n",
       "0     79   86932          32    411      771  71.753167  203.918390  0.654443   \n",
       "1     79   86932          32    411      772  71.750189  203.921959  0.666452   \n",
       "2     79   86932          32    412      772  71.749996  203.922187  0.676406   \n",
       "3     79   86932          32    413      773  71.746816  203.925895  0.697736   \n",
       "4     79   86932          32    414      773  71.743552  203.929087  0.713062   \n",
       "\n",
       "         ca        cf        rms               orbit_start  \\\n",
       "0  0.755881  0.791431  12.678750 2016-04-21 22:01:26+00:00   \n",
       "1  0.778317  0.776579  12.010000 2016-04-21 22:01:26+00:00   \n",
       "2  0.780845  0.787165   8.312353 2016-04-21 22:01:26+00:00   \n",
       "3  0.813235  0.787481   9.718824 2016-04-21 22:01:26+00:00   \n",
       "4  0.790641  0.801069  16.385000 2016-04-21 22:01:26+00:00   \n",
       "\n",
       "                 orbit_stop  \n",
       "0 2016-04-21 23:40:20+00:00  \n",
       "1 2016-04-21 23:40:20+00:00  \n",
       "2 2016-04-21 23:40:20+00:00  \n",
       "3 2016-04-21 23:40:20+00:00  \n",
       "4 2016-04-21 23:40:20+00:00  "
      ]
     },
     "execution_count": 16,
     "metadata": {},
     "output_type": "execute_result"
    }
   ],
   "source": [
    "ds_3cam.head()"
   ]
  },
  {
   "cell_type": "code",
   "execution_count": 17,
   "id": "98f089a0",
   "metadata": {},
   "outputs": [
    {
     "name": "stdout",
     "output_type": "stream",
     "text": [
      "<class 'pandas.core.frame.DataFrame'>\n",
      "Int64Index: 120969 entries, 0 to 120968\n",
      "Data columns (total 13 columns):\n",
      " #   Column       Non-Null Count   Dtype              \n",
      "---  ------       --------------   -----              \n",
      " 0   #path        120969 non-null  int64              \n",
      " 1    orbit       120969 non-null  int64              \n",
      " 2    img_block   120969 non-null  int64              \n",
      " 3    line        120969 non-null  int64              \n",
      " 4    sample      120969 non-null  int64              \n",
      " 5    lat         120969 non-null  float64            \n",
      " 6    lon         120969 non-null  float64            \n",
      " 7    an          120969 non-null  float64            \n",
      " 8    ca          120969 non-null  float64            \n",
      " 9    cf          120969 non-null  float64            \n",
      " 10   rms         120969 non-null  float64            \n",
      " 11  orbit_start  120969 non-null  datetime64[ns, UTC]\n",
      " 12  orbit_stop   120969 non-null  datetime64[ns, UTC]\n",
      "dtypes: datetime64[ns, UTC](2), float64(6), int64(5)\n",
      "memory usage: 12.9 MB\n"
     ]
    }
   ],
   "source": [
    "ds_3cam.info()"
   ]
  },
  {
   "cell_type": "code",
   "execution_count": 18,
   "id": "c0945584",
   "metadata": {},
   "outputs": [
    {
     "data": {
      "text/plain": [
       "'/Users/ehsanmos/Documents/RnD/MISR_lab/ML_research/training_dataset/oldMethod_MisrAtmCalibratedModel_april_2016_training_dataset_datetime.csv'"
      ]
     },
     "execution_count": 18,
     "metadata": {},
     "output_type": "execute_result"
    }
   ],
   "source": [
    "# write out dataset with date-time\n",
    "\n",
    "output_filename = in_csv.split('.')[0]+\"_datetime.csv\"\n",
    "\n",
    "output_file_fp = os.path.join(home_dir, output_filename)\n",
    "ds_3cam.to_csv(output_file_fp, encoding='utf-8-sig') # note: 'utf-8-sig' solved the problem of garbag character on Mac, but still it is an issue on Linux!\n",
    "output_file_fp\n"
   ]
  },
  {
   "cell_type": "code",
   "execution_count": 19,
   "id": "02729982",
   "metadata": {},
   "outputs": [
    {
     "data": {
      "text/plain": [
       "datetime.timedelta(0, 2, 638516)"
      ]
     },
     "execution_count": 19,
     "metadata": {},
     "output_type": "execute_result"
    }
   ],
   "source": [
    "t2 = dt.datetime.now()\n",
    "runtime = t2-t1\n",
    "runtime"
   ]
  },
  {
   "cell_type": "code",
   "execution_count": null,
   "id": "35a6611b",
   "metadata": {},
   "outputs": [],
   "source": []
  }
 ],
 "metadata": {
  "kernelspec": {
   "display_name": "Python 3",
   "language": "python",
   "name": "python3"
  },
  "language_info": {
   "codemirror_mode": {
    "name": "ipython",
    "version": 3
   },
   "file_extension": ".py",
   "mimetype": "text/x-python",
   "name": "python",
   "nbconvert_exporter": "python",
   "pygments_lexer": "ipython3",
   "version": "3.6.13"
  }
 },
 "nbformat": 4,
 "nbformat_minor": 5
}
