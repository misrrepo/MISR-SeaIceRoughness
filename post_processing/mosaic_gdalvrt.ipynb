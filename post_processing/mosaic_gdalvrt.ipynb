{
 "cells": [
  {
   "cell_type": "code",
   "execution_count": 22,
   "id": "c46e408b",
   "metadata": {},
   "outputs": [],
   "source": [
    "from osgeo import gdal\n",
    "import os\n",
    "import glob, os\n",
    "import pandas as pd"
   ]
  },
  {
   "cell_type": "code",
   "execution_count": 23,
   "id": "b09e4ccf",
   "metadata": {},
   "outputs": [],
   "source": [
    "output_VRT_filename = 'vrt_original_mosaic_gdal_15_july_2016.vrt'\n",
    "output_mosaic_filename = 'mosaic_gdal_15_july_2016.tif'"
   ]
  },
  {
   "cell_type": "code",
   "execution_count": 24,
   "id": "67ef8e9b",
   "metadata": {},
   "outputs": [],
   "source": [
    "raster_dir = '/Volumes/Ehsan-7757225325/2016/july_2016/predict_roughness_k_zero_npts_10/all_polar_files/polar_raster_subdir_2016_7_15'\n"
   ]
  },
  {
   "cell_type": "code",
   "execution_count": 25,
   "id": "520add9a",
   "metadata": {},
   "outputs": [],
   "source": [
    "# will be built later\n",
    "output_VRT_fp = os.path.join(raster_dir, output_VRT_filename)"
   ]
  },
  {
   "cell_type": "code",
   "execution_count": 26,
   "id": "d1e59518",
   "metadata": {},
   "outputs": [
    {
     "data": {
      "text/plain": [
       "True"
      ]
     },
     "execution_count": 26,
     "metadata": {},
     "output_type": "execute_result"
    }
   ],
   "source": [
    "os.path.isfile(output_VRT_fp)"
   ]
  },
  {
   "cell_type": "code",
   "execution_count": 27,
   "id": "cf34ed7e",
   "metadata": {},
   "outputs": [
    {
     "data": {
      "text/plain": [
       "656"
      ]
     },
     "execution_count": 27,
     "metadata": {},
     "output_type": "execute_result"
    }
   ],
   "source": [
    "file_pattern = 'raster_path_*3995.tif'\n",
    "file_pattern_fp = os.path.join(raster_dir, file_pattern)\n",
    "files_to_mosaic_list = glob.glob(file_pattern_fp)\n",
    "len(files_to_mosaic_list)"
   ]
  },
  {
   "cell_type": "code",
   "execution_count": 28,
   "id": "deda148a",
   "metadata": {},
   "outputs": [],
   "source": [
    "# files_to_mosaic_list"
   ]
  },
  {
   "cell_type": "markdown",
   "id": "40989c07",
   "metadata": {},
   "source": [
    "## step-1: build VRT file "
   ]
  },
  {
   "cell_type": "code",
   "execution_count": 29,
   "id": "2a0a97ab",
   "metadata": {},
   "outputs": [
    {
     "name": "stdout",
     "output_type": "stream",
     "text": [
      "building VRT dataset!\n",
      "closing VRT dataset!\n"
     ]
    }
   ],
   "source": [
    "print('building VRT dataset!')\n",
    "# vrt_options = gdal.BuildVRTOptions(resampleAlg='linear') #, addAlpha=True)\n",
    "my_vrt_ptr = gdal.BuildVRT(output_VRT_fp, \n",
    "                            files_to_mosaic_list,\n",
    "                            srcNodata = -99.0,\n",
    "                            VRTNodata = -99.0\n",
    "                        ) #, options=vrt_options)\n",
    "\n",
    "print('closing VRT dataset!')\n",
    "my_vrt_ptr = None "
   ]
  },
  {
   "cell_type": "code",
   "execution_count": 30,
   "id": "54e6a90f",
   "metadata": {},
   "outputs": [
    {
     "data": {
      "text/plain": [
       "True"
      ]
     },
     "execution_count": 30,
     "metadata": {},
     "output_type": "execute_result"
    }
   ],
   "source": [
    "os.path.isfile(output_VRT_fp)"
   ]
  },
  {
   "cell_type": "code",
   "execution_count": 31,
   "id": "b9b261af",
   "metadata": {},
   "outputs": [
    {
     "data": {
      "text/plain": [
       "'/Volumes/Ehsan-7757225325/2016/july_2016/predict_roughness_k_zero_npts_10/all_polar_files/polar_raster_subdir_2016_7_15/vrt_original_mosaic_gdal_15_july_2016.vrt'"
      ]
     },
     "execution_count": 31,
     "metadata": {},
     "output_type": "execute_result"
    }
   ],
   "source": [
    "output_VRT_fp"
   ]
  },
  {
   "cell_type": "markdown",
   "id": "33a2617d",
   "metadata": {},
   "source": [
    "## step-2: copy VRT file to vrt_average*.vrt & open average VRT file on disk and add following lines to it"
   ]
  },
  {
   "cell_type": "raw",
   "id": "f5673322",
   "metadata": {},
   "source": [
    "<VRTRasterBand dataType=\"Float64\" band=\"1\" subClass=\"VRTDerivedRasterBand\">\n",
    "    <PixelFunctionType>average</PixelFunctionType>\n",
    "    <PixelFunctionLanguage>Python</PixelFunctionLanguage>\n",
    "    <PixelFunctionCode><![CDATA[\n",
    "import numpy as np\n",
    "\n",
    "def average(in_ar, out_ar, xoff, yoff, xsize, ysize, raster_xsize,raster_ysize, buf_radius, gt, **kwargs):\n",
    "    x = np.ma.masked_less(in_ar, 0)\n",
    "    np.mean(x, axis = 0,out = out_ar, dtype = 'uint8')\n",
    "    mask = np.all(x.mask,axis = 0)\n",
    "    out_ar[mask]=0\n",
    "\n",
    "]]>\n",
    "    </PixelFunctionCode>"
   ]
  },
  {
   "cell_type": "markdown",
   "id": "461fdeff",
   "metadata": {},
   "source": [
    "## step-3: build a mosaic from VRT files "
   ]
  },
  {
   "cell_type": "code",
   "execution_count": 32,
   "id": "daa0cf61",
   "metadata": {},
   "outputs": [],
   "source": [
    "output_mosaic_fp = os.path.join(raster_dir, output_mosaic_filename)"
   ]
  },
  {
   "cell_type": "markdown",
   "id": "67dbaa5d",
   "metadata": {},
   "source": [
    "### remembr to update & rename VRT file "
   ]
  },
  {
   "cell_type": "code",
   "execution_count": 33,
   "id": "923b589d",
   "metadata": {},
   "outputs": [],
   "source": [
    "input_VRT_fp = os.path.join(raster_dir, 'vrt_average_mosaic_gdal_15_july_2016.vrt')\n"
   ]
  },
  {
   "cell_type": "code",
   "execution_count": 34,
   "id": "3a6028a8",
   "metadata": {},
   "outputs": [],
   "source": [
    "if (os.path.isfile(input_VRT_fp)!=True):\n",
    "    raise SystemExit\n"
   ]
  },
  {
   "cell_type": "code",
   "execution_count": 35,
   "id": "2291485a",
   "metadata": {},
   "outputs": [
    {
     "name": "stdout",
     "output_type": "stream",
     "text": [
      "start building mosaic from VRT dataset!\n"
     ]
    },
    {
     "name": "stderr",
     "output_type": "stream",
     "text": [
      "ERROR 1: _tiffWriteProc:Input/output error\n",
      "ERROR 1: TIFFAppendToStrip:Write error at scanline 4797\n",
      "ERROR 1: TIFFReadEncodedStrip:Read error at scanline 4294967295; got 0 bytes, expected 21688\n",
      "ERROR 1: TIFFReadEncodedStrip() failed.\n",
      "ERROR 1: raster_path_107_block_27_85GCPs_noGdalRes_dTypeFloat64_85gcps_latlon_reprojToEPSG_3995.tif, band 1: IReadBlock failed at X offset 0, Y offset 305: TIFFReadEncodedStrip() failed.\n",
      "ERROR 1: /Volumes/Ehsan-7757225325/2016/july_2016/predict_roughness_k_zero_npts_10/all_polar_files/polar_raster_subdir_2016_7_15/mosaic_gdal_15_july_2016.tif, band 1: An error occurred while writing a dirty block from FlushCache\n",
      "ERROR 1: _tiffWriteProc:Input/output error\n",
      "ERROR 1: TIFFAppendToStrip:Write error at scanline 4838\n",
      "ERROR 1: _tiffWriteProc:Input/output error\n",
      "ERROR 1: TIFFAppendToStrip:Write error at scanline 4797\n",
      "ERROR 1: TIFFResetField:/Volumes/Ehsan-7757225325/2016/july_2016/predict_roughness_k_zero_npts_10/all_polar_files/polar_raster_subdir_2016_7_15/mosaic_gdal_15_july_2016.tif: Can not read TIFF directory count\n",
      "ERROR 1: _tiffSeekProc:Input/output error\n",
      "ERROR 1: _tiffSeekProc:Input/output error\n",
      "ERROR 1: TIFFWriteDirectoryTagData:IO error writing tag data\n",
      "ERROR 1: TIFFFetchDirectory:/Volumes/Ehsan-7757225325/2016/july_2016/predict_roughness_k_zero_npts_10/all_polar_files/polar_raster_subdir_2016_7_15/mosaic_gdal_15_july_2016.tif: Can not read TIFF directory count\n",
      "ERROR 1: TIFFReadDirectory:Failed to read directory at offset 1145806384\n",
      "ERROR 1: TIFFResetField:/Volumes/Ehsan-7757225325/2016/july_2016/predict_roughness_k_zero_npts_10/all_polar_files/polar_raster_subdir_2016_7_15/mosaic_gdal_15_july_2016.tif: Can not read TIFF directory count\n",
      "ERROR 1: TIFFRewriteDirectory:Error fetching directory count\n"
     ]
    },
    {
     "name": "stdout",
     "output_type": "stream",
     "text": [
      "\n",
      "output mosaic: \n",
      "/Volumes/Ehsan-7757225325/2016/july_2016/predict_roughness_k_zero_npts_10/all_polar_files/polar_raster_subdir_2016_7_15/mosaic_gdal_15_july_2016.tif\n",
      "\n",
      "closing mosaic dataset!\n"
     ]
    }
   ],
   "source": [
    "print('start building mosaic from VRT dataset...')\n",
    "\n",
    "resamplingAlg = 'nearest'\n",
    "\n",
    "gdal.SetConfigOption('GDAL_VRT_ENABLE_PYTHON', 'YES') # to be able to include python functions\n",
    "\n",
    "mosaic_ds = gdal.Translate(output_mosaic_fp,\n",
    "                            input_VRT_fp,\n",
    "                            format = 'GTiff',\n",
    "                            noData = -99.0,\n",
    "                            resampleAlg = resamplingAlg,\n",
    "                            outputType = gdal.GDT_Float64) # note: input dtype is float_64==double, maybe here change dtype to make it smaller img???? # outputType = gdal.GDT_Byte \t\n",
    "\n",
    "\n",
    "print('\\noutput mosaic: ')\n",
    "print(output_mosaic_fp)\n",
    "\n",
    "#~ Properly close the datasets to flush to disk\n",
    "print('\\nclosing mosaic dataset!')\n",
    "\n",
    "mosaic_ds = None\n",
    "VRT_fullpath = None  # close opened input file\n"
   ]
  },
  {
   "cell_type": "code",
   "execution_count": null,
   "id": "ed492928",
   "metadata": {},
   "outputs": [],
   "source": []
  }
 ],
 "metadata": {
  "kernelspec": {
   "display_name": "Python 3 (ipykernel)",
   "language": "python",
   "name": "python3"
  },
  "language_info": {
   "codemirror_mode": {
    "name": "ipython",
    "version": 3
   },
   "file_extension": ".py",
   "mimetype": "text/x-python",
   "name": "python",
   "nbconvert_exporter": "python",
   "pygments_lexer": "ipython3",
   "version": "3.9.13"
  }
 },
 "nbformat": 4,
 "nbformat_minor": 5
}
