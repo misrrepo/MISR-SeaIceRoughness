{
 "cells": [
  {
   "cell_type": "code",
   "execution_count": 22,
   "id": "c46e408b",
   "metadata": {},
   "outputs": [],
   "source": [
    "from osgeo import gdal\n",
    "import os\n",
    "import glob, os\n",
    "import pandas as pd"
   ]
  },
  {
   "cell_type": "code",
   "execution_count": 23,
   "id": "6827b0a5",
   "metadata": {},
   "outputs": [],
   "source": [
    "output_VRT_filename = 'vrt_original_mosaic_gdal_15_july_2016.vrt'\n",
    "output_mosaic_filename = 'mosaic_gdal_15_july_2016.tif'"
   ]
  },
  {
   "cell_type": "code",
   "execution_count": 24,
   "id": "9382efc8",
   "metadata": {},
   "outputs": [],
   "source": [
    "raster_dir = '/Volumes/Ehsan-7757225325/2016/july_2016/predict_roughness_k_zero_npts_10/all_polar_files/polar_raster_subdir_2016_7_15'\n"
   ]
  },
  {
   "cell_type": "code",
   "execution_count": 25,
   "id": "520add9a",
   "metadata": {},
   "outputs": [],
   "source": [
    "# will be built later\n",
    "output_VRT_fp = os.path.join(raster_dir, output_VRT_filename)"
   ]
  },
  {
   "cell_type": "code",
   "execution_count": 26,
   "id": "1d3dca3e",
   "metadata": {},
   "outputs": [
    {
     "data": {
      "text/plain": [
       "True"
      ]
     },
     "execution_count": 26,
     "metadata": {},
     "output_type": "execute_result"
    }
   ],
   "source": [
    "os.path.isfile(output_VRT_fp)"
   ]
  },
  {
   "cell_type": "code",
   "execution_count": 27,
   "id": "e1ea7790",
   "metadata": {},
   "outputs": [
    {
     "data": {
      "text/plain": [
       "656"
      ]
     },
     "execution_count": 27,
     "metadata": {},
     "output_type": "execute_result"
    }
   ],
   "source": [
    "file_pattern = 'raster_path_*3995.tif'\n",
    "file_pattern_fp = os.path.join(raster_dir, file_pattern)\n",
    "files_to_mosaic_list = glob.glob(file_pattern_fp)\n",
    "len(files_to_mosaic_list)"
   ]
  },
  {
   "cell_type": "code",
   "execution_count": 28,
   "id": "0ffeeefa",
   "metadata": {},
   "outputs": [],
   "source": [
    "# files_to_mosaic_list"
   ]
  },
  {
   "cell_type": "markdown",
   "id": "7045de3f",
   "metadata": {},
   "source": [
    "## step-1: build VRT file "
   ]
  },
  {
   "cell_type": "code",
   "execution_count": 29,
   "id": "027e0b74",
   "metadata": {},
   "outputs": [
    {
     "name": "stdout",
     "output_type": "stream",
     "text": [
      "building VRT dataset!\n",
      "closing VRT dataset!\n"
     ]
    }
   ],
   "source": [
    "print('building VRT dataset!')\n",
    "# vrt_options = gdal.BuildVRTOptions(resampleAlg='linear') #, addAlpha=True)\n",
    "my_vrt_ptr = gdal.BuildVRT(output_VRT_fp, \n",
    "                            files_to_mosaic_list,\n",
    "                            srcNodata = -99.0,\n",
    "                            VRTNodata = -99.0\n",
    "                        ) #, options=vrt_options)\n",
    "\n",
    "print('closing VRT dataset!')\n",
    "my_vrt_ptr = None "
   ]
  },
  {
   "cell_type": "code",
   "execution_count": 30,
   "id": "e8f11290",
   "metadata": {},
   "outputs": [
    {
     "data": {
      "text/plain": [
       "True"
      ]
     },
     "execution_count": 30,
     "metadata": {},
     "output_type": "execute_result"
    }
   ],
   "source": [
    "os.path.isfile(output_VRT_fp)"
   ]
  },
  {
   "cell_type": "code",
   "execution_count": 31,
   "id": "9577af3b",
   "metadata": {},
   "outputs": [
    {
     "data": {
      "text/plain": [
       "'/Volumes/Ehsan-7757225325/2016/july_2016/predict_roughness_k_zero_npts_10/all_polar_files/polar_raster_subdir_2016_7_15/vrt_original_mosaic_gdal_15_july_2016.vrt'"
      ]
     },
     "execution_count": 31,
     "metadata": {},
     "output_type": "execute_result"
    }
   ],
   "source": [
    "output_VRT_fp"
   ]
  },
  {
   "cell_type": "markdown",
   "id": "d3fe0b59",
   "metadata": {},
   "source": [
    "## step-2: copy VRT file to vrt_average*.vrt & open average VRT file on disk and add following lines to it"
   ]
  },
  {
   "cell_type": "raw",
   "id": "752692cb",
   "metadata": {},
   "source": [
    "<VRTRasterBand dataType=\"Float64\" band=\"1\" subClass=\"VRTDerivedRasterBand\">\n",
    "    <PixelFunctionType>average</PixelFunctionType>\n",
    "    <PixelFunctionLanguage>Python</PixelFunctionLanguage>\n",
    "    <PixelFunctionCode><![CDATA[\n",
    "import numpy as np\n",
    "\n",
    "def average(in_ar, out_ar, xoff, yoff, xsize, ysize, raster_xsize,raster_ysize, buf_radius, gt, **kwargs):\n",
    "    x = np.ma.masked_less(in_ar, 0)\n",
    "    np.mean(x, axis = 0,out = out_ar, dtype = 'uint8')\n",
    "    mask = np.all(x.mask,axis = 0)\n",
    "    out_ar[mask]=0\n",
    "\n",
    "]]>\n",
    "    </PixelFunctionCode>"
   ]
  },
  {
   "cell_type": "markdown",
   "id": "4391cb41",
   "metadata": {},
   "source": [
    "## step-3: build a mosaic from VRT files "
   ]
  },
  {
   "cell_type": "code",
   "execution_count": 32,
   "id": "25240beb",
   "metadata": {},
   "outputs": [],
   "source": [
    "output_mosaic_fp = os.path.join(raster_dir, output_mosaic_filename)"
   ]
  },
  {
   "cell_type": "markdown",
   "id": "146178c7",
   "metadata": {},
   "source": [
    "### remembr to update & rename VRT file "
   ]
  },
  {
   "cell_type": "code",
   "execution_count": 33,
   "id": "ff21dd25",
   "metadata": {},
   "outputs": [],
   "source": [
    "input_VRT_fp = os.path.join(raster_dir, 'vrt_average_mosaic_gdal_15_july_2016.vrt')\n"
   ]
  },
  {
   "cell_type": "code",
   "execution_count": 34,
   "id": "f450fe17",
   "metadata": {},
   "outputs": [],
   "source": [
    "if (os.path.isfile(input_VRT_fp)!=True):\n",
    "    raise SystemExit\n"
   ]
  },
  {
   "cell_type": "code",
   "execution_count": null,
   "id": "6e8e9d31",
   "metadata": {},
   "outputs": [
    {
     "name": "stdout",
     "output_type": "stream",
     "text": [
      "start building mosaic from VRT dataset!\n"
     ]
    }
   ],
   "source": [
    "print('start building mosaic from VRT dataset...')\n",
    "\n",
    "resamplingAlg = 'nearest'\n",
    "\n",
    "gdal.SetConfigOption('GDAL_VRT_ENABLE_PYTHON', 'YES') # to be able to include python functions\n",
    "\n",
    "mosaic_ds = gdal.Translate(output_mosaic_fp,\n",
    "                            input_VRT_fp,\n",
    "                            format = 'GTiff',\n",
    "                            noData = -99.0,\n",
    "                            resampleAlg = resamplingAlg,\n",
    "                            outputType = gdal.GDT_Float64) # note: input dtype is float_64==double, maybe here change dtype to make it smaller img???? # outputType = gdal.GDT_Byte \t\n",
    "\n",
    "\n",
    "print('\\noutput mosaic: ')\n",
    "print(output_mosaic_fp)\n",
    "\n",
    "#~ Properly close the datasets to flush to disk\n",
    "print('\\nclosing mosaic dataset!')\n",
    "\n",
    "mosaic_ds = None\n",
    "VRT_fullpath = None  # close opened input file\n"
   ]
  },
  {
   "cell_type": "code",
   "execution_count": null,
   "id": "2079353d",
   "metadata": {},
   "outputs": [],
   "source": []
  }
 ],
 "metadata": {
  "kernelspec": {
   "display_name": "Python 3 (ipykernel)",
   "language": "python",
   "name": "python3"
  },
  "language_info": {
   "codemirror_mode": {
    "name": "ipython",
    "version": 3
   },
   "file_extension": ".py",
   "mimetype": "text/x-python",
   "name": "python",
   "nbconvert_exporter": "python",
   "pygments_lexer": "ipython3",
   "version": "3.9.13"
  }
 },
 "nbformat": 4,
 "nbformat_minor": 5
}
