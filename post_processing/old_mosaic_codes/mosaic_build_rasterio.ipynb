{
 "cells": [
  {
   "cell_type": "code",
   "execution_count": 3,
   "id": "370323a4",
   "metadata": {},
   "outputs": [],
   "source": [
    "import rasterio\n",
    "import rasterio.merge\n",
    "from rasterio.merge import merge\n",
    "from rasterio.plot import show\n",
    "import glob\n",
    "import os\n",
    "import numpy as np\n",
    "%matplotlib inline"
   ]
  },
  {
   "cell_type": "code",
   "execution_count": 4,
   "id": "502bd293",
   "metadata": {},
   "outputs": [],
   "source": [
    "# File and folder paths: path to where raster files are\n",
    "\n",
    "# dirpath = \"/Users/ehsanmos/MLP_dataset/mosaics/test_21apr2016_inOrder_and_reversCams/all_polar_rasters_reversed\"\n",
    "dirpath = \"/Users/ehsanmos/MLP_dataset/21april_all_polar_rasters_inOrder/test_mosaicking/all_blocks\"\n"
   ]
  },
  {
   "cell_type": "markdown",
   "id": "7fecff2b",
   "metadata": {},
   "source": [
    "##### select and mosaic a single path"
   ]
  },
  {
   "cell_type": "code",
   "execution_count": 5,
   "id": "eba3a0c1",
   "metadata": {},
   "outputs": [],
   "source": [
    "# # select a single path\n",
    "\n",
    "# path_num = 15\n",
    "# # final mosaic name\n",
    "# mosaic_name = \"mosaic_rasterio_21april2016_path_\"+str(path_num)+\"_test_AMLineFixed_CamsInOrder.tif\"\\\n",
    "# # mosaic_name = \"mosaic_rasterio_21april2016_path_\"+str(path_num)+\"_test_AMLineFixed_reversCams.tif\"\\\n",
    "\n",
    "\n",
    "# # Make a search criteria to select the DEM files\n",
    "# search_criteria = 'raster_path_'+str(path_num)+'_'+'*_reprojToEPSG_3995.tif'"
   ]
  },
  {
   "cell_type": "markdown",
   "id": "b028c27f",
   "metadata": {},
   "source": [
    "##### select and mosaic all rasters\n"
   ]
  },
  {
   "cell_type": "code",
   "execution_count": 6,
   "id": "12b9bf8b",
   "metadata": {},
   "outputs": [],
   "source": [
    "# or select all rasters\n",
    "\n",
    "# final mosaic name\n",
    "mosaic_name = \"mosaic_rasterio_15_july_2016_r_025_inOrderCams_block_20_46.tif\"\\\n",
    "\n",
    "# Make a search criteria to select the DEM files\n",
    "search_criteria = 'raster_path_*'+'*_reprojToEPSG_3995.tif'"
   ]
  },
  {
   "cell_type": "code",
   "execution_count": 7,
   "id": "4f2c58e8",
   "metadata": {},
   "outputs": [
    {
     "name": "stdout",
     "output_type": "stream",
     "text": [
      "/Users/ehsanmos/MLP_dataset/21april_all_polar_rasters_inOrder/test_mosaicking/all_blocks/raster_path_**_reprojToEPSG_3995.tif\n"
     ]
    },
    {
     "data": {
      "text/plain": [
       "True"
      ]
     },
     "execution_count": 7,
     "metadata": {},
     "output_type": "execute_result"
    }
   ],
   "source": [
    "# output directory where mosaic goes\n",
    "out_fp = os.path.join(dirpath, mosaic_name)\n",
    "\n",
    "q = os.path.join(dirpath, search_criteria)\n",
    "print(q)\n",
    "os.path.isdir(dirpath)"
   ]
  },
  {
   "cell_type": "code",
   "execution_count": 8,
   "id": "2b61a861",
   "metadata": {},
   "outputs": [
    {
     "name": "stdout",
     "output_type": "stream",
     "text": [
      "rasters found: 12\n"
     ]
    }
   ],
   "source": [
    "# glob function can be used to list files from a directory with specific criteria\n",
    "dem_fps = glob.glob(q)\n",
    "\n",
    "# Files that were found:\n",
    "print('rasters found: %s' %len(dem_fps))"
   ]
  },
  {
   "cell_type": "code",
   "execution_count": 9,
   "id": "179c0b92",
   "metadata": {},
   "outputs": [
    {
     "name": "stdout",
     "output_type": "stream",
     "text": [
      "raster_path_136_block_15_85GCPs_noGdalRes_dTypeFloat64_85gcps_latlon_reprojToEPSG_3995.tif\n",
      "raster_path_136_block_13_85GCPs_noGdalRes_dTypeFloat64_85gcps_latlon_reprojToEPSG_3995.tif\n",
      "raster_path_152_block_13_85GCPs_noGdalRes_dTypeFloat64_85gcps_latlon_reprojToEPSG_3995.tif\n",
      "raster_path_152_block_15_85GCPs_noGdalRes_dTypeFloat64_85gcps_latlon_reprojToEPSG_3995.tif\n",
      "raster_path_136_block_14_85GCPs_noGdalRes_dTypeFloat64_85gcps_latlon_reprojToEPSG_3995.tif\n",
      "raster_path_136_block_12_85GCPs_noGdalRes_dTypeFloat64_85gcps_latlon_reprojToEPSG_3995.tif\n",
      "raster_path_136_block_18_85GCPs_noGdalRes_dTypeFloat64_85gcps_latlon_reprojToEPSG_3995.tif\n",
      "raster_path_152_block_12_85GCPs_noGdalRes_dTypeFloat64_85gcps_latlon_reprojToEPSG_3995.tif\n",
      "raster_path_152_block_14_85GCPs_noGdalRes_dTypeFloat64_85gcps_latlon_reprojToEPSG_3995.tif\n",
      "raster_path_136_block_17_85GCPs_noGdalRes_dTypeFloat64_85gcps_latlon_reprojToEPSG_3995.tif\n",
      "raster_path_152_block_16_85GCPs_noGdalRes_dTypeFloat64_85gcps_latlon_reprojToEPSG_3995.tif\n",
      "raster_path_136_block_16_85GCPs_noGdalRes_dTypeFloat64_85gcps_latlon_reprojToEPSG_3995.tif\n"
     ]
    }
   ],
   "source": [
    "for iraster in dem_fps:\n",
    "    print (iraster.split('/')[-1])"
   ]
  },
  {
   "cell_type": "code",
   "execution_count": 10,
   "id": "90af94c1",
   "metadata": {},
   "outputs": [],
   "source": [
    "# List for the source files\n",
    "src_files_to_mosaic = []\n",
    "\n",
    "# Iterate over raster files and add them to source -list in 'read mode'\n",
    "for fp in dem_fps:\n",
    "    src = rasterio.open(fp)\n",
    "    src_files_to_mosaic.append(src)\n",
    "\n",
    "# src_files_to_mosaic"
   ]
  },
  {
   "cell_type": "code",
   "execution_count": 11,
   "id": "7d2aba56",
   "metadata": {},
   "outputs": [
    {
     "data": {
      "text/plain": [
       "rasterio.io.DatasetReader"
      ]
     },
     "execution_count": 11,
     "metadata": {},
     "output_type": "execute_result"
    }
   ],
   "source": [
    "type(src_files_to_mosaic[0])"
   ]
  },
  {
   "cell_type": "code",
   "execution_count": 12,
   "id": "4a1a36b8",
   "metadata": {},
   "outputs": [],
   "source": [
    "# np.array(src_files_to_mosaic[0])"
   ]
  },
  {
   "cell_type": "code",
   "execution_count": 13,
   "id": "ee2c345f",
   "metadata": {},
   "outputs": [
    {
     "data": {
      "image/png": "[encoded data removed]",
      "text/plain": [
       "<Figure size 864x288 with 4 Axes>"
      ]
     },
     "metadata": {
      "needs_background": "light"
     },
     "output_type": "display_data"
    }
   ],
   "source": [
    "# Create a visual of 4 plots next to each other\n",
    "\n",
    "import matplotlib.pyplot as plt\n",
    "%matplotlib inline\n",
    "\n",
    "# Create 4 plots next to each other\n",
    "fig, (ax1, ax2, ax3, ax4) = plt.subplots(ncols=4, nrows=1, figsize=(12, 4))\n",
    "\n",
    "# Plot first four files\n",
    "show(src_files_to_mosaic[0], ax=ax1)\n",
    "show(src_files_to_mosaic[1], ax=ax2)\n",
    "show(src_files_to_mosaic[2], ax=ax3)\n",
    "show(src_files_to_mosaic[3], ax=ax4)\n",
    "\n",
    "# Do not show y-ticks values in last three axis\n",
    "for ax in [ax2, ax3, ax4]:\n",
    "    ax.yaxis.set_visible(False)\n"
   ]
  },
  {
   "cell_type": "code",
   "execution_count": 20,
   "id": "78825533",
   "metadata": {},
   "outputs": [],
   "source": [
    "# merge as average\n",
    "\n",
    "\n",
    "def my_average_method(merged_data, new_data, merged_mask, new_mask, index=None, roff=None, coff=None):\n",
    "#     merged_data[:] = np.maximum(merged_data, new_data)  # <== NOTE old_data[:] updates the old data array *in place*\n",
    "#     merged_data[:] = np.mean(np.array(new_data), axis=0)  # ???\n",
    "#         np.mean(new_data, axis = 0, out=merged_data , dtype = 'uint8')\n",
    "        x = np.ma.masked_less(in_ar, 0)\n",
    "        np.mean(x, axis = 0,out = out_ar, dtype = 'uint8')\n",
    "        mask = np.all(x.mask,axis = 0)\n",
    "        out_ar[mask]=0\n",
    "\n",
    "\n",
    "    \n",
    "\n",
    "mosaic, out_trans = merge(src_files_to_mosaic, method=my_average_method) #  custom callable function with signature\n"
   ]
  },
  {
   "cell_type": "code",
   "execution_count": 21,
   "id": "50dfb19b",
   "metadata": {},
   "outputs": [],
   "source": [
    "# Merge function returns a single mosaic array and the transformation info\n",
    "\n",
    "# mosaic, out_trans = merge(src_files_to_mosaic, method='last')\n",
    "\n",
    "# mosaic, out_trans = merge(src_files_to_mosaic, method='max')"
   ]
  },
  {
   "cell_type": "code",
   "execution_count": 22,
   "id": "33360099",
   "metadata": {},
   "outputs": [
    {
     "data": {
      "image/png": "[encoded data removed]",
      "text/plain": [
       "<Figure size 432x288 with 1 Axes>"
      ]
     },
     "metadata": {
      "needs_background": "light"
     },
     "output_type": "display_data"
    },
    {
     "data": {
      "text/plain": [
       "<AxesSubplot:>"
      ]
     },
     "execution_count": 22,
     "metadata": {},
     "output_type": "execute_result"
    }
   ],
   "source": [
    "# Plot the result\n",
    "\n",
    "show(mosaic, cmap='terrain')"
   ]
  },
  {
   "cell_type": "code",
   "execution_count": 15,
   "id": "7fc13545",
   "metadata": {},
   "outputs": [
    {
     "data": {
      "text/plain": [
       "Affine(319.69372367290754, 0.0, -3872646.9042814,\n",
       "       0.0, -319.69372367290754, 3880465.1281486787)"
      ]
     },
     "execution_count": 15,
     "metadata": {},
     "output_type": "execute_result"
    }
   ],
   "source": [
    "out_trans"
   ]
  },
  {
   "cell_type": "code",
   "execution_count": 16,
   "id": "2431cf7d",
   "metadata": {},
   "outputs": [],
   "source": [
    "# Copy the metadata\n",
    "out_meta = src.meta.copy()\n",
    "\n",
    "# Update the metadata\n",
    "out_meta.update({\"driver\": \"GTiff\",\n",
    "                 \"height\": mosaic.shape[1],\n",
    "                 \"width\": mosaic.shape[2],\n",
    "                 \"transform\": out_trans})"
   ]
  },
  {
   "cell_type": "code",
   "execution_count": 17,
   "id": "6e5566c7",
   "metadata": {},
   "outputs": [],
   "source": [
    "# Write the mosaic raster to disk\n",
    "with rasterio.open(out_fp, \"w\", **out_meta) as dest:\n",
    "    dest.write(mosaic)"
   ]
  },
  {
   "cell_type": "code",
   "execution_count": 18,
   "id": "5a9b9a52",
   "metadata": {},
   "outputs": [
    {
     "name": "stdout",
     "output_type": "stream",
     "text": [
      "/Volumes/Ehsan-7757225325/2016/july_2016/predict_roughness_k_zero_npts_10/all_polar_files/polar_raster_subdir_2016_7_15/mosaic_rasterio_15_july_2016_r_025_inOrderCams_block_20_46.tif\n"
     ]
    }
   ],
   "source": [
    "print(out_fp)"
   ]
  },
  {
   "cell_type": "markdown",
   "id": "f2599fe3",
   "metadata": {},
   "source": []
  },
  {
   "cell_type": "code",
   "execution_count": null,
   "id": "6a2013cd",
   "metadata": {},
   "outputs": [],
   "source": []
  }
 ],
 "metadata": {
  "kernelspec": {
   "display_name": "Python 3 (ipykernel)",
   "language": "python",
   "name": "python3"
  },
  "language_info": {
   "codemirror_mode": {
    "name": "ipython",
    "version": 3
   },
   "file_extension": ".py",
   "mimetype": "text/x-python",
   "name": "python",
   "nbconvert_exporter": "python",
   "pygments_lexer": "ipython3",
   "version": "3.9.13"
  }
 },
 "nbformat": 4,
 "nbformat_minor": 5
}
