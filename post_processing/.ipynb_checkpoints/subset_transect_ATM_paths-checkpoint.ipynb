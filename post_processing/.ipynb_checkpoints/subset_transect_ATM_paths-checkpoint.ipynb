{
 "cells": [
  {
   "cell_type": "code",
   "execution_count": 1,
   "id": "63df5141",
   "metadata": {},
   "outputs": [],
   "source": [
    "import pandas as pd\n",
    "import matplotlib.pyplot as plt\n",
    "import numpy as np\n",
    "import MisrToolkit as mtk # needs python3.6\n",
    "# from mpl_toolkits.basemap import Basemap # needs python 3.8?\n",
    "import sys # to check python version\n",
    "import os\n",
    "import glob\n",
    "import datetime as dt"
   ]
  },
  {
   "cell_type": "code",
   "execution_count": 2,
   "id": "76af2ca1",
   "metadata": {},
   "outputs": [
    {
     "data": {
      "text/plain": [
       "'3.6.9 (default, Dec  8 2021, 21:08:43) \\n[GCC 8.4.0]'"
      ]
     },
     "execution_count": 2,
     "metadata": {},
     "output_type": "execute_result"
    }
   ],
   "source": [
    "# check python version\n",
    "sys.version"
   ]
  },
  {
   "cell_type": "code",
   "execution_count": 3,
   "id": "9b180a96",
   "metadata": {},
   "outputs": [],
   "source": [
    "# load training dataset\n",
    "# ds_fp = \"/Users/ehsanmos/Documents/RnD/MISR_lab/ML_research/training_dataset/merged_april_2016_9cam3bands.csv\"\n",
    "\n",
    "# ds_fp = \"/home/ehsan/misr_lab/training_dataset/april_2016/april_2016_parts/merged_april_2016_9cam_4bands_final_dataset_2.csv\"\n",
    "ds_fp = \"/media/ehsan/6T_part1/2016/april_2016/14528_apr2016/project_april_2016_3cam/training_data/MisrAtmCalibratedModel_april_2016_testRun.csv\"\n",
    "\n",
    "in_ds = pd.read_csv(ds_fp)"
   ]
  },
  {
   "cell_type": "code",
   "execution_count": 4,
   "id": "cf3bf6f4",
   "metadata": {},
   "outputs": [
    {
     "data": {
      "text/html": [
       "<div>\n",
       "<style scoped>\n",
       "    .dataframe tbody tr th:only-of-type {\n",
       "        vertical-align: middle;\n",
       "    }\n",
       "\n",
       "    .dataframe tbody tr th {\n",
       "        vertical-align: top;\n",
       "    }\n",
       "\n",
       "    .dataframe thead th {\n",
       "        text-align: right;\n",
       "    }\n",
       "</style>\n",
       "<table border=\"1\" class=\"dataframe\">\n",
       "  <thead>\n",
       "    <tr style=\"text-align: right;\">\n",
       "      <th></th>\n",
       "      <th>#path</th>\n",
       "      <th>orbit</th>\n",
       "      <th>img_block</th>\n",
       "      <th>line</th>\n",
       "      <th>sample</th>\n",
       "      <th>lat</th>\n",
       "      <th>lon</th>\n",
       "      <th>an</th>\n",
       "      <th>ca</th>\n",
       "      <th>cf</th>\n",
       "      <th>rms</th>\n",
       "      <th>weight</th>\n",
       "      <th>npts</th>\n",
       "      <th>cloud</th>\n",
       "      <th>var</th>\n",
       "    </tr>\n",
       "  </thead>\n",
       "  <tbody>\n",
       "    <tr>\n",
       "      <th>0</th>\n",
       "      <td>79</td>\n",
       "      <td>86932</td>\n",
       "      <td>32</td>\n",
       "      <td>411</td>\n",
       "      <td>771</td>\n",
       "      <td>71.753167</td>\n",
       "      <td>203.918390</td>\n",
       "      <td>0.654443</td>\n",
       "      <td>0.755881</td>\n",
       "      <td>0.791431</td>\n",
       "      <td>12.678750</td>\n",
       "      <td>0.5</td>\n",
       "      <td>8.0</td>\n",
       "      <td>-1</td>\n",
       "      <td>1.827518</td>\n",
       "    </tr>\n",
       "    <tr>\n",
       "      <th>1</th>\n",
       "      <td>79</td>\n",
       "      <td>86932</td>\n",
       "      <td>32</td>\n",
       "      <td>411</td>\n",
       "      <td>772</td>\n",
       "      <td>71.750189</td>\n",
       "      <td>203.921959</td>\n",
       "      <td>0.666452</td>\n",
       "      <td>0.778317</td>\n",
       "      <td>0.776579</td>\n",
       "      <td>12.010000</td>\n",
       "      <td>0.5</td>\n",
       "      <td>0.5</td>\n",
       "      <td>-1</td>\n",
       "      <td>0.000000</td>\n",
       "    </tr>\n",
       "    <tr>\n",
       "      <th>2</th>\n",
       "      <td>79</td>\n",
       "      <td>86932</td>\n",
       "      <td>32</td>\n",
       "      <td>412</td>\n",
       "      <td>772</td>\n",
       "      <td>71.749996</td>\n",
       "      <td>203.922187</td>\n",
       "      <td>0.676406</td>\n",
       "      <td>0.780845</td>\n",
       "      <td>0.787165</td>\n",
       "      <td>8.312353</td>\n",
       "      <td>0.5</td>\n",
       "      <td>8.5</td>\n",
       "      <td>-1</td>\n",
       "      <td>1.919447</td>\n",
       "    </tr>\n",
       "    <tr>\n",
       "      <th>3</th>\n",
       "      <td>79</td>\n",
       "      <td>86932</td>\n",
       "      <td>32</td>\n",
       "      <td>413</td>\n",
       "      <td>773</td>\n",
       "      <td>71.746816</td>\n",
       "      <td>203.925895</td>\n",
       "      <td>0.697736</td>\n",
       "      <td>0.813235</td>\n",
       "      <td>0.787481</td>\n",
       "      <td>9.718824</td>\n",
       "      <td>0.5</td>\n",
       "      <td>8.5</td>\n",
       "      <td>-1</td>\n",
       "      <td>3.094357</td>\n",
       "    </tr>\n",
       "    <tr>\n",
       "      <th>4</th>\n",
       "      <td>79</td>\n",
       "      <td>86932</td>\n",
       "      <td>32</td>\n",
       "      <td>414</td>\n",
       "      <td>773</td>\n",
       "      <td>71.743552</td>\n",
       "      <td>203.929087</td>\n",
       "      <td>0.713062</td>\n",
       "      <td>0.790641</td>\n",
       "      <td>0.801069</td>\n",
       "      <td>16.385000</td>\n",
       "      <td>0.5</td>\n",
       "      <td>1.0</td>\n",
       "      <td>-1</td>\n",
       "      <td>0.305000</td>\n",
       "    </tr>\n",
       "  </tbody>\n",
       "</table>\n",
       "</div>"
      ],
      "text/plain": [
       "   #path   orbit   img_block   line   sample        lat         lon        an  \\\n",
       "0     79   86932          32    411      771  71.753167  203.918390  0.654443   \n",
       "1     79   86932          32    411      772  71.750189  203.921959  0.666452   \n",
       "2     79   86932          32    412      772  71.749996  203.922187  0.676406   \n",
       "3     79   86932          32    413      773  71.746816  203.925895  0.697736   \n",
       "4     79   86932          32    414      773  71.743552  203.929087  0.713062   \n",
       "\n",
       "         ca        cf        rms   weight   npts   cloud       var  \n",
       "0  0.755881  0.791431  12.678750      0.5    8.0      -1  1.827518  \n",
       "1  0.778317  0.776579  12.010000      0.5    0.5      -1  0.000000  \n",
       "2  0.780845  0.787165   8.312353      0.5    8.5      -1  1.919447  \n",
       "3  0.813235  0.787481   9.718824      0.5    8.5      -1  3.094357  \n",
       "4  0.790641  0.801069  16.385000      0.5    1.0      -1  0.305000  "
      ]
     },
     "execution_count": 4,
     "metadata": {},
     "output_type": "execute_result"
    }
   ],
   "source": [
    "in_ds.head(5)"
   ]
  },
  {
   "cell_type": "code",
   "execution_count": 5,
   "id": "30a5b762",
   "metadata": {},
   "outputs": [
    {
     "data": {
      "text/html": [
       "<div>\n",
       "<style scoped>\n",
       "    .dataframe tbody tr th:only-of-type {\n",
       "        vertical-align: middle;\n",
       "    }\n",
       "\n",
       "    .dataframe tbody tr th {\n",
       "        vertical-align: top;\n",
       "    }\n",
       "\n",
       "    .dataframe thead th {\n",
       "        text-align: right;\n",
       "    }\n",
       "</style>\n",
       "<table border=\"1\" class=\"dataframe\">\n",
       "  <thead>\n",
       "    <tr style=\"text-align: right;\">\n",
       "      <th></th>\n",
       "      <th>#path</th>\n",
       "      <th>orbit</th>\n",
       "      <th>img_block</th>\n",
       "      <th>line</th>\n",
       "      <th>sample</th>\n",
       "      <th>lat</th>\n",
       "      <th>lon</th>\n",
       "      <th>an</th>\n",
       "      <th>ca</th>\n",
       "      <th>cf</th>\n",
       "      <th>rms</th>\n",
       "      <th>weight</th>\n",
       "      <th>npts</th>\n",
       "      <th>cloud</th>\n",
       "      <th>var</th>\n",
       "    </tr>\n",
       "  </thead>\n",
       "  <tbody>\n",
       "    <tr>\n",
       "      <th>0</th>\n",
       "      <td>79</td>\n",
       "      <td>86932</td>\n",
       "      <td>32</td>\n",
       "      <td>411</td>\n",
       "      <td>771</td>\n",
       "      <td>71.753167</td>\n",
       "      <td>203.918390</td>\n",
       "      <td>0.654443</td>\n",
       "      <td>0.755881</td>\n",
       "      <td>0.791431</td>\n",
       "      <td>12.678750</td>\n",
       "      <td>0.5</td>\n",
       "      <td>8.0</td>\n",
       "      <td>-1</td>\n",
       "      <td>1.827518</td>\n",
       "    </tr>\n",
       "    <tr>\n",
       "      <th>1</th>\n",
       "      <td>79</td>\n",
       "      <td>86932</td>\n",
       "      <td>32</td>\n",
       "      <td>411</td>\n",
       "      <td>772</td>\n",
       "      <td>71.750189</td>\n",
       "      <td>203.921959</td>\n",
       "      <td>0.666452</td>\n",
       "      <td>0.778317</td>\n",
       "      <td>0.776579</td>\n",
       "      <td>12.010000</td>\n",
       "      <td>0.5</td>\n",
       "      <td>0.5</td>\n",
       "      <td>-1</td>\n",
       "      <td>0.000000</td>\n",
       "    </tr>\n",
       "    <tr>\n",
       "      <th>2</th>\n",
       "      <td>79</td>\n",
       "      <td>86932</td>\n",
       "      <td>32</td>\n",
       "      <td>412</td>\n",
       "      <td>772</td>\n",
       "      <td>71.749996</td>\n",
       "      <td>203.922187</td>\n",
       "      <td>0.676406</td>\n",
       "      <td>0.780845</td>\n",
       "      <td>0.787165</td>\n",
       "      <td>8.312353</td>\n",
       "      <td>0.5</td>\n",
       "      <td>8.5</td>\n",
       "      <td>-1</td>\n",
       "      <td>1.919447</td>\n",
       "    </tr>\n",
       "    <tr>\n",
       "      <th>3</th>\n",
       "      <td>79</td>\n",
       "      <td>86932</td>\n",
       "      <td>32</td>\n",
       "      <td>413</td>\n",
       "      <td>773</td>\n",
       "      <td>71.746816</td>\n",
       "      <td>203.925895</td>\n",
       "      <td>0.697736</td>\n",
       "      <td>0.813235</td>\n",
       "      <td>0.787481</td>\n",
       "      <td>9.718824</td>\n",
       "      <td>0.5</td>\n",
       "      <td>8.5</td>\n",
       "      <td>-1</td>\n",
       "      <td>3.094357</td>\n",
       "    </tr>\n",
       "    <tr>\n",
       "      <th>4</th>\n",
       "      <td>79</td>\n",
       "      <td>86932</td>\n",
       "      <td>32</td>\n",
       "      <td>414</td>\n",
       "      <td>773</td>\n",
       "      <td>71.743552</td>\n",
       "      <td>203.929087</td>\n",
       "      <td>0.713062</td>\n",
       "      <td>0.790641</td>\n",
       "      <td>0.801069</td>\n",
       "      <td>16.385000</td>\n",
       "      <td>0.5</td>\n",
       "      <td>1.0</td>\n",
       "      <td>-1</td>\n",
       "      <td>0.305000</td>\n",
       "    </tr>\n",
       "  </tbody>\n",
       "</table>\n",
       "</div>"
      ],
      "text/plain": [
       "   #path   orbit   img_block   line   sample        lat         lon        an  \\\n",
       "0     79   86932          32    411      771  71.753167  203.918390  0.654443   \n",
       "1     79   86932          32    411      772  71.750189  203.921959  0.666452   \n",
       "2     79   86932          32    412      772  71.749996  203.922187  0.676406   \n",
       "3     79   86932          32    413      773  71.746816  203.925895  0.697736   \n",
       "4     79   86932          32    414      773  71.743552  203.929087  0.713062   \n",
       "\n",
       "         ca        cf        rms   weight   npts   cloud       var  \n",
       "0  0.755881  0.791431  12.678750      0.5    8.0      -1  1.827518  \n",
       "1  0.778317  0.776579  12.010000      0.5    0.5      -1  0.000000  \n",
       "2  0.780845  0.787165   8.312353      0.5    8.5      -1  1.919447  \n",
       "3  0.813235  0.787481   9.718824      0.5    8.5      -1  3.094357  \n",
       "4  0.790641  0.801069  16.385000      0.5    1.0      -1  0.305000  "
      ]
     },
     "execution_count": 5,
     "metadata": {},
     "output_type": "execute_result"
    }
   ],
   "source": [
    "# remove lines with zero\n",
    "# Note: you must put each condition within parenthesis\n",
    "\n",
    "# we use 3 filters to make sure we find every zero row and copy the filterd DF to new one\n",
    "in_ds = in_ds.loc[(in_ds['#path']!=0) &\n",
    "                 (in_ds[' orbit'] !=0) &\n",
    "                 (in_ds[' img_block'] !=0)]\n",
    "in_ds.head()"
   ]
  },
  {
   "cell_type": "code",
   "execution_count": 6,
   "id": "274fb4a2",
   "metadata": {},
   "outputs": [
    {
     "data": {
      "text/plain": [
       "(120969, 15)"
      ]
     },
     "execution_count": 6,
     "metadata": {},
     "output_type": "execute_result"
    }
   ],
   "source": [
    "in_ds.shape"
   ]
  },
  {
   "cell_type": "code",
   "execution_count": 7,
   "id": "b1ee1c46",
   "metadata": {},
   "outputs": [],
   "source": [
    "# ds_3cam = in_ds[[\"path\", \"orbit\", \"block\", \"line\", \"sample\", \"lat\", \"lon\", \"Ca_r\", \"Cf_r\", \"An_r\", \"mean_ATM_roughness\"]] # add path & block here\n",
    "\n",
    "ds_3cam = in_ds[[\"#path\", \" orbit\", \" img_block\", \" line\", \" sample\", \" lat\", \" lon\", \" an\", \" ca\", \" cf\", \" rms\"]] # add path & block here\n"
   ]
  },
  {
   "cell_type": "code",
   "execution_count": 8,
   "id": "6253bdab",
   "metadata": {},
   "outputs": [
    {
     "name": "stderr",
     "output_type": "stream",
     "text": [
      "/home/ehsan/.local/lib/python3.6/site-packages/pandas/core/frame.py:4308: SettingWithCopyWarning: \n",
      "A value is trying to be set on a copy of a slice from a DataFrame\n",
      "\n",
      "See the caveats in the documentation: https://pandas.pydata.org/pandas-docs/stable/user_guide/indexing.html#returning-a-view-versus-a-copy\n",
      "  errors=errors,\n"
     ]
    },
    {
     "data": {
      "text/plain": [
       "Index(['#path', ' orbit', ' img_block', ' line', ' sample', ' lat', ' lon',\n",
       "       ' an', ' ca', ' cf', ' rms'],\n",
       "      dtype='object')"
      ]
     },
     "execution_count": 8,
     "metadata": {},
     "output_type": "execute_result"
    }
   ],
   "source": [
    "ds_3cam.rename(columns={\"mean_ATM_roughness\":\"rms\"}, inplace=True)\n",
    "ds_3cam.columns"
   ]
  },
  {
   "cell_type": "code",
   "execution_count": 9,
   "id": "59eb694b",
   "metadata": {},
   "outputs": [],
   "source": [
    "# # determine range to print based on min, max lat and lon of the data\n",
    "# # is it necessary?\n",
    "# xlon = ds_3cam[' lon']\n",
    "# ylat = ds_3cam[' lat']\n",
    "\n",
    "\n",
    "# margin = 2 # buffer to add to the range\n",
    "# lat_min = min(ylat) - margin\n",
    "# lat_max = max(ylat) + margin\n",
    "# lon_min = min(xlon) - margin\n",
    "# lon_max = max(xlon) + margin"
   ]
  },
  {
   "cell_type": "code",
   "execution_count": 10,
   "id": "a40022c6",
   "metadata": {},
   "outputs": [
    {
     "ename": "NameError",
     "evalue": "name 'lat_min' is not defined",
     "output_type": "error",
     "traceback": [
      "\u001b[0;31m---------------------------------------------------------------------------\u001b[0m",
      "\u001b[0;31mNameError\u001b[0m                                 Traceback (most recent call last)",
      "\u001b[0;32m<ipython-input-10-6d7920684c71>\u001b[0m in \u001b[0;36m<module>\u001b[0;34m\u001b[0m\n\u001b[0;32m----> 1\u001b[0;31m \u001b[0mprint\u001b[0m\u001b[0;34m(\u001b[0m\u001b[0mlat_min\u001b[0m\u001b[0;34m)\u001b[0m\u001b[0;34m\u001b[0m\u001b[0;34m\u001b[0m\u001b[0m\n\u001b[0m\u001b[1;32m      2\u001b[0m \u001b[0mprint\u001b[0m\u001b[0;34m(\u001b[0m\u001b[0mlat_max\u001b[0m\u001b[0;34m)\u001b[0m\u001b[0;34m\u001b[0m\u001b[0;34m\u001b[0m\u001b[0m\n\u001b[1;32m      3\u001b[0m \u001b[0mprint\u001b[0m\u001b[0;34m(\u001b[0m\u001b[0mlon_min\u001b[0m\u001b[0;34m)\u001b[0m\u001b[0;34m\u001b[0m\u001b[0;34m\u001b[0m\u001b[0m\n\u001b[1;32m      4\u001b[0m \u001b[0mprint\u001b[0m\u001b[0;34m(\u001b[0m\u001b[0mlon_max\u001b[0m\u001b[0;34m)\u001b[0m\u001b[0;34m\u001b[0m\u001b[0;34m\u001b[0m\u001b[0m\n",
      "\u001b[0;31mNameError\u001b[0m: name 'lat_min' is not defined"
     ]
    }
   ],
   "source": [
    "# print(lat_min)\n",
    "# print(lat_max)\n",
    "# print(lon_min)\n",
    "# print(lon_max)"
   ]
  },
  {
   "cell_type": "code",
   "execution_count": null,
   "id": "c2b030d1",
   "metadata": {},
   "outputs": [],
   "source": [
    "# for plotting needed # from itertools import chain\n",
    "\n",
    "# def draw_map(m, scale=0.2):\n",
    "#     # draw a shaded-relief image\n",
    "#     m.shadedrelief(scale=scale)\n",
    "    \n",
    "#     # lats and longs are returned as a dictionary\n",
    "#     lats = m.drawparallels(np.linspace(-90, 90, num=7))\n",
    "#     lons = m.drawmeridians(np.linspace(-180, 180, num=18))\n",
    "\n",
    "#     # keys contain the plt.Line2D instances\n",
    "#     lat_lines = chain(*(tup[1][0] for tup in lats.items()))\n",
    "#     lon_lines = chain(*(tup[1][0] for tup in lons.items()))\n",
    "#     all_lines = chain(lat_lines, lon_lines)\n",
    "    \n",
    "#     # cycle through these lines and set the desired style\n",
    "#     for line in all_lines:\n",
    "#         line.set(linestyle='-', alpha=0.3, color='w')"
   ]
  },
  {
   "cell_type": "code",
   "execution_count": null,
   "id": "b12812aa",
   "metadata": {},
   "outputs": [],
   "source": [
    "# ref: https://stackoverflow.com/questions/44488167/plotting-lat-long-points-using-basemap\n",
    "# basemap = Basemap(llcrnrlon=lon_min,\n",
    "#                     llcrnrlat=lat_min,\n",
    "#                     urcrnrlon=lon_max,\n",
    "#                     urcrnrlat=lat_max,\n",
    "#                     lat_0=(lat_max - lat_min)/2,\n",
    "#                     lon_0=(lon_max-lon_min)/2,\n",
    "#                     projection='ortho',\n",
    "#                     resolution = None,\n",
    "#                     area_thresh=10000.,)"
   ]
  },
  {
   "cell_type": "code",
   "execution_count": null,
   "id": "aafde126",
   "metadata": {},
   "outputs": [],
   "source": [
    "# basemap.shadedrelief()\n",
    "# basemap.drawcoastlines(color='gray')\n",
    "# basemap.drawcountries(color='gray')\n",
    "# basemap.drawstates(color='gray')\n",
    "\n",
    "\n",
    "\n",
    "# basemap.drawcoastlines()\n",
    "# basemap.drawcountries()\n",
    "# basemap.drawstates()\n",
    "# basemap.drawmapboundary(fill_color='#46bcec')\n",
    "# basemap.fillcontinents(color = 'white',lake_color='#46bcec')"
   ]
  },
  {
   "cell_type": "code",
   "execution_count": null,
   "id": "79fc3080",
   "metadata": {},
   "outputs": [],
   "source": [
    "# fig = plt.figure(figsize=(12, 12))\n",
    "\n",
    "# basemap = Basemap(projection='ortho', resolution=None, lat_0=90, lon_0=180)\n",
    "\n",
    "# # locations on map: convert lat and lon to map projection coordinates\n",
    "# xlons, ylats = basemap(xlon, ylat)\n",
    "\n",
    "# plt.plot(xlons, ylats, 'ok', markersize=1)\n",
    "\n",
    "# # draw a circle on map on 60N  \n",
    "# basemap.drawparallels([60], color='red') #, labels='test'????)\n",
    "# plt.title('Study Region, 60N', fontsize=16)\n",
    "\n",
    "# draw_map(basemap);\n",
    "\n",
    "# how zoom to the region?"
   ]
  },
  {
   "cell_type": "code",
   "execution_count": null,
   "id": "753159f2",
   "metadata": {},
   "outputs": [],
   "source": [
    "# needed for plotting\n",
    "# def make_the_map(XlonSet, YlatSet):\n",
    "    \n",
    "#     fig = plt.figure(figsize=(12, 12))\n",
    "\n",
    "#     basemap = Basemap(projection='ortho', resolution=None, lat_0=90, lon_0=180)\n",
    "\n",
    "#     # locations on map: convert lat and lon to map projection coordinates\n",
    "#     xlons, ylats = basemap(XlonSet, YlatSet)\n",
    "\n",
    "#     plt.plot(xlons, ylats, 'ok', markersize=1)\n",
    "\n",
    "#     # draw a circle on map on 60N  \n",
    "#     basemap.drawparallels([60], color='red') #, labels='test'????)\n",
    "#     plt.title('Study Region, 60N', fontsize=16)\n",
    "\n",
    "#     draw_map(basemap);\n",
    "#     return 0;"
   ]
  },
  {
   "cell_type": "code",
   "execution_count": null,
   "id": "fd725322",
   "metadata": {},
   "outputs": [],
   "source": [
    "# run with oython >= 3.8\n",
    "\n",
    "# make_the_map(xlon, ylat)"
   ]
  },
  {
   "cell_type": "code",
   "execution_count": null,
   "id": "8dbfc500",
   "metadata": {},
   "outputs": [],
   "source": [
    "ds_3cam[' orbit']"
   ]
  },
  {
   "cell_type": "code",
   "execution_count": null,
   "id": "5f887fdd",
   "metadata": {},
   "outputs": [],
   "source": [
    "# compute time from orbit\n",
    "\n",
    "orbit_list = ds_3cam[' orbit'].to_list()\n",
    "print(type(orbit_list))\n",
    "\n",
    "# for x in orbit_list:\n",
    "#     if x<1:\n",
    "#         orbit_list.remove(x)\n",
    "\n",
    "orbit_list_noZero = [i for i in orbit_list if i>0]\n",
    "\n",
    "# print(len(orbit_list_noZero))\n",
    "# print(min(orbit_list_noZero))\n",
    "# print(max(orbit_list_noZero))"
   ]
  },
  {
   "cell_type": "code",
   "execution_count": null,
   "id": "e4cc8aef",
   "metadata": {},
   "outputs": [],
   "source": [
    "# use mtk and change orbit to date-time\n",
    "\n",
    "orbit_start_stop_list = []\n",
    "for orbiti in orbit_list_noZero:\n",
    "    orbit_start_stop = mtk.orbit_to_time_range(orbiti)\n",
    "    orbit_start_stop_list.append(orbit_start_stop)"
   ]
  },
  {
   "cell_type": "code",
   "execution_count": null,
   "id": "fcf0b76d",
   "metadata": {},
   "outputs": [],
   "source": [
    "# change list to np.array and extract start and stop columns \n",
    "\n",
    "orbit_start = np.array(orbit_start_stop_list)[:,0]\n",
    "orbit_stop = np.array(orbit_start_stop_list)[:,1]"
   ]
  },
  {
   "cell_type": "code",
   "execution_count": null,
   "id": "58ec457e",
   "metadata": {},
   "outputs": [],
   "source": [
    "# orbit_start"
   ]
  },
  {
   "cell_type": "code",
   "execution_count": null,
   "id": "58ef498a",
   "metadata": {},
   "outputs": [],
   "source": [
    "# add a date-time column to DF\n",
    "\n",
    "ds_3cam['orbit_start'] = orbit_start\n",
    "ds_3cam['orbit_stop'] = orbit_stop"
   ]
  },
  {
   "cell_type": "code",
   "execution_count": null,
   "id": "60d702c1",
   "metadata": {},
   "outputs": [],
   "source": [
    "# change string to datetime format\n",
    "# notes: String to datetime object = strptime & datetime object to other formats = strftime\n",
    "\n",
    "# orbit_start[0]\n",
    "# dt_format = \"%Y-%m-%dT%H:%M:%SZ\"\n",
    "# dt.datetime.strptime(orbit_start, dt_format)"
   ]
  },
  {
   "cell_type": "code",
   "execution_count": null,
   "id": "425dc322",
   "metadata": {},
   "outputs": [],
   "source": [
    "# change string to datetime format and apply it on specific DF column\n",
    "\n",
    "ds_3cam['orbit_start'] = pd.to_datetime(ds_3cam['orbit_start'])\n",
    "ds_3cam['orbit_stop'] = pd.to_datetime(ds_3cam['orbit_stop'])\n",
    "ds_3cam.head()"
   ]
  },
  {
   "cell_type": "code",
   "execution_count": null,
   "id": "cb944589",
   "metadata": {},
   "outputs": [],
   "source": [
    "# extract transect by date\n",
    "# filter for 19-april and then plot the transect for both my method and old method and then compare...\n",
    "\n",
    "transect_19apr = ds_3cam.loc[(ds_3cam['orbit_start'] >= '2016-04-19 00:00:00') & (ds_3cam['orbit_stop'] <= '2016-04-19 03:00:0')]\n",
    "transect_19apr\n",
    "\n"
   ]
  },
  {
   "cell_type": "code",
   "execution_count": null,
   "id": "ba8fc516",
   "metadata": {},
   "outputs": [],
   "source": [
    "# extract transect by guessing longitudes\n",
    "transect_19apr = transect_19apr.loc[(transect_19apr[' lon'] > 200.0) & (transect_19apr[' lon'] < 230.0)]\n",
    "transect_19apr\n"
   ]
  },
  {
   "cell_type": "code",
   "execution_count": null,
   "id": "534caf98",
   "metadata": {},
   "outputs": [],
   "source": [
    "# create a column as index and set that column as index to plot transect\n",
    "\n",
    "# lon_subset['index'] = [i for i in range(len(lon_subset['lon']))]\n",
    "transect_19apr.index = range(1,len(transect_19apr)+1)\n",
    "transect_19apr.head()\n",
    "\n",
    "# set that column as index\n",
    "# lon_subset.set_index['index']"
   ]
  },
  {
   "cell_type": "code",
   "execution_count": null,
   "id": "cb06ffde",
   "metadata": {},
   "outputs": [],
   "source": [
    "# select a smaller subset of transect, like the first 1000 points (or 10)\n",
    "\n",
    "# transect_small = transect.iloc[0:10000]\n",
    "transect_small = transect_19apr\n",
    "transect_small.head()"
   ]
  },
  {
   "cell_type": "code",
   "execution_count": null,
   "id": "5ff7a067",
   "metadata": {},
   "outputs": [],
   "source": [
    "# needed for plotting\n",
    "# xlon270 = transect_small[' lon']\n",
    "# ylat270 = transect_small[' lat']"
   ]
  },
  {
   "cell_type": "code",
   "execution_count": null,
   "id": "e737451a",
   "metadata": {},
   "outputs": [],
   "source": [
    "# run with python >= 3.8\n",
    "\n",
    "# make_the_map(xlon270, ylat270)"
   ]
  },
  {
   "cell_type": "code",
   "execution_count": null,
   "id": "350c8913",
   "metadata": {},
   "outputs": [],
   "source": [
    "# extract transect data write it out\n",
    "\n",
    "# output_filename = \"insample_atm_withPathOrbit_3cams_forTransect_mymethod_19apr.csv\"\n",
    "output_filename = \"insample_atm_withPathOrbit_3cams_forTransect_oldCodeMethod_19apr.csv\"\n",
    "\n",
    "# output_path = \"/Users/ehsanmos/Documents/RnD/MISR_lab/ML_research/training_dataset\"\n",
    "output_path = \"/media/ehsan/6T_part1/2016/april_2016/14528_apr2016/project_april_2016_3cam/training_data\"\n",
    "\n",
    "transect_small.to_csv(os.path.join(output_path, output_filename))"
   ]
  },
  {
   "cell_type": "code",
   "execution_count": null,
   "id": "4f422cc9",
   "metadata": {},
   "outputs": [],
   "source": []
  }
 ],
 "metadata": {
  "kernelspec": {
   "display_name": "Python 3",
   "language": "python",
   "name": "python3"
  },
  "language_info": {
   "codemirror_mode": {
    "name": "ipython",
    "version": 3
   },
   "file_extension": ".py",
   "mimetype": "text/x-python",
   "name": "python",
   "nbconvert_exporter": "python",
   "pygments_lexer": "ipython3",
   "version": "3.6.9"
  }
 },
 "nbformat": 4,
 "nbformat_minor": 5
}
