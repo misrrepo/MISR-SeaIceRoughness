{
 "cells": [
  {
   "cell_type": "code",
   "execution_count": 1,
   "metadata": {},
   "outputs": [],
   "source": [
    "# import numpy as np\n",
    "import os, glob\n",
    "import MisrToolkit as Mtk \n",
    "from MisrToolkit import * \n",
    "import shutil"
   ]
  },
  {
   "cell_type": "markdown",
   "metadata": {},
   "source": [
    "note: this code moves misr roughness files based on POB to its specific day and creates a folder for it. This way we can run roushness2raster code for each subdir/date at the same time. First, setup dir path and dates here and then run this notebook at a time for each date. Run with python3.6 (MisrToolkit)"
   ]
  },
  {
   "cell_type": "code",
   "execution_count": 2,
   "metadata": {},
   "outputs": [],
   "source": [
    "year = 2016\n",
    "month = 4\n",
    "day = 30"
   ]
  },
  {
   "cell_type": "code",
   "execution_count": 3,
   "metadata": {},
   "outputs": [],
   "source": [
    "main_roughness_dir_fullpath = \"/Volumes/Ehsan-7757225325/2016/april_2016/predict_roughness_k_zero_npts_10\"\n",
    "\n"
   ]
  },
  {
   "cell_type": "markdown",
   "metadata": {},
   "source": [
    "####################### do not change anything else bellow ################################################"
   ]
  },
  {
   "cell_type": "code",
   "execution_count": 4,
   "metadata": {},
   "outputs": [],
   "source": [
    "start_time = str(year)+'-'+str(month)+'-'+str(day)+'T00:00:00Z'\n",
    "end_time = str(year)+'-'+str(month)+'-'+str(day)+'T23:59:59Z'"
   ]
  },
  {
   "cell_type": "code",
   "execution_count": 5,
   "metadata": {},
   "outputs": [
    {
     "name": "stdout",
     "output_type": "stream",
     "text": [
      "2016-4-30T00:00:00Z\n",
      "2016-4-30T23:59:59Z\n"
     ]
    }
   ],
   "source": [
    "print(start_time)\n",
    "print(end_time)"
   ]
  },
  {
   "cell_type": "code",
   "execution_count": 6,
   "metadata": {},
   "outputs": [
    {
     "name": "stdout",
     "output_type": "stream",
     "text": [
      "[87049, 87050, 87051, 87052, 87053, 87054, 87055, 87056, 87057, 87058, 87059, 87060, 87061, 87062, 87063, 87064]\n",
      "found 16 orbits!\n"
     ]
    }
   ],
   "source": [
    "orbit_list = Mtk.time_range_to_orbit_list(start_time, end_time)\n",
    "print(orbit_list)\n",
    "print('found %d orbits!' %len(orbit_list))"
   ]
  },
  {
   "cell_type": "markdown",
   "metadata": {},
   "source": [
    "## for each orbit in list, we will find roughness files for that specific orbit "
   ]
  },
  {
   "cell_type": "markdown",
   "metadata": {},
   "source": [
    "## check if directory for specific day exists, else we create the directory"
   ]
  },
  {
   "cell_type": "code",
   "execution_count": 7,
   "metadata": {},
   "outputs": [
    {
     "name": "stdout",
     "output_type": "stream",
     "text": [
      "roughness_subdir_2016_4_30\n"
     ]
    }
   ],
   "source": [
    "rough_subdir_name = 'roughness_subdir_'+str(year)+'_'+str(month)+'_'+str(day)\n",
    "print(rough_subdir_name)"
   ]
  },
  {
   "cell_type": "code",
   "execution_count": 8,
   "metadata": {},
   "outputs": [
    {
     "name": "stdout",
     "output_type": "stream",
     "text": [
      "/Volumes/Ehsan-7757225325/2016/april_2016/predict_roughness_k_zero_npts_10/roughness_subdir_2016_4_30\n"
     ]
    }
   ],
   "source": [
    "rough_subdir_fullpath = os.path.join(main_roughness_dir_fullpath, rough_subdir_name)\n",
    "print(rough_subdir_fullpath)"
   ]
  },
  {
   "cell_type": "code",
   "execution_count": 9,
   "metadata": {},
   "outputs": [
    {
     "name": "stdout",
     "output_type": "stream",
     "text": [
      "roughness subdir does NOT exist! We will make that directory.\n",
      "/Volumes/Ehsan-7757225325/2016/april_2016/predict_roughness_k_zero_npts_10/roughness_subdir_2016_4_30\n",
      "True\n"
     ]
    }
   ],
   "source": [
    "if (not (os.path.isdir(rough_subdir_fullpath))):\n",
    "    print('roughness subdir does NOT exist! We will make that directory.')\n",
    "    os.mkdir(rough_subdir_fullpath)\n",
    "    print(rough_subdir_fullpath)\n",
    "    print(os.path.isdir(rough_subdir_fullpath))\n",
    "else:\n",
    "    print('roughness subdir exists!')\n",
    "    print(rough_subdir_fullpath)\n",
    "    print(os.path.isdir(rough_subdir_fullpath))"
   ]
  },
  {
   "cell_type": "markdown",
   "metadata": {},
   "source": [
    "## make list of all available roughness file patterns for specific day"
   ]
  },
  {
   "cell_type": "code",
   "execution_count": 10,
   "metadata": {},
   "outputs": [
    {
     "name": "stdout",
     "output_type": "stream",
     "text": [
      "processing orbit= 87049\n",
      "looking for pattern= roughness_toa_refl_P**_O087049*.dat\n",
      "0\n",
      "processing orbit= 87050\n",
      "looking for pattern= roughness_toa_refl_P**_O087050*.dat\n",
      "43\n",
      "processing orbit= 87051\n",
      "looking for pattern= roughness_toa_refl_P**_O087051*.dat\n",
      "43\n",
      "processing orbit= 87052\n",
      "looking for pattern= roughness_toa_refl_P**_O087052*.dat\n",
      "43\n",
      "processing orbit= 87053\n",
      "looking for pattern= roughness_toa_refl_P**_O087053*.dat\n",
      "43\n",
      "processing orbit= 87054\n",
      "looking for pattern= roughness_toa_refl_P**_O087054*.dat\n",
      "43\n",
      "processing orbit= 87055\n",
      "looking for pattern= roughness_toa_refl_P**_O087055*.dat\n",
      "43\n",
      "processing orbit= 87056\n",
      "looking for pattern= roughness_toa_refl_P**_O087056*.dat\n",
      "43\n",
      "processing orbit= 87057\n",
      "looking for pattern= roughness_toa_refl_P**_O087057*.dat\n",
      "43\n",
      "processing orbit= 87058\n",
      "looking for pattern= roughness_toa_refl_P**_O087058*.dat\n",
      "43\n",
      "processing orbit= 87059\n",
      "looking for pattern= roughness_toa_refl_P**_O087059*.dat\n",
      "43\n",
      "processing orbit= 87060\n",
      "looking for pattern= roughness_toa_refl_P**_O087060*.dat\n",
      "43\n",
      "processing orbit= 87061\n",
      "looking for pattern= roughness_toa_refl_P**_O087061*.dat\n",
      "43\n",
      "processing orbit= 87062\n",
      "looking for pattern= roughness_toa_refl_P**_O087062*.dat\n",
      "43\n",
      "processing orbit= 87063\n",
      "looking for pattern= roughness_toa_refl_P**_O087063*.dat\n",
      "43\n",
      "processing orbit= 87064\n",
      "looking for pattern= roughness_toa_refl_P**_O087064*.dat\n",
      "43\n"
     ]
    }
   ],
   "source": [
    "for orbit in orbit_list:\n",
    "    print('processing orbit= %d' %orbit)\n",
    "    #~ make pattern \n",
    "    roughness_file_pattern = 'roughness_toa_refl_P*'+'*_O0'+str(orbit)+'*'+'.dat'\n",
    "    print('looking for pattern= %s' %roughness_file_pattern)\n",
    "    #~ search for file pattern and make a list\n",
    "    roughness_files_found_list = glob.glob(os.path.join(main_roughness_dir_fullpath, roughness_file_pattern))\n",
    "    print(len(roughness_files_found_list))\n",
    "#     print(roughness_files_found_list)\n",
    "\n",
    "    for rough_file_day in roughness_files_found_list:\n",
    "        new_path = shutil.move(rough_file_day, rough_subdir_fullpath)"
   ]
  },
  {
   "cell_type": "code",
   "execution_count": 11,
   "metadata": {},
   "outputs": [],
   "source": [
    "# print('-> finished moving roughness files for day= %d' %day)\n",
    "# print(rough_subdir_fullpath)\n",
    "# moved_files_list = glob.glob(rough_subdir_fullpath, 'roughness_toa_refl*.dat')\n",
    "# print('-> moved files= %d' %len(moved_files_list))"
   ]
  },
  {
   "cell_type": "code",
   "execution_count": null,
   "metadata": {},
   "outputs": [],
   "source": []
  }
 ],
 "metadata": {
  "kernelspec": {
   "display_name": "Python 3",
   "language": "python",
   "name": "python3"
  },
  "language_info": {
   "codemirror_mode": {
    "name": "ipython",
    "version": 3
   },
   "file_extension": ".py",
   "mimetype": "text/x-python",
   "name": "python",
   "nbconvert_exporter": "python",
   "pygments_lexer": "ipython3",
   "version": "3.6.13"
  }
 },
 "nbformat": 4,
 "nbformat_minor": 2
}
