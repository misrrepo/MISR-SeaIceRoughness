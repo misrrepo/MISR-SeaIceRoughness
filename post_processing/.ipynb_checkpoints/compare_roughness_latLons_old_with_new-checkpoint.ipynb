{
 "cells": [
  {
   "cell_type": "code",
   "execution_count": 1,
   "id": "c87d8b9c",
   "metadata": {},
   "outputs": [],
   "source": [
    "home = '/Volumes/SEAGATE/april_2016/roughness_apr2016_from_PH/move_to_Box'"
   ]
  },
  {
   "cell_type": "code",
   "execution_count": 2,
   "id": "0fa5afe1",
   "metadata": {},
   "outputs": [],
   "source": [
    "roughness_old = 'roughness_toa_refl_P097_O086904_B023.dat'"
   ]
  },
  {
   "cell_type": "code",
   "execution_count": 3,
   "id": "06758420",
   "metadata": {},
   "outputs": [],
   "source": [
    "roughness_mine = 'latLon_P97_B23.csv'"
   ]
  },
  {
   "cell_type": "code",
   "execution_count": 4,
   "id": "93cfb550",
   "metadata": {},
   "outputs": [],
   "source": [
    "import numpy as np\n",
    "import pandas as pd\n",
    "import os"
   ]
  },
  {
   "cell_type": "code",
   "execution_count": 5,
   "id": "668756d7",
   "metadata": {},
   "outputs": [
    {
     "name": "stdout",
     "output_type": "stream",
     "text": [
      "(1048576,)\n",
      "(512, 2048)\n"
     ]
    }
   ],
   "source": [
    "# my latLon array\n",
    "\n",
    "arr_mine = pd.read_csv(os.path.join(home, roughness_mine), names=['lat','lon'])\n",
    "lat_mine_df = arr_mine['lat']\n",
    "lat_mine_np = lat_mine_df.to_numpy()\n",
    "print(lat_mine_np.shape)\n",
    "\n",
    "lat_mine_np_2d = np.reshape(lat_mine_np, (512,2048))\n",
    "print(lat_mine_np_2d.shape)"
   ]
  },
  {
   "cell_type": "code",
   "execution_count": 6,
   "id": "8eb74305",
   "metadata": {},
   "outputs": [
    {
     "name": "stdout",
     "output_type": "stream",
     "text": [
      "[[82.76574408 82.76378382 82.76182326 ... 78.35238305 78.35010408\n",
      "  78.34782504]\n",
      " [82.76425693 82.76229707 82.76033691 ... 78.35145518 78.34917639\n",
      "  78.34689754]\n",
      " [82.76276926 82.7608098  82.75885003 ... 78.35052687 78.34824827\n",
      "  78.34596959]\n",
      " ...\n",
      " [81.94762164 81.94585782 81.94409363 ... 77.82505101 77.82287026\n",
      "  77.82068942]\n",
      " [81.94590593 81.94414248 81.94237866 ... 77.82391111 77.82173057\n",
      "  77.81954993]\n",
      " [81.94418984 81.94242676 81.94066331 ... 77.82277083 77.82059049\n",
      "  77.81841005]]\n"
     ]
    }
   ],
   "source": [
    "print(lat_mine_np_2d)"
   ]
  },
  {
   "cell_type": "code",
   "execution_count": 7,
   "id": "3add7b60",
   "metadata": {},
   "outputs": [
    {
     "data": {
      "text/plain": [
       "(512, 2048)"
      ]
     },
     "execution_count": 7,
     "metadata": {},
     "output_type": "execute_result"
    }
   ],
   "source": [
    "# old latLon method\n",
    "\n",
    "lat_old_2d = np.fromfile(os.path.join(home, roughness_old), dtype=np.double)[1048576:2097152].reshape((512,-1)) # 'double==float64'     # is this roughness in cm?\n",
    "lat_old_2d.shape\n"
   ]
  },
  {
   "cell_type": "code",
   "execution_count": 8,
   "id": "43b20352",
   "metadata": {},
   "outputs": [
    {
     "data": {
      "text/plain": [
       "array([[82.76574408, 82.76378382, 82.76182326, ..., 78.35238305,\n",
       "        78.35010408, 78.34782504],\n",
       "       [82.76425693, 82.76229707, 82.76033691, ..., 78.35145518,\n",
       "        78.34917639, 78.34689754],\n",
       "       [82.76276926, 82.7608098 , 82.75885003, ..., 78.35052687,\n",
       "        78.34824827, 78.34596959],\n",
       "       ...,\n",
       "       [81.94762164, 81.94585782, 81.94409363, ..., 77.82505101,\n",
       "        77.82287026, 77.82068942],\n",
       "       [81.94590593, 81.94414248, 81.94237866, ..., 77.82391111,\n",
       "        77.82173057, 77.81954993],\n",
       "       [81.94418984, 81.94242676, 81.94066331, ..., 77.82277083,\n",
       "        77.82059049, 77.81841005]])"
      ]
     },
     "execution_count": 8,
     "metadata": {},
     "output_type": "execute_result"
    }
   ],
   "source": [
    "lat_old_2d"
   ]
  },
  {
   "cell_type": "code",
   "execution_count": 9,
   "id": "4f17e776",
   "metadata": {},
   "outputs": [],
   "source": [
    "# x1 = np.array([[1,2],[3,4]])\n",
    "# print(x1)\n",
    "\n",
    "# x2 = np.array([[20,20],[20,20]])\n",
    "# print(x2)\n",
    "\n",
    "# x1 - x2"
   ]
  },
  {
   "cell_type": "code",
   "execution_count": 34,
   "id": "dbbffd4e",
   "metadata": {},
   "outputs": [
    {
     "data": {
      "text/plain": [
       "(512, 2048)"
      ]
     },
     "execution_count": 34,
     "metadata": {},
     "output_type": "execute_result"
    }
   ],
   "source": [
    "subtract_error = np.subtract(lat_mine_np_2d, lat_old_2d)\n",
    "# subtract_error = lat_mine_np_2d - lat_old_2d\n",
    "\n",
    "\n",
    "subtract_error.shape"
   ]
  },
  {
   "cell_type": "code",
   "execution_count": 35,
   "id": "290f6c96",
   "metadata": {},
   "outputs": [
    {
     "name": "stdout",
     "output_type": "stream",
     "text": [
      "-4.263256414560601e-14\n",
      "82.99810756385004\n"
     ]
    }
   ],
   "source": [
    "print(subtract_error.min())\n",
    "print(subtract_error.max())"
   ]
  },
  {
   "cell_type": "code",
   "execution_count": null,
   "id": "3d0ebb96",
   "metadata": {},
   "outputs": [],
   "source": [
    "# check how many points above a threshold like +50\n",
    "\n",
    "\n"
   ]
  },
  {
   "cell_type": "code",
   "execution_count": 31,
   "id": "770d0d12",
   "metadata": {},
   "outputs": [
    {
     "data": {
      "text/plain": [
       "array([[ 0.00000000e+00,  0.00000000e+00,  1.42108547e-14, ...,\n",
       "         0.00000000e+00,  0.00000000e+00,  0.00000000e+00],\n",
       "       [ 0.00000000e+00,  0.00000000e+00,  0.00000000e+00, ...,\n",
       "        -1.42108547e-14,  0.00000000e+00,  0.00000000e+00],\n",
       "       [ 0.00000000e+00,  0.00000000e+00, -1.42108547e-14, ...,\n",
       "         0.00000000e+00,  0.00000000e+00,  0.00000000e+00],\n",
       "       ...,\n",
       "       [ 0.00000000e+00,  0.00000000e+00,  0.00000000e+00, ...,\n",
       "        -1.42108547e-14,  0.00000000e+00,  0.00000000e+00],\n",
       "       [ 0.00000000e+00,  0.00000000e+00,  0.00000000e+00, ...,\n",
       "         0.00000000e+00,  0.00000000e+00,  0.00000000e+00],\n",
       "       [ 0.00000000e+00,  0.00000000e+00,  0.00000000e+00, ...,\n",
       "         0.00000000e+00,  0.00000000e+00, -1.42108547e-14]])"
      ]
     },
     "execution_count": 31,
     "metadata": {},
     "output_type": "execute_result"
    }
   ],
   "source": [
    "subtract_error"
   ]
  },
  {
   "cell_type": "code",
   "execution_count": 32,
   "id": "84c7c595",
   "metadata": {},
   "outputs": [],
   "source": [
    "import matplotlib.pyplot as plt"
   ]
  },
  {
   "cell_type": "code",
   "execution_count": 33,
   "id": "67bbe672",
   "metadata": {},
   "outputs": [
    {
     "data": {
      "image/png": "[encoded data removed]",
      "text/plain": [
       "<Figure size 432x288 with 2 Axes>"
      ]
     },
     "metadata": {
      "needs_background": "light"
     },
     "output_type": "display_data"
    }
   ],
   "source": [
    "color_map = plt.imshow(subtract_error)\n",
    "# color_map.set_cmap(\"OrRd\")\n",
    "# color_map.set_cmap(\"Greys\")\n",
    "# color_map.set_cmap(\"YlOrBr\")\n",
    "# color_map.set_cmap(\"gist_yarg\")\n",
    "color_map.set_cmap(\"binary\")\n",
    "# color_map.set_cmap(\"bwr\")\n",
    "# color_map.set_cmap(\"Blues\")\n",
    "\n",
    "plt.colorbar()\n",
    "\n",
    "plt.show()\n",
    "\n",
    "\n",
    "# ref: https://matplotlib.org/stable/tutorials/colors/colormaps.html"
   ]
  },
  {
   "cell_type": "code",
   "execution_count": null,
   "id": "b5ca9d6d",
   "metadata": {},
   "outputs": [],
   "source": []
  },
  {
   "cell_type": "code",
   "execution_count": null,
   "id": "41f25da5",
   "metadata": {},
   "outputs": [],
   "source": []
  }
 ],
 "metadata": {
  "kernelspec": {
   "display_name": "Python 3 (ipykernel)",
   "language": "python",
   "name": "python3"
  },
  "language_info": {
   "codemirror_mode": {
    "name": "ipython",
    "version": 3
   },
   "file_extension": ".py",
   "mimetype": "text/x-python",
   "name": "python",
   "nbconvert_exporter": "python",
   "pygments_lexer": "ipython3",
   "version": "3.9.7"
  }
 },
 "nbformat": 4,
 "nbformat_minor": 5
}
