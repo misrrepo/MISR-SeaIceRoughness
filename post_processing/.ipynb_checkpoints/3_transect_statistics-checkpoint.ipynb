{
 "cells": [
  {
   "cell_type": "code",
   "execution_count": 1,
   "id": "27a47a87",
   "metadata": {},
   "outputs": [],
   "source": [
    "import pandas as pd\n",
    "import matplotlib.pyplot as plt\n",
    "import numpy as np\n",
    "# import MisrToolkit as mtk # needs python3.6\n",
    "# from mpl_toolkits.basemap import Basemap # needs python 3.8?\n",
    "import sys # to check python version\n",
    "import os\n",
    "import glob\n",
    "import datetime as dt"
   ]
  },
  {
   "cell_type": "code",
   "execution_count": 2,
   "id": "64711102",
   "metadata": {},
   "outputs": [],
   "source": [
    "# roughness_dir = \"/Volumes/SEAGATE/roughness_apr2016_from_PH/roughness_predicted\"\n",
    "roughness_dir = \"/media/ehsan/6T_part1/2016/april_2016/14528_apr2016/project_april_2016_3cam/roughness_predicted_from_PH\""
   ]
  },
  {
   "cell_type": "code",
   "execution_count": 3,
   "id": "a3c80747",
   "metadata": {},
   "outputs": [
    {
     "data": {
      "text/plain": [
       "True"
      ]
     },
     "execution_count": 3,
     "metadata": {},
     "output_type": "execute_result"
    }
   ],
   "source": [
    "os.path.isdir(roughness_dir)"
   ]
  },
  {
   "cell_type": "code",
   "execution_count": 4,
   "id": "1a2da7f2",
   "metadata": {},
   "outputs": [],
   "source": [
    "# path to training dataset\n",
    "\n",
    "trainingDS_dir = \"/media/ehsan/6T_part1/2016/april_2016/14528_apr2016/project_april_2016_3cam/training_data/april_2016/\"\n",
    "\n",
    "trainingDS_csv = \"insample_20apr_out9cam3bands_ILATM2_20160420_204606.csv\"\n",
    "# trainingDS_csv = \"insample_29apr_lon230_231_oldMethod_MisrAtmCalibratedModel_april_2016_training_dataset_datetime.csv\"\n"
   ]
  },
  {
   "cell_type": "code",
   "execution_count": 5,
   "id": "f0db2dab",
   "metadata": {},
   "outputs": [],
   "source": [
    "# open/read input dataset\n",
    "\n",
    "atm_trainigDS_fp = os.path.join(trainingDS_dir, trainingDS_csv)\n",
    "atm_transect = pd.read_csv(atm_trainigDS_fp)"
   ]
  },
  {
   "cell_type": "code",
   "execution_count": 6,
   "id": "611ed7b6",
   "metadata": {},
   "outputs": [
    {
     "data": {
      "text/plain": [
       "(6419, 23)"
      ]
     },
     "execution_count": 6,
     "metadata": {},
     "output_type": "execute_result"
    }
   ],
   "source": [
    "atm_transect.shape"
   ]
  },
  {
   "cell_type": "code",
   "execution_count": 7,
   "id": "e2e80fbc",
   "metadata": {},
   "outputs": [],
   "source": [
    "# select a smaller subset of transect, like the first 1000 points (or 10)\n",
    "\n",
    "max_step = 100\n",
    "\n",
    "atm_transect_small = atm_transect.iloc[0:max_step]"
   ]
  },
  {
   "cell_type": "code",
   "execution_count": 8,
   "id": "1d36262b",
   "metadata": {},
   "outputs": [
    {
     "name": "stdout",
     "output_type": "stream",
     "text": [
      "<class 'pandas.core.frame.DataFrame'>\n",
      "RangeIndex: 100 entries, 0 to 99\n",
      "Data columns (total 23 columns):\n",
      " #   Column              Non-Null Count  Dtype  \n",
      "---  ------              --------------  -----  \n",
      " 0   Unnamed: 0          100 non-null    int64  \n",
      " 1   path                100 non-null    int64  \n",
      " 2   orbit               100 non-null    int64  \n",
      " 3   block               100 non-null    int64  \n",
      " 4   line                100 non-null    int64  \n",
      " 5   sample              100 non-null    int64  \n",
      " 6   lat                 100 non-null    float64\n",
      " 7   lon                 100 non-null    float64\n",
      " 8   Da_r                100 non-null    float64\n",
      " 9   Ca_r                100 non-null    float64\n",
      " 10  Ba_r                100 non-null    float64\n",
      " 11  Aa_r                100 non-null    float64\n",
      " 12  An_r                100 non-null    float64\n",
      " 13  An_g                100 non-null    float64\n",
      " 14  An_b                100 non-null    float64\n",
      " 15  An_nir              100 non-null    float64\n",
      " 16  Af_r                100 non-null    float64\n",
      " 17  Bf_r                100 non-null    float64\n",
      " 18  Cf_r                100 non-null    float64\n",
      " 19  Df_r                100 non-null    float64\n",
      " 20  mean_ATM_roughness  100 non-null    float64\n",
      " 21  ATM_start_time      100 non-null    object \n",
      " 22  ATM_end_time        100 non-null    object \n",
      "dtypes: float64(15), int64(6), object(2)\n",
      "memory usage: 18.1+ KB\n"
     ]
    }
   ],
   "source": [
    "atm_transect_small.info()"
   ]
  },
  {
   "cell_type": "markdown",
   "id": "5e703ffc",
   "metadata": {},
   "source": [
    "## find roughess.dat files"
   ]
  },
  {
   "cell_type": "code",
   "execution_count": 9,
   "id": "3b64285e",
   "metadata": {},
   "outputs": [
    {
     "name": "stdout",
     "output_type": "stream",
     "text": [
      "roughness_toa_refl_P161_O086908_B006.dat\n",
      "roughness_toa_refl_P161_O086908_B006.dat\n",
      "roughness_toa_refl_P161_O086908_B006.dat\n",
      "roughness_toa_refl_P161_O086908_B006.dat\n",
      "roughness_toa_refl_P161_O086908_B006.dat\n",
      "roughness_toa_refl_P161_O086908_B006.dat\n",
      "roughness_toa_refl_P161_O086908_B006.dat\n",
      "roughness_toa_refl_P161_O086908_B006.dat\n",
      "roughness_toa_refl_P161_O086908_B006.dat\n",
      "roughness_toa_refl_P161_O086908_B006.dat\n",
      "roughness_toa_refl_P161_O086908_B006.dat\n",
      "roughness_toa_refl_P161_O086908_B006.dat\n",
      "roughness_toa_refl_P161_O086908_B006.dat\n",
      "roughness_toa_refl_P161_O086908_B006.dat\n",
      "roughness_toa_refl_P161_O086908_B006.dat\n",
      "roughness_toa_refl_P161_O086908_B006.dat\n",
      "roughness_toa_refl_P161_O086908_B006.dat\n",
      "roughness_toa_refl_P161_O086908_B006.dat\n",
      "roughness_toa_refl_P161_O086908_B006.dat\n",
      "roughness_toa_refl_P161_O086908_B006.dat\n",
      "roughness_toa_refl_P161_O086908_B006.dat\n",
      "roughness_toa_refl_P161_O086908_B006.dat\n",
      "roughness_toa_refl_P161_O086908_B006.dat\n",
      "roughness_toa_refl_P161_O086908_B006.dat\n",
      "roughness_toa_refl_P161_O086908_B006.dat\n",
      "roughness_toa_refl_P161_O086908_B006.dat\n",
      "roughness_toa_refl_P161_O086908_B006.dat\n",
      "roughness_toa_refl_P161_O086908_B006.dat\n",
      "roughness_toa_refl_P161_O086908_B006.dat\n",
      "roughness_toa_refl_P161_O086908_B006.dat\n",
      "roughness_toa_refl_P161_O086908_B006.dat\n",
      "roughness_toa_refl_P161_O086908_B006.dat\n",
      "roughness_toa_refl_P161_O086908_B006.dat\n",
      "roughness_toa_refl_P161_O086908_B006.dat\n",
      "roughness_toa_refl_P161_O086908_B006.dat\n",
      "roughness_toa_refl_P161_O086908_B006.dat\n",
      "roughness_toa_refl_P161_O086908_B006.dat\n",
      "roughness_toa_refl_P161_O086908_B006.dat\n",
      "roughness_toa_refl_P161_O086908_B006.dat\n",
      "roughness_toa_refl_P161_O086908_B006.dat\n",
      "roughness_toa_refl_P161_O086908_B006.dat\n",
      "roughness_toa_refl_P161_O086908_B006.dat\n",
      "roughness_toa_refl_P161_O086908_B006.dat\n",
      "roughness_toa_refl_P161_O086908_B006.dat\n",
      "roughness_toa_refl_P161_O086908_B006.dat\n",
      "roughness_toa_refl_P161_O086908_B006.dat\n",
      "roughness_toa_refl_P161_O086908_B006.dat\n",
      "roughness_toa_refl_P161_O086908_B006.dat\n",
      "roughness_toa_refl_P161_O086908_B006.dat\n",
      "roughness_toa_refl_P161_O086908_B006.dat\n",
      "roughness_toa_refl_P161_O086908_B006.dat\n",
      "roughness_toa_refl_P161_O086908_B006.dat\n",
      "roughness_toa_refl_P161_O086908_B006.dat\n",
      "roughness_toa_refl_P161_O086908_B006.dat\n",
      "roughness_toa_refl_P161_O086908_B006.dat\n",
      "roughness_toa_refl_P161_O086908_B006.dat\n",
      "roughness_toa_refl_P161_O086908_B006.dat\n",
      "roughness_toa_refl_P161_O086908_B006.dat\n",
      "roughness_toa_refl_P161_O086908_B006.dat\n",
      "roughness_toa_refl_P161_O086908_B006.dat\n",
      "roughness_toa_refl_P161_O086908_B006.dat\n",
      "roughness_toa_refl_P161_O086908_B006.dat\n",
      "roughness_toa_refl_P161_O086908_B006.dat\n",
      "roughness_toa_refl_P161_O086908_B006.dat\n",
      "roughness_toa_refl_P161_O086908_B006.dat\n",
      "roughness_toa_refl_P161_O086908_B006.dat\n",
      "roughness_toa_refl_P161_O086908_B006.dat\n",
      "roughness_toa_refl_P161_O086908_B006.dat\n",
      "roughness_toa_refl_P161_O086908_B006.dat\n",
      "roughness_toa_refl_P161_O086908_B006.dat\n",
      "roughness_toa_refl_P161_O086908_B006.dat\n",
      "roughness_toa_refl_P161_O086908_B006.dat\n",
      "roughness_toa_refl_P161_O086908_B006.dat\n",
      "roughness_toa_refl_P161_O086908_B006.dat\n",
      "roughness_toa_refl_P161_O086908_B006.dat\n",
      "roughness_toa_refl_P161_O086908_B006.dat\n",
      "roughness_toa_refl_P161_O086908_B006.dat\n",
      "roughness_toa_refl_P161_O086908_B006.dat\n",
      "roughness_toa_refl_P161_O086908_B006.dat\n",
      "roughness_toa_refl_P161_O086908_B006.dat\n",
      "roughness_toa_refl_P161_O086908_B006.dat\n",
      "roughness_toa_refl_P161_O086908_B006.dat\n",
      "roughness_toa_refl_P161_O086908_B006.dat\n",
      "roughness_toa_refl_P161_O086908_B006.dat\n",
      "roughness_toa_refl_P161_O086908_B006.dat\n",
      "roughness_toa_refl_P161_O086908_B006.dat\n",
      "roughness_toa_refl_P161_O086908_B006.dat\n",
      "roughness_toa_refl_P161_O086908_B006.dat\n",
      "roughness_toa_refl_P161_O086908_B006.dat\n",
      "roughness_toa_refl_P161_O086908_B006.dat\n",
      "roughness_toa_refl_P161_O086908_B006.dat\n",
      "roughness_toa_refl_P161_O086908_B006.dat\n",
      "roughness_toa_refl_P161_O086908_B006.dat\n",
      "roughness_toa_refl_P161_O086908_B006.dat\n",
      "roughness_toa_refl_P161_O086908_B006.dat\n",
      "roughness_toa_refl_P161_O086908_B006.dat\n",
      "roughness_toa_refl_P161_O086908_B006.dat\n",
      "roughness_toa_refl_P161_O086908_B006.dat\n",
      "roughness_toa_refl_P161_O086908_B006.dat\n",
      "roughness_toa_refl_P161_O086908_B006.dat\n",
      "\n",
      "total MISR roughness files: 100\n"
     ]
    }
   ],
   "source": [
    "misr_roughness_in_pixel_list = []\n",
    "\n",
    "\n",
    "for irow in range(atm_transect_small.shape[0]):\n",
    "\n",
    "\n",
    "#     path = atm_transect_small['#path'].iloc[irow]\n",
    "#     orbit = atm_transect_small[' orbit'].iloc[irow]\n",
    "#     block = atm_transect_small[' img_block'].iloc[irow]\n",
    "#     line = atm_transect_small[' line'].iloc[irow]\n",
    "#     sample = atm_transect_small[' sample'].iloc[irow]\n",
    "    \n",
    "    path = atm_transect_small['path'].iloc[irow]\n",
    "    orbit = atm_transect_small['orbit'].iloc[irow]\n",
    "    block = atm_transect_small['block'].iloc[irow]\n",
    "    line = atm_transect_small['line'].iloc[irow]\n",
    "    sample = atm_transect_small['sample'].iloc[irow]\n",
    "\n",
    "\n",
    "    # zfill() path and string it\n",
    "    if path < 100:\n",
    "        path_str = str(path).zfill(3)\n",
    "    else:\n",
    "        path_str = str(path)\n",
    "\n",
    "\n",
    "    # zfill() block and string it\n",
    "    if block < 10:\n",
    "        block_str = str(block).zfill(2)\n",
    "    else:\n",
    "        block_str = str(block)\n",
    "\n",
    "\n",
    "    roughness_file_pattern = \"roughness_toa_refl_P\"+path_str+\"_O0\"+str(orbit)+\"_B0\"+block_str+\".dat\"\n",
    "    print(roughness_file_pattern)\n",
    "\n",
    "    # find roughness file\n",
    "    rough_file_list = glob.glob(os.path.join(roughness_dir, roughness_file_pattern))\n",
    "\n",
    "    if (len(rough_file_list) < 1):\n",
    "        raise ValueError(\"roughness list came out empty!\")\n",
    "\n",
    "    if (len(rough_file_list) > 1):\n",
    "        raise ValueError(\"roughness list has more that 1 file! there should be an error in our logic!\")\n",
    "\n",
    "\n",
    "    # find roughness and open it and change binary to array\n",
    "    rough_2d_arr = np.fromfile(rough_file_list[0], dtype=np.double)[0:1048576].reshape((512,-1))\n",
    "#     print(rough_2d_arr.shape)\n",
    "    roughness_in_pixel = rough_2d_arr[int(line), int(sample)]\n",
    "    \n",
    "    if roughness_in_pixel > 1:\n",
    "        misr_roughness_in_pixel_list.append(roughness_in_pixel)\n",
    "    else:\n",
    "        raise ValueError(\"why MISR roughness is negative for an ATM location? model error? or something else?\")\n",
    "\n",
    "        \n",
    "print(\"\\ntotal MISR roughness files: %s\" %len(misr_roughness_in_pixel_list))"
   ]
  },
  {
   "cell_type": "code",
   "execution_count": 10,
   "id": "42802ab5",
   "metadata": {},
   "outputs": [],
   "source": [
    "# roughness_in_pixel_list"
   ]
  },
  {
   "cell_type": "markdown",
   "id": "0f621c1b",
   "metadata": {},
   "source": [
    "## plot transect"
   ]
  },
  {
   "cell_type": "code",
   "execution_count": 11,
   "id": "21f162f7",
   "metadata": {},
   "outputs": [
    {
     "data": {
      "image/png": "[encoded data removed]",
      "text/plain": [
       "<Figure size 720x432 with 1 Axes>"
      ]
     },
     "metadata": {
      "needs_background": "light"
     },
     "output_type": "display_data"
    }
   ],
   "source": [
    "x= range(len(misr_roughness_in_pixel_list))\n",
    "\n",
    "fig, ax = plt.subplots(figsize=(10, 6))\n",
    "\n",
    "# Specify how our lines should look\n",
    "# ax.plot(x, atm_transect_small['rms'], color='red', label='ATM-measured')\n",
    "ax.plot(x, atm_transect_small['mean_ATM_roughness'], color='red', label='ATM-measured')\n",
    "ax.plot(x, misr_roughness_in_pixel_list, color='black', label='MISR-estimated')\n",
    "\n",
    "# Same as above\n",
    "ax.set_xlabel('Transect points')\n",
    "ax.set_ylabel('Roughness (cm)')\n",
    "ax.set_title('ATM and MISR-estimated Sea Ice Roughness')\n",
    "ax.grid(True)\n",
    "ax.legend(loc='upper right');"
   ]
  },
  {
   "cell_type": "markdown",
   "id": "ab50ede0",
   "metadata": {},
   "source": [
    "## plot histogram"
   ]
  },
  {
   "cell_type": "code",
   "execution_count": null,
   "id": "a3d8329c",
   "metadata": {},
   "outputs": [],
   "source": []
  },
  {
   "cell_type": "markdown",
   "id": "fe6b9dac",
   "metadata": {},
   "source": [
    "## statistics"
   ]
  },
  {
   "cell_type": "code",
   "execution_count": null,
   "id": "722d028c",
   "metadata": {},
   "outputs": [],
   "source": []
  }
 ],
 "metadata": {
  "kernelspec": {
   "display_name": "Python 3",
   "language": "python",
   "name": "python3"
  },
  "language_info": {
   "codemirror_mode": {
    "name": "ipython",
    "version": 3
   },
   "file_extension": ".py",
   "mimetype": "text/x-python",
   "name": "python",
   "nbconvert_exporter": "python",
   "pygments_lexer": "ipython3",
   "version": "3.6.9"
  }
 },
 "nbformat": 4,
 "nbformat_minor": 5
}
