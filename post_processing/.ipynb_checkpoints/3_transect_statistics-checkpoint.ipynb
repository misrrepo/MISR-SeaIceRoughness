{
 "cells": [
  {
   "cell_type": "code",
   "execution_count": 1,
   "id": "27a47a87",
   "metadata": {},
   "outputs": [],
   "source": [
    "import pandas as pd\n",
    "import matplotlib.pyplot as plt\n",
    "import numpy as np\n",
    "# import MisrToolkit as mtk # needs python3.6\n",
    "# from mpl_toolkits.basemap import Basemap # needs python 3.8?\n",
    "import sys # to check python version\n",
    "import os\n",
    "import glob\n",
    "import datetime as dt"
   ]
  },
  {
   "cell_type": "code",
   "execution_count": 2,
   "id": "64711102",
   "metadata": {},
   "outputs": [
    {
     "data": {
      "text/plain": [
       "True"
      ]
     },
     "execution_count": 2,
     "metadata": {},
     "output_type": "execute_result"
    }
   ],
   "source": [
    "roughness_dir = \"/Volumes/SEAGATE/roughness_apr2016_from_PH/roughness_predicted\"\n",
    "os.path.isdir(roughness_dir)"
   ]
  },
  {
   "cell_type": "code",
   "execution_count": 3,
   "id": "1a2da7f2",
   "metadata": {},
   "outputs": [],
   "source": [
    "# path to training dataset\n",
    "\n",
    "ds_dir = \"/Users/ehsanmos/Documents/RnD/MISR_lab/ML_research/training_dataset\"\n",
    "\n",
    "# in_csv = \"myMethod_merged_april_2016_9cam_4bands_training_dataset.csv\"\n",
    "in_csv = \"insample_19apr_lon200_220_oldMethod_MisrAtmCalibratedModel_april_2016_training_dataset_datetime.csv\""
   ]
  },
  {
   "cell_type": "code",
   "execution_count": 4,
   "id": "f0db2dab",
   "metadata": {},
   "outputs": [
    {
     "data": {
      "text/plain": [
       "(6473, 15)"
      ]
     },
     "execution_count": 4,
     "metadata": {},
     "output_type": "execute_result"
    }
   ],
   "source": [
    "# open/read input dataset\n",
    "\n",
    "ds_fp = os.path.join(ds_dir, in_csv)\n",
    "transect = pd.read_csv(ds_fp)\n",
    "transect.shape"
   ]
  },
  {
   "cell_type": "code",
   "execution_count": 5,
   "id": "e2e80fbc",
   "metadata": {},
   "outputs": [
    {
     "data": {
      "text/html": [
       "<div>\n",
       "<style scoped>\n",
       "    .dataframe tbody tr th:only-of-type {\n",
       "        vertical-align: middle;\n",
       "    }\n",
       "\n",
       "    .dataframe tbody tr th {\n",
       "        vertical-align: top;\n",
       "    }\n",
       "\n",
       "    .dataframe thead th {\n",
       "        text-align: right;\n",
       "    }\n",
       "</style>\n",
       "<table border=\"1\" class=\"dataframe\">\n",
       "  <thead>\n",
       "    <tr style=\"text-align: right;\">\n",
       "      <th></th>\n",
       "      <th>Unnamed: 0</th>\n",
       "      <th>Unnamed: 0.1</th>\n",
       "      <th>#path</th>\n",
       "      <th>orbit</th>\n",
       "      <th>img_block</th>\n",
       "      <th>line</th>\n",
       "      <th>sample</th>\n",
       "      <th>lat</th>\n",
       "      <th>lon</th>\n",
       "      <th>an</th>\n",
       "      <th>ca</th>\n",
       "      <th>cf</th>\n",
       "      <th>rms</th>\n",
       "      <th>orbit_start</th>\n",
       "      <th>orbit_stop</th>\n",
       "    </tr>\n",
       "  </thead>\n",
       "  <tbody>\n",
       "    <tr>\n",
       "      <th>0</th>\n",
       "      <td>1</td>\n",
       "      <td>5830</td>\n",
       "      <td>154</td>\n",
       "      <td>86893</td>\n",
       "      <td>13</td>\n",
       "      <td>18</td>\n",
       "      <td>874</td>\n",
       "      <td>78.777028</td>\n",
       "      <td>201.959473</td>\n",
       "      <td>0.577882</td>\n",
       "      <td>0.768202</td>\n",
       "      <td>1.160608</td>\n",
       "      <td>16.702500</td>\n",
       "      <td>2016-04-19 05:44:58+00:00</td>\n",
       "      <td>2016-04-19 07:23:51+00:00</td>\n",
       "    </tr>\n",
       "    <tr>\n",
       "      <th>1</th>\n",
       "      <td>2</td>\n",
       "      <td>5831</td>\n",
       "      <td>154</td>\n",
       "      <td>86893</td>\n",
       "      <td>13</td>\n",
       "      <td>17</td>\n",
       "      <td>874</td>\n",
       "      <td>78.775971</td>\n",
       "      <td>201.957275</td>\n",
       "      <td>0.545354</td>\n",
       "      <td>0.740519</td>\n",
       "      <td>1.152995</td>\n",
       "      <td>13.060000</td>\n",
       "      <td>2016-04-19 05:44:58+00:00</td>\n",
       "      <td>2016-04-19 07:23:51+00:00</td>\n",
       "    </tr>\n",
       "    <tr>\n",
       "      <th>2</th>\n",
       "      <td>3</td>\n",
       "      <td>5832</td>\n",
       "      <td>154</td>\n",
       "      <td>86893</td>\n",
       "      <td>13</td>\n",
       "      <td>17</td>\n",
       "      <td>875</td>\n",
       "      <td>78.774650</td>\n",
       "      <td>201.954527</td>\n",
       "      <td>0.554351</td>\n",
       "      <td>0.743979</td>\n",
       "      <td>1.146074</td>\n",
       "      <td>12.275000</td>\n",
       "      <td>2016-04-19 05:44:58+00:00</td>\n",
       "      <td>2016-04-19 07:23:51+00:00</td>\n",
       "    </tr>\n",
       "    <tr>\n",
       "      <th>3</th>\n",
       "      <td>4</td>\n",
       "      <td>5833</td>\n",
       "      <td>154</td>\n",
       "      <td>86893</td>\n",
       "      <td>13</td>\n",
       "      <td>17</td>\n",
       "      <td>876</td>\n",
       "      <td>78.772007</td>\n",
       "      <td>201.949024</td>\n",
       "      <td>0.571653</td>\n",
       "      <td>0.752976</td>\n",
       "      <td>1.170297</td>\n",
       "      <td>13.863333</td>\n",
       "      <td>2016-04-19 05:44:58+00:00</td>\n",
       "      <td>2016-04-19 07:23:51+00:00</td>\n",
       "    </tr>\n",
       "    <tr>\n",
       "      <th>4</th>\n",
       "      <td>5</td>\n",
       "      <td>5834</td>\n",
       "      <td>154</td>\n",
       "      <td>86893</td>\n",
       "      <td>13</td>\n",
       "      <td>16</td>\n",
       "      <td>876</td>\n",
       "      <td>78.770422</td>\n",
       "      <td>201.945720</td>\n",
       "      <td>0.561964</td>\n",
       "      <td>0.755052</td>\n",
       "      <td>1.150919</td>\n",
       "      <td>10.940000</td>\n",
       "      <td>2016-04-19 05:44:58+00:00</td>\n",
       "      <td>2016-04-19 07:23:51+00:00</td>\n",
       "    </tr>\n",
       "  </tbody>\n",
       "</table>\n",
       "</div>"
      ],
      "text/plain": [
       "   Unnamed: 0  Unnamed: 0.1  #path   orbit   img_block   line   sample  \\\n",
       "0           1          5830    154   86893          13     18      874   \n",
       "1           2          5831    154   86893          13     17      874   \n",
       "2           3          5832    154   86893          13     17      875   \n",
       "3           4          5833    154   86893          13     17      876   \n",
       "4           5          5834    154   86893          13     16      876   \n",
       "\n",
       "         lat         lon        an        ca        cf        rms  \\\n",
       "0  78.777028  201.959473  0.577882  0.768202  1.160608  16.702500   \n",
       "1  78.775971  201.957275  0.545354  0.740519  1.152995  13.060000   \n",
       "2  78.774650  201.954527  0.554351  0.743979  1.146074  12.275000   \n",
       "3  78.772007  201.949024  0.571653  0.752976  1.170297  13.863333   \n",
       "4  78.770422  201.945720  0.561964  0.755052  1.150919  10.940000   \n",
       "\n",
       "                 orbit_start                 orbit_stop  \n",
       "0  2016-04-19 05:44:58+00:00  2016-04-19 07:23:51+00:00  \n",
       "1  2016-04-19 05:44:58+00:00  2016-04-19 07:23:51+00:00  \n",
       "2  2016-04-19 05:44:58+00:00  2016-04-19 07:23:51+00:00  \n",
       "3  2016-04-19 05:44:58+00:00  2016-04-19 07:23:51+00:00  \n",
       "4  2016-04-19 05:44:58+00:00  2016-04-19 07:23:51+00:00  "
      ]
     },
     "execution_count": 5,
     "metadata": {},
     "output_type": "execute_result"
    }
   ],
   "source": [
    "# select a smaller subset of transect, like the first 1000 points (or 10)\n",
    "\n",
    "transect_small = transect.iloc[0:1000]\n",
    "transect_small.head()"
   ]
  },
  {
   "cell_type": "markdown",
   "id": "5e703ffc",
   "metadata": {},
   "source": [
    "## find roughess.dat files"
   ]
  },
  {
   "cell_type": "code",
   "execution_count": 10,
   "id": "3b64285e",
   "metadata": {},
   "outputs": [
    {
     "name": "stdout",
     "output_type": "stream",
     "text": [
      "roughness_toa_refl_P154_O086893_B013.dat\n"
     ]
    },
    {
     "ename": "ValueError",
     "evalue": "roughness list came out empty!",
     "output_type": "error",
     "traceback": [
      "\u001b[0;31m---------------------------------------------------------------------------\u001b[0m",
      "\u001b[0;31mValueError\u001b[0m                                Traceback (most recent call last)",
      "\u001b[0;32m/var/folders/0l/r3vc28ks6n99yn157sn20whw0000gn/T/ipykernel_31874/2574542134.py\u001b[0m in \u001b[0;36m<module>\u001b[0;34m\u001b[0m\n\u001b[1;32m     39\u001b[0m \u001b[0;34m\u001b[0m\u001b[0m\n\u001b[1;32m     40\u001b[0m     \u001b[0;32mif\u001b[0m \u001b[0;34m(\u001b[0m\u001b[0mlen\u001b[0m\u001b[0;34m(\u001b[0m\u001b[0mrough_file_list\u001b[0m\u001b[0;34m)\u001b[0m \u001b[0;34m<\u001b[0m \u001b[0;36m1\u001b[0m\u001b[0;34m)\u001b[0m\u001b[0;34m:\u001b[0m\u001b[0;34m\u001b[0m\u001b[0;34m\u001b[0m\u001b[0m\n\u001b[0;32m---> 41\u001b[0;31m         \u001b[0;32mraise\u001b[0m \u001b[0mValueError\u001b[0m\u001b[0;34m(\u001b[0m\u001b[0;34m\"roughness list came out empty!\"\u001b[0m\u001b[0;34m)\u001b[0m\u001b[0;34m\u001b[0m\u001b[0;34m\u001b[0m\u001b[0m\n\u001b[0m\u001b[1;32m     42\u001b[0m \u001b[0;34m\u001b[0m\u001b[0m\n\u001b[1;32m     43\u001b[0m     \u001b[0;32mif\u001b[0m \u001b[0;34m(\u001b[0m\u001b[0mlen\u001b[0m\u001b[0;34m(\u001b[0m\u001b[0mrough_file_list\u001b[0m\u001b[0;34m)\u001b[0m \u001b[0;34m>\u001b[0m \u001b[0;36m1\u001b[0m\u001b[0;34m)\u001b[0m\u001b[0;34m:\u001b[0m\u001b[0;34m\u001b[0m\u001b[0;34m\u001b[0m\u001b[0m\n",
      "\u001b[0;31mValueError\u001b[0m: roughness list came out empty!"
     ]
    }
   ],
   "source": [
    "roughness_in_pixel_list = []\n",
    "\n",
    "\n",
    "for irow in range(transect_small.shape[0]):\n",
    "\n",
    "\n",
    "    path = transect_small['#path'].iloc[irow]\n",
    "    orbit = transect_small[' orbit'].iloc[irow]\n",
    "    block = transect_small[' img_block'].iloc[irow]\n",
    "    line = transect_small[' line'].iloc[irow]\n",
    "    sample = transect_small[' sample'].iloc[irow]\n",
    "    \n",
    "#     path = transect_small['path'].iloc[irow]\n",
    "#     orbit = transect_small['orbit'].iloc[irow]\n",
    "#     block = transect_small['img_block'].iloc[irow]\n",
    "#     line = transect_small['line'].iloc[irow]\n",
    "#     sample = transect_small['sample'].iloc[irow]\n",
    "\n",
    "\n",
    "    # zfill() path and string it\n",
    "    if path < 100:\n",
    "        path_str = str(path).zfill(3)\n",
    "    else:\n",
    "        path_str = str(path)\n",
    "\n",
    "\n",
    "    # zfill() block and string it\n",
    "    if block < 10:\n",
    "        block_str = str(block).zfill(2)\n",
    "    else:\n",
    "        block_str = str(block)\n",
    "\n",
    "\n",
    "    roughness_file_pattern = \"roughness_toa_refl_P\"+path_str+\"_O0\"+str(orbit)+\"_B0\"+block_str+\".dat\"\n",
    "    print(roughness_file_pattern)\n",
    "\n",
    "    # find roughness file\n",
    "    rough_file_list = glob.glob(os.path.join(roughness_dir, roughness_file_pattern))\n",
    "\n",
    "    if (len(rough_file_list) < 1):\n",
    "        raise ValueError(\"roughness list came out empty!\")\n",
    "\n",
    "    if (len(rough_file_list) > 1):\n",
    "        raise ValueError(\"roughness list has more that 1 file! there should be an error in our logic!\")\n",
    "\n",
    "\n",
    "    # find roughness and open it and change binary to array\n",
    "    rough_2d_arr = np.fromfile(rough_file_list[0], dtype=np.double)[0:1048576].reshape((512,-1))\n",
    "    print(rough_2d_arr.shape)\n",
    "    roughness_in_pixel = rough_2d_arr[line, sample]\n",
    "    if roughness_in_pixel > 1:\n",
    "        roughness_in_pixel_list.append(roughness_in_pixel)\n",
    "    else:\n",
    "        raise ValueError(\"why roughness is negative for an ATM location? model error? or something else?\")\n"
   ]
  },
  {
   "cell_type": "markdown",
   "id": "0f621c1b",
   "metadata": {},
   "source": [
    "## plot transect"
   ]
  },
  {
   "cell_type": "code",
   "execution_count": 8,
   "id": "21f162f7",
   "metadata": {},
   "outputs": [
    {
     "ename": "NameError",
     "evalue": "name 'plot' is not defined",
     "output_type": "error",
     "traceback": [
      "\u001b[0;31m---------------------------------------------------------------------------\u001b[0m",
      "\u001b[0;31mNameError\u001b[0m                                 Traceback (most recent call last)",
      "\u001b[0;32m/var/folders/0l/r3vc28ks6n99yn157sn20whw0000gn/T/ipykernel_31874/3583817571.py\u001b[0m in \u001b[0;36m<module>\u001b[0;34m\u001b[0m\n\u001b[1;32m      2\u001b[0m \u001b[0;31m# plt.plot(transect_small['rms'])\u001b[0m\u001b[0;34m\u001b[0m\u001b[0;34m\u001b[0m\u001b[0m\n\u001b[1;32m      3\u001b[0m \u001b[0;34m\u001b[0m\u001b[0m\n\u001b[0;32m----> 4\u001b[0;31m \u001b[0mplot\u001b[0m\u001b[0;34m.\u001b[0m\u001b[0mplot\u001b[0m\u001b[0;34m(\u001b[0m\u001b[0mroughness_in_pixel_list\u001b[0m\u001b[0;34m,\u001b[0m \u001b[0mlabel\u001b[0m\u001b[0;34m=\u001b[0m\u001b[0;34m\"MISR-estimated roughness\"\u001b[0m\u001b[0;34m)\u001b[0m\u001b[0;34m\u001b[0m\u001b[0;34m\u001b[0m\u001b[0m\n\u001b[0m\u001b[1;32m      5\u001b[0m \u001b[0;34m\u001b[0m\u001b[0m\n\u001b[1;32m      6\u001b[0m \u001b[0mplt\u001b[0m\u001b[0;34m.\u001b[0m\u001b[0mlegend\u001b[0m\u001b[0;34m(\u001b[0m\u001b[0;34m\"ATM and MISR-estimated\"\u001b[0m\u001b[0;34m)\u001b[0m\u001b[0;34m\u001b[0m\u001b[0;34m\u001b[0m\u001b[0m\n",
      "\u001b[0;31mNameError\u001b[0m: name 'plot' is not defined"
     ]
    },
    {
     "data": {
      "image/png": "[encoded data removed]",
      "text/plain": [
       "<Figure size 432x288 with 1 Axes>"
      ]
     },
     "metadata": {
      "needs_background": "light"
     },
     "output_type": "display_data"
    }
   ],
   "source": [
    "plt.plot(transect_small[' rms'], label=\"ATM-measured roughness\")\n",
    "# plt.plot(transect_small['rms'])\n",
    "\n",
    "plot.plot(roughness_in_pixel_list, label=\"MISR-estimated roughness\")\n",
    "\n",
    "plt.legend(\"ATM and MISR-estimated\")"
   ]
  },
  {
   "cell_type": "markdown",
   "id": "ab50ede0",
   "metadata": {},
   "source": [
    "## plot histogram"
   ]
  },
  {
   "cell_type": "code",
   "execution_count": null,
   "id": "a3d8329c",
   "metadata": {},
   "outputs": [],
   "source": []
  },
  {
   "cell_type": "markdown",
   "id": "fe6b9dac",
   "metadata": {},
   "source": [
    "## statistics"
   ]
  },
  {
   "cell_type": "code",
   "execution_count": null,
   "id": "722d028c",
   "metadata": {},
   "outputs": [],
   "source": []
  }
 ],
 "metadata": {
  "kernelspec": {
   "display_name": "Python 3 (ipykernel)",
   "language": "python",
   "name": "python3"
  },
  "language_info": {
   "codemirror_mode": {
    "name": "ipython",
    "version": 3
   },
   "file_extension": ".py",
   "mimetype": "text/x-python",
   "name": "python",
   "nbconvert_exporter": "python",
   "pygments_lexer": "ipython3",
   "version": "3.9.7"
  }
 },
 "nbformat": 4,
 "nbformat_minor": 5
}
