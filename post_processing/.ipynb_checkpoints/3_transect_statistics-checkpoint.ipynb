{
 "cells": [
  {
   "cell_type": "code",
   "execution_count": 1,
   "id": "27a47a87",
   "metadata": {},
   "outputs": [],
   "source": [
    "import pandas as pd\n",
    "import matplotlib.pyplot as plt\n",
    "import numpy as np\n",
    "# import MisrToolkit as mtk # needs python3.6\n",
    "# from mpl_toolkits.basemap import Basemap # needs python 3.8?\n",
    "import sys # to check python version\n",
    "import os\n",
    "import glob\n",
    "import datetime as dt"
   ]
  },
  {
   "cell_type": "code",
   "execution_count": 2,
   "id": "bebf05fc",
   "metadata": {},
   "outputs": [],
   "source": [
    "# if (old_trainig_ds == 'on'):\n",
    "\n",
    "def rename_oldDS_columns(in_transect):\n",
    "    # rename columns\n",
    "    if (in_transect.iloc[:,5].name == ' firstLat'):\n",
    "        in_transect.rename(columns={'#path':'path', ' orbit':'orbit', ' img_block':'block',\\\n",
    "                             ' line':'line', ' sample':'sample',\\\n",
    "                            ' firstLat':'lat', ' firstLon':'lon', ' npts':'npts',\\\n",
    "                            ' rms':'mean_ATM_roughness'}, inplace=True)\n",
    "    \n",
    "    \n",
    "    if (in_transect.iloc[:,5].name == ' lat'):\n",
    "        in_transect.rename(columns={'#path':'path', ' orbit':'orbit', ' img_block':'block',\\\n",
    "                                     ' line':'line', ' sample':'sample',\\\n",
    "                                    ' lat':'lat', ' lon':'lon', ' npts':'npts',\\\n",
    "                                    ' rms':'mean_ATM_roughness'}, inplace=True)\n",
    "\n",
    "    print(in_transect.columns)\n",
    "    \n",
    "    return 0\n",
    "    "
   ]
  },
  {
   "cell_type": "code",
   "execution_count": 3,
   "id": "bfd98cff",
   "metadata": {},
   "outputs": [],
   "source": [
    "def plot_error_mesh(subtract_error_2d):\n",
    "    \n",
    "    import matplotlib.pyplot as plt\n",
    "\n",
    "    color_map = plt.imshow(subtract_error_2d)\n",
    "    # color_map.set_cmap(\"OrRd\")\n",
    "    # color_map.set_cmap(\"Greys\")\n",
    "    # color_map.set_cmap(\"YlOrBr\")\n",
    "    # color_map.set_cmap(\"gist_yarg\")\n",
    "#     color_map.set_cmap(\"binary\") \n",
    "    color_map.set_cmap(\"bwr\")\n",
    "    # color_map.set_cmap(\"Blues\")\n",
    "\n",
    "    plt.colorbar()\n",
    "\n",
    "    plt.show()\n",
    "\n",
    "    return 0\n",
    "\n",
    "# ref: https://matplotlib.org/stable/tutorials/colors/colormaps.html"
   ]
  },
  {
   "cell_type": "code",
   "execution_count": 4,
   "id": "bf3e3812",
   "metadata": {},
   "outputs": [],
   "source": [
    "# from matplotlib import image as pltimg, pyplot as plt  #  pyplot uses the actual RGB values as they are, more accurate than PIL\n",
    "\n",
    "def plot_here_and_write(in_arr, img_dir):\n",
    "    write_mode = 0\n",
    "#     img_label = 'path_'+path_num+'_'+'blocks_'+str(start_block)+'_'+str(end_block)+'_cam_'+cam\n",
    "    img_format = \".jpg\"\n",
    "    %matplotlib inline \n",
    "\n",
    "    plt.gray() # This will show the images in grayscale as default\n",
    "\n",
    "    plt.figure(figsize=(30,30))  # set the figure size\n",
    "\n",
    "    plt.imshow(in_arr)\n",
    "    plt.show()\n",
    "    \n",
    "    if (write_mode):\n",
    "        print('save mode: on, we write images to disc')\n",
    "        \n",
    "        out_img = img_label+img_format\n",
    "        out_img_fullpath = os.path.join(img_dir, out_img)\n",
    "        print(\"-> output img is: %s\" %out_img_fullpath)\n",
    "        pltimg.imsave(out_img_fullpath, in_arr)\n",
    "        #     plt.savefig(out_img)\n",
    "    \n",
    "    return 0\n"
   ]
  },
  {
   "cell_type": "code",
   "execution_count": 5,
   "id": "e4916c6b",
   "metadata": {},
   "outputs": [],
   "source": [
    "def remove_negatives(in_df, column_label):\n",
    "    # remove negative values from DF\n",
    "\n",
    "    index_list = in_df.loc[in_df[column_label] < 0].index\n",
    "    print(\"size of list before removing negative MISR-rough data: %s\" %len(in_df))\n",
    "\n",
    "    in_df.drop(index_list, axis='index', inplace=True)\n",
    "    print(\"size of list after removing negative MISR-rough data: %s\" %len(in_df))\n",
    "    \n",
    "    return 0 # changes are inplace"
   ]
  },
  {
   "cell_type": "markdown",
   "id": "aa0ccb3a",
   "metadata": {},
   "source": [
    "## setup path to roughness and atmmodel files"
   ]
  },
  {
   "cell_type": "code",
   "execution_count": 6,
   "id": "2bac1778",
   "metadata": {},
   "outputs": [],
   "source": [
    "sim_month = 'July_2016'\n",
    "atm_npts = 10"
   ]
  },
  {
   "cell_type": "code",
   "execution_count": 7,
   "id": "64711102",
   "metadata": {},
   "outputs": [],
   "source": [
    "# roughness dir\n",
    "roughness_dir = \"/Volumes/Ehsan-7757225325/2016/july_2016/test_predict_npts_p94_o88229_b30/npts10\"\n",
    "\n",
    "# atmmodel dir\n",
    "atmmodel_dir = \"/Volumes/Ehsan-7757225325/2016/july_2016/atmmodel\"\n",
    "atmmodel_csv = \"atmmodel_july_2016_k_zero.csv\"\n",
    "\n",
    "# plot dir\n",
    "plot_output_dir = \"/Volumes/Ehsan-7757225325/2016/plot_dir\""
   ]
  },
  {
   "cell_type": "code",
   "execution_count": 8,
   "id": "f0db2dab",
   "metadata": {},
   "outputs": [
    {
     "name": "stdout",
     "output_type": "stream",
     "text": [
      "/Volumes/Ehsan-7757225325/2016/july_2016/test_predict_npts_p94_o88229_b30/npts10\n",
      "roughness: True\n",
      "atmmodel: True\n",
      "(21181, 15)\n",
      "#path\n"
     ]
    }
   ],
   "source": [
    "# open/read input dataset\n",
    "\n",
    "print(roughness_dir)\n",
    "print('roughness: %s' %os.path.isdir(roughness_dir))\n",
    "\n",
    "atmmodel_csv_fp = os.path.join(atmmodel_dir, atmmodel_csv)\n",
    "print('atmmodel: %s'%(os.path.isfile(atmmodel_csv_fp)))\n",
    "\n",
    "atm_transect = pd.read_csv(atmmodel_csv_fp)\n",
    "print(atm_transect.shape)\n",
    "print(atm_transect.columns[0])"
   ]
  },
  {
   "cell_type": "markdown",
   "id": "b35f9d90",
   "metadata": {},
   "source": [
    "## check and change column labels "
   ]
  },
  {
   "cell_type": "code",
   "execution_count": 9,
   "id": "267acd58",
   "metadata": {},
   "outputs": [
    {
     "name": "stdout",
     "output_type": "stream",
     "text": [
      "Index(['path', 'orbit', 'block', 'line', 'sample', 'lat', 'lon', ' an', ' ca',\n",
      "       ' cf', 'mean_ATM_roughness', ' weight', 'npts', ' cloud', ' var'],\n",
      "      dtype='object')\n"
     ]
    }
   ],
   "source": [
    "if (atm_transect.columns[0] == '#path'):\n",
    "    rename_oldDS_columns(atm_transect)"
   ]
  },
  {
   "cell_type": "code",
   "execution_count": 10,
   "id": "3c2605d3",
   "metadata": {},
   "outputs": [],
   "source": [
    "# atm_transect.columns"
   ]
  },
  {
   "cell_type": "code",
   "execution_count": 11,
   "id": "473e0386",
   "metadata": {},
   "outputs": [],
   "source": [
    "# info of path-orbit-block and then select absed on this info\n",
    "\n",
    "# atm_transect['path'].value_counts()"
   ]
  },
  {
   "cell_type": "code",
   "execution_count": 12,
   "id": "4e0d370c",
   "metadata": {},
   "outputs": [],
   "source": [
    "# atm_transect['orbit'].value_counts()"
   ]
  },
  {
   "cell_type": "code",
   "execution_count": 13,
   "id": "0d89a7cf",
   "metadata": {},
   "outputs": [],
   "source": [
    "# atm_transect['block'].value_counts()"
   ]
  },
  {
   "cell_type": "markdown",
   "id": "5638168c",
   "metadata": {},
   "source": [
    "### =========================================================================="
   ]
  },
  {
   "cell_type": "markdown",
   "id": "79e1ae71",
   "metadata": {},
   "source": [
    "## we need some cloud mask or some sort of cloud-checking algorithm here to make sure the block is not cloudy"
   ]
  },
  {
   "cell_type": "markdown",
   "id": "531119d5",
   "metadata": {},
   "source": [
    "how examine a MISR block is not cloudy? we can open HDF file and check some things in it, \n",
    "we need a mask flag (dataset) here to open and check the flag and determine if the block \n",
    "is cloudy or not, and then we can decide to use it or not here!\n",
    "\n",
    "we should run an algorithm on images and determine cloudiness ration/percent/probability \n",
    "in each MISR image and then we can write the % or ratio in a seperate dataset for each POB.\n"
   ]
  },
  {
   "cell_type": "markdown",
   "id": "22377aea",
   "metadata": {},
   "source": [
    "### =========================================================================="
   ]
  },
  {
   "cell_type": "code",
   "execution_count": 14,
   "id": "ad7dac37",
   "metadata": {},
   "outputs": [
    {
     "name": "stdout",
     "output_type": "stream",
     "text": [
      "number of zeros found in DS: 0\n"
     ]
    }
   ],
   "source": [
    "# remove zeros\n",
    "\n",
    "filter_zeros_cond = (atm_transect['path']==0) & (atm_transect['orbit']==0) & (atm_transect['block']==0)\n",
    "\n",
    "zero_index_list = atm_transect.index[filter_zeros_cond].tolist()\n",
    "print('number of zeros found in DS: %s' %len(zero_index_list))\n",
    "\n",
    "atm_transect.drop(labels=zero_index_list, axis=0, inplace=True)\n",
    "# atm_transect.head()"
   ]
  },
  {
   "cell_type": "code",
   "execution_count": 15,
   "id": "1d36262b",
   "metadata": {},
   "outputs": [
    {
     "name": "stdout",
     "output_type": "stream",
     "text": [
      "<class 'pandas.core.frame.DataFrame'>\n",
      "Int64Index: 21181 entries, 0 to 21180\n",
      "Data columns (total 15 columns):\n",
      " #   Column              Non-Null Count  Dtype  \n",
      "---  ------              --------------  -----  \n",
      " 0   path                21181 non-null  int64  \n",
      " 1   orbit               21181 non-null  int64  \n",
      " 2   block               21181 non-null  int64  \n",
      " 3   line                21181 non-null  int64  \n",
      " 4   sample              21181 non-null  int64  \n",
      " 5   lat                 21181 non-null  float64\n",
      " 6   lon                 21181 non-null  float64\n",
      " 7    an                 21181 non-null  float64\n",
      " 8    ca                 21181 non-null  float64\n",
      " 9    cf                 21181 non-null  float64\n",
      " 10  mean_ATM_roughness  21181 non-null  float64\n",
      " 11   weight             21181 non-null  float64\n",
      " 12  npts                21181 non-null  float64\n",
      " 13   cloud              21181 non-null  int64  \n",
      " 14   var                21181 non-null  float64\n",
      "dtypes: float64(9), int64(6)\n",
      "memory usage: 2.6 MB\n"
     ]
    }
   ],
   "source": [
    "atm_transect.info()"
   ]
  },
  {
   "cell_type": "markdown",
   "id": "ec11b4ad",
   "metadata": {},
   "source": [
    "## change dtype of columns to int"
   ]
  },
  {
   "cell_type": "code",
   "execution_count": 16,
   "id": "06b9c809",
   "metadata": {},
   "outputs": [
    {
     "name": "stdout",
     "output_type": "stream",
     "text": [
      "<class 'pandas.core.frame.DataFrame'>\n",
      "Int64Index: 21181 entries, 0 to 21180\n",
      "Data columns (total 15 columns):\n",
      " #   Column              Non-Null Count  Dtype  \n",
      "---  ------              --------------  -----  \n",
      " 0   path                21181 non-null  int64  \n",
      " 1   orbit               21181 non-null  int64  \n",
      " 2   block               21181 non-null  int64  \n",
      " 3   line                21181 non-null  int64  \n",
      " 4   sample              21181 non-null  int64  \n",
      " 5   lat                 21181 non-null  float64\n",
      " 6   lon                 21181 non-null  float64\n",
      " 7    an                 21181 non-null  float64\n",
      " 8    ca                 21181 non-null  float64\n",
      " 9    cf                 21181 non-null  float64\n",
      " 10  mean_ATM_roughness  21181 non-null  float64\n",
      " 11   weight             21181 non-null  float64\n",
      " 12  npts                21181 non-null  float64\n",
      " 13   cloud              21181 non-null  int64  \n",
      " 14   var                21181 non-null  float64\n",
      "dtypes: float64(9), int64(6)\n",
      "memory usage: 2.6 MB\n"
     ]
    }
   ],
   "source": [
    "atm_transect = atm_transect.astype({'path':int, 'orbit':int, 'block':int, 'line':int, 'sample':int})\n",
    "atm_transect.info()"
   ]
  },
  {
   "cell_type": "markdown",
   "id": "1efb7a30",
   "metadata": {},
   "source": [
    "## filter dataset for ATM roughness threshold"
   ]
  },
  {
   "cell_type": "code",
   "execution_count": 17,
   "id": "2c5ae0ae",
   "metadata": {},
   "outputs": [
    {
     "data": {
      "image/png": "[encoded data removed]",
      "text/plain": [
       "<Figure size 432x288 with 1 Axes>"
      ]
     },
     "metadata": {
      "needs_background": "light"
     },
     "output_type": "display_data"
    }
   ],
   "source": [
    "plt.hist(atm_transect['npts'], density=True, bins=20, label='npts', color='red', alpha=1)  # density=False would make counts\n",
    "plt.show()\n"
   ]
  },
  {
   "cell_type": "markdown",
   "id": "5be20b8b",
   "metadata": {},
   "source": [
    "## filter for npoints >= 10 and write out new dataset\n"
   ]
  },
  {
   "cell_type": "code",
   "execution_count": 18,
   "id": "bd367a9a",
   "metadata": {},
   "outputs": [
    {
     "name": "stdout",
     "output_type": "stream",
     "text": [
      "shape of filtered DS: (13967, 15)\n"
     ]
    },
    {
     "data": {
      "image/png": "[encoded data removed]",
      "text/plain": [
       "<Figure size 432x288 with 1 Axes>"
      ]
     },
     "metadata": {
      "needs_background": "light"
     },
     "output_type": "display_data"
    }
   ],
   "source": [
    "threshold_cut = 5\n",
    "atm_transect_npts_filtered = atm_transect.loc[atm_transect['npts']>=threshold_cut]\n",
    "print('shape of filtered DS: (%s, %s)' %atm_transect_npts_filtered.shape)\n",
    "\n",
    "\n",
    "plt.hist(atm_transect_npts_filtered['npts'], density=True, bins=50, label='npts', color='red', alpha=1)  # density=False would make counts\n",
    "plt.show()\n",
    "\n",
    "\n",
    "\n",
    "# write here\n",
    "\n",
    "# output_filename = \"atmmodel_july_2016_k_zero_npts_larger\"+str(threshold_cut)+\".csv\"\n",
    "# output_ds = os.path.join(trainingDS_dir, output_filename)\n",
    "# atm_transect_npts_filtered.to_csv(output_ds, index=False)\n",
    "# print(output_ds)\n"
   ]
  },
  {
   "cell_type": "markdown",
   "id": "a9a9c547",
   "metadata": {},
   "source": [
    "## select POB to extract\n"
   ]
  },
  {
   "cell_type": "code",
   "execution_count": 19,
   "id": "7fffdf8a",
   "metadata": {},
   "outputs": [],
   "source": [
    "# note: we selected an arbiterary POB as following \n",
    "# Arbitrary POB (from unique POB)\n",
    "\n",
    "selected_path = 85\n",
    "selected_orbit = 88243\n",
    "selected_block = 28\n"
   ]
  },
  {
   "cell_type": "markdown",
   "id": "a45236bd",
   "metadata": {},
   "source": [
    "procedure: \n",
    "\n",
    "\n",
    "1- check POB images in the new atmmodel_k_zero.csv file and check if they are dark or cloudy\n",
    "\n",
    "2- pick a POB image that is not cloudy and is available\n",
    "\n",
    "3- prediction: compute roughness array for that POB\n",
    "\n",
    "4- then plot transect: compare model against truth \n",
    "\n",
    "5- confirm this is the best atmmodel with npts and k=today\n",
    "\n",
    "6- prediction for all images\n",
    "\n",
    "7- array2raster, geolocate, mosaics, maps"
   ]
  },
  {
   "cell_type": "code",
   "execution_count": 20,
   "id": "635ce975",
   "metadata": {},
   "outputs": [],
   "source": [
    "# # delete the first column\n",
    "\n",
    "# atm_transect_small.drop(labels='Unnamed: 0', axis=1, inplace=True)\n",
    "# atm_transect_small.columns"
   ]
  },
  {
   "cell_type": "code",
   "execution_count": 21,
   "id": "eabfc08a",
   "metadata": {},
   "outputs": [
    {
     "name": "stdout",
     "output_type": "stream",
     "text": [
      "Shape of our dataset after filtering for our target block... (75, 15)\n"
     ]
    },
    {
     "data": {
      "text/html": [
       "<div>\n",
       "<style scoped>\n",
       "    .dataframe tbody tr th:only-of-type {\n",
       "        vertical-align: middle;\n",
       "    }\n",
       "\n",
       "    .dataframe tbody tr th {\n",
       "        vertical-align: top;\n",
       "    }\n",
       "\n",
       "    .dataframe thead th {\n",
       "        text-align: right;\n",
       "    }\n",
       "</style>\n",
       "<table border=\"1\" class=\"dataframe\">\n",
       "  <thead>\n",
       "    <tr style=\"text-align: right;\">\n",
       "      <th></th>\n",
       "      <th>path</th>\n",
       "      <th>orbit</th>\n",
       "      <th>block</th>\n",
       "      <th>line</th>\n",
       "      <th>sample</th>\n",
       "      <th>lat</th>\n",
       "      <th>lon</th>\n",
       "      <th>an</th>\n",
       "      <th>ca</th>\n",
       "      <th>cf</th>\n",
       "      <th>mean_ATM_roughness</th>\n",
       "      <th>weight</th>\n",
       "      <th>npts</th>\n",
       "      <th>cloud</th>\n",
       "      <th>var</th>\n",
       "    </tr>\n",
       "  </thead>\n",
       "  <tbody>\n",
       "    <tr>\n",
       "      <th>12424</th>\n",
       "      <td>85</td>\n",
       "      <td>88243</td>\n",
       "      <td>28</td>\n",
       "      <td>191</td>\n",
       "      <td>1521</td>\n",
       "      <td>75.455111</td>\n",
       "      <td>211.234854</td>\n",
       "      <td>0.040956</td>\n",
       "      <td>0.095905</td>\n",
       "      <td>0.446583</td>\n",
       "      <td>8.9800</td>\n",
       "      <td>1.0</td>\n",
       "      <td>3.0</td>\n",
       "      <td>-1</td>\n",
       "      <td>0.689976</td>\n",
       "    </tr>\n",
       "    <tr>\n",
       "      <th>12425</th>\n",
       "      <td>85</td>\n",
       "      <td>88243</td>\n",
       "      <td>28</td>\n",
       "      <td>191</td>\n",
       "      <td>1520</td>\n",
       "      <td>75.455866</td>\n",
       "      <td>211.236015</td>\n",
       "      <td>0.039499</td>\n",
       "      <td>0.095613</td>\n",
       "      <td>0.431279</td>\n",
       "      <td>8.9950</td>\n",
       "      <td>1.0</td>\n",
       "      <td>2.0</td>\n",
       "      <td>-1</td>\n",
       "      <td>1.065000</td>\n",
       "    </tr>\n",
       "    <tr>\n",
       "      <th>12426</th>\n",
       "      <td>85</td>\n",
       "      <td>88243</td>\n",
       "      <td>28</td>\n",
       "      <td>190</td>\n",
       "      <td>1520</td>\n",
       "      <td>75.456370</td>\n",
       "      <td>211.236791</td>\n",
       "      <td>0.040519</td>\n",
       "      <td>0.096196</td>\n",
       "      <td>0.428947</td>\n",
       "      <td>6.2100</td>\n",
       "      <td>1.0</td>\n",
       "      <td>1.0</td>\n",
       "      <td>-1</td>\n",
       "      <td>0.000000</td>\n",
       "    </tr>\n",
       "    <tr>\n",
       "      <th>12427</th>\n",
       "      <td>85</td>\n",
       "      <td>88243</td>\n",
       "      <td>28</td>\n",
       "      <td>167</td>\n",
       "      <td>1512</td>\n",
       "      <td>75.513993</td>\n",
       "      <td>211.325102</td>\n",
       "      <td>0.054948</td>\n",
       "      <td>0.100277</td>\n",
       "      <td>0.358841</td>\n",
       "      <td>8.7425</td>\n",
       "      <td>1.0</td>\n",
       "      <td>4.0</td>\n",
       "      <td>-1</td>\n",
       "      <td>1.078109</td>\n",
       "    </tr>\n",
       "    <tr>\n",
       "      <th>12428</th>\n",
       "      <td>85</td>\n",
       "      <td>88243</td>\n",
       "      <td>28</td>\n",
       "      <td>166</td>\n",
       "      <td>1512</td>\n",
       "      <td>75.514997</td>\n",
       "      <td>211.326655</td>\n",
       "      <td>0.052616</td>\n",
       "      <td>0.098965</td>\n",
       "      <td>0.354323</td>\n",
       "      <td>7.9250</td>\n",
       "      <td>1.0</td>\n",
       "      <td>8.0</td>\n",
       "      <td>-1</td>\n",
       "      <td>0.738055</td>\n",
       "    </tr>\n",
       "  </tbody>\n",
       "</table>\n",
       "</div>"
      ],
      "text/plain": [
       "       path  orbit  block  line  sample        lat         lon        an  \\\n",
       "12424    85  88243     28   191    1521  75.455111  211.234854  0.040956   \n",
       "12425    85  88243     28   191    1520  75.455866  211.236015  0.039499   \n",
       "12426    85  88243     28   190    1520  75.456370  211.236791  0.040519   \n",
       "12427    85  88243     28   167    1512  75.513993  211.325102  0.054948   \n",
       "12428    85  88243     28   166    1512  75.514997  211.326655  0.052616   \n",
       "\n",
       "             ca        cf  mean_ATM_roughness   weight  npts   cloud       var  \n",
       "12424  0.095905  0.446583              8.9800      1.0   3.0      -1  0.689976  \n",
       "12425  0.095613  0.431279              8.9950      1.0   2.0      -1  1.065000  \n",
       "12426  0.096196  0.428947              6.2100      1.0   1.0      -1  0.000000  \n",
       "12427  0.100277  0.358841              8.7425      1.0   4.0      -1  1.078109  \n",
       "12428  0.098965  0.354323              7.9250      1.0   8.0      -1  0.738055  "
      ]
     },
     "execution_count": 21,
     "metadata": {},
     "output_type": "execute_result"
    }
   ],
   "source": [
    "# set filters to select a MISR block from ATM dataset\n",
    "\n",
    "path_filter = (atm_transect['path']==selected_path)\n",
    "orbit_filter = (atm_transect['orbit']==selected_orbit)\n",
    "block_filter = (atm_transect['block']==selected_block)\n",
    "\n",
    "atm_transect_in_block = atm_transect.loc[path_filter & orbit_filter & block_filter]\n",
    "print('Shape of our dataset after filtering for our target block... (%s, %s)' %atm_transect_in_block.shape)\n",
    "atm_transect_in_block.head()\n"
   ]
  },
  {
   "cell_type": "markdown",
   "id": "87771866",
   "metadata": {},
   "source": [
    "## write out"
   ]
  },
  {
   "cell_type": "code",
   "execution_count": 22,
   "id": "73802978",
   "metadata": {},
   "outputs": [],
   "source": [
    "# # write some portion of it\n",
    "\n",
    "# atm_transect_in_block['lon_West'] = atm_transect_in_block['lon']-360\n",
    "\n",
    "# sample_df = atm_transect_in_block.head(200)\n",
    "# sample_df.to_csv(os.path.join(trainingDS_dir, 'atmmodel_april_2016_smallDS_200firstsamples.csv'), index=False)"
   ]
  },
  {
   "cell_type": "markdown",
   "id": "c6f8bcea",
   "metadata": {},
   "source": [
    "## change size of samples"
   ]
  },
  {
   "cell_type": "code",
   "execution_count": 23,
   "id": "e2e80fbc",
   "metadata": {},
   "outputs": [],
   "source": [
    "# maybe if we want to select a smaller subset of the selected transect, like the first 100 points (or 10)\n",
    "\n",
    "# max_step = 200\n",
    "max_step = atm_transect_in_block.shape[0]\n",
    "\n",
    "atm_transect_in_block = atm_transect_in_block.iloc[0:max_step]"
   ]
  },
  {
   "cell_type": "code",
   "execution_count": 24,
   "id": "faefab91",
   "metadata": {},
   "outputs": [
    {
     "data": {
      "text/plain": [
       "(75, 15)"
      ]
     },
     "execution_count": 24,
     "metadata": {},
     "output_type": "execute_result"
    }
   ],
   "source": [
    "atm_transect_in_block.shape"
   ]
  },
  {
   "cell_type": "code",
   "execution_count": 25,
   "id": "d4158b6b",
   "metadata": {},
   "outputs": [],
   "source": [
    "# sort by column (\"line\")\n",
    "\n",
    "# atm_transect_in_block.sort_values(by='line', axis=0, inplace=True) # axis=0 == column names\n",
    "# atm_transect_in_block.head(50)\n"
   ]
  },
  {
   "cell_type": "code",
   "execution_count": 26,
   "id": "7caf3529",
   "metadata": {},
   "outputs": [],
   "source": [
    "# check for duplicates in rows of dataset???\n",
    "\n",
    "\n"
   ]
  },
  {
   "cell_type": "code",
   "execution_count": 27,
   "id": "86158f86",
   "metadata": {},
   "outputs": [],
   "source": [
    "# zfill() path and string it\n",
    "\n",
    "if selected_path < 100:\n",
    "    path_str = str(selected_path).zfill(3)\n",
    "else:\n",
    "    path_str = str(selected_path)\n",
    "\n",
    "\n",
    "# zfill() block and string it\n",
    "if selected_block < 10:\n",
    "    block_str = str(selected_block).zfill(2)\n",
    "else:\n",
    "    block_str = str(selected_block)"
   ]
  },
  {
   "cell_type": "code",
   "execution_count": 29,
   "id": "2740d9cd",
   "metadata": {},
   "outputs": [
    {
     "name": "stdout",
     "output_type": "stream",
     "text": [
      "looking for pattern: roughness_toa_refl_P085_O088243_B028.dat\n",
      "found:\n",
      "[]\n"
     ]
    },
    {
     "ename": "ValueError",
     "evalue": "roughness list is empty! did not find roughness file!",
     "output_type": "error",
     "traceback": [
      "\u001b[0;31m---------------------------------------------------------------------------\u001b[0m",
      "\u001b[0;31mValueError\u001b[0m                                Traceback (most recent call last)",
      "\u001b[0;32m/var/folders/0l/r3vc28ks6n99yn157sn20whw0000gn/T/ipykernel_19083/914720182.py\u001b[0m in \u001b[0;36m<module>\u001b[0;34m\u001b[0m\n\u001b[1;32m     10\u001b[0m \u001b[0;34m\u001b[0m\u001b[0m\n\u001b[1;32m     11\u001b[0m \u001b[0;32mif\u001b[0m \u001b[0;34m(\u001b[0m\u001b[0mlen\u001b[0m\u001b[0;34m(\u001b[0m\u001b[0mrough_file_list\u001b[0m\u001b[0;34m)\u001b[0m \u001b[0;34m<\u001b[0m \u001b[0;36m1\u001b[0m\u001b[0;34m)\u001b[0m\u001b[0;34m:\u001b[0m\u001b[0;34m\u001b[0m\u001b[0;34m\u001b[0m\u001b[0m\n\u001b[0;32m---> 12\u001b[0;31m     \u001b[0;32mraise\u001b[0m \u001b[0mValueError\u001b[0m\u001b[0;34m(\u001b[0m\u001b[0;34m\"roughness list is empty! did not find roughness file!\"\u001b[0m\u001b[0;34m)\u001b[0m\u001b[0;34m\u001b[0m\u001b[0;34m\u001b[0m\u001b[0m\n\u001b[0m\u001b[1;32m     13\u001b[0m \u001b[0;34m\u001b[0m\u001b[0m\n\u001b[1;32m     14\u001b[0m \u001b[0;32mif\u001b[0m \u001b[0;34m(\u001b[0m\u001b[0mlen\u001b[0m\u001b[0;34m(\u001b[0m\u001b[0mrough_file_list\u001b[0m\u001b[0;34m)\u001b[0m \u001b[0;34m>\u001b[0m \u001b[0;36m1\u001b[0m\u001b[0;34m)\u001b[0m\u001b[0;34m:\u001b[0m\u001b[0;34m\u001b[0m\u001b[0;34m\u001b[0m\u001b[0m\n",
      "\u001b[0;31mValueError\u001b[0m: roughness list is empty! did not find roughness file!"
     ]
    }
   ],
   "source": [
    "#- find roughness file from pattern of roughness.dat file\n",
    "\n",
    "roughness_file_pattern = \"roughness_toa_refl_P\"+path_str+\"_O0\"+str(selected_orbit)+\"_B0\"+block_str+\".dat\"\n",
    "print('looking for pattern: %s' %roughness_file_pattern)\n",
    "\n",
    "# find roughness file\n",
    "rough_file_list = glob.glob(os.path.join(roughness_dir, roughness_file_pattern))\n",
    "print('found:')\n",
    "print(rough_file_list)\n",
    "\n",
    "if (len(rough_file_list) < 1):\n",
    "    raise ValueError(\"roughness list is empty! did not find roughness file for your POB!\")\n",
    "\n",
    "if (len(rough_file_list) > 1):\n",
    "    raise ValueError(\"roughness list has more that 1 file! there should be an error in our logic!\")"
   ]
  },
  {
   "cell_type": "code",
   "execution_count": null,
   "id": "416c96c2",
   "metadata": {},
   "outputs": [],
   "source": [
    "# open roughness binary file and change binary to array\n",
    "\n",
    "misr_rough_2d_arr = np.fromfile(rough_file_list[0], dtype=np.double)[0:1048576].reshape((512,-1))\n",
    "print(misr_rough_2d_arr.shape)"
   ]
  },
  {
   "cell_type": "code",
   "execution_count": null,
   "id": "eb6924e9",
   "metadata": {},
   "outputs": [],
   "source": [
    "print('min: %d' %misr_rough_2d_arr.min())\n",
    "print('max: %d' %misr_rough_2d_arr.max())"
   ]
  },
  {
   "cell_type": "code",
   "execution_count": null,
   "id": "a5a5f0b6",
   "metadata": {},
   "outputs": [],
   "source": [
    "# extract lat lon arrays\n",
    "\n",
    "misr_lat_2d_arr = np.fromfile(rough_file_list[0], dtype=np.double)[1048576:2097152].reshape((512,-1))\n",
    "print(misr_lat_2d_arr.dtype)\n",
    "print(misr_lat_2d_arr.shape)\n",
    "\n",
    "misr_lon_2d_arr = np.fromfile(rough_file_list[0], dtype=np.double)[2097152:3145728].reshape((512,-1))\n",
    "# print(misr_lon_2d_arr)\n"
   ]
  },
  {
   "cell_type": "code",
   "execution_count": null,
   "id": "cd3b92c6",
   "metadata": {},
   "outputs": [],
   "source": [
    "# check value for sample lat-lon\n",
    "\n",
    "for end_black in range(misr_rough_2d_arr.shape[1]):\n",
    "    if misr_rough_2d_arr[0, end_black] > 0:\n",
    "        print(end_black)\n",
    "        break"
   ]
  },
  {
   "cell_type": "code",
   "execution_count": null,
   "id": "7909f613",
   "metadata": {},
   "outputs": [],
   "source": [
    "# print(misr_rough_2d_arr[0, end_black-10])\n",
    "# print(misr_lat_2d_arr[0, end_black-10])\n",
    "# print(misr_lon_2d_arr[0, end_black-10])"
   ]
  },
  {
   "cell_type": "code",
   "execution_count": null,
   "id": "04ce7444",
   "metadata": {},
   "outputs": [],
   "source": [
    "# plot roughness array\n",
    "\n",
    "plot_here_and_write(misr_rough_2d_arr, atmmodel_dir)"
   ]
  },
  {
   "cell_type": "code",
   "execution_count": null,
   "id": "f817b521",
   "metadata": {},
   "outputs": [],
   "source": [
    "# MVP with one line for lat-lon method\n",
    "\n",
    "irow = 0\n",
    "\n",
    "# find line/sample in the selected block\n",
    "atm_line = atm_transect_in_block['line'].iloc[irow]\n",
    "atm_sample = atm_transect_in_block['sample'].iloc[irow]\n",
    "average_atm = atm_transect_in_block['mean_ATM_roughness'].iloc[irow]\n",
    "\n",
    "atm_lat = atm_transect_in_block['lat'].iloc[irow]\n",
    "atm_lon = atm_transect_in_block['lon'].iloc[irow]\n",
    "if (atm_lon>180):\n",
    "    atm_lon_west = atm_lon-360.0\n",
    "    \n",
    "print('%s, %s, %s, %s, %s' %(atm_line, atm_sample, average_atm, atm_lat, atm_lon_west))"
   ]
  },
  {
   "cell_type": "code",
   "execution_count": null,
   "id": "0a4e90f8",
   "metadata": {},
   "outputs": [],
   "source": [
    "# # extract MISR roughness based on single lat-lon\n",
    "\n",
    "# atm_lat = 81.050398\n",
    "# atm_lon = -152.181889 # should use ATM-lon West format\n",
    "\n",
    "# abslat = np.abs(misr_lat_2d_arr - atm_lat) # element-wise\n",
    "# abslon = np.abs(misr_lon_2d_arr - atm_lon) # element-wise\n",
    "\n",
    "# abslon\n",
    "\n",
    "# maximum = np.maximum(abslon, abslat)\n",
    "# print(maximum)\n",
    "\n",
    "\n",
    "# latlon_idx = np.argmin(maximum) # for flaten array and lat-lon\n",
    "# print(latlon_idx)\n",
    "\n",
    "\n",
    "# # extract MISR roughness w/lat-lon\n",
    "\n",
    "# roughness_in_grid = misr_rough_2d_arr.flat[latlon_idx]\n",
    "# roughness_in_grid\n",
    "\n",
    "\n",
    "# line_atm = (latlon_idx/2048)\n",
    "# print('line: %s' %line_atm)\n",
    "\n",
    "# sample_atm = (line_atm%1)*2048\n",
    "# print('sample: %s' %sample_atm)\n",
    "\n",
    "\n",
    "\n",
    "# # extract MISR roughness w/line-sample\n",
    "\n",
    "# rough = misr_rough_2d_arr[int(line_atm), int(sample_atm)]\n",
    "# rough\n",
    "\n",
    "\n"
   ]
  },
  {
   "cell_type": "code",
   "execution_count": null,
   "id": "77512622",
   "metadata": {},
   "outputs": [],
   "source": [
    "# # plot lat-lon diffs\n",
    "\n",
    "# plot_error_mesh(c)\n",
    "# # plot_error_mesh(abslon)"
   ]
  },
  {
   "cell_type": "markdown",
   "id": "5e703ffc",
   "metadata": {},
   "source": [
    "## find <roughess.dat> files"
   ]
  },
  {
   "cell_type": "code",
   "execution_count": null,
   "id": "78c27721",
   "metadata": {},
   "outputs": [],
   "source": [
    "# misr_roughness_in_pixel_list = [] do not use it anymore\n",
    "plot_ds = []\n",
    "\n",
    "for irow in range(atm_transect_in_block.shape[0]):\n",
    "\n",
    "    # find line/sample and mean ATM in the selected block\n",
    "    atm_line = atm_transect_in_block['line'].iloc[irow]\n",
    "    atm_sample = atm_transect_in_block['sample'].iloc[irow]\n",
    "    average_atm = atm_transect_in_block['mean_ATM_roughness'].iloc[irow]\n",
    "#     print(atm_line, atm_sample)\n",
    "    \n",
    "    atm_lat = atm_transect_in_block['lat'].iloc[irow]\n",
    "    atm_lon = atm_transect_in_block['lon'].iloc[irow]\n",
    "    \n",
    "    if (atm_lon>180):\n",
    "        atm_lon_west = atm_lon-360.0\n",
    "        \n",
    "\n",
    "\n",
    "    ######## we find MISR L-S==pixel that ATM sample falls into it   \n",
    "    # each pixel\n",
    "    misr_roughness_in_pixel_lineSample = misr_rough_2d_arr[atm_line, atm_sample]\n",
    "    misr_neighborhood_ls = misr_roughness_in_pixel_lineSample\n",
    "    \n",
    "    \n",
    "    # average of neighborhood \n",
    "#     misr_roughness_in_pixel_lineSample = misr_rough_2d_arr[atm_line, atm_sample]\n",
    "#     misr_roughness_in_pixel_lineSample_up = misr_rough_2d_arr[atm_line-1, atm_sample]\n",
    "#     misr_roughness_in_pixel_lineSample_down = misr_rough_2d_arr[atm_line+1, atm_sample]\n",
    "#     misr_roughness_in_pixel_lineSample_before = misr_rough_2d_arr[atm_line, atm_sample-1]\n",
    "#     misr_roughness_in_pixel_lineSample_after = misr_rough_2d_arr[atm_line, atm_sample+1]\n",
    "#     misr_roughness_in_pixel_lineSample_up_before = misr_rough_2d_arr[atm_line-1, atm_sample-1]\n",
    "#     misr_roughness_in_pixel_lineSample_up_after = misr_rough_2d_arr[atm_line-1, atm_sample+1]\n",
    "#     misr_roughness_in_pixel_lineSample_down_before = misr_rough_2d_arr[atm_line+1, atm_sample-1]\n",
    "#     misr_roughness_in_pixel_lineSample_down_after = misr_rough_2d_arr[atm_line+1, atm_sample+1]\n",
    "\n",
    "#     misr_neighborhood_ls = [misr_roughness_in_pixel_lineSample,\n",
    "#                            misr_roughness_in_pixel_lineSample_up,\n",
    "#                            misr_roughness_in_pixel_lineSample_down,\n",
    "#                            misr_roughness_in_pixel_lineSample_before,\n",
    "#                            misr_roughness_in_pixel_lineSample_after,\n",
    "#                            misr_roughness_in_pixel_lineSample_up_before,\n",
    "#                            misr_roughness_in_pixel_lineSample_up_after,\n",
    "#                            misr_roughness_in_pixel_lineSample_down_before,\n",
    "#                            misr_roughness_in_pixel_lineSample_down_after]\n",
    "    \n",
    "    \n",
    "    misr_roughness_in_pixel_ls = np.mean(misr_neighborhood_ls)\n",
    "    print('LS mean: %s' %misr_roughness_in_pixel_ls)\n",
    "    \n",
    "    #################################################################\n",
    "    \n",
    "    # find MISR pixels based on lat-lon\n",
    "    abslat = np.abs(misr_lat_2d_arr - atm_lat) # element-wise\n",
    "    abslon = np.abs(misr_lon_2d_arr - atm_lon_west) # element-wise, should use ATM lon West format here\n",
    "    # \n",
    "    maximum = np.maximum(abslon, abslat)\n",
    "    latlon_idx = np.argmin(maximum) # for flaten array and lat-lon\n",
    "    \n",
    "    \n",
    "    # based on lat-lon\n",
    "    misr_roughness_in_pixel_latlon_in_pixel = misr_rough_2d_arr.flat[latlon_idx]\n",
    "    misr_neighborhood_latlon = misr_roughness_in_pixel_latlon_in_pixel\n",
    "\n",
    "    \n",
    "    \n",
    "    \n",
    "#     misr_roughness_in_pixel_latlon_in_pixel = misr_rough_2d_arr.flat[latlon_idx]\n",
    "#     misr_roughness_in_pixel_latlon_up = misr_rough_2d_arr.flat[latlon_idx-2048]\n",
    "#     misr_roughness_in_pixel_latlon_down = misr_rough_2d_arr.flat[latlon_idx+2048]\n",
    "#     misr_roughness_in_pixel_latlon_up_before = misr_rough_2d_arr.flat[latlon_idx-2048-1]\n",
    "#     misr_roughness_in_pixel_latlon_up_after = misr_rough_2d_arr.flat[latlon_idx-2048+1]\n",
    "#     misr_roughness_in_pixel_latlon_down_before = misr_rough_2d_arr.flat[latlon_idx+2048-1]\n",
    "#     misr_roughness_in_pixel_latlon_down_after = misr_rough_2d_arr.flat[latlon_idx+2048+1]\n",
    "#     misr_roughness_in_pixel_latlon_before = misr_rough_2d_arr.flat[latlon_idx-1]\n",
    "#     misr_roughness_in_pixel_latlon_after = misr_rough_2d_arr.flat[latlon_idx+1]\n",
    "    \n",
    "    \n",
    "    \n",
    "    \n",
    "#     misr_neighborhood_latlon = [misr_roughness_in_pixel_latlon_in_pixel,\\\n",
    "#                          misr_roughness_in_pixel_latlon_up,\\\n",
    "#                          misr_roughness_in_pixel_latlon_down,\\\n",
    "#                          misr_roughness_in_pixel_latlon_up_before,\\\n",
    "#                          misr_roughness_in_pixel_latlon_up_after,\\\n",
    "#                          misr_roughness_in_pixel_latlon_down_before,\\\n",
    "#                          misr_roughness_in_pixel_latlon_down_after,\\\n",
    "#                          misr_roughness_in_pixel_latlon_before,\\\n",
    "#                          misr_roughness_in_pixel_latlon_after]\n",
    "                         \n",
    "\n",
    "    \n",
    "#     print(misr_neighborhood)\n",
    "    misr_roughness_in_pixel_latlon = np.mean(misr_neighborhood_latlon)\n",
    "    print('latlon mean: %s' %misr_roughness_in_pixel_latlon)\n",
    "    \n",
    "\n",
    "\n",
    "\n",
    "#     c = np.maximum(abslon, abslat)\n",
    "#     latlon_idx = np.argmin(c) # for flaten array\n",
    "#     roughness_in_grid = misr_rough_2d_arr.flat[latlon_idx]\n",
    "#     print(roughness_in_grid)\n",
    "    \n",
    "    # append predixted value to our list\n",
    "    plot_ds.append((atm_line, atm_sample, atm_lat, atm_lon_west, average_atm, misr_roughness_in_pixel_ls, misr_roughness_in_pixel_latlon)) #roughness_in_grid))\n",
    "\n",
    "#     if misr_roughness > 1:\n",
    "#         misr_roughness_in_pixel_list.append(misr_roughness)\n",
    "#     else:\n",
    "#         print('MISR roughness in pixel: %s' %misr_roughness)\n",
    "#         raise ValueError(\"why MISR roughness is negative for an ATM location? model error? or something else?\")\n",
    "\n",
    "plot_ds_colName = ['atm_lin', 'atm_sample', 'atm_lat', 'atm_lon_west', 'mean_ATM', 'misr_roughness_in_pixel_lineSample', 'misr_roughness_in_pixel_latlon']\n",
    "\n",
    "print(\"\\ntotal MISR-roughness pixels found: %s\" %len(plot_ds))\n"
   ]
  },
  {
   "cell_type": "code",
   "execution_count": null,
   "id": "6a94eb5d",
   "metadata": {},
   "outputs": [],
   "source": [
    "plot_ds_colName"
   ]
  },
  {
   "cell_type": "code",
   "execution_count": null,
   "id": "35b070aa",
   "metadata": {},
   "outputs": [],
   "source": [
    "# plot_ds"
   ]
  },
  {
   "cell_type": "code",
   "execution_count": null,
   "id": "afe365a0",
   "metadata": {},
   "outputs": [],
   "source": [
    "atm_transect_in_block.columns"
   ]
  },
  {
   "cell_type": "code",
   "execution_count": null,
   "id": "42802ab5",
   "metadata": {},
   "outputs": [],
   "source": [
    "# # build a single DF from both ATM and MISR lists and add \"misr_roughness_in_pixel_list\" to it\n",
    "\n",
    "# atm_transect_in_block['MISR-roughness'] = misr_roughness_in_pixel_list\n",
    "# atm_transect_in_block.columns"
   ]
  },
  {
   "cell_type": "code",
   "execution_count": null,
   "id": "666ad070",
   "metadata": {},
   "outputs": [],
   "source": [
    "# # remove negative values from DF\n",
    "\n",
    "# negative_misr_index_list = atm_transect_in_block.loc[atm_transect_in_block['MISR-roughness'] < 0].index\n",
    "# print(\"size of list before removing negative MISR-rough data: %s\" %len(atm_transect_in_block))\n",
    "# atm_transect_in_block.drop(negative_misr_index_list, axis='index', inplace=True)\n",
    "# print(\"size of list after removing negative MISR-rough data: %s\" %len(atm_transect_in_block))\n"
   ]
  },
  {
   "cell_type": "code",
   "execution_count": null,
   "id": "03c7f723",
   "metadata": {},
   "outputs": [],
   "source": [
    "# row_count = atm_transect_in_block.shape[0]\n",
    "# row_count"
   ]
  },
  {
   "cell_type": "code",
   "execution_count": null,
   "id": "97509927",
   "metadata": {},
   "outputs": [],
   "source": [
    "# build a dataframe from list\n",
    "\n",
    "plot_df = pd.DataFrame(plot_ds, columns=plot_ds_colName)\n",
    "plot_df['misr_roughness_in_pixel_latlon'].head(10)"
   ]
  },
  {
   "cell_type": "code",
   "execution_count": null,
   "id": "14a0e691",
   "metadata": {},
   "outputs": [],
   "source": [
    "print(plot_df.columns)"
   ]
  },
  {
   "cell_type": "code",
   "execution_count": null,
   "id": "04ee1ac9",
   "metadata": {},
   "outputs": [],
   "source": [
    "# remove -1 from dataset\n",
    "\n",
    "remove_negatives(plot_df, 'misr_roughness_in_pixel_latlon')\n",
    "# plot_df"
   ]
  },
  {
   "cell_type": "markdown",
   "id": "0f621c1b",
   "metadata": {},
   "source": [
    "## plot transect"
   ]
  },
  {
   "cell_type": "code",
   "execution_count": null,
   "id": "b9bad544",
   "metadata": {},
   "outputs": [],
   "source": [
    "# # plot based on line-sample\n",
    "# x= range(plot_df.shape[0])\n",
    "# fig1, ax = plt.subplots(figsize=(10, 6))\n",
    "# # Specify how our lines should look\n",
    "# ax.plot(x, plot_df['mean_ATM'], color='black', label='mean-ATM-per-pixel')\n",
    "# ax.plot(x, plot_df['misr_roughness_in_pixel_lineSample'], color='red', label='MISR-estimate-per-pixel')\n",
    "# # Same as above\n",
    "# ax.set_ylim([0, 60])\n",
    "# ax.set_xlabel('Arbitrary Distance Along ATM-MISR Transect')\n",
    "# ax.set_ylabel('Roughness (cm)')\n",
    "# ax.set_title('ATM and MISR-estimated Sea Ice Roughness LineSample_Pixel-based')\n",
    "# ax.grid(True)\n",
    "# ax.legend(loc='upper right')\n",
    "\n",
    "\n",
    "# # save plot\n",
    "# plot_name = \"trans_linesample_\"+sim_month+'_'+'npts_'+str(atm_npts)+'_p'+str(selected_path)+'_'+'o'+str(selected_orbit)+'_'+'b'+str(selected_block)\n",
    "# # plot_name\n",
    "# # plot_output_dir\n",
    "# fig1.savefig(os.path.join(plot_output_dir, plot_name))\n",
    "\n"
   ]
  },
  {
   "cell_type": "code",
   "execution_count": null,
   "id": "bb80bffe",
   "metadata": {},
   "outputs": [],
   "source": [
    "# plot based on lat-lon\n",
    "x= range(plot_df.shape[0])\n",
    "fig2, ax = plt.subplots(figsize=(10, 6))\n",
    "# Specify how our lines should look\n",
    "ax.plot(x, plot_df['mean_ATM'], color='black', label='mean-ATM-per-LatLong')\n",
    "ax.plot(x, plot_df['misr_roughness_in_pixel_latlon'], color='red', label='MISR-estimate-per-pixel-LatLon')\n",
    "# Same as above\n",
    "ax.set_ylim([0, 60])\n",
    "ax.set_xlabel('Arbitrary Distance Along ATM-MISR Transect')\n",
    "ax.set_ylabel('Roughness (cm)')\n",
    "ax.set_title('ATM and MISR-estimated Sea Ice Roughness LatLon-based')\n",
    "ax.grid(True)\n",
    "ax.legend(loc='upper right');\n",
    "\n",
    "\n",
    "# save plot\n",
    "plot_name = \"trans_latlon_\"+sim_month+'_'+'npts_'+str(atm_npts)+'_p'+str(selected_path)+'_'+'o'+str(selected_orbit)+'_'+'b'+str(selected_block)\n",
    "plot_name\n",
    "# plot_output_dir\n",
    "fig2.savefig(os.path.join(plot_output_dir, plot_name))\n"
   ]
  },
  {
   "cell_type": "code",
   "execution_count": null,
   "id": "21f162f7",
   "metadata": {},
   "outputs": [],
   "source": [
    "# # x = range(len(misr_roughness_in_pixel_list))\n",
    "# x= range(row_count)\n",
    "\n",
    "# fig, ax = plt.subplots(figsize=(10, 6))\n",
    "\n",
    "# # Specify how our lines should look\n",
    "# ax.plot(x, atm_transect_in_block['mean_ATM_roughness'], color='black', label='mean-ATM-per-pixel')\n",
    "# ax.plot(x, atm_transect_in_block['MISR-roughness'], color='red', label='MISR-estimated-per-pixel')\n",
    "\n",
    "# # Same as above\n",
    "# ax.set_xlabel('Arbitrary Distance Along ATM-MISR Transect')\n",
    "# ax.set_ylabel('Roughness (cm)')\n",
    "# ax.set_title('ATM and MISR-estimated Sea Ice Roughness')\n",
    "# ax.grid(True)\n",
    "# ax.legend(loc='upper right');"
   ]
  },
  {
   "cell_type": "code",
   "execution_count": null,
   "id": "a718dcb6",
   "metadata": {},
   "outputs": [],
   "source": [
    "bin_size = 20"
   ]
  },
  {
   "cell_type": "markdown",
   "id": "ab50ede0",
   "metadata": {},
   "source": [
    "## histogram of transect"
   ]
  },
  {
   "cell_type": "code",
   "execution_count": null,
   "id": "a3d8329c",
   "metadata": {},
   "outputs": [],
   "source": [
    "# plt.hist(plot_df['mean_ATM'], density=True, bins=bin_size, label='ATM', color='black', alpha=0.5)  # density=False would make counts\n",
    "# plt.hist(plot_df['misr_roughness_in_pixel_lineSample'], density=True, bins=bin_size, label='MISR', color='red', alpha=0.5)  # density=False would make counts\n",
    "# plt.xlim(0,80)\n",
    "\n",
    "# plt.xlabel('Roughness')\n",
    "# plt.ylabel('Frequency')\n",
    "# plt.legend(loc=\"upper right\")\n",
    "# plt.title(\"Histogram\")\n"
   ]
  },
  {
   "cell_type": "code",
   "execution_count": null,
   "id": "40b7e7ac",
   "metadata": {},
   "outputs": [],
   "source": [
    "plt.hist(plot_df['mean_ATM'], density=True, bins=bin_size, label='ATM', color='black', alpha=0.5)  # density=False would make counts\n",
    "plt.hist(plot_df['misr_roughness_in_pixel_latlon'], density=True, bins=bin_size, label='MISR', color='red', alpha=0.5)  # density=False would make counts\n",
    "plt.xlim(0,80)\n",
    "\n",
    "plt.xlabel('Roughness')\n",
    "plt.ylabel('Frequency')\n",
    "plt.legend(loc=\"upper right\")\n",
    "plt.title(\"Histogram\")\n",
    "\n",
    "\n",
    "# save plot\n",
    "plot_name = \"hist_latlon_\"+sim_month+'_'+'npts_'+str(atm_npts)+'_p'+str(selected_path)+'_'+'o'+str(selected_orbit)+'_'+'b'+str(selected_block)\n",
    "plot_name\n",
    "# plot_output_dir\n",
    "plt.savefig(os.path.join(plot_output_dir, plot_name))\n"
   ]
  },
  {
   "cell_type": "markdown",
   "id": "fe6b9dac",
   "metadata": {},
   "source": [
    "## statistics of transect"
   ]
  },
  {
   "cell_type": "code",
   "execution_count": null,
   "id": "722d028c",
   "metadata": {},
   "outputs": [],
   "source": [
    "# describe the statistics\n",
    "\n",
    "stats_atm = plot_df['mean_ATM'].describe()\n",
    "print(stats_atm)\n",
    "\n",
    "stats_name = \"stats_atm_\"+sim_month+'_'+'npts_'+str(atm_npts)+'_p'+str(selected_path)+'_'+'o'+str(selected_orbit)+'_'+'b'+str(selected_block)+'.csv'\n",
    "print(stats_name)\n",
    "\n",
    "stats_atm.to_csv(os.path.join(plot_output_dir, stats_name))\n"
   ]
  },
  {
   "cell_type": "code",
   "execution_count": null,
   "id": "e237b229",
   "metadata": {},
   "outputs": [],
   "source": [
    "stats_misr = plot_df['misr_roughness_in_pixel_latlon'].describe()\n",
    "print(stats_misr)\n",
    "\n",
    "stats_name = \"stats_misr_predict_\"+sim_month+'_'+'npts_'+str(atm_npts)+'_p'+str(selected_path)+'_'+'o'+str(selected_orbit)+'_'+'b'+str(selected_block)+'.csv'\n",
    "print(stats_name)\n",
    "\n",
    "stats_atm.to_csv(os.path.join(plot_output_dir, stats_name))\n"
   ]
  },
  {
   "cell_type": "markdown",
   "id": "0375866f",
   "metadata": {},
   "source": [
    "## now calculate histogram and statistics for the whole BOX"
   ]
  },
  {
   "cell_type": "code",
   "execution_count": null,
   "id": "246ad154",
   "metadata": {},
   "outputs": [],
   "source": [
    "# misr_roughness_in_pixel_list_box = find_misr_roughness_per_pixel(atm_transect_small)"
   ]
  },
  {
   "cell_type": "code",
   "execution_count": null,
   "id": "4131436f",
   "metadata": {},
   "outputs": [],
   "source": [
    "# # build a single DF from both ATM and MISR lists and add \"misr_roughness_in_pixel_list\" to it\n",
    "\n",
    "# atm_transect_small['MISR-roughness'] = misr_roughness_in_pixel_list_box\n",
    "# atm_transect_small.columns"
   ]
  },
  {
   "cell_type": "code",
   "execution_count": null,
   "id": "7db01f70",
   "metadata": {},
   "outputs": [],
   "source": [
    "# # remove negative values from DF\n",
    "\n",
    "# negative_misr_index_list_box = atm_transect_small.loc[atm_transect_small['MISR-roughness'] < 0].index\n",
    "# print(\"size of list before removing negative MISR-rough data: %s\" %len(atm_transect_small))\n",
    "\n",
    "# atm_transect_small.drop(negative_misr_index_list_box, axis='index', inplace=True)\n",
    "# print(\"size of list after removing negative MISR-rough data: %s\" %len(atm_transect_small))\n"
   ]
  },
  {
   "cell_type": "markdown",
   "id": "6c53fa7f",
   "metadata": {},
   "source": [
    "## plot histogram for BOX"
   ]
  },
  {
   "cell_type": "code",
   "execution_count": null,
   "id": "4d118f99",
   "metadata": {},
   "outputs": [],
   "source": [
    "# hist_bounds = [0,5,10,15,20,25,30,35,40,45,50,55,60,65,70,75,80]\n",
    "# n, bins, bounds=plt.hist(atm_transect_small['mean_ATM_roughness'], density=True, bins=hist_bounds, label='ATM', color='black', alpha=0.5)  # density=False would make counts\n",
    "# plt.hist(atm_transect_small['MISR-roughness'], density=True, bins=hist_bounds, label='MISR', color='red', alpha=0.5)  # density=False would make counts\n",
    "\n",
    "# plt.xticks(bins)\n",
    "# plt.xlabel('Roughness')\n",
    "# # plt.xticks(range(10))\n",
    "\n",
    "# plt.ylabel('Frequency')\n",
    "# plt.legend(loc=\"upper right\")\n",
    "# plt.title(\"ATM vs. MISR for %s\" %sim_month)\n"
   ]
  },
  {
   "cell_type": "code",
   "execution_count": null,
   "id": "e18ba0ea",
   "metadata": {},
   "outputs": [],
   "source": [
    "# # describe ATM statistics of BOX\n",
    "\n",
    "# atm_transect_small['mean_ATM_roughness'].describe()"
   ]
  },
  {
   "cell_type": "code",
   "execution_count": null,
   "id": "e89ba704",
   "metadata": {},
   "outputs": [],
   "source": [
    "# # describe MISR statistics of BOX\n",
    "\n",
    "# atm_transect_small['MISR-roughness'].describe()"
   ]
  },
  {
   "cell_type": "code",
   "execution_count": null,
   "id": "678e045b",
   "metadata": {},
   "outputs": [],
   "source": [
    "# April- good\n",
    "\n",
    "# selected_path = 122\n",
    "# selected_orbit = 86891\n",
    "# selected_block = 19"
   ]
  },
  {
   "cell_type": "code",
   "execution_count": null,
   "id": "1d482722",
   "metadata": {},
   "outputs": [],
   "source": []
  },
  {
   "cell_type": "code",
   "execution_count": null,
   "id": "9a6304fb",
   "metadata": {},
   "outputs": [],
   "source": []
  },
  {
   "cell_type": "code",
   "execution_count": null,
   "id": "244f4437",
   "metadata": {},
   "outputs": [],
   "source": []
  }
 ],
 "metadata": {
  "kernelspec": {
   "display_name": "Python 3 (ipykernel)",
   "language": "python",
   "name": "python3"
  },
  "language_info": {
   "codemirror_mode": {
    "name": "ipython",
    "version": 3
   },
   "file_extension": ".py",
   "mimetype": "text/x-python",
   "name": "python",
   "nbconvert_exporter": "python",
   "pygments_lexer": "ipython3",
   "version": "3.9.7"
  }
 },
 "nbformat": 4,
 "nbformat_minor": 5
}
