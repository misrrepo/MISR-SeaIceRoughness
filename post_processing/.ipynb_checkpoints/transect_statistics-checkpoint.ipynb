{
 "cells": [
  {
   "cell_type": "code",
   "execution_count": 1,
   "id": "27a47a87",
   "metadata": {},
   "outputs": [],
   "source": [
    "import pandas as pd\n",
    "import matplotlib.pyplot as plt\n",
    "import numpy as np\n",
    "# import MisrToolkit as mtk # needs python3.6\n",
    "# from mpl_toolkits.basemap import Basemap # needs python 3.8?\n",
    "import sys # to check python version\n",
    "import os\n",
    "import glob\n",
    "import datetime as dt"
   ]
  },
  {
   "cell_type": "code",
   "execution_count": null,
   "id": "1a2da7f2",
   "metadata": {},
   "outputs": [],
   "source": [
    "# load training dataset\n",
    "\n",
    "home_dir = \"/media/ehsan/6T_part1/2016/april_2016/14528_apr2016/project_april_2016_3cam/training_data\"\n",
    "# in_csv = \"myMethod_merged_april_2016_9cam_4bands_training_dataset.csv\"\n",
    "in_csv = \"oldMethod_MisrAtmCalibratedModel_april_2016_training_dataset.csv\"\n",
    "\n",
    "ds_fp = os.path.join(home_dir, in_csv)"
   ]
  },
  {
   "cell_type": "code",
   "execution_count": null,
   "id": "e2e80fbc",
   "metadata": {},
   "outputs": [],
   "source": [
    "# select a smaller subset of transect, like the first 1000 points (or 10)\n",
    "\n",
    "transect_small = transect.iloc[0:10000]\n",
    "transect_small.head()"
   ]
  }
 ],
 "metadata": {
  "kernelspec": {
   "display_name": "Python 3",
   "language": "python",
   "name": "python3"
  },
  "language_info": {
   "codemirror_mode": {
    "name": "ipython",
    "version": 3
   },
   "file_extension": ".py",
   "mimetype": "text/x-python",
   "name": "python",
   "nbconvert_exporter": "python",
   "pygments_lexer": "ipython3",
   "version": "3.6.9"
  }
 },
 "nbformat": 4,
 "nbformat_minor": 5
}
