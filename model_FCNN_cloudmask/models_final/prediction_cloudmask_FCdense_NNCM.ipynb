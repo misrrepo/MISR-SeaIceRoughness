{
 "cells": [
  {
   "cell_type": "code",
   "execution_count": 1,
   "id": "581c2f07",
   "metadata": {},
   "outputs": [
    {
     "data": {
      "text/plain": [
       "'\\n*********************************************\\nthis code produces (prediction) cloud-mask binary data products for a MISR image blocks that we used in SIR prediction.\\n*********************************************\\nsteps:\\nload the model and use the trained model for prediction.\\nproduce cloud-mask binary files.\\nthen we use these cloud-mask binary files in the SIR.c code and predict the SIR \\nand check if SIR predictions have improved\\n\\ninputs: (9x red-band from all cameras @toa_refl_dir\\n\\noutput: predicted cloud-mask (binary file) for each MISR block @toa_refl_dir\\n*********************************************\\nreminder: \\nclass one: cloudy\\nclass zero: clear\\n*********************************************\\nto-do later:\\ncheck file type of cloudmask inside SIR code; what format does input cloudmask file have in that code?\\nfor-loop for the whole code\\nmake a list of POB form all available toa-refls to keep count \\n\\nok- extract POB fro toa-refl\\nok- fillvalue from previous MISR cloudmasks?\\nok- skip a pixel if there is [-1]?\\nok- update the the predicted categorical list with fillvalue using indexing and assignment\\n*********************************************\\n? check 0,1 output in cloudmask output file; shoudl be binary, not float? \\n>>> output cloudmask format is now [int8] [8 bits== range[-128,127]]; -2 is the fillvalue\\n\\n? check format of this cloudmask as input file to the next code (atmmodel?) dtype= uint8? or int8?\\n\\n\\nthen:\\n? run for a cloudy image and compare with baseline==visual conformation\\n\\n\\nfinally- I need a code to read a cloudmask binary file and update the traning dataset for a specific cloudy block and then update the specific column for future comparison between my model and MISR cloudmasks\\n\\n\\n'"
      ]
     },
     "execution_count": 1,
     "metadata": {},
     "output_type": "execute_result"
    }
   ],
   "source": [
    "'''\n",
    "*********************************************\n",
    "this code produces (prediction) cloud-mask binary data products for a MISR image blocks that we used in SIR prediction.\n",
    "*********************************************\n",
    "steps:\n",
    "load the model and use the trained model for prediction.\n",
    "produce cloud-mask binary files.\n",
    "then we use these cloud-mask binary files in the SIR.c code and predict the SIR \n",
    "and check if SIR predictions have improved\n",
    "\n",
    "inputs: (9x red-band from all cameras @toa_refl_dir\n",
    "\n",
    "output: predicted cloud-mask (binary file) for each MISR block @toa_refl_dir\n",
    "*********************************************\n",
    "reminder: \n",
    "class one: cloudy\n",
    "class zero: clear\n",
    "*********************************************\n",
    "to-do later:\n",
    "check file type of cloudmask inside SIR code; what format does input cloudmask file have in that code?\n",
    "for-loop for the whole code\n",
    "make a list of POB form all available toa-refls to keep count \n",
    "\n",
    "ok- extract POB fro toa-refl\n",
    "ok- fillvalue from previous MISR cloudmasks?\n",
    "ok- skip a pixel if there is [-1]?\n",
    "ok- update the the predicted categorical list with fillvalue using indexing and assignment\n",
    "*********************************************\n",
    "? check 0,1 output in cloudmask output file; shoudl be binary, not float? \n",
    ">>> output cloudmask format is now [int8] [8 bits== range[-128,127]]; -2 is the fillvalue\n",
    "\n",
    "? check format of this cloudmask as input file to the next code (atmmodel?) dtype= uint8? or int8?\n",
    "\n",
    "\n",
    "then:\n",
    "? run for a cloudy image and compare with baseline==visual conformation\n",
    "\n",
    "\n",
    "finally- I need a code to read a cloudmask binary file and update the traning dataset for a specific cloudy block and then update the specific column for future comparison between my model and MISR cloudmasks\n",
    "\n",
    "\n",
    "'''"
   ]
  },
  {
   "cell_type": "code",
   "execution_count": 2,
   "id": "19a656ad",
   "metadata": {},
   "outputs": [],
   "source": [
    "run_month = 'April'\n",
    "\n",
    "write_nncm_binary = True\n",
    "plot_nncm = True"
   ]
  },
  {
   "cell_type": "code",
   "execution_count": 3,
   "id": "b5a44c13",
   "metadata": {},
   "outputs": [],
   "source": [
    "import os\n",
    "from glob import glob\n",
    "import numpy as np\n",
    "from keras.models import load_model\n",
    "from matplotlib import pyplot as plt"
   ]
  },
  {
   "cell_type": "code",
   "execution_count": 4,
   "id": "41275d91",
   "metadata": {},
   "outputs": [],
   "source": [
    "# load input files for the model\n",
    "# inputs: 9xTOA reflectance red bands- order is important\n",
    "\n",
    "# model dir path\n",
    "model_dir = \"/Users/ehsanmos/MLP_dataset/cloudmask_lab/models_and_trainingDS/models_final\"\n",
    "\n",
    "# root directory where everything is there\n",
    "root_dir = \"/Users/ehsanmos/MLP_dataset/cloudmask_lab/predict_test_cloudmask/p71_o87048_b28_april\""
   ]
  },
  {
   "cell_type": "code",
   "execution_count": 5,
   "id": "36ff6b87",
   "metadata": {},
   "outputs": [],
   "source": [
    "# where toa-refl files are\n",
    "toa_refl_dir = root_dir\n",
    "\n",
    "# where to save output bin file\n",
    "output_predict_dir = root_dir\n",
    "\n",
    "# where to save plots\n",
    "plot_dir = root_dir"
   ]
  },
  {
   "cell_type": "markdown",
   "id": "a5bafb7a",
   "metadata": {},
   "source": [
    "## >>> do not change anything else <<<"
   ]
  },
  {
   "cell_type": "code",
   "execution_count": 6,
   "id": "67e0a0f9",
   "metadata": {},
   "outputs": [
    {
     "name": "stdout",
     "output_type": "stream",
     "text": [
      "model was found!\n"
     ]
    }
   ],
   "source": [
    "# set path to model & directory\n",
    "\n",
    "if (run_month == 'April'):\n",
    "    model_name = \"model_April_loss0.27_acc0.91.h5\"\n",
    "\n",
    "if (run_month == 'July'):\n",
    "    model_name = \"model_July_loss0.25_acc0.91.h5\"\n",
    "    \n",
    "# check if model file is availabel\n",
    "check_ret = os.path.isfile(os.path.join(model_dir, model_name))\n",
    "if (not check_ret):\n",
    "    print('model is not available!')\n",
    "    raise SystemExit(\"program exited\")\n",
    "else:\n",
    "    print('model was found!')"
   ]
  },
  {
   "cell_type": "markdown",
   "id": "fcea854c",
   "metadata": {},
   "source": [
    "### load the model for april/july"
   ]
  },
  {
   "cell_type": "code",
   "execution_count": 7,
   "id": "53f9d1b9",
   "metadata": {},
   "outputs": [
    {
     "name": "stdout",
     "output_type": "stream",
     "text": [
      "Model: \"sequential\"\n",
      "_________________________________________________________________\n",
      " Layer (type)                Output Shape              Param #   \n",
      "=================================================================\n",
      " dense (Dense)               (None, 64)                640       \n",
      "                                                                 \n",
      " dense_1 (Dense)             (None, 32)                2080      \n",
      "                                                                 \n",
      " dense_2 (Dense)             (None, 2)                 66        \n",
      "                                                                 \n",
      "=================================================================\n",
      "Total params: 2786 (10.88 KB)\n",
      "Trainable params: 2786 (10.88 KB)\n",
      "Non-trainable params: 0 (0.00 Byte)\n",
      "_________________________________________________________________\n"
     ]
    }
   ],
   "source": [
    "# set path to the model dir\n",
    "model_fp = os.path.join(model_dir, model_name) \n",
    "\n",
    "# load model\n",
    "mlp_model_best = load_model(model_fp)\n",
    "\n",
    "# summarize model\n",
    "mlp_model_best.summary()"
   ]
  },
  {
   "cell_type": "code",
   "execution_count": 8,
   "id": "35b36654",
   "metadata": {},
   "outputs": [],
   "source": [
    "# check toa-refl directory available"
   ]
  },
  {
   "cell_type": "code",
   "execution_count": 9,
   "id": "122d373b",
   "metadata": {},
   "outputs": [
    {
     "name": "stdout",
     "output_type": "stream",
     "text": [
      "9\n"
     ]
    }
   ],
   "source": [
    "# get a list of toa_refl files\n",
    "\n",
    "toa_refl_filePattern = \"toa_refl_P*.dat\"\n",
    "\n",
    "toa_refl_list = glob(os.path.join(toa_refl_dir, toa_refl_filePattern))\n",
    "print(len(toa_refl_list))\n"
   ]
  },
  {
   "cell_type": "code",
   "execution_count": 10,
   "id": "bd3fc59c",
   "metadata": {},
   "outputs": [
    {
     "data": {
      "text/plain": [
       "['/Users/ehsanmos/MLP_dataset/cloudmask_lab/predict_test_cloudmask/p71_o87048_b28_april/toa_refl_P071_O087048_B028_df_red.dat',\n",
       " '/Users/ehsanmos/MLP_dataset/cloudmask_lab/predict_test_cloudmask/p71_o87048_b28_april/toa_refl_P071_O087048_B028_aa_red.dat',\n",
       " '/Users/ehsanmos/MLP_dataset/cloudmask_lab/predict_test_cloudmask/p71_o87048_b28_april/toa_refl_P071_O087048_B028_bf_red.dat',\n",
       " '/Users/ehsanmos/MLP_dataset/cloudmask_lab/predict_test_cloudmask/p71_o87048_b28_april/toa_refl_P071_O087048_B028_cf_red.dat',\n",
       " '/Users/ehsanmos/MLP_dataset/cloudmask_lab/predict_test_cloudmask/p71_o87048_b28_april/toa_refl_P071_O087048_B028_da_red.dat',\n",
       " '/Users/ehsanmos/MLP_dataset/cloudmask_lab/predict_test_cloudmask/p71_o87048_b28_april/toa_refl_P071_O087048_B028_af_red.dat',\n",
       " '/Users/ehsanmos/MLP_dataset/cloudmask_lab/predict_test_cloudmask/p71_o87048_b28_april/toa_refl_P071_O087048_B028_an_red.dat',\n",
       " '/Users/ehsanmos/MLP_dataset/cloudmask_lab/predict_test_cloudmask/p71_o87048_b28_april/toa_refl_P071_O087048_B028_ba_red.dat',\n",
       " '/Users/ehsanmos/MLP_dataset/cloudmask_lab/predict_test_cloudmask/p71_o87048_b28_april/toa_refl_P071_O087048_B028_ca_red.dat']"
      ]
     },
     "execution_count": 10,
     "metadata": {},
     "output_type": "execute_result"
    }
   ],
   "source": [
    "toa_refl_list"
   ]
  },
  {
   "cell_type": "code",
   "execution_count": 11,
   "id": "695e1e14",
   "metadata": {},
   "outputs": [
    {
     "name": "stdout",
     "output_type": "stream",
     "text": [
      "p-o-b was added to list\n"
     ]
    },
    {
     "data": {
      "text/plain": [
       "['P071_O087048_B028']"
      ]
     },
     "execution_count": 11,
     "metadata": {},
     "output_type": "execute_result"
    }
   ],
   "source": [
    "# make a list of POB form all available toa-refls to keep count of the number fo toa-refl files available\n",
    "\n",
    "p_o_b_process_list = []\n",
    "\n",
    "for toa_refl in toa_refl_list:\n",
    "    #print(toa_refl)\n",
    "    p_o_b_list = toa_refl.split('/')[-1].split('_')[2:5]\n",
    "#     print(p_o_b_list)\n",
    "    #print(file_name.split('_')[2:4])\n",
    "#     p_o_list = file_name.split('_')[2:4]\n",
    "    p_o_b = p_o_b_list[0]+\"_\"+p_o_b_list[1]+\"_\"+p_o_b_list[2]\n",
    "#     print(p_o_b)\n",
    "\n",
    "    if p_o_b in p_o_b_process_list:\n",
    "        continue\n",
    "    else:\n",
    "        p_o_b_process_list.append(p_o_b)\n",
    "        print(\"p-o-b was added to list\")\n",
    "        \n",
    "        \n",
    "p_o_b_process_list"
   ]
  },
  {
   "cell_type": "code",
   "execution_count": 12,
   "id": "e17637cc",
   "metadata": {},
   "outputs": [
    {
     "name": "stdout",
     "output_type": "stream",
     "text": [
      "sample POB string: P071_O087048_B028\n"
     ]
    }
   ],
   "source": [
    "'''\n",
    "define and open toa-refl files from 9x cameras in the order based on order of input to FCNN == based on order of cameras in training dataset\n",
    "later select toa-refls based on POB from inventory; then in the for-loop\n",
    "'''\n",
    "\n",
    "# for-loop here for every POB in the p_o_b_process_list, open each 9 files together and process them\n",
    "\n",
    "# for POB in p_o_b_process_list\"\n",
    "POB = p_o_b_process_list[0] # get the first one on the list manually\n",
    "print('sample POB string: %s' %POB)\n",
    "\n",
    "# cf_r = \"toa_refl_\"+p_o+\"_B0\"+toa_block+\"_cf_red.dat\"\n",
    "da_r = 'toa_refl_'+POB+'_da_red.dat'\n",
    "# print(da_r)\n",
    "df_r = 'toa_refl_'+POB+'_df_red.dat'\n",
    "ca_r = 'toa_refl_'+POB+'_ca_red.dat'\n",
    "cf_r = 'toa_refl_'+POB+'_cf_red.dat'\n",
    "ba_r = 'toa_refl_'+POB+'_ba_red.dat'\n",
    "bf_r = 'toa_refl_'+POB+'_bf_red.dat'\n",
    "aa_r = 'toa_refl_'+POB+'_aa_red.dat'\n",
    "af_r = 'toa_refl_'+POB+'_af_red.dat'\n",
    "an_r = 'toa_refl_'+POB+'_an_red.dat'\n",
    "\n",
    "\n",
    "\n",
    "########### open and read toa-refl as np-arr\n",
    "if (os.path.isfile(os.path.join(toa_refl_dir, an_r))==False):\n",
    "    print(\"block not found- continue\")\n",
    "#     continue\n",
    "an_r_arr = np.fromfile(os.path.join(toa_refl_dir, an_r), dtype=np.double)[0:1048576].reshape((512,2048))\n",
    "## check black- continue:\n",
    "if (np.median(an_r_arr) == -1.0):\n",
    "    print(\"image black- continue\")\n",
    "#     continue\n",
    "\n",
    "\n",
    "\n",
    "########### open and read toa-refl as np-arr\n",
    "if (os.path.isfile(os.path.join(toa_refl_dir, aa_r))==False):\n",
    "    print(\"block not found- continue\")\n",
    "#     continue\n",
    "aa_r_arr = np.fromfile(os.path.join(toa_refl_dir, aa_r), dtype=np.double)[0:1048576].reshape((512,2048))\n",
    "## check black- continue:\n",
    "if (np.median(aa_r_arr) == -1.0):\n",
    "    print(\"image black- continue\")\n",
    "#     continue\n",
    "\n",
    "\n",
    "\n",
    "########### open and read toa-refl as np-arr\n",
    "if (os.path.isfile(os.path.join(toa_refl_dir, af_r))==False):\n",
    "    print(\"block not found- continue\")\n",
    "#     continue\n",
    "af_r_arr = np.fromfile(os.path.join(toa_refl_dir, af_r), dtype=np.double)[0:1048576].reshape((512,2048))\n",
    "## check black- continue:\n",
    "if (np.median(af_r_arr) == -1.0):\n",
    "    print(\"image black- continue\")\n",
    "#     continue\n",
    "\n",
    "\n",
    "\n",
    "########### open and read toa-refl as np-arr\n",
    "if (os.path.isfile(os.path.join(toa_refl_dir, ba_r))==False):\n",
    "    print(\"block not found- continue\")\n",
    "#     continue\n",
    "ba_r_arr = np.fromfile(os.path.join(toa_refl_dir, ba_r), dtype=np.double)[0:1048576].reshape((512,2048))\n",
    "## check black- continue:\n",
    "if (np.median(ba_r_arr) == -1.0):\n",
    "    print(\"image black- continue\")\n",
    "#     continue\n",
    "\n",
    "\n",
    "########### open and read toa-refl as np-arr\n",
    "if (os.path.isfile(os.path.join(toa_refl_dir, bf_r))==False):\n",
    "    print(\"block not found- continue\")\n",
    "#     continue\n",
    "bf_r_arr = np.fromfile(os.path.join(toa_refl_dir, bf_r), dtype=np.double)[0:1048576].reshape((512,2048))\n",
    "## check black- continue:\n",
    "if (np.median(bf_r_arr) == -1.0):\n",
    "    print(\"image black- continue\")\n",
    "#     continue\n",
    "\n",
    "\n",
    "\n",
    "########### open and read toa-refl as np-arr\n",
    "if (os.path.isfile(os.path.join(toa_refl_dir, ca_r))==False):\n",
    "    print(\"block not found- continue\")\n",
    "#     continue\n",
    "ca_r_arr = np.fromfile(os.path.join(toa_refl_dir, ca_r), dtype=np.double)[0:1048576].reshape((512,2048))\n",
    "## check black- continue:\n",
    "if (np.median(ca_r_arr) == -1.0):\n",
    "    print(\"image black- continue\")\n",
    "#     continue\n",
    "\n",
    "\n",
    "\n",
    "########### open and read toa-refl as np-arr\n",
    "if (os.path.isfile(os.path.join(toa_refl_dir, cf_r))==False):\n",
    "    print(\"block not found- continue\")\n",
    "#     continue\n",
    "cf_r_arr = np.fromfile(os.path.join(toa_refl_dir, cf_r), dtype=np.double)[0:1048576].reshape((512,2048))\n",
    "## check black- continue:\n",
    "if (np.median(cf_r_arr) == -1.0):\n",
    "    print(\"image black- continue\")\n",
    "#     continue\n",
    "\n",
    "\n",
    "########### open and read toa-refl as np-arr\n",
    "if (os.path.isfile(os.path.join(toa_refl_dir, da_r))==False):\n",
    "    print(\"block not found- continue\")\n",
    "#     continue\n",
    "da_r_arr = np.fromfile(os.path.join(toa_refl_dir, da_r), dtype=np.double)[0:1048576].reshape((512,2048))\n",
    "## check black- continue:\n",
    "if (np.median(da_r_arr) == -1.0):\n",
    "    print(\"image black- continue\")\n",
    "#     continue\n",
    "\n",
    "\n",
    "########### open and read toa-refl as np-arr\n",
    "if (os.path.isfile(os.path.join(toa_refl_dir, df_r))==False):\n",
    "    print(\"block not found- continue\")\n",
    "#     continue\n",
    "df_r_arr = np.fromfile(os.path.join(toa_refl_dir, df_r), dtype=np.double)[0:1048576].reshape((512,2048))\n",
    "## check black- continue:\n",
    "if (np.median(df_r_arr) == -1.0):\n",
    "    print(\"image black- continue\")\n",
    "#     continue\n",
    "\n",
    "\n",
    "# we do not trip blocks, but if there is a bad value/black pixel in the input aarray, we fill that pixel with fillvalue==? from misr cloudmask filvalue\n",
    "\n",
    "\n",
    "\n",
    "# prepare the input array to our model?\n",
    "\n"
   ]
  },
  {
   "cell_type": "code",
   "execution_count": 13,
   "id": "09448eea",
   "metadata": {},
   "outputs": [
    {
     "data": {
      "text/plain": [
       "(512, 2048)"
      ]
     },
     "execution_count": 13,
     "metadata": {},
     "output_type": "execute_result"
    }
   ],
   "source": [
    "# check shapes of all arrays to make sure they all have same shape\n",
    "da_r_arr.shape\n"
   ]
  },
  {
   "cell_type": "code",
   "execution_count": 14,
   "id": "c402d543",
   "metadata": {},
   "outputs": [],
   "source": [
    "# # align 9 images in a way that every pixel sits on each other\n",
    "# # how to remove the black sides of the imahes???????\n",
    "\n",
    "\n",
    "# type(da_r_arr)\n",
    "\n",
    "# # Create a mask to identify the desired values/region\n",
    "# mask = (da_r_arr >= 0)\n",
    "# # mask.shape\n",
    "\n",
    "# # Use boolean indexing to get the non -1 values\n",
    "# new_image = da_r_arr[mask]\n",
    "# new_image.shape\n",
    "\n",
    "# # # Reshape the 1D array back to a 2D array\n",
    "# # num_rows = 512\n",
    "# # num_cols = new_image.size // num_rows\n",
    "# # # num_cols\n",
    "# # new_image = new_image.reshape(num_rows, num_cols)"
   ]
  },
  {
   "cell_type": "code",
   "execution_count": 15,
   "id": "60fc9a51",
   "metadata": {},
   "outputs": [],
   "source": [
    "# # visualize and check the cutted image\n",
    "# # histogram and check available values\n",
    "\n",
    "# ret_hist = plt.hist(new_image, bins='auto')\n",
    "# plt.show()\n"
   ]
  },
  {
   "cell_type": "code",
   "execution_count": 16,
   "id": "893dc322",
   "metadata": {},
   "outputs": [
    {
     "name": "stdout",
     "output_type": "stream",
     "text": [
      "found 489647 pixels that all 9 features are all available/positive\n"
     ]
    }
   ],
   "source": [
    "'''\n",
    "loop and extract every pixel from all 9 cameras for each row & column, \n",
    "note: it should be based on the order of input features/cameras to the model (important!)\n",
    "'''\n",
    "# define lists for ???\n",
    "x_predict_block = []\n",
    "fillvalue_index = []\n",
    "\n",
    "# loop and extract every pixel from all 9 cameras for each row & column \n",
    "for row in range(da_r_arr.shape[0]):\n",
    "    for col in range(da_r_arr.shape[1]):\n",
    "\n",
    "        # order of Xi should be based on the input orders to the our model\n",
    "        # order: feature_columns = ['anr','aa','af','ba','bf','ca','cf','da','df']\n",
    "        x1 = an_r_arr[row,col]\n",
    "        x2 = aa_r_arr[row,col]\n",
    "        x3 = af_r_arr[row,col]\n",
    "        x4 = ba_r_arr[row,col]\n",
    "        x5 = bf_r_arr[row,col]\n",
    "        x6 = ca_r_arr[row,col]\n",
    "        x7 = cf_r_arr[row,col]\n",
    "        x8 = da_r_arr[row,col]\n",
    "        x9 = df_r_arr[row,col]\n",
    "\n",
    "        # check somewhere here if a pixel was == -1, then replace all pixels with fillvalue and continue to the next pixel\n",
    "        \n",
    "        # make a list of Xi features\n",
    "        nine_features = [x1,x2,x3,x4,x5,x6,x7,x8,x9]\n",
    "\n",
    "################ if any -1 exists in list, find the index, save the pixel index, and later replace w/fillvalue\n",
    "        \n",
    "        if (-1.0 in nine_features): # check if -1 exists in the list\n",
    "            #print('-1 found in 9 input features, so we will save the index of this pixel.')\n",
    "            fillvalue_index.append((row*2048)+col) # similar to C code for counting index numbers\n",
    "        #print(type(nine_features))\n",
    "        x_predict_block.append(nine_features) # these features might have -1 in their input\n",
    "        \n",
    "print('found %s pixels that all 9 features are all available/positive' %len(fillvalue_index))\n",
    "\n",
    "################ if all values are -1, then find the index, save the pixel index, and later replace w/fillvalue\n",
    "\n",
    "#         # Check if all values in the list are equal to -1\n",
    "#         are_all_minusOne = all(x == -1 for x in nine_features)\n",
    "#         if are_all_minusOne:\n",
    "#             fillvalue_index.append((row*2048)+col) # similar to C code for counting index numbers\n",
    "#         #print(type(nine_features))\n",
    "#         x_predict_block.append(nine_features) # these features might have -1 in their input\n",
    "# print('found %s pixels that are all -1' %len(fillvalue_index))\n"
   ]
  },
  {
   "cell_type": "code",
   "execution_count": 17,
   "id": "fee9af46",
   "metadata": {},
   "outputs": [
    {
     "name": "stdout",
     "output_type": "stream",
     "text": [
      "32768/32768 [==============================] - 19s 575us/step\n"
     ]
    }
   ],
   "source": [
    "# apply the model and do prediction for a single block, but these input features might have -1 in their input\n",
    "\n",
    "y_predict_block = mlp_model_best.predict(x_predict_block, verbose=1) # we do prediction with these features that might have -1 in their input\n"
   ]
  },
  {
   "cell_type": "code",
   "execution_count": 18,
   "id": "bbfd1d81",
   "metadata": {},
   "outputs": [
    {
     "name": "stdout",
     "output_type": "stream",
     "text": [
      "[0.9416312  0.08233207]\n",
      "[1. 0.]\n",
      "0.0\n"
     ]
    }
   ],
   "source": [
    "# change class categories to one class\n",
    "\n",
    "# check the first pixel\n",
    "print(y_predict_block[0]) \n",
    "\n",
    "# Set the threshold value to confirm classes\n",
    "threshold = 0.5\n",
    "\n",
    "# convert 1-hot probability to 1-hot encoding == binary classes\n",
    "cloud_mask_one_hot = np.zeros_like(y_predict_block)\n",
    "cloud_mask_one_hot[y_predict_block >= threshold] = 1\n",
    "print(cloud_mask_one_hot[0])\n",
    "\n",
    "# Convert 1-hot encoding to categorical 1-D output\n",
    "cloudmask_categorical = np.zeros(cloud_mask_one_hot.shape[0]) # make a zero column\n",
    "cloudmask_categorical[cloud_mask_one_hot[:, 1] == 1] = 1 # update the zero column==every pixel where it was originally 1\n",
    "print(cloudmask_categorical[0])\n",
    "\n",
    "# this is in 1-hot format? how to change it to normal format?\n"
   ]
  },
  {
   "cell_type": "code",
   "execution_count": 19,
   "id": "f9716799",
   "metadata": {},
   "outputs": [
    {
     "name": "stdout",
     "output_type": "stream",
     "text": [
      "1048576\n",
      "(1048576,)\n",
      "<class 'numpy.ndarray'>\n"
     ]
    }
   ],
   "source": [
    "print(len(cloudmask_categorical))\n",
    "print(cloudmask_categorical.shape)\n",
    "print(type(cloudmask_categorical))"
   ]
  },
  {
   "cell_type": "code",
   "execution_count": 20,
   "id": "78c488b1",
   "metadata": {},
   "outputs": [],
   "source": [
    "# update the the predicted categorical list with fillvalue using indexing and assignment\n",
    "\n",
    "for i in fillvalue_index:\n",
    "    #print(i)\n",
    "    cloudmask_categorical[i] = -1 # -1 is fillvalue for a pixel in our cloudmask that any camera was -1 in toa-refl == pixels on either edges of the image \n"
   ]
  },
  {
   "cell_type": "code",
   "execution_count": 21,
   "id": "df828be8",
   "metadata": {},
   "outputs": [
    {
     "data": {
      "text/plain": [
       "array([-1., -1., -1., ..., -1., -1., -1.])"
      ]
     },
     "execution_count": 21,
     "metadata": {},
     "output_type": "execute_result"
    }
   ],
   "source": [
    "cloudmask_categorical"
   ]
  },
  {
   "cell_type": "code",
   "execution_count": 22,
   "id": "4b43b91a",
   "metadata": {},
   "outputs": [
    {
     "data": {
      "text/plain": [
       "dtype('int8')"
      ]
     },
     "execution_count": 22,
     "metadata": {},
     "output_type": "execute_result"
    }
   ],
   "source": [
    "# change data type from float64 to int8\n",
    "\n",
    "cloudmask_categorical = cloudmask_categorical.astype(np.int8)\n",
    "cloudmask_categorical.dtype"
   ]
  },
  {
   "cell_type": "code",
   "execution_count": 23,
   "id": "7b4f029f",
   "metadata": {},
   "outputs": [
    {
     "name": "stdout",
     "output_type": "stream",
     "text": [
      "(1048576,)\n",
      "<class 'numpy.ndarray'>\n",
      "int8\n",
      "output cloumask shape: (512, 2048)\n",
      "max: 1\n",
      "min: -1\n"
     ]
    }
   ],
   "source": [
    "## re-construct cloudmask prediction list to 2D\n",
    "\n",
    "print(cloudmask_categorical.shape) # shape is 2 because we have 2 classes\n",
    "print(type(cloudmask_categorical))\n",
    "\n",
    "cloudmask_categorical_2d = cloudmask_categorical.reshape((512,-1))\n",
    "print(cloudmask_categorical_2d.dtype)\n",
    "print('output cloumask shape: (%s, %s)' %(cloudmask_categorical_2d.shape))\n",
    "\n",
    "print(\"max: %s\" %cloudmask_categorical_2d.max())\n",
    "print(\"min: %s\" %cloudmask_categorical_2d.min())"
   ]
  },
  {
   "cell_type": "code",
   "execution_count": 24,
   "id": "1132c43e",
   "metadata": {},
   "outputs": [
    {
     "name": "stdout",
     "output_type": "stream",
     "text": [
      "(1048576,)\n"
     ]
    },
    {
     "data": {
      "image/png": "[encoded data removed]",
      "text/plain": [
       "<Figure size 432x288 with 1 Axes>"
      ]
     },
     "metadata": {
      "needs_background": "light"
     },
     "output_type": "display_data"
    },
    {
     "name": "stdout",
     "output_type": "stream",
     "text": [
      "Unique Values: [-1  0  1]\n"
     ]
    }
   ],
   "source": [
    "# histogram of data in cloudmask\n",
    "'''\n",
    "reminder: \n",
    "class one: cloudy\n",
    "class zero: clear\n",
    "'''\n",
    "cloudmask_categorical_flat = cloudmask_categorical_2d.flatten()\n",
    "print(cloudmask_categorical_flat.shape)\n",
    "\n",
    "ret_hist = plt.hist(cloudmask_categorical_flat, bins='auto')#, range=(-2,2))\n",
    "plt.show()\n",
    "\n",
    "# Get the unique values\n",
    "unique_values = np.unique(cloudmask_categorical_flat)\n",
    "print(\"Unique Values:\", unique_values)"
   ]
  },
  {
   "cell_type": "code",
   "execution_count": 25,
   "id": "5824c5be",
   "metadata": {},
   "outputs": [
    {
     "name": "stdout",
     "output_type": "stream",
     "text": [
      "output mask: \"\n",
      "/Users/ehsanmos/MLP_dataset/cloudmask_lab/predict_test_cloudmask/p71_o87048_b28_april/nncm_P071_O087048_B028.msk\"\n"
     ]
    }
   ],
   "source": [
    "# labeling output bin file\n",
    "\n",
    "out_raw_binary_label = 'nncm_'+POB+\".msk\"  # this image format supports saving neg- values in image\n",
    "out_raw_binary_fullpath = os.path.join(output_predict_dir, out_raw_binary_label)\n",
    "\n",
    "print('output mask: \"\\n%s\"' %out_raw_binary_fullpath)"
   ]
  },
  {
   "cell_type": "markdown",
   "id": "43a98b38",
   "metadata": {},
   "source": [
    "## save binary file"
   ]
  },
  {
   "cell_type": "code",
   "execution_count": 26,
   "id": "11a17411",
   "metadata": {},
   "outputs": [
    {
     "name": "stdout",
     "output_type": "stream",
     "text": [
      "output at: \n",
      "/Users/ehsanmos/MLP_dataset/cloudmask_lab/predict_test_cloudmask/p71_o87048_b28_april/nncm_P071_O087048_B028.msk\n"
     ]
    }
   ],
   "source": [
    "# flatten array and save as binary raw file on local computer\n",
    "\n",
    "if (write_nncm_binary==True):\n",
    "    cloudmask_categorical_2d.flatten().astype(np.int8).tofile(out_raw_binary_fullpath) # write as uint8 to be able to read by atmmodel.c\n",
    "    print('output at: \\n%s' %out_raw_binary_fullpath)\n",
    "\n",
    "else:\n",
    "    print('write output is off, change the switch and re-run')"
   ]
  },
  {
   "cell_type": "markdown",
   "id": "5987424d",
   "metadata": {},
   "source": [
    "## plot array and save it"
   ]
  },
  {
   "cell_type": "code",
   "execution_count": 27,
   "id": "a9b54916",
   "metadata": {},
   "outputs": [
    {
     "data": {
      "image/png": "[encoded data removed]",
      "text/plain": [
       "<Figure size 1440x1440 with 2 Axes>"
      ]
     },
     "metadata": {
      "needs_background": "light"
     },
     "output_type": "display_data"
    },
    {
     "name": "stdout",
     "output_type": "stream",
     "text": [
      "/Users/ehsanmos/MLP_dataset/cloudmask_lab/predict_test_cloudmask/p71_o87048_b28_april/nncm_P071_O087048_B028.png\n"
     ]
    }
   ],
   "source": [
    "import matplotlib.pyplot as plt\n",
    "import numpy as np\n",
    "from matplotlib.colors import ListedColormap\n",
    "'''\n",
    "reminder: \n",
    "class one: cloudy\n",
    "class zero: clear\n",
    "'''\n",
    "# Define custom colors for the colormap - incremental from smallest to largest\n",
    "custom_colors = ['black', 'grey', 'white']\n",
    "\n",
    "# Create a ListedColormap with the custom colors\n",
    "cmap = ListedColormap(custom_colors)\n",
    "\n",
    "# Set up the plot\n",
    "plt.figure(figsize=(20, 20))  # Adjust the numbers as needed for the desired size\n",
    "\n",
    "# Plot the array using imshow with the custom colormap\n",
    "plt.imshow(cloudmask_categorical_2d, cmap=cmap)\n",
    "\n",
    "# Add a colorbar for reference (optional)\n",
    "plt.colorbar(ticks=np.unique(cloudmask_categorical_2d), label='class values', pad=.05, shrink=0.2)\n",
    "\n",
    "\n",
    "if (plot_nncm==True):\n",
    "\n",
    "    # setup plot dir and name\n",
    "    plot_name = out_raw_binary_label.split('.')[0]+'.png' \n",
    "    plot_fp = os.path.join(plot_dir, plot_name)\n",
    "\n",
    "    # Save the plot to a file (adjust the filename and format as needed)\n",
    "    plt.savefig(plot_fp, bbox_inches='tight')  # You can change the format (e.g., 'png', 'pdf', 'svg', etc.)\n",
    "\n",
    "# Show the plot\n",
    "plt.show()\n",
    "\n",
    "print(plot_fp)"
   ]
  },
  {
   "cell_type": "code",
   "execution_count": null,
   "id": "2c4304e1",
   "metadata": {},
   "outputs": [],
   "source": []
  }
 ],
 "metadata": {
  "kernelspec": {
   "display_name": "Python 3",
   "language": "python",
   "name": "python3"
  },
  "language_info": {
   "codemirror_mode": {
    "name": "ipython",
    "version": 3
   },
   "file_extension": ".py",
   "mimetype": "text/x-python",
   "name": "python",
   "nbconvert_exporter": "python",
   "pygments_lexer": "ipython3",
   "version": "3.11.4"
  }
 },
 "nbformat": 4,
 "nbformat_minor": 5
}
