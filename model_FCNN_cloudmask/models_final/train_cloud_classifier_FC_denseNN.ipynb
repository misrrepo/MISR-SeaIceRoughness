{
 "cells": [
  {
   "cell_type": "code",
   "execution_count": 1,
   "id": "ae83e358",
   "metadata": {},
   "outputs": [],
   "source": [
    "import numpy as np\n",
    "import keras\n",
    "from keras.models import Sequential\n",
    "from keras.layers import Dense\n",
    "import os\n",
    "import pandas as pd"
   ]
  },
  {
   "cell_type": "code",
   "execution_count": null,
   "id": "b89aba6d",
   "metadata": {},
   "outputs": [],
   "source": [
    "'''\n",
    "this code traines a neural network model with reflectance data from MISR xxx level.\n",
    "We train a classifier using our developed training dataset and we write out the model in the end.\n",
    "\n",
    "inputs: 9 TOA reflectance red bands\n",
    "\n",
    "output: 2 classes/cloudy and clear\n",
    "'''"
   ]
  },
  {
   "cell_type": "code",
   "execution_count": 2,
   "id": "5f22384b",
   "metadata": {},
   "outputs": [],
   "source": [
    "home = '/Users/ehsanmos/MLP_dataset/cloudmask_lab/training_dataset'\n",
    "\n",
    "\n",
    "# # July-2016\n",
    "# model_name = 'July'\n",
    "# training_ds = 'trainingDS_cloudmask_july_2016_k_zero_9cams_HLconfClasses_forML.csv'\n",
    "\n",
    "\n",
    "# April-2016\n",
    "# model_name = 'April'\n",
    "# training_ds = 'trainingDS_cloudmask_april_2016_k_zero_9cams_HLconfClasses_forML.csv'\n",
    "\n",
    "\n",
    "# both April & July-2016\n",
    "model_name = 'AprilJuly'\n",
    "training_ds = 'trainingDS_cloudmask_apriljuly_2016_k_zero_9cams_HLconfClasses_forML.csv'\n",
    "\n",
    "\n",
    "training_ds_fp = os.path.join(home, training_ds)\n"
   ]
  },
  {
   "cell_type": "code",
   "execution_count": 3,
   "id": "048160d7",
   "metadata": {},
   "outputs": [],
   "source": [
    "'''open with pandas as dataframe'''\n",
    "\n",
    "in_df = pd.read_csv(training_ds_fp)\n",
    "\n",
    "# in_df"
   ]
  },
  {
   "cell_type": "code",
   "execution_count": 4,
   "id": "1c99d85d",
   "metadata": {},
   "outputs": [],
   "source": [
    "'''shuffle dataset that includes features/columns and labels'''\n",
    "\n",
    "shuffled_df = in_df.sample(frac=1, random_state=0)  # frac=1 means to sample all rows\n",
    "\n",
    "# shuffled_df"
   ]
  },
  {
   "cell_type": "code",
   "execution_count": 5,
   "id": "a79e37a9",
   "metadata": {},
   "outputs": [],
   "source": [
    "'''Split the data that includes features and labels into training and validation sets''' \n",
    "\n",
    "from sklearn.model_selection import train_test_split\n",
    "\n",
    "# X = shuffled_df.iloc[:, :12] # select 9 columns/features\n",
    "# y = shuffled_df.iloc[:, 12:] # select all the columns starting from 12 (last column==labels)\n",
    "\n",
    "'''prefer this methid, because more flexible and accure based on column labels'''\n",
    "\n",
    "feature_columns = ['anr','aa','af','ba','bf','ca','cf','da','df']\n",
    "labels = ['vis_confirmed']\n",
    "\n",
    "X = shuffled_df.loc[:, feature_columns] # select 9 columns/features\n",
    "Y = shuffled_df.loc[:, labels] # select all the columns starting from 12 (last column==labels)"
   ]
  },
  {
   "cell_type": "code",
   "execution_count": 6,
   "id": "b61f0d56",
   "metadata": {},
   "outputs": [
    {
     "data": {
      "text/html": [
       "<div>\n",
       "<style scoped>\n",
       "    .dataframe tbody tr th:only-of-type {\n",
       "        vertical-align: middle;\n",
       "    }\n",
       "\n",
       "    .dataframe tbody tr th {\n",
       "        vertical-align: top;\n",
       "    }\n",
       "\n",
       "    .dataframe thead th {\n",
       "        text-align: right;\n",
       "    }\n",
       "</style>\n",
       "<table border=\"1\" class=\"dataframe\">\n",
       "  <thead>\n",
       "    <tr style=\"text-align: right;\">\n",
       "      <th></th>\n",
       "      <th>anr</th>\n",
       "      <th>aa</th>\n",
       "      <th>af</th>\n",
       "      <th>ba</th>\n",
       "      <th>bf</th>\n",
       "      <th>ca</th>\n",
       "      <th>cf</th>\n",
       "      <th>da</th>\n",
       "      <th>df</th>\n",
       "    </tr>\n",
       "  </thead>\n",
       "  <tbody>\n",
       "    <tr>\n",
       "      <th>3977</th>\n",
       "      <td>0.390521</td>\n",
       "      <td>0.462713</td>\n",
       "      <td>0.485588</td>\n",
       "      <td>0.472219</td>\n",
       "      <td>0.709889</td>\n",
       "      <td>0.527329</td>\n",
       "      <td>0.959590</td>\n",
       "      <td>0.605760</td>\n",
       "      <td>1.212560</td>\n",
       "    </tr>\n",
       "    <tr>\n",
       "      <th>6399</th>\n",
       "      <td>0.494389</td>\n",
       "      <td>0.589110</td>\n",
       "      <td>0.571340</td>\n",
       "      <td>0.616242</td>\n",
       "      <td>0.728257</td>\n",
       "      <td>0.640993</td>\n",
       "      <td>0.990524</td>\n",
       "      <td>0.650988</td>\n",
       "      <td>1.247239</td>\n",
       "    </tr>\n",
       "    <tr>\n",
       "      <th>3916</th>\n",
       "      <td>0.498073</td>\n",
       "      <td>0.606227</td>\n",
       "      <td>0.608000</td>\n",
       "      <td>0.632823</td>\n",
       "      <td>0.782643</td>\n",
       "      <td>0.678478</td>\n",
       "      <td>0.914291</td>\n",
       "      <td>0.702562</td>\n",
       "      <td>1.169754</td>\n",
       "    </tr>\n",
       "    <tr>\n",
       "      <th>8841</th>\n",
       "      <td>0.405360</td>\n",
       "      <td>0.497603</td>\n",
       "      <td>0.442284</td>\n",
       "      <td>0.507942</td>\n",
       "      <td>0.552520</td>\n",
       "      <td>0.532916</td>\n",
       "      <td>0.697531</td>\n",
       "      <td>0.558428</td>\n",
       "      <td>0.855835</td>\n",
       "    </tr>\n",
       "    <tr>\n",
       "      <th>8938</th>\n",
       "      <td>0.520943</td>\n",
       "      <td>0.520800</td>\n",
       "      <td>0.620549</td>\n",
       "      <td>0.530476</td>\n",
       "      <td>0.712756</td>\n",
       "      <td>0.524358</td>\n",
       "      <td>0.836980</td>\n",
       "      <td>0.545275</td>\n",
       "      <td>0.929614</td>\n",
       "    </tr>\n",
       "    <tr>\n",
       "      <th>...</th>\n",
       "      <td>...</td>\n",
       "      <td>...</td>\n",
       "      <td>...</td>\n",
       "      <td>...</td>\n",
       "      <td>...</td>\n",
       "      <td>...</td>\n",
       "      <td>...</td>\n",
       "      <td>...</td>\n",
       "      <td>...</td>\n",
       "    </tr>\n",
       "    <tr>\n",
       "      <th>9225</th>\n",
       "      <td>0.393576</td>\n",
       "      <td>0.415366</td>\n",
       "      <td>0.516143</td>\n",
       "      <td>0.629518</td>\n",
       "      <td>0.988367</td>\n",
       "      <td>0.648584</td>\n",
       "      <td>1.387050</td>\n",
       "      <td>0.724507</td>\n",
       "      <td>2.207909</td>\n",
       "    </tr>\n",
       "    <tr>\n",
       "      <th>4859</th>\n",
       "      <td>0.391411</td>\n",
       "      <td>0.471472</td>\n",
       "      <td>0.507714</td>\n",
       "      <td>0.639502</td>\n",
       "      <td>0.889570</td>\n",
       "      <td>0.699795</td>\n",
       "      <td>1.546863</td>\n",
       "      <td>0.788093</td>\n",
       "      <td>2.255883</td>\n",
       "    </tr>\n",
       "    <tr>\n",
       "      <th>3264</th>\n",
       "      <td>0.477886</td>\n",
       "      <td>0.514413</td>\n",
       "      <td>0.604207</td>\n",
       "      <td>0.599641</td>\n",
       "      <td>0.849238</td>\n",
       "      <td>0.738137</td>\n",
       "      <td>1.331690</td>\n",
       "      <td>0.935988</td>\n",
       "      <td>2.121572</td>\n",
       "    </tr>\n",
       "    <tr>\n",
       "      <th>9845</th>\n",
       "      <td>0.396013</td>\n",
       "      <td>0.403091</td>\n",
       "      <td>0.488403</td>\n",
       "      <td>0.507776</td>\n",
       "      <td>0.791281</td>\n",
       "      <td>0.528638</td>\n",
       "      <td>1.368722</td>\n",
       "      <td>0.665734</td>\n",
       "      <td>2.247922</td>\n",
       "    </tr>\n",
       "    <tr>\n",
       "      <th>2732</th>\n",
       "      <td>0.759578</td>\n",
       "      <td>0.790565</td>\n",
       "      <td>0.811606</td>\n",
       "      <td>0.824231</td>\n",
       "      <td>0.882954</td>\n",
       "      <td>0.844507</td>\n",
       "      <td>0.967883</td>\n",
       "      <td>0.863444</td>\n",
       "      <td>1.072897</td>\n",
       "    </tr>\n",
       "  </tbody>\n",
       "</table>\n",
       "<p>10643 rows × 9 columns</p>\n",
       "</div>"
      ],
      "text/plain": [
       "           anr        aa        af        ba        bf        ca        cf  \\\n",
       "3977  0.390521  0.462713  0.485588  0.472219  0.709889  0.527329  0.959590   \n",
       "6399  0.494389  0.589110  0.571340  0.616242  0.728257  0.640993  0.990524   \n",
       "3916  0.498073  0.606227  0.608000  0.632823  0.782643  0.678478  0.914291   \n",
       "8841  0.405360  0.497603  0.442284  0.507942  0.552520  0.532916  0.697531   \n",
       "8938  0.520943  0.520800  0.620549  0.530476  0.712756  0.524358  0.836980   \n",
       "...        ...       ...       ...       ...       ...       ...       ...   \n",
       "9225  0.393576  0.415366  0.516143  0.629518  0.988367  0.648584  1.387050   \n",
       "4859  0.391411  0.471472  0.507714  0.639502  0.889570  0.699795  1.546863   \n",
       "3264  0.477886  0.514413  0.604207  0.599641  0.849238  0.738137  1.331690   \n",
       "9845  0.396013  0.403091  0.488403  0.507776  0.791281  0.528638  1.368722   \n",
       "2732  0.759578  0.790565  0.811606  0.824231  0.882954  0.844507  0.967883   \n",
       "\n",
       "            da        df  \n",
       "3977  0.605760  1.212560  \n",
       "6399  0.650988  1.247239  \n",
       "3916  0.702562  1.169754  \n",
       "8841  0.558428  0.855835  \n",
       "8938  0.545275  0.929614  \n",
       "...        ...       ...  \n",
       "9225  0.724507  2.207909  \n",
       "4859  0.788093  2.255883  \n",
       "3264  0.935988  2.121572  \n",
       "9845  0.665734  2.247922  \n",
       "2732  0.863444  1.072897  \n",
       "\n",
       "[10643 rows x 9 columns]"
      ]
     },
     "execution_count": 6,
     "metadata": {},
     "output_type": "execute_result"
    }
   ],
   "source": [
    "X"
   ]
  },
  {
   "cell_type": "code",
   "execution_count": 7,
   "id": "aa822a90",
   "metadata": {},
   "outputs": [
    {
     "data": {
      "text/html": [
       "<div>\n",
       "<style scoped>\n",
       "    .dataframe tbody tr th:only-of-type {\n",
       "        vertical-align: middle;\n",
       "    }\n",
       "\n",
       "    .dataframe tbody tr th {\n",
       "        vertical-align: top;\n",
       "    }\n",
       "\n",
       "    .dataframe thead th {\n",
       "        text-align: right;\n",
       "    }\n",
       "</style>\n",
       "<table border=\"1\" class=\"dataframe\">\n",
       "  <thead>\n",
       "    <tr style=\"text-align: right;\">\n",
       "      <th></th>\n",
       "      <th>vis_confirmed</th>\n",
       "    </tr>\n",
       "  </thead>\n",
       "  <tbody>\n",
       "    <tr>\n",
       "      <th>3977</th>\n",
       "      <td>11</td>\n",
       "    </tr>\n",
       "    <tr>\n",
       "      <th>6399</th>\n",
       "      <td>11</td>\n",
       "    </tr>\n",
       "    <tr>\n",
       "      <th>3916</th>\n",
       "      <td>11</td>\n",
       "    </tr>\n",
       "    <tr>\n",
       "      <th>8841</th>\n",
       "      <td>11</td>\n",
       "    </tr>\n",
       "    <tr>\n",
       "      <th>8938</th>\n",
       "      <td>11</td>\n",
       "    </tr>\n",
       "    <tr>\n",
       "      <th>...</th>\n",
       "      <td>...</td>\n",
       "    </tr>\n",
       "    <tr>\n",
       "      <th>9225</th>\n",
       "      <td>11</td>\n",
       "    </tr>\n",
       "    <tr>\n",
       "      <th>4859</th>\n",
       "      <td>11</td>\n",
       "    </tr>\n",
       "    <tr>\n",
       "      <th>3264</th>\n",
       "      <td>44</td>\n",
       "    </tr>\n",
       "    <tr>\n",
       "      <th>9845</th>\n",
       "      <td>11</td>\n",
       "    </tr>\n",
       "    <tr>\n",
       "      <th>2732</th>\n",
       "      <td>44</td>\n",
       "    </tr>\n",
       "  </tbody>\n",
       "</table>\n",
       "<p>10643 rows × 1 columns</p>\n",
       "</div>"
      ],
      "text/plain": [
       "      vis_confirmed\n",
       "3977             11\n",
       "6399             11\n",
       "3916             11\n",
       "8841             11\n",
       "8938             11\n",
       "...             ...\n",
       "9225             11\n",
       "4859             11\n",
       "3264             44\n",
       "9845             11\n",
       "2732             44\n",
       "\n",
       "[10643 rows x 1 columns]"
      ]
     },
     "execution_count": 7,
     "metadata": {},
     "output_type": "execute_result"
    }
   ],
   "source": [
    "Y"
   ]
  },
  {
   "cell_type": "markdown",
   "id": "28725ce6",
   "metadata": {},
   "source": [
    "### note: class 0: cloudy (11) & class 1: clear (44)"
   ]
  },
  {
   "cell_type": "code",
   "execution_count": 8,
   "id": "b4f72659",
   "metadata": {},
   "outputs": [
    {
     "data": {
      "text/html": [
       "<div>\n",
       "<style scoped>\n",
       "    .dataframe tbody tr th:only-of-type {\n",
       "        vertical-align: middle;\n",
       "    }\n",
       "\n",
       "    .dataframe tbody tr th {\n",
       "        vertical-align: top;\n",
       "    }\n",
       "\n",
       "    .dataframe thead th {\n",
       "        text-align: right;\n",
       "    }\n",
       "</style>\n",
       "<table border=\"1\" class=\"dataframe\">\n",
       "  <thead>\n",
       "    <tr style=\"text-align: right;\">\n",
       "      <th></th>\n",
       "      <th>vis_confirmed</th>\n",
       "    </tr>\n",
       "  </thead>\n",
       "  <tbody>\n",
       "    <tr>\n",
       "      <th>3977</th>\n",
       "      <td>1</td>\n",
       "    </tr>\n",
       "    <tr>\n",
       "      <th>6399</th>\n",
       "      <td>1</td>\n",
       "    </tr>\n",
       "    <tr>\n",
       "      <th>3916</th>\n",
       "      <td>1</td>\n",
       "    </tr>\n",
       "    <tr>\n",
       "      <th>8841</th>\n",
       "      <td>1</td>\n",
       "    </tr>\n",
       "    <tr>\n",
       "      <th>8938</th>\n",
       "      <td>1</td>\n",
       "    </tr>\n",
       "    <tr>\n",
       "      <th>...</th>\n",
       "      <td>...</td>\n",
       "    </tr>\n",
       "    <tr>\n",
       "      <th>9225</th>\n",
       "      <td>1</td>\n",
       "    </tr>\n",
       "    <tr>\n",
       "      <th>4859</th>\n",
       "      <td>1</td>\n",
       "    </tr>\n",
       "    <tr>\n",
       "      <th>3264</th>\n",
       "      <td>0</td>\n",
       "    </tr>\n",
       "    <tr>\n",
       "      <th>9845</th>\n",
       "      <td>1</td>\n",
       "    </tr>\n",
       "    <tr>\n",
       "      <th>2732</th>\n",
       "      <td>0</td>\n",
       "    </tr>\n",
       "  </tbody>\n",
       "</table>\n",
       "<p>10643 rows × 1 columns</p>\n",
       "</div>"
      ],
      "text/plain": [
       "      vis_confirmed\n",
       "3977              1\n",
       "6399              1\n",
       "3916              1\n",
       "8841              1\n",
       "8938              1\n",
       "...             ...\n",
       "9225              1\n",
       "4859              1\n",
       "3264              0\n",
       "9845              1\n",
       "2732              0\n",
       "\n",
       "[10643 rows x 1 columns]"
      ]
     },
     "execution_count": 8,
     "metadata": {},
     "output_type": "execute_result"
    }
   ],
   "source": [
    "'''\n",
    "map 11 and 44 to 0 and 1 and then apply the function.\n",
    "why we do this?\n",
    "'''\n",
    "\n",
    "# y_train[y_train['cloud']==11]=0 # map cloudy pixel to 0\n",
    "# y_train[y_train['cloud']==44]=1 # map clear pixel to 1\n",
    "# y_train\n",
    "\n",
    "Y[Y[labels]==11]=1 # mapped cloudy pixel to 1\n",
    "Y[Y[labels]==44]=0 # mapped clear pixel to 0\n",
    "Y"
   ]
  },
  {
   "cell_type": "code",
   "execution_count": 9,
   "id": "d92dff54",
   "metadata": {},
   "outputs": [],
   "source": [
    "X_train, X_test, y_train, y_test = train_test_split(X, Y, test_size=0.2)\n"
   ]
  },
  {
   "cell_type": "code",
   "execution_count": 10,
   "id": "523d325a",
   "metadata": {},
   "outputs": [
    {
     "name": "stdout",
     "output_type": "stream",
     "text": [
      "(8514, 9)\n",
      "(8514, 1)\n"
     ]
    }
   ],
   "source": [
    "print(X_train.shape)\n",
    "print(y_train.shape)"
   ]
  },
  {
   "cell_type": "code",
   "execution_count": 11,
   "id": "a82ff146",
   "metadata": {},
   "outputs": [
    {
     "data": {
      "text/html": [
       "<div>\n",
       "<style scoped>\n",
       "    .dataframe tbody tr th:only-of-type {\n",
       "        vertical-align: middle;\n",
       "    }\n",
       "\n",
       "    .dataframe tbody tr th {\n",
       "        vertical-align: top;\n",
       "    }\n",
       "\n",
       "    .dataframe thead th {\n",
       "        text-align: right;\n",
       "    }\n",
       "</style>\n",
       "<table border=\"1\" class=\"dataframe\">\n",
       "  <thead>\n",
       "    <tr style=\"text-align: right;\">\n",
       "      <th></th>\n",
       "      <th>anr</th>\n",
       "      <th>aa</th>\n",
       "      <th>af</th>\n",
       "      <th>ba</th>\n",
       "      <th>bf</th>\n",
       "      <th>ca</th>\n",
       "      <th>cf</th>\n",
       "      <th>da</th>\n",
       "      <th>df</th>\n",
       "    </tr>\n",
       "  </thead>\n",
       "  <tbody>\n",
       "    <tr>\n",
       "      <th>9689</th>\n",
       "      <td>0.159008</td>\n",
       "      <td>0.172918</td>\n",
       "      <td>0.156417</td>\n",
       "      <td>0.209056</td>\n",
       "      <td>0.229784</td>\n",
       "      <td>0.239876</td>\n",
       "      <td>0.302197</td>\n",
       "      <td>0.258286</td>\n",
       "      <td>0.403930</td>\n",
       "    </tr>\n",
       "    <tr>\n",
       "      <th>8465</th>\n",
       "      <td>0.355275</td>\n",
       "      <td>0.389076</td>\n",
       "      <td>0.457045</td>\n",
       "      <td>0.543751</td>\n",
       "      <td>0.736268</td>\n",
       "      <td>0.648092</td>\n",
       "      <td>1.377012</td>\n",
       "      <td>0.746555</td>\n",
       "      <td>2.234522</td>\n",
       "    </tr>\n",
       "    <tr>\n",
       "      <th>4550</th>\n",
       "      <td>0.449718</td>\n",
       "      <td>0.482877</td>\n",
       "      <td>0.480114</td>\n",
       "      <td>0.475416</td>\n",
       "      <td>0.508299</td>\n",
       "      <td>0.489509</td>\n",
       "      <td>0.591611</td>\n",
       "      <td>0.512029</td>\n",
       "      <td>0.651297</td>\n",
       "    </tr>\n",
       "    <tr>\n",
       "      <th>7512</th>\n",
       "      <td>0.498705</td>\n",
       "      <td>0.497983</td>\n",
       "      <td>0.529603</td>\n",
       "      <td>0.505924</td>\n",
       "      <td>0.569453</td>\n",
       "      <td>0.487587</td>\n",
       "      <td>0.623309</td>\n",
       "      <td>0.512999</td>\n",
       "      <td>0.649442</td>\n",
       "    </tr>\n",
       "    <tr>\n",
       "      <th>8006</th>\n",
       "      <td>0.490853</td>\n",
       "      <td>0.506138</td>\n",
       "      <td>0.546225</td>\n",
       "      <td>0.489843</td>\n",
       "      <td>0.666920</td>\n",
       "      <td>0.500947</td>\n",
       "      <td>0.805927</td>\n",
       "      <td>0.476721</td>\n",
       "      <td>0.883218</td>\n",
       "    </tr>\n",
       "    <tr>\n",
       "      <th>9000</th>\n",
       "      <td>0.296107</td>\n",
       "      <td>0.396712</td>\n",
       "      <td>0.386108</td>\n",
       "      <td>0.375503</td>\n",
       "      <td>0.549388</td>\n",
       "      <td>0.399703</td>\n",
       "      <td>0.683438</td>\n",
       "      <td>0.441169</td>\n",
       "      <td>0.849845</td>\n",
       "    </tr>\n",
       "    <tr>\n",
       "      <th>2418</th>\n",
       "      <td>0.653224</td>\n",
       "      <td>0.720937</td>\n",
       "      <td>0.840429</td>\n",
       "      <td>0.860344</td>\n",
       "      <td>1.374161</td>\n",
       "      <td>1.103312</td>\n",
       "      <td>2.648745</td>\n",
       "      <td>1.421958</td>\n",
       "      <td>3.795870</td>\n",
       "    </tr>\n",
       "    <tr>\n",
       "      <th>6419</th>\n",
       "      <td>0.439284</td>\n",
       "      <td>0.571355</td>\n",
       "      <td>0.516524</td>\n",
       "      <td>0.596625</td>\n",
       "      <td>0.683877</td>\n",
       "      <td>0.646688</td>\n",
       "      <td>0.946271</td>\n",
       "      <td>0.671640</td>\n",
       "      <td>1.195315</td>\n",
       "    </tr>\n",
       "    <tr>\n",
       "      <th>9065</th>\n",
       "      <td>0.297739</td>\n",
       "      <td>0.331952</td>\n",
       "      <td>0.369560</td>\n",
       "      <td>0.380693</td>\n",
       "      <td>0.451156</td>\n",
       "      <td>0.392369</td>\n",
       "      <td>0.579593</td>\n",
       "      <td>0.372683</td>\n",
       "      <td>0.764237</td>\n",
       "    </tr>\n",
       "    <tr>\n",
       "      <th>5832</th>\n",
       "      <td>0.133646</td>\n",
       "      <td>0.171618</td>\n",
       "      <td>0.267697</td>\n",
       "      <td>0.195131</td>\n",
       "      <td>0.355398</td>\n",
       "      <td>0.254860</td>\n",
       "      <td>0.359047</td>\n",
       "      <td>0.310129</td>\n",
       "      <td>0.449450</td>\n",
       "    </tr>\n",
       "  </tbody>\n",
       "</table>\n",
       "</div>"
      ],
      "text/plain": [
       "           anr        aa        af        ba        bf        ca        cf  \\\n",
       "9689  0.159008  0.172918  0.156417  0.209056  0.229784  0.239876  0.302197   \n",
       "8465  0.355275  0.389076  0.457045  0.543751  0.736268  0.648092  1.377012   \n",
       "4550  0.449718  0.482877  0.480114  0.475416  0.508299  0.489509  0.591611   \n",
       "7512  0.498705  0.497983  0.529603  0.505924  0.569453  0.487587  0.623309   \n",
       "8006  0.490853  0.506138  0.546225  0.489843  0.666920  0.500947  0.805927   \n",
       "9000  0.296107  0.396712  0.386108  0.375503  0.549388  0.399703  0.683438   \n",
       "2418  0.653224  0.720937  0.840429  0.860344  1.374161  1.103312  2.648745   \n",
       "6419  0.439284  0.571355  0.516524  0.596625  0.683877  0.646688  0.946271   \n",
       "9065  0.297739  0.331952  0.369560  0.380693  0.451156  0.392369  0.579593   \n",
       "5832  0.133646  0.171618  0.267697  0.195131  0.355398  0.254860  0.359047   \n",
       "\n",
       "            da        df  \n",
       "9689  0.258286  0.403930  \n",
       "8465  0.746555  2.234522  \n",
       "4550  0.512029  0.651297  \n",
       "7512  0.512999  0.649442  \n",
       "8006  0.476721  0.883218  \n",
       "9000  0.441169  0.849845  \n",
       "2418  1.421958  3.795870  \n",
       "6419  0.671640  1.195315  \n",
       "9065  0.372683  0.764237  \n",
       "5832  0.310129  0.449450  "
      ]
     },
     "execution_count": 11,
     "metadata": {},
     "output_type": "execute_result"
    }
   ],
   "source": [
    "X_train.head(10)"
   ]
  },
  {
   "cell_type": "code",
   "execution_count": 12,
   "id": "1589f055",
   "metadata": {},
   "outputs": [
    {
     "data": {
      "text/html": [
       "<div>\n",
       "<style scoped>\n",
       "    .dataframe tbody tr th:only-of-type {\n",
       "        vertical-align: middle;\n",
       "    }\n",
       "\n",
       "    .dataframe tbody tr th {\n",
       "        vertical-align: top;\n",
       "    }\n",
       "\n",
       "    .dataframe thead th {\n",
       "        text-align: right;\n",
       "    }\n",
       "</style>\n",
       "<table border=\"1\" class=\"dataframe\">\n",
       "  <thead>\n",
       "    <tr style=\"text-align: right;\">\n",
       "      <th></th>\n",
       "      <th>vis_confirmed</th>\n",
       "    </tr>\n",
       "  </thead>\n",
       "  <tbody>\n",
       "    <tr>\n",
       "      <th>9689</th>\n",
       "      <td>0</td>\n",
       "    </tr>\n",
       "    <tr>\n",
       "      <th>8465</th>\n",
       "      <td>1</td>\n",
       "    </tr>\n",
       "    <tr>\n",
       "      <th>4550</th>\n",
       "      <td>0</td>\n",
       "    </tr>\n",
       "    <tr>\n",
       "      <th>7512</th>\n",
       "      <td>0</td>\n",
       "    </tr>\n",
       "    <tr>\n",
       "      <th>8006</th>\n",
       "      <td>1</td>\n",
       "    </tr>\n",
       "    <tr>\n",
       "      <th>9000</th>\n",
       "      <td>1</td>\n",
       "    </tr>\n",
       "    <tr>\n",
       "      <th>2418</th>\n",
       "      <td>1</td>\n",
       "    </tr>\n",
       "    <tr>\n",
       "      <th>6419</th>\n",
       "      <td>1</td>\n",
       "    </tr>\n",
       "    <tr>\n",
       "      <th>9065</th>\n",
       "      <td>1</td>\n",
       "    </tr>\n",
       "    <tr>\n",
       "      <th>5832</th>\n",
       "      <td>1</td>\n",
       "    </tr>\n",
       "  </tbody>\n",
       "</table>\n",
       "</div>"
      ],
      "text/plain": [
       "      vis_confirmed\n",
       "9689              0\n",
       "8465              1\n",
       "4550              0\n",
       "7512              0\n",
       "8006              1\n",
       "9000              1\n",
       "2418              1\n",
       "6419              1\n",
       "9065              1\n",
       "5832              1"
      ]
     },
     "execution_count": 12,
     "metadata": {},
     "output_type": "execute_result"
    }
   ],
   "source": [
    "y_train.head(10)"
   ]
  },
  {
   "cell_type": "code",
   "execution_count": 13,
   "id": "0d33caff",
   "metadata": {},
   "outputs": [
    {
     "name": "stdout",
     "output_type": "stream",
     "text": [
      "samples in training dataset: (8514, 9)\n",
      "samples in test dataset: (2129, 9)\n"
     ]
    }
   ],
   "source": [
    "print('samples in training dataset: (%s, %s)' %(X_train.shape))\n",
    "print('samples in test dataset: (%s, %s)' %(X_test.shape))"
   ]
  },
  {
   "cell_type": "code",
   "execution_count": 14,
   "id": "92f1a3e0",
   "metadata": {},
   "outputs": [
    {
     "name": "stdout",
     "output_type": "stream",
     "text": [
      "(2129, 1)\n"
     ]
    }
   ],
   "source": [
    "print(y_test.shape)"
   ]
  },
  {
   "cell_type": "code",
   "execution_count": 15,
   "id": "b48783bc",
   "metadata": {},
   "outputs": [
    {
     "data": {
      "text/html": [
       "<div>\n",
       "<style scoped>\n",
       "    .dataframe tbody tr th:only-of-type {\n",
       "        vertical-align: middle;\n",
       "    }\n",
       "\n",
       "    .dataframe tbody tr th {\n",
       "        vertical-align: top;\n",
       "    }\n",
       "\n",
       "    .dataframe thead th {\n",
       "        text-align: right;\n",
       "    }\n",
       "</style>\n",
       "<table border=\"1\" class=\"dataframe\">\n",
       "  <thead>\n",
       "    <tr style=\"text-align: right;\">\n",
       "      <th></th>\n",
       "      <th>vis_confirmed</th>\n",
       "    </tr>\n",
       "  </thead>\n",
       "  <tbody>\n",
       "    <tr>\n",
       "      <th>8361</th>\n",
       "      <td>1</td>\n",
       "    </tr>\n",
       "    <tr>\n",
       "      <th>8441</th>\n",
       "      <td>1</td>\n",
       "    </tr>\n",
       "    <tr>\n",
       "      <th>8866</th>\n",
       "      <td>1</td>\n",
       "    </tr>\n",
       "    <tr>\n",
       "      <th>2788</th>\n",
       "      <td>0</td>\n",
       "    </tr>\n",
       "    <tr>\n",
       "      <th>9543</th>\n",
       "      <td>1</td>\n",
       "    </tr>\n",
       "    <tr>\n",
       "      <th>7239</th>\n",
       "      <td>1</td>\n",
       "    </tr>\n",
       "    <tr>\n",
       "      <th>9079</th>\n",
       "      <td>1</td>\n",
       "    </tr>\n",
       "    <tr>\n",
       "      <th>8133</th>\n",
       "      <td>0</td>\n",
       "    </tr>\n",
       "    <tr>\n",
       "      <th>9379</th>\n",
       "      <td>0</td>\n",
       "    </tr>\n",
       "    <tr>\n",
       "      <th>8753</th>\n",
       "      <td>1</td>\n",
       "    </tr>\n",
       "  </tbody>\n",
       "</table>\n",
       "</div>"
      ],
      "text/plain": [
       "      vis_confirmed\n",
       "8361              1\n",
       "8441              1\n",
       "8866              1\n",
       "2788              0\n",
       "9543              1\n",
       "7239              1\n",
       "9079              1\n",
       "8133              0\n",
       "9379              0\n",
       "8753              1"
      ]
     },
     "execution_count": 15,
     "metadata": {},
     "output_type": "execute_result"
    }
   ],
   "source": [
    "# y_train_arr = y_train.values\n",
    "# y_train_arr[:11]\n",
    "\n",
    "# we check the first 10 sample classes\n",
    "y_test.head(10)"
   ]
  },
  {
   "cell_type": "code",
   "execution_count": 16,
   "id": "225384ee",
   "metadata": {},
   "outputs": [
    {
     "data": {
      "text/plain": [
       "array([[0., 1.],\n",
       "       [0., 1.],\n",
       "       [0., 1.],\n",
       "       [1., 0.],\n",
       "       [0., 1.],\n",
       "       [0., 1.],\n",
       "       [0., 1.],\n",
       "       [1., 0.],\n",
       "       [1., 0.],\n",
       "       [0., 1.]], dtype=float32)"
      ]
     },
     "execution_count": 16,
     "metadata": {},
     "output_type": "execute_result"
    }
   ],
   "source": [
    "'''\n",
    "why should we use one-hot encoding to convert labels to binary arrays?\n",
    "\n",
    "Convert class labels to binary matrix using one-hot encoding.\n",
    "the length (or shape?) of the vector? or number of columns? is equal to the number of classes \n",
    "and each position in the vector?/columns? corresponds to a unique class.\n",
    "so:\n",
    "in binary array lables, size of feature space == columns shows number of classes, and 1 shows the presence of each class.\n",
    "''' \n",
    "\n",
    "from keras.utils import to_categorical\n",
    "\n",
    "num_classes = 2\n",
    "y_train_1_hot = to_categorical(y_train, num_classes)\n",
    "# y_train_1_hot\n",
    "\n",
    "y_test_1_hot = to_categorical(y_test, num_classes)\n",
    "\n",
    "# we check the first 10 sample classes\n",
    "y_test_1_hot[:10,:]\n"
   ]
  },
  {
   "cell_type": "code",
   "execution_count": 17,
   "id": "6258bc4a",
   "metadata": {},
   "outputs": [],
   "source": [
    "y_test_list = y_test.values.tolist()\n",
    "# y_test_list"
   ]
  },
  {
   "cell_type": "markdown",
   "id": "ef8b6bd6",
   "metadata": {},
   "source": [
    "## let's make the model"
   ]
  },
  {
   "cell_type": "code",
   "execution_count": 18,
   "id": "09a825f6",
   "metadata": {},
   "outputs": [
    {
     "name": "stderr",
     "output_type": "stream",
     "text": [
      "2023-04-05 19:57:32.488513: I tensorflow/core/platform/cpu_feature_guard.cc:193] This TensorFlow binary is optimized with oneAPI Deep Neural Network Library (oneDNN) to use the following CPU instructions in performance-critical operations:  AVX2 FMA\n",
      "To enable them in other operations, rebuild TensorFlow with the appropriate compiler flags.\n"
     ]
    }
   ],
   "source": [
    "# define the model\n",
    "model = Sequential()\n",
    "model.add(Dense(64, input_dim=9, activation='relu'))\n",
    "model.add(Dense(32, activation='relu'))\n",
    "model.add(Dense(2, activation='sigmoid'))\n",
    "# model.add(Dense(2, activation='linear'))\n",
    "\n",
    "\n",
    "# compile the model\n",
    "# model.compile(loss='categorical_crossentropy', optimizer='adam', metrics=['accuracy'])\n",
    "model.compile(loss='binary_crossentropy', optimizer='adam', metrics=['accuracy'])\n",
    "# model.compile(loss='MSE', optimizer='adam', metrics=['accuracy']) # loss=MSE when target values are real values\n"
   ]
  },
  {
   "cell_type": "markdown",
   "id": "aafcd1b3",
   "metadata": {},
   "source": [
    "## train the model on the input data and labels"
   ]
  },
  {
   "cell_type": "code",
   "execution_count": 19,
   "id": "acf7ada5",
   "metadata": {},
   "outputs": [
    {
     "name": "stdout",
     "output_type": "stream",
     "text": [
      "Epoch 1/10\n",
      "267/267 [==============================] - 1s 966us/step - loss: 0.6068 - accuracy: 0.6986\n",
      "Epoch 2/10\n",
      "267/267 [==============================] - 0s 941us/step - loss: 0.5158 - accuracy: 0.7475\n",
      "Epoch 3/10\n",
      "267/267 [==============================] - 0s 932us/step - loss: 0.4080 - accuracy: 0.8208\n",
      "Epoch 4/10\n",
      "267/267 [==============================] - 0s 932us/step - loss: 0.3559 - accuracy: 0.8542\n",
      "Epoch 5/10\n",
      "267/267 [==============================] - 0s 920us/step - loss: 0.3339 - accuracy: 0.8611\n",
      "Epoch 6/10\n",
      "267/267 [==============================] - 0s 920us/step - loss: 0.3142 - accuracy: 0.8697\n",
      "Epoch 7/10\n",
      "267/267 [==============================] - 0s 986us/step - loss: 0.3095 - accuracy: 0.8697\n",
      "Epoch 8/10\n",
      "267/267 [==============================] - 0s 918us/step - loss: 0.3021 - accuracy: 0.8735\n",
      "Epoch 9/10\n",
      "267/267 [==============================] - 0s 946us/step - loss: 0.2963 - accuracy: 0.8757\n",
      "Epoch 10/10\n",
      "267/267 [==============================] - 0s 924us/step - loss: 0.2875 - accuracy: 0.8790\n"
     ]
    }
   ],
   "source": [
    "# train the model on the input data and labels\n",
    "# history = model.fit(X_train, y_train_one_hot, validation_data=(X_test, y_test), epochs=10, batch_size=32)\n",
    "history = model.fit(X_train, y_train_1_hot, epochs=10, batch_size=32)"
   ]
  },
  {
   "cell_type": "markdown",
   "id": "b860642b",
   "metadata": {},
   "source": [
    "## evaluate the model on the test data\n",
    "\n",
    "The test set is used to estimate the generalization performance of the model. The accuracy, precision, recall, and F1-score are commonly used metrics to evaluate the performance of a binary classification model."
   ]
  },
  {
   "cell_type": "code",
   "execution_count": 20,
   "id": "e9745075",
   "metadata": {},
   "outputs": [
    {
     "name": "stdout",
     "output_type": "stream",
     "text": [
      "Loss: 0.2969, Accuracy: 87.88%\n"
     ]
    }
   ],
   "source": [
    "# evaluate the model on the test? data and labels\\\n",
    "val_loss, val_accuracy = model.evaluate(X_test, y_test_1_hot, batch_size=32, verbose=0)\n",
    "print(\"Loss: {:.4f}, Accuracy: {:.2f}%\".format(val_loss, val_accuracy * 100))\n",
    "\n",
    "# print('Validation loss:', val_loss)\n",
    "# print('Validation accuracy:', val_accuracy)"
   ]
  },
  {
   "cell_type": "code",
   "execution_count": 21,
   "id": "38a9e7c5",
   "metadata": {},
   "outputs": [
    {
     "name": "stdout",
     "output_type": "stream",
     "text": [
      "67/67 [==============================] - 0s 547us/step\n"
     ]
    }
   ],
   "source": [
    "'''performance metrics? \n",
    "such as tables, confusion matrix, f-score,  ...'''\n",
    "from sklearn.metrics import confusion_matrix\n",
    "\n",
    "y_pred_prob = model.predict(X_test) #  is a matrix of shape (n_samples, n_classes) containing the predicted probabilities for each class\n",
    "\n",
    "# Convert predicted probabilities to predicted labels\n",
    "y_pred = y_pred_prob.argmax(axis=-1)\n"
   ]
  },
  {
   "cell_type": "code",
   "execution_count": 22,
   "id": "cc6f2ca5",
   "metadata": {},
   "outputs": [
    {
     "name": "stdout",
     "output_type": "stream",
     "text": [
      "y-predict: 2129 samples\n",
      "y-true: 2129 samples\n"
     ]
    }
   ],
   "source": [
    "print('y-predict: %s samples' %len(y_pred))\n",
    "\n",
    "print('y-true: %s samples' %len(y_test_list))\n"
   ]
  },
  {
   "cell_type": "code",
   "execution_count": 23,
   "id": "2892bb18",
   "metadata": {},
   "outputs": [
    {
     "data": {
      "text/plain": [
       "array([[ 834,  194],\n",
       "       [  64, 1037]])"
      ]
     },
     "execution_count": 23,
     "metadata": {},
     "output_type": "execute_result"
    }
   ],
   "source": [
    "# Generate confusion matrix\n",
    "\n",
    "conf_matrix = confusion_matrix(y_test_list, y_pred) # both should be an array-like or list of shape (n_samples,)\n",
    "conf_matrix"
   ]
  },
  {
   "cell_type": "code",
   "execution_count": 24,
   "id": "a105e413",
   "metadata": {},
   "outputs": [],
   "source": [
    "# y_test_1_hot \n",
    "# type(y_pred)\n",
    "\n",
    "y_test_arr = y_test.values\n",
    "# y_test_arr"
   ]
  },
  {
   "cell_type": "code",
   "execution_count": 25,
   "id": "2d0fe855",
   "metadata": {},
   "outputs": [
    {
     "name": "stdout",
     "output_type": "stream",
     "text": [
      "              precision    recall  f1-score   support\n",
      "\n",
      "           0       0.93      0.81      0.87      1028\n",
      "           1       0.84      0.94      0.89      1101\n",
      "\n",
      "    accuracy                           0.88      2129\n",
      "   macro avg       0.89      0.88      0.88      2129\n",
      "weighted avg       0.88      0.88      0.88      2129\n",
      "\n"
     ]
    }
   ],
   "source": [
    "# Evaluate the performance of the model on the test data\n",
    "from sklearn.metrics import classification_report\n",
    "\n",
    "report = classification_report(y_test_arr, y_pred) # both should be an array-like or list of shape (n_samples,)\n",
    "print(report)\n"
   ]
  },
  {
   "cell_type": "code",
   "execution_count": 26,
   "id": "0e02fa68",
   "metadata": {},
   "outputs": [
    {
     "name": "stdout",
     "output_type": "stream",
     "text": [
      "model_AprilJuly_loss0.3_acc0.88.h5\n"
     ]
    }
   ],
   "source": [
    "'''# save model and architecture to single file'''\n",
    "\n",
    "saved_name = 'model_'+model_name+'_loss'+str(round(val_loss, 2))+'_acc'+str(round(val_accuracy, 2))+'.h5'\n",
    "# saved_model_fp = os.path.join(home, saved_name)\n",
    "print(saved_name)\n",
    "model.save(saved_name)"
   ]
  },
  {
   "cell_type": "code",
   "execution_count": null,
   "id": "e683c98f",
   "metadata": {},
   "outputs": [],
   "source": []
  },
  {
   "cell_type": "markdown",
   "id": "07524305",
   "metadata": {},
   "source": [
    "questions:\n",
    "\n",
    "Q-1: how many samples are in group 0 and 1?\n",
    "\n",
    "Q-2: what is group 0 and 1? \n",
    "\n",
    "Q-3: why does number of samples in T0 and T1 change in each model run?\n",
    "\n",
    "Q4- which class we want to identify accurately? that we have greater interest in? The positive class is the class that is of interest or importance in the problem being solved. we assign it to class 1.\n",
    "\n",
    "\n",
    "here class 1 is clear pixels."
   ]
  },
  {
   "cell_type": "code",
   "execution_count": null,
   "id": "a6213c78",
   "metadata": {},
   "outputs": [],
   "source": []
  }
 ],
 "metadata": {
  "kernelspec": {
   "display_name": "Python 3",
   "language": "python",
   "name": "python3"
  },
  "language_info": {
   "codemirror_mode": {
    "name": "ipython",
    "version": 3
   },
   "file_extension": ".py",
   "mimetype": "text/x-python",
   "name": "python",
   "nbconvert_exporter": "python",
   "pygments_lexer": "ipython3",
   "version": "3.11.4"
  }
 },
 "nbformat": 4,
 "nbformat_minor": 5
}
