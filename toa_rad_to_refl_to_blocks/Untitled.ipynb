{
 "cells": [
  {
   "cell_type": "code",
   "execution_count": 1,
   "id": "79394e79",
   "metadata": {},
   "outputs": [],
   "source": [
    "import MisrToolkit as mtk\n",
    "import os"
   ]
  },
  {
   "cell_type": "code",
   "execution_count": 2,
   "id": "ddaca39d",
   "metadata": {},
   "outputs": [],
   "source": [
    "hdf_file = \"MISR_AM1_GRP_ELLIPSOID_GM_P161_O086908_AN_F03_0024.b005-046.f49e0896e.hdf\"\n",
    "hdf_home = \"/home/ehsan/misr_lab/orders/14528_apr2016/test_singlePathOrbit\""
   ]
  },
  {
   "cell_type": "code",
   "execution_count": 3,
   "id": "c32464de",
   "metadata": {},
   "outputs": [
    {
     "data": {
      "text/plain": [
       "True"
      ]
     },
     "execution_count": 3,
     "metadata": {},
     "output_type": "execute_result"
    }
   ],
   "source": [
    "hdf_fp = os.path.join(hdf_home, hdf_file)\n",
    "os.path.isfile(hdf_fp)"
   ]
  },
  {
   "cell_type": "code",
   "execution_count": 4,
   "id": "643517d0",
   "metadata": {},
   "outputs": [],
   "source": [
    "m = mtk.MtkFile(hdf_fp)"
   ]
  },
  {
   "cell_type": "code",
   "execution_count": 5,
   "id": "3a2966e4",
   "metadata": {},
   "outputs": [
    {
     "data": {
      "text/plain": [
       "['BlueBand', 'GreenBand', 'RedBand', 'NIRBand', 'BRF Conversion Factors']"
      ]
     },
     "execution_count": 5,
     "metadata": {},
     "output_type": "execute_result"
    }
   ],
   "source": [
    "m.grid_list"
   ]
  },
  {
   "cell_type": "code",
   "execution_count": 7,
   "id": "17a83606",
   "metadata": {},
   "outputs": [
    {
     "data": {
      "text/plain": [
       "['BlueConversionFactor',\n",
       " 'GreenConversionFactor',\n",
       " 'RedConversionFactor',\n",
       " 'NIRConversionFactor']"
      ]
     },
     "execution_count": 7,
     "metadata": {},
     "output_type": "execute_result"
    }
   ],
   "source": [
    "m.grid(\"BRF Conversion Factors\").field_list"
   ]
  },
  {
   "cell_type": "code",
   "execution_count": 8,
   "id": "c94889f3",
   "metadata": {},
   "outputs": [],
   "source": [
    "convFactors = m.grid(\"BRF Conversion Factors\").field(\"RedConversionFactor\")"
   ]
  },
  {
   "cell_type": "code",
   "execution_count": 10,
   "id": "07fb5df2",
   "metadata": {},
   "outputs": [
    {
     "data": {
      "text/plain": [
       "'float'"
      ]
     },
     "execution_count": 10,
     "metadata": {},
     "output_type": "execute_result"
    }
   ],
   "source": [
    "convFactors.data_type"
   ]
  },
  {
   "cell_type": "code",
   "execution_count": 11,
   "id": "132832df",
   "metadata": {},
   "outputs": [
    {
     "data": {
      "text/plain": [
       "'RedConversionFactor'"
      ]
     },
     "execution_count": 11,
     "metadata": {},
     "output_type": "execute_result"
    }
   ],
   "source": [
    "convFactors.field_name"
   ]
  },
  {
   "cell_type": "code",
   "execution_count": 37,
   "id": "2d92ceaf",
   "metadata": {},
   "outputs": [
    {
     "data": {
      "text/plain": [
       "-555.0"
      ]
     },
     "execution_count": 37,
     "metadata": {},
     "output_type": "execute_result"
    }
   ],
   "source": [
    "convFactors.fill_value"
   ]
  },
  {
   "cell_type": "code",
   "execution_count": 39,
   "id": "49e08fe6",
   "metadata": {},
   "outputs": [],
   "source": [
    "arr_3d = convFactors.read(1,46)"
   ]
  },
  {
   "cell_type": "code",
   "execution_count": 23,
   "id": "d06608a5",
   "metadata": {},
   "outputs": [
    {
     "data": {
      "text/plain": [
       "(46, 8, 32)"
      ]
     },
     "execution_count": 23,
     "metadata": {},
     "output_type": "execute_result"
    }
   ],
   "source": [
    "arr_3d.shape"
   ]
  },
  {
   "cell_type": "code",
   "execution_count": 35,
   "id": "c8416fad",
   "metadata": {},
   "outputs": [],
   "source": [
    "# arr_3d[1:10,1,:]"
   ]
  },
  {
   "cell_type": "code",
   "execution_count": null,
   "id": "2a3c4169",
   "metadata": {},
   "outputs": [],
   "source": []
  }
 ],
 "metadata": {
  "kernelspec": {
   "display_name": "Python 3",
   "language": "python",
   "name": "python3"
  },
  "language_info": {
   "codemirror_mode": {
    "name": "ipython",
    "version": 3
   },
   "file_extension": ".py",
   "mimetype": "text/x-python",
   "name": "python",
   "nbconvert_exporter": "python",
   "pygments_lexer": "ipython3",
   "version": "3.6.9"
  }
 },
 "nbformat": 4,
 "nbformat_minor": 5
}
