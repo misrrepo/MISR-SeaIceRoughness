{
 "cells": [
  {
   "cell_type": "code",
   "execution_count": 35,
   "id": "e7a65dea",
   "metadata": {},
   "outputs": [],
   "source": [
    "import os\n",
    "import pandas as pd\n",
    "import matplotlib.pyplot as plt\n",
    "# import MisrToolkit as Mtk"
   ]
  },
  {
   "cell_type": "code",
   "execution_count": 2,
   "id": "1db42d74",
   "metadata": {},
   "outputs": [],
   "source": [
    "atm_file_fp = \"/Users/ehsanmos/MLP_dataset/sample_atm_file/ILATM2_20160419_135020_smooth_nadir3seg_50pt.csv\""
   ]
  },
  {
   "cell_type": "code",
   "execution_count": 3,
   "id": "8daac382",
   "metadata": {},
   "outputs": [
    {
     "data": {
      "text/plain": [
       "True"
      ]
     },
     "execution_count": 3,
     "metadata": {},
     "output_type": "execute_result"
    }
   ],
   "source": [
    "os.path.isfile(atm_file_fp)"
   ]
  },
  {
   "cell_type": "code",
   "execution_count": 10,
   "id": "25f80b66",
   "metadata": {},
   "outputs": [
    {
     "data": {
      "text/plain": [
       "Index(['# UTC_Seconds_Of_Day', ' Latitude(deg)', ' Longitude(deg)',\n",
       "       ' WGS84_Ellipsoid_Height(m)', ' South-to-North_Slope',\n",
       "       ' West-to-East_Slope', ' RMS_Fit(cm)',\n",
       "       ' Number_Of_ATM_Measurments_Used',\n",
       "       ' Number_Of_ATM_Measurements_Removed',\n",
       "       ' Distance_Of_Block_To_The_Right_Of_Aircraft(m)', ' Track_Identifier'],\n",
       "      dtype='object')"
      ]
     },
     "execution_count": 10,
     "metadata": {},
     "output_type": "execute_result"
    }
   ],
   "source": [
    "atm_df = pd.read_csv(atm_file_fp, header=9) # header=row# tels pd what line is the column names\n",
    "atm_df.columns"
   ]
  },
  {
   "cell_type": "code",
   "execution_count": 11,
   "id": "2335938c",
   "metadata": {},
   "outputs": [
    {
     "data": {
      "text/plain": [
       "<AxesSubplot:>"
      ]
     },
     "execution_count": 11,
     "metadata": {},
     "output_type": "execute_result"
    },
    {
     "data": {
      "image/png": "[encoded data removed]",
      "text/plain": [
       "<Figure size 432x288 with 1 Axes>"
      ]
     },
     "metadata": {
      "needs_background": "light"
     },
     "output_type": "display_data"
    }
   ],
   "source": [
    "atm_df.plot(y=[' South-to-North_Slope', ' West-to-East_Slope'])"
   ]
  },
  {
   "cell_type": "markdown",
   "id": "5e3bb9a3",
   "metadata": {},
   "source": [
    "### max and median of slope of SN & WE\n",
    "\n",
    "showing deviation of sea ice from horizontal plane in ATM data"
   ]
  },
  {
   "cell_type": "code",
   "execution_count": 33,
   "id": "1d9bb61a",
   "metadata": {},
   "outputs": [
    {
     "name": "stdout",
     "output_type": "stream",
     "text": [
      "min deviation: -0.0977175 units\n",
      "max deviation: 0.0727461 units\n",
      "median deviation: 0.0 units\n"
     ]
    }
   ],
   "source": [
    "print('min deviation: %s units' %atm_df[' South-to-North_Slope'].min())\n",
    "print('max deviation: %s units' %atm_df[' South-to-North_Slope'].max())\n",
    "print('median deviation: %s units' %atm_df[' South-to-North_Slope'].median())\n",
    "\n",
    "# units???? + box plot maybe?"
   ]
  },
  {
   "cell_type": "code",
   "execution_count": 29,
   "id": "7076333d",
   "metadata": {},
   "outputs": [
    {
     "name": "stdout",
     "output_type": "stream",
     "text": [
      "-0.0092668\n",
      "0.0161247\n",
      "0.0\n"
     ]
    }
   ],
   "source": [
    "print(atm_df[' West-to-East_Slope'].min())\n",
    "print(atm_df[' West-to-East_Slope'].max())\n",
    "print(atm_df[' West-to-East_Slope'].median())"
   ]
  },
  {
   "cell_type": "code",
   "execution_count": null,
   "id": "5ae3477e",
   "metadata": {},
   "outputs": [],
   "source": []
  }
 ],
 "metadata": {
  "kernelspec": {
   "display_name": "Python 3 (ipykernel)",
   "language": "python",
   "name": "python3"
  },
  "language_info": {
   "codemirror_mode": {
    "name": "ipython",
    "version": 3
   },
   "file_extension": ".py",
   "mimetype": "text/x-python",
   "name": "python",
   "nbconvert_exporter": "python",
   "pygments_lexer": "ipython3",
   "version": "3.9.12"
  }
 },
 "nbformat": 4,
 "nbformat_minor": 5
}
