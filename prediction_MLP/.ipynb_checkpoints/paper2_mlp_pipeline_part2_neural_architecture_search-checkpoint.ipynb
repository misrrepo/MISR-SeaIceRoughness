{
 "cells": [
  {
   "cell_type": "code",
   "execution_count": 1,
   "id": "3dbc7ee9",
   "metadata": {},
   "outputs": [],
   "source": [
    "#- main machine learning libraries used\n",
    "\n",
    "# import tensorflow\n",
    "import tensorflow as tf\n",
    "import tensorflow.keras as keras  \n",
    "import sklearn\n",
    "from sklearn.metrics import mean_squared_error\n",
    "\n",
    "\n",
    "#- other libraries used\n",
    "import itertools\n",
    "import numpy as np\n",
    "import os\n",
    "import math\n",
    "import pandas as pd\n",
    "import matplotlib.pyplot as plt \n",
    "from platform import python_version"
   ]
  },
  {
   "cell_type": "code",
   "execution_count": 2,
   "id": "3e0b69f6",
   "metadata": {},
   "outputs": [
    {
     "data": {
      "text/plain": [
       "'3.9.12'"
      ]
     },
     "execution_count": 2,
     "metadata": {},
     "output_type": "execute_result"
    }
   ],
   "source": [
    "python_version()"
   ]
  },
  {
   "cell_type": "code",
   "execution_count": 3,
   "id": "02be279c",
   "metadata": {},
   "outputs": [
    {
     "name": "stdout",
     "output_type": "stream",
     "text": [
      "latest run on: 2022-06-08 19:31:50.401791\n"
     ]
    }
   ],
   "source": [
    "from datetime import datetime\n",
    "today = datetime.today()\n",
    "\n",
    "print('latest run on:', today)"
   ]
  },
  {
   "cell_type": "markdown",
   "id": "7bcfe260",
   "metadata": {},
   "source": [
    "## check tensorflow version"
   ]
  },
  {
   "cell_type": "code",
   "execution_count": 4,
   "id": "57a7442b",
   "metadata": {},
   "outputs": [
    {
     "name": "stdout",
     "output_type": "stream",
     "text": [
      "2.9.1\n"
     ]
    }
   ],
   "source": [
    "print (tf.__version__)"
   ]
  },
  {
   "cell_type": "markdown",
   "id": "7fb3750d",
   "metadata": {},
   "source": [
    "## my functions(.) here"
   ]
  },
  {
   "cell_type": "markdown",
   "id": "56aba0b3",
   "metadata": {},
   "source": [
    "## input directory"
   ]
  },
  {
   "cell_type": "code",
   "execution_count": 5,
   "id": "c9d30fc6",
   "metadata": {},
   "outputs": [],
   "source": [
    "dataset_dir = \"/Users/ehsanmos/MLP_dataset\""
   ]
  },
  {
   "cell_type": "code",
   "execution_count": 6,
   "id": "2bf041aa",
   "metadata": {},
   "outputs": [
    {
     "name": "stdout",
     "output_type": "stream",
     "text": [
      "dataset directory FOUND!\n"
     ]
    }
   ],
   "source": [
    "if os.path.isdir(dataset_dir) == False:\n",
    "    print(\"dataset directory NOT found!\")\n",
    "else:\n",
    "    print(\"dataset directory FOUND!\")"
   ]
  },
  {
   "cell_type": "markdown",
   "id": "eccbffb9",
   "metadata": {},
   "source": [
    "## Load input/ training dataset\n",
    "\n",
    "before doing this section, process filter final input dataset with \"check_n_filter_final_dataset\""
   ]
  },
  {
   "cell_type": "code",
   "execution_count": 7,
   "id": "4af39e8f",
   "metadata": {},
   "outputs": [],
   "source": [
    "in_ds = \"atmmodel_april_2016_k_zero_9cams4bands_preprocessed.csv\""
   ]
  },
  {
   "cell_type": "markdown",
   "id": "09b6dc59",
   "metadata": {},
   "source": [
    "## check if input dataset file exists"
   ]
  },
  {
   "cell_type": "code",
   "execution_count": 8,
   "id": "37ac74e6",
   "metadata": {},
   "outputs": [
    {
     "name": "stdout",
     "output_type": "stream",
     "text": [
      "/Users/ehsanmos/MLP_dataset/atmmodel_april_2016_k_zero_9cams4bands_preprocessed.csv\n",
      "input dataset found!\n"
     ]
    }
   ],
   "source": [
    "in_ds_fullpath = os.path.join(dataset_dir, in_ds)\n",
    "print(in_ds_fullpath)\n",
    "\n",
    "if (not os.path.isfile(os.path.join(in_ds_fullpath))):\n",
    "    raise SystemExit()\n",
    "else:\n",
    "    print(\"input dataset found!\")"
   ]
  },
  {
   "cell_type": "markdown",
   "id": "259b6d7b",
   "metadata": {},
   "source": [
    "## Read in dataset and look at dataset columns"
   ]
  },
  {
   "cell_type": "code",
   "execution_count": 9,
   "id": "b4582b5a",
   "metadata": {},
   "outputs": [],
   "source": [
    "df_orig = pd.read_csv(in_ds_fullpath, engine='python')"
   ]
  },
  {
   "cell_type": "code",
   "execution_count": 10,
   "id": "790ea7e3",
   "metadata": {},
   "outputs": [
    {
     "data": {
      "text/plain": [
       "(40775, 15)"
      ]
     },
     "execution_count": 10,
     "metadata": {},
     "output_type": "execute_result"
    }
   ],
   "source": [
    "df_orig.shape"
   ]
  },
  {
   "cell_type": "code",
   "execution_count": 11,
   "id": "4164b4d7",
   "metadata": {},
   "outputs": [
    {
     "data": {
      "text/plain": [
       "Index(['firstLat', 'firstLon', 'anr', 'ang', 'anb', 'annir', 'aa', 'af', 'ba',\n",
       "       'bf', 'ca', 'cf', 'da', 'df', 'rms'],\n",
       "      dtype='object')"
      ]
     },
     "execution_count": 11,
     "metadata": {},
     "output_type": "execute_result"
    }
   ],
   "source": [
    "df_orig.columns"
   ]
  },
  {
   "cell_type": "markdown",
   "id": "8170b8a4",
   "metadata": {},
   "source": [
    "Note: we will build an input dataset with 9 cameras to train the mlp model"
   ]
  },
  {
   "cell_type": "code",
   "execution_count": 12,
   "id": "654bfd8f",
   "metadata": {},
   "outputs": [
    {
     "name": "stdout",
     "output_type": "stream",
     "text": [
      "we are using 10 columns in our training dataset:\n",
      "Index(['anr', 'aa', 'af', 'ba', 'bf', 'ca', 'cf', 'da', 'df', 'rms'], dtype='object')\n"
     ]
    }
   ],
   "source": [
    "#- build dataset with 9 cameras\n",
    "excluce_columns = ['firstLat', 'firstLon', 'ang', 'anb', 'annir']\n",
    "input_ds_for_training = df_orig.drop(excluce_columns, axis=1)\n",
    "\n",
    "print('we are using %s columns in our training dataset:' %len(input_ds_for_training.columns))\n",
    "print(input_ds_for_training.columns)  # columns should be only 9 cameras + rms \n"
   ]
  },
  {
   "cell_type": "markdown",
   "id": "ba4b8050",
   "metadata": {},
   "source": [
    "## shuffle rows of input dataset"
   ]
  },
  {
   "cell_type": "code",
   "execution_count": 13,
   "id": "f7f0f96d",
   "metadata": {},
   "outputs": [],
   "source": [
    "from sklearn.utils import shuffle\n",
    "\n",
    "input_ds_for_training = shuffle(input_ds_for_training)"
   ]
  },
  {
   "cell_type": "markdown",
   "id": "9706d2b8",
   "metadata": {},
   "source": [
    "## Split dataset to train-test parts for training algorithms\n",
    "- we devided to plit our dataset to 2 parts (2-part split)\n",
    "- Here we use the ‘train_test_split’ to split the data in 80:20 ratio i.e. 80% of the data will be used for training the model while 20% will be used for testing the model that is built out of it.\n",
    "- note: last column should be label == rms"
   ]
  },
  {
   "cell_type": "code",
   "execution_count": 14,
   "id": "03d94ba4",
   "metadata": {},
   "outputs": [
    {
     "name": "stdout",
     "output_type": "stream",
     "text": [
      "(40775, 9)\n",
      "(40775, 1)\n"
     ]
    }
   ],
   "source": [
    "#- split data set to X and Y\n",
    "\n",
    "X = input_ds_for_training.iloc[:, :-1] # to select up to last column of dataset OR [:, 0:3]\n",
    "Y = input_ds_for_training.iloc[:, -1:] # to select last column of DF\n",
    "\n",
    "print(X.shape)\n",
    "print(Y.shape)"
   ]
  },
  {
   "cell_type": "code",
   "execution_count": 15,
   "id": "76e41811",
   "metadata": {},
   "outputs": [
    {
     "name": "stdout",
     "output_type": "stream",
     "text": [
      "test size= 30 percent\n",
      "train:\n",
      "(28542, 9)\n",
      "(28542, 1)\n",
      "test:\n",
      "(12233, 9)\n",
      "(12233, 1)\n"
     ]
    }
   ],
   "source": [
    "#- now split dataset to train-test\n",
    "\n",
    "from sklearn.model_selection import train_test_split\n",
    "\n",
    "#- we use this function to split data-- from here because we are usiong SKlearn library, we change all data structures from Pandas DF to numpy\n",
    "# X_train, X_test, y_train, y_test = train_test_split(X.to_numpy(), Y.to_numpy(), test_size=0.2, random_state=123) # Q- input is DF or numpy array?\n",
    "\n",
    "test_data_size = 0.3\n",
    "print(\"test size= %d percent\" %(test_data_size*100))\n",
    "x_train, x_test, y_train, y_test = train_test_split(X, Y, test_size=test_data_size, random_state=123) # Q- input is DF or numpy array?\n",
    "\n",
    "\n",
    "print(\"train:\")\n",
    "print(x_train.shape)\n",
    "print(y_train.shape)\n",
    "\n",
    "print(\"test:\")\n",
    "print(x_test.shape)\n",
    "print(y_test.shape)\n"
   ]
  },
  {
   "cell_type": "markdown",
   "id": "55b177d3",
   "metadata": {},
   "source": [
    "Qn- how about train-val-test (3 sections)? is this for DL?"
   ]
  },
  {
   "cell_type": "markdown",
   "id": "cb9b7538",
   "metadata": {},
   "source": [
    "## Feature scalling\n",
    "\n",
    "change the scale/range of input features from their original range to a new range. So changed features will have mean=0 and std=1.\n",
    "\n",
    "source: https://www.enjoyalgorithms.com/blog/need-of-feature-scaling-in-machine-learning\n",
    "\n",
    "- We rescale data after we split data to train-test\n",
    "- all features have the same range to reduce bias in data \n",
    "- perform this step before splitting data into train-test split\n",
    "- We normalize data using the training data\n",
    "\n",
    "Qn- why FS is important? why we do FS?\n",
    "\n",
    "Qn- which method? \n",
    "\n",
    "1) standardization/ Z-score/ StandardScaler() == mean=0 & std=1; Standardize features by removing the mean and scaling to unit variance; good for datasets w/ outliers;\n",
    "\n",
    "2) MinMaxScalar() == Transform features by scaling each feature to a given range (usually [0,1])\n",
    "\n",
    "3) normalize() == Scale input vectors individually to unit norm (vector length).\n",
    "\n",
    "source: https://scikit-learn.org/stable/modules/classes.html#module-sklearn.preprocessing\n",
    "\n"
   ]
  },
  {
   "cell_type": "markdown",
   "id": "e71ebb65",
   "metadata": {},
   "source": [
    "### 1) Using MinMaxScaler() method to rescale input features"
   ]
  },
  {
   "cell_type": "code",
   "execution_count": 16,
   "id": "102b941b",
   "metadata": {},
   "outputs": [],
   "source": [
    "# #- import necessary libraries for Neural Nets\n",
    "# from sklearn.preprocessing import MinMaxScaler\n",
    "\n",
    "# #- fit data\n",
    "\n",
    "# scaler_x = MinMaxScaler()\n",
    "# scaler_y = MinMaxScaler()\n",
    "\n",
    "# scaler_x.fit(X_train) # returns Fitted scaler\n",
    "# X_train_scaled = scaler_x.transform(X_train)  # transforms data\n",
    "\n",
    "# scaler_x.fit(X_test)\n",
    "# X_test_scaled = scaler_x.transform(X_test)\n",
    "\n",
    "# scaler_y.fit(y_train)\n",
    "# y_train_scaled = scaler_y.transform(y_train)\n",
    "\n",
    "# scaler_y.fit(y_test)\n",
    "# y_test_scaled = scaler_y.transform(y_test)"
   ]
  },
  {
   "cell_type": "markdown",
   "id": "ca8d345c",
   "metadata": {},
   "source": [
    "### 2) Using StandardScaler() method \n",
    "\n",
    "to rescale input features to mean of 0 and std of 1"
   ]
  },
  {
   "cell_type": "code",
   "execution_count": 17,
   "id": "f1eae3b0",
   "metadata": {},
   "outputs": [],
   "source": [
    "from sklearn.preprocessing import StandardScaler\n",
    "\n",
    "scaler_x = StandardScaler()\n",
    "scaler_y = StandardScaler()\n",
    "\n",
    "x_train_scaled = scaler_x.fit(x_train).transform(x_train) # returns daata w/ mean 0 & std 1\n",
    "y_train_scaled = scaler_y.fit(y_train).transform(y_train)\n",
    "x_test_scaled = scaler_x.fit(x_test).transform(x_test)\n",
    "y_test_scaled = scaler_y.fit(y_test).transform(y_test)"
   ]
  },
  {
   "cell_type": "markdown",
   "id": "20410efa",
   "metadata": {},
   "source": [
    "Check types of input dataset data structure; should be 2D arrays, or Pandas DataFrame"
   ]
  },
  {
   "cell_type": "code",
   "execution_count": 18,
   "id": "5083172b",
   "metadata": {},
   "outputs": [
    {
     "name": "stdout",
     "output_type": "stream",
     "text": [
      "<class 'numpy.ndarray'>\n",
      "-2.894693095449765e-17\n",
      "0.8819171036881969\n",
      "2.203175394673424e-16\n",
      "1.0\n",
      "-7.50575584883327e-17\n",
      "0.8819171036881969\n",
      "6.73775503541009e-17\n",
      "1.0\n"
     ]
    }
   ],
   "source": [
    "print(type(x_train_scaled))\n",
    "# print(type(y_train_scaled))\n",
    "# print(type(x_test_scaled))\n",
    "# print(type(y_test_scaled))\n",
    "\n",
    "print(x_train_scaled.mean())\n",
    "print(x_train_scaled.std())\n",
    "print(y_train_scaled.mean())\n",
    "print(y_train_scaled.std())\n",
    "print(x_test_scaled.mean())\n",
    "print(x_test_scaled.std())\n",
    "print(y_test_scaled.mean())\n",
    "print(y_test_scaled.std())"
   ]
  },
  {
   "cell_type": "code",
   "execution_count": 19,
   "id": "e2db9f92",
   "metadata": {},
   "outputs": [
    {
     "data": {
      "text/plain": [
       "(28542, 9)"
      ]
     },
     "execution_count": 19,
     "metadata": {},
     "output_type": "execute_result"
    }
   ],
   "source": [
    "x_train_scaled.shape"
   ]
  },
  {
   "cell_type": "markdown",
   "id": "e5aa2e9d",
   "metadata": {},
   "source": [
    "## >>> Neural Network (Regression) >>>"
   ]
  },
  {
   "cell_type": "markdown",
   "id": "18088f76",
   "metadata": {},
   "source": [
    "### Building the NN model\n",
    "Q- how find the best architecture? for mlp? \n",
    "\n",
    "let's do a architecture search\n",
    "\n",
    "source: https://towardsdatascience.com/how-to-find-optimal-neural-network-architecture-with-tensorflow-the-easy-way-50575a03d060"
   ]
  },
  {
   "cell_type": "code",
   "execution_count": 20,
   "id": "bd212990",
   "metadata": {},
   "outputs": [],
   "source": [
    "def get_models(num_layers: int,\n",
    "               min_nodes_per_layer: int,\n",
    "               max_nodes_per_layer: int,\n",
    "               node_step_size: int,\n",
    "               input_shape: tuple,\n",
    "               hidden_layer_activation: str = 'relu',\n",
    "               num_nodes_at_output: int = 1,\n",
    "               output_layer_activation: str = 'linear') -> list:   \n",
    "        \n",
    "        # https://stackoverflow.com/questions/14379753/what-does-mean-in-python-function-definitions\n",
    "        # allowing you to attach metadata to functions, describe their parameters (their expected types) and return values\n",
    "    \n",
    "    # creates a list from nodes that we have defined [min, max, step]\n",
    "    node_options = list(range(min_nodes_per_layer, \n",
    "                              max_nodes_per_layer + 1, \n",
    "                              node_step_size))\n",
    "    \n",
    "    # make a collection of sets of nodes for each hidden layer\n",
    "    layer_possibilities = [node_options] * num_layers\n",
    "    layer_node_permutations = list(itertools.product(*layer_possibilities))\n",
    "#     print('permutations:')\n",
    "#     print(layer_node_permutations)\n",
    "    \n",
    "    models = []\n",
    "    for permutation in layer_node_permutations:\n",
    "        \n",
    "        # setup input layer\n",
    "        model = tf.keras.Sequential()\n",
    "        model.add(tf.keras.layers.InputLayer(input_shape=input_shape, name=\"input-layer\"))\n",
    "        model_name = ''\n",
    "        \n",
    "        # setup hidden layers\n",
    "        for nodes_at_layer in permutation:\n",
    "            model.add(tf.keras.layers.Dense(nodes_at_layer, activation=hidden_layer_activation))\n",
    "            model_name += 'dense_'+str(nodes_at_layer)+'_'\n",
    "\n",
    "        # setup output layer\n",
    "        model.add(tf.keras.layers.Dense(num_nodes_at_output, activation=output_layer_activation, name=\"output-layer-SIR\"))\n",
    "        model._name = model_name[:-1]\n",
    "        models.append(model)\n",
    "        \n",
    "    return models"
   ]
  },
  {
   "cell_type": "code",
   "execution_count": 21,
   "id": "03eec5d0",
   "metadata": {},
   "outputs": [],
   "source": [
    "def optimize(models: list,\n",
    "             X_train: np.array,\n",
    "             y_train: np.array,\n",
    "             X_test: np.array,\n",
    "             y_test: np.array,\n",
    "             epochs: int,\n",
    "             batch_size: int, \n",
    "             validation_split: float,\n",
    "             verbose: int = 0) -> pd.DataFrame:\n",
    "    \n",
    "\n",
    "    results = [] # We will store the results in this list\n",
    "    \n",
    "    ##############################################\n",
    "    def train(model: tf.keras.Sequential) -> dict:\n",
    "        \n",
    "        adam_lrt = 0.000001\n",
    "        opt_alg = tf.keras.optimizers.Adam(\n",
    "                    learning_rate=adam_lrt,   # then everu step * 10 to get to 10\n",
    "                    beta_1=0.9,\n",
    "                    beta_2=0.999,\n",
    "                    epsilon=1e-07,\n",
    "                    amsgrad=False,\n",
    "                    name='Adam'\n",
    "        )\n",
    "        \n",
    "        # Compile each model\n",
    "        model.compile(\n",
    "            loss='mse', \n",
    "            optimizer=opt_alg, \n",
    "            metrics=['mse','mae']\n",
    "        )\n",
    "\n",
    "        # Train the model/ fit alg. to dataset\n",
    "        model.fit(\n",
    "            X_train,\n",
    "            y_train,\n",
    "            epochs=epochs,\n",
    "            verbose=verbose,\n",
    "            batch_size=batch_size,\n",
    "            validation_split=validation_split\n",
    "            \n",
    "        )\n",
    "        \n",
    "\n",
    "        # Make predictions on the test set\n",
    "        y_pred_scaled = model.predict(\n",
    "                                X_test, \n",
    "                                verbose=verbose\n",
    "        )  # Generates output predictions for the input samples\n",
    "        \n",
    "        y_pred = scaler_y.inverse_transform(y_pred_scaled)\n",
    "        rmse_pred_test = math.sqrt(mean_squared_error(y_test, y_pred))\n",
    "        \n",
    "        # Evaluation on test data\n",
    "#         preds = model.evaluate(\n",
    "#             X_test, \n",
    "#             y_test, \n",
    "#             batch_size=20, \n",
    "#             verbose=0) # Returns the loss value & metrics values for the model in test mode\n",
    "\n",
    "#         print('return of evaluate(.)')\n",
    "#         print(preds)\n",
    "#         mse_test = preds[1]\n",
    "#         mae_test = preds[2]\n",
    "\n",
    "        # Return evaluation metrics on the test set\n",
    "        return {\n",
    "            'model_name': model.name,\n",
    "            #'test_rmse': math.sqrt(mse_test),\n",
    "            #'test_mae': mae_test,\n",
    "            'test_pred_rmse (cm)': rmse_pred_test\n",
    "        }\n",
    "    \n",
    "    ##############################################\n",
    "    # Train every model and save results in the list above and tur it to DF\n",
    "    for model in models:\n",
    "        try:\n",
    "            print(model.name, end=' ... \\n')\n",
    "            res = train(model=model)\n",
    "            results.append(res)\n",
    "        except Exception as e:\n",
    "            print(f'{model.name} --> {str(e)}') # how change to nornal print?\n",
    "        \n",
    "    return pd.DataFrame(results)"
   ]
  },
  {
   "cell_type": "markdown",
   "id": "de6538bb",
   "metadata": {},
   "source": [
    "## Building all models\n",
    "\n",
    "iterate with different hidden layers + iterate over several node options in one single hidden layer"
   ]
  },
  {
   "cell_type": "code",
   "execution_count": 22,
   "id": "168f3145",
   "metadata": {},
   "outputs": [
    {
     "name": "stderr",
     "output_type": "stream",
     "text": [
      "2022-06-08 19:31:51.117999: I tensorflow/core/platform/cpu_feature_guard.cc:193] This TensorFlow binary is optimized with oneAPI Deep Neural Network Library (oneDNN) to use the following CPU instructions in performance-critical operations:  AVX2 FMA\n",
      "To enable them in other operations, rebuild TensorFlow with the appropriate compiler flags.\n"
     ]
    }
   ],
   "source": [
    "all_models = get_models(\n",
    "    num_layers=1, \n",
    "    min_nodes_per_layer=6, \n",
    "    max_nodes_per_layer=100, \n",
    "    node_step_size=3, \n",
    "    input_shape=(9,) # should be tuple\n",
    ")"
   ]
  },
  {
   "cell_type": "code",
   "execution_count": 23,
   "id": "2459dbb7",
   "metadata": {},
   "outputs": [
    {
     "name": "stdout",
     "output_type": "stream",
     "text": [
      "Model: \"dense_6\"\n",
      "_________________________________________________________________\n",
      " Layer (type)                Output Shape              Param #   \n",
      "=================================================================\n",
      " dense (Dense)               (None, 6)                 60        \n",
      "                                                                 \n",
      " output-layer-SIR (Dense)    (None, 1)                 7         \n",
      "                                                                 \n",
      "=================================================================\n",
      "Total params: 67\n",
      "Trainable params: 67\n",
      "Non-trainable params: 0\n",
      "_________________________________________________________________\n"
     ]
    }
   ],
   "source": [
    "all_models[0].summary()"
   ]
  },
  {
   "cell_type": "markdown",
   "id": "011a863e",
   "metadata": {},
   "source": [
    "## Running the optimization"
   ]
  },
  {
   "cell_type": "code",
   "execution_count": 24,
   "id": "fbd1bbc2",
   "metadata": {},
   "outputs": [
    {
     "name": "stdout",
     "output_type": "stream",
     "text": [
      "dense_6 ... \n",
      "dense_9 ... \n",
      "dense_12 ... \n",
      "dense_15 ... \n",
      "dense_18 ... \n",
      "dense_21 ... \n",
      "dense_24 ... \n",
      "dense_27 ... \n",
      "dense_30 ... \n",
      "dense_33 ... \n",
      "dense_36 ... \n",
      "dense_39 ... \n",
      "dense_42 ... \n",
      "dense_45 ... \n",
      "dense_48 ... \n",
      "dense_51 ... \n",
      "dense_54 ... \n",
      "dense_57 ... \n",
      "dense_60 ... \n",
      "dense_63 ... \n",
      "dense_66 ... \n",
      "dense_69 ... \n",
      "dense_72 ... \n",
      "dense_75 ... \n",
      "dense_78 ... \n",
      "dense_81 ... \n",
      "dense_84 ... \n",
      "dense_87 ... \n",
      "dense_90 ... \n",
      "dense_93 ... \n",
      "dense_96 ... \n",
      "dense_99 ... \n"
     ]
    }
   ],
   "source": [
    "optimization_results = optimize(\n",
    "    models=all_models,\n",
    "    X_train=x_train_scaled,\n",
    "    y_train=y_train_scaled,\n",
    "    X_test=x_test_scaled,\n",
    "    y_test=y_test,\n",
    "    epochs=50,\n",
    "    batch_size=100,\n",
    "    validation_split=0.2\n",
    ")"
   ]
  },
  {
   "cell_type": "code",
   "execution_count": 25,
   "id": "971e78fb",
   "metadata": {},
   "outputs": [
    {
     "data": {
      "text/html": [
       "<div>\n",
       "<style scoped>\n",
       "    .dataframe tbody tr th:only-of-type {\n",
       "        vertical-align: middle;\n",
       "    }\n",
       "\n",
       "    .dataframe tbody tr th {\n",
       "        vertical-align: top;\n",
       "    }\n",
       "\n",
       "    .dataframe thead th {\n",
       "        text-align: right;\n",
       "    }\n",
       "</style>\n",
       "<table border=\"1\" class=\"dataframe\">\n",
       "  <thead>\n",
       "    <tr style=\"text-align: right;\">\n",
       "      <th></th>\n",
       "      <th>model_name</th>\n",
       "      <th>test_pred_rmse (cm)</th>\n",
       "    </tr>\n",
       "  </thead>\n",
       "  <tbody>\n",
       "    <tr>\n",
       "      <th>0</th>\n",
       "      <td>dense_6</td>\n",
       "      <td>6.966381</td>\n",
       "    </tr>\n",
       "    <tr>\n",
       "      <th>1</th>\n",
       "      <td>dense_9</td>\n",
       "      <td>9.204089</td>\n",
       "    </tr>\n",
       "    <tr>\n",
       "      <th>2</th>\n",
       "      <td>dense_12</td>\n",
       "      <td>9.291712</td>\n",
       "    </tr>\n",
       "    <tr>\n",
       "      <th>3</th>\n",
       "      <td>dense_15</td>\n",
       "      <td>6.644952</td>\n",
       "    </tr>\n",
       "    <tr>\n",
       "      <th>4</th>\n",
       "      <td>dense_18</td>\n",
       "      <td>9.060600</td>\n",
       "    </tr>\n",
       "    <tr>\n",
       "      <th>5</th>\n",
       "      <td>dense_21</td>\n",
       "      <td>10.340540</td>\n",
       "    </tr>\n",
       "    <tr>\n",
       "      <th>6</th>\n",
       "      <td>dense_24</td>\n",
       "      <td>7.210004</td>\n",
       "    </tr>\n",
       "    <tr>\n",
       "      <th>7</th>\n",
       "      <td>dense_27</td>\n",
       "      <td>6.486427</td>\n",
       "    </tr>\n",
       "    <tr>\n",
       "      <th>8</th>\n",
       "      <td>dense_30</td>\n",
       "      <td>8.043522</td>\n",
       "    </tr>\n",
       "    <tr>\n",
       "      <th>9</th>\n",
       "      <td>dense_33</td>\n",
       "      <td>6.607698</td>\n",
       "    </tr>\n",
       "    <tr>\n",
       "      <th>10</th>\n",
       "      <td>dense_36</td>\n",
       "      <td>7.136863</td>\n",
       "    </tr>\n",
       "    <tr>\n",
       "      <th>11</th>\n",
       "      <td>dense_39</td>\n",
       "      <td>7.318010</td>\n",
       "    </tr>\n",
       "    <tr>\n",
       "      <th>12</th>\n",
       "      <td>dense_42</td>\n",
       "      <td>6.518122</td>\n",
       "    </tr>\n",
       "    <tr>\n",
       "      <th>13</th>\n",
       "      <td>dense_45</td>\n",
       "      <td>6.564168</td>\n",
       "    </tr>\n",
       "    <tr>\n",
       "      <th>14</th>\n",
       "      <td>dense_48</td>\n",
       "      <td>6.730395</td>\n",
       "    </tr>\n",
       "    <tr>\n",
       "      <th>15</th>\n",
       "      <td>dense_51</td>\n",
       "      <td>6.595049</td>\n",
       "    </tr>\n",
       "    <tr>\n",
       "      <th>16</th>\n",
       "      <td>dense_54</td>\n",
       "      <td>6.465076</td>\n",
       "    </tr>\n",
       "    <tr>\n",
       "      <th>17</th>\n",
       "      <td>dense_57</td>\n",
       "      <td>6.488913</td>\n",
       "    </tr>\n",
       "    <tr>\n",
       "      <th>18</th>\n",
       "      <td>dense_60</td>\n",
       "      <td>6.595172</td>\n",
       "    </tr>\n",
       "    <tr>\n",
       "      <th>19</th>\n",
       "      <td>dense_63</td>\n",
       "      <td>7.407763</td>\n",
       "    </tr>\n",
       "    <tr>\n",
       "      <th>20</th>\n",
       "      <td>dense_66</td>\n",
       "      <td>7.306366</td>\n",
       "    </tr>\n",
       "    <tr>\n",
       "      <th>21</th>\n",
       "      <td>dense_69</td>\n",
       "      <td>6.490041</td>\n",
       "    </tr>\n",
       "    <tr>\n",
       "      <th>22</th>\n",
       "      <td>dense_72</td>\n",
       "      <td>7.260542</td>\n",
       "    </tr>\n",
       "    <tr>\n",
       "      <th>23</th>\n",
       "      <td>dense_75</td>\n",
       "      <td>6.488410</td>\n",
       "    </tr>\n",
       "    <tr>\n",
       "      <th>24</th>\n",
       "      <td>dense_78</td>\n",
       "      <td>7.291961</td>\n",
       "    </tr>\n",
       "    <tr>\n",
       "      <th>25</th>\n",
       "      <td>dense_81</td>\n",
       "      <td>6.490414</td>\n",
       "    </tr>\n",
       "    <tr>\n",
       "      <th>26</th>\n",
       "      <td>dense_84</td>\n",
       "      <td>6.923154</td>\n",
       "    </tr>\n",
       "    <tr>\n",
       "      <th>27</th>\n",
       "      <td>dense_87</td>\n",
       "      <td>6.914479</td>\n",
       "    </tr>\n",
       "    <tr>\n",
       "      <th>28</th>\n",
       "      <td>dense_90</td>\n",
       "      <td>6.470527</td>\n",
       "    </tr>\n",
       "    <tr>\n",
       "      <th>29</th>\n",
       "      <td>dense_93</td>\n",
       "      <td>6.531051</td>\n",
       "    </tr>\n",
       "    <tr>\n",
       "      <th>30</th>\n",
       "      <td>dense_96</td>\n",
       "      <td>6.548530</td>\n",
       "    </tr>\n",
       "    <tr>\n",
       "      <th>31</th>\n",
       "      <td>dense_99</td>\n",
       "      <td>6.924132</td>\n",
       "    </tr>\n",
       "  </tbody>\n",
       "</table>\n",
       "</div>"
      ],
      "text/plain": [
       "   model_name  test_pred_rmse (cm)\n",
       "0     dense_6             6.966381\n",
       "1     dense_9             9.204089\n",
       "2    dense_12             9.291712\n",
       "3    dense_15             6.644952\n",
       "4    dense_18             9.060600\n",
       "5    dense_21            10.340540\n",
       "6    dense_24             7.210004\n",
       "7    dense_27             6.486427\n",
       "8    dense_30             8.043522\n",
       "9    dense_33             6.607698\n",
       "10   dense_36             7.136863\n",
       "11   dense_39             7.318010\n",
       "12   dense_42             6.518122\n",
       "13   dense_45             6.564168\n",
       "14   dense_48             6.730395\n",
       "15   dense_51             6.595049\n",
       "16   dense_54             6.465076\n",
       "17   dense_57             6.488913\n",
       "18   dense_60             6.595172\n",
       "19   dense_63             7.407763\n",
       "20   dense_66             7.306366\n",
       "21   dense_69             6.490041\n",
       "22   dense_72             7.260542\n",
       "23   dense_75             6.488410\n",
       "24   dense_78             7.291961\n",
       "25   dense_81             6.490414\n",
       "26   dense_84             6.923154\n",
       "27   dense_87             6.914479\n",
       "28   dense_90             6.470527\n",
       "29   dense_93             6.531051\n",
       "30   dense_96             6.548530\n",
       "31   dense_99             6.924132"
      ]
     },
     "execution_count": 25,
     "metadata": {},
     "output_type": "execute_result"
    }
   ],
   "source": [
    "optimization_results"
   ]
  },
  {
   "cell_type": "code",
   "execution_count": 26,
   "id": "416cd9d8",
   "metadata": {},
   "outputs": [],
   "source": [
    "# #- implementation-2\n",
    "# import tensorflow as tf\n",
    "# from tensorflow.keras import layers\n",
    "\n",
    "\n",
    "# # Define Sequential model with 3 layers\n",
    "# mlp_model = tf.keras.Sequential([\n",
    "    \n",
    "#     # hidden layers\n",
    "#     layers.Dense(9, input_dim=9, activation=\"relu\", kernel_initializer='normal', name=\"hidden-layer-1\"), # input_dim=3 == input shape will build our model automatically\n",
    "# #     layers.Dense(9, activation=\"relu\", kernel_initializer='normal', name=\"hidden-layer-2\"),  # name should be attached; one single word!\n",
    "# #     layers.Dense(9, activation=\"relu\", kernel_initializer='normal', name=\"hidden-layer-3\"),  # name should be attached; one single word!\n",
    "\n",
    "    \n",
    "\n",
    "#     # output layer\n",
    "#     layers.Dense(1, activation='linear', kernel_initializer='normal', name=\"output-layer-SIR\"),  # linear activation==no activation\n",
    "#     ])\n",
    "\n",
    "# mlp_model.summary()\n"
   ]
  },
  {
   "cell_type": "markdown",
   "id": "dd51ab30",
   "metadata": {},
   "source": [
    "### plot the model"
   ]
  },
  {
   "cell_type": "code",
   "execution_count": 27,
   "id": "c1519b81",
   "metadata": {},
   "outputs": [],
   "source": [
    "# from tensorflow.keras.utils import plot_model\n",
    "\n",
    "# plot_model(mlp_model, to_file='model.png', show_shapes=True, show_layer_names=True)"
   ]
  },
  {
   "cell_type": "code",
   "execution_count": 28,
   "id": "01c6bff4",
   "metadata": {},
   "outputs": [],
   "source": [
    "# adam_lrt = 0.000001\n",
    "\n",
    "# opt_alg = tf.keras.optimizers.Adam(\n",
    "#             learning_rate=adam_lrt, # then everu step * 10 to get to 10\n",
    "#             beta_1=0.9,\n",
    "#             beta_2=0.999,\n",
    "#             epsilon=1e-07,\n",
    "#             amsgrad=False,\n",
    "#             name='Adam'\n",
    "# )\n"
   ]
  },
  {
   "cell_type": "markdown",
   "id": "63006212",
   "metadata": {},
   "source": [
    "### compile and train the model"
   ]
  },
  {
   "cell_type": "code",
   "execution_count": 29,
   "id": "1c20c5eb",
   "metadata": {},
   "outputs": [],
   "source": [
    "# #- compile model\n",
    "\n",
    "# mlp_model.compile(loss='mse', optimizer=opt_alg, metrics=['mse','mae'])\n"
   ]
  },
  {
   "cell_type": "code",
   "execution_count": 30,
   "id": "6fbb91bf",
   "metadata": {},
   "outputs": [],
   "source": [
    "# #- train the network\n",
    "\n",
    "# train_history = mlp_model.fit(x_train_scaled, \n",
    "#                               y_train_scaled, \n",
    "#                               epochs=100,\n",
    "#                               batch_size=100, \n",
    "#                               verbose=1, \n",
    "#                               validation_split=0.2)\n"
   ]
  },
  {
   "cell_type": "markdown",
   "id": "b8ed33ef",
   "metadata": {},
   "source": [
    "### Training error"
   ]
  },
  {
   "cell_type": "code",
   "execution_count": 31,
   "id": "272451a1",
   "metadata": {},
   "outputs": [],
   "source": [
    "# print(train_history.history.keys())\n",
    "# print('\\n')\n",
    "\n",
    "# # print(\"-> model: %s\" % train_model)\n",
    "# print(\"Training Loss: %.2f (units?)\" % train_history.history['loss'][-1])  # will return the loss in the last training epoch\n",
    "# print(\"Training MSE: %.2f (cm^2 roughness)\" % (train_history.history['mse'][-1]))\n",
    "# print(\"Training MAE: %.2f (cm roughness)\" % (train_history.history['mae'][-1]))\n"
   ]
  },
  {
   "cell_type": "markdown",
   "id": "f063753e",
   "metadata": {},
   "source": [
    "## Plot loss of training"
   ]
  },
  {
   "cell_type": "code",
   "execution_count": 32,
   "id": "eb4a054f",
   "metadata": {},
   "outputs": [],
   "source": [
    "# print(train_history.history.keys())\n",
    "# # \"Loss\" val==validation==test\n",
    "# plt.plot(train_history.history['loss'])\n",
    "# plt.plot(train_history.history['val_loss'])\n",
    "# plt.title('model loss')\n",
    "# plt.ylabel('loss')\n",
    "# plt.xlabel('epoch')\n",
    "# plt.legend(['train', 'validation'], loc='upper left')\n",
    "# plt.show()"
   ]
  },
  {
   "cell_type": "markdown",
   "id": "4754d7d5",
   "metadata": {},
   "source": [
    "### Testing the NN model and report error "
   ]
  },
  {
   "cell_type": "code",
   "execution_count": 33,
   "id": "06767a53",
   "metadata": {},
   "outputs": [],
   "source": [
    "# '''Returns the loss value & metrics values for the model in test mode.\n",
    "#  similar to test'''\n",
    "\n",
    "# test_metrics = mlp_model.evaluate(x_test_scaled, y_test_scaled, batch_size=20, verbose=1) # Returns the loss value & metrics values for the model in test mode\n"
   ]
  },
  {
   "cell_type": "code",
   "execution_count": 34,
   "id": "847d8124",
   "metadata": {},
   "outputs": [],
   "source": [
    "# import math\n",
    "\n",
    "# print(test_metrics)\n",
    "\n",
    "# mse_test = test_metrics[1]\n",
    "# print(\"Test RMSE: %.2f (cm roughness)\" %math.sqrt(mse_test))\n",
    "# print(\"Test MAE: %.2f (cm roughness)\" %(test_metrics[2]))"
   ]
  },
  {
   "cell_type": "markdown",
   "id": "edd661ad",
   "metadata": {},
   "source": [
    "### predict on test and scale back resutls and report them\n",
    "\n",
    "when to use this?"
   ]
  },
  {
   "cell_type": "code",
   "execution_count": 35,
   "id": "312bb26b",
   "metadata": {},
   "outputs": [],
   "source": [
    "# from sklearn.metrics import mean_squared_error, mean_absolute_error\n",
    "\n",
    "# y_pred_scaled = mlp_model.predict(x_test_scaled)  # Generates output predictions for the input samples\n",
    "\n",
    "# #- scale back the predictions\n",
    "    \n",
    "# y_pred = scaler_y.inverse_transform(y_pred_scaled)\n",
    "\n",
    "# print('Test RMSE: %.2f cm' %math.sqrt(mean_squared_error(y_test, y_pred))) # square root of MSE."
   ]
  },
  {
   "cell_type": "markdown",
   "id": "2c6b2b63",
   "metadata": {},
   "source": [
    "### save the trained model"
   ]
  },
  {
   "cell_type": "code",
   "execution_count": 36,
   "id": "8382aa0b",
   "metadata": {},
   "outputs": [],
   "source": [
    "# # save model and architecture to single file\n",
    "# model_name = \"trained_model_3L9N_50epoch.h5\"  # find a way to rename this online\n",
    "\n",
    "# model_fp = os.path.join(dataset_dir, model_name) \n",
    "# mlp_model.save(model_fp)"
   ]
  }
 ],
 "metadata": {
  "kernelspec": {
   "display_name": "Python 3 (ipykernel)",
   "language": "python",
   "name": "python3"
  },
  "language_info": {
   "codemirror_mode": {
    "name": "ipython",
    "version": 3
   },
   "file_extension": ".py",
   "mimetype": "text/x-python",
   "name": "python",
   "nbconvert_exporter": "python",
   "pygments_lexer": "ipython3",
   "version": "3.9.12"
  }
 },
 "nbformat": 4,
 "nbformat_minor": 5
}
