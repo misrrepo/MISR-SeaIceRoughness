{
 "cells": [
  {
   "cell_type": "code",
   "execution_count": 1,
   "id": "3dbc7ee9",
   "metadata": {},
   "outputs": [],
   "source": [
    "#- main machine learning libraries used\n",
    "\n",
    "# import tensorflow\n",
    "import tensorflow as tf\n",
    "import tensorflow.keras as keras  \n",
    "import sklearn\n",
    "from sklearn.metrics import mean_squared_error\n",
    "\n",
    "\n",
    "#- other libraries used\n",
    "import itertools\n",
    "import numpy as np\n",
    "import os\n",
    "import math\n",
    "import pandas as pd\n",
    "import matplotlib.pyplot as plt \n",
    "from platform import python_version\n",
    "from datetime import datetime as dt"
   ]
  },
  {
   "cell_type": "code",
   "execution_count": 2,
   "id": "3e0b69f6",
   "metadata": {},
   "outputs": [
    {
     "data": {
      "text/plain": [
       "'3.9.13'"
      ]
     },
     "execution_count": 2,
     "metadata": {},
     "output_type": "execute_result"
    }
   ],
   "source": [
    "python_version()"
   ]
  },
  {
   "cell_type": "code",
   "execution_count": 3,
   "id": "02be279c",
   "metadata": {},
   "outputs": [
    {
     "name": "stdout",
     "output_type": "stream",
     "text": [
      "latest run on: 2022-09-01 17:06:38.041391\n"
     ]
    }
   ],
   "source": [
    "today = dt.today()\n",
    "print('latest run on:', today)"
   ]
  },
  {
   "cell_type": "code",
   "execution_count": 4,
   "id": "30362b89",
   "metadata": {},
   "outputs": [
    {
     "data": {
      "text/plain": [
       "datetime.datetime(2022, 9, 1, 17, 6, 38, 47930)"
      ]
     },
     "execution_count": 4,
     "metadata": {},
     "output_type": "execute_result"
    }
   ],
   "source": [
    "now1 = dt.now()\n",
    "now1"
   ]
  },
  {
   "cell_type": "markdown",
   "id": "7bcfe260",
   "metadata": {},
   "source": [
    "## check tensorflow version"
   ]
  },
  {
   "cell_type": "code",
   "execution_count": 5,
   "id": "57a7442b",
   "metadata": {},
   "outputs": [
    {
     "name": "stdout",
     "output_type": "stream",
     "text": [
      "2.9.1\n"
     ]
    }
   ],
   "source": [
    "print (tf.__version__)"
   ]
  },
  {
   "cell_type": "markdown",
   "id": "7fb3750d",
   "metadata": {},
   "source": [
    "## my functions(.) here"
   ]
  },
  {
   "cell_type": "markdown",
   "id": "56aba0b3",
   "metadata": {},
   "source": [
    "## input directory"
   ]
  },
  {
   "cell_type": "code",
   "execution_count": 6,
   "id": "c9d30fc6",
   "metadata": {},
   "outputs": [],
   "source": [
    "dataset_dir = \"/Users/ehsanmos/MLP_dataset/atmmodels\""
   ]
  },
  {
   "cell_type": "code",
   "execution_count": 7,
   "id": "2bf041aa",
   "metadata": {},
   "outputs": [
    {
     "name": "stdout",
     "output_type": "stream",
     "text": [
      "dataset directory FOUND!\n"
     ]
    }
   ],
   "source": [
    "if os.path.isdir(dataset_dir) == False:\n",
    "    print(\"dataset directory NOT found!\")\n",
    "else:\n",
    "    print(\"dataset directory FOUND!\")"
   ]
  },
  {
   "cell_type": "markdown",
   "id": "eccbffb9",
   "metadata": {},
   "source": [
    "## Load input/ training dataset\n",
    "\n",
    "before doing this section, process filter final input dataset with \"check_n_filter_final_dataset\""
   ]
  },
  {
   "cell_type": "code",
   "execution_count": 8,
   "id": "4af39e8f",
   "metadata": {},
   "outputs": [],
   "source": [
    "# in_ds = \"atmmodel_april_2016_k_zero_9cams4bands_preprocessed.csv\"\n",
    "\n",
    "# in_ds = \"atmmodel_july_2016_k_zero_9cams4bands_preprocessed.csv\"\n",
    "\n",
    "in_ds = \"atmmodel_april_and_july_2016_k_zero_9cams4bands_preprocessed.csv\""
   ]
  },
  {
   "cell_type": "markdown",
   "id": "09b6dc59",
   "metadata": {},
   "source": [
    "## check if input dataset file exists"
   ]
  },
  {
   "cell_type": "code",
   "execution_count": 9,
   "id": "37ac74e6",
   "metadata": {},
   "outputs": [
    {
     "name": "stdout",
     "output_type": "stream",
     "text": [
      "/Users/ehsanmos/MLP_dataset/atmmodels/atmmodel_april_and_july_2016_k_zero_9cams4bands_preprocessed.csv\n",
      "input dataset found!\n"
     ]
    }
   ],
   "source": [
    "in_ds_fullpath = os.path.join(dataset_dir, in_ds)\n",
    "print(in_ds_fullpath)\n",
    "\n",
    "if (not os.path.isfile(os.path.join(in_ds_fullpath))):\n",
    "    raise SystemExit()\n",
    "else:\n",
    "    print(\"input dataset found!\")"
   ]
  },
  {
   "cell_type": "markdown",
   "id": "259b6d7b",
   "metadata": {},
   "source": [
    "## Read in dataset and look at dataset columns"
   ]
  },
  {
   "cell_type": "code",
   "execution_count": 10,
   "id": "b4582b5a",
   "metadata": {},
   "outputs": [],
   "source": [
    "df_orig = pd.read_csv(in_ds_fullpath, engine='python')"
   ]
  },
  {
   "cell_type": "code",
   "execution_count": 11,
   "id": "790ea7e3",
   "metadata": {},
   "outputs": [
    {
     "data": {
      "text/plain": [
       "(58019, 15)"
      ]
     },
     "execution_count": 11,
     "metadata": {},
     "output_type": "execute_result"
    }
   ],
   "source": [
    "df_orig.shape"
   ]
  },
  {
   "cell_type": "code",
   "execution_count": 12,
   "id": "4164b4d7",
   "metadata": {},
   "outputs": [
    {
     "data": {
      "text/plain": [
       "Index(['firstLat', 'firstLon', 'anr', 'ang', 'anb', 'annir', 'aa', 'af', 'ba',\n",
       "       'bf', 'ca', 'cf', 'da', 'df', 'rms'],\n",
       "      dtype='object')"
      ]
     },
     "execution_count": 12,
     "metadata": {},
     "output_type": "execute_result"
    }
   ],
   "source": [
    "df_orig.columns"
   ]
  },
  {
   "cell_type": "markdown",
   "id": "8170b8a4",
   "metadata": {},
   "source": [
    "Note: we will build an input dataset with 9 cameras to train the mlp model"
   ]
  },
  {
   "cell_type": "code",
   "execution_count": 13,
   "id": "654bfd8f",
   "metadata": {},
   "outputs": [
    {
     "name": "stdout",
     "output_type": "stream",
     "text": [
      "we are using 13 columns in our training dataset:\n",
      "Index(['anr', 'ang', 'anb', 'annir', 'aa', 'af', 'ba', 'bf', 'ca', 'cf', 'da',\n",
      "       'df', 'rms'],\n",
      "      dtype='object')\n"
     ]
    }
   ],
   "source": [
    "#- build dataset with 9 cameras\n",
    "\n",
    "# excluce_columns = ['firstLat', 'firstLon', 'ang', 'anb', 'annir']\n",
    "# input_layer_size = 9\n",
    "\n",
    "\n",
    "excluce_columns = ['firstLat', 'firstLon']\n",
    "input_layer_size = 12\n",
    "\n",
    "\n",
    "input_ds_for_training = df_orig.drop(excluce_columns, axis=1)\n",
    "\n",
    "print('we are using %s columns in our training dataset:' %len(input_ds_for_training.columns))\n",
    "print(input_ds_for_training.columns)  # columns should be only 9 cameras + rms \n"
   ]
  },
  {
   "cell_type": "markdown",
   "id": "ba4b8050",
   "metadata": {},
   "source": [
    "## shuffle rows of input dataset"
   ]
  },
  {
   "cell_type": "code",
   "execution_count": 14,
   "id": "f7f0f96d",
   "metadata": {},
   "outputs": [],
   "source": [
    "from sklearn.utils import shuffle\n",
    "\n",
    "input_ds_for_training = shuffle(input_ds_for_training)"
   ]
  },
  {
   "cell_type": "markdown",
   "id": "9706d2b8",
   "metadata": {},
   "source": [
    "## Split dataset to train-test parts for training algorithms\n",
    "- we devided to plit our dataset to 2 parts (2-part split)\n",
    "- Here we use the ‘train_test_split’ to split the data in 80:20 ratio i.e. 80% of the data will be used for training the model while 20% will be used for testing the model that is built out of it.\n",
    "- note: last column should be label == rms"
   ]
  },
  {
   "cell_type": "code",
   "execution_count": 15,
   "id": "03d94ba4",
   "metadata": {},
   "outputs": [
    {
     "name": "stdout",
     "output_type": "stream",
     "text": [
      "(58019, 12)\n",
      "(58019, 1)\n"
     ]
    }
   ],
   "source": [
    "#- split data set to X and Y\n",
    "\n",
    "X = input_ds_for_training.iloc[:, :-1] # to select up to last column of dataset OR [:, 0:3]\n",
    "Y = input_ds_for_training.iloc[:, -1:] # to select last column of DF\n",
    "\n",
    "print(X.shape)\n",
    "print(Y.shape)"
   ]
  },
  {
   "cell_type": "code",
   "execution_count": 16,
   "id": "76e41811",
   "metadata": {},
   "outputs": [
    {
     "name": "stdout",
     "output_type": "stream",
     "text": [
      "test size= 30 percent\n",
      "train:\n",
      "(40613, 12)\n",
      "(40613, 1)\n",
      "test:\n",
      "(17406, 12)\n",
      "(17406, 1)\n"
     ]
    }
   ],
   "source": [
    "#- now split dataset to train-test\n",
    "\n",
    "from sklearn.model_selection import train_test_split\n",
    "\n",
    "#- we use this function to split data-- from here because we are usiong SKlearn library, we change all data structures from Pandas DF to numpy\n",
    "# X_train, X_test, y_train, y_test = train_test_split(X.to_numpy(), Y.to_numpy(), test_size=0.2, random_state=123) # Q- input is DF or numpy array?\n",
    "\n",
    "test_data_size = 0.3\n",
    "print(\"test size= %d percent\" %(test_data_size*100))\n",
    "x_train, x_test, y_train, y_test = train_test_split(X, Y, test_size=test_data_size, random_state=123) # Q- input is DF or numpy array?\n",
    "\n",
    "\n",
    "print(\"train:\")\n",
    "print(x_train.shape)\n",
    "print(y_train.shape)\n",
    "\n",
    "print(\"test:\")\n",
    "print(x_test.shape)\n",
    "print(y_test.shape)\n"
   ]
  },
  {
   "cell_type": "code",
   "execution_count": 17,
   "id": "93fe1453",
   "metadata": {},
   "outputs": [],
   "source": [
    "# x_test"
   ]
  },
  {
   "cell_type": "markdown",
   "id": "f11ba85e",
   "metadata": {},
   "source": [
    "## >>> Linear regression >>>"
   ]
  },
  {
   "cell_type": "code",
   "execution_count": 18,
   "id": "b72075a3",
   "metadata": {},
   "outputs": [],
   "source": [
    "# from sklearn.linear_model import LinearRegression\n",
    "# from sklearn.metrics import r2_score\n",
    "\n",
    "# # Create linear regression object \n",
    "# mlr_model = LinearRegression() # create an estimator obj\n",
    "# ##- Train the model using the training sets- here we use X_train(3 features)\n",
    "# mlr_model.fit(x_train, y_train) # fit(X,y) will fit data to our algortihm and makes it learn from data == training step\n",
    "\n",
    "\n",
    "# # Predict using the linear model- on specific block data- on transect data\n",
    "# x_test = 'open 3 MISR cameras that create transect block, create x_test dataset from 3 cameras (an, ca, cf), and then make prediction '\n",
    "# y_pred_mlr = mlr_model.predict(x_test)\n",
    "\n",
    "\n",
    "# r2_model = r2_score(y_test, y_pred_mlr)\n",
    "# print('R2: %s' %round(r2_model,2))\n",
    "\n",
    "# print('Test RMSE: %.2f' %math.sqrt(mean_squared_error(y_test, y_pred_mlr))) # square root of MSE.\n",
    "\n",
    "# ############ scatter plot #####\n",
    "# fig, ax = plt.subplots()\n",
    "# ax.scatter(y_test, y_pred_mlr)\n",
    "\n",
    "# # ax.plot([y_actual.min(), y_actual.max()], [y_predicted.min(), y_predicted.max()], 'k--', lw=4)\n",
    "# # ax.set_xlabel('Actual')\n",
    "# # ax.set_ylabel('Predicted')\n",
    "\n",
    "\n",
    "# ########### QQ plot ###########\n",
    "# import scipy.stats as stats\n",
    "\n",
    "# # residuals = y_test - y_pred_mlr\n",
    "# # residuals\n",
    "\n",
    "# # plt.figure(figsize=(7,7))\n",
    "# # stats.probplot(residuals, dist=\"norm\", plot=plt)\n",
    "# # plt.title(\"Normal Q-Q Plot\")\n",
    "    "
   ]
  },
  {
   "cell_type": "markdown",
   "id": "55b177d3",
   "metadata": {},
   "source": [
    "Qn- how about train-val-test (3 sections)? is this for DL?"
   ]
  },
  {
   "cell_type": "markdown",
   "id": "cb9b7538",
   "metadata": {},
   "source": [
    "## Feature scalling/ rescaling\n",
    "\n",
    "change the scale/range of input features from their original range to a new range. So changed features will have mean=0 and std=1.\n",
    "\n",
    "source: https://www.enjoyalgorithms.com/blog/need-of-feature-scaling-in-machine-learning\n",
    "\n",
    "- We rescale data after we split data to train-test\n",
    "- all features have the same range to reduce bias in data \n",
    "- perform this step before splitting data into train-test split\n",
    "- We normalize data using the training data\n",
    "\n",
    "Qn- why FS is important? why we do FS?\n",
    "\n",
    "Qn- which method? \n",
    "\n",
    "1) standardization/ Z-score/ StandardScaler() ==> rescale data to mean=0 & std=1; Standardize features by removing the mean and scaling to unit variance; good for datasets w/ outliers;\n",
    "\n",
    "2) MinMaxScalar() == Transform/rescale features by scaling each feature to a given range (usually [0,1])\n",
    "\n",
    "3) normalize() == Scale/rescale input vectors individually to unit norm (vector length).\n",
    "\n",
    "source: https://scikit-learn.org/stable/modules/classes.html#module-sklearn.preprocessing\n",
    "\n"
   ]
  },
  {
   "cell_type": "markdown",
   "id": "e71ebb65",
   "metadata": {},
   "source": [
    "### 1) Using MinMaxScaler() method to rescale input features"
   ]
  },
  {
   "cell_type": "code",
   "execution_count": 19,
   "id": "102b941b",
   "metadata": {},
   "outputs": [],
   "source": [
    "# #- import necessary libraries for Neural Nets\n",
    "# from sklearn.preprocessing import MinMaxScaler\n",
    "\n",
    "# #- fit data\n",
    "\n",
    "# scaler_x = MinMaxScaler()\n",
    "# scaler_y = MinMaxScaler()\n",
    "\n",
    "# scaler_x.fit(X_train) # returns Fitted scaler\n",
    "# X_train_scaled = scaler_x.transform(X_train)  # transforms data\n",
    "\n",
    "# scaler_x.fit(X_test)\n",
    "# X_test_scaled = scaler_x.transform(X_test)\n",
    "\n",
    "# scaler_y.fit(y_train)\n",
    "# y_train_scaled = scaler_y.transform(y_train)\n",
    "\n",
    "# scaler_y.fit(y_test)\n",
    "# y_test_scaled = scaler_y.transform(y_test)"
   ]
  },
  {
   "cell_type": "markdown",
   "id": "ca8d345c",
   "metadata": {},
   "source": [
    "### 2) Using StandardScaler() method \n",
    "\n",
    "Rescale input features to mean=0 and std=1"
   ]
  },
  {
   "cell_type": "code",
   "execution_count": 20,
   "id": "f1eae3b0",
   "metadata": {},
   "outputs": [],
   "source": [
    "from sklearn.preprocessing import StandardScaler\n",
    "\n",
    "scaler_x = StandardScaler()\n",
    "scaler_y = StandardScaler()\n",
    "\n",
    "x_train_scaled = scaler_x.fit(x_train).transform(x_train) # returns daata w/ mean 0 & std 1\n",
    "y_train_scaled = scaler_y.fit(y_train).transform(y_train)\n",
    "x_test_scaled = scaler_x.fit(x_test).transform(x_test)\n",
    "y_test_scaled = scaler_y.fit(y_test).transform(y_test)"
   ]
  },
  {
   "cell_type": "markdown",
   "id": "20410efa",
   "metadata": {},
   "source": [
    "Check types of input dataset data structure; should be 2D arrays, or Pandas DataFrame"
   ]
  },
  {
   "cell_type": "code",
   "execution_count": 21,
   "id": "5083172b",
   "metadata": {},
   "outputs": [
    {
     "name": "stdout",
     "output_type": "stream",
     "text": [
      "<class 'numpy.ndarray'>\n",
      "\n",
      "\n",
      "-3.7002878047241324e-17\n",
      "0.9999999999999999\n",
      "\n",
      "\n",
      "-2.939235703043282e-17\n",
      "1.0\n",
      "\n",
      "\n",
      "1.4253581441432167e-16\n",
      "0.9999999999999998\n",
      "\n",
      "\n",
      "6.082435230854586e-17\n",
      "1.0\n"
     ]
    }
   ],
   "source": [
    "print(type(x_train_scaled))\n",
    "# print(type(y_train_scaled))\n",
    "# print(type(x_test_scaled))\n",
    "# print(type(y_test_scaled))\n",
    "print('\\n')\n",
    "print(x_train_scaled.mean())\n",
    "print(x_train_scaled.std())\n",
    "print('\\n')\n",
    "print(y_train_scaled.mean())\n",
    "print(y_train_scaled.std())\n",
    "print('\\n')\n",
    "print(x_test_scaled.mean())\n",
    "print(x_test_scaled.std())\n",
    "print('\\n')\n",
    "print(y_test_scaled.mean())\n",
    "print(y_test_scaled.std())"
   ]
  },
  {
   "cell_type": "code",
   "execution_count": 22,
   "id": "e2db9f92",
   "metadata": {},
   "outputs": [
    {
     "data": {
      "text/plain": [
       "(40613, 12)"
      ]
     },
     "execution_count": 22,
     "metadata": {},
     "output_type": "execute_result"
    }
   ],
   "source": [
    "x_train_scaled.shape"
   ]
  },
  {
   "cell_type": "markdown",
   "id": "e5aa2e9d",
   "metadata": {},
   "source": [
    "## >>> Neural Network (Regression) >>>"
   ]
  },
  {
   "cell_type": "markdown",
   "id": "18088f76",
   "metadata": {},
   "source": [
    "### Building the NN model\n",
    "Q- how find the best architecture? for mlp? \n",
    "\n",
    "let's do a architecture search\n",
    "\n",
    "source: https://towardsdatascience.com/how-to-find-optimal-neural-network-architecture-with-tensorflow-the-easy-way-50575a03d060"
   ]
  },
  {
   "cell_type": "code",
   "execution_count": 23,
   "id": "bd212990",
   "metadata": {},
   "outputs": [],
   "source": [
    "def get_models(num_layers: int,\n",
    "               min_nodes_per_layer: int,\n",
    "               max_nodes_per_layer: int,\n",
    "               node_step_size: int,\n",
    "               input_shape: tuple,\n",
    "               hidden_layer_activation: str = 'relu',\n",
    "               num_nodes_at_output: int = 1,\n",
    "               output_layer_activation: str = 'linear') -> list:   \n",
    "        \n",
    "        # https://stackoverflow.com/questions/14379753/what-does-mean-in-python-function-definitions\n",
    "        # allowing you to attach metadata to functions, describe their parameters (their expected types) and return values\n",
    "    \n",
    "    # creates a list from nodes that we have defined [min, max, step]\n",
    "    node_options = list(range(min_nodes_per_layer, \n",
    "                              max_nodes_per_layer + 1, \n",
    "                              node_step_size))\n",
    "    \n",
    "    # make a collection of sets of nodes for each hidden layer\n",
    "    layer_possibilities = [node_options] * num_layers\n",
    "    layer_node_permutations = list(itertools.product(*layer_possibilities))\n",
    "#     print('permutations:')\n",
    "#     print(layer_node_permutations)\n",
    "    \n",
    "    models = []\n",
    "    for permutation in layer_node_permutations:\n",
    "        \n",
    "        # setup input layer\n",
    "        model = tf.keras.Sequential()\n",
    "        model.add(tf.keras.layers.InputLayer(input_shape=input_shape, name=\"input-layer\"))\n",
    "        model_name = ''\n",
    "        \n",
    "        # setup hidden layers\n",
    "        for nodes_at_layer in permutation:\n",
    "            model.add(tf.keras.layers.Dense(nodes_at_layer, activation=hidden_layer_activation))\n",
    "            model_name += 'dense_'+str(nodes_at_layer)+'_'\n",
    "\n",
    "\n",
    "        # setup output layer\n",
    "        model.add(tf.keras.layers.Dense(num_nodes_at_output, activation=output_layer_activation, name=\"output-layer-SIR\"))\n",
    "        model._name = model_name[:-1]\n",
    "            \n",
    "        models.append(model)\n",
    "        \n",
    "    return models\n"
   ]
  },
  {
   "cell_type": "code",
   "execution_count": 24,
   "id": "03eec5d0",
   "metadata": {},
   "outputs": [],
   "source": [
    "def optimize_run(models: list,\n",
    "             X_train: np.array,\n",
    "             y_train: np.array,\n",
    "             X_test: np.array,\n",
    "             y_test: np.array,\n",
    "             epochs: int,\n",
    "             batch_size: int, \n",
    "             validation_split: float,\n",
    "             verbose: int = 0) -> pd.DataFrame:\n",
    "    \n",
    "    \n",
    "    # We will store the results in this list\n",
    "    results = []\n",
    "    def train(model: tf.keras.Sequential) -> dict:\n",
    "        \n",
    "        adam_lrt = 0.001\n",
    "        opt_alg = tf.keras.optimizers.Adam(\n",
    "                    learning_rate=adam_lrt,   # then everu step * 10 to get to 10\n",
    "                    beta_1=0.9,\n",
    "                    beta_2=0.999,\n",
    "                    epsilon=1e-07,\n",
    "                    amsgrad=False,\n",
    "                    name='Adam'\n",
    "        )\n",
    "        \n",
    "        # Compile each model\n",
    "        model.compile(\n",
    "                    loss='mse', # note: we build our model w/this error metric and unit scale\n",
    "                    optimizer=opt_alg, \n",
    "                    metrics=['mse','mae']\n",
    "        )\n",
    "\n",
    "        # Train the model/ fit our algorithm to dataset\n",
    "        model.fit(\n",
    "                X_train,\n",
    "                y_train,\n",
    "                epochs=epochs,\n",
    "                verbose=verbose,\n",
    "                batch_size=batch_size,\n",
    "                validation_split=validation_split\n",
    "        )\n",
    "        \n",
    "\n",
    "        # Make predictions on the test set\n",
    "        y_pred_scaled = model.predict(X_test, verbose=verbose)  # Generates output predictions for the input samples; note: the error metric is MSE\n",
    "        \n",
    "        # inverse y-pred to original scale\n",
    "        y_pred = scaler_y.inverse_transform(y_pred_scaled)\n",
    "#         print(y_pred)\n",
    "        \n",
    "        # compare y and y-hat in original scale\n",
    "        rmse_y_pred_test = math.sqrt(mean_squared_error(y_test, y_pred))\n",
    "        \n",
    "##########################################       \n",
    "#         # Evaluation on test data\n",
    "#         preds = model.evaluate(\n",
    "#             X_test, \n",
    "#             y_test, \n",
    "#             batch_size=20, \n",
    "#             verbose=0) # Returns the loss value & metrics values for the model in test mode\n",
    "#         print('return of evaluate(.)')\n",
    "#         print(preds)\n",
    "#         mse_test = preds[1]\n",
    "#         mae_test = preds[2]\n",
    "##########################################         \n",
    "\n",
    "        # Return evaluation metrics on the test set\n",
    "        return {\n",
    "            'model_name': model.name,\n",
    "            #'test_rmse': math.sqrt(mse_test),\n",
    "            #'test_mae': mae_test,\n",
    "            'rmse_y_pred_test (cm)': round(rmse_y_pred_test, 1)\n",
    "        }\n",
    "\n",
    "    # Train every model and save results in the list above and tur it to DF\n",
    "    for model in models:\n",
    "        try:\n",
    "            print(model.name, end=' ... \\n')\n",
    "            \n",
    "#             # print model architecture\n",
    "#             print(model.summary())\n",
    "            \n",
    "            res = train(model=model)\n",
    "            results.append(res)\n",
    "        except Exception as e:\n",
    "            print(f'{model.name} --> {str(e)}') # how change to nornal print?\n",
    "        \n",
    "    return pd.DataFrame(results)\n"
   ]
  },
  {
   "cell_type": "markdown",
   "id": "de6538bb",
   "metadata": {},
   "source": [
    "## Build all models in iterations for different layer options\n",
    "\n",
    "Run this to iterate with different hidden layers + iterate over several node options in one single hidden layer"
   ]
  },
  {
   "cell_type": "code",
   "execution_count": 25,
   "id": "168f3145",
   "metadata": {},
   "outputs": [
    {
     "name": "stderr",
     "output_type": "stream",
     "text": [
      "2022-09-01 17:06:38.702458: I tensorflow/core/platform/cpu_feature_guard.cc:193] This TensorFlow binary is optimized with oneAPI Deep Neural Network Library (oneDNN) to use the following CPU instructions in performance-critical operations:  AVX2 FMA\n",
      "To enable them in other operations, rebuild TensorFlow with the appropriate compiler flags.\n"
     ]
    }
   ],
   "source": [
    "num_layers = 2 # not putput layer?\n",
    "same_size = 9\n",
    "\n",
    "all_models = get_models(\n",
    "                        num_layers=num_layers, \n",
    "                        min_nodes_per_layer=9, \n",
    "                        max_nodes_per_layer=100, \n",
    "                        node_step_size=18, # this adds to the number of nodes at min_nodes_per_layer ==> 10x in each step\n",
    "                        input_shape=(input_layer_size,) # should be tuple and similar to input feature size of the vector\n",
    "                    )\n"
   ]
  },
  {
   "cell_type": "code",
   "execution_count": 26,
   "id": "f11a43d3",
   "metadata": {},
   "outputs": [
    {
     "name": "stdout",
     "output_type": "stream",
     "text": [
      "Model: \"dense_9_dense_9\"\n",
      "_________________________________________________________________\n",
      " Layer (type)                Output Shape              Param #   \n",
      "=================================================================\n",
      " dense (Dense)               (None, 9)                 117       \n",
      "                                                                 \n",
      " dense_1 (Dense)             (None, 9)                 90        \n",
      "                                                                 \n",
      " output-layer-SIR (Dense)    (None, 1)                 10        \n",
      "                                                                 \n",
      "=================================================================\n",
      "Total params: 217\n",
      "Trainable params: 217\n",
      "Non-trainable params: 0\n",
      "_________________________________________________________________\n"
     ]
    }
   ],
   "source": [
    "# shape of a single model \n",
    "\n",
    "all_models[0].summary()"
   ]
  },
  {
   "cell_type": "code",
   "execution_count": 27,
   "id": "2459dbb7",
   "metadata": {},
   "outputs": [
    {
     "name": "stdout",
     "output_type": "stream",
     "text": [
      "number of models to run: 36\n"
     ]
    }
   ],
   "source": [
    "print('number of models to run: %s' %len(all_models))"
   ]
  },
  {
   "cell_type": "markdown",
   "id": "011a863e",
   "metadata": {},
   "source": [
    "## Running the optimization"
   ]
  },
  {
   "cell_type": "code",
   "execution_count": 28,
   "id": "fbd1bbc2",
   "metadata": {},
   "outputs": [
    {
     "name": "stdout",
     "output_type": "stream",
     "text": [
      "dense_9_dense_9 ... \n",
      "dense_9_dense_27 ... \n",
      "dense_9_dense_45 ... \n",
      "dense_9_dense_63 ... \n",
      "dense_9_dense_81 ... \n",
      "dense_9_dense_99 ... \n",
      "dense_27_dense_9 ... \n",
      "dense_27_dense_27 ... \n",
      "dense_27_dense_45 ... \n",
      "dense_27_dense_63 ... \n",
      "dense_27_dense_81 ... \n",
      "dense_27_dense_99 ... \n",
      "dense_45_dense_9 ... \n",
      "dense_45_dense_27 ... \n",
      "dense_45_dense_45 ... \n",
      "dense_45_dense_63 ... \n",
      "dense_45_dense_81 ... \n",
      "dense_45_dense_99 ... \n",
      "dense_63_dense_9 ... \n",
      "dense_63_dense_27 ... \n",
      "dense_63_dense_45 ... \n",
      "dense_63_dense_63 ... \n",
      "dense_63_dense_81 ... \n",
      "dense_63_dense_99 ... \n",
      "dense_81_dense_9 ... \n",
      "dense_81_dense_27 ... \n",
      "dense_81_dense_45 ... \n",
      "dense_81_dense_63 ... \n",
      "dense_81_dense_81 ... \n",
      "dense_81_dense_99 ... \n",
      "dense_99_dense_9 ... \n",
      "dense_99_dense_27 ... \n",
      "dense_99_dense_45 ... \n",
      "dense_99_dense_63 ... \n",
      "dense_99_dense_81 ... \n",
      "dense_99_dense_99 ... \n"
     ]
    }
   ],
   "source": [
    "optimization_results = optimize_run(\n",
    "                                    models=all_models,\n",
    "                                    X_train=x_train_scaled,\n",
    "                                    y_train=y_train_scaled,\n",
    "                                    X_test=x_test_scaled,\n",
    "                                    y_test=y_test,\n",
    "                                    epochs=50,\n",
    "                                    batch_size=100,\n",
    "                                    validation_split=0.2\n",
    ")\n"
   ]
  },
  {
   "cell_type": "code",
   "execution_count": 29,
   "id": "971e78fb",
   "metadata": {},
   "outputs": [
    {
     "data": {
      "text/html": [
       "<div>\n",
       "<style scoped>\n",
       "    .dataframe tbody tr th:only-of-type {\n",
       "        vertical-align: middle;\n",
       "    }\n",
       "\n",
       "    .dataframe tbody tr th {\n",
       "        vertical-align: top;\n",
       "    }\n",
       "\n",
       "    .dataframe thead th {\n",
       "        text-align: right;\n",
       "    }\n",
       "</style>\n",
       "<table border=\"1\" class=\"dataframe\">\n",
       "  <thead>\n",
       "    <tr style=\"text-align: right;\">\n",
       "      <th></th>\n",
       "      <th>model_name</th>\n",
       "      <th>rmse_y_pred_test (cm)</th>\n",
       "    </tr>\n",
       "  </thead>\n",
       "  <tbody>\n",
       "    <tr>\n",
       "      <th>0</th>\n",
       "      <td>dense_9_dense_9</td>\n",
       "      <td>6.0</td>\n",
       "    </tr>\n",
       "    <tr>\n",
       "      <th>1</th>\n",
       "      <td>dense_9_dense_27</td>\n",
       "      <td>6.1</td>\n",
       "    </tr>\n",
       "    <tr>\n",
       "      <th>2</th>\n",
       "      <td>dense_9_dense_45</td>\n",
       "      <td>6.1</td>\n",
       "    </tr>\n",
       "    <tr>\n",
       "      <th>3</th>\n",
       "      <td>dense_9_dense_63</td>\n",
       "      <td>6.2</td>\n",
       "    </tr>\n",
       "    <tr>\n",
       "      <th>4</th>\n",
       "      <td>dense_9_dense_81</td>\n",
       "      <td>6.3</td>\n",
       "    </tr>\n",
       "    <tr>\n",
       "      <th>5</th>\n",
       "      <td>dense_9_dense_99</td>\n",
       "      <td>6.5</td>\n",
       "    </tr>\n",
       "    <tr>\n",
       "      <th>6</th>\n",
       "      <td>dense_27_dense_9</td>\n",
       "      <td>6.4</td>\n",
       "    </tr>\n",
       "    <tr>\n",
       "      <th>7</th>\n",
       "      <td>dense_27_dense_27</td>\n",
       "      <td>6.2</td>\n",
       "    </tr>\n",
       "    <tr>\n",
       "      <th>8</th>\n",
       "      <td>dense_27_dense_45</td>\n",
       "      <td>6.0</td>\n",
       "    </tr>\n",
       "    <tr>\n",
       "      <th>9</th>\n",
       "      <td>dense_27_dense_63</td>\n",
       "      <td>6.2</td>\n",
       "    </tr>\n",
       "    <tr>\n",
       "      <th>10</th>\n",
       "      <td>dense_27_dense_81</td>\n",
       "      <td>6.0</td>\n",
       "    </tr>\n",
       "    <tr>\n",
       "      <th>11</th>\n",
       "      <td>dense_27_dense_99</td>\n",
       "      <td>6.0</td>\n",
       "    </tr>\n",
       "    <tr>\n",
       "      <th>12</th>\n",
       "      <td>dense_45_dense_9</td>\n",
       "      <td>6.3</td>\n",
       "    </tr>\n",
       "    <tr>\n",
       "      <th>13</th>\n",
       "      <td>dense_45_dense_27</td>\n",
       "      <td>6.5</td>\n",
       "    </tr>\n",
       "    <tr>\n",
       "      <th>14</th>\n",
       "      <td>dense_45_dense_45</td>\n",
       "      <td>6.4</td>\n",
       "    </tr>\n",
       "    <tr>\n",
       "      <th>15</th>\n",
       "      <td>dense_45_dense_63</td>\n",
       "      <td>6.5</td>\n",
       "    </tr>\n",
       "    <tr>\n",
       "      <th>16</th>\n",
       "      <td>dense_45_dense_81</td>\n",
       "      <td>6.5</td>\n",
       "    </tr>\n",
       "    <tr>\n",
       "      <th>17</th>\n",
       "      <td>dense_45_dense_99</td>\n",
       "      <td>6.2</td>\n",
       "    </tr>\n",
       "    <tr>\n",
       "      <th>18</th>\n",
       "      <td>dense_63_dense_9</td>\n",
       "      <td>6.1</td>\n",
       "    </tr>\n",
       "    <tr>\n",
       "      <th>19</th>\n",
       "      <td>dense_63_dense_27</td>\n",
       "      <td>6.0</td>\n",
       "    </tr>\n",
       "    <tr>\n",
       "      <th>20</th>\n",
       "      <td>dense_63_dense_45</td>\n",
       "      <td>6.2</td>\n",
       "    </tr>\n",
       "    <tr>\n",
       "      <th>21</th>\n",
       "      <td>dense_63_dense_63</td>\n",
       "      <td>6.0</td>\n",
       "    </tr>\n",
       "    <tr>\n",
       "      <th>22</th>\n",
       "      <td>dense_63_dense_81</td>\n",
       "      <td>6.2</td>\n",
       "    </tr>\n",
       "    <tr>\n",
       "      <th>23</th>\n",
       "      <td>dense_63_dense_99</td>\n",
       "      <td>6.3</td>\n",
       "    </tr>\n",
       "    <tr>\n",
       "      <th>24</th>\n",
       "      <td>dense_81_dense_9</td>\n",
       "      <td>6.1</td>\n",
       "    </tr>\n",
       "    <tr>\n",
       "      <th>25</th>\n",
       "      <td>dense_81_dense_27</td>\n",
       "      <td>6.3</td>\n",
       "    </tr>\n",
       "    <tr>\n",
       "      <th>26</th>\n",
       "      <td>dense_81_dense_45</td>\n",
       "      <td>6.2</td>\n",
       "    </tr>\n",
       "    <tr>\n",
       "      <th>27</th>\n",
       "      <td>dense_81_dense_63</td>\n",
       "      <td>6.2</td>\n",
       "    </tr>\n",
       "    <tr>\n",
       "      <th>28</th>\n",
       "      <td>dense_81_dense_81</td>\n",
       "      <td>6.4</td>\n",
       "    </tr>\n",
       "    <tr>\n",
       "      <th>29</th>\n",
       "      <td>dense_81_dense_99</td>\n",
       "      <td>6.0</td>\n",
       "    </tr>\n",
       "    <tr>\n",
       "      <th>30</th>\n",
       "      <td>dense_99_dense_9</td>\n",
       "      <td>6.5</td>\n",
       "    </tr>\n",
       "    <tr>\n",
       "      <th>31</th>\n",
       "      <td>dense_99_dense_27</td>\n",
       "      <td>6.3</td>\n",
       "    </tr>\n",
       "    <tr>\n",
       "      <th>32</th>\n",
       "      <td>dense_99_dense_45</td>\n",
       "      <td>6.3</td>\n",
       "    </tr>\n",
       "    <tr>\n",
       "      <th>33</th>\n",
       "      <td>dense_99_dense_63</td>\n",
       "      <td>6.0</td>\n",
       "    </tr>\n",
       "    <tr>\n",
       "      <th>34</th>\n",
       "      <td>dense_99_dense_81</td>\n",
       "      <td>6.2</td>\n",
       "    </tr>\n",
       "    <tr>\n",
       "      <th>35</th>\n",
       "      <td>dense_99_dense_99</td>\n",
       "      <td>6.1</td>\n",
       "    </tr>\n",
       "  </tbody>\n",
       "</table>\n",
       "</div>"
      ],
      "text/plain": [
       "           model_name  rmse_y_pred_test (cm)\n",
       "0     dense_9_dense_9                    6.0\n",
       "1    dense_9_dense_27                    6.1\n",
       "2    dense_9_dense_45                    6.1\n",
       "3    dense_9_dense_63                    6.2\n",
       "4    dense_9_dense_81                    6.3\n",
       "5    dense_9_dense_99                    6.5\n",
       "6    dense_27_dense_9                    6.4\n",
       "7   dense_27_dense_27                    6.2\n",
       "8   dense_27_dense_45                    6.0\n",
       "9   dense_27_dense_63                    6.2\n",
       "10  dense_27_dense_81                    6.0\n",
       "11  dense_27_dense_99                    6.0\n",
       "12   dense_45_dense_9                    6.3\n",
       "13  dense_45_dense_27                    6.5\n",
       "14  dense_45_dense_45                    6.4\n",
       "15  dense_45_dense_63                    6.5\n",
       "16  dense_45_dense_81                    6.5\n",
       "17  dense_45_dense_99                    6.2\n",
       "18   dense_63_dense_9                    6.1\n",
       "19  dense_63_dense_27                    6.0\n",
       "20  dense_63_dense_45                    6.2\n",
       "21  dense_63_dense_63                    6.0\n",
       "22  dense_63_dense_81                    6.2\n",
       "23  dense_63_dense_99                    6.3\n",
       "24   dense_81_dense_9                    6.1\n",
       "25  dense_81_dense_27                    6.3\n",
       "26  dense_81_dense_45                    6.2\n",
       "27  dense_81_dense_63                    6.2\n",
       "28  dense_81_dense_81                    6.4\n",
       "29  dense_81_dense_99                    6.0\n",
       "30   dense_99_dense_9                    6.5\n",
       "31  dense_99_dense_27                    6.3\n",
       "32  dense_99_dense_45                    6.3\n",
       "33  dense_99_dense_63                    6.0\n",
       "34  dense_99_dense_81                    6.2\n",
       "35  dense_99_dense_99                    6.1"
      ]
     },
     "execution_count": 29,
     "metadata": {},
     "output_type": "execute_result"
    }
   ],
   "source": [
    "optimization_results"
   ]
  },
  {
   "cell_type": "markdown",
   "id": "1b39927f",
   "metadata": {},
   "source": [
    "## write to disk"
   ]
  },
  {
   "cell_type": "code",
   "execution_count": 30,
   "id": "7559f7e7",
   "metadata": {},
   "outputs": [
    {
     "data": {
      "text/plain": [
       "'/Users/ehsanmos/MLP_dataset/atmmodels/mlp_search_architecture_for_april_and_july_num_layers_2_multiLayerSize_rmse.csv'"
      ]
     },
     "execution_count": 30,
     "metadata": {},
     "output_type": "execute_result"
    }
   ],
   "source": [
    "output_dir = dataset_dir\n",
    "# output_file = 'mlp_search_architecture_for_april_and_july_num_layers_'+str(num_layers)+'_sameLayerSize_'+str(same_size)+'_rmse.csv'\n",
    "output_file = 'mlp_search_architecture_for_april_and_july_num_layers_'+str(num_layers)+'_multiLayerSize_rmse.csv'\n",
    "\n",
    "output_fp = os.path.join(output_dir, output_file)\n",
    "optimization_results.to_csv(output_fp, index=False)\n",
    "output_fp\n"
   ]
  },
  {
   "cell_type": "markdown",
   "id": "f0642131",
   "metadata": {},
   "source": [
    "# >>> run DNN again for a single architecture run >>>"
   ]
  },
  {
   "cell_type": "markdown",
   "id": "abfcf4b8",
   "metadata": {},
   "source": [
    "## build/setup layers"
   ]
  },
  {
   "cell_type": "code",
   "execution_count": 31,
   "id": "6ed4a80c",
   "metadata": {},
   "outputs": [],
   "source": [
    "# def build_model(input_shape: int,\n",
    "#                 hidden_layers_nodes: list,                \n",
    "#                 hidden_layer_activation: str = 'relu',\n",
    "#                 num_nodes_at_output: int = 1,\n",
    "#                 output_layer_activation: str = 'linear'):\n",
    "        \n",
    "#     # setup input layer\n",
    "#     model = tf.keras.Sequential()\n",
    "#     model.add(tf.keras.layers.InputLayer(input_shape=input_shape, name=\"input-layer\"))\n",
    "#     model_name = ''\n",
    "\n",
    "#     # setup hidden layers\n",
    "#     for nodes_at_layer in hidden_layers_nodes:\n",
    "#         model.add(tf.keras.layers.Dense(nodes_at_layer, activation=hidden_layer_activation))\n",
    "#         model_name += 'dense_'+str(nodes_at_layer)+'_'\n",
    "\n",
    "#     # setup output layer\n",
    "#     model.add(tf.keras.layers.Dense(num_nodes_at_output, activation=output_layer_activation, name=\"output-layer-SIR\"))\n",
    "#     model._name = model_name[:-1]\n",
    "    \n",
    "#     return model \n"
   ]
  },
  {
   "cell_type": "code",
   "execution_count": 32,
   "id": "c81eb164",
   "metadata": {},
   "outputs": [],
   "source": [
    "# layers_node_list = [9, 9]\n",
    "# built_model = build_model(input_shape = 9, \n",
    "#                         hidden_layers_nodes = layers_node_list)\n",
    "\n",
    "# built_model"
   ]
  },
  {
   "cell_type": "markdown",
   "id": "eea149b1",
   "metadata": {},
   "source": [
    "## compile DNN model"
   ]
  },
  {
   "cell_type": "code",
   "execution_count": 33,
   "id": "5ab48977",
   "metadata": {},
   "outputs": [],
   "source": [
    "# adam_lrt = 0.001\n",
    "# opt_alg = tf.keras.optimizers.Adam(\n",
    "#                                 learning_rate=adam_lrt,   # then everu step * 10 to get to 10\n",
    "#                                 beta_1=0.9,\n",
    "#                                 beta_2=0.999,\n",
    "#                                 epsilon=1e-07,\n",
    "#                                 amsgrad=False,\n",
    "#                                 name='Adam'\n",
    "# )\n",
    "\n",
    "\n",
    "# # Compile each model\n",
    "# built_model.compile(\n",
    "#                 loss='mse', \n",
    "#                 optimizer=opt_alg, \n",
    "#                 metrics=['mse','mae']\n",
    "#             )\n",
    "\n",
    "# built_model.summary()"
   ]
  },
  {
   "cell_type": "markdown",
   "id": "0f6d8426",
   "metadata": {},
   "source": [
    "## train our model/ fit algorithm to train dataset"
   ]
  },
  {
   "cell_type": "code",
   "execution_count": 34,
   "id": "d6516ec4",
   "metadata": {},
   "outputs": [],
   "source": [
    "# train_history = built_model.fit(\n",
    "#     x_train_scaled,\n",
    "#     y_train_scaled,\n",
    "#     epochs=200,\n",
    "#     verbose=1,\n",
    "#     batch_size=100,\n",
    "#     validation_split=0.2\n",
    "# )"
   ]
  },
  {
   "cell_type": "code",
   "execution_count": 35,
   "id": "026f7c34",
   "metadata": {},
   "outputs": [],
   "source": [
    "# type(train_history)"
   ]
  },
  {
   "cell_type": "markdown",
   "id": "e43c0522",
   "metadata": {},
   "source": [
    "## plot loss of training"
   ]
  },
  {
   "cell_type": "code",
   "execution_count": 36,
   "id": "d6406b4f",
   "metadata": {},
   "outputs": [],
   "source": [
    "# print(train_history.history.keys())\n",
    "# # \"Loss\" val==validation==test\n",
    "# plt.plot(train_history.history['loss'])\n",
    "# plt.plot(train_history.history['val_loss'])\n",
    "# plt.title('model loss')\n",
    "# plt.ylabel('loss')\n",
    "# plt.xlabel('epoch')\n",
    "# plt.legend(['train', 'validation'], loc='upper left')\n",
    "# plt.show()"
   ]
  },
  {
   "cell_type": "markdown",
   "id": "d5f686bf",
   "metadata": {},
   "source": [
    "## Make predictions on the test set"
   ]
  },
  {
   "cell_type": "code",
   "execution_count": 37,
   "id": "a0ffa864",
   "metadata": {},
   "outputs": [],
   "source": [
    "# y_pred_scaled = built_model.predict(x_test_scaled, verbose=1)  # Generates output predictions for the input samples\n",
    "# # inverse y-pred to original scale\n",
    "# y_pred = scaler_y.inverse_transform(y_pred_scaled)\n",
    "# # compare y & y-hat in original scale\n",
    "# rmse_pred_test = math.sqrt(mean_squared_error(y_test, y_pred))\n",
    "# rmse_pred_test\n"
   ]
  },
  {
   "cell_type": "code",
   "execution_count": null,
   "id": "e0ba00cb",
   "metadata": {},
   "outputs": [],
   "source": []
  },
  {
   "cell_type": "markdown",
   "id": "0c6f4ab2",
   "metadata": {},
   "source": [
    "### time run"
   ]
  },
  {
   "cell_type": "code",
   "execution_count": 38,
   "id": "e418e2df",
   "metadata": {},
   "outputs": [
    {
     "name": "stdout",
     "output_type": "stream",
     "text": [
      "0:10:21.973071\n"
     ]
    }
   ],
   "source": [
    "now2 = dt.now()\n",
    "runtime = now2-now1\n",
    "print(runtime)"
   ]
  },
  {
   "cell_type": "code",
   "execution_count": null,
   "id": "bfc91f5d",
   "metadata": {},
   "outputs": [],
   "source": []
  },
  {
   "cell_type": "code",
   "execution_count": null,
   "id": "607cb1b8",
   "metadata": {},
   "outputs": [],
   "source": []
  }
 ],
 "metadata": {
  "kernelspec": {
   "display_name": "Python 3 (ipykernel)",
   "language": "python",
   "name": "python3"
  },
  "language_info": {
   "codemirror_mode": {
    "name": "ipython",
    "version": 3
   },
   "file_extension": ".py",
   "mimetype": "text/x-python",
   "name": "python",
   "nbconvert_exporter": "python",
   "pygments_lexer": "ipython3",
   "version": "3.9.13"
  }
 },
 "nbformat": 4,
 "nbformat_minor": 5
}
