{
 "cells": [
  {
   "cell_type": "code",
   "execution_count": 1,
   "id": "3dbc7ee9",
   "metadata": {},
   "outputs": [],
   "source": [
    "#- main machine learning libraries used\n",
    "\n",
    "import tensorflow\n",
    "import tensorflow.keras as keras  \n",
    "import sklearn\n",
    "\n",
    "#- other libraries used\n",
    "import os\n",
    "import pandas as pd\n",
    "import matplotlib.pyplot as plt \n",
    "from platform import python_version"
   ]
  },
  {
   "cell_type": "code",
   "execution_count": 2,
   "id": "3e0b69f6",
   "metadata": {},
   "outputs": [
    {
     "data": {
      "text/plain": [
       "'3.9.12'"
      ]
     },
     "execution_count": 2,
     "metadata": {},
     "output_type": "execute_result"
    }
   ],
   "source": [
    "python_version()"
   ]
  },
  {
   "cell_type": "code",
   "execution_count": 3,
   "id": "02be279c",
   "metadata": {},
   "outputs": [
    {
     "name": "stdout",
     "output_type": "stream",
     "text": [
      "latest run on: 2022-06-07 18:00:37.810853\n"
     ]
    }
   ],
   "source": [
    "from datetime import datetime\n",
    "today = datetime.today()\n",
    "\n",
    "print('latest run on:', today)"
   ]
  },
  {
   "cell_type": "markdown",
   "id": "7bcfe260",
   "metadata": {},
   "source": [
    "## check tensorflow version"
   ]
  },
  {
   "cell_type": "code",
   "execution_count": 4,
   "id": "57a7442b",
   "metadata": {},
   "outputs": [
    {
     "name": "stdout",
     "output_type": "stream",
     "text": [
      "2.9.1\n"
     ]
    }
   ],
   "source": [
    "print (tensorflow.__version__)"
   ]
  },
  {
   "cell_type": "markdown",
   "id": "7fb3750d",
   "metadata": {},
   "source": [
    "## my functions(.) here"
   ]
  },
  {
   "cell_type": "markdown",
   "id": "56aba0b3",
   "metadata": {},
   "source": [
    "## input directory"
   ]
  },
  {
   "cell_type": "code",
   "execution_count": 5,
   "id": "c9d30fc6",
   "metadata": {},
   "outputs": [],
   "source": [
    "dataset_dir = \"/Users/ehsanmos/MLP_dataset\""
   ]
  },
  {
   "cell_type": "code",
   "execution_count": 6,
   "id": "2bf041aa",
   "metadata": {},
   "outputs": [
    {
     "name": "stdout",
     "output_type": "stream",
     "text": [
      "dataset directory FOUND!\n"
     ]
    }
   ],
   "source": [
    "if os.path.isdir(dataset_dir) == False:\n",
    "    print(\"dataset directory NOT found!\")\n",
    "else:\n",
    "    print(\"dataset directory FOUND!\")"
   ]
  },
  {
   "cell_type": "markdown",
   "id": "eccbffb9",
   "metadata": {},
   "source": [
    "## Load input/ training dataset\n",
    "\n",
    "before doing this section, process filter final input dataset with \"check_n_filter_final_dataset\""
   ]
  },
  {
   "cell_type": "code",
   "execution_count": 7,
   "id": "4af39e8f",
   "metadata": {},
   "outputs": [],
   "source": [
    "in_ds = \"atmmodel_april_2016_k_zero_9cams4bands_preprocessed.csv\""
   ]
  },
  {
   "cell_type": "markdown",
   "id": "09b6dc59",
   "metadata": {},
   "source": [
    "## check if input dataset file exists"
   ]
  },
  {
   "cell_type": "code",
   "execution_count": 8,
   "id": "37ac74e6",
   "metadata": {},
   "outputs": [
    {
     "name": "stdout",
     "output_type": "stream",
     "text": [
      "/Users/ehsanmos/MLP_dataset/atmmodel_april_2016_k_zero_9cams4bands_preprocessed.csv\n",
      "input dataset found!\n"
     ]
    }
   ],
   "source": [
    "in_ds_fullpath = os.path.join(dataset_dir, in_ds)\n",
    "print(in_ds_fullpath)\n",
    "\n",
    "if (not os.path.isfile(os.path.join(in_ds_fullpath))):\n",
    "    raise SystemExit()\n",
    "else:\n",
    "    print(\"input dataset found!\")"
   ]
  },
  {
   "cell_type": "markdown",
   "id": "259b6d7b",
   "metadata": {},
   "source": [
    "## Read in dataset and look at dataset columns"
   ]
  },
  {
   "cell_type": "code",
   "execution_count": 9,
   "id": "b4582b5a",
   "metadata": {},
   "outputs": [],
   "source": [
    "df_orig = pd.read_csv(in_ds_fullpath, engine='python')"
   ]
  },
  {
   "cell_type": "code",
   "execution_count": 10,
   "id": "790ea7e3",
   "metadata": {},
   "outputs": [
    {
     "data": {
      "text/plain": [
       "(40775, 15)"
      ]
     },
     "execution_count": 10,
     "metadata": {},
     "output_type": "execute_result"
    }
   ],
   "source": [
    "df_orig.shape"
   ]
  },
  {
   "cell_type": "code",
   "execution_count": 11,
   "id": "4164b4d7",
   "metadata": {},
   "outputs": [
    {
     "data": {
      "text/plain": [
       "Index(['firstLat', 'firstLon', 'anr', 'ang', 'anb', 'annir', 'aa', 'af', 'ba',\n",
       "       'bf', 'ca', 'cf', 'da', 'df', 'rms'],\n",
       "      dtype='object')"
      ]
     },
     "execution_count": 11,
     "metadata": {},
     "output_type": "execute_result"
    }
   ],
   "source": [
    "df_orig.columns"
   ]
  },
  {
   "cell_type": "markdown",
   "id": "8170b8a4",
   "metadata": {},
   "source": [
    "Note: we will build an input dataset with 9 cameras to train the mlp model"
   ]
  },
  {
   "cell_type": "code",
   "execution_count": 12,
   "id": "654bfd8f",
   "metadata": {},
   "outputs": [
    {
     "name": "stdout",
     "output_type": "stream",
     "text": [
      "we are using 10 columns in our training dataset:\n",
      "Index(['anr', 'aa', 'af', 'ba', 'bf', 'ca', 'cf', 'da', 'df', 'rms'], dtype='object')\n"
     ]
    }
   ],
   "source": [
    "#- build dataset with 9 cameras\n",
    "excluce_columns = ['firstLat', 'firstLon', 'ang', 'anb', 'annir']\n",
    "input_ds_for_training = df_orig.drop(excluce_columns, axis=1)\n",
    "\n",
    "print('we are using %s columns in our training dataset:' %len(input_ds_for_training.columns))\n",
    "print(input_ds_for_training.columns)  # columns should be only 9 cameras + rms \n"
   ]
  },
  {
   "cell_type": "markdown",
   "id": "ba4b8050",
   "metadata": {},
   "source": [
    "## shuffle rows of input dataset"
   ]
  },
  {
   "cell_type": "code",
   "execution_count": 13,
   "id": "f7f0f96d",
   "metadata": {},
   "outputs": [],
   "source": [
    "from sklearn.utils import shuffle\n",
    "\n",
    "input_ds_for_training = shuffle(input_ds_for_training)"
   ]
  },
  {
   "cell_type": "markdown",
   "id": "9706d2b8",
   "metadata": {},
   "source": [
    "## Split dataset to train-test parts for training algorithms\n",
    "- we devided to plit our dataset to 2 parts (2-part split)\n",
    "- Here we use the ‘train_test_split’ to split the data in 80:20 ratio i.e. 80% of the data will be used for training the model while 20% will be used for testing the model that is built out of it.\n",
    "- note: last column should be label == rms"
   ]
  },
  {
   "cell_type": "code",
   "execution_count": 14,
   "id": "03d94ba4",
   "metadata": {},
   "outputs": [
    {
     "name": "stdout",
     "output_type": "stream",
     "text": [
      "(40775, 9)\n",
      "(40775, 1)\n"
     ]
    }
   ],
   "source": [
    "#- split data set to X and Y\n",
    "\n",
    "X = input_ds_for_training.iloc[:, :-1] # to select up to last column of dataset OR [:, 0:3]\n",
    "Y = input_ds_for_training.iloc[:, -1:] # to select last column of DF\n",
    "\n",
    "print(X.shape)\n",
    "print(Y.shape)"
   ]
  },
  {
   "cell_type": "code",
   "execution_count": 15,
   "id": "76e41811",
   "metadata": {},
   "outputs": [
    {
     "name": "stdout",
     "output_type": "stream",
     "text": [
      "test size= 30 percent\n",
      "train:\n",
      "(28542, 9)\n",
      "(28542, 1)\n",
      "test:\n",
      "(12233, 9)\n",
      "(12233, 1)\n"
     ]
    }
   ],
   "source": [
    "#- now split dataset to train-test\n",
    "\n",
    "from sklearn.model_selection import train_test_split\n",
    "\n",
    "#- we use this function to split data-- from here because we are usiong SKlearn library, we change all data structures from Pandas DF to numpy\n",
    "# X_train, X_test, y_train, y_test = train_test_split(X.to_numpy(), Y.to_numpy(), test_size=0.2, random_state=123) # Q- input is DF or numpy array?\n",
    "\n",
    "test_data_size = 0.3\n",
    "print(\"test size= %d percent\" %(test_data_size*100))\n",
    "x_train, x_test, y_train, y_test = train_test_split(X, Y, test_size=test_data_size, random_state=123) # Q- input is DF or numpy array?\n",
    "\n",
    "\n",
    "print(\"train:\")\n",
    "print(x_train.shape)\n",
    "print(y_train.shape)\n",
    "\n",
    "print(\"test:\")\n",
    "print(x_test.shape)\n",
    "print(y_test.shape)\n"
   ]
  },
  {
   "cell_type": "markdown",
   "id": "55b177d3",
   "metadata": {},
   "source": [
    "Qn- how about train-val-test (3 sections)? is this for DL?"
   ]
  },
  {
   "cell_type": "markdown",
   "id": "cb9b7538",
   "metadata": {},
   "source": [
    "## Feature scalling\n",
    "\n",
    "change the scale/range of input features from their original range to a new range. So changed features will have mean=0 and std=1.\n",
    "\n",
    "source: https://www.enjoyalgorithms.com/blog/need-of-feature-scaling-in-machine-learning\n",
    "\n",
    "- We rescale data after we split data to train-test\n",
    "- all features have the same range to reduce bias in data \n",
    "- perform this step before splitting data into train-test split\n",
    "- We normalize data using the training data\n",
    "\n",
    "Qn- why FS is important? why we do FS?\n",
    "\n",
    "Qn- which method? \n",
    "\n",
    "1) standardization/ Z-score/ StandardScaler() == mean=0 & std=1; Standardize features by removing the mean and scaling to unit variance; good for datasets w/ outliers;\n",
    "\n",
    "2) MinMaxScalar() == Transform features by scaling each feature to a given range (usually [0,1])\n",
    "\n",
    "3) normalize() == Scale input vectors individually to unit norm (vector length).\n",
    "\n",
    "source: https://scikit-learn.org/stable/modules/classes.html#module-sklearn.preprocessing\n",
    "\n"
   ]
  },
  {
   "cell_type": "markdown",
   "id": "e71ebb65",
   "metadata": {},
   "source": [
    "### 1) Using MinMaxScaler() method to rescale input features"
   ]
  },
  {
   "cell_type": "code",
   "execution_count": 16,
   "id": "102b941b",
   "metadata": {},
   "outputs": [],
   "source": [
    "# #- import necessary libraries for Neural Nets\n",
    "# from sklearn.preprocessing import MinMaxScaler\n",
    "\n",
    "# #- fit data\n",
    "\n",
    "# scaler_x = MinMaxScaler()\n",
    "# scaler_y = MinMaxScaler()\n",
    "\n",
    "# scaler_x.fit(X_train) # returns Fitted scaler\n",
    "# X_train_scaled = scaler_x.transform(X_train)  # transforms data\n",
    "\n",
    "# scaler_x.fit(X_test)\n",
    "# X_test_scaled = scaler_x.transform(X_test)\n",
    "\n",
    "# scaler_y.fit(y_train)\n",
    "# y_train_scaled = scaler_y.transform(y_train)\n",
    "\n",
    "# scaler_y.fit(y_test)\n",
    "# y_test_scaled = scaler_y.transform(y_test)"
   ]
  },
  {
   "cell_type": "markdown",
   "id": "ca8d345c",
   "metadata": {},
   "source": [
    "### 2) Using StandardScaler() method \n",
    "\n",
    "to rescale input features to mean of 0 and std of 1"
   ]
  },
  {
   "cell_type": "code",
   "execution_count": 17,
   "id": "f1eae3b0",
   "metadata": {},
   "outputs": [],
   "source": [
    "from sklearn.preprocessing import StandardScaler\n",
    "\n",
    "scaler_x = StandardScaler()\n",
    "scaler_y = StandardScaler()\n",
    "\n",
    "x_train_scaled = scaler_x.fit(x_train).transform(x_train) # returns daata w/ mean 0 & std 1\n",
    "y_train_scaled = scaler_y.fit(y_train).transform(y_train)\n",
    "x_test_scaled = scaler_x.fit(x_test).transform(x_test)\n",
    "y_test_scaled = scaler_y.fit(y_test).transform(y_test)"
   ]
  },
  {
   "cell_type": "markdown",
   "id": "20410efa",
   "metadata": {},
   "source": [
    "Check types of input dataset data structure; should be 2D arrays, or Pandas DataFrame"
   ]
  },
  {
   "cell_type": "code",
   "execution_count": 18,
   "id": "5083172b",
   "metadata": {},
   "outputs": [
    {
     "name": "stdout",
     "output_type": "stream",
     "text": [
      "-6.42281640481066e-17\n",
      "0.8819171036881969\n",
      "-7.468391168384488e-17\n",
      "1.0\n",
      "7.860714207978438e-17\n",
      "0.8819171036881969\n",
      "-2.4743824526592225e-16\n",
      "1.0\n"
     ]
    }
   ],
   "source": [
    "# print(type(x_train_scaled))\n",
    "# print(type(y_train_scaled))\n",
    "# print(type(x_test_scaled))\n",
    "# print(type(y_test_scaled))\n",
    "\n",
    "print(x_train_scaled.mean())\n",
    "print(x_train_scaled.std())\n",
    "print(y_train_scaled.mean())\n",
    "print(y_train_scaled.std())\n",
    "print(x_test_scaled.mean())\n",
    "print(x_test_scaled.std())\n",
    "print(y_test_scaled.mean())\n",
    "print(y_test_scaled.std())"
   ]
  },
  {
   "cell_type": "code",
   "execution_count": 19,
   "id": "e2db9f92",
   "metadata": {},
   "outputs": [
    {
     "data": {
      "text/plain": [
       "(28542, 9)"
      ]
     },
     "execution_count": 19,
     "metadata": {},
     "output_type": "execute_result"
    }
   ],
   "source": [
    "x_train_scaled.shape"
   ]
  },
  {
   "cell_type": "markdown",
   "id": "e5aa2e9d",
   "metadata": {},
   "source": [
    "## >>> Neural Network (Regression) >>>"
   ]
  },
  {
   "cell_type": "markdown",
   "id": "18088f76",
   "metadata": {},
   "source": [
    "### Building the NN model\n",
    "Q- how find the best architecture? for mlp?"
   ]
  },
  {
   "cell_type": "code",
   "execution_count": 20,
   "id": "416cd9d8",
   "metadata": {},
   "outputs": [
    {
     "name": "stdout",
     "output_type": "stream",
     "text": [
      "Model: \"sequential\"\n",
      "_________________________________________________________________\n",
      " Layer (type)                Output Shape              Param #   \n",
      "=================================================================\n",
      " hidden-layer-1 (Dense)      (None, 9)                 90        \n",
      "                                                                 \n",
      " output-layer-SIR (Dense)    (None, 1)                 10        \n",
      "                                                                 \n",
      "=================================================================\n",
      "Total params: 100\n",
      "Trainable params: 100\n",
      "Non-trainable params: 0\n",
      "_________________________________________________________________\n"
     ]
    },
    {
     "name": "stderr",
     "output_type": "stream",
     "text": [
      "2022-06-07 18:00:38.403590: I tensorflow/core/platform/cpu_feature_guard.cc:193] This TensorFlow binary is optimized with oneAPI Deep Neural Network Library (oneDNN) to use the following CPU instructions in performance-critical operations:  AVX2 FMA\n",
      "To enable them in other operations, rebuild TensorFlow with the appropriate compiler flags.\n"
     ]
    }
   ],
   "source": [
    "#- implementation-2\n",
    "import tensorflow as tf\n",
    "from tensorflow.keras import layers\n",
    "\n",
    "\n",
    "# Define Sequential model with 3 layers\n",
    "mlp_model = tf.keras.Sequential([\n",
    "    \n",
    "    # hidden layers\n",
    "    layers.Dense(9, input_dim=9, activation=\"relu\", kernel_initializer='normal', name=\"hidden-layer-1\"), # input_dim=3 == input shape will build our model automatically\n",
    "#     layers.Dense(9, activation=\"relu\", kernel_initializer='normal', name=\"hidden-layer-2\"),  # name should be attached; one single word!\n",
    "#     layers.Dense(9, activation=\"relu\", kernel_initializer='normal', name=\"hidden-layer-3\"),  # name should be attached; one single word!\n",
    "\n",
    "    \n",
    "\n",
    "    # output layer\n",
    "    layers.Dense(1, activation='linear', kernel_initializer='normal', name=\"output-layer-SIR\"),  # linear activation==no activation\n",
    "    ])\n",
    "\n",
    "mlp_model.summary()\n"
   ]
  },
  {
   "cell_type": "markdown",
   "id": "dd51ab30",
   "metadata": {},
   "source": [
    "### plot the model"
   ]
  },
  {
   "cell_type": "code",
   "execution_count": 31,
   "id": "c1519b81",
   "metadata": {},
   "outputs": [],
   "source": [
    "# from tensorflow.keras.utils import plot_model\n",
    "\n",
    "# plot_model(mlp_model, to_file='model.png', show_shapes=True, show_layer_names=True)"
   ]
  },
  {
   "cell_type": "code",
   "execution_count": 43,
   "id": "01c6bff4",
   "metadata": {},
   "outputs": [],
   "source": [
    "adam_lrt = 0.000001\n",
    "\n",
    "opt_alg = tf.keras.optimizers.Adam(\n",
    "            learning_rate=adam_lrt, # then everu step * 10 to get to 10\n",
    "            beta_1=0.9,\n",
    "            beta_2=0.999,\n",
    "            epsilon=1e-07,\n",
    "            amsgrad=False,\n",
    "            name='Adam'\n",
    ")\n"
   ]
  },
  {
   "cell_type": "markdown",
   "id": "63006212",
   "metadata": {},
   "source": [
    "### compile and train the model"
   ]
  },
  {
   "cell_type": "code",
   "execution_count": 44,
   "id": "1c20c5eb",
   "metadata": {},
   "outputs": [],
   "source": [
    "#- compile model\n",
    "\n",
    "mlp_model.compile(loss='mse', optimizer=opt_alg, metrics=['mse','mae'])\n"
   ]
  },
  {
   "cell_type": "code",
   "execution_count": 49,
   "id": "66466067",
   "metadata": {},
   "outputs": [
    {
     "data": {
      "text/plain": [
       "[[3, 1], [3, 1]]"
      ]
     },
     "execution_count": 49,
     "metadata": {},
     "output_type": "execute_result"
    }
   ],
   "source": [
    "mylist = [3,1]\n",
    "[mylist]*2"
   ]
  },
  {
   "cell_type": "code",
   "execution_count": 23,
   "id": "6fbb91bf",
   "metadata": {},
   "outputs": [
    {
     "name": "stdout",
     "output_type": "stream",
     "text": [
      "Epoch 1/50\n",
      "457/457 [==============================] - 1s 1ms/step - loss: 0.9728 - mse: 0.9728 - mae: 0.7672 - val_loss: 0.9940 - val_mse: 0.9940 - val_mae: 0.7634\n",
      "Epoch 2/50\n",
      "457/457 [==============================] - 0s 898us/step - loss: 0.9505 - mse: 0.9505 - mae: 0.7547 - val_loss: 0.9774 - val_mse: 0.9774 - val_mae: 0.7701\n",
      "Epoch 3/50\n",
      "457/457 [==============================] - 0s 910us/step - loss: 0.9377 - mse: 0.9377 - mae: 0.7493 - val_loss: 0.9638 - val_mse: 0.9638 - val_mae: 0.7596\n",
      "Epoch 4/50\n",
      "457/457 [==============================] - 0s 902us/step - loss: 0.9279 - mse: 0.9279 - mae: 0.7432 - val_loss: 0.9564 - val_mse: 0.9564 - val_mae: 0.7483\n",
      "Epoch 5/50\n",
      "457/457 [==============================] - 0s 916us/step - loss: 0.9216 - mse: 0.9216 - mae: 0.7378 - val_loss: 0.9516 - val_mse: 0.9516 - val_mae: 0.7515\n",
      "Epoch 6/50\n",
      "457/457 [==============================] - 0s 921us/step - loss: 0.9193 - mse: 0.9193 - mae: 0.7361 - val_loss: 0.9488 - val_mse: 0.9488 - val_mae: 0.7512\n",
      "Epoch 7/50\n",
      "457/457 [==============================] - 0s 907us/step - loss: 0.9168 - mse: 0.9168 - mae: 0.7344 - val_loss: 0.9463 - val_mse: 0.9463 - val_mae: 0.7461\n",
      "Epoch 8/50\n",
      "457/457 [==============================] - 0s 906us/step - loss: 0.9138 - mse: 0.9138 - mae: 0.7329 - val_loss: 0.9441 - val_mse: 0.9441 - val_mae: 0.7474\n",
      "Epoch 9/50\n",
      "457/457 [==============================] - 0s 926us/step - loss: 0.9132 - mse: 0.9132 - mae: 0.7322 - val_loss: 0.9430 - val_mse: 0.9430 - val_mae: 0.7476\n",
      "Epoch 10/50\n",
      "457/457 [==============================] - 0s 918us/step - loss: 0.9100 - mse: 0.9100 - mae: 0.7316 - val_loss: 0.9442 - val_mse: 0.9442 - val_mae: 0.7392\n",
      "Epoch 11/50\n",
      "457/457 [==============================] - 0s 915us/step - loss: 0.9090 - mse: 0.9090 - mae: 0.7293 - val_loss: 0.9414 - val_mse: 0.9414 - val_mae: 0.7432\n",
      "Epoch 12/50\n",
      "457/457 [==============================] - 0s 920us/step - loss: 0.9062 - mse: 0.9062 - mae: 0.7296 - val_loss: 0.9384 - val_mse: 0.9384 - val_mae: 0.7417\n",
      "Epoch 13/50\n",
      "457/457 [==============================] - 0s 919us/step - loss: 0.9027 - mse: 0.9027 - mae: 0.7264 - val_loss: 0.9349 - val_mse: 0.9349 - val_mae: 0.7409\n",
      "Epoch 14/50\n",
      "457/457 [==============================] - 0s 916us/step - loss: 0.8980 - mse: 0.8980 - mae: 0.7253 - val_loss: 0.9358 - val_mse: 0.9358 - val_mae: 0.7272\n",
      "Epoch 15/50\n",
      "457/457 [==============================] - 0s 908us/step - loss: 0.8946 - mse: 0.8946 - mae: 0.7230 - val_loss: 0.9282 - val_mse: 0.9282 - val_mae: 0.7310\n",
      "Epoch 16/50\n",
      "457/457 [==============================] - 0s 910us/step - loss: 0.8911 - mse: 0.8911 - mae: 0.7208 - val_loss: 0.9241 - val_mse: 0.9241 - val_mae: 0.7301\n",
      "Epoch 17/50\n",
      "457/457 [==============================] - 0s 919us/step - loss: 0.8864 - mse: 0.8864 - mae: 0.7190 - val_loss: 0.9210 - val_mse: 0.9210 - val_mae: 0.7261\n",
      "Epoch 18/50\n",
      "457/457 [==============================] - 0s 903us/step - loss: 0.8828 - mse: 0.8828 - mae: 0.7164 - val_loss: 0.9146 - val_mse: 0.9146 - val_mae: 0.7320\n",
      "Epoch 19/50\n",
      "457/457 [==============================] - 0s 913us/step - loss: 0.8792 - mse: 0.8792 - mae: 0.7147 - val_loss: 0.9130 - val_mse: 0.9130 - val_mae: 0.7345\n",
      "Epoch 20/50\n",
      "457/457 [==============================] - 0s 911us/step - loss: 0.8767 - mse: 0.8767 - mae: 0.7152 - val_loss: 0.9105 - val_mse: 0.9105 - val_mae: 0.7239\n",
      "Epoch 21/50\n",
      "457/457 [==============================] - 0s 913us/step - loss: 0.8735 - mse: 0.8735 - mae: 0.7121 - val_loss: 0.9066 - val_mse: 0.9066 - val_mae: 0.7278\n",
      "Epoch 22/50\n",
      "457/457 [==============================] - 0s 922us/step - loss: 0.8693 - mse: 0.8693 - mae: 0.7110 - val_loss: 0.9047 - val_mse: 0.9047 - val_mae: 0.7223\n",
      "Epoch 23/50\n",
      "457/457 [==============================] - 0s 923us/step - loss: 0.8664 - mse: 0.8664 - mae: 0.7088 - val_loss: 0.9044 - val_mse: 0.9044 - val_mae: 0.7141\n",
      "Epoch 24/50\n",
      "457/457 [==============================] - 0s 961us/step - loss: 0.8643 - mse: 0.8643 - mae: 0.7071 - val_loss: 0.8983 - val_mse: 0.8983 - val_mae: 0.7221\n",
      "Epoch 25/50\n",
      "457/457 [==============================] - 0s 963us/step - loss: 0.8616 - mse: 0.8616 - mae: 0.7058 - val_loss: 0.8972 - val_mse: 0.8972 - val_mae: 0.7201\n",
      "Epoch 26/50\n",
      "457/457 [==============================] - 0s 914us/step - loss: 0.8595 - mse: 0.8595 - mae: 0.7044 - val_loss: 0.8959 - val_mse: 0.8959 - val_mae: 0.7213\n",
      "Epoch 27/50\n",
      "457/457 [==============================] - 0s 907us/step - loss: 0.8579 - mse: 0.8579 - mae: 0.7038 - val_loss: 0.8944 - val_mse: 0.8944 - val_mae: 0.7190\n",
      "Epoch 28/50\n",
      "457/457 [==============================] - 0s 900us/step - loss: 0.8563 - mse: 0.8563 - mae: 0.7035 - val_loss: 0.8911 - val_mse: 0.8911 - val_mae: 0.7164\n",
      "Epoch 29/50\n",
      "457/457 [==============================] - 0s 905us/step - loss: 0.8541 - mse: 0.8541 - mae: 0.7015 - val_loss: 0.8895 - val_mse: 0.8895 - val_mae: 0.7177\n",
      "Epoch 30/50\n",
      "457/457 [==============================] - 0s 921us/step - loss: 0.8529 - mse: 0.8529 - mae: 0.7011 - val_loss: 0.8874 - val_mse: 0.8874 - val_mae: 0.7182\n",
      "Epoch 31/50\n",
      "457/457 [==============================] - 0s 950us/step - loss: 0.8517 - mse: 0.8517 - mae: 0.7005 - val_loss: 0.8894 - val_mse: 0.8894 - val_mae: 0.7086\n",
      "Epoch 32/50\n",
      "457/457 [==============================] - 0s 938us/step - loss: 0.8499 - mse: 0.8499 - mae: 0.6992 - val_loss: 0.8855 - val_mse: 0.8855 - val_mae: 0.7190\n",
      "Epoch 33/50\n",
      "457/457 [==============================] - 0s 913us/step - loss: 0.8491 - mse: 0.8491 - mae: 0.6993 - val_loss: 0.8946 - val_mse: 0.8946 - val_mae: 0.7004\n",
      "Epoch 34/50\n",
      "457/457 [==============================] - 0s 915us/step - loss: 0.8476 - mse: 0.8476 - mae: 0.6970 - val_loss: 0.8836 - val_mse: 0.8836 - val_mae: 0.7171\n",
      "Epoch 35/50\n",
      "457/457 [==============================] - 0s 922us/step - loss: 0.8468 - mse: 0.8468 - mae: 0.6975 - val_loss: 0.8871 - val_mse: 0.8871 - val_mae: 0.7064\n",
      "Epoch 36/50\n",
      "457/457 [==============================] - 0s 920us/step - loss: 0.8463 - mse: 0.8463 - mae: 0.6966 - val_loss: 0.8829 - val_mse: 0.8829 - val_mae: 0.7128\n",
      "Epoch 37/50\n",
      "457/457 [==============================] - 0s 905us/step - loss: 0.8453 - mse: 0.8453 - mae: 0.6970 - val_loss: 0.8809 - val_mse: 0.8809 - val_mae: 0.7156\n",
      "Epoch 38/50\n",
      "457/457 [==============================] - 0s 908us/step - loss: 0.8450 - mse: 0.8450 - mae: 0.6953 - val_loss: 0.8809 - val_mse: 0.8809 - val_mae: 0.7182\n",
      "Epoch 39/50\n",
      "457/457 [==============================] - 0s 900us/step - loss: 0.8444 - mse: 0.8444 - mae: 0.6957 - val_loss: 0.8812 - val_mse: 0.8812 - val_mae: 0.7114\n",
      "Epoch 40/50\n",
      "457/457 [==============================] - 0s 899us/step - loss: 0.8435 - mse: 0.8435 - mae: 0.6953 - val_loss: 0.8789 - val_mse: 0.8789 - val_mae: 0.7114\n",
      "Epoch 41/50\n",
      "457/457 [==============================] - 0s 914us/step - loss: 0.8427 - mse: 0.8427 - mae: 0.6941 - val_loss: 0.8784 - val_mse: 0.8784 - val_mae: 0.7161\n",
      "Epoch 42/50\n",
      "457/457 [==============================] - 0s 902us/step - loss: 0.8421 - mse: 0.8421 - mae: 0.6944 - val_loss: 0.8784 - val_mse: 0.8784 - val_mae: 0.7102\n",
      "Epoch 43/50\n",
      "457/457 [==============================] - 0s 912us/step - loss: 0.8418 - mse: 0.8418 - mae: 0.6936 - val_loss: 0.8806 - val_mse: 0.8806 - val_mae: 0.7138\n",
      "Epoch 44/50\n",
      "457/457 [==============================] - 0s 917us/step - loss: 0.8416 - mse: 0.8416 - mae: 0.6946 - val_loss: 0.8780 - val_mse: 0.8780 - val_mae: 0.7069\n",
      "Epoch 45/50\n",
      "457/457 [==============================] - 0s 912us/step - loss: 0.8406 - mse: 0.8406 - mae: 0.6937 - val_loss: 0.8780 - val_mse: 0.8780 - val_mae: 0.7112\n",
      "Epoch 46/50\n",
      "457/457 [==============================] - 0s 905us/step - loss: 0.8403 - mse: 0.8403 - mae: 0.6937 - val_loss: 0.8796 - val_mse: 0.8796 - val_mae: 0.7006\n",
      "Epoch 47/50\n",
      "457/457 [==============================] - 0s 905us/step - loss: 0.8395 - mse: 0.8395 - mae: 0.6925 - val_loss: 0.8776 - val_mse: 0.8776 - val_mae: 0.7084\n",
      "Epoch 48/50\n",
      "457/457 [==============================] - 0s 933us/step - loss: 0.8389 - mse: 0.8389 - mae: 0.6920 - val_loss: 0.8767 - val_mse: 0.8767 - val_mae: 0.7085\n",
      "Epoch 49/50\n",
      "457/457 [==============================] - 0s 905us/step - loss: 0.8384 - mse: 0.8384 - mae: 0.6920 - val_loss: 0.8752 - val_mse: 0.8752 - val_mae: 0.7102\n",
      "Epoch 50/50\n"
     ]
    },
    {
     "name": "stdout",
     "output_type": "stream",
     "text": [
      "457/457 [==============================] - 0s 924us/step - loss: 0.8386 - mse: 0.8386 - mae: 0.6920 - val_loss: 0.8773 - val_mse: 0.8773 - val_mae: 0.7099\n"
     ]
    }
   ],
   "source": [
    "#- train the network\n",
    "\n",
    "train_history = mlp_model.fit(x_train_scaled, \n",
    "                              y_train_scaled, \n",
    "                              epochs=100,\n",
    "                              batch_size=100, \n",
    "                              verbose=1, \n",
    "                              validation_split=0.2)\n"
   ]
  },
  {
   "cell_type": "markdown",
   "id": "b8ed33ef",
   "metadata": {},
   "source": [
    "### Training error"
   ]
  },
  {
   "cell_type": "code",
   "execution_count": 24,
   "id": "272451a1",
   "metadata": {},
   "outputs": [
    {
     "name": "stdout",
     "output_type": "stream",
     "text": [
      "dict_keys(['loss', 'mse', 'mae', 'val_loss', 'val_mse', 'val_mae'])\n",
      "\n",
      "\n",
      "Training Loss: 0.84 (units?)\n",
      "Training MSE: 0.84 (cm^2 roughness)\n",
      "Training MAE: 0.69 (cm roughness)\n"
     ]
    }
   ],
   "source": [
    "print(train_history.history.keys())\n",
    "print('\\n')\n",
    "\n",
    "# print(\"-> model: %s\" % train_model)\n",
    "print(\"Training Loss: %.2f (units?)\" % train_history.history['loss'][-1])  # will return the loss in the last training epoch\n",
    "print(\"Training MSE: %.2f (cm^2 roughness)\" % (train_history.history['mse'][-1]))\n",
    "print(\"Training MAE: %.2f (cm roughness)\" % (train_history.history['mae'][-1]))\n"
   ]
  },
  {
   "cell_type": "markdown",
   "id": "f063753e",
   "metadata": {},
   "source": [
    "## Plot loss of training"
   ]
  },
  {
   "cell_type": "code",
   "execution_count": 25,
   "id": "eb4a054f",
   "metadata": {},
   "outputs": [
    {
     "name": "stdout",
     "output_type": "stream",
     "text": [
      "dict_keys(['loss', 'mse', 'mae', 'val_loss', 'val_mse', 'val_mae'])\n"
     ]
    },
    {
     "data": {
      "image/png": "[encoded data removed]",
      "text/plain": [
       "<Figure size 432x288 with 1 Axes>"
      ]
     },
     "metadata": {
      "needs_background": "light"
     },
     "output_type": "display_data"
    }
   ],
   "source": [
    "print(train_history.history.keys())\n",
    "# \"Loss\" val==validation==test\n",
    "plt.plot(train_history.history['loss'])\n",
    "plt.plot(train_history.history['val_loss'])\n",
    "plt.title('model loss')\n",
    "plt.ylabel('loss')\n",
    "plt.xlabel('epoch')\n",
    "plt.legend(['train', 'validation'], loc='upper left')\n",
    "plt.show()"
   ]
  },
  {
   "cell_type": "markdown",
   "id": "4754d7d5",
   "metadata": {},
   "source": [
    "### Testing the NN model and report error "
   ]
  },
  {
   "cell_type": "code",
   "execution_count": 26,
   "id": "06767a53",
   "metadata": {},
   "outputs": [
    {
     "name": "stdout",
     "output_type": "stream",
     "text": [
      "612/612 [==============================] - 0s 580us/step - loss: 0.8429 - mse: 0.8429 - mae: 0.6910\n"
     ]
    }
   ],
   "source": [
    "'''Returns the loss value & metrics values for the model in test mode.\n",
    " similar to test'''\n",
    "\n",
    "test_metrics = mlp_model.evaluate(x_test_scaled, y_test_scaled, batch_size=20, verbose=1) # Returns the loss value & metrics values for the model in test mode\n"
   ]
  },
  {
   "cell_type": "code",
   "execution_count": 27,
   "id": "847d8124",
   "metadata": {},
   "outputs": [
    {
     "name": "stdout",
     "output_type": "stream",
     "text": [
      "[0.8429303169250488, 0.8429303169250488, 0.691033124923706]\n",
      "Test RMSE: 0.92 (cm roughness)\n",
      "Test MAE: 0.69 (cm roughness)\n"
     ]
    }
   ],
   "source": [
    "# print(test_metrics)\n",
    "import math\n",
    "\n",
    "print(test_metrics)\n",
    "\n",
    "mse_test = test_metrics[1]\n",
    "print(\"Test RMSE: %.2f (cm roughness)\" %math.sqrt(mse_test))\n",
    "print(\"Test MAE: %.2f (cm roughness)\" %(test_metrics[2]))"
   ]
  },
  {
   "cell_type": "markdown",
   "id": "edd661ad",
   "metadata": {},
   "source": [
    "### predict on test and scale back resutls and report them\n",
    "\n",
    "when to use this?"
   ]
  },
  {
   "cell_type": "code",
   "execution_count": 28,
   "id": "312bb26b",
   "metadata": {},
   "outputs": [
    {
     "name": "stdout",
     "output_type": "stream",
     "text": [
      "383/383 [==============================] - 0s 487us/step\n"
     ]
    }
   ],
   "source": [
    "from sklearn.metrics import mean_squared_error, mean_absolute_error\n",
    "\n",
    "y_pred_scaled = mlp_model.predict(x_test_scaled)  # Generates output predictions for the input samples\n"
   ]
  },
  {
   "cell_type": "code",
   "execution_count": 29,
   "id": "11bd607a",
   "metadata": {},
   "outputs": [
    {
     "name": "stdout",
     "output_type": "stream",
     "text": [
      "Test RMSE: 6.10 cm\n"
     ]
    }
   ],
   "source": [
    "#- scale back the predictions\n",
    "    \n",
    "y_pred = scaler_y.inverse_transform(y_pred_scaled)\n",
    "\n",
    "print('Test RMSE: %.2f cm' %math.sqrt(mean_squared_error(y_test, y_pred))) # square root of MSE."
   ]
  },
  {
   "cell_type": "markdown",
   "id": "2c6b2b63",
   "metadata": {},
   "source": [
    "### save the trained model"
   ]
  },
  {
   "cell_type": "code",
   "execution_count": 30,
   "id": "8382aa0b",
   "metadata": {},
   "outputs": [],
   "source": [
    "# # save model and architecture to single file\n",
    "# model_name = \"trained_model_3L9N_50epoch.h5\"  # find a way to rename this online\n",
    "\n",
    "# model_fp = os.path.join(dataset_dir, model_name) \n",
    "# mlp_model.save(model_fp)"
   ]
  }
 ],
 "metadata": {
  "kernelspec": {
   "display_name": "Python 3 (ipykernel)",
   "language": "python",
   "name": "python3"
  },
  "language_info": {
   "codemirror_mode": {
    "name": "ipython",
    "version": 3
   },
   "file_extension": ".py",
   "mimetype": "text/x-python",
   "name": "python",
   "nbconvert_exporter": "python",
   "pygments_lexer": "ipython3",
   "version": "3.9.12"
  }
 },
 "nbformat": 4,
 "nbformat_minor": 5
}
