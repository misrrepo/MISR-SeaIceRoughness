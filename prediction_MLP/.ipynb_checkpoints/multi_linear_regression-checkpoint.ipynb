{
 "cells": [
  {
   "cell_type": "markdown",
   "id": "281475d9",
   "metadata": {},
   "source": [
    "note: multilinear regression with 3 cameras to compare with KNN from Anne"
   ]
  },
  {
   "cell_type": "code",
   "execution_count": 1,
   "id": "7ae5d89f",
   "metadata": {},
   "outputs": [],
   "source": [
    "#- main machine learning libraries used\n",
    "\n",
    "# import tensorflow\n",
    "import tensorflow as tf\n",
    "import tensorflow.keras as keras  \n",
    "import sklearn\n",
    "from sklearn.metrics import mean_squared_error\n",
    "\n",
    "\n",
    "#- other libraries used\n",
    "import itertools\n",
    "import numpy as np\n",
    "import os\n",
    "import math\n",
    "import pandas as pd\n",
    "import matplotlib.pyplot as plt \n",
    "from platform import python_version\n",
    "from datetime import datetime as dt\n",
    "import hydroeval as he # includes nash suchcliff efficiency (nse) goodness of fit similar to R^2\n",
    "from pygam import LinearGAM, s, f  #  import a GAM that’s made for regression problems\n"
   ]
  },
  {
   "cell_type": "code",
   "execution_count": 2,
   "id": "8f26b3c4",
   "metadata": {},
   "outputs": [
    {
     "data": {
      "text/plain": [
       "'3.9.12'"
      ]
     },
     "execution_count": 2,
     "metadata": {},
     "output_type": "execute_result"
    }
   ],
   "source": [
    "python_version()"
   ]
  },
  {
   "cell_type": "code",
   "execution_count": 3,
   "id": "309c088d",
   "metadata": {},
   "outputs": [
    {
     "data": {
      "text/plain": [
       "'2.9.1'"
      ]
     },
     "execution_count": 3,
     "metadata": {},
     "output_type": "execute_result"
    }
   ],
   "source": [
    "tf.__version__"
   ]
  },
  {
   "cell_type": "code",
   "execution_count": 4,
   "id": "5eb63a9a",
   "metadata": {},
   "outputs": [],
   "source": [
    "home_dir = \"/Users/ehsanmos/MLP_dataset/atmmodel_k_zero_old\"\n",
    "\n",
    "# with 3 cameras\n",
    "atmmodel = \"atmmodel_april_2016_k_zero.csv\" # I think we later predicted with npts=10 \n",
    "# atmmodel = \"atmmodel_july_2016_k_zero.csv\"\n",
    "\n",
    "# with 9 cameras\n",
    "# atmmodel = \"atmmodel_july_2016_k_zero_9cams4bands.csv\"\n",
    "\n",
    "\n",
    "atmmodel_fp = os.path.join(home_dir, atmmodel)"
   ]
  },
  {
   "cell_type": "code",
   "execution_count": 5,
   "id": "c1bbc7da",
   "metadata": {},
   "outputs": [
    {
     "name": "stdout",
     "output_type": "stream",
     "text": [
      "/Users/ehsanmos/MLP_dataset/atmmodel_k_zero_old/atmmodel_april_2016_k_zero.csv\n",
      "input dataset found!\n"
     ]
    }
   ],
   "source": [
    "print(atmmodel_fp)\n",
    "\n",
    "if (not os.path.isfile(atmmodel_fp)):\n",
    "    raise SystemExit()\n",
    "else:\n",
    "    print(\"input dataset found!\")"
   ]
  },
  {
   "cell_type": "code",
   "execution_count": 6,
   "id": "ad2b8100",
   "metadata": {},
   "outputs": [
    {
     "name": "stdout",
     "output_type": "stream",
     "text": [
      "(43298, 15)\n",
      "Index(['path', 'orbit', 'img_block', 'line', 'sample', 'firstLat', 'firstLon',\n",
      "       'an', 'ca', 'cf', 'rms', 'weight', 'npts', 'cloud', 'var'],\n",
      "      dtype='object')\n"
     ]
    }
   ],
   "source": [
    "# read data\n",
    "\n",
    "training_ds = pd.read_csv(atmmodel_fp, engine='python')\n",
    "\n",
    "print(training_ds.shape)\n",
    "print(training_ds.columns)"
   ]
  },
  {
   "cell_type": "markdown",
   "id": "605b7bc4",
   "metadata": {},
   "source": [
    "### drop unnecesary columns and build dataset with 9 cameras"
   ]
  },
  {
   "cell_type": "code",
   "execution_count": 7,
   "id": "2dcbbcd8",
   "metadata": {},
   "outputs": [],
   "source": [
    "excluce_columns = ['path', 'orbit', 'img_block', 'line', 'sample', 'firstLat',\n",
    "        'firstLon', 'weight', 'npts', 'cloud', 'var']\n",
    "\n",
    "\n",
    "# excluce_columns = ['path', 'orbit', 'img_block', 'line', 'sample', 'weight', 'npts', 'cloud', 'var']\n",
    "\n",
    "training_ds = training_ds.drop(excluce_columns, axis=1)"
   ]
  },
  {
   "cell_type": "code",
   "execution_count": 8,
   "id": "4331e829",
   "metadata": {},
   "outputs": [
    {
     "name": "stdout",
     "output_type": "stream",
     "text": [
      "we are using 4 columns in our training dataset:\n",
      "             an        ca         cf        rms\n",
      "0      4.883254  8.022488  16.350180  14.200000\n",
      "1      4.839653  7.978888  16.350180  11.740000\n",
      "2      4.752452  7.891687  16.044976   9.062000\n",
      "3      4.796053  7.848086  15.870574  14.905000\n",
      "4      4.752452  7.848086  16.044976  12.299000\n",
      "...         ...       ...        ...        ...\n",
      "43293  0.539080  0.596643   1.035216  10.860000\n",
      "43294  0.553699  0.592988   1.065825   9.081818\n",
      "43295  0.551415  0.600754   1.058515   8.576000\n",
      "43296  0.532227  0.626338   1.042525   7.840000\n",
      "43297  0.502481  0.701360   1.021496   8.550000\n",
      "\n",
      "[43298 rows x 4 columns]\n"
     ]
    }
   ],
   "source": [
    "print('we are using %s columns in our training dataset:' %len(training_ds.columns))\n",
    "print(training_ds)  # columns should be only 9 cameras + rms "
   ]
  },
  {
   "cell_type": "code",
   "execution_count": 9,
   "id": "52d832c2",
   "metadata": {},
   "outputs": [],
   "source": [
    "# # rename column names\n",
    "# train_dataset.rename(columns={' an':'an', ' ca':'ca', ' cf':'cf', ' rms':'rms'}, inplace=True)\n",
    "# print(train_dataset.columns)\n",
    "# print(type(train_dataset))"
   ]
  },
  {
   "cell_type": "markdown",
   "id": "a198462f",
   "metadata": {},
   "source": [
    "## >>> cleaning dataset >>>"
   ]
  },
  {
   "cell_type": "code",
   "execution_count": 10,
   "id": "3ad24ee9",
   "metadata": {},
   "outputs": [
    {
     "data": {
      "text/plain": [
       "an      26.534945\n",
       "ca      45.249064\n",
       "cf     101.112106\n",
       "rms    122.655217\n",
       "dtype: float64"
      ]
     },
     "execution_count": 10,
     "metadata": {},
     "output_type": "execute_result"
    }
   ],
   "source": [
    "training_ds.max()"
   ]
  },
  {
   "cell_type": "markdown",
   "id": "b001bcc8",
   "metadata": {},
   "source": [
    "## remove negative values\n",
    "\n",
    "- we want to train our models, so we will remove negative values, NAN values, masked values such as land mask, etc. "
   ]
  },
  {
   "cell_type": "code",
   "execution_count": 11,
   "id": "5a084f65",
   "metadata": {},
   "outputs": [
    {
     "name": "stdout",
     "output_type": "stream",
     "text": [
      "before dropping negative values: (43298, 4)\n",
      "after dropping negative values: (43298, 4)\n"
     ]
    },
    {
     "name": "stderr",
     "output_type": "stream",
     "text": [
      "/var/folders/cg/r5rsmy1146d38c9kj97z_55w0000gn/T/ipykernel_7742/117202112.py:5: FutureWarning: Index.__or__ operating as a set operation is deprecated, in the future this will be a logical operation matching Series.__or__.  Use index.union(other) instead.\n",
      "  training_ds.drop((training_ds[training_ds['an'] < 0.0].index) |\n"
     ]
    }
   ],
   "source": [
    "print('before dropping negative values: (%s, %s)' %training_ds.shape)\n",
    "\n",
    "#- remove/ drop negative values from all input features\n",
    "\n",
    "training_ds.drop((training_ds[training_ds['an'] < 0.0].index) | \n",
    "                (training_ds[training_ds['ca'] < 0.0].index) | \n",
    "                (training_ds[training_ds['cf'] < 0.0].index), inplace=True)\n",
    "\n",
    "\n",
    "\n",
    "#- remove/ drop negative values from all input features\n",
    "\n",
    "# training_ds.drop((training_ds[training_ds['da'] < 0.0].index) | \n",
    "#                 (training_ds[training_ds['ca'] < 0.0].index) | \n",
    "#                 (training_ds[training_ds['ba'] < 0.0].index) |\n",
    "#                 (training_ds[training_ds['aa'] < 0.0].index) |\n",
    "#                 (training_ds[training_ds['anr'] < 0.0].index) |\n",
    "#                 (training_ds[training_ds['af'] < 0.0].index) |\n",
    "#                 (training_ds[training_ds['bf'] < 0.0].index) |\n",
    "#                 (training_ds[training_ds['cf'] < 0.0].index) |\n",
    "#                 (training_ds[training_ds['df'] < 0.0].index), inplace=True)\n",
    "\n",
    "\n",
    "print('after dropping negative values: (%s, %s)' %training_ds.shape)"
   ]
  },
  {
   "cell_type": "markdown",
   "id": "f6f38241",
   "metadata": {},
   "source": [
    "## >>> outlier detection and removal >>>"
   ]
  },
  {
   "cell_type": "markdown",
   "id": "630d8159",
   "metadata": {},
   "source": [
    "### Removing reflectance values as outliers in all cameras"
   ]
  },
  {
   "cell_type": "code",
   "execution_count": 12,
   "id": "ecec9c6a",
   "metadata": {},
   "outputs": [],
   "source": [
    "cam_outlier = 1\n",
    "\n",
    "\n",
    "training_ds.drop(training_ds[(training_ds['ca'] > cam_outlier) |\n",
    "                           (training_ds['an'] > cam_outlier) |\n",
    "                           (training_ds['cf'] > cam_outlier)].index, inplace=True)\n",
    "\n",
    "\n",
    "\n",
    "# training_ds.drop(training_ds[(training_ds['da'] > cam_outlier) |\n",
    "#                            (training_ds['ca'] > cam_outlier) |\n",
    "#                            (training_ds['ba'] > cam_outlier) |\n",
    "#                            (training_ds['aa'] > cam_outlier) |\n",
    "#                            (training_ds['anr'] > cam_outlier) |\n",
    "#                            (training_ds['af'] > cam_outlier) |\n",
    "#                            (training_ds['bf'] > cam_outlier) |\n",
    "#                            (training_ds['cf'] > cam_outlier) |\n",
    "#                            (training_ds['df'] > cam_outlier)].index, inplace=True)"
   ]
  },
  {
   "cell_type": "markdown",
   "id": "eaf11c14",
   "metadata": {},
   "source": [
    "### Method 1: removing roughness values > 200 cm"
   ]
  },
  {
   "cell_type": "code",
   "execution_count": 13,
   "id": "22437758",
   "metadata": {},
   "outputs": [],
   "source": [
    "# training_ds.drop((training_ds[training_ds['rms'] > 30].index), inplace=True)"
   ]
  },
  {
   "cell_type": "markdown",
   "id": "caea4a56",
   "metadata": {},
   "source": [
    "### Method 2: removing roughness values with Interquartile Range Method (IQR)\n",
    "\n",
    "- Method: find 25 and 75 percentiles in data, calculate inter-quartile range (IQR), set the cut off threshold, and remove outliers from data"
   ]
  },
  {
   "cell_type": "code",
   "execution_count": 14,
   "id": "cd67ecb9",
   "metadata": {},
   "outputs": [],
   "source": [
    "#- identify outliers in roughnes valueswith interquartile range (IQRange)\n",
    "\n",
    "def rms_outlier_removal(dataset_df: pd.DataFrame) -> pd.DataFrame:\n",
    "    \n",
    "    from numpy import percentile\n",
    "\n",
    "    def remove_outliers_IQR(df, cutoff):\n",
    "        df.drop((df[df['rms'] > cutoff].index), inplace=True)\n",
    "        print('Removing outliers (IQR method): after dropping roughness values > %.1f in dataset; new shape= (%s,%s)' %(cutoff, df.shape[0], df.shape[1]))\n",
    "        return 0 # because inplace=True\n",
    "\n",
    "    #- extract data \n",
    "    data = dataset_df.loc[:,'rms']\n",
    "    print(type(data))\n",
    "    #- calculate InterQuartile Range == IQR\n",
    "    q25, q75 = percentile(data, 25), percentile(data, 75)\n",
    "    iqr = q75 - q25\n",
    "    print('Percentiles: 25th= %.3f (cm), 75th= %.3f (cm), InterQuartile Range= %.3f (cm)' % (q25, q75, iqr))\n",
    "    #- calculate the outlier cutoff\n",
    "    cut_off = iqr * 3\n",
    "    lower, upper = q25 - cut_off, q75 + cut_off\n",
    "    print('lower cutoff= %.1f, upper cutoff= %.1f' % (lower, upper))\n",
    "    #- identify outliers\n",
    "    outliers = [x for x in data if x > upper] # list comprehension method\n",
    "    print('Identified outliers: %d \\n' % len(outliers))\n",
    "    #- remove outliers\n",
    "    remove_outliers_IQR(dataset_df, upper)\n",
    "    \n",
    "    return dataset_df\n"
   ]
  },
  {
   "cell_type": "code",
   "execution_count": 15,
   "id": "44bde836",
   "metadata": {},
   "outputs": [
    {
     "name": "stdout",
     "output_type": "stream",
     "text": [
      "<class 'pandas.core.series.Series'>\n",
      "Percentiles: 25th= 7.439 (cm), 75th= 16.263 (cm), InterQuartile Range= 8.824 (cm)\n",
      "lower cutoff= -19.0, upper cutoff= 42.7\n",
      "Identified outliers: 98 \n",
      "\n",
      "Removing outliers (IQR method): after dropping roughness values > 42.7 in dataset; new shape= (16620,4)\n"
     ]
    }
   ],
   "source": [
    "training_ds = rms_outlier_removal(training_ds)"
   ]
  },
  {
   "cell_type": "code",
   "execution_count": 16,
   "id": "ce7d8470",
   "metadata": {},
   "outputs": [],
   "source": [
    "# def check_nan_in_DF(training_ds: pd.DataFrame):\n",
    "    \n",
    "#     if (training_ds['da'].isnull().values.any() | \n",
    "#         training_ds['ca'].isnull().values.any() | \n",
    "#         training_ds['ba'].isnull().values.any() |\n",
    "#         training_ds['aa'].isnull().values.any() |\n",
    "#         training_ds['anr'].isnull().values.any() |\n",
    "#         training_ds['af'].isnull().values.any() |\n",
    "#         training_ds['bf'].isnull().values.any() |\n",
    "#         training_ds['cf'].isnull().values.any() |\n",
    "#         training_ds['df'].isnull().values.any()):\n",
    "\n",
    "#         print('found NAN in one DF column... removing NAN')\n",
    "#         training_ds.dropna(axis=0, inplace=True)\n",
    "#     else:\n",
    "#         print('did not find NAN in dataset') \n",
    "\n",
    "\n",
    "\n",
    "def check_nan_in_DF(training_ds: pd.DataFrame):\n",
    "    \n",
    "    if (\n",
    "        training_ds['ca'].isnull().values.any() | \n",
    "        training_ds['an'].isnull().values.any() |\n",
    "        training_ds['cf'].isnull().values.any()):\n",
    "\n",
    "        print('found NAN in one DF column... removing NAN')\n",
    "        training_ds.dropna(axis=0, inplace=True)\n",
    "    else:\n",
    "        print('did not find NAN in dataset') "
   ]
  },
  {
   "cell_type": "code",
   "execution_count": 17,
   "id": "1a3981ba",
   "metadata": {},
   "outputs": [
    {
     "name": "stdout",
     "output_type": "stream",
     "text": [
      "did not find NAN in dataset\n"
     ]
    }
   ],
   "source": [
    "check_nan_in_DF(training_ds)"
   ]
  },
  {
   "cell_type": "code",
   "execution_count": 18,
   "id": "cfb34509",
   "metadata": {},
   "outputs": [
    {
     "name": "stdout",
     "output_type": "stream",
     "text": [
      "double check: did not find any negative value in DF!\n"
     ]
    }
   ],
   "source": [
    "#~ double check for any negative values in all columns\n",
    "if ((training_ds.values < 0).any()):\n",
    "    print('found some negative values in DF! something is wrong!')\n",
    "else:\n",
    "    print('double check: did not find any negative value in DF!')"
   ]
  },
  {
   "cell_type": "code",
   "execution_count": 19,
   "id": "48dec0ad",
   "metadata": {},
   "outputs": [
    {
     "data": {
      "text/plain": [
       "an      0.943680\n",
       "ca      0.987624\n",
       "cf      0.999990\n",
       "rms    42.730000\n",
       "dtype: float64"
      ]
     },
     "execution_count": 19,
     "metadata": {},
     "output_type": "execute_result"
    }
   ],
   "source": [
    "## check values after cleaning dataset\n",
    "training_ds.max()"
   ]
  },
  {
   "cell_type": "code",
   "execution_count": 20,
   "id": "9d3b9bde",
   "metadata": {},
   "outputs": [
    {
     "data": {
      "text/html": [
       "<div>\n",
       "<style scoped>\n",
       "    .dataframe tbody tr th:only-of-type {\n",
       "        vertical-align: middle;\n",
       "    }\n",
       "\n",
       "    .dataframe tbody tr th {\n",
       "        vertical-align: top;\n",
       "    }\n",
       "\n",
       "    .dataframe thead th {\n",
       "        text-align: right;\n",
       "    }\n",
       "</style>\n",
       "<table border=\"1\" class=\"dataframe\">\n",
       "  <thead>\n",
       "    <tr style=\"text-align: right;\">\n",
       "      <th></th>\n",
       "      <th>an</th>\n",
       "      <th>ca</th>\n",
       "      <th>cf</th>\n",
       "      <th>rms</th>\n",
       "    </tr>\n",
       "  </thead>\n",
       "  <tbody>\n",
       "    <tr>\n",
       "      <th>56</th>\n",
       "      <td>0.735176</td>\n",
       "      <td>0.838593</td>\n",
       "      <td>0.864487</td>\n",
       "      <td>25.555000</td>\n",
       "    </tr>\n",
       "    <tr>\n",
       "      <th>57</th>\n",
       "      <td>0.760427</td>\n",
       "      <td>0.855963</td>\n",
       "      <td>0.874781</td>\n",
       "      <td>20.466667</td>\n",
       "    </tr>\n",
       "    <tr>\n",
       "      <th>58</th>\n",
       "      <td>0.743540</td>\n",
       "      <td>0.856285</td>\n",
       "      <td>0.877676</td>\n",
       "      <td>16.176250</td>\n",
       "    </tr>\n",
       "    <tr>\n",
       "      <th>59</th>\n",
       "      <td>0.767343</td>\n",
       "      <td>0.856285</td>\n",
       "      <td>0.879284</td>\n",
       "      <td>25.000000</td>\n",
       "    </tr>\n",
       "    <tr>\n",
       "      <th>60</th>\n",
       "      <td>0.771203</td>\n",
       "      <td>0.858215</td>\n",
       "      <td>0.879284</td>\n",
       "      <td>22.646667</td>\n",
       "    </tr>\n",
       "    <tr>\n",
       "      <th>...</th>\n",
       "      <td>...</td>\n",
       "      <td>...</td>\n",
       "      <td>...</td>\n",
       "      <td>...</td>\n",
       "    </tr>\n",
       "    <tr>\n",
       "      <th>43226</th>\n",
       "      <td>0.783715</td>\n",
       "      <td>0.872968</td>\n",
       "      <td>0.911412</td>\n",
       "      <td>7.362500</td>\n",
       "    </tr>\n",
       "    <tr>\n",
       "      <th>43227</th>\n",
       "      <td>0.785514</td>\n",
       "      <td>0.871394</td>\n",
       "      <td>0.936592</td>\n",
       "      <td>7.605000</td>\n",
       "    </tr>\n",
       "    <tr>\n",
       "      <th>43228</th>\n",
       "      <td>0.788212</td>\n",
       "      <td>0.872294</td>\n",
       "      <td>0.966268</td>\n",
       "      <td>8.166667</td>\n",
       "    </tr>\n",
       "    <tr>\n",
       "      <th>43229</th>\n",
       "      <td>0.795406</td>\n",
       "      <td>0.872743</td>\n",
       "      <td>0.995494</td>\n",
       "      <td>7.540000</td>\n",
       "    </tr>\n",
       "    <tr>\n",
       "      <th>43230</th>\n",
       "      <td>0.808670</td>\n",
       "      <td>0.873193</td>\n",
       "      <td>0.986276</td>\n",
       "      <td>8.103333</td>\n",
       "    </tr>\n",
       "  </tbody>\n",
       "</table>\n",
       "<p>16620 rows × 4 columns</p>\n",
       "</div>"
      ],
      "text/plain": [
       "             an        ca        cf        rms\n",
       "56     0.735176  0.838593  0.864487  25.555000\n",
       "57     0.760427  0.855963  0.874781  20.466667\n",
       "58     0.743540  0.856285  0.877676  16.176250\n",
       "59     0.767343  0.856285  0.879284  25.000000\n",
       "60     0.771203  0.858215  0.879284  22.646667\n",
       "...         ...       ...       ...        ...\n",
       "43226  0.783715  0.872968  0.911412   7.362500\n",
       "43227  0.785514  0.871394  0.936592   7.605000\n",
       "43228  0.788212  0.872294  0.966268   8.166667\n",
       "43229  0.795406  0.872743  0.995494   7.540000\n",
       "43230  0.808670  0.873193  0.986276   8.103333\n",
       "\n",
       "[16620 rows x 4 columns]"
      ]
     },
     "execution_count": 20,
     "metadata": {},
     "output_type": "execute_result"
    }
   ],
   "source": [
    "training_ds"
   ]
  },
  {
   "cell_type": "code",
   "execution_count": 21,
   "id": "48bd702e",
   "metadata": {},
   "outputs": [],
   "source": [
    "# shuffle dataset\n",
    "\n",
    "from sklearn.utils import shuffle\n",
    "\n",
    "train_dataset = shuffle(training_ds)"
   ]
  },
  {
   "cell_type": "code",
   "execution_count": 22,
   "id": "19445447",
   "metadata": {},
   "outputs": [
    {
     "name": "stdout",
     "output_type": "stream",
     "text": [
      "(16620, 3)\n",
      "(16620, 1)\n"
     ]
    }
   ],
   "source": [
    "#- split data set to X and Y\n",
    "\n",
    "X = train_dataset.iloc[:, :-1] # to select up to last column of dataset OR [:, 0:3]\n",
    "Y = train_dataset.iloc[:, -1:] # to select last column of DF\n",
    "\n",
    "print(X.shape)\n",
    "print(Y.shape)"
   ]
  },
  {
   "cell_type": "code",
   "execution_count": 23,
   "id": "b2a2a897",
   "metadata": {},
   "outputs": [
    {
     "name": "stdout",
     "output_type": "stream",
     "text": [
      "test size= 30 percent\n",
      "train:\n",
      "(11634, 3)\n",
      "(11634, 1)\n",
      "test:\n",
      "(4986, 3)\n",
      "(4986, 1)\n"
     ]
    }
   ],
   "source": [
    "#- now split dataset to train-test\n",
    "\n",
    "from sklearn.model_selection import train_test_split\n",
    "\n",
    "#- we use this function to split data-- from here because we are usiong SKlearn library, we change all data structures from Pandas DF to numpy\n",
    "# X_train, X_test, y_train, y_test = train_test_split(X.to_numpy(), Y.to_numpy(), test_size=0.2, random_state=123) # Q- input is DF or numpy array?\n",
    "\n",
    "testdata_size = 0.3\n",
    "print(\"test size= %d percent\" %(testdata_size*100))\n",
    "x_train, x_test, y_train, y_test = train_test_split(X, Y, test_size=testdata_size, random_state=123) # Q- input is DF or numpy array?\n",
    "\n",
    "\n",
    "print(\"train:\")\n",
    "print(x_train.shape)\n",
    "print(y_train.shape)\n",
    "\n",
    "print(\"test:\")\n",
    "print(x_test.shape)\n",
    "print(y_test.shape)\n"
   ]
  },
  {
   "cell_type": "markdown",
   "id": "4967c895",
   "metadata": {},
   "source": [
    "## >>> Simple Linear Regression >>>\n",
    "\n",
    "simple LR with 2 parameters to estimate"
   ]
  },
  {
   "cell_type": "code",
   "execution_count": 24,
   "id": "b327133d",
   "metadata": {},
   "outputs": [
    {
     "name": "stdout",
     "output_type": "stream",
     "text": [
      "[[-24.77408529  38.80634209  -4.28329384]]\n"
     ]
    }
   ],
   "source": [
    "from sklearn.linear_model import LinearRegression\n",
    "from sklearn.metrics import r2_score\n",
    "\n",
    "# Create linear regression object \n",
    "lr_model = LinearRegression() # create an estimator obj\n",
    "lr_model.get_params()\n",
    "\n",
    "# Fit alg. to training dataset/Train the model using the training sets- here we use X_train(3 features)\n",
    "lr_model.fit(x_train, y_train) # fit(X,y) will fit data to our algortihm and makes it learn from data == training step\n",
    "\n",
    "print(lr_model.coef_)"
   ]
  },
  {
   "cell_type": "markdown",
   "id": "4a8eda24",
   "metadata": {},
   "source": [
    "3 Best metrics to evaluate Regression Model:\n",
    "- R^2: shows how well the model can fit training data/variables\n",
    "- RMSE: is a measure of prediction error; it gives larger penalization to big prediction error by square it\n",
    "- MAE: it treats all errors the same\n",
    "\n",
    "Model evaluation helps you to understand the performance of your model and makes it easy to present your model to other people.\n",
    "source: https://towardsdatascience.com/what-are-the-best-metrics-to-evaluate-your-regression-model-418ca481755b"
   ]
  },
  {
   "cell_type": "code",
   "execution_count": 25,
   "id": "383ccaf6",
   "metadata": {},
   "outputs": [],
   "source": [
    "# # calculate R-squared of regression model\n",
    "# r_squared = mlr_model.score(X, Y)\n",
    "# print('R^2 training: %s' %round(r_squared, 2))"
   ]
  },
  {
   "cell_type": "code",
   "execution_count": 26,
   "id": "c4d49a5f",
   "metadata": {},
   "outputs": [
    {
     "data": {
      "image/png": "[encoded data removed]",
      "text/plain": [
       "<Figure size 432x288 with 1 Axes>"
      ]
     },
     "metadata": {},
     "output_type": "display_data"
    },
    {
     "name": "stdout",
     "output_type": "stream",
     "text": [
      "R^2 test: 0.07\n",
      "RMSE test: 6.86\n",
      "NSE: 0.07\n"
     ]
    }
   ],
   "source": [
    "# Predict using the linear model- on specific block data- on transect data\n",
    "# x_test = 'open 3 MISR cameras that create transect block, create x_test dataset from 3 cameras (an, ca, cf), and then make prediction '\n",
    "y_pred_lr = lr_model.predict(x_test)\n",
    "\n",
    "\n",
    "######## plot \n",
    "import seaborn as sns\n",
    "\n",
    "sns.set_theme(color_codes=True)\n",
    "fig, ax = plt.subplots()\n",
    "\n",
    "sns.regplot(x=y_test, y=y_pred_lr, truncate=False, ax=ax)#, color='g')\n",
    "\n",
    "ax.set_xlim(0, 60)\n",
    "ax.set_ylim(0, 60)\n",
    "plt.show()\n",
    "\n",
    "\n",
    "\n",
    "r2_model = r2_score(y_test, y_pred_lr)\n",
    "print('R^2 test: %s' %round(r2_model,2))\n",
    "print('RMSE test: %.2f' %math.sqrt(mean_squared_error(y_test, y_pred_lr))) # square root of MSE.\n",
    "\n",
    "# NSE\n",
    "nse_lr = he.evaluator(he.nse, y_pred_lr, y_test)  # order(prediction,target)\n",
    "print('NSE: %.2f' %nse_lr)\n"
   ]
  },
  {
   "cell_type": "markdown",
   "id": "de253ad4",
   "metadata": {},
   "source": [
    "## >>> Polynomial linear regression >>>\n",
    "\n",
    "Although this model allows for a nonlinear relationship between Y and X, polynomial regression is still considered linear regression since it is linear in the regression coefficients. it means relations of Y with respect to X is linear == degree of equation (power of X) is 1 so the relationship has power of 1"
   ]
  },
  {
   "cell_type": "code",
   "execution_count": 27,
   "id": "f0e072cd",
   "metadata": {},
   "outputs": [
    {
     "data": {
      "image/png": "[encoded data removed]",
      "text/plain": [
       "<Figure size 432x288 with 1 Axes>"
      ]
     },
     "metadata": {},
     "output_type": "display_data"
    },
    {
     "name": "stdout",
     "output_type": "stream",
     "text": [
      "R^2 test: 0.11\n",
      "RMSE test: 6.71\n",
      "NSE: 0.11\n"
     ]
    }
   ],
   "source": [
    "from sklearn.linear_model import LinearRegression\n",
    "from sklearn.preprocessing import PolynomialFeatures\n",
    "from sklearn.metrics import mean_squared_error, mean_absolute_error\n",
    "import math\n",
    "\n",
    "poly_feature_matrix = PolynomialFeatures(degree=2) # how nuber of features change?\n",
    "x_train_poly = poly_feature_matrix.fit_transform(x_train)\n",
    "\n",
    "# print(x_train.shape)\n",
    "# print(x_train_poly.shape) # Q- why degree= 3, 3 features turned to 20 features?\n",
    "\n",
    "poly_linear_reg_model = LinearRegression() # build an instance of the model\n",
    "# print(poly_linear_reg_model)\n",
    "\n",
    "poly_linear_reg_model.fit(x_train_poly, y_train) # Then we fit the qlgorithm to our data/train the model\n",
    "# print(poly_linear_reg_model)\n",
    "\n",
    "\n",
    "x_test_poly = poly_feature_matrix.fit_transform(x_test)\n",
    "y_pred_plr = poly_linear_reg_model.predict(x_test_poly) # prediction (Y^)\n",
    "\n",
    "# print(len(y_test))\n",
    "# print(len(y_pred_plr))\n",
    "\n",
    "################################# plot data\n",
    "# plt.figure(figsize=(10, 6))\n",
    "# plt.title(\"poly regression\", size=16)\n",
    "# plt.scatter(y_test, y_pred_plr)\n",
    "# plt.plot(y_test, y_pred_plr, c=\"red\")\n",
    "# plt.show()\n",
    "\n",
    "\n",
    "import seaborn as sns\n",
    "\n",
    "sns.set_theme(color_codes=True)\n",
    "fig, ax = plt.subplots()\n",
    "sns.regplot(x=y_test, y=y_pred_plr, truncate=False, ax=ax)#, color='g')\n",
    "ax.set_xlim(0, 60)\n",
    "ax.set_ylim(0, 60)\n",
    "plt.show()\n",
    "\n",
    "##### R^2 score\n",
    "r2_plr = r2_score(y_test, y_pred_plr)\n",
    "print('R^2 test: %s' %round(r2_plr,2))\n",
    "print('RMSE test: %.2f' %math.sqrt(mean_squared_error(y_test, y_pred_plr))) # square root of MSE.\n",
    "\n",
    "### NSE\n",
    "# NSE\n",
    "nse_plr = he.evaluator(he.nse, y_pred_plr, y_test)  # order(prediction,target)\n",
    "print('NSE: %.2f' %nse_plr)"
   ]
  },
  {
   "cell_type": "markdown",
   "id": "2e38618c",
   "metadata": {},
   "source": [
    "## >>> K-nearest neighbor >>>"
   ]
  },
  {
   "cell_type": "code",
   "execution_count": 28,
   "id": "67667a3f",
   "metadata": {},
   "outputs": [
    {
     "name": "stdout",
     "output_type": "stream",
     "text": [
      "R^2 test: 0.23\n",
      "RMSE test: 6.23\n",
      "NSE: 0.23\n"
     ]
    }
   ],
   "source": [
    "from sklearn.neighbors import KNeighborsRegressor\n",
    "\n",
    "knn_model = KNeighborsRegressor(n_neighbors=10)\n",
    "\n",
    "knn_model.fit(x_train, y_train) # fit algorithm to data and train it\n",
    " \n",
    "# Predict on dataset which model has not seen before\n",
    "y_pred_knn = knn_model.predict(x_test)\n",
    "\n",
    "# report evaluation of mdoel performace on test data\n",
    "r2_model = r2_score(y_test, y_pred_knn)\n",
    "print('R^2 test: %s' %round(r2_model,2))\n",
    "print('RMSE test: %.2f' %math.sqrt(mean_squared_error(y_test, y_pred_knn))) # square root of MSE.\n",
    "\n",
    "### NSE\n",
    "nse_knn = he.evaluator(he.nse, y_pred_knn, y_test)  # order(prediction,target)\n",
    "print('NSE: %.2f' %nse_knn)\n"
   ]
  },
  {
   "cell_type": "code",
   "execution_count": 29,
   "id": "75a52f20",
   "metadata": {},
   "outputs": [
    {
     "data": {
      "image/png": "[encoded data removed]",
      "text/plain": [
       "<Figure size 432x288 with 1 Axes>"
      ]
     },
     "metadata": {},
     "output_type": "display_data"
    }
   ],
   "source": [
    "import seaborn as sns\n",
    "\n",
    "sns.set_theme(color_codes=True)\n",
    "fig, ax = plt.subplots()\n",
    "sns.regplot(x=y_test, y=y_pred_knn, truncate=False, ax=ax)#, color='g')\n",
    "ax.set_xlim(0, 60)\n",
    "ax.set_ylim(0, 60)\n",
    "plt.show()"
   ]
  },
  {
   "cell_type": "markdown",
   "id": "ca0021f2",
   "metadata": {},
   "source": [
    "## >>> Generalized additive models (GAM) for regression >>>"
   ]
  },
  {
   "cell_type": "code",
   "execution_count": 30,
   "id": "0de8dcbc",
   "metadata": {},
   "outputs": [
    {
     "data": {
      "text/html": [
       "<div>\n",
       "<style scoped>\n",
       "    .dataframe tbody tr th:only-of-type {\n",
       "        vertical-align: middle;\n",
       "    }\n",
       "\n",
       "    .dataframe tbody tr th {\n",
       "        vertical-align: top;\n",
       "    }\n",
       "\n",
       "    .dataframe thead th {\n",
       "        text-align: right;\n",
       "    }\n",
       "</style>\n",
       "<table border=\"1\" class=\"dataframe\">\n",
       "  <thead>\n",
       "    <tr style=\"text-align: right;\">\n",
       "      <th></th>\n",
       "      <th>an</th>\n",
       "      <th>ca</th>\n",
       "      <th>cf</th>\n",
       "    </tr>\n",
       "  </thead>\n",
       "  <tbody>\n",
       "    <tr>\n",
       "      <th>32655</th>\n",
       "      <td>0.296278</td>\n",
       "      <td>0.464705</td>\n",
       "      <td>0.638491</td>\n",
       "    </tr>\n",
       "    <tr>\n",
       "      <th>32036</th>\n",
       "      <td>0.760049</td>\n",
       "      <td>0.828614</td>\n",
       "      <td>0.885346</td>\n",
       "    </tr>\n",
       "    <tr>\n",
       "      <th>31523</th>\n",
       "      <td>0.940953</td>\n",
       "      <td>0.884981</td>\n",
       "      <td>0.965331</td>\n",
       "    </tr>\n",
       "    <tr>\n",
       "      <th>23419</th>\n",
       "      <td>0.816328</td>\n",
       "      <td>0.893935</td>\n",
       "      <td>0.906045</td>\n",
       "    </tr>\n",
       "    <tr>\n",
       "      <th>25676</th>\n",
       "      <td>0.269108</td>\n",
       "      <td>0.519098</td>\n",
       "      <td>0.983787</td>\n",
       "    </tr>\n",
       "    <tr>\n",
       "      <th>...</th>\n",
       "      <td>...</td>\n",
       "      <td>...</td>\n",
       "      <td>...</td>\n",
       "    </tr>\n",
       "    <tr>\n",
       "      <th>20218</th>\n",
       "      <td>0.720372</td>\n",
       "      <td>0.842699</td>\n",
       "      <td>0.989074</td>\n",
       "    </tr>\n",
       "    <tr>\n",
       "      <th>2324</th>\n",
       "      <td>0.720494</td>\n",
       "      <td>0.822756</td>\n",
       "      <td>0.972606</td>\n",
       "    </tr>\n",
       "    <tr>\n",
       "      <th>36500</th>\n",
       "      <td>0.670092</td>\n",
       "      <td>0.790781</td>\n",
       "      <td>0.825334</td>\n",
       "    </tr>\n",
       "    <tr>\n",
       "      <th>32176</th>\n",
       "      <td>0.765301</td>\n",
       "      <td>0.822598</td>\n",
       "      <td>0.901784</td>\n",
       "    </tr>\n",
       "    <tr>\n",
       "      <th>6947</th>\n",
       "      <td>0.790798</td>\n",
       "      <td>0.857116</td>\n",
       "      <td>0.891695</td>\n",
       "    </tr>\n",
       "  </tbody>\n",
       "</table>\n",
       "<p>11634 rows × 3 columns</p>\n",
       "</div>"
      ],
      "text/plain": [
       "             an        ca        cf\n",
       "32655  0.296278  0.464705  0.638491\n",
       "32036  0.760049  0.828614  0.885346\n",
       "31523  0.940953  0.884981  0.965331\n",
       "23419  0.816328  0.893935  0.906045\n",
       "25676  0.269108  0.519098  0.983787\n",
       "...         ...       ...       ...\n",
       "20218  0.720372  0.842699  0.989074\n",
       "2324   0.720494  0.822756  0.972606\n",
       "36500  0.670092  0.790781  0.825334\n",
       "32176  0.765301  0.822598  0.901784\n",
       "6947   0.790798  0.857116  0.891695\n",
       "\n",
       "[11634 rows x 3 columns]"
      ]
     },
     "execution_count": 30,
     "metadata": {},
     "output_type": "execute_result"
    }
   ],
   "source": [
    "x_train"
   ]
  },
  {
   "cell_type": "code",
   "execution_count": 31,
   "id": "0710fb84",
   "metadata": {},
   "outputs": [
    {
     "name": "stdout",
     "output_type": "stream",
     "text": [
      "LinearGAM                                                                                                 \n",
      "=============================================== ==========================================================\n",
      "Distribution:                        NormalDist Effective DoF:                                   1630.7873\n",
      "Link Function:                     IdentityLink Log Likelihood:                                -53012.9111\n",
      "Number of Samples:                        11634 AIC:                                           109289.3968\n",
      "                                                AICc:                                          109822.2045\n",
      "                                                GCV:                                               50.0107\n",
      "                                                Scale:                                             37.5751\n",
      "                                                Pseudo R-Squared:                                   0.3115\n",
      "==========================================================================================================\n",
      "Feature Function                  Lambda               Rank         EDoF         P > x        Sig. Code   \n",
      "================================= ==================== ============ ============ ============ ============\n",
      "s(0)                              [0.6]                20           17.0         1.11e-16     ***         \n",
      "s(1)                              [0.6]                20           16.0         1.11e-16     ***         \n",
      "f(2)                              [0.6]                10525        1597.8       1.67e-02     *           \n",
      "intercept                                              1            0.0          1.11e-16     ***         \n",
      "==========================================================================================================\n",
      "Significance codes:  0 '***' 0.001 '**' 0.01 '*' 0.05 '.' 0.1 ' ' 1\n",
      "\n",
      "WARNING: Fitting splines and a linear function to a feature introduces a model identifiability problem\n",
      "         which can cause p-values to appear significant when they are not.\n",
      "\n",
      "WARNING: p-values calculated in this manner behave correctly for un-penalized models or models with\n",
      "         known smoothing parameters, but when smoothing parameters have been estimated, the p-values\n",
      "         are typically lower than they should be, meaning that the tests reject the null too readily.\n"
     ]
    },
    {
     "name": "stderr",
     "output_type": "stream",
     "text": [
      "/var/folders/cg/r5rsmy1146d38c9kj97z_55w0000gn/T/ipykernel_7742/1778368859.py:2: UserWarning: KNOWN BUG: p-values computed in this summary are likely much smaller than they should be. \n",
      " \n",
      "Please do not make inferences based on these values! \n",
      "\n",
      "Collaborate on a solution, and stay up to date at: \n",
      "github.com/dswah/pyGAM/issues/163 \n",
      "\n",
      "  gam.summary()\n"
     ]
    }
   ],
   "source": [
    "gam = LinearGAM(s(0) + s(1) + f(2)).fit(x_train, y_train)\n",
    "gam.summary()"
   ]
  },
  {
   "cell_type": "code",
   "execution_count": 36,
   "id": "254e7558",
   "metadata": {},
   "outputs": [
    {
     "data": {
      "text/plain": [
       "['n_samples',\n",
       " 'm_features',\n",
       " 'edof_per_coef',\n",
       " 'edof',\n",
       " 'scale',\n",
       " 'cov',\n",
       " 'se',\n",
       " 'AIC',\n",
       " 'AICc',\n",
       " 'pseudo_r2',\n",
       " 'GCV',\n",
       " 'UBRE',\n",
       " 'loglikelihood',\n",
       " 'deviance',\n",
       " 'p_values']"
      ]
     },
     "execution_count": 36,
     "metadata": {},
     "output_type": "execute_result"
    }
   ],
   "source": [
    "list(gam.statistics_.keys())"
   ]
  },
  {
   "cell_type": "code",
   "execution_count": 37,
   "id": "d9b372e5",
   "metadata": {},
   "outputs": [
    {
     "data": {
      "image/png": "[encoded data removed]",
      "text/plain": [
       "<Figure size 432x288 with 1 Axes>"
      ]
     },
     "metadata": {},
     "output_type": "display_data"
    },
    {
     "data": {
      "image/png": "[encoded data removed]",
      "text/plain": [
       "<Figure size 432x288 with 1 Axes>"
      ]
     },
     "metadata": {},
     "output_type": "display_data"
    },
    {
     "data": {
      "image/png": "[encoded data removed]",
      "text/plain": [
       "<Figure size 432x288 with 1 Axes>"
      ]
     },
     "metadata": {},
     "output_type": "display_data"
    }
   ],
   "source": [
    "import matplotlib.pyplot as plt\n",
    "\n",
    "for i, term in enumerate(gam.terms):\n",
    "    if term.isintercept:\n",
    "        continue\n",
    "\n",
    "    XX = gam.generate_X_grid(term=i)\n",
    "    pdep, confi = gam.partial_dependence(term=i, X=XX, width=0.95)\n",
    "\n",
    "    plt.figure()\n",
    "    plt.plot(XX[:, term.feature], pdep)\n",
    "    plt.plot(XX[:, term.feature], confi, c='r', ls='--')\n",
    "    plt.title(repr(term))\n",
    "    plt.show()"
   ]
  },
  {
   "cell_type": "code",
   "execution_count": null,
   "id": "b5851863",
   "metadata": {},
   "outputs": [],
   "source": []
  },
  {
   "cell_type": "code",
   "execution_count": null,
   "id": "8a71df33",
   "metadata": {},
   "outputs": [],
   "source": []
  },
  {
   "cell_type": "code",
   "execution_count": null,
   "id": "e91ac332",
   "metadata": {},
   "outputs": [],
   "source": []
  },
  {
   "cell_type": "code",
   "execution_count": null,
   "id": "13918c30",
   "metadata": {},
   "outputs": [],
   "source": []
  },
  {
   "cell_type": "code",
   "execution_count": null,
   "id": "f16399bd",
   "metadata": {},
   "outputs": [],
   "source": []
  },
  {
   "cell_type": "code",
   "execution_count": null,
   "id": "5041a04c",
   "metadata": {},
   "outputs": [],
   "source": []
  },
  {
   "cell_type": "code",
   "execution_count": null,
   "id": "8ce2dd0a",
   "metadata": {},
   "outputs": [],
   "source": []
  },
  {
   "cell_type": "code",
   "execution_count": null,
   "id": "e941de4b",
   "metadata": {},
   "outputs": [],
   "source": []
  },
  {
   "cell_type": "code",
   "execution_count": null,
   "id": "ff3f30f0",
   "metadata": {},
   "outputs": [],
   "source": []
  },
  {
   "cell_type": "code",
   "execution_count": null,
   "id": "a0f5a854",
   "metadata": {},
   "outputs": [],
   "source": []
  },
  {
   "cell_type": "markdown",
   "id": "b5271bb8",
   "metadata": {},
   "source": [
    "## predicting a single test image block"
   ]
  },
  {
   "cell_type": "code",
   "execution_count": 32,
   "id": "cb8d6a3f",
   "metadata": {},
   "outputs": [],
   "source": [
    "# x_predict_3cams = 'build this df from 3 cameras of the image block'\n"
   ]
  },
  {
   "cell_type": "code",
   "execution_count": 33,
   "id": "a9728c03",
   "metadata": {},
   "outputs": [],
   "source": [
    "# y_pred_block = mlr_model.predict(x_predict_3cams)\n"
   ]
  },
  {
   "cell_type": "code",
   "execution_count": 34,
   "id": "f544d47e",
   "metadata": {},
   "outputs": [],
   "source": [
    "# visualize the predicted image\n",
    "# plot the transect\n",
    "\n"
   ]
  },
  {
   "cell_type": "code",
   "execution_count": 35,
   "id": "d0a4bb88",
   "metadata": {},
   "outputs": [],
   "source": [
    "# extract data along transect and plot R^2 fro transect\n",
    "\n"
   ]
  },
  {
   "cell_type": "code",
   "execution_count": null,
   "id": "42313156",
   "metadata": {},
   "outputs": [],
   "source": []
  },
  {
   "cell_type": "code",
   "execution_count": null,
   "id": "1b8f2c9a",
   "metadata": {},
   "outputs": [],
   "source": []
  }
 ],
 "metadata": {
  "kernelspec": {
   "display_name": "Python 3 (ipykernel)",
   "language": "python",
   "name": "python3"
  },
  "language_info": {
   "codemirror_mode": {
    "name": "ipython",
    "version": 3
   },
   "file_extension": ".py",
   "mimetype": "text/x-python",
   "name": "python",
   "nbconvert_exporter": "python",
   "pygments_lexer": "ipython3",
   "version": "3.9.12"
  }
 },
 "nbformat": 4,
 "nbformat_minor": 5
}
