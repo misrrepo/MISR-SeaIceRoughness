{
 "cells": [
  {
   "cell_type": "markdown",
   "id": "281475d9",
   "metadata": {},
   "source": [
    "note: multilinear regression with 3 cameras to compare with KNN from Anne"
   ]
  },
  {
   "cell_type": "code",
   "execution_count": 1,
   "id": "7ae5d89f",
   "metadata": {},
   "outputs": [],
   "source": [
    "#- main machine learning libraries used\n",
    "\n",
    "# import tensorflow\n",
    "import tensorflow as tf\n",
    "import tensorflow.keras as keras  \n",
    "import sklearn\n",
    "from sklearn.metrics import mean_squared_error, mean_absolute_error\n",
    "\n",
    "\n",
    "\n",
    "#- other libraries used\n",
    "import itertools\n",
    "import numpy as np\n",
    "import os\n",
    "import math\n",
    "import pandas as pd\n",
    "import matplotlib.pyplot as plt \n",
    "from platform import python_version\n",
    "from datetime import datetime as dt\n",
    "# import hydroeval as he # includes nash suchcliff efficiency (nse) goodness of fit similar to R^2\n",
    "from pygam import GAM, LinearGAM, s, f, te  #  import a GAM that’s made for regression problems\n"
   ]
  },
  {
   "cell_type": "code",
   "execution_count": 2,
   "id": "8f26b3c4",
   "metadata": {},
   "outputs": [
    {
     "data": {
      "text/plain": [
       "'3.9.13'"
      ]
     },
     "execution_count": 2,
     "metadata": {},
     "output_type": "execute_result"
    }
   ],
   "source": [
    "python_version()"
   ]
  },
  {
   "cell_type": "code",
   "execution_count": 3,
   "id": "309c088d",
   "metadata": {},
   "outputs": [
    {
     "data": {
      "text/plain": [
       "'2.9.1'"
      ]
     },
     "execution_count": 3,
     "metadata": {},
     "output_type": "execute_result"
    }
   ],
   "source": [
    "tf.__version__"
   ]
  },
  {
   "cell_type": "code",
   "execution_count": 4,
   "id": "5eb63a9a",
   "metadata": {},
   "outputs": [],
   "source": [
    "home_dir = \"/Users/ehsanmos/MLP_dataset/atmmodels/atmmodel_k_zero_old\"\n",
    "\n",
    "# with 3 cameras and 10pnts\n",
    "\n",
    "\n",
    "\n",
    "# original atmmodel.csv\n",
    "#****************************\n",
    "\n",
    "plot_name_tag = 'april'\n",
    "atmmodel = \"atmmodel_april_2016_k_zero.csv\" # prediction with npts=10 \n",
    "\n",
    "#****************************\n",
    "\n",
    "# plot_name_tag = 'july'\n",
    "# atmmodel = \"atmmodel_july_2016_k_zero.csv\"\n",
    "\n",
    "#****************************\n",
    "# # atmmodel = \"atmmodel_april_2016_k_zero_npts_larger10.csv\" # prediction with npts=10 \n",
    "\n",
    "\n",
    "# with 9 cameras\n",
    "# atmmodel = \"atmmodel_july_2016_k_zero_9cams4bands.csv\"\n",
    "\n",
    "atmmodel_fp = os.path.join(home_dir, atmmodel)"
   ]
  },
  {
   "cell_type": "code",
   "execution_count": 5,
   "id": "a54e0edf",
   "metadata": {},
   "outputs": [],
   "source": [
    "plot_output_dir = home_dir"
   ]
  },
  {
   "cell_type": "code",
   "execution_count": 6,
   "id": "c1bbc7da",
   "metadata": {},
   "outputs": [
    {
     "name": "stdout",
     "output_type": "stream",
     "text": [
      "/Users/ehsanmos/MLP_dataset/atmmodels/atmmodel_k_zero_old/atmmodel_april_2016_k_zero.csv\n",
      "input dataset found!\n"
     ]
    }
   ],
   "source": [
    "print(atmmodel_fp)\n",
    "\n",
    "if (not os.path.isfile(atmmodel_fp)):\n",
    "    raise SystemExit()\n",
    "else:\n",
    "    print(\"input dataset found!\")"
   ]
  },
  {
   "cell_type": "code",
   "execution_count": 7,
   "id": "ad2b8100",
   "metadata": {},
   "outputs": [
    {
     "name": "stdout",
     "output_type": "stream",
     "text": [
      "(43298, 15)\n",
      "Index(['path', 'orbit', 'block', 'line', 'sample', 'lat', 'lon', 'an', 'ca',\n",
      "       'cf', 'rms', 'weight', 'npts', 'cloud', 'var'],\n",
      "      dtype='object')\n"
     ]
    }
   ],
   "source": [
    "# read data\n",
    "\n",
    "training_ds = pd.read_csv(atmmodel_fp, engine='python')\n",
    "\n",
    "print(training_ds.shape)\n",
    "print(training_ds.columns)"
   ]
  },
  {
   "cell_type": "markdown",
   "id": "605b7bc4",
   "metadata": {},
   "source": [
    "### >>> drop unnecesary columns and build dataset with 9 cameras"
   ]
  },
  {
   "cell_type": "code",
   "execution_count": 8,
   "id": "2dcbbcd8",
   "metadata": {},
   "outputs": [],
   "source": [
    "# excluce_columns_old= ['path', 'orbit', 'img_block', 'line', 'sample', 'firstLat', 'firstLon', 'weight', 'npts', 'cloud', 'var']\n",
    "\n",
    "\n",
    "excluce_columns_rmLatLon = ['path', 'orbit', 'block', 'line', 'sample', 'lat', 'lon', 'weight', 'npts', 'cloud', 'var']\n",
    "training_ds = training_ds.drop(excluce_columns_rmLatLon, axis=1)\n",
    "\n",
    "\n",
    "# excluce_columns_keepLatLon = ['path', 'orbit', 'block', 'line', 'sample', 'weight', 'npts', 'cloud', 'var']\n",
    "# training_ds = training_ds.drop(excluce_columns_keepLatLon, axis=1)\n",
    "\n"
   ]
  },
  {
   "cell_type": "code",
   "execution_count": 9,
   "id": "4331e829",
   "metadata": {},
   "outputs": [
    {
     "name": "stdout",
     "output_type": "stream",
     "text": [
      "we are using 4 columns in our training dataset:\n",
      "             an        ca         cf        rms\n",
      "0      4.883254  8.022488  16.350180  14.200000\n",
      "1      4.839653  7.978888  16.350180  11.740000\n",
      "2      4.752452  7.891687  16.044976   9.062000\n",
      "3      4.796053  7.848086  15.870574  14.905000\n",
      "4      4.752452  7.848086  16.044976  12.299000\n",
      "...         ...       ...        ...        ...\n",
      "43293  0.539080  0.596643   1.035216  10.860000\n",
      "43294  0.553699  0.592988   1.065825   9.081818\n",
      "43295  0.551415  0.600754   1.058515   8.576000\n",
      "43296  0.532227  0.626338   1.042525   7.840000\n",
      "43297  0.502481  0.701360   1.021496   8.550000\n",
      "\n",
      "[43298 rows x 4 columns]\n"
     ]
    }
   ],
   "source": [
    "print('we are using %s columns in our training dataset:' %len(training_ds.columns))\n",
    "print(training_ds)  # columns should be only 9 cameras + rms "
   ]
  },
  {
   "cell_type": "code",
   "execution_count": 10,
   "id": "52d832c2",
   "metadata": {},
   "outputs": [],
   "source": [
    "# # rename column names\n",
    "# train_dataset.rename(columns={' an':'an', ' ca':'ca', ' cf':'cf', ' rms':'rms'}, inplace=True)\n",
    "# print(train_dataset.columns)\n",
    "# print(type(train_dataset))"
   ]
  },
  {
   "cell_type": "markdown",
   "id": "22564908",
   "metadata": {},
   "source": [
    "### look at distribution of data/ before cleaning"
   ]
  },
  {
   "cell_type": "code",
   "execution_count": 11,
   "id": "5ac61690",
   "metadata": {},
   "outputs": [
    {
     "data": {
      "text/plain": [
       "array([[<AxesSubplot:title={'center':'an'}>,\n",
       "        <AxesSubplot:title={'center':'ca'}>],\n",
       "       [<AxesSubplot:title={'center':'cf'}>,\n",
       "        <AxesSubplot:title={'center':'rms'}>]], dtype=object)"
      ]
     },
     "execution_count": 11,
     "metadata": {},
     "output_type": "execute_result"
    },
    {
     "data": {
      "image/png": "[encoded data removed]",
      "text/plain": [
       "<Figure size 432x288 with 4 Axes>"
      ]
     },
     "metadata": {
      "needs_background": "light"
     },
     "output_type": "display_data"
    }
   ],
   "source": [
    "training_ds.hist(bins=10)\n"
   ]
  },
  {
   "cell_type": "markdown",
   "id": "a198462f",
   "metadata": {},
   "source": [
    "## >>> cleaning dataset >>>"
   ]
  },
  {
   "cell_type": "code",
   "execution_count": 12,
   "id": "3ad24ee9",
   "metadata": {},
   "outputs": [
    {
     "data": {
      "text/plain": [
       "an      26.534945\n",
       "ca      45.249064\n",
       "cf     101.112106\n",
       "rms    122.655217\n",
       "dtype: float64"
      ]
     },
     "execution_count": 12,
     "metadata": {},
     "output_type": "execute_result"
    }
   ],
   "source": [
    "training_ds.max()"
   ]
  },
  {
   "cell_type": "markdown",
   "id": "b001bcc8",
   "metadata": {},
   "source": [
    "## >>> remove negative values\n",
    "\n",
    "- we want to train our models, so we will remove negative values, NAN values, masked values such as land mask, etc. "
   ]
  },
  {
   "cell_type": "code",
   "execution_count": 13,
   "id": "5a084f65",
   "metadata": {},
   "outputs": [
    {
     "name": "stdout",
     "output_type": "stream",
     "text": [
      "before dropping negative values: (43298, 4)\n",
      "after dropping negative values: (43298, 4)\n"
     ]
    },
    {
     "name": "stderr",
     "output_type": "stream",
     "text": [
      "/var/folders/cg/r5rsmy1146d38c9kj97z_55w0000gn/T/ipykernel_2243/117202112.py:5: FutureWarning: Index.__or__ operating as a set operation is deprecated, in the future this will be a logical operation matching Series.__or__.  Use index.union(other) instead.\n",
      "  training_ds.drop((training_ds[training_ds['an'] < 0.0].index) |\n"
     ]
    }
   ],
   "source": [
    "print('before dropping negative values: (%s, %s)' %training_ds.shape)\n",
    "\n",
    "#- remove/ drop negative values from all input features\n",
    "\n",
    "training_ds.drop((training_ds[training_ds['an'] < 0.0].index) | \n",
    "                (training_ds[training_ds['ca'] < 0.0].index) | \n",
    "                (training_ds[training_ds['cf'] < 0.0].index), inplace=True)\n",
    "\n",
    "\n",
    "\n",
    "#- remove/ drop negative values from all input features\n",
    "\n",
    "# training_ds.drop((training_ds[training_ds['da'] < 0.0].index) | \n",
    "#                 (training_ds[training_ds['ca'] < 0.0].index) | \n",
    "#                 (training_ds[training_ds['ba'] < 0.0].index) |\n",
    "#                 (training_ds[training_ds['aa'] < 0.0].index) |\n",
    "#                 (training_ds[training_ds['anr'] < 0.0].index) |\n",
    "#                 (training_ds[training_ds['af'] < 0.0].index) |\n",
    "#                 (training_ds[training_ds['bf'] < 0.0].index) |\n",
    "#                 (training_ds[training_ds['cf'] < 0.0].index) |\n",
    "#                 (training_ds[training_ds['df'] < 0.0].index), inplace=True)\n",
    "\n",
    "\n",
    "print('after dropping negative values: (%s, %s)' %training_ds.shape)"
   ]
  },
  {
   "cell_type": "markdown",
   "id": "f6f38241",
   "metadata": {},
   "source": [
    "## >>> outlier detection and removal >>>"
   ]
  },
  {
   "cell_type": "markdown",
   "id": "630d8159",
   "metadata": {},
   "source": [
    "### Removing reflectance values as outliers in all cameras"
   ]
  },
  {
   "cell_type": "code",
   "execution_count": 14,
   "id": "ecec9c6a",
   "metadata": {},
   "outputs": [
    {
     "name": "stdout",
     "output_type": "stream",
     "text": [
      " remove cameras outliers > 1\n"
     ]
    }
   ],
   "source": [
    "cam_outlier = 1\n",
    "\n",
    "print(' remove cameras outliers > %s' %cam_outlier)\n",
    "\n",
    "training_ds.drop(training_ds[(training_ds['ca'] > cam_outlier) |\n",
    "                           (training_ds['an'] > cam_outlier) |\n",
    "                           (training_ds['cf'] > cam_outlier)].index, inplace=True)\n",
    "\n",
    "\n",
    "\n",
    "# training_ds.drop(training_ds[(training_ds['da'] > cam_outlier) |\n",
    "#                            (training_ds['ca'] > cam_outlier) |\n",
    "#                            (training_ds['ba'] > cam_outlier) |\n",
    "#                            (training_ds['aa'] > cam_outlier) |\n",
    "#                            (training_ds['anr'] > cam_outlier) |\n",
    "#                            (training_ds['af'] > cam_outlier) |\n",
    "#                            (training_ds['bf'] > cam_outlier) |\n",
    "#                            (training_ds['cf'] > cam_outlier) |\n",
    "#                            (training_ds['df'] > cam_outlier)].index, inplace=True)"
   ]
  },
  {
   "cell_type": "markdown",
   "id": "eaf11c14",
   "metadata": {},
   "source": [
    "### Method 1: removing roughness values > 200 cm"
   ]
  },
  {
   "cell_type": "code",
   "execution_count": 15,
   "id": "22437758",
   "metadata": {},
   "outputs": [],
   "source": [
    "# training_ds.drop((training_ds[training_ds['rms'] > 30].index), inplace=True)"
   ]
  },
  {
   "cell_type": "markdown",
   "id": "caea4a56",
   "metadata": {},
   "source": [
    "### Method 2: removing roughness values with Interquartile Range Method (IQR)\n",
    "\n",
    "- Method: find 25 and 75 percentiles in data, calculate inter-quartile range (IQR), set the cut off threshold, and remove outliers from data"
   ]
  },
  {
   "cell_type": "code",
   "execution_count": 16,
   "id": "cd67ecb9",
   "metadata": {},
   "outputs": [],
   "source": [
    "#- identify outliers in roughnes valueswith interquartile range (IQRange)\n",
    "\n",
    "def rms_outlier_removal(dataset_df: pd.DataFrame) -> pd.DataFrame:\n",
    "    \n",
    "    from numpy import percentile\n",
    "\n",
    "    def remove_outliers_IQR(df, cutoff):\n",
    "        df.drop((df[df['rms'] > cutoff].index), inplace=True)\n",
    "        print('Removing outliers (IQR method): after dropping roughness values > %.1f in dataset; new shape= (%s,%s)' %(cutoff, df.shape[0], df.shape[1]))\n",
    "        return 0 # because inplace=True\n",
    "\n",
    "    #- extract data \n",
    "    data = dataset_df.loc[:,'rms']  # mean_ATM_roughness == rms\n",
    "\n",
    "    print(type(data))\n",
    "    #- calculate InterQuartile Range == IQR\n",
    "    q25, q75 = percentile(data, 25), percentile(data, 75)\n",
    "    iqr = q75 - q25\n",
    "    print('Percentiles: 25th= %.3f (cm), 75th= %.3f (cm), InterQuartile Range= %.3f (cm)' % (q25, q75, iqr))\n",
    "    #- calculate the outlier cutoff\n",
    "    cut_off = iqr * 3\n",
    "    lower, upper = q25 - cut_off, q75 + cut_off\n",
    "    print('lower cutoff= %.1f, upper cutoff= %.1f' % (lower, upper))\n",
    "    #- identify outliers\n",
    "    outliers = [x for x in data if x > upper] # list comprehension method\n",
    "    print('Identified outliers: %d \\n' % len(outliers))\n",
    "    #- remove outliers\n",
    "    remove_outliers_IQR(dataset_df, upper)\n",
    "    \n",
    "    return dataset_df\n"
   ]
  },
  {
   "cell_type": "code",
   "execution_count": 17,
   "id": "44bde836",
   "metadata": {},
   "outputs": [
    {
     "name": "stdout",
     "output_type": "stream",
     "text": [
      "<class 'pandas.core.series.Series'>\n",
      "Percentiles: 25th= 7.439 (cm), 75th= 16.263 (cm), InterQuartile Range= 8.824 (cm)\n",
      "lower cutoff= -19.0, upper cutoff= 42.7\n",
      "Identified outliers: 98 \n",
      "\n",
      "Removing outliers (IQR method): after dropping roughness values > 42.7 in dataset; new shape= (16620,4)\n"
     ]
    }
   ],
   "source": [
    "training_ds = rms_outlier_removal(training_ds)"
   ]
  },
  {
   "cell_type": "code",
   "execution_count": 18,
   "id": "ce7d8470",
   "metadata": {},
   "outputs": [],
   "source": [
    "# def check_nan_in_DF(training_ds: pd.DataFrame):\n",
    "    \n",
    "#     if (training_ds['da'].isnull().values.any() | \n",
    "#         training_ds['ca'].isnull().values.any() | \n",
    "#         training_ds['ba'].isnull().values.any() |\n",
    "#         training_ds['aa'].isnull().values.any() |\n",
    "#         training_ds['anr'].isnull().values.any() |\n",
    "#         training_ds['af'].isnull().values.any() |\n",
    "#         training_ds['bf'].isnull().values.any() |\n",
    "#         training_ds['cf'].isnull().values.any() |\n",
    "#         training_ds['df'].isnull().values.any()):\n",
    "\n",
    "#         print('found NAN in one DF column... removing NAN')\n",
    "#         training_ds.dropna(axis=0, inplace=True)\n",
    "#     else:\n",
    "#         print('did not find NAN in dataset') \n",
    "\n",
    "\n",
    "\n",
    "def check_nan_in_DF(training_ds: pd.DataFrame):\n",
    "    \n",
    "    if (\n",
    "        training_ds['ca'].isnull().values.any() | \n",
    "        training_ds['an'].isnull().values.any() |\n",
    "        training_ds['cf'].isnull().values.any()):\n",
    "\n",
    "        print('found NAN in one DF column... removing NAN')\n",
    "        training_ds.dropna(axis=0, inplace=True)\n",
    "    else:\n",
    "        print('did not find NAN in dataset') "
   ]
  },
  {
   "cell_type": "code",
   "execution_count": 19,
   "id": "1a3981ba",
   "metadata": {},
   "outputs": [
    {
     "name": "stdout",
     "output_type": "stream",
     "text": [
      "did not find NAN in dataset\n"
     ]
    }
   ],
   "source": [
    "check_nan_in_DF(training_ds)"
   ]
  },
  {
   "cell_type": "code",
   "execution_count": 20,
   "id": "cfb34509",
   "metadata": {},
   "outputs": [
    {
     "name": "stdout",
     "output_type": "stream",
     "text": [
      "double check: did not find any negative value in DF!\n"
     ]
    }
   ],
   "source": [
    "#~ double check for any negative values in all columns\n",
    "\n",
    "if ((training_ds.values < 0).any()):\n",
    "    print('found some negative values in DF! something is wrong!')\n",
    "else:\n",
    "    print('double check: did not find any negative value in DF!')"
   ]
  },
  {
   "cell_type": "code",
   "execution_count": 21,
   "id": "48dec0ad",
   "metadata": {},
   "outputs": [
    {
     "data": {
      "text/plain": [
       "an      0.943680\n",
       "ca      0.987624\n",
       "cf      0.999990\n",
       "rms    42.730000\n",
       "dtype: float64"
      ]
     },
     "execution_count": 21,
     "metadata": {},
     "output_type": "execute_result"
    }
   ],
   "source": [
    "## check values after cleaning dataset\n",
    "training_ds.max()"
   ]
  },
  {
   "cell_type": "code",
   "execution_count": 22,
   "id": "9d3b9bde",
   "metadata": {},
   "outputs": [
    {
     "data": {
      "text/html": [
       "<div>\n",
       "<style scoped>\n",
       "    .dataframe tbody tr th:only-of-type {\n",
       "        vertical-align: middle;\n",
       "    }\n",
       "\n",
       "    .dataframe tbody tr th {\n",
       "        vertical-align: top;\n",
       "    }\n",
       "\n",
       "    .dataframe thead th {\n",
       "        text-align: right;\n",
       "    }\n",
       "</style>\n",
       "<table border=\"1\" class=\"dataframe\">\n",
       "  <thead>\n",
       "    <tr style=\"text-align: right;\">\n",
       "      <th></th>\n",
       "      <th>an</th>\n",
       "      <th>ca</th>\n",
       "      <th>cf</th>\n",
       "      <th>rms</th>\n",
       "    </tr>\n",
       "  </thead>\n",
       "  <tbody>\n",
       "    <tr>\n",
       "      <th>56</th>\n",
       "      <td>0.735176</td>\n",
       "      <td>0.838593</td>\n",
       "      <td>0.864487</td>\n",
       "      <td>25.555000</td>\n",
       "    </tr>\n",
       "    <tr>\n",
       "      <th>57</th>\n",
       "      <td>0.760427</td>\n",
       "      <td>0.855963</td>\n",
       "      <td>0.874781</td>\n",
       "      <td>20.466667</td>\n",
       "    </tr>\n",
       "    <tr>\n",
       "      <th>58</th>\n",
       "      <td>0.743540</td>\n",
       "      <td>0.856285</td>\n",
       "      <td>0.877676</td>\n",
       "      <td>16.176250</td>\n",
       "    </tr>\n",
       "    <tr>\n",
       "      <th>59</th>\n",
       "      <td>0.767343</td>\n",
       "      <td>0.856285</td>\n",
       "      <td>0.879284</td>\n",
       "      <td>25.000000</td>\n",
       "    </tr>\n",
       "    <tr>\n",
       "      <th>60</th>\n",
       "      <td>0.771203</td>\n",
       "      <td>0.858215</td>\n",
       "      <td>0.879284</td>\n",
       "      <td>22.646667</td>\n",
       "    </tr>\n",
       "    <tr>\n",
       "      <th>...</th>\n",
       "      <td>...</td>\n",
       "      <td>...</td>\n",
       "      <td>...</td>\n",
       "      <td>...</td>\n",
       "    </tr>\n",
       "    <tr>\n",
       "      <th>43226</th>\n",
       "      <td>0.783715</td>\n",
       "      <td>0.872968</td>\n",
       "      <td>0.911412</td>\n",
       "      <td>7.362500</td>\n",
       "    </tr>\n",
       "    <tr>\n",
       "      <th>43227</th>\n",
       "      <td>0.785514</td>\n",
       "      <td>0.871394</td>\n",
       "      <td>0.936592</td>\n",
       "      <td>7.605000</td>\n",
       "    </tr>\n",
       "    <tr>\n",
       "      <th>43228</th>\n",
       "      <td>0.788212</td>\n",
       "      <td>0.872294</td>\n",
       "      <td>0.966268</td>\n",
       "      <td>8.166667</td>\n",
       "    </tr>\n",
       "    <tr>\n",
       "      <th>43229</th>\n",
       "      <td>0.795406</td>\n",
       "      <td>0.872743</td>\n",
       "      <td>0.995494</td>\n",
       "      <td>7.540000</td>\n",
       "    </tr>\n",
       "    <tr>\n",
       "      <th>43230</th>\n",
       "      <td>0.808670</td>\n",
       "      <td>0.873193</td>\n",
       "      <td>0.986276</td>\n",
       "      <td>8.103333</td>\n",
       "    </tr>\n",
       "  </tbody>\n",
       "</table>\n",
       "<p>16620 rows × 4 columns</p>\n",
       "</div>"
      ],
      "text/plain": [
       "             an        ca        cf        rms\n",
       "56     0.735176  0.838593  0.864487  25.555000\n",
       "57     0.760427  0.855963  0.874781  20.466667\n",
       "58     0.743540  0.856285  0.877676  16.176250\n",
       "59     0.767343  0.856285  0.879284  25.000000\n",
       "60     0.771203  0.858215  0.879284  22.646667\n",
       "...         ...       ...       ...        ...\n",
       "43226  0.783715  0.872968  0.911412   7.362500\n",
       "43227  0.785514  0.871394  0.936592   7.605000\n",
       "43228  0.788212  0.872294  0.966268   8.166667\n",
       "43229  0.795406  0.872743  0.995494   7.540000\n",
       "43230  0.808670  0.873193  0.986276   8.103333\n",
       "\n",
       "[16620 rows x 4 columns]"
      ]
     },
     "execution_count": 22,
     "metadata": {},
     "output_type": "execute_result"
    }
   ],
   "source": [
    "training_ds"
   ]
  },
  {
   "cell_type": "markdown",
   "id": "92e94214",
   "metadata": {},
   "source": [
    "## look at distribution of data- after cleaning"
   ]
  },
  {
   "cell_type": "code",
   "execution_count": 23,
   "id": "2d84b542",
   "metadata": {},
   "outputs": [
    {
     "data": {
      "text/plain": [
       "array([[<AxesSubplot:title={'center':'an'}>,\n",
       "        <AxesSubplot:title={'center':'ca'}>],\n",
       "       [<AxesSubplot:title={'center':'cf'}>,\n",
       "        <AxesSubplot:title={'center':'rms'}>]], dtype=object)"
      ]
     },
     "execution_count": 23,
     "metadata": {},
     "output_type": "execute_result"
    },
    {
     "data": {
      "image/png": "[encoded data removed]",
      "text/plain": [
       "<Figure size 432x288 with 4 Axes>"
      ]
     },
     "metadata": {
      "needs_background": "light"
     },
     "output_type": "display_data"
    }
   ],
   "source": [
    "training_ds.hist(bins=10)"
   ]
  },
  {
   "cell_type": "markdown",
   "id": "ad4c8f86",
   "metadata": {},
   "source": [
    "## >>> 1) Shuffle dataset"
   ]
  },
  {
   "cell_type": "code",
   "execution_count": 24,
   "id": "48bd702e",
   "metadata": {},
   "outputs": [],
   "source": [
    "# shuffle dataset\n",
    "\n",
    "from sklearn.utils import shuffle\n",
    "\n",
    "train_dataset = shuffle(training_ds)"
   ]
  },
  {
   "cell_type": "markdown",
   "id": "798b80c5",
   "metadata": {},
   "source": [
    "## >>> 2) Split dataset to train-test"
   ]
  },
  {
   "cell_type": "code",
   "execution_count": 25,
   "id": "19445447",
   "metadata": {},
   "outputs": [
    {
     "name": "stdout",
     "output_type": "stream",
     "text": [
      "(16620, 3)\n",
      "(16620, 1)\n"
     ]
    }
   ],
   "source": [
    "#- split data set to X and Y\n",
    "\n",
    "X = train_dataset.iloc[:, :-1] # to select up to last column of dataset OR [:, 0:3]\n",
    "Y = train_dataset.iloc[:, -1:] # to select last column of DF\n",
    "\n",
    "print(X.shape)\n",
    "print(Y.shape)"
   ]
  },
  {
   "cell_type": "code",
   "execution_count": 26,
   "id": "77c09e47",
   "metadata": {},
   "outputs": [],
   "source": [
    "# change to list? faster?\n",
    "# XX = \n",
    "XX = X.values.tolist()\n",
    "YY = Y.values.tolist()"
   ]
  },
  {
   "cell_type": "code",
   "execution_count": 27,
   "id": "b2a2a897",
   "metadata": {},
   "outputs": [
    {
     "name": "stdout",
     "output_type": "stream",
     "text": [
      "test size= 30 percent\n",
      "train:\n",
      "11634\n",
      "11634\n",
      "\n",
      "test:\n",
      "4986\n",
      "4986\n"
     ]
    }
   ],
   "source": [
    "#- now split dataset to train-test\n",
    "\n",
    "from sklearn.model_selection import train_test_split\n",
    "\n",
    "#- we use this function to split data-- from here because we are usiong SKlearn library, we change all data structures from Pandas DF to numpy\n",
    "# X_train, X_test, y_train, y_test = train_test_split(X.to_numpy(), Y.to_numpy(), test_size=0.2, random_state=123) # Q- input is DF or numpy array?\n",
    "\n",
    "\n",
    "testdata_size = 0.3\n",
    "print(\"test size= %d percent\" %(testdata_size*100))\n",
    "x_train, x_test, y_train, y_test = train_test_split(XX, YY, test_size=testdata_size, random_state=123) # Q- input is DF or numpy array?\n",
    "\n",
    "print(\"train:\")\n",
    "print(len(x_train))\n",
    "print(len(y_train))\n",
    "\n",
    "print(\"\\ntest:\")\n",
    "print(len(x_test))\n",
    "print(len(y_test))\n"
   ]
  },
  {
   "cell_type": "markdown",
   "id": "0dfcb8c8",
   "metadata": {},
   "source": [
    "## >>> 3) rescale data"
   ]
  },
  {
   "cell_type": "code",
   "execution_count": 28,
   "id": "effd545f",
   "metadata": {},
   "outputs": [],
   "source": [
    "# from sklearn.preprocessing import StandardScaler\n",
    "\n",
    "# scaler_x = StandardScaler()\n",
    "# scaler_y = StandardScaler()\n",
    "\n",
    "# x_train_scaled = scaler_x.fit(x_train).transform(x_train) # returns data w/ mean 0 & std 1\n",
    "# y_train_scaled = scaler_y.fit(y_train).transform(y_train)\n",
    "# x_test_scaled = scaler_x.fit(x_test).transform(x_test)\n",
    "# y_test_scaled = scaler_y.fit(y_test).transform(y_test)"
   ]
  },
  {
   "cell_type": "code",
   "execution_count": 29,
   "id": "12f67672",
   "metadata": {},
   "outputs": [],
   "source": [
    "# ret_x_train = plt.hist(x_train_scaled)\n",
    "# plt.show()\n",
    "\n",
    "# pd.DataFrame(x_train_scaled)['???'].hist(bin=10)"
   ]
  },
  {
   "cell_type": "code",
   "execution_count": 30,
   "id": "05d6d152",
   "metadata": {},
   "outputs": [],
   "source": [
    "# ret_y_train = plt.hist(y_train_scaled)\n",
    "# plt.show()"
   ]
  },
  {
   "cell_type": "code",
   "execution_count": 31,
   "id": "fff33fa2",
   "metadata": {},
   "outputs": [],
   "source": [
    "def MBE(y_obs: np.array, \n",
    "        y_model: np.array):\n",
    "    '''\n",
    "    Parameters:\n",
    "        y_true (array): Array of observed values\n",
    "        y_pred (array): Array of prediction values\n",
    "\n",
    "    Returns:\n",
    "        mbe (float): Biais score\n",
    "    '''\n",
    "#     y_true = np.array(y_true)\n",
    "#     y_pred = np.array(y_pred)\n",
    "#     y_true = y_true.reshape(len(y_true),1)\n",
    "#     y_pred = y_pred.reshape(len(y_pred),1)   \n",
    "\n",
    "\n",
    "#     diff = (y_obs - y_model) # if + ==> models underestimates target; if - ==> model overestimates target\n",
    "    diff = (y_model - y_obs) # if + == models overestimates target; else model underestimates target\n",
    "\n",
    "    \n",
    "    mbe = diff.mean()\n",
    "    print('MBE = %.3f' %mbe) # with 3 numbers after decimal point == 3 decimal places\n",
    "#     print('MBE = ', mbe)\n",
    "\n",
    "    \n",
    "    return 0"
   ]
  },
  {
   "cell_type": "markdown",
   "id": "4967c895",
   "metadata": {},
   "source": [
    "## >>> Simple Linear Regression >>>\n",
    "\n",
    "train simple LR with 2 parameters to estimate"
   ]
  },
  {
   "cell_type": "code",
   "execution_count": 32,
   "id": "b327133d",
   "metadata": {},
   "outputs": [
    {
     "name": "stdout",
     "output_type": "stream",
     "text": [
      "R^2 train (score): 0.08\n",
      "RMSE train: 6.60\n",
      "MAE train: 5.11\n",
      "MBE = 0.000\n",
      "0\n"
     ]
    }
   ],
   "source": [
    "from sklearn.linear_model import LinearRegression\n",
    "from sklearn.metrics import r2_score\n",
    "\n",
    "# Create linear regression object \n",
    "lr_model = LinearRegression() # create an estimator obj\n",
    "lr_model.get_params()\n",
    "\n",
    "# Fit alg. to training dataset/Train the model using the training sets- here we use X_train(3 features)\n",
    "lr_model.fit(x_train, y_train) # fit(X,y) will fit data to our algortihm and makes it learn from data == training step\n",
    "\n",
    "lr_train_score = lr_model.score(x_train, y_train)\n",
    "print(\"R^2 train (score): %.2f\" %lr_train_score)\n",
    "\n",
    "y_train_pred_lr = lr_model.predict(x_train)\n",
    "print('RMSE train: %.2f' %math.sqrt(mean_squared_error(y_train, y_train_pred_lr))) # square root of MSE.\n",
    "print('MAE train: %.2f' %mean_absolute_error(y_train, y_train_pred_lr))\n",
    "print(MBE(y_train, y_train_pred_lr))\n",
    "\n",
    "\n",
    "# NSE-traing\n",
    "# nse_lr = he.evaluator(he.nse, y_train, y_train_pred_lr)  # order(prediction,target)\n",
    "# print('NSE train: %.2f' %nse_lr)\n",
    "# # print(lr_model.coef_)\n"
   ]
  },
  {
   "cell_type": "markdown",
   "id": "4a8eda24",
   "metadata": {},
   "source": [
    "3 Best metrics to evaluate Regression Model:\n",
    "- R^2: shows how well the model can fit training data/variables\n",
    "- RMSE: is a measure of prediction error; it gives larger penalization to big prediction error by square it\n",
    "- MAE: it treats all errors the same\n",
    "- MBE: \n",
    "\n",
    "\n",
    "notes:  MBE is primarily used to estimate the average bias in the model and to decide if any steps need to be taken to correct the model bias. The MBE, MAE, and RMSE are related by the following inequalities: .\n",
    "\n",
    "\n",
    "Model evaluation helps you to understand the performance of your model and makes it easy to present your model to other people.\n",
    "source: https://towardsdatascience.com/what-are-the-best-metrics-to-evaluate-your-regression-model-418ca481755b"
   ]
  },
  {
   "cell_type": "code",
   "execution_count": 33,
   "id": "383ccaf6",
   "metadata": {},
   "outputs": [],
   "source": [
    "# # calculate R-squared of regression model\n",
    "# r_squared = mlr_model.score(X, Y)\n",
    "# print('R^2 training: %s' %round(r_squared, 2))"
   ]
  },
  {
   "cell_type": "code",
   "execution_count": 34,
   "id": "c4d49a5f",
   "metadata": {},
   "outputs": [
    {
     "name": "stdout",
     "output_type": "stream",
     "text": [
      "R^2 test: 0.06\n",
      "RMSE test: 6.87\n",
      "MAE test: 5.26\n",
      "MBE = 0.026\n",
      "0\n"
     ]
    },
    {
     "data": {
      "image/png": "[encoded data removed]",
      "text/plain": [
       "<Figure size 432x288 with 1 Axes>"
      ]
     },
     "metadata": {},
     "output_type": "display_data"
    }
   ],
   "source": [
    "# Predict using the linear model- on specific block data- on transect data\n",
    "# x_test = 'open 3 MISR cameras that create transect block, create x_test dataset from 3 cameras (an, ca, cf), and then make prediction '\n",
    "y_pred_lr = lr_model.predict(x_test)\n",
    "\n",
    "\n",
    "######## plot \n",
    "import seaborn as sns\n",
    "\n",
    "sns.set_theme(color_codes=True)\n",
    "fig, ax = plt.subplots()\n",
    "\n",
    "sns.regplot(x=y_test, y=y_pred_lr, truncate=False, ax=ax)#, color='g')\n",
    "\n",
    "ax.set_xlim(0, 60)\n",
    "ax.set_ylim(0, 60)\n",
    "# plt.show()\n",
    "\n",
    "plot_name = 'simpleLinearReg_'+plot_name_tag\n",
    "plt.savefig(os.path.join(plot_output_dir, plot_name))\n",
    "\n",
    "\n",
    "\n",
    "r2_model = r2_score(y_test, y_pred_lr)\n",
    "print('R^2 test: %s' %round(r2_model,2))\n",
    "print('RMSE test: %.2f' %math.sqrt(mean_squared_error(y_test, y_pred_lr))) # square root of MSE.\n",
    "print('MAE test: %.2f' %mean_absolute_error(y_test, y_pred_lr))\n",
    "print(MBE(y_test, y_pred_lr))\n",
    "\n",
    "# NSE\n",
    "# nse_lr = he.evaluator(he.nse, y_pred_lr, y_test)  # order(prediction,target)\n",
    "# print('NSE: %.2f' %nse_lr)\n"
   ]
  },
  {
   "cell_type": "markdown",
   "id": "de253ad4",
   "metadata": {},
   "source": [
    "## >>> Polynomial linear regression >>>\n",
    "\n",
    "Although this model allows for a nonlinear relationship between Y and X, polynomial regression is still considered linear regression since it is linear in the regression coefficients. it means relations of Y with respect to X is linear == degree of equation (power of X) is 1 so the relationship has power of 1"
   ]
  },
  {
   "cell_type": "code",
   "execution_count": 35,
   "id": "f0e072cd",
   "metadata": {},
   "outputs": [
    {
     "name": "stdout",
     "output_type": "stream",
     "text": [
      "R^2 train: 0.11\n",
      "RMSE train: 6.47\n",
      "MAE train: 5.00\n",
      "MBE = 0.000\n",
      "0\n",
      "R^2 test: 0.09\n",
      "RMSE test: 6.73\n",
      "MAE test: 5.14\n",
      "MBE = 0.005\n",
      "0\n"
     ]
    },
    {
     "data": {
      "image/png": "[encoded data removed]",
      "text/plain": [
       "<Figure size 432x288 with 1 Axes>"
      ]
     },
     "metadata": {},
     "output_type": "display_data"
    }
   ],
   "source": [
    "from sklearn.linear_model import LinearRegression\n",
    "from sklearn.preprocessing import PolynomialFeatures\n",
    "import math\n",
    "\n",
    "poly_feature_matrix = PolynomialFeatures(degree=2) # how nuber of features change?\n",
    "x_train_poly = poly_feature_matrix.fit_transform(x_train)\n",
    "\n",
    "# print(x_train.shape)\n",
    "# print(x_train_poly.shape) # Q- why degree= 3, 3 features turned to 20 features?\n",
    "\n",
    "poly_linear_reg_model = LinearRegression() # build an instance of the model\n",
    "# print(poly_linear_reg_model)\n",
    "\n",
    "poly_linear_reg_model.fit(x_train_poly, y_train) # Then we fit the qlgorithm to our data/train the model\n",
    "# training model score\n",
    "ploy_train_score = poly_linear_reg_model.score(x_train_poly, y_train)\n",
    "print(\"R^2 train: %.2f\" %ploy_train_score)\n",
    "\n",
    "y_train_poly = poly_linear_reg_model.predict(x_train_poly)\n",
    "print('RMSE train: %.2f' %math.sqrt(mean_squared_error(y_train, y_train_poly))) # square root of MSE.\n",
    "print('MAE train: %.2f' %mean_absolute_error(y_train, y_train_poly))\n",
    "print(MBE(y_train, y_train_poly))\n",
    "\n",
    "\n",
    "# metrics\n",
    "# nse_lr = he.evaluator(he.nse, y_train, y_train_poly)  # order(prediction,target)\n",
    "# print('NSE train: %.2f' %nse_lr)\n",
    "\n",
    "# predict\n",
    "x_test_poly = poly_feature_matrix.fit_transform(x_test)\n",
    "y_pred_plr = poly_linear_reg_model.predict(x_test_poly) # prediction (Y^)\n",
    "\n",
    "##### R^2 score\n",
    "r2_plr = r2_score(y_test, y_pred_plr)\n",
    "print('R^2 test: %s' %round(r2_plr,2))\n",
    "print('RMSE test: %.2f' %math.sqrt(mean_squared_error(y_test, y_pred_plr))) # square root of MSE.\n",
    "print('MAE test: %.2f' %mean_absolute_error(y_test, y_pred_plr))\n",
    "print(MBE(y_test, y_pred_plr))\n",
    "\n",
    "\n",
    "# NSE\n",
    "# nse_plr = he.evaluator(he.nse, y_pred_plr, y_test)  # order(prediction,target)\n",
    "# print('NSE: %.2f' %nse_plr) # shows gof==how model fits data\n",
    "\n",
    "\n",
    "# print(len(y_test))\n",
    "# print(len(y_pred_plr))\n",
    "\n",
    "################################# plot data\n",
    "# plt.figure(figsize=(10, 6))\n",
    "# plt.title(\"poly regression\", size=16)\n",
    "# plt.scatter(y_test, y_pred_plr)\n",
    "# plt.plot(y_test, y_pred_plr, c=\"red\")\n",
    "# plt.show()\n",
    "\n",
    "\n",
    "import seaborn as sns\n",
    "\n",
    "sns.set_theme(color_codes=True)\n",
    "fig, ax = plt.subplots()\n",
    "sns.regplot(x=y_test, y=y_pred_plr, truncate=False, ax=ax)#, color='g')\n",
    "ax.set_xlim(0, 60)\n",
    "ax.set_ylim(0, 60)\n",
    "# plt.show()\n",
    "\n",
    "plot_name = 'polyLinearReg_'+plot_name_tag\n",
    "plt.savefig(os.path.join(plot_output_dir, plot_name))"
   ]
  },
  {
   "cell_type": "markdown",
   "id": "2e38618c",
   "metadata": {},
   "source": [
    "## >>> K-nearest neighbor >>>"
   ]
  },
  {
   "cell_type": "code",
   "execution_count": 36,
   "id": "67667a3f",
   "metadata": {},
   "outputs": [
    {
     "name": "stdout",
     "output_type": "stream",
     "text": [
      "R^2 train: 0.46\n",
      "RMSE train: 5.04\n",
      "MAE train: 3.70\n",
      "MBE = -0.028\n",
      "0\n"
     ]
    }
   ],
   "source": [
    "from sklearn.neighbors import KNeighborsRegressor\n",
    "\n",
    "k_neighbors = 5\n",
    "\n",
    "knn_model = KNeighborsRegressor(n_neighbors=k_neighbors)\n",
    "\n",
    "knn_model.fit(x_train, y_train) # fit algorithm to data and train it\n",
    "\n",
    "# training score\n",
    "knn_train_score = knn_model.score(x_train, y_train)\n",
    "print(\"R^2 train: %.2f\" %knn_train_score)\n",
    "\n",
    "y_train_pred_knn = knn_model.predict(x_train)\n",
    "print('RMSE train: %.2f' %math.sqrt(mean_squared_error(y_train, y_train_pred_knn))) # square root of MSE.\n",
    "print('MAE train: %.2f' %mean_absolute_error(y_train, y_train_pred_knn))\n",
    "print(MBE(y_train, y_train_pred_knn))"
   ]
  },
  {
   "cell_type": "code",
   "execution_count": 37,
   "id": "df6b2273",
   "metadata": {},
   "outputs": [],
   "source": [
    "# performance metrics on train dataset == algorithm is fit to it\n",
    "\n",
    "\n",
    "\n"
   ]
  },
  {
   "cell_type": "code",
   "execution_count": 38,
   "id": "99a39079",
   "metadata": {},
   "outputs": [
    {
     "name": "stdout",
     "output_type": "stream",
     "text": [
      "R^2 test: 0.2\n",
      "RMSE test: 6.33\n",
      "MAE test: 4.56\n",
      "MBE = -0.090\n",
      "0\n"
     ]
    },
    {
     "data": {
      "image/png": "[encoded data removed]",
      "text/plain": [
       "<Figure size 432x288 with 1 Axes>"
      ]
     },
     "metadata": {},
     "output_type": "display_data"
    }
   ],
   "source": [
    "# performance metrics on test dataset\n",
    "\n",
    "# Predict on dataset which model has not seen before\n",
    "y_pred_knn = knn_model.predict(x_test)\n",
    "\n",
    "# report evaluation of mdoel performace on test data\n",
    "r2_model = r2_score(y_test, y_pred_knn)\n",
    "print('R^2 test: %s' %round(r2_model,2))\n",
    "print('RMSE test: %.2f' %math.sqrt(mean_squared_error(y_test, y_pred_knn))) # square root of MSE.\n",
    "print('MAE test: %.2f' %mean_absolute_error(y_test, y_pred_knn))\n",
    "print(MBE(y_test, y_pred_knn))\n",
    "\n",
    "\n",
    "### NSE\n",
    "# nse_knn = he.evaluator(he.nse, y_pred_knn, y_test)  # order(prediction,target)\n",
    "# print('NSE: %.2f' %nse_knn)\n",
    "\n",
    "\n",
    "\n",
    "\n",
    "import seaborn as sns\n",
    "\n",
    "sns.set_theme(color_codes=True)\n",
    "fig, ax = plt.subplots()\n",
    "sns.regplot(x=y_test, y=y_pred_knn, truncate=False, ax=ax)#, color='g')\n",
    "ax.set_xlim(0, 60)\n",
    "ax.set_ylim(0, 60)\n",
    "# plt.show()\n",
    "\n",
    "plot_name = 'knn_'+plot_name_tag\n",
    "plt.savefig(os.path.join(plot_output_dir, plot_name))\n"
   ]
  },
  {
   "cell_type": "code",
   "execution_count": 39,
   "id": "2f9c25cb",
   "metadata": {},
   "outputs": [
    {
     "name": "stdout",
     "output_type": "stream",
     "text": [
      "<class 'numpy.ndarray'>\n",
      "<class 'numpy.ndarray'>\n"
     ]
    }
   ],
   "source": [
    "# change list to np.array \n",
    "\n",
    "y_test = np.array(y_test) \n",
    "print(type(y_test))\n",
    "print(type(y_pred_knn))"
   ]
  },
  {
   "cell_type": "markdown",
   "id": "81ae5a95",
   "metadata": {},
   "source": [
    "### plot histogram for test dataset"
   ]
  },
  {
   "cell_type": "code",
   "execution_count": 40,
   "id": "7c338f46",
   "metadata": {},
   "outputs": [],
   "source": [
    "# def plot_histogram(obs_ds: np.array, model_ds: np.array):\n",
    "#     # this function plots histogram of obs vs. modeled data\n",
    "#     # todo: move label as arg \n",
    "    \n",
    "#     def save_plot(plot_output_dir: str, plot_name: str):\n",
    "#         plot_fp = os.path.join(plot_output_dir, plot_name)\n",
    "#         print(plot_fp)\n",
    "#         plt.savefig(plot_fp)\n",
    "    \n",
    "#     #create relative frequency histogram\n",
    "# #     fig = plt.figure()\n",
    "# #     ax = fig.add_subplot(111)\n",
    "# #     ax.hist(data, edgecolor='black', weights=np.ones_like(data) / len(data))\n",
    "    \n",
    "#     bin_size = 20\n",
    "#     plt.hist(obs_ds, density=True, bins=bin_size, label='ATM-derived', color='blue', alpha=0.5)#, weights=np.ones_like(obs_ds) / len(obs_ds))  # density=False would make counts\n",
    "#     plt.hist(model_ds, density=True, bins=bin_size, label='MISR-derived', color='orange', alpha=0.5)#, weights=np.ones_like(model_ds) / len(model_ds))  # density=False would make counts\n",
    "#     plt.xlim(0,50)\n",
    "#     plt.ylim(0,0.25)\n",
    "\n",
    "\n",
    "#     plt.grid(False)\n",
    "\n",
    "    \n",
    "#     plt.xlabel('Roughness (cm)', fontsize = 11)\n",
    "#     plt.ylabel('Frequency', fontsize = 11)\n",
    "#     plt.legend(loc=\"upper right\")\n",
    "#     # plt.title(\"ATM vs. MISR for %s\" %sim_month_hist_label)\n",
    "\n",
    "#     plt.rc('legend', fontsize=11)    # legend fontsize\n",
    "\n",
    "    \n",
    "#     # if we want to save figure, set path and name\n",
    "#     plot_name = 'histogram_'+plot_name_tag\n",
    "    \n",
    "#     save_plot(plot_output_dir, plot_name)\n",
    "    \n",
    "\n",
    "\n",
    "#     return 0\n"
   ]
  },
  {
   "cell_type": "code",
   "execution_count": 41,
   "id": "a90e88bb",
   "metadata": {},
   "outputs": [],
   "source": [
    "def plot_histogram(obs_ds: np.array, model_ds: np.array):\n",
    "    # this function plots histogram of obs vs. modeled data\n",
    "    # todo: move label as arg \n",
    "    \n",
    "    def save_plot(plot_output_dir: str, plot_name: str):\n",
    "        plot_fp = os.path.join(plot_output_dir, plot_name)\n",
    "        print(plot_fp)\n",
    "        plt.savefig(plot_fp)\n",
    "    \n",
    "    #create relative frequency histogram\n",
    "#     fig = plt.figure()\n",
    "#     ax = fig.add_subplot(111)\n",
    "#     ax.hist(data, edgecolor='black', weights=np.ones_like(data) / len(data))\n",
    "    fig, ax = plt.subplots(nrows=1, ncols=1)\n",
    "    ax.set_facecolor(\"white\")\n",
    "    fig.patch.set_facecolor('white')\n",
    "    \n",
    "    \n",
    "    bin_size = 20\n",
    "    plt.hist(obs_ds, density=True, bins=bin_size, label='ATM-derived', color='blue', alpha=0.5)#, weights=np.ones_like(obs_ds) / len(obs_ds))  # density=False would make counts\n",
    "    plt.hist(model_ds, density=True, bins=bin_size, label='MISR-derived', color='orange', alpha=0.5)#, weights=np.ones_like(model_ds) / len(model_ds))  # density=False would make counts\n",
    "    \n",
    "#     ax = plt.axes()\n",
    "    # Setting the background color of the plot \n",
    "    # using set_facecolor() method\n",
    "    \n",
    "    plt.xlim(0,50)\n",
    "    plt.ylim(0,0.25)\n",
    "\n",
    "\n",
    "    plt.grid(False)\n",
    "\n",
    "    \n",
    "    plt.xlabel('Roughness (cm)', fontsize = 11)\n",
    "    plt.ylabel('Frequency', fontsize = 11)\n",
    "    plt.legend(loc=\"upper right\")\n",
    "    # plt.title(\"ATM vs. MISR for %s\" %sim_month_hist_label)\n",
    "\n",
    "    plt.rc('legend', fontsize=11)    # legend fontsize\n",
    "\n",
    "    \n",
    "    # if we want to save figure, set path and name\n",
    "    plot_name = 'histogram_'+plot_name_tag\n",
    "    \n",
    "    \n",
    "    plt.rcParams[\"axes.edgecolor\"] = \"black\"\n",
    "    plt.rcParams[\"axes.linewidth\"] = 1\n",
    "    \n",
    "    save_plot(plot_output_dir, plot_name)\n",
    "    \n",
    "\n",
    "\n",
    "    return 0\n"
   ]
  },
  {
   "cell_type": "code",
   "execution_count": 42,
   "id": "625d5f7b",
   "metadata": {},
   "outputs": [
    {
     "name": "stdout",
     "output_type": "stream",
     "text": [
      "/Users/ehsanmos/MLP_dataset/atmmodels/atmmodel_k_zero_old/histogram_april\n"
     ]
    },
    {
     "data": {
      "text/plain": [
       "0"
      ]
     },
     "execution_count": 42,
     "metadata": {},
     "output_type": "execute_result"
    },
    {
     "data": {
      "image/png": "[encoded data removed]",
      "text/plain": [
       "<Figure size 432x288 with 1 Axes>"
      ]
     },
     "metadata": {},
     "output_type": "display_data"
    }
   ],
   "source": [
    "plot_histogram(obs_ds=y_test, model_ds=y_pred_knn)"
   ]
  },
  {
   "cell_type": "code",
   "execution_count": 43,
   "id": "2bb92093",
   "metadata": {},
   "outputs": [
    {
     "name": "stdout",
     "output_type": "stream",
     "text": [
      "11634\n",
      "11634\n",
      "<class 'list'>\n",
      "<class 'list'>\n"
     ]
    }
   ],
   "source": [
    "print(len(x_train))\n",
    "print(len(y_train))\n",
    "\n",
    "print(type(x_train))\n",
    "print(type(y_train))"
   ]
  },
  {
   "cell_type": "code",
   "execution_count": 44,
   "id": "b1773345",
   "metadata": {},
   "outputs": [],
   "source": [
    "# x_train = np.array(x_train)\n",
    "# y_train = np.array(y_train)\n",
    "\n",
    "# print(type(x_train))\n",
    "# print(type(y_train))"
   ]
  },
  {
   "cell_type": "code",
   "execution_count": 45,
   "id": "5862e233",
   "metadata": {},
   "outputs": [],
   "source": [
    "# plot_histogram(obs_ds=x_train, model_ds=y_train)"
   ]
  },
  {
   "cell_type": "markdown",
   "id": "889bc539",
   "metadata": {},
   "source": [
    "### Q-Q plots for test dataset"
   ]
  },
  {
   "cell_type": "code",
   "execution_count": 46,
   "id": "6b38b942",
   "metadata": {},
   "outputs": [],
   "source": [
    "## this funtion has a problem/broken\n",
    "\n",
    "def qq_plot(y_actual: np.array, y_predicted: np.array):\n",
    "    print(y_actual.shape)\n",
    "    print(y_predicted.shape)\n",
    "    \n",
    "    import scipy.stats as stats\n",
    "    import matplotlib.pyplot as plt\n",
    "\n",
    "\n",
    "    residuals = y_actual - y_predicted\n",
    "    print(type(residuals))\n",
    "    print(residuals.shape)\n",
    "\n",
    "\n",
    "    plt.figure(figsize=(7,7))\n",
    "#     stats.probplot(residuals, dist=\"norm\", plot=plt)\n",
    "#     plt.title(\"Normal Q-Q Plot\")\n",
    "\n",
    "    #create Q-Q plot with 45-degree line added to plot\n",
    "    fig = sm.qqplot(residuals, line='45')\n",
    "    plt.show()\n",
    "    \n",
    "    return 0"
   ]
  },
  {
   "cell_type": "code",
   "execution_count": 47,
   "id": "db679f28",
   "metadata": {},
   "outputs": [],
   "source": [
    "# qq_plot(y_actual= y_test, y_predicted= y_pred_knn)"
   ]
  },
  {
   "cell_type": "code",
   "execution_count": 48,
   "id": "468461fb",
   "metadata": {},
   "outputs": [],
   "source": [
    "# np.random.seed(0)\n",
    "# data = np.random.normal(0,1, 1000)\n",
    "# import statsmodels.api as sm\n",
    "# import matplotlib.pyplot as plt\n",
    "\n",
    "# #create Q-Q plot with 45-degree line added to plot\n",
    "# fig = sm.qqplot(data, line='45')\n",
    "# plt.show()"
   ]
  },
  {
   "cell_type": "code",
   "execution_count": 49,
   "id": "2b5f68d1",
   "metadata": {},
   "outputs": [
    {
     "data": {
      "text/plain": [
       "numpy.ndarray"
      ]
     },
     "execution_count": 49,
     "metadata": {},
     "output_type": "execute_result"
    }
   ],
   "source": [
    "type(y_test)"
   ]
  },
  {
   "cell_type": "code",
   "execution_count": 50,
   "id": "7f6dc308",
   "metadata": {},
   "outputs": [],
   "source": [
    "### QQ-plot library did not work here\n",
    "\n",
    "#import statsmodels.api as sm\n",
    "# import numpy as np\n",
    "# import pylab\n",
    "# import scipy.stats as stats\n",
    "\n",
    "# # y_test_scaled.sort()\n",
    "# # y_pred_knn.sort()\n",
    "\n",
    "# diff = y_test - y_pred_knn\n",
    "\n",
    "# # actual_data = np.array(y_test)\n",
    "\n",
    "# sm.qqplot(data= diff, dist= stats.gamma, line='45', fit=True)\n",
    "\n",
    "# plt.show()\n",
    "\n",
    "\n",
    "\n",
    "# # sm.qqplot(data=y_pred_knn, dist=y_test, fit=True, line='45')\n",
    "# # plt.show()"
   ]
  },
  {
   "cell_type": "code",
   "execution_count": 51,
   "id": "34b6837e",
   "metadata": {},
   "outputs": [],
   "source": [
    "# plt.hist(diff)"
   ]
  },
  {
   "cell_type": "code",
   "execution_count": 52,
   "id": "9002dfc3",
   "metadata": {},
   "outputs": [
    {
     "name": "stderr",
     "output_type": "stream",
     "text": [
      "/var/folders/cg/r5rsmy1146d38c9kj97z_55w0000gn/T/ipykernel_2243/3621034900.py:10: UserWarning: \n",
      "\n",
      "`distplot` is a deprecated function and will be removed in seaborn v0.14.0.\n",
      "\n",
      "Please adapt your code to use either `displot` (a figure-level function with\n",
      "similar flexibility) or `histplot` (an axes-level function for histograms).\n",
      "\n",
      "For a guide to updating your code to use the new functions, please see\n",
      "https://gist.github.com/mwaskom/de44147ed2974457ad6372750bbe5751\n",
      "\n",
      "  sns.distplot(diff, bins=30)\n"
     ]
    },
    {
     "data": {
      "text/plain": [
       "<AxesSubplot:ylabel='Density'>"
      ]
     },
     "execution_count": 52,
     "metadata": {},
     "output_type": "execute_result"
    },
    {
     "data": {
      "image/png": "[encoded data removed]",
      "text/plain": [
       "<Figure size 432x288 with 1 Axes>"
      ]
     },
     "metadata": {},
     "output_type": "display_data"
    }
   ],
   "source": [
    "import pandas as pd\n",
    "import numpy as np\n",
    "import matplotlib.pyplot as plt\n",
    "import seaborn as sns\n",
    "from scipy import stats\n",
    "\n",
    "\n",
    "diff = y_test - y_pred_knn\n",
    "\n",
    "sns.distplot(diff, bins=30)\n"
   ]
  },
  {
   "cell_type": "code",
   "execution_count": 53,
   "id": "6d7530e6",
   "metadata": {},
   "outputs": [],
   "source": [
    "def qq_plot_with_statsLib(in_arr: np.array):\n",
    "\n",
    "    fig = plt.figure()\n",
    "    ax = fig.add_subplot(111)\n",
    "\n",
    "    in_df = pd.DataFrame(in_arr)\n",
    "\n",
    "    in_df.columns = ['col1']\n",
    "    \n",
    "    ret = stats.probplot(in_df['col1'], dist=\"norm\", plot=ax)\n",
    "    \n",
    "    ax.set_title(\"July 2016\")\n",
    "    # add x&y-axis label\n",
    "#     plt.xlabel('x-label')\n",
    "    plt.ylabel('Roughness residuals (cm)')\n",
    "    \n",
    "#     plt.show()\n",
    "    plt.savefig('july2016') # either show or save\n",
    "\n",
    "    return 0"
   ]
  },
  {
   "cell_type": "code",
   "execution_count": 54,
   "id": "184b51c2",
   "metadata": {},
   "outputs": [
    {
     "data": {
      "text/plain": [
       "0"
      ]
     },
     "execution_count": 54,
     "metadata": {},
     "output_type": "execute_result"
    },
    {
     "data": {
      "image/png": "[encoded data removed]",
      "text/plain": [
       "<Figure size 432x288 with 1 Axes>"
      ]
     },
     "metadata": {},
     "output_type": "display_data"
    }
   ],
   "source": [
    "qq_plot_with_statsLib(diff)"
   ]
  },
  {
   "cell_type": "code",
   "execution_count": 55,
   "id": "99a6c550",
   "metadata": {},
   "outputs": [
    {
     "data": {
      "text/plain": [
       "0"
      ]
     },
     "execution_count": 55,
     "metadata": {},
     "output_type": "execute_result"
    },
    {
     "data": {
      "image/png": "[encoded data removed]",
      "text/plain": [
       "<Figure size 432x288 with 1 Axes>"
      ]
     },
     "metadata": {},
     "output_type": "display_data"
    }
   ],
   "source": [
    "qq_plot_with_statsLib(y_test)"
   ]
  },
  {
   "cell_type": "code",
   "execution_count": 56,
   "id": "e67571ef",
   "metadata": {},
   "outputs": [
    {
     "data": {
      "text/plain": [
       "0"
      ]
     },
     "execution_count": 56,
     "metadata": {},
     "output_type": "execute_result"
    },
    {
     "data": {
      "image/png": "[encoded data removed]",
      "text/plain": [
       "<Figure size 432x288 with 1 Axes>"
      ]
     },
     "metadata": {},
     "output_type": "display_data"
    }
   ],
   "source": [
    "qq_plot_with_statsLib(y_pred_knn)"
   ]
  },
  {
   "cell_type": "code",
   "execution_count": 57,
   "id": "434cd0f8",
   "metadata": {},
   "outputs": [],
   "source": [
    "# from yellowbrick.regressor import ResidualsPlot\n",
    "\n",
    "# visualizer = ResidualsPlot(knn_model, hist=False, qqplot=True)\n",
    "\n",
    "# visualizer.fit(x_train, y_train)  # Fit the training data to the visualizer\n",
    "# visualizer.score(x_test, y_test)  # Evaluate the model on the test data\n",
    "# visualizer.show()                 # Finalize and render the figure\n"
   ]
  },
  {
   "cell_type": "markdown",
   "id": "b5271bb8",
   "metadata": {},
   "source": [
    "## >>> predicting transect block with my KNN >>>"
   ]
  },
  {
   "cell_type": "code",
   "execution_count": 58,
   "id": "0de8dcbc",
   "metadata": {},
   "outputs": [],
   "source": [
    "# # order of cameras in training set\n",
    "# x_train[0:5]"
   ]
  },
  {
   "cell_type": "code",
   "execution_count": 59,
   "id": "cb8d6a3f",
   "metadata": {},
   "outputs": [],
   "source": [
    "# # x_predict_3cams = 'build this df from 3 cameras of the image block'\n",
    "# # home of 3 toa-refl \n",
    "# toa_refl_dir = '/Users/ehsanmos/MLP_dataset/transect_test_p79_b32'\n",
    "\n",
    "# # 3 toa-refl for transect- later we can use masked-toa-refl because we are using a new logic in the next box to include negative pixels\n",
    "# an = 'toa_refl_P079_O086932_B032_an_red.dat'\n",
    "# cf = 'toa_refl_P079_O086932_B032_cf_red.dat'\n",
    "# ca = 'toa_refl_P079_O086932_B032_ca_red.dat'\n",
    "\n",
    "\n",
    "# # open and read each file\n",
    "# an_arr = np.fromfile(os.path.join(toa_refl_dir, an), dtype=np.double)[0:1048576].reshape((512,2048))\n",
    "# cf_arr = np.fromfile(os.path.join(toa_refl_dir, cf), dtype=np.double)[0:1048576].reshape((512,2048))\n",
    "# ca_arr = np.fromfile(os.path.join(toa_refl_dir, ca), dtype=np.double)[0:1048576].reshape((512,2048))\n"
   ]
  },
  {
   "cell_type": "code",
   "execution_count": 60,
   "id": "776d8531",
   "metadata": {},
   "outputs": [],
   "source": [
    "# print(type(an_arr))\n",
    "# print(an_arr.shape)"
   ]
  },
  {
   "cell_type": "markdown",
   "id": "95d71fd3",
   "metadata": {},
   "source": [
    "note: have negative (-1) pixels in toa-refl image; it represents the black area around the image block?\n",
    "\n",
    "\n",
    "\n",
    "Q- first build X-train Test samples dataset and then predict?-> not doable\n",
    "\n",
    "Q- why warning in prediction?-> changed training DS to list and resolved\n",
    "\n",
    "Q- why prediction for a single block is so slow? -> warning removed, a bit faster\n",
    "\n",
    "Q- how make a dataset from block first before prediction?"
   ]
  },
  {
   "cell_type": "code",
   "execution_count": 61,
   "id": "9fcd140b",
   "metadata": {},
   "outputs": [],
   "source": [
    "# # this prediction here only runs with 3 features/cams. if later we want to add lat/lon as feature, we need to include lat/lon for predcited transect too\n",
    "# rough_predicted_arr = []\n",
    "\n",
    "# for row in range(512):\n",
    "#     for col in range(2048):\n",
    "#         # check if a pixel in an is negative\n",
    "#         if (an_arr[row,col] < 0):\n",
    "#             rough_predicted_arr.append(an_arr[row,col]) # if negative, append to predicted array\n",
    "#             continue\n",
    "            \n",
    "#         if (cf_arr[row,col] < 0):\n",
    "#             rough_predicted_arr.append(cf_arr[row,col])\n",
    "#             continue\n",
    "            \n",
    "#         if (ca_arr[row,col] < 0):\n",
    "#             rough_predicted_arr.append(ca_arr[row,col])\n",
    "#             continue\n",
    "            \n",
    "#         # make prediction for each single pixel\n",
    "#         y_pred_for_pixel_knn = knn_model.predict([[an_arr[row,col], ca_arr[row,col], cf_arr[row,col]]]) # order based on training ds\n",
    "# #         print(y_pred_for_pixel_knn[0][0])\n",
    "#         rough_predicted_arr.append(y_pred_for_pixel_knn[0][0])\n",
    "\n",
    "   "
   ]
  },
  {
   "cell_type": "code",
   "execution_count": 62,
   "id": "3628eb8d",
   "metadata": {},
   "outputs": [],
   "source": [
    "# print(type(rough_predicted_arr))\n",
    "# print(len(rough_predicted_arr))"
   ]
  },
  {
   "cell_type": "code",
   "execution_count": 63,
   "id": "972ad4c0",
   "metadata": {},
   "outputs": [],
   "source": [
    "# pred = rough_predicted_arr[1000]\n",
    "# print(pred)\n",
    "# print(type(pred))"
   ]
  },
  {
   "cell_type": "code",
   "execution_count": 64,
   "id": "a8632365",
   "metadata": {},
   "outputs": [],
   "source": [
    "# # change to np.array?\n",
    "# block_arr_p79_b32 = np.array(rough_predicted_arr).reshape(512,2048)\n",
    "# print(type(block_arr_p79_b32))\n",
    "# print(block_arr_p79_b32.shape)"
   ]
  },
  {
   "cell_type": "code",
   "execution_count": 65,
   "id": "80a1bfa7",
   "metadata": {},
   "outputs": [],
   "source": [
    "# print(block_arr_p79_b32[0,1000])"
   ]
  },
  {
   "cell_type": "code",
   "execution_count": 66,
   "id": "fd40460f",
   "metadata": {},
   "outputs": [],
   "source": [
    "# # this function plots rouhgness array\n",
    "# def plot_here_and_write(in_arr, img_dir):\n",
    "#     write_mode = 0\n",
    "# #     img_label = 'path_'+path_num+'_'+'blocks_'+str(start_block)+'_'+str(end_block)+'_cam_'+cam\n",
    "#     img_format = \".jpg\"\n",
    "#     %matplotlib inline \n",
    "\n",
    "#     plt.gray() # This will show the images in grayscale as default\n",
    "\n",
    "#     plt.figure(figsize=(30,30))  # set the figure size\n",
    "\n",
    "#     plt.imshow(in_arr)\n",
    "#     plt.show()\n",
    "    \n",
    "#     if (write_mode):\n",
    "#         print('save mode: on, we write images to disc')\n",
    "        \n",
    "#         out_img = img_label+img_format\n",
    "#         out_img_fullpath = os.path.join(img_dir, out_img)\n",
    "#         print(\"-> output img is: %s\" %out_img_fullpath)\n",
    "#         pltimg.imsave(out_img_fullpath, in_arr)\n",
    "#         #     plt.savefig(out_img)\n",
    "    \n",
    "#     return 0"
   ]
  },
  {
   "cell_type": "code",
   "execution_count": 67,
   "id": "69571726",
   "metadata": {},
   "outputs": [],
   "source": [
    "# plot_here_and_write(block_arr_p79_b32, out_dir)"
   ]
  },
  {
   "cell_type": "code",
   "execution_count": 68,
   "id": "bc4e9259",
   "metadata": {},
   "outputs": [],
   "source": [
    "# # Write array to a file as a binary to plot the roughness on transect and compare modeled/predicted roughnesss with measured/observed ATM across transect\n",
    "\n",
    "# # set path\n",
    "# out_dir = '/Users/ehsanmos/MLP_dataset/transect_test_p79_b32'\n",
    "# out_bin = 'block_arr_p79_b32.dat'\n",
    "\n",
    "# # write array as binary\n",
    "# block_arr_p79_b32.tofile(os.path.join(out_dir, out_bin)) \n",
    "\n",
    "\n"
   ]
  },
  {
   "cell_type": "markdown",
   "id": "ca0021f2",
   "metadata": {},
   "source": [
    "## >>> Generalized additive models (GAM) for regression >>>"
   ]
  },
  {
   "cell_type": "code",
   "execution_count": 69,
   "id": "0710fb84",
   "metadata": {},
   "outputs": [],
   "source": [
    "# # GAM using a factor term; not good because we want to see the relationship between a input feature and the target \n",
    "\n",
    "# gam = LinearGAM(s(0) + s(1) + f(2)).fit(x_train, y_train)\n",
    "# gam.summary()\n"
   ]
  },
  {
   "cell_type": "code",
   "execution_count": 70,
   "id": "254e7558",
   "metadata": {},
   "outputs": [],
   "source": [
    "# list(gam.statistics_.keys())"
   ]
  },
  {
   "cell_type": "markdown",
   "id": "74214fac",
   "metadata": {},
   "source": [
    "note: we use the partial dependence plot to visualize the relationships the model has learned"
   ]
  },
  {
   "cell_type": "code",
   "execution_count": 71,
   "id": "d9b372e5",
   "metadata": {},
   "outputs": [],
   "source": [
    "def partial_dependence_plots_1(gam):\n",
    "    \n",
    "    import matplotlib.pyplot as plt\n",
    "    \n",
    "#     titles = ['an', 'ca', 'cf']\n",
    "    \n",
    "    for i, term in enumerate(gam.terms):\n",
    "        if term.isintercept:\n",
    "            continue\n",
    "\n",
    "        XX = gam.generate_X_grid(term=i)\n",
    "        pdep, confi = gam.partial_dependence(term=i, X=XX, width=0.95)\n",
    "\n",
    "        plt.figure()\n",
    "        plt.plot(XX[:, term.feature], pdep)\n",
    "        plt.plot(XX[:, term.feature], confi, c='r', ls='--')\n",
    "        plt.title(repr(term))\n",
    "        plt.show()\n",
    "    \n",
    "    return 0\n",
    "    \n",
    "    \n",
    "\n",
    "    \n",
    "def partial_dependence_plots_2(gam):\n",
    "    plt.figure();\n",
    "    fig, axs = plt.subplots(1,3);\n",
    "\n",
    "    titles = ['an', 'ca', 'cf']\n",
    "\n",
    "    for i, ax in enumerate(axs):\n",
    "        XX = gam.generate_X_grid(term=i)\n",
    "        ax.plot(XX[:, i], gam.partial_dependence(term=i, X=XX))\n",
    "        ax.plot(XX[:, i], gam.partial_dependence(term=i, X=XX, width=.95)[1], c='r', ls='--')\n",
    "    #     if i == 0:\n",
    "    #         ax.set_ylim(-30,30)\n",
    "        ax.set_title(titles[i]);\n",
    "        \n",
    "    return 0"
   ]
  },
  {
   "cell_type": "code",
   "execution_count": 72,
   "id": "74b247ac",
   "metadata": {},
   "outputs": [
    {
     "data": {
      "text/plain": [
       "[[0.761025, 0.847888, 0.931603],\n",
       " [0.814978, 0.880688, 0.969662],\n",
       " [0.387839, 0.524608, 0.686127],\n",
       " [0.781544, 0.86914, 0.951352],\n",
       " [0.783482, 0.872893, 0.960854]]"
      ]
     },
     "execution_count": 72,
     "metadata": {},
     "output_type": "execute_result"
    }
   ],
   "source": [
    "x_train[0:5]"
   ]
  },
  {
   "cell_type": "code",
   "execution_count": 75,
   "id": "43732029",
   "metadata": {},
   "outputs": [
    {
     "name": "stdout",
     "output_type": "stream",
     "text": [
      "GAM                                                                                                       \n",
      "=============================================== ==========================================================\n",
      "Distribution:                        NormalDist Effective DoF:                                    357.8818\n",
      "Link Function:                     IdentityLink Log Likelihood:                                -53145.8173\n",
      "Number of Samples:                        11634 AIC:                                           107009.3983\n",
      "                                                AICc:                                          107032.3101\n",
      "                                                GCV:                                               40.1747\n",
      "                                                Scale:                                             37.9565\n",
      "                                                Pseudo R-Squared:                                     0.22\n",
      "==========================================================================================================\n",
      "Feature Function                  Lambda               Rank         EDoF         P > x        Sig. Code   \n",
      "================================= ==================== ============ ============ ============ ============\n",
      "s(0)                              [0.6]                200          130.3        1.11e-16     ***         \n",
      "s(1)                              [0.6]                200          124.8        1.11e-16     ***         \n",
      "s(2)                              [0.6]                200          102.8        1.21e-02     *           \n",
      "intercept                                              1            0.0          1.11e-16     ***         \n",
      "==========================================================================================================\n",
      "Significance codes:  0 '***' 0.001 '**' 0.01 '*' 0.05 '.' 0.1 ' ' 1\n",
      "\n",
      "WARNING: Fitting splines and a linear function to a feature introduces a model identifiability problem\n",
      "         which can cause p-values to appear significant when they are not.\n",
      "\n",
      "WARNING: p-values calculated in this manner behave correctly for un-penalized models or models with\n",
      "         known smoothing parameters, but when smoothing parameters have been estimated, the p-values\n",
      "         are typically lower than they should be, meaning that the tests reject the null too readily.\n"
     ]
    },
    {
     "name": "stderr",
     "output_type": "stream",
     "text": [
      "/var/folders/cg/r5rsmy1146d38c9kj97z_55w0000gn/T/ipykernel_2243/3040378330.py:22: UserWarning: KNOWN BUG: p-values computed in this summary are likely much smaller than they should be. \n",
      " \n",
      "Please do not make inferences based on these values! \n",
      "\n",
      "Collaborate on a solution, and stay up to date at: \n",
      "github.com/dswah/pyGAM/issues/163 \n",
      "\n",
      "  gam_model.summary()\n"
     ]
    }
   ],
   "source": [
    "splines = 200\n",
    "gam_model = GAM(s(0, n_splines=splines) + \n",
    "                s(1, n_splines=splines) + \n",
    "                s(2, n_splines=splines)).fit(x_train, y_train)\n",
    "\n",
    "\n",
    "\n",
    "'''spline f(.) only on 3 cameras\n",
    "'''\n",
    "\n",
    "# gam_model = GAM(te(0,1) +\n",
    "#                 s(2, n_splines=20) +\n",
    "#                 s(3, n_splines=20) + \n",
    "#                 s(4, n_splines=20)).fit(x_train, y_train)\n",
    "\n",
    "\n",
    "# gam_model = GAM(s(2, n_splines=20) +\n",
    "#                 s(3, n_splines=20) + \n",
    "#                 s(4, n_splines=20)).fit(x_train, y_train)\n",
    "\n",
    "\n",
    "gam_model.summary()\n"
   ]
  },
  {
   "cell_type": "code",
   "execution_count": 74,
   "id": "45ceb03e",
   "metadata": {},
   "outputs": [
    {
     "data": {
      "text/plain": [
       "'\\nnote: the ca plot shows that the higher the the ca, the rougher the surface is; \\nand cf plot shows that the higher cf goes, the smoother the surface gets;\\nan plot does not show any relationship with roughness\\n\\nin other words, roughness increases as the ca gets larger, and roughness decreases as the cf gets larger. \\nalso, an has little influence on the roughness.\\n'"
      ]
     },
     "execution_count": 74,
     "metadata": {},
     "output_type": "execute_result"
    },
    {
     "data": {
      "text/plain": [
       "<Figure size 432x288 with 0 Axes>"
      ]
     },
     "metadata": {},
     "output_type": "display_data"
    },
    {
     "data": {
      "image/png": "[encoded data removed]",
      "text/plain": [
       "<Figure size 432x288 with 3 Axes>"
      ]
     },
     "metadata": {},
     "output_type": "display_data"
    }
   ],
   "source": [
    "# plot the partial dependece plots \n",
    "\n",
    "partial_dependence_plots_2(gam_model)\n",
    "\n",
    "'''\n",
    "note: the ca plot shows that the higher the the ca, the rougher the surface is; \n",
    "and cf plot shows that the higher cf goes, the smoother the surface gets;\n",
    "an plot does not show any relationship with roughness\n",
    "\n",
    "in other words, roughness increases as the ca gets larger, and roughness decreases as the cf gets larger. \n",
    "also, an has little influence on the roughness.\n",
    "'''\n",
    "\n"
   ]
  },
  {
   "cell_type": "code",
   "execution_count": null,
   "id": "e4c27668",
   "metadata": {},
   "outputs": [],
   "source": []
  },
  {
   "cell_type": "code",
   "execution_count": null,
   "id": "6e4794de",
   "metadata": {},
   "outputs": [],
   "source": []
  },
  {
   "cell_type": "code",
   "execution_count": null,
   "id": "be80addb",
   "metadata": {},
   "outputs": [],
   "source": []
  }
 ],
 "metadata": {
  "kernelspec": {
   "display_name": "Python 3 (ipykernel)",
   "language": "python",
   "name": "python3"
  },
  "language_info": {
   "codemirror_mode": {
    "name": "ipython",
    "version": 3
   },
   "file_extension": ".py",
   "mimetype": "text/x-python",
   "name": "python",
   "nbconvert_exporter": "python",
   "pygments_lexer": "ipython3",
   "version": "3.9.13"
  }
 },
 "nbformat": 4,
 "nbformat_minor": 5
}
