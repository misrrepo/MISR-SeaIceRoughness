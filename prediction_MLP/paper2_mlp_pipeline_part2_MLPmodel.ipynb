{
 "cells": [
  {
   "cell_type": "code",
   "execution_count": 1,
   "id": "3dbc7ee9",
   "metadata": {},
   "outputs": [],
   "source": [
    "#- main machine learning libraries used\n",
    "\n",
    "import tensorflow\n",
    "import tensorflow.keras as keras  \n",
    "import sklearn\n",
    "\n",
    "#- other libraries used\n",
    "import os\n",
    "import pandas as pd\n",
    "import matplotlib.pyplot as plt "
   ]
  },
  {
   "cell_type": "code",
   "execution_count": 2,
   "id": "02be279c",
   "metadata": {},
   "outputs": [
    {
     "name": "stdout",
     "output_type": "stream",
     "text": [
      "latest run on: 2022-06-01 17:00:24.623988\n"
     ]
    }
   ],
   "source": [
    "from datetime import datetime\n",
    "today = datetime.today()\n",
    "\n",
    "print('latest run on:', today)"
   ]
  },
  {
   "cell_type": "markdown",
   "id": "7bcfe260",
   "metadata": {},
   "source": [
    "## check tensorflow version"
   ]
  },
  {
   "cell_type": "code",
   "execution_count": 3,
   "id": "57a7442b",
   "metadata": {},
   "outputs": [
    {
     "name": "stdout",
     "output_type": "stream",
     "text": [
      "2.9.1\n"
     ]
    }
   ],
   "source": [
    "print (tensorflow.__version__)"
   ]
  },
  {
   "cell_type": "markdown",
   "id": "7fb3750d",
   "metadata": {},
   "source": [
    "### functions(.)"
   ]
  },
  {
   "cell_type": "markdown",
   "id": "56aba0b3",
   "metadata": {},
   "source": [
    "## input directory"
   ]
  },
  {
   "cell_type": "code",
   "execution_count": 4,
   "id": "c9d30fc6",
   "metadata": {},
   "outputs": [],
   "source": [
    "dataset_dir = \"/Users/ehsanmos/MLP_dataset\""
   ]
  },
  {
   "cell_type": "code",
   "execution_count": 5,
   "id": "2bf041aa",
   "metadata": {},
   "outputs": [
    {
     "name": "stdout",
     "output_type": "stream",
     "text": [
      "dataset directory FOUND!\n"
     ]
    }
   ],
   "source": [
    "if os.path.isdir(dataset_dir) == False:\n",
    "    print(\"dataset directory NOT found!\")\n",
    "else:\n",
    "    print(\"dataset directory FOUND!\")"
   ]
  },
  {
   "cell_type": "markdown",
   "id": "eccbffb9",
   "metadata": {},
   "source": [
    "## Load input/ training dataset\n",
    "\n",
    "before doing this section, process filter final input dataset with \"check_n_filter_final_dataset\""
   ]
  },
  {
   "cell_type": "code",
   "execution_count": 6,
   "id": "4af39e8f",
   "metadata": {},
   "outputs": [],
   "source": [
    "in_ds = \"atmmodel_april_2016_k_zero_9cams4bands_preprocessed.csv\""
   ]
  },
  {
   "cell_type": "markdown",
   "id": "09b6dc59",
   "metadata": {},
   "source": [
    "## check if input dataset file exists"
   ]
  },
  {
   "cell_type": "code",
   "execution_count": 7,
   "id": "37ac74e6",
   "metadata": {},
   "outputs": [
    {
     "name": "stdout",
     "output_type": "stream",
     "text": [
      "/Users/ehsanmos/MLP_dataset/atmmodel_april_2016_k_zero_9cams4bands_preprocessed.csv\n",
      "input dataset found!\n"
     ]
    }
   ],
   "source": [
    "in_ds_fullpath = os.path.join(dataset_dir, in_ds)\n",
    "print(in_ds_fullpath)\n",
    "\n",
    "if (not os.path.isfile(os.path.join(in_ds_fullpath))):\n",
    "    raise SystemExit()\n",
    "else:\n",
    "    print(\"input dataset found!\")"
   ]
  },
  {
   "cell_type": "markdown",
   "id": "259b6d7b",
   "metadata": {},
   "source": [
    "## Read in dataset and look at dataset columns"
   ]
  },
  {
   "cell_type": "code",
   "execution_count": 8,
   "id": "b4582b5a",
   "metadata": {},
   "outputs": [],
   "source": [
    "df_orig = pd.read_csv(in_ds_fullpath, engine='python')"
   ]
  },
  {
   "cell_type": "code",
   "execution_count": 9,
   "id": "790ea7e3",
   "metadata": {},
   "outputs": [
    {
     "data": {
      "text/plain": [
       "(40775, 15)"
      ]
     },
     "execution_count": 9,
     "metadata": {},
     "output_type": "execute_result"
    }
   ],
   "source": [
    "df_orig.shape"
   ]
  },
  {
   "cell_type": "code",
   "execution_count": 10,
   "id": "4164b4d7",
   "metadata": {},
   "outputs": [
    {
     "data": {
      "text/plain": [
       "Index(['firstLat', 'firstLon', 'anr', 'ang', 'anb', 'annir', 'aa', 'af', 'ba',\n",
       "       'bf', 'ca', 'cf', 'da', 'df', 'rms'],\n",
       "      dtype='object')"
      ]
     },
     "execution_count": 10,
     "metadata": {},
     "output_type": "execute_result"
    }
   ],
   "source": [
    "df_orig.columns"
   ]
  },
  {
   "cell_type": "markdown",
   "id": "8170b8a4",
   "metadata": {},
   "source": [
    "note: build an input dataset with 9 cameras to train the mlp model"
   ]
  },
  {
   "cell_type": "code",
   "execution_count": 11,
   "id": "654bfd8f",
   "metadata": {},
   "outputs": [
    {
     "name": "stdout",
     "output_type": "stream",
     "text": [
      "we are using 10 columns in our training dataset:\n",
      "Index(['anr', 'aa', 'af', 'ba', 'bf', 'ca', 'cf', 'da', 'df', 'rms'], dtype='object')\n"
     ]
    }
   ],
   "source": [
    "#- build dataset with 9 cameras\n",
    "excluce_columns = ['firstLat', 'firstLon', 'ang', 'anb', 'annir']\n",
    "input_ds_for_training = df_orig.drop(excluce_columns, axis=1)\n",
    "\n",
    "print('we are using %s columns in our training dataset:' %len(input_ds_for_training.columns))\n",
    "print(input_ds_for_training.columns)  # columns should be only 9 cameras + rms \n"
   ]
  },
  {
   "cell_type": "markdown",
   "id": "ba4b8050",
   "metadata": {},
   "source": [
    "## shuffle rows of input dataset"
   ]
  },
  {
   "cell_type": "code",
   "execution_count": 12,
   "id": "f7f0f96d",
   "metadata": {},
   "outputs": [],
   "source": [
    "from sklearn.utils import shuffle\n",
    "\n",
    "input_ds_for_training = shuffle(input_ds_for_training)"
   ]
  },
  {
   "cell_type": "markdown",
   "id": "9706d2b8",
   "metadata": {},
   "source": [
    "## Split dataset to train-test parts for training algorithms\n",
    "- we devided to plit our dataset to 2 parts (2-part split)\n",
    "- Here we use the ‘train_test_split’ to split the data in 80:20 ratio i.e. 80% of the data will be used for training the model while 20% will be used for testing the model that is built out of it.\n",
    "- note: last column should be label == rms"
   ]
  },
  {
   "cell_type": "code",
   "execution_count": 13,
   "id": "03d94ba4",
   "metadata": {},
   "outputs": [
    {
     "name": "stdout",
     "output_type": "stream",
     "text": [
      "(40775, 9)\n",
      "(40775, 1)\n"
     ]
    }
   ],
   "source": [
    "#- split data set to X and Y\n",
    "\n",
    "X = input_ds_for_training.iloc[:, :-1] # to select up to last column of dataset OR [:, 0:3]\n",
    "Y = input_ds_for_training.iloc[:, -1:] # to select last column of DF\n",
    "\n",
    "print(X.shape)\n",
    "print(Y.shape)"
   ]
  },
  {
   "cell_type": "code",
   "execution_count": 14,
   "id": "76e41811",
   "metadata": {},
   "outputs": [
    {
     "name": "stdout",
     "output_type": "stream",
     "text": [
      "test size= 30 percent\n",
      "train:\n",
      "(28542, 9)\n",
      "(28542, 1)\n",
      "test:\n",
      "(12233, 9)\n",
      "(12233, 1)\n"
     ]
    }
   ],
   "source": [
    "#- split dataset to train-test\n",
    "\n",
    "from sklearn.model_selection import train_test_split\n",
    "\n",
    "#- we use this function to split data-- from here because we are usiong SKlearn library, we change all data structures from Pandas DF to numpy\n",
    "# X_train, X_test, y_train, y_test = train_test_split(X.to_numpy(), Y.to_numpy(), test_size=0.2, random_state=123) # Q- input is DF or numpy array?\n",
    "\n",
    "test_data_size = 0.3\n",
    "print(\"test size= %d percent\" %(test_data_size*100))\n",
    "X_train, X_test, y_train, y_test = train_test_split(X, Y, test_size=test_data_size, random_state=123) # Q- input is DF or numpy array?\n",
    "\n",
    "print(\"train:\")\n",
    "print(X_train.shape)\n",
    "print(y_train.shape)\n",
    "print(\"test:\")\n",
    "print(X_test.shape)\n",
    "print(y_test.shape)\n"
   ]
  },
  {
   "cell_type": "markdown",
   "id": "55b177d3",
   "metadata": {},
   "source": [
    "questions:\n",
    "\n",
    "Q- how about train-val-test (3 sections)? is this for DL?"
   ]
  },
  {
   "cell_type": "markdown",
   "id": "cb9b7538",
   "metadata": {},
   "source": [
    "## Feature scalling\n",
    "this step should be done after splitting data to train-test"
   ]
  },
  {
   "cell_type": "markdown",
   "id": "e71ebb65",
   "metadata": {},
   "source": [
    "## Using MinMaxScaler method to rescale data\n",
    "Q- is this important? useful? beneficial? for training mlp model?"
   ]
  },
  {
   "cell_type": "code",
   "execution_count": 15,
   "id": "102b941b",
   "metadata": {},
   "outputs": [],
   "source": [
    "#- import necessary libraries for Neural Nets\n",
    "from sklearn.preprocessing import MinMaxScaler\n",
    "\n",
    "#- fit data\n",
    "\n",
    "scaler_x = MinMaxScaler()\n",
    "scaler_y = MinMaxScaler()\n",
    "\n",
    "scaler_x.fit(X_train) # returns Fitted scaler\n",
    "X_train_scaled = scaler_x.transform(X_train)  # transforms data\n",
    "\n",
    "scaler_x.fit(X_test)\n",
    "X_test_scaled = scaler_x.transform(X_test)\n",
    "\n",
    "scaler_y.fit(y_train)\n",
    "y_train_scaled = scaler_y.transform(y_train)\n",
    "\n",
    "scaler_y.fit(y_test)\n",
    "y_test_scaled = scaler_y.transform(y_test)"
   ]
  },
  {
   "cell_type": "markdown",
   "id": "20410efa",
   "metadata": {},
   "source": [
    "Check types of input dataset data structure; should be 2D arrays, or Pandas DataFrame"
   ]
  },
  {
   "cell_type": "code",
   "execution_count": 16,
   "id": "5083172b",
   "metadata": {},
   "outputs": [
    {
     "name": "stdout",
     "output_type": "stream",
     "text": [
      "<class 'numpy.ndarray'>\n",
      "<class 'numpy.ndarray'>\n",
      "<class 'numpy.ndarray'>\n",
      "<class 'numpy.ndarray'>\n"
     ]
    }
   ],
   "source": [
    "print(type(X_train_scaled))\n",
    "print(type(y_train_scaled))\n",
    "print(type(X_test_scaled))\n",
    "print(type(y_test_scaled))"
   ]
  },
  {
   "cell_type": "code",
   "execution_count": 17,
   "id": "e2db9f92",
   "metadata": {},
   "outputs": [
    {
     "data": {
      "text/plain": [
       "(28542, 9)"
      ]
     },
     "execution_count": 17,
     "metadata": {},
     "output_type": "execute_result"
    }
   ],
   "source": [
    "X_train_scaled.shape"
   ]
  },
  {
   "cell_type": "markdown",
   "id": "e5aa2e9d",
   "metadata": {},
   "source": [
    "## Neural Network (Regression)"
   ]
  },
  {
   "cell_type": "markdown",
   "id": "c0c47d7d",
   "metadata": {},
   "source": [
    "### Normalizing data as an important step\n",
    "\n",
    "- We rescale data after we split data to train-test\n",
    "- all features have the same scale to reduce bias in data \n",
    "- perform this step before splitting data into train-test split\n",
    "- We normalize data using the training data"
   ]
  },
  {
   "cell_type": "markdown",
   "id": "18088f76",
   "metadata": {},
   "source": [
    "### Building the NN model\n",
    "Q- how find the best architecture? for mlp?"
   ]
  },
  {
   "cell_type": "code",
   "execution_count": 18,
   "id": "416cd9d8",
   "metadata": {},
   "outputs": [
    {
     "name": "stdout",
     "output_type": "stream",
     "text": [
      "Model: \"sequential\"\n",
      "_________________________________________________________________\n",
      " Layer (type)                Output Shape              Param #   \n",
      "=================================================================\n",
      " hidden-layer-1 (Dense)      (None, 9)                 90        \n",
      "                                                                 \n",
      " hidden-layer-2 (Dense)      (None, 9)                 90        \n",
      "                                                                 \n",
      " hidden-layer-3 (Dense)      (None, 9)                 90        \n",
      "                                                                 \n",
      " output-layer-SIR (Dense)    (None, 1)                 10        \n",
      "                                                                 \n",
      "=================================================================\n",
      "Total params: 280\n",
      "Trainable params: 280\n",
      "Non-trainable params: 0\n",
      "_________________________________________________________________\n"
     ]
    },
    {
     "name": "stderr",
     "output_type": "stream",
     "text": [
      "2022-06-01 17:00:25.117477: I tensorflow/core/platform/cpu_feature_guard.cc:193] This TensorFlow binary is optimized with oneAPI Deep Neural Network Library (oneDNN) to use the following CPU instructions in performance-critical operations:  AVX2 FMA\n",
      "To enable them in other operations, rebuild TensorFlow with the appropriate compiler flags.\n"
     ]
    }
   ],
   "source": [
    "##- implementation-2\n",
    "##- from tensorflow import keras\n",
    "\n",
    "import tensorflow as tf\n",
    "from tensorflow.keras import layers\n",
    "\n",
    "\n",
    "    \n",
    "# Define Sequential model with 3 layers\n",
    "mlp_model = tf.keras.Sequential(\n",
    "       [\n",
    "        # hidden layers\n",
    "        layers.Dense(9, input_dim=9, activation=\"relu\", kernel_initializer='normal', name=\"hidden-layer-1\"), # input_dim=3 == input shape will build our model automatically\n",
    "        layers.Dense(9, activation=\"relu\", kernel_initializer='normal', name=\"hidden-layer-2\"),  # name should be attached; one single word!\n",
    "        layers.Dense(9, activation=\"relu\", kernel_initializer='normal', name=\"hidden-layer-3\"),  # name should be attached; one single word!\n",
    "        #layers.Dense(9, activation=\"relu\", kernel_initializer='normal', name=\"hidden-layer-4\"),  # name should be attached; one single word!\n",
    "\n",
    "        # output layer\n",
    "        layers.Dense(1, activation='linear', kernel_initializer='normal', name=\"output-layer-SIR\"),  # linear activation?\n",
    "      ]\n",
    "    )\n",
    "\n",
    "mlp_model.summary()\n"
   ]
  },
  {
   "cell_type": "markdown",
   "id": "dd51ab30",
   "metadata": {},
   "source": [
    "### plot the model"
   ]
  },
  {
   "cell_type": "code",
   "execution_count": 19,
   "id": "c1519b81",
   "metadata": {},
   "outputs": [
    {
     "name": "stdout",
     "output_type": "stream",
     "text": [
      "You must install pydot (`pip install pydot`) and install graphviz (see instructions at https://graphviz.gitlab.io/download/) for plot_model/model_to_dot to work.\n"
     ]
    }
   ],
   "source": [
    "from tensorflow.keras.utils import plot_model\n",
    "\n",
    "plot_model(mlp_model, to_file='model.png', show_shapes=True, show_layer_names=True)"
   ]
  },
  {
   "cell_type": "markdown",
   "id": "63006212",
   "metadata": {},
   "source": [
    "### compile and train the model"
   ]
  },
  {
   "cell_type": "code",
   "execution_count": 20,
   "id": "1c20c5eb",
   "metadata": {},
   "outputs": [],
   "source": [
    "#- compile model\n",
    "\n",
    "mlp_model.compile(loss='mse', optimizer='adam', metrics=['mse','mae'])"
   ]
  },
  {
   "cell_type": "code",
   "execution_count": 21,
   "id": "6fbb91bf",
   "metadata": {},
   "outputs": [
    {
     "name": "stdout",
     "output_type": "stream",
     "text": [
      "Epoch 1/50\n",
      "229/229 [==============================] - 1s 2ms/step - loss: 0.0429 - mse: 0.0429 - mae: 0.1548 - val_loss: 0.0333 - val_mse: 0.0333 - val_mae: 0.1430\n",
      "Epoch 2/50\n",
      "229/229 [==============================] - 0s 1ms/step - loss: 0.0336 - mse: 0.0336 - mae: 0.1444 - val_loss: 0.0333 - val_mse: 0.0333 - val_mae: 0.1436\n",
      "Epoch 3/50\n",
      "229/229 [==============================] - 0s 1ms/step - loss: 0.0336 - mse: 0.0336 - mae: 0.1442 - val_loss: 0.0333 - val_mse: 0.0333 - val_mae: 0.1444\n",
      "Epoch 4/50\n",
      "229/229 [==============================] - 0s 1ms/step - loss: 0.0336 - mse: 0.0336 - mae: 0.1443 - val_loss: 0.0333 - val_mse: 0.0333 - val_mae: 0.1446\n",
      "Epoch 5/50\n",
      "229/229 [==============================] - 0s 1ms/step - loss: 0.0336 - mse: 0.0336 - mae: 0.1442 - val_loss: 0.0336 - val_mse: 0.0336 - val_mae: 0.1478\n",
      "Epoch 6/50\n",
      "229/229 [==============================] - 0s 1ms/step - loss: 0.0336 - mse: 0.0336 - mae: 0.1443 - val_loss: 0.0333 - val_mse: 0.0333 - val_mae: 0.1423\n",
      "Epoch 7/50\n",
      "229/229 [==============================] - 0s 1ms/step - loss: 0.0336 - mse: 0.0336 - mae: 0.1441 - val_loss: 0.0333 - val_mse: 0.0333 - val_mae: 0.1448\n",
      "Epoch 8/50\n",
      "229/229 [==============================] - 0s 1ms/step - loss: 0.0336 - mse: 0.0336 - mae: 0.1443 - val_loss: 0.0333 - val_mse: 0.0333 - val_mae: 0.1416\n",
      "Epoch 9/50\n",
      "229/229 [==============================] - 0s 1ms/step - loss: 0.0336 - mse: 0.0336 - mae: 0.1443 - val_loss: 0.0333 - val_mse: 0.0333 - val_mae: 0.1436\n",
      "Epoch 10/50\n",
      "229/229 [==============================] - 0s 1ms/step - loss: 0.0336 - mse: 0.0336 - mae: 0.1442 - val_loss: 0.0333 - val_mse: 0.0333 - val_mae: 0.1451\n",
      "Epoch 11/50\n",
      "229/229 [==============================] - 0s 1ms/step - loss: 0.0336 - mse: 0.0336 - mae: 0.1443 - val_loss: 0.0333 - val_mse: 0.0333 - val_mae: 0.1449\n",
      "Epoch 12/50\n",
      "229/229 [==============================] - 0s 1ms/step - loss: 0.0336 - mse: 0.0336 - mae: 0.1441 - val_loss: 0.0333 - val_mse: 0.0333 - val_mae: 0.1443\n",
      "Epoch 13/50\n",
      "229/229 [==============================] - 0s 1ms/step - loss: 0.0336 - mse: 0.0336 - mae: 0.1441 - val_loss: 0.0333 - val_mse: 0.0333 - val_mae: 0.1453\n",
      "Epoch 14/50\n",
      "229/229 [==============================] - 0s 1ms/step - loss: 0.0335 - mse: 0.0335 - mae: 0.1442 - val_loss: 0.0333 - val_mse: 0.0333 - val_mae: 0.1446\n",
      "Epoch 15/50\n",
      "229/229 [==============================] - 0s 1ms/step - loss: 0.0335 - mse: 0.0335 - mae: 0.1442 - val_loss: 0.0333 - val_mse: 0.0333 - val_mae: 0.1412\n",
      "Epoch 16/50\n",
      "229/229 [==============================] - 0s 1ms/step - loss: 0.0336 - mse: 0.0336 - mae: 0.1441 - val_loss: 0.0332 - val_mse: 0.0332 - val_mae: 0.1435\n",
      "Epoch 17/50\n",
      "229/229 [==============================] - 0s 1ms/step - loss: 0.0335 - mse: 0.0335 - mae: 0.1441 - val_loss: 0.0332 - val_mse: 0.0332 - val_mae: 0.1430\n",
      "Epoch 18/50\n",
      "229/229 [==============================] - 0s 1ms/step - loss: 0.0335 - mse: 0.0335 - mae: 0.1441 - val_loss: 0.0333 - val_mse: 0.0333 - val_mae: 0.1447\n",
      "Epoch 19/50\n",
      "229/229 [==============================] - 0s 1ms/step - loss: 0.0335 - mse: 0.0335 - mae: 0.1441 - val_loss: 0.0333 - val_mse: 0.0333 - val_mae: 0.1446\n",
      "Epoch 20/50\n",
      "229/229 [==============================] - 0s 1ms/step - loss: 0.0335 - mse: 0.0335 - mae: 0.1441 - val_loss: 0.0334 - val_mse: 0.0334 - val_mae: 0.1459\n",
      "Epoch 21/50\n",
      "229/229 [==============================] - 0s 1ms/step - loss: 0.0335 - mse: 0.0335 - mae: 0.1440 - val_loss: 0.0333 - val_mse: 0.0333 - val_mae: 0.1446\n",
      "Epoch 22/50\n",
      "229/229 [==============================] - 0s 1ms/step - loss: 0.0336 - mse: 0.0336 - mae: 0.1440 - val_loss: 0.0332 - val_mse: 0.0332 - val_mae: 0.1440\n",
      "Epoch 23/50\n",
      "229/229 [==============================] - 0s 1ms/step - loss: 0.0335 - mse: 0.0335 - mae: 0.1441 - val_loss: 0.0333 - val_mse: 0.0333 - val_mae: 0.1452\n",
      "Epoch 24/50\n",
      "229/229 [==============================] - 0s 1ms/step - loss: 0.0335 - mse: 0.0335 - mae: 0.1441 - val_loss: 0.0332 - val_mse: 0.0332 - val_mae: 0.1419\n",
      "Epoch 25/50\n",
      "229/229 [==============================] - 0s 1ms/step - loss: 0.0335 - mse: 0.0335 - mae: 0.1440 - val_loss: 0.0332 - val_mse: 0.0332 - val_mae: 0.1438\n",
      "Epoch 26/50\n",
      "229/229 [==============================] - 0s 1ms/step - loss: 0.0335 - mse: 0.0335 - mae: 0.1440 - val_loss: 0.0332 - val_mse: 0.0332 - val_mae: 0.1433\n",
      "Epoch 27/50\n",
      "229/229 [==============================] - 0s 1ms/step - loss: 0.0335 - mse: 0.0335 - mae: 0.1438 - val_loss: 0.0332 - val_mse: 0.0332 - val_mae: 0.1438\n",
      "Epoch 28/50\n",
      "229/229 [==============================] - 0s 1ms/step - loss: 0.0335 - mse: 0.0335 - mae: 0.1438 - val_loss: 0.0332 - val_mse: 0.0332 - val_mae: 0.1438\n",
      "Epoch 29/50\n",
      "229/229 [==============================] - 0s 1ms/step - loss: 0.0334 - mse: 0.0334 - mae: 0.1439 - val_loss: 0.0331 - val_mse: 0.0331 - val_mae: 0.1425\n",
      "Epoch 30/50\n",
      "229/229 [==============================] - 0s 1ms/step - loss: 0.0334 - mse: 0.0334 - mae: 0.1437 - val_loss: 0.0331 - val_mse: 0.0331 - val_mae: 0.1432\n",
      "Epoch 31/50\n",
      "229/229 [==============================] - 0s 1ms/step - loss: 0.0334 - mse: 0.0334 - mae: 0.1437 - val_loss: 0.0331 - val_mse: 0.0331 - val_mae: 0.1443\n",
      "Epoch 32/50\n",
      "229/229 [==============================] - 0s 1ms/step - loss: 0.0334 - mse: 0.0334 - mae: 0.1435 - val_loss: 0.0330 - val_mse: 0.0330 - val_mae: 0.1428\n",
      "Epoch 33/50\n",
      "229/229 [==============================] - 0s 1ms/step - loss: 0.0334 - mse: 0.0334 - mae: 0.1437 - val_loss: 0.0330 - val_mse: 0.0330 - val_mae: 0.1428\n",
      "Epoch 34/50\n",
      "229/229 [==============================] - 0s 1ms/step - loss: 0.0333 - mse: 0.0333 - mae: 0.1434 - val_loss: 0.0331 - val_mse: 0.0331 - val_mae: 0.1454\n",
      "Epoch 35/50\n",
      "229/229 [==============================] - 0s 1ms/step - loss: 0.0333 - mse: 0.0333 - mae: 0.1434 - val_loss: 0.0330 - val_mse: 0.0330 - val_mae: 0.1443\n",
      "Epoch 36/50\n",
      "229/229 [==============================] - 0s 1ms/step - loss: 0.0332 - mse: 0.0332 - mae: 0.1432 - val_loss: 0.0328 - val_mse: 0.0328 - val_mae: 0.1428\n",
      "Epoch 37/50\n",
      "229/229 [==============================] - 0s 1ms/step - loss: 0.0332 - mse: 0.0332 - mae: 0.1431 - val_loss: 0.0328 - val_mse: 0.0328 - val_mae: 0.1428\n",
      "Epoch 38/50\n",
      "229/229 [==============================] - 0s 1ms/step - loss: 0.0331 - mse: 0.0331 - mae: 0.1428 - val_loss: 0.0327 - val_mse: 0.0327 - val_mae: 0.1431\n",
      "Epoch 39/50\n",
      "229/229 [==============================] - 0s 1ms/step - loss: 0.0331 - mse: 0.0331 - mae: 0.1429 - val_loss: 0.0327 - val_mse: 0.0327 - val_mae: 0.1431\n",
      "Epoch 40/50\n",
      "229/229 [==============================] - 0s 1ms/step - loss: 0.0330 - mse: 0.0330 - mae: 0.1424 - val_loss: 0.0327 - val_mse: 0.0327 - val_mae: 0.1439\n",
      "Epoch 41/50\n",
      "229/229 [==============================] - 0s 1ms/step - loss: 0.0330 - mse: 0.0330 - mae: 0.1424 - val_loss: 0.0330 - val_mse: 0.0330 - val_mae: 0.1469\n",
      "Epoch 42/50\n",
      "229/229 [==============================] - 0s 1ms/step - loss: 0.0329 - mse: 0.0329 - mae: 0.1422 - val_loss: 0.0332 - val_mse: 0.0332 - val_mae: 0.1480\n",
      "Epoch 43/50\n",
      "229/229 [==============================] - 0s 1ms/step - loss: 0.0329 - mse: 0.0329 - mae: 0.1423 - val_loss: 0.0327 - val_mse: 0.0327 - val_mae: 0.1372\n",
      "Epoch 44/50\n",
      "229/229 [==============================] - 0s 1ms/step - loss: 0.0329 - mse: 0.0329 - mae: 0.1419 - val_loss: 0.0325 - val_mse: 0.0325 - val_mae: 0.1410\n",
      "Epoch 45/50\n",
      "229/229 [==============================] - 0s 1ms/step - loss: 0.0329 - mse: 0.0329 - mae: 0.1419 - val_loss: 0.0326 - val_mse: 0.0326 - val_mae: 0.1434\n",
      "Epoch 46/50\n",
      "229/229 [==============================] - 0s 1ms/step - loss: 0.0328 - mse: 0.0328 - mae: 0.1418 - val_loss: 0.0329 - val_mse: 0.0329 - val_mae: 0.1461\n",
      "Epoch 47/50\n",
      "229/229 [==============================] - 0s 1ms/step - loss: 0.0328 - mse: 0.0328 - mae: 0.1418 - val_loss: 0.0325 - val_mse: 0.0325 - val_mae: 0.1424\n",
      "Epoch 48/50\n",
      "229/229 [==============================] - 0s 1ms/step - loss: 0.0328 - mse: 0.0328 - mae: 0.1415 - val_loss: 0.0328 - val_mse: 0.0328 - val_mae: 0.1457\n",
      "Epoch 49/50\n",
      "229/229 [==============================] - 0s 1ms/step - loss: 0.0328 - mse: 0.0328 - mae: 0.1417 - val_loss: 0.0325 - val_mse: 0.0325 - val_mae: 0.1429\n",
      "Epoch 50/50\n",
      "229/229 [==============================] - 0s 1ms/step - loss: 0.0328 - mse: 0.0328 - mae: 0.1416 - val_loss: 0.0324 - val_mse: 0.0324 - val_mae: 0.1420\n"
     ]
    }
   ],
   "source": [
    "#- train the network\n",
    "\n",
    "train_history = mlp_model.fit(X_train_scaled, \n",
    "                              y_train_scaled, \n",
    "                              epochs=50,\n",
    "                              batch_size=100, \n",
    "                              verbose=1, \n",
    "                              validation_split=0.2)"
   ]
  },
  {
   "cell_type": "markdown",
   "id": "b8ed33ef",
   "metadata": {},
   "source": [
    "### Training error"
   ]
  },
  {
   "cell_type": "code",
   "execution_count": 26,
   "id": "272451a1",
   "metadata": {},
   "outputs": [
    {
     "name": "stdout",
     "output_type": "stream",
     "text": [
      "dict_keys(['loss', 'mse', 'mae', 'val_loss', 'val_mse', 'val_mae'])\n",
      "\n",
      "\n",
      "Training Loss: 0.03 (units?)\n",
      "Training MSE: 0.03 (cm^2 roughness)\n",
      "Training MAE: 0.14 (cm roughness)\n"
     ]
    }
   ],
   "source": [
    "print(train_history.history.keys())\n",
    "print('\\n')\n",
    "\n",
    "# print(\"-> model: %s\" % train_model)\n",
    "print(\"Training Loss: %.2f (units?)\" % train_history.history['loss'][-1])  # will return the loss in the last training epoch\n",
    "print(\"Training MSE: %.2f (cm^2 roughness)\" % (train_history.history['mse'][-1]))\n",
    "print(\"Training MAE: %.2f (cm roughness)\" % (train_history.history['mae'][-1]))\n"
   ]
  },
  {
   "cell_type": "markdown",
   "id": "f063753e",
   "metadata": {},
   "source": [
    "## Plot loss of training"
   ]
  },
  {
   "cell_type": "code",
   "execution_count": 27,
   "id": "eb4a054f",
   "metadata": {},
   "outputs": [
    {
     "name": "stdout",
     "output_type": "stream",
     "text": [
      "dict_keys(['loss', 'mse', 'mae', 'val_loss', 'val_mse', 'val_mae'])\n"
     ]
    },
    {
     "data": {
      "image/png": "[encoded data removed]",
      "text/plain": [
       "<Figure size 432x288 with 1 Axes>"
      ]
     },
     "metadata": {
      "needs_background": "light"
     },
     "output_type": "display_data"
    }
   ],
   "source": [
    "print(train_history.history.keys())\n",
    "# \"Loss\" val==validation==test\n",
    "plt.plot(train_history.history['loss'])\n",
    "plt.plot(train_history.history['val_loss'])\n",
    "plt.title('model loss')\n",
    "plt.ylabel('loss')\n",
    "plt.xlabel('epoch')\n",
    "plt.legend(['train', 'validation'], loc='upper left')\n",
    "plt.show()"
   ]
  },
  {
   "cell_type": "markdown",
   "id": "4754d7d5",
   "metadata": {},
   "source": [
    "### Testing the NN model and report error "
   ]
  },
  {
   "cell_type": "code",
   "execution_count": 29,
   "id": "06767a53",
   "metadata": {},
   "outputs": [
    {
     "name": "stdout",
     "output_type": "stream",
     "text": [
      "612/612 [==============================] - 0s 667us/step - loss: 0.1566 - mse: 0.1566 - mae: 0.3547\n"
     ]
    },
    {
     "data": {
      "text/plain": [
       "[0.15663370490074158, 0.15663370490074158, 0.3547252416610718]"
      ]
     },
     "execution_count": 29,
     "metadata": {},
     "output_type": "execute_result"
    }
   ],
   "source": [
    "'''Returns the loss value & metrics values for the model in test mode.\n",
    " similar to test'''\n",
    "\n",
    "test_metrics = mlp_model.evaluate(X_test_scaled, y_test_scaled, batch_size=20, verbose=1) # Returns the loss value & metrics values for the model in test mode\n"
   ]
  },
  {
   "cell_type": "code",
   "execution_count": 31,
   "id": "847d8124",
   "metadata": {},
   "outputs": [
    {
     "name": "stdout",
     "output_type": "stream",
     "text": [
      "[0.15663370490074158, 0.15663370490074158, 0.3547252416610718]\n",
      "Test RMSE: 0.40 (cm roughness)\n",
      "Test MAE: 0.35 (cm roughness)\n"
     ]
    }
   ],
   "source": [
    "# print(test_metrics)\n",
    "import math\n",
    "\n",
    "print(test_metrics)\n",
    "\n",
    "mse_test = test_metrics[1]\n",
    "print(\"Test RMSE: %.2f (cm roughness)\" %math.sqrt(mse_test))\n",
    "print(\"Test MAE: %.2f (cm roughness)\" %(test_metrics[2]))"
   ]
  },
  {
   "cell_type": "markdown",
   "id": "edd661ad",
   "metadata": {},
   "source": [
    "### predict on test and scale back resutls and report them\n",
    "\n",
    "when to use this?"
   ]
  },
  {
   "cell_type": "code",
   "execution_count": null,
   "id": "312bb26b",
   "metadata": {},
   "outputs": [],
   "source": [
    "from sklearn.metrics import mean_squared_error, mean_absolute_error\n",
    "\n",
    "y_pred_mlp = mlp_model.predict(X_test)  # Generates output predictions for the input samples\n",
    "\n",
    "\n",
    "##- scale back the predictions\n",
    "    \n",
    "# y_pred_ann_original = scaler_y.inverse_transform(y_pred_ann_scaled)\n",
    "\n",
    "# print('Test RMSE: %.2f' %math.sqrt(mean_squared_error(y_test, y_pred_ann_original))) # square root of MSE.\n"
   ]
  },
  {
   "cell_type": "markdown",
   "id": "2c6b2b63",
   "metadata": {},
   "source": [
    "## save the trained model"
   ]
  },
  {
   "cell_type": "code",
   "execution_count": null,
   "id": "8382aa0b",
   "metadata": {},
   "outputs": [],
   "source": [
    "# save model and architecture to single file\n",
    "model_name = \"trained_model_3L9N_50epoch.h5\"  # find a way to rename this online\n",
    "\n",
    "model_fp = os.path.join(dataset_dir, model_name) \n",
    "mlp_model.save(model_fp)"
   ]
  }
 ],
 "metadata": {
  "kernelspec": {
   "display_name": "Python 3 (ipykernel)",
   "language": "python",
   "name": "python3"
  },
  "language_info": {
   "codemirror_mode": {
    "name": "ipython",
    "version": 3
   },
   "file_extension": ".py",
   "mimetype": "text/x-python",
   "name": "python",
   "nbconvert_exporter": "python",
   "pygments_lexer": "ipython3",
   "version": "3.9.11"
  }
 },
 "nbformat": 4,
 "nbformat_minor": 5
}
