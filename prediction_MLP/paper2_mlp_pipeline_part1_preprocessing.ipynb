{
 "cells": [
  {
   "cell_type": "code",
   "execution_count": 1,
   "id": "3dbc7ee9",
   "metadata": {},
   "outputs": [],
   "source": [
    "#- main machine learning libraries used\n",
    "\n",
    "import tensorflow\n",
    "import tensorflow.keras as keras  \n",
    "import sklearn\n",
    "\n",
    "#- other libraries used\n",
    "import os\n",
    "import pandas as pd\n",
    "import matplotlib.pyplot as plt "
   ]
  },
  {
   "cell_type": "code",
   "execution_count": 2,
   "id": "02be279c",
   "metadata": {},
   "outputs": [
    {
     "name": "stdout",
     "output_type": "stream",
     "text": [
      "latest run on: 2022-06-01 15:24:16.354600\n"
     ]
    }
   ],
   "source": [
    "from datetime import datetime\n",
    "today = datetime.today()\n",
    "\n",
    "print('latest run on:', today)"
   ]
  },
  {
   "cell_type": "markdown",
   "id": "7bcfe260",
   "metadata": {},
   "source": [
    "## check tensorflow version"
   ]
  },
  {
   "cell_type": "code",
   "execution_count": 3,
   "id": "57a7442b",
   "metadata": {},
   "outputs": [
    {
     "name": "stdout",
     "output_type": "stream",
     "text": [
      "2.9.1\n"
     ]
    }
   ],
   "source": [
    "print (tensorflow.__version__)"
   ]
  },
  {
   "cell_type": "code",
   "execution_count": 5,
   "id": "69ea5d88",
   "metadata": {},
   "outputs": [],
   "source": [
    "remove_camera_outlier = False "
   ]
  },
  {
   "cell_type": "markdown",
   "id": "7fb3750d",
   "metadata": {},
   "source": [
    "### functions(.)"
   ]
  },
  {
   "cell_type": "code",
   "execution_count": 4,
   "id": "be8894c1",
   "metadata": {},
   "outputs": [],
   "source": [
    "def remove_outliers_IQR(df, cutoff):\n",
    "    df.drop((df[df['rms'] > cutoff].index), inplace=True)\n",
    "    print('Removing outliers (IQR method): after dropping roughness values > %.1f in dataset; new shape= (%s,%s)' %(cutoff, df.shape[0], df.shape[1]))\n",
    "    return  # the same as None, cuz inplace=True\n"
   ]
  },
  {
   "cell_type": "markdown",
   "id": "56aba0b3",
   "metadata": {},
   "source": [
    "## input directory"
   ]
  },
  {
   "cell_type": "code",
   "execution_count": 6,
   "id": "c9d30fc6",
   "metadata": {},
   "outputs": [],
   "source": [
    "dataset_dir = \"/Users/ehsanmos/MLP_dataset\""
   ]
  },
  {
   "cell_type": "code",
   "execution_count": 7,
   "id": "2bf041aa",
   "metadata": {},
   "outputs": [
    {
     "name": "stdout",
     "output_type": "stream",
     "text": [
      "dataset directory FOUND!\n"
     ]
    }
   ],
   "source": [
    "if os.path.isdir(dataset_dir) == False:\n",
    "    print(\"dataset directory NOT found!\")\n",
    "else:\n",
    "    print(\"dataset directory FOUND!\")"
   ]
  },
  {
   "cell_type": "markdown",
   "id": "eccbffb9",
   "metadata": {},
   "source": [
    "## Load input/ training dataset\n",
    "\n",
    "before doing this section, process filter final input dataset with \"check_n_filter_final_dataset\""
   ]
  },
  {
   "cell_type": "code",
   "execution_count": 8,
   "id": "4af39e8f",
   "metadata": {},
   "outputs": [],
   "source": [
    "in_ds = \"atmmodel_april_2016_k_zero_9cams4bands.csv\""
   ]
  },
  {
   "cell_type": "markdown",
   "id": "09b6dc59",
   "metadata": {},
   "source": [
    "## check if input dataset file exists"
   ]
  },
  {
   "cell_type": "code",
   "execution_count": 43,
   "id": "37ac74e6",
   "metadata": {},
   "outputs": [
    {
     "name": "stdout",
     "output_type": "stream",
     "text": [
      "/Users/ehsanmos/MLP_dataset/atmmodel_april_2016_k_zero_9cams4bands.csv\n",
      "input dataset found!\n"
     ]
    }
   ],
   "source": [
    "in_ds_fullpath = os.path.join(dataset_dir, in_ds)\n",
    "print(in_ds_fullpath)\n",
    "\n",
    "if (not os.path.isfile(os.path.join(in_ds_fullpath))):\n",
    "    raise SystemExit()\n",
    "else:\n",
    "    print(\"input dataset found!\")"
   ]
  },
  {
   "cell_type": "markdown",
   "id": "259b6d7b",
   "metadata": {},
   "source": [
    "## Read in dataset and look at dataset columns"
   ]
  },
  {
   "cell_type": "code",
   "execution_count": 10,
   "id": "b4582b5a",
   "metadata": {},
   "outputs": [],
   "source": [
    "df_orig = pd.read_csv(in_ds_fullpath, engine='python')"
   ]
  },
  {
   "cell_type": "code",
   "execution_count": 11,
   "id": "790ea7e3",
   "metadata": {},
   "outputs": [
    {
     "data": {
      "text/plain": [
       "(73771, 24)"
      ]
     },
     "execution_count": 11,
     "metadata": {},
     "output_type": "execute_result"
    }
   ],
   "source": [
    "df_orig.shape"
   ]
  },
  {
   "cell_type": "code",
   "execution_count": 12,
   "id": "4164b4d7",
   "metadata": {},
   "outputs": [
    {
     "data": {
      "text/plain": [
       "Index(['path', 'orbit', 'img_block', 'line', 'sample', 'firstLat', 'firstLon',\n",
       "       'anr', 'ang', 'anb', 'annir', 'aa', 'af', 'ba', 'bf', 'ca', 'cf', 'da',\n",
       "       'df', 'rms', 'weight', 'npts', 'cloud', 'var'],\n",
       "      dtype='object')"
      ]
     },
     "execution_count": 12,
     "metadata": {},
     "output_type": "execute_result"
    }
   ],
   "source": [
    "df_orig.columns"
   ]
  },
  {
   "cell_type": "markdown",
   "id": "599b6408",
   "metadata": {},
   "source": [
    "## drop redundant columns\n",
    "why drop columns?"
   ]
  },
  {
   "cell_type": "code",
   "execution_count": 45,
   "id": "252b107d",
   "metadata": {},
   "outputs": [
    {
     "name": "stdout",
     "output_type": "stream",
     "text": [
      "15\n",
      "Index(['firstLat', 'firstLon', 'anr', 'ang', 'anb', 'annir', 'aa', 'af', 'ba',\n",
      "       'bf', 'ca', 'cf', 'da', 'df', 'rms'],\n",
      "      dtype='object')\n"
     ]
    }
   ],
   "source": [
    "##- with 12 cameras\n",
    "dataset_df = df_orig.drop(['path', 'orbit', 'img_block', 'line', 'sample', 'weight', 'npts', 'cloud', 'var'], axis=1)\n",
    "\n",
    "print(len(dataset_df.columns)) # columns should be only 12 cameras + rms + latlon\n",
    "print(dataset_df.columns)\n"
   ]
  },
  {
   "cell_type": "markdown",
   "id": "ba4b8050",
   "metadata": {},
   "source": [
    "## shuffle rows of input dataset"
   ]
  },
  {
   "cell_type": "code",
   "execution_count": 46,
   "id": "f7f0f96d",
   "metadata": {},
   "outputs": [],
   "source": [
    "# from sklearn.utils import shuffle\n",
    "\n",
    "# dataset_df = shuffle(dataset_df)"
   ]
  },
  {
   "cell_type": "markdown",
   "id": "563efb7b",
   "metadata": {},
   "source": [
    "### Visual check of dataset before cleaning data\n",
    "look at stats of some columns"
   ]
  },
  {
   "cell_type": "code",
   "execution_count": 47,
   "id": "7f3fb3d4",
   "metadata": {},
   "outputs": [
    {
     "name": "stdout",
     "output_type": "stream",
     "text": [
      "AN, before cleaning bad data:\n",
      "min: -999994.0\n",
      "max: 26.534945\n",
      "mean: -40801.47158548899\n",
      "median: 0.635575\n",
      "\n",
      "ATM roughness, before cleaning bad data:\n",
      "min: 4.12\n",
      "max: 405.395\n",
      "mean: 14.120213020251798\n",
      "median: 11.134444\n"
     ]
    }
   ],
   "source": [
    "print('AN, before cleaning bad data:')\n",
    "print('min: %s' % dataset_df['anr'].min())\n",
    "print('max: %s' % dataset_df['anr'].max())\n",
    "print('mean: %s' %dataset_df['anr'].mean())\n",
    "print('median: %s' %dataset_df['anr'].median())\n",
    "\n",
    "print('\\nATM roughness, before cleaning bad data:')\n",
    "print('min: %s' % dataset_df['rms'].min())\n",
    "print('max: %s' % dataset_df['rms'].max())\n",
    "print('mean: %s' %dataset_df['rms'].mean())\n",
    "print('median: %s' %dataset_df['rms'].median())"
   ]
  },
  {
   "cell_type": "markdown",
   "id": "901f8079",
   "metadata": {},
   "source": [
    "### plot histogram of all columns of input dataset to visually check distribution of data "
   ]
  },
  {
   "cell_type": "code",
   "execution_count": 48,
   "id": "25457856",
   "metadata": {},
   "outputs": [
    {
     "data": {
      "text/plain": [
       "array([[<AxesSubplot:title={'center':'firstLat'}>,\n",
       "        <AxesSubplot:title={'center':'firstLon'}>,\n",
       "        <AxesSubplot:title={'center':'anr'}>,\n",
       "        <AxesSubplot:title={'center':'ang'}>],\n",
       "       [<AxesSubplot:title={'center':'anb'}>,\n",
       "        <AxesSubplot:title={'center':'annir'}>,\n",
       "        <AxesSubplot:title={'center':'aa'}>,\n",
       "        <AxesSubplot:title={'center':'af'}>],\n",
       "       [<AxesSubplot:title={'center':'ba'}>,\n",
       "        <AxesSubplot:title={'center':'bf'}>,\n",
       "        <AxesSubplot:title={'center':'ca'}>,\n",
       "        <AxesSubplot:title={'center':'cf'}>],\n",
       "       [<AxesSubplot:title={'center':'da'}>,\n",
       "        <AxesSubplot:title={'center':'df'}>,\n",
       "        <AxesSubplot:title={'center':'rms'}>, <AxesSubplot:>]],\n",
       "      dtype=object)"
      ]
     },
     "execution_count": 48,
     "metadata": {},
     "output_type": "execute_result"
    },
    {
     "data": {
      "image/png": "[encoded data removed]",
      "text/plain": [
       "<Figure size 432x288 with 16 Axes>"
      ]
     },
     "metadata": {
      "needs_background": "light"
     },
     "output_type": "display_data"
    }
   ],
   "source": [
    "dataset_df.hist(bins=10)"
   ]
  },
  {
   "cell_type": "markdown",
   "id": "17d490d5",
   "metadata": {},
   "source": [
    "## remove negative data from each row\n",
    "we want to train our MLP models, so we will remove negative values, NAN values, masked values such as land mask, etc. also any rows that does not have all 9 or 12 cameras all together"
   ]
  },
  {
   "cell_type": "code",
   "execution_count": 49,
   "id": "673d5431",
   "metadata": {},
   "outputs": [
    {
     "name": "stdout",
     "output_type": "stream",
     "text": [
      "before dropping negative values: (73771, 15)\n",
      "after dropping negative values: (41048, 15)\n"
     ]
    },
    {
     "name": "stderr",
     "output_type": "stream",
     "text": [
      "/var/folders/0l/r3vc28ks6n99yn157sn20whw0000gn/T/ipykernel_86659/3998210268.py:5: FutureWarning: Index.__or__ operating as a set operation is deprecated, in the future this will be a logical operation matching Series.__or__.  Use index.union(other) instead.\n",
      "  dataset_df.drop((dataset_df[dataset_df['da'] < 0.0].index) |\n"
     ]
    }
   ],
   "source": [
    "print('before dropping negative values: (%s, %s)' %dataset_df.shape)\n",
    "\n",
    "\n",
    "#- remove/ drop negative values from all input features\n",
    "dataset_df.drop((dataset_df[dataset_df['da'] < 0.0].index) | \n",
    "                (dataset_df[dataset_df['ca'] < 0.0].index) | \n",
    "                (dataset_df[dataset_df['ba'] < 0.0].index) |\n",
    "                (dataset_df[dataset_df['aa'] < 0.0].index) |\n",
    "                (dataset_df[dataset_df['anr'] < 0.0].index) |\n",
    "                (dataset_df[dataset_df['ang'] < 0.0].index) |\n",
    "                (dataset_df[dataset_df['anb'] < 0.0].index) |\n",
    "                (dataset_df[dataset_df['annir'] < 0.0].index) |\n",
    "                (dataset_df[dataset_df['af'] < 0.0].index) |\n",
    "                (dataset_df[dataset_df['bf'] < 0.0].index) |\n",
    "                (dataset_df[dataset_df['cf'] < 0.0].index) |\n",
    "                (dataset_df[dataset_df['df'] < 0.0].index), inplace=True)\n",
    "\n",
    "\n",
    "print('after dropping negative values: (%s, %s)' %dataset_df.shape)"
   ]
  },
  {
   "cell_type": "markdown",
   "id": "380e9b20",
   "metadata": {},
   "source": [
    "## remove outlier values from camera "
   ]
  },
  {
   "cell_type": "code",
   "execution_count": 50,
   "id": "b4a1bcc9",
   "metadata": {},
   "outputs": [
    {
     "name": "stdout",
     "output_type": "stream",
     "text": [
      "we did NOT remove camera outliers manually!\n"
     ]
    }
   ],
   "source": [
    "cam_outlier = 2.0\n",
    "\n",
    "\n",
    "if (remove_camera_outlier == True):\n",
    "    print(\"removing camera outliers\")\n",
    "    dataset_df.drop(dataset_df[(dataset_df['Da_r'] > cam_outlier) |\n",
    "                               (dataset_df['Ca_r'] > cam_outlier) |\n",
    "                               (dataset_df['Ba_r'] > cam_outlier) |\n",
    "                               (dataset_df['Aa_r'] > cam_outlier) |\n",
    "                               (dataset_df['An_r'] > cam_outlier) |\n",
    "                               (dataset_df['Af_r'] > cam_outlier) |\n",
    "                               (dataset_df['Bf_r'] > cam_outlier) |\n",
    "                               (dataset_df['Cf_r'] > cam_outlier) |\n",
    "                               (dataset_df['Df_r'] > cam_outlier)].index, inplace=True)\n",
    "\n",
    "else:\n",
    "    print('we did NOT remove camera outliers manually!')"
   ]
  },
  {
   "cell_type": "markdown",
   "id": "72184fc1",
   "metadata": {},
   "source": [
    "### removal of outliers of reflectance in cameras"
   ]
  },
  {
   "cell_type": "code",
   "execution_count": 51,
   "id": "ea80173b",
   "metadata": {},
   "outputs": [
    {
     "name": "stdout",
     "output_type": "stream",
     "text": [
      "<class 'pandas.core.series.Series'>\n",
      "Percentiles: 25th= 7.546 (cm), 75th= 15.686 (cm), InterQuartile Range= 8.140 (cm)\n",
      "lower cutoff= -16.9, upper cutoff= 40.1\n",
      "Identified outliers: 273 \n",
      "\n",
      "Removing outliers (IQR method): after dropping roughness values > 40.1 in dataset; new shape= (40775,15)\n"
     ]
    }
   ],
   "source": [
    "#- identify outliers in roughnes valueswith interquartile range (IQRange)\n",
    "from numpy import percentile\n",
    "\n",
    "#- extract data \n",
    "data = dataset_df.loc[:,'rms']\n",
    "print(type(data))\n",
    "#- calculate InterQuartile Range == IQR\n",
    "q25, q75 = percentile(data, 25), percentile(data, 75)\n",
    "iqr = q75 - q25\n",
    "print('Percentiles: 25th= %.3f (cm), 75th= %.3f (cm), InterQuartile Range= %.3f (cm)' % (q25, q75, iqr))\n",
    "#- calculate the outlier cutoff\n",
    "cut_off = iqr * 3\n",
    "lower, upper = q25 - cut_off, q75 + cut_off\n",
    "print('lower cutoff= %.1f, upper cutoff= %.1f' % (lower, upper))\n",
    "#- identify outliers\n",
    "outliers = [x for x in data if x > upper] # list comprehension method\n",
    "print('Identified outliers: %d \\n' % len(outliers))\n",
    "#- remove outliers\n",
    "remove_outliers_IQR(dataset_df, upper)"
   ]
  },
  {
   "cell_type": "markdown",
   "id": "07cc8f9b",
   "metadata": {},
   "source": [
    "## check for any NAN values"
   ]
  },
  {
   "cell_type": "code",
   "execution_count": 53,
   "id": "a2d21aee",
   "metadata": {},
   "outputs": [
    {
     "name": "stdout",
     "output_type": "stream",
     "text": [
      "did NOT find any NAN value in any column\n",
      "\n"
     ]
    }
   ],
   "source": [
    "#~ check all columns all together\n",
    "\n",
    "if (dataset_df['da'].isnull().values.any() | \n",
    "    dataset_df['ca'].isnull().values.any() | \n",
    "    dataset_df['ba'].isnull().values.any() |\n",
    "    dataset_df['aa'].isnull().values.any() |\n",
    "    dataset_df['anr'].isnull().values.any() |\n",
    "    dataset_df['ang'].isnull().values.any() |\n",
    "    dataset_df['anb'].isnull().values.any() |\n",
    "    dataset_df['annir'].isnull().values.any() |\n",
    "    dataset_df['af'].isnull().values.any() |\n",
    "    dataset_df['bf'].isnull().values.any() |\n",
    "    dataset_df['cf'].isnull().values.any() |\n",
    "    dataset_df['df'].isnull().values.any()):\n",
    "    \n",
    "    print('found NAN in one DF column')\n",
    "\n",
    "else:\n",
    "    print('did NOT find any NAN value in any column\\n')\n"
   ]
  },
  {
   "cell_type": "markdown",
   "id": "9060504d",
   "metadata": {},
   "source": [
    "## check for any negative value\n",
    "values() function comes from numpy and is faster"
   ]
  },
  {
   "cell_type": "code",
   "execution_count": 54,
   "id": "4c6ce840",
   "metadata": {},
   "outputs": [
    {
     "data": {
      "text/plain": [
       "Index(['firstLat', 'firstLon', 'anr', 'ang', 'anb', 'annir', 'aa', 'af', 'ba',\n",
       "       'bf', 'ca', 'cf', 'da', 'df', 'rms'],\n",
       "      dtype='object')"
      ]
     },
     "execution_count": 54,
     "metadata": {},
     "output_type": "execute_result"
    }
   ],
   "source": [
    "dataset_df.columns"
   ]
  },
  {
   "cell_type": "markdown",
   "id": "e705cc36",
   "metadata": {},
   "source": [
    "## histogram of dataset\n",
    "defining histogram bins and checking the hostogram of input data again after cleaning dataset"
   ]
  },
  {
   "cell_type": "code",
   "execution_count": 55,
   "id": "457c1c72",
   "metadata": {},
   "outputs": [
    {
     "data": {
      "text/plain": [
       "array([[<AxesSubplot:title={'center':'firstLat'}>,\n",
       "        <AxesSubplot:title={'center':'firstLon'}>,\n",
       "        <AxesSubplot:title={'center':'anr'}>,\n",
       "        <AxesSubplot:title={'center':'ang'}>],\n",
       "       [<AxesSubplot:title={'center':'anb'}>,\n",
       "        <AxesSubplot:title={'center':'annir'}>,\n",
       "        <AxesSubplot:title={'center':'aa'}>,\n",
       "        <AxesSubplot:title={'center':'af'}>],\n",
       "       [<AxesSubplot:title={'center':'ba'}>,\n",
       "        <AxesSubplot:title={'center':'bf'}>,\n",
       "        <AxesSubplot:title={'center':'ca'}>,\n",
       "        <AxesSubplot:title={'center':'cf'}>],\n",
       "       [<AxesSubplot:title={'center':'da'}>,\n",
       "        <AxesSubplot:title={'center':'df'}>,\n",
       "        <AxesSubplot:title={'center':'rms'}>, <AxesSubplot:>]],\n",
       "      dtype=object)"
      ]
     },
     "execution_count": 55,
     "metadata": {},
     "output_type": "execute_result"
    },
    {
     "data": {
      "image/png": "[encoded data removed]",
      "text/plain": [
       "<Figure size 432x288 with 16 Axes>"
      ]
     },
     "metadata": {
      "needs_background": "light"
     },
     "output_type": "display_data"
    }
   ],
   "source": [
    "dataset_df.hist(bins=15)"
   ]
  },
  {
   "cell_type": "code",
   "execution_count": 56,
   "id": "e342d3e5",
   "metadata": {},
   "outputs": [
    {
     "data": {
      "text/html": [
       "<div>\n",
       "<style scoped>\n",
       "    .dataframe tbody tr th:only-of-type {\n",
       "        vertical-align: middle;\n",
       "    }\n",
       "\n",
       "    .dataframe tbody tr th {\n",
       "        vertical-align: top;\n",
       "    }\n",
       "\n",
       "    .dataframe thead th {\n",
       "        text-align: right;\n",
       "    }\n",
       "</style>\n",
       "<table border=\"1\" class=\"dataframe\">\n",
       "  <thead>\n",
       "    <tr style=\"text-align: right;\">\n",
       "      <th></th>\n",
       "      <th>firstLat</th>\n",
       "      <th>firstLon</th>\n",
       "      <th>anr</th>\n",
       "      <th>ang</th>\n",
       "      <th>anb</th>\n",
       "      <th>annir</th>\n",
       "      <th>aa</th>\n",
       "      <th>af</th>\n",
       "      <th>ba</th>\n",
       "      <th>bf</th>\n",
       "      <th>ca</th>\n",
       "      <th>cf</th>\n",
       "      <th>da</th>\n",
       "      <th>df</th>\n",
       "      <th>rms</th>\n",
       "    </tr>\n",
       "  </thead>\n",
       "  <tbody>\n",
       "    <tr>\n",
       "      <th>count</th>\n",
       "      <td>40775.000000</td>\n",
       "      <td>40775.000000</td>\n",
       "      <td>40775.000000</td>\n",
       "      <td>40775.000000</td>\n",
       "      <td>40775.000000</td>\n",
       "      <td>40775.000000</td>\n",
       "      <td>40775.000000</td>\n",
       "      <td>40775.000000</td>\n",
       "      <td>40775.000000</td>\n",
       "      <td>40775.000000</td>\n",
       "      <td>40775.000000</td>\n",
       "      <td>40775.0</td>\n",
       "      <td>40775.000000</td>\n",
       "      <td>40775.0</td>\n",
       "      <td>40775.000000</td>\n",
       "    </tr>\n",
       "    <tr>\n",
       "      <th>mean</th>\n",
       "      <td>77.733514</td>\n",
       "      <td>229.573861</td>\n",
       "      <td>0.715526</td>\n",
       "      <td>0.657430</td>\n",
       "      <td>0.857083</td>\n",
       "      <td>0.715526</td>\n",
       "      <td>0.745357</td>\n",
       "      <td>0.805499</td>\n",
       "      <td>0.799545</td>\n",
       "      <td>0.963387</td>\n",
       "      <td>0.869043</td>\n",
       "      <td>0.0</td>\n",
       "      <td>0.959735</td>\n",
       "      <td>0.0</td>\n",
       "      <td>12.321362</td>\n",
       "    </tr>\n",
       "    <tr>\n",
       "      <th>std</th>\n",
       "      <td>3.253238</td>\n",
       "      <td>25.924134</td>\n",
       "      <td>0.326213</td>\n",
       "      <td>0.252899</td>\n",
       "      <td>0.527069</td>\n",
       "      <td>0.326213</td>\n",
       "      <td>0.354976</td>\n",
       "      <td>0.432103</td>\n",
       "      <td>0.421548</td>\n",
       "      <td>0.692267</td>\n",
       "      <td>0.540067</td>\n",
       "      <td>0.0</td>\n",
       "      <td>0.728365</td>\n",
       "      <td>0.0</td>\n",
       "      <td>6.582662</td>\n",
       "    </tr>\n",
       "    <tr>\n",
       "      <th>min</th>\n",
       "      <td>70.108051</td>\n",
       "      <td>199.591141</td>\n",
       "      <td>0.055302</td>\n",
       "      <td>0.089101</td>\n",
       "      <td>0.191960</td>\n",
       "      <td>0.055302</td>\n",
       "      <td>0.073736</td>\n",
       "      <td>0.073589</td>\n",
       "      <td>0.098305</td>\n",
       "      <td>0.136598</td>\n",
       "      <td>0.140288</td>\n",
       "      <td>0.0</td>\n",
       "      <td>0.193529</td>\n",
       "      <td>0.0</td>\n",
       "      <td>4.283000</td>\n",
       "    </tr>\n",
       "    <tr>\n",
       "      <th>25%</th>\n",
       "      <td>74.719288</td>\n",
       "      <td>206.382045</td>\n",
       "      <td>0.634371</td>\n",
       "      <td>0.563233</td>\n",
       "      <td>0.759290</td>\n",
       "      <td>0.634371</td>\n",
       "      <td>0.661812</td>\n",
       "      <td>0.722374</td>\n",
       "      <td>0.719512</td>\n",
       "      <td>0.851970</td>\n",
       "      <td>0.783128</td>\n",
       "      <td>0.0</td>\n",
       "      <td>0.844422</td>\n",
       "      <td>0.0</td>\n",
       "      <td>7.535000</td>\n",
       "    </tr>\n",
       "    <tr>\n",
       "      <th>50%</th>\n",
       "      <td>79.047822</td>\n",
       "      <td>219.864268</td>\n",
       "      <td>0.714620</td>\n",
       "      <td>0.671897</td>\n",
       "      <td>0.818863</td>\n",
       "      <td>0.714620</td>\n",
       "      <td>0.742148</td>\n",
       "      <td>0.790681</td>\n",
       "      <td>0.784132</td>\n",
       "      <td>0.886220</td>\n",
       "      <td>0.831604</td>\n",
       "      <td>0.0</td>\n",
       "      <td>0.884579</td>\n",
       "      <td>0.0</td>\n",
       "      <td>9.960000</td>\n",
       "    </tr>\n",
       "    <tr>\n",
       "      <th>75%</th>\n",
       "      <td>80.332606</td>\n",
       "      <td>243.261888</td>\n",
       "      <td>0.767996</td>\n",
       "      <td>0.734646</td>\n",
       "      <td>0.867236</td>\n",
       "      <td>0.767996</td>\n",
       "      <td>0.797244</td>\n",
       "      <td>0.832931</td>\n",
       "      <td>0.835803</td>\n",
       "      <td>0.938494</td>\n",
       "      <td>0.873139</td>\n",
       "      <td>0.0</td>\n",
       "      <td>0.934798</td>\n",
       "      <td>0.0</td>\n",
       "      <td>15.528636</td>\n",
       "    </tr>\n",
       "    <tr>\n",
       "      <th>max</th>\n",
       "      <td>83.005025</td>\n",
       "      <td>274.550530</td>\n",
       "      <td>24.579739</td>\n",
       "      <td>18.974380</td>\n",
       "      <td>40.779253</td>\n",
       "      <td>24.579739</td>\n",
       "      <td>28.210836</td>\n",
       "      <td>33.517825</td>\n",
       "      <td>34.355771</td>\n",
       "      <td>55.304412</td>\n",
       "      <td>43.293858</td>\n",
       "      <td>0.0</td>\n",
       "      <td>59.494140</td>\n",
       "      <td>0.0</td>\n",
       "      <td>40.105000</td>\n",
       "    </tr>\n",
       "  </tbody>\n",
       "</table>\n",
       "</div>"
      ],
      "text/plain": [
       "           firstLat      firstLon           anr           ang           anb  \\\n",
       "count  40775.000000  40775.000000  40775.000000  40775.000000  40775.000000   \n",
       "mean      77.733514    229.573861      0.715526      0.657430      0.857083   \n",
       "std        3.253238     25.924134      0.326213      0.252899      0.527069   \n",
       "min       70.108051    199.591141      0.055302      0.089101      0.191960   \n",
       "25%       74.719288    206.382045      0.634371      0.563233      0.759290   \n",
       "50%       79.047822    219.864268      0.714620      0.671897      0.818863   \n",
       "75%       80.332606    243.261888      0.767996      0.734646      0.867236   \n",
       "max       83.005025    274.550530     24.579739     18.974380     40.779253   \n",
       "\n",
       "              annir            aa            af            ba            bf  \\\n",
       "count  40775.000000  40775.000000  40775.000000  40775.000000  40775.000000   \n",
       "mean       0.715526      0.745357      0.805499      0.799545      0.963387   \n",
       "std        0.326213      0.354976      0.432103      0.421548      0.692267   \n",
       "min        0.055302      0.073736      0.073589      0.098305      0.136598   \n",
       "25%        0.634371      0.661812      0.722374      0.719512      0.851970   \n",
       "50%        0.714620      0.742148      0.790681      0.784132      0.886220   \n",
       "75%        0.767996      0.797244      0.832931      0.835803      0.938494   \n",
       "max       24.579739     28.210836     33.517825     34.355771     55.304412   \n",
       "\n",
       "                 ca       cf            da       df           rms  \n",
       "count  40775.000000  40775.0  40775.000000  40775.0  40775.000000  \n",
       "mean       0.869043      0.0      0.959735      0.0     12.321362  \n",
       "std        0.540067      0.0      0.728365      0.0      6.582662  \n",
       "min        0.140288      0.0      0.193529      0.0      4.283000  \n",
       "25%        0.783128      0.0      0.844422      0.0      7.535000  \n",
       "50%        0.831604      0.0      0.884579      0.0      9.960000  \n",
       "75%        0.873139      0.0      0.934798      0.0     15.528636  \n",
       "max       43.293858      0.0     59.494140      0.0     40.105000  "
      ]
     },
     "execution_count": 56,
     "metadata": {},
     "output_type": "execute_result"
    }
   ],
   "source": [
    "dataset_df.describe()"
   ]
  },
  {
   "cell_type": "markdown",
   "id": "e54dd73d",
   "metadata": {},
   "source": [
    "## write out output csv"
   ]
  },
  {
   "cell_type": "code",
   "execution_count": 58,
   "id": "00a65d6b",
   "metadata": {},
   "outputs": [
    {
     "data": {
      "text/plain": [
       "'/Users/ehsanmos/MLP_dataset/atmmodel_april_2016_k_zero_9cams4bands_preprocessed.csv'"
      ]
     },
     "execution_count": 58,
     "metadata": {},
     "output_type": "execute_result"
    }
   ],
   "source": [
    "output_dir = dataset_dir\n",
    "output_filename = in_ds.split('.')[0]+'_preprocessed.csv'\n",
    "output_csv_fullpath = os.path.join(output_dir, output_filename)\n",
    "output_csv_fullpath"
   ]
  },
  {
   "cell_type": "code",
   "execution_count": 61,
   "id": "85a6477f",
   "metadata": {},
   "outputs": [],
   "source": [
    "dataset_df.to_csv(output_csv_fullpath, index=False)"
   ]
  },
  {
   "cell_type": "code",
   "execution_count": null,
   "id": "64d79955",
   "metadata": {},
   "outputs": [],
   "source": []
  }
 ],
 "metadata": {
  "kernelspec": {
   "display_name": "Python 3 (ipykernel)",
   "language": "python",
   "name": "python3"
  },
  "language_info": {
   "codemirror_mode": {
    "name": "ipython",
    "version": 3
   },
   "file_extension": ".py",
   "mimetype": "text/x-python",
   "name": "python",
   "nbconvert_exporter": "python",
   "pygments_lexer": "ipython3",
   "version": "3.9.11"
  }
 },
 "nbformat": 4,
 "nbformat_minor": 5
}
