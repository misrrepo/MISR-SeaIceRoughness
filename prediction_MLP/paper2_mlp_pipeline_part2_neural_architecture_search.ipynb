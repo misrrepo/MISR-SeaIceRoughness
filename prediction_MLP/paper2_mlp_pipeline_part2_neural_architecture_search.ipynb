{
 "cells": [
  {
   "cell_type": "code",
   "execution_count": 1,
   "id": "3dbc7ee9",
   "metadata": {},
   "outputs": [],
   "source": [
    "#- main machine learning libraries used\n",
    "\n",
    "# import tensorflow\n",
    "import tensorflow as tf\n",
    "import tensorflow.keras as keras  \n",
    "import sklearn\n",
    "from sklearn.metrics import mean_squared_error\n",
    "\n",
    "\n",
    "#- other libraries used\n",
    "import itertools\n",
    "import numpy as np\n",
    "import os\n",
    "import math\n",
    "import pandas as pd\n",
    "import matplotlib.pyplot as plt \n",
    "from platform import python_version\n",
    "from datetime import datetime as dt"
   ]
  },
  {
   "cell_type": "code",
   "execution_count": 2,
   "id": "3e0b69f6",
   "metadata": {},
   "outputs": [
    {
     "data": {
      "text/plain": [
       "'3.9.12'"
      ]
     },
     "execution_count": 2,
     "metadata": {},
     "output_type": "execute_result"
    }
   ],
   "source": [
    "python_version()"
   ]
  },
  {
   "cell_type": "code",
   "execution_count": 3,
   "id": "02be279c",
   "metadata": {},
   "outputs": [
    {
     "name": "stdout",
     "output_type": "stream",
     "text": [
      "latest run on: 2022-06-14 17:25:33.550040\n"
     ]
    }
   ],
   "source": [
    "today = dt.today()\n",
    "print('latest run on:', today)"
   ]
  },
  {
   "cell_type": "code",
   "execution_count": 4,
   "id": "30362b89",
   "metadata": {},
   "outputs": [
    {
     "data": {
      "text/plain": [
       "datetime.datetime(2022, 6, 14, 17, 25, 33, 555249)"
      ]
     },
     "execution_count": 4,
     "metadata": {},
     "output_type": "execute_result"
    }
   ],
   "source": [
    "now1 = dt.now()\n",
    "now1"
   ]
  },
  {
   "cell_type": "markdown",
   "id": "7bcfe260",
   "metadata": {},
   "source": [
    "## check tensorflow version"
   ]
  },
  {
   "cell_type": "code",
   "execution_count": 5,
   "id": "57a7442b",
   "metadata": {},
   "outputs": [
    {
     "name": "stdout",
     "output_type": "stream",
     "text": [
      "2.9.1\n"
     ]
    }
   ],
   "source": [
    "print (tf.__version__)"
   ]
  },
  {
   "cell_type": "markdown",
   "id": "7fb3750d",
   "metadata": {},
   "source": [
    "## my functions(.) here"
   ]
  },
  {
   "cell_type": "markdown",
   "id": "56aba0b3",
   "metadata": {},
   "source": [
    "## input directory"
   ]
  },
  {
   "cell_type": "code",
   "execution_count": 6,
   "id": "c9d30fc6",
   "metadata": {},
   "outputs": [],
   "source": [
    "dataset_dir = \"/Users/ehsanmos/MLP_dataset\""
   ]
  },
  {
   "cell_type": "code",
   "execution_count": 7,
   "id": "2bf041aa",
   "metadata": {},
   "outputs": [
    {
     "name": "stdout",
     "output_type": "stream",
     "text": [
      "dataset directory FOUND!\n"
     ]
    }
   ],
   "source": [
    "if os.path.isdir(dataset_dir) == False:\n",
    "    print(\"dataset directory NOT found!\")\n",
    "else:\n",
    "    print(\"dataset directory FOUND!\")"
   ]
  },
  {
   "cell_type": "markdown",
   "id": "eccbffb9",
   "metadata": {},
   "source": [
    "## Load input/ training dataset\n",
    "\n",
    "before doing this section, process filter final input dataset with \"check_n_filter_final_dataset\""
   ]
  },
  {
   "cell_type": "code",
   "execution_count": 8,
   "id": "4af39e8f",
   "metadata": {},
   "outputs": [],
   "source": [
    "in_ds = \"atmmodel_april_2016_k_zero_9cams4bands_preprocessed.csv\""
   ]
  },
  {
   "cell_type": "markdown",
   "id": "09b6dc59",
   "metadata": {},
   "source": [
    "## check if input dataset file exists"
   ]
  },
  {
   "cell_type": "code",
   "execution_count": 9,
   "id": "37ac74e6",
   "metadata": {},
   "outputs": [
    {
     "name": "stdout",
     "output_type": "stream",
     "text": [
      "/Users/ehsanmos/MLP_dataset/atmmodel_april_2016_k_zero_9cams4bands_preprocessed.csv\n",
      "input dataset found!\n"
     ]
    }
   ],
   "source": [
    "in_ds_fullpath = os.path.join(dataset_dir, in_ds)\n",
    "print(in_ds_fullpath)\n",
    "\n",
    "if (not os.path.isfile(os.path.join(in_ds_fullpath))):\n",
    "    raise SystemExit()\n",
    "else:\n",
    "    print(\"input dataset found!\")"
   ]
  },
  {
   "cell_type": "markdown",
   "id": "259b6d7b",
   "metadata": {},
   "source": [
    "## Read in dataset and look at dataset columns"
   ]
  },
  {
   "cell_type": "code",
   "execution_count": 10,
   "id": "b4582b5a",
   "metadata": {},
   "outputs": [],
   "source": [
    "df_orig = pd.read_csv(in_ds_fullpath, engine='python')"
   ]
  },
  {
   "cell_type": "code",
   "execution_count": 11,
   "id": "790ea7e3",
   "metadata": {},
   "outputs": [
    {
     "data": {
      "text/plain": [
       "(40775, 15)"
      ]
     },
     "execution_count": 11,
     "metadata": {},
     "output_type": "execute_result"
    }
   ],
   "source": [
    "df_orig.shape"
   ]
  },
  {
   "cell_type": "code",
   "execution_count": 12,
   "id": "4164b4d7",
   "metadata": {},
   "outputs": [
    {
     "data": {
      "text/plain": [
       "Index(['firstLat', 'firstLon', 'anr', 'ang', 'anb', 'annir', 'aa', 'af', 'ba',\n",
       "       'bf', 'ca', 'cf', 'da', 'df', 'rms'],\n",
       "      dtype='object')"
      ]
     },
     "execution_count": 12,
     "metadata": {},
     "output_type": "execute_result"
    }
   ],
   "source": [
    "df_orig.columns"
   ]
  },
  {
   "cell_type": "markdown",
   "id": "8170b8a4",
   "metadata": {},
   "source": [
    "Note: we will build an input dataset with 9 cameras to train the mlp model"
   ]
  },
  {
   "cell_type": "code",
   "execution_count": 13,
   "id": "654bfd8f",
   "metadata": {},
   "outputs": [
    {
     "name": "stdout",
     "output_type": "stream",
     "text": [
      "we are using 10 columns in our training dataset:\n",
      "Index(['anr', 'aa', 'af', 'ba', 'bf', 'ca', 'cf', 'da', 'df', 'rms'], dtype='object')\n"
     ]
    }
   ],
   "source": [
    "#- build dataset with 9 cameras\n",
    "excluce_columns = ['firstLat', 'firstLon', 'ang', 'anb', 'annir']\n",
    "input_ds_for_training = df_orig.drop(excluce_columns, axis=1)\n",
    "\n",
    "print('we are using %s columns in our training dataset:' %len(input_ds_for_training.columns))\n",
    "print(input_ds_for_training.columns)  # columns should be only 9 cameras + rms \n"
   ]
  },
  {
   "cell_type": "markdown",
   "id": "ba4b8050",
   "metadata": {},
   "source": [
    "## shuffle rows of input dataset"
   ]
  },
  {
   "cell_type": "code",
   "execution_count": 14,
   "id": "f7f0f96d",
   "metadata": {},
   "outputs": [],
   "source": [
    "from sklearn.utils import shuffle\n",
    "\n",
    "input_ds_for_training = shuffle(input_ds_for_training)"
   ]
  },
  {
   "cell_type": "markdown",
   "id": "9706d2b8",
   "metadata": {},
   "source": [
    "## Split dataset to train-test parts for training algorithms\n",
    "- we devided to plit our dataset to 2 parts (2-part split)\n",
    "- Here we use the ‘train_test_split’ to split the data in 80:20 ratio i.e. 80% of the data will be used for training the model while 20% will be used for testing the model that is built out of it.\n",
    "- note: last column should be label == rms"
   ]
  },
  {
   "cell_type": "code",
   "execution_count": 15,
   "id": "03d94ba4",
   "metadata": {},
   "outputs": [
    {
     "name": "stdout",
     "output_type": "stream",
     "text": [
      "(40775, 9)\n",
      "(40775, 1)\n"
     ]
    }
   ],
   "source": [
    "#- split data set to X and Y\n",
    "\n",
    "X = input_ds_for_training.iloc[:, :-1] # to select up to last column of dataset OR [:, 0:3]\n",
    "Y = input_ds_for_training.iloc[:, -1:] # to select last column of DF\n",
    "\n",
    "print(X.shape)\n",
    "print(Y.shape)"
   ]
  },
  {
   "cell_type": "code",
   "execution_count": 16,
   "id": "76e41811",
   "metadata": {},
   "outputs": [
    {
     "name": "stdout",
     "output_type": "stream",
     "text": [
      "test size= 30 percent\n",
      "train:\n",
      "(28542, 9)\n",
      "(28542, 1)\n",
      "test:\n",
      "(12233, 9)\n",
      "(12233, 1)\n"
     ]
    }
   ],
   "source": [
    "#- now split dataset to train-test\n",
    "\n",
    "from sklearn.model_selection import train_test_split\n",
    "\n",
    "#- we use this function to split data-- from here because we are usiong SKlearn library, we change all data structures from Pandas DF to numpy\n",
    "# X_train, X_test, y_train, y_test = train_test_split(X.to_numpy(), Y.to_numpy(), test_size=0.2, random_state=123) # Q- input is DF or numpy array?\n",
    "\n",
    "test_data_size = 0.3\n",
    "print(\"test size= %d percent\" %(test_data_size*100))\n",
    "x_train, x_test, y_train, y_test = train_test_split(X, Y, test_size=test_data_size, random_state=123) # Q- input is DF or numpy array?\n",
    "\n",
    "\n",
    "print(\"train:\")\n",
    "print(x_train.shape)\n",
    "print(y_train.shape)\n",
    "\n",
    "print(\"test:\")\n",
    "print(x_test.shape)\n",
    "print(y_test.shape)\n"
   ]
  },
  {
   "cell_type": "code",
   "execution_count": 17,
   "id": "93fe1453",
   "metadata": {},
   "outputs": [],
   "source": [
    "# x_test"
   ]
  },
  {
   "cell_type": "markdown",
   "id": "f11ba85e",
   "metadata": {},
   "source": [
    "## >>> Linear regression >>>"
   ]
  },
  {
   "cell_type": "code",
   "execution_count": 18,
   "id": "b72075a3",
   "metadata": {},
   "outputs": [],
   "source": [
    "# from sklearn.linear_model import LinearRegression\n",
    "# from sklearn.metrics import r2_score\n",
    "\n",
    "# # Create linear regression object \n",
    "# mlr_model = LinearRegression() # create an estimator obj\n",
    "# ##- Train the model using the training sets- here we use X_train(3 features)\n",
    "# mlr_model.fit(x_train, y_train) # fit(X,y) will fit data to our algortihm and makes it learn from data == training step\n",
    "\n",
    "\n",
    "# # Predict using the linear model- on specific block data- on transect data\n",
    "# x_test = 'open 3 MISR cameras that create transect block, create x_test dataset from 3 cameras (an, ca, cf), and then make prediction '\n",
    "# y_pred_mlr = mlr_model.predict(x_test)\n",
    "\n",
    "\n",
    "# r2_model = r2_score(y_test, y_pred_mlr)\n",
    "# print('R2: %s' %round(r2_model,2))\n",
    "\n",
    "# print('Test RMSE: %.2f' %math.sqrt(mean_squared_error(y_test, y_pred_mlr))) # square root of MSE.\n",
    "\n",
    "# ############ scatter plot #####\n",
    "# fig, ax = plt.subplots()\n",
    "# ax.scatter(y_test, y_pred_mlr)\n",
    "\n",
    "# # ax.plot([y_actual.min(), y_actual.max()], [y_predicted.min(), y_predicted.max()], 'k--', lw=4)\n",
    "# # ax.set_xlabel('Actual')\n",
    "# # ax.set_ylabel('Predicted')\n",
    "\n",
    "\n",
    "# ########### QQ plot ###########\n",
    "# import scipy.stats as stats\n",
    "\n",
    "# # residuals = y_test - y_pred_mlr\n",
    "# # residuals\n",
    "\n",
    "# # plt.figure(figsize=(7,7))\n",
    "# # stats.probplot(residuals, dist=\"norm\", plot=plt)\n",
    "# # plt.title(\"Normal Q-Q Plot\")\n",
    "    "
   ]
  },
  {
   "cell_type": "markdown",
   "id": "55b177d3",
   "metadata": {},
   "source": [
    "Qn- how about train-val-test (3 sections)? is this for DL?"
   ]
  },
  {
   "cell_type": "markdown",
   "id": "cb9b7538",
   "metadata": {},
   "source": [
    "## Feature scalling/ rescaling\n",
    "\n",
    "change the scale/range of input features from their original range to a new range. So changed features will have mean=0 and std=1.\n",
    "\n",
    "source: https://www.enjoyalgorithms.com/blog/need-of-feature-scaling-in-machine-learning\n",
    "\n",
    "- We rescale data after we split data to train-test\n",
    "- all features have the same range to reduce bias in data \n",
    "- perform this step before splitting data into train-test split\n",
    "- We normalize data using the training data\n",
    "\n",
    "Qn- why FS is important? why we do FS?\n",
    "\n",
    "Qn- which method? \n",
    "\n",
    "1) standardization/ Z-score/ StandardScaler() ==> rescale data to mean=0 & std=1; Standardize features by removing the mean and scaling to unit variance; good for datasets w/ outliers;\n",
    "\n",
    "2) MinMaxScalar() == Transform/rescale features by scaling each feature to a given range (usually [0,1])\n",
    "\n",
    "3) normalize() == Scale/rescale input vectors individually to unit norm (vector length).\n",
    "\n",
    "source: https://scikit-learn.org/stable/modules/classes.html#module-sklearn.preprocessing\n",
    "\n"
   ]
  },
  {
   "cell_type": "markdown",
   "id": "e71ebb65",
   "metadata": {},
   "source": [
    "### 1) Using MinMaxScaler() method to rescale input features"
   ]
  },
  {
   "cell_type": "code",
   "execution_count": 19,
   "id": "102b941b",
   "metadata": {},
   "outputs": [],
   "source": [
    "# #- import necessary libraries for Neural Nets\n",
    "# from sklearn.preprocessing import MinMaxScaler\n",
    "\n",
    "# #- fit data\n",
    "\n",
    "# scaler_x = MinMaxScaler()\n",
    "# scaler_y = MinMaxScaler()\n",
    "\n",
    "# scaler_x.fit(X_train) # returns Fitted scaler\n",
    "# X_train_scaled = scaler_x.transform(X_train)  # transforms data\n",
    "\n",
    "# scaler_x.fit(X_test)\n",
    "# X_test_scaled = scaler_x.transform(X_test)\n",
    "\n",
    "# scaler_y.fit(y_train)\n",
    "# y_train_scaled = scaler_y.transform(y_train)\n",
    "\n",
    "# scaler_y.fit(y_test)\n",
    "# y_test_scaled = scaler_y.transform(y_test)"
   ]
  },
  {
   "cell_type": "markdown",
   "id": "ca8d345c",
   "metadata": {},
   "source": [
    "### 2) Using StandardScaler() method \n",
    "\n",
    "Rescale input features to mean=0 and std=1"
   ]
  },
  {
   "cell_type": "code",
   "execution_count": 20,
   "id": "f1eae3b0",
   "metadata": {},
   "outputs": [],
   "source": [
    "from sklearn.preprocessing import StandardScaler\n",
    "\n",
    "scaler_x = StandardScaler()\n",
    "scaler_y = StandardScaler()\n",
    "\n",
    "x_train_scaled = scaler_x.fit(x_train).transform(x_train) # returns daata w/ mean 0 & std 1\n",
    "y_train_scaled = scaler_y.fit(y_train).transform(y_train)\n",
    "x_test_scaled = scaler_x.fit(x_test).transform(x_test)\n",
    "y_test_scaled = scaler_y.fit(y_test).transform(y_test)"
   ]
  },
  {
   "cell_type": "markdown",
   "id": "20410efa",
   "metadata": {},
   "source": [
    "Check types of input dataset data structure; should be 2D arrays, or Pandas DataFrame"
   ]
  },
  {
   "cell_type": "code",
   "execution_count": 21,
   "id": "5083172b",
   "metadata": {},
   "outputs": [
    {
     "name": "stdout",
     "output_type": "stream",
     "text": [
      "<class 'numpy.ndarray'>\n",
      "-1.2126454400813924e-16\n",
      "0.8819171036881966\n",
      "7.617758991752177e-17\n",
      "1.0\n",
      "-4.040071505906816e-17\n",
      "0.8819171036881968\n",
      "3.8219334597412404e-16\n",
      "1.0\n"
     ]
    }
   ],
   "source": [
    "print(type(x_train_scaled))\n",
    "# print(type(y_train_scaled))\n",
    "# print(type(x_test_scaled))\n",
    "# print(type(y_test_scaled))\n",
    "\n",
    "print(x_train_scaled.mean())\n",
    "print(x_train_scaled.std())\n",
    "print(y_train_scaled.mean())\n",
    "print(y_train_scaled.std())\n",
    "print(x_test_scaled.mean())\n",
    "print(x_test_scaled.std())\n",
    "print(y_test_scaled.mean())\n",
    "print(y_test_scaled.std())"
   ]
  },
  {
   "cell_type": "code",
   "execution_count": 22,
   "id": "e2db9f92",
   "metadata": {},
   "outputs": [
    {
     "data": {
      "text/plain": [
       "(28542, 9)"
      ]
     },
     "execution_count": 22,
     "metadata": {},
     "output_type": "execute_result"
    }
   ],
   "source": [
    "x_train_scaled.shape"
   ]
  },
  {
   "cell_type": "markdown",
   "id": "e5aa2e9d",
   "metadata": {},
   "source": [
    "## >>> Neural Network (Regression) >>>"
   ]
  },
  {
   "cell_type": "markdown",
   "id": "18088f76",
   "metadata": {},
   "source": [
    "### Building the NN model\n",
    "Q- how find the best architecture? for mlp? \n",
    "\n",
    "let's do a architecture search\n",
    "\n",
    "source: https://towardsdatascience.com/how-to-find-optimal-neural-network-architecture-with-tensorflow-the-easy-way-50575a03d060"
   ]
  },
  {
   "cell_type": "code",
   "execution_count": 23,
   "id": "bd212990",
   "metadata": {},
   "outputs": [],
   "source": [
    "def get_models(num_layers: int,\n",
    "               min_nodes_per_layer: int,\n",
    "               max_nodes_per_layer: int,\n",
    "               node_step_size: int,\n",
    "               input_shape: tuple,\n",
    "               hidden_layer_activation: str = 'relu',\n",
    "               num_nodes_at_output: int = 1,\n",
    "               output_layer_activation: str = 'linear') -> list:   \n",
    "        \n",
    "        # https://stackoverflow.com/questions/14379753/what-does-mean-in-python-function-definitions\n",
    "        # allowing you to attach metadata to functions, describe their parameters (their expected types) and return values\n",
    "    \n",
    "    # creates a list from nodes that we have defined [min, max, step]\n",
    "    node_options = list(range(min_nodes_per_layer, \n",
    "                              max_nodes_per_layer + 1, \n",
    "                              node_step_size))\n",
    "    \n",
    "    # make a collection of sets of nodes for each hidden layer\n",
    "    layer_possibilities = [node_options] * num_layers\n",
    "    layer_node_permutations = list(itertools.product(*layer_possibilities))\n",
    "#     print('permutations:')\n",
    "#     print(layer_node_permutations)\n",
    "    \n",
    "    models = []\n",
    "    for permutation in layer_node_permutations:\n",
    "        \n",
    "        # setup input layer\n",
    "        model = tf.keras.Sequential()\n",
    "        model.add(tf.keras.layers.InputLayer(input_shape=input_shape, name=\"input-layer\"))\n",
    "        model_name = ''\n",
    "        \n",
    "        # setup hidden layers\n",
    "        for nodes_at_layer in permutation:\n",
    "            model.add(tf.keras.layers.Dense(nodes_at_layer, activation=hidden_layer_activation))\n",
    "            model_name += 'dense_'+str(nodes_at_layer)+'_'\n",
    "\n",
    "        # setup output layer\n",
    "        model.add(tf.keras.layers.Dense(num_nodes_at_output, activation=output_layer_activation, name=\"output-layer-SIR\"))\n",
    "        model._name = model_name[:-1]\n",
    "        models.append(model)\n",
    "        \n",
    "    return models"
   ]
  },
  {
   "cell_type": "code",
   "execution_count": 24,
   "id": "03eec5d0",
   "metadata": {},
   "outputs": [],
   "source": [
    "def optimize(models: list,\n",
    "             X_train: np.array,\n",
    "             y_train: np.array,\n",
    "             X_test: np.array,\n",
    "             y_test: np.array,\n",
    "             epochs: int,\n",
    "             batch_size: int, \n",
    "             validation_split: float,\n",
    "             verbose: int = 0) -> pd.DataFrame:\n",
    "    \n",
    "    # We will store the results in this list\n",
    "    results = []\n",
    "    def train(model: tf.keras.Sequential) -> dict:\n",
    "        \n",
    "        adam_lrt = 0.001\n",
    "        opt_alg = tf.keras.optimizers.Adam(\n",
    "                    learning_rate=adam_lrt,   # then everu step * 10 to get to 10\n",
    "                    beta_1=0.9,\n",
    "                    beta_2=0.999,\n",
    "                    epsilon=1e-07,\n",
    "                    amsgrad=False,\n",
    "                    name='Adam'\n",
    "        )\n",
    "        \n",
    "        # Compile each model\n",
    "        model.compile(\n",
    "            loss='mse', \n",
    "            optimizer=opt_alg, \n",
    "            metrics=['mse','mae']\n",
    "        )\n",
    "\n",
    "        # Train the model/ fit alg. to dataset\n",
    "        model.fit(\n",
    "            X_train,\n",
    "            y_train,\n",
    "            epochs=epochs,\n",
    "            verbose=verbose,\n",
    "            batch_size=batch_size,\n",
    "            validation_split=validation_split\n",
    "            \n",
    "        )\n",
    "        \n",
    "\n",
    "        # Make predictions on the test set\n",
    "        y_pred_scaled = model.predict(X_test, verbose=verbose)  # Generates output predictions for the input samples\n",
    "        # inverse y-pred to original scale\n",
    "        y_pred = scaler_y.inverse_transform(y_pred_scaled)\n",
    "        # compare y & y-hat in original scale\n",
    "        rmse_pred_test = math.sqrt(mean_squared_error(y_test, y_pred))\n",
    "        \n",
    "##########################################       \n",
    "#         # Evaluation on test data\n",
    "#         preds = model.evaluate(\n",
    "#             X_test, \n",
    "#             y_test, \n",
    "#             batch_size=20, \n",
    "#             verbose=0) # Returns the loss value & metrics values for the model in test mode\n",
    "#         print('return of evaluate(.)')\n",
    "#         print(preds)\n",
    "#         mse_test = preds[1]\n",
    "#         mae_test = preds[2]\n",
    "##########################################         \n",
    "\n",
    "        # Return evaluation metrics on the test set\n",
    "        return {\n",
    "            'model_name': model.name,\n",
    "            #'test_rmse': math.sqrt(mse_test),\n",
    "            #'test_mae': mae_test,\n",
    "            'test_pred_rmse (cm)': round(rmse_pred_test, 1)\n",
    "        }\n",
    "\n",
    "    # Train every model and save results in the list above and tur it to DF\n",
    "    for model in models:\n",
    "        try:\n",
    "            print(model.name, end=' ... \\n')\n",
    "            res = train(model=model)\n",
    "            results.append(res)\n",
    "        except Exception as e:\n",
    "            print(f'{model.name} --> {str(e)}') # how change to nornal print?\n",
    "        \n",
    "    return pd.DataFrame(results)"
   ]
  },
  {
   "cell_type": "markdown",
   "id": "de6538bb",
   "metadata": {},
   "source": [
    "## Building all models\n",
    "\n",
    "iterate with different hidden layers + iterate over several node options in one single hidden layer"
   ]
  },
  {
   "cell_type": "code",
   "execution_count": 25,
   "id": "168f3145",
   "metadata": {},
   "outputs": [],
   "source": [
    "# num_layers = 6\n",
    "\n",
    "# all_models = get_models(\n",
    "#     num_layers=num_layers, \n",
    "#     min_nodes_per_layer=9, \n",
    "#     max_nodes_per_layer=27, \n",
    "#     node_step_size=9, \n",
    "#     input_shape=(9,) # should be tuple\n",
    "# )"
   ]
  },
  {
   "cell_type": "code",
   "execution_count": 26,
   "id": "2459dbb7",
   "metadata": {},
   "outputs": [],
   "source": [
    "# all_models[0].summary()"
   ]
  },
  {
   "cell_type": "markdown",
   "id": "011a863e",
   "metadata": {},
   "source": [
    "## Running the optimization"
   ]
  },
  {
   "cell_type": "code",
   "execution_count": 27,
   "id": "fbd1bbc2",
   "metadata": {},
   "outputs": [],
   "source": [
    "# optimization_results = optimize(\n",
    "#     models=all_models,\n",
    "#     X_train=x_train_scaled,\n",
    "#     y_train=y_train_scaled,\n",
    "#     X_test=x_test_scaled,\n",
    "#     y_test=y_test,\n",
    "#     epochs=50,\n",
    "#     batch_size=100,\n",
    "#     validation_split=0.2\n",
    "# )"
   ]
  },
  {
   "cell_type": "code",
   "execution_count": 28,
   "id": "971e78fb",
   "metadata": {},
   "outputs": [],
   "source": [
    "# optimization_results"
   ]
  },
  {
   "cell_type": "markdown",
   "id": "1b39927f",
   "metadata": {},
   "source": [
    "## write to disk"
   ]
  },
  {
   "cell_type": "code",
   "execution_count": 29,
   "id": "7559f7e7",
   "metadata": {},
   "outputs": [],
   "source": [
    "# output_dir = dataset_dir\n",
    "# output_file = 'mlp_search_results_num_layers_'+str(num_layers)+'.csv'\n",
    "# output_fp = os.path.join(output_dir, output_file)\n",
    "# optimization_results.to_csv(output_fp, index=False)\n",
    "# output_fp"
   ]
  },
  {
   "cell_type": "markdown",
   "id": "f0642131",
   "metadata": {},
   "source": [
    "# >>> run DNN again for one run >>>"
   ]
  },
  {
   "cell_type": "markdown",
   "id": "abfcf4b8",
   "metadata": {},
   "source": [
    "## build/setup layers"
   ]
  },
  {
   "cell_type": "code",
   "execution_count": 30,
   "id": "6ed4a80c",
   "metadata": {},
   "outputs": [],
   "source": [
    "def build_model(input_shape: int,\n",
    "                hidden_layers_nodes: list,                \n",
    "                hidden_layer_activation: str = 'relu',\n",
    "                num_nodes_at_output: int = 1,\n",
    "                output_layer_activation: str = 'linear'):\n",
    "        \n",
    "    # setup input layer\n",
    "    model = tf.keras.Sequential()\n",
    "    model.add(tf.keras.layers.InputLayer(input_shape=input_shape, name=\"input-layer\"))\n",
    "    model_name = ''\n",
    "\n",
    "    # setup hidden layers\n",
    "    for nodes_at_layer in hidden_layers_nodes:\n",
    "        model.add(tf.keras.layers.Dense(nodes_at_layer, activation=hidden_layer_activation))\n",
    "        model_name += 'dense_'+str(nodes_at_layer)+'_'\n",
    "\n",
    "    # setup output layer\n",
    "    model.add(tf.keras.layers.Dense(num_nodes_at_output, activation=output_layer_activation, name=\"output-layer-SIR\"))\n",
    "    model._name = model_name[:-1]\n",
    "    \n",
    "    return model \n"
   ]
  },
  {
   "cell_type": "code",
   "execution_count": 31,
   "id": "c81eb164",
   "metadata": {},
   "outputs": [
    {
     "name": "stderr",
     "output_type": "stream",
     "text": [
      "2022-06-14 17:25:34.295351: I tensorflow/core/platform/cpu_feature_guard.cc:193] This TensorFlow binary is optimized with oneAPI Deep Neural Network Library (oneDNN) to use the following CPU instructions in performance-critical operations:  AVX2 FMA\n",
      "To enable them in other operations, rebuild TensorFlow with the appropriate compiler flags.\n"
     ]
    },
    {
     "data": {
      "text/plain": [
       "<keras.engine.sequential.Sequential at 0x7fdcf037e190>"
      ]
     },
     "execution_count": 31,
     "metadata": {},
     "output_type": "execute_result"
    }
   ],
   "source": [
    "layers_node_list = [18,27,36,27,18]\n",
    "built_model = build_model(input_shape = 9, \n",
    "                        hidden_layers_nodes = layers_node_list)\n",
    "\n",
    "built_model"
   ]
  },
  {
   "cell_type": "markdown",
   "id": "eea149b1",
   "metadata": {},
   "source": [
    "## compile DNN model"
   ]
  },
  {
   "cell_type": "code",
   "execution_count": 32,
   "id": "5ab48977",
   "metadata": {},
   "outputs": [
    {
     "name": "stdout",
     "output_type": "stream",
     "text": [
      "Model: \"dense_18_dense_27_dense_36_dense_27_dense_18\"\n",
      "_________________________________________________________________\n",
      " Layer (type)                Output Shape              Param #   \n",
      "=================================================================\n",
      " dense (Dense)               (None, 18)                180       \n",
      "                                                                 \n",
      " dense_1 (Dense)             (None, 27)                513       \n",
      "                                                                 \n",
      " dense_2 (Dense)             (None, 36)                1008      \n",
      "                                                                 \n",
      " dense_3 (Dense)             (None, 27)                999       \n",
      "                                                                 \n",
      " dense_4 (Dense)             (None, 18)                504       \n",
      "                                                                 \n",
      " output-layer-SIR (Dense)    (None, 1)                 19        \n",
      "                                                                 \n",
      "=================================================================\n",
      "Total params: 3,223\n",
      "Trainable params: 3,223\n",
      "Non-trainable params: 0\n",
      "_________________________________________________________________\n"
     ]
    }
   ],
   "source": [
    "adam_lrt = 0.001\n",
    "opt_alg = tf.keras.optimizers.Adam(\n",
    "            learning_rate=adam_lrt,   # then everu step * 10 to get to 10\n",
    "            beta_1=0.9,\n",
    "            beta_2=0.999,\n",
    "            epsilon=1e-07,\n",
    "            amsgrad=False,\n",
    "            name='Adam'\n",
    ")\n",
    "\n",
    "# Compile each model\n",
    "built_model.compile(\n",
    "    loss='mse', \n",
    "    optimizer=opt_alg, \n",
    "    metrics=['mse','mae']\n",
    ")\n",
    "\n",
    "built_model.summary()"
   ]
  },
  {
   "cell_type": "markdown",
   "id": "0f6d8426",
   "metadata": {},
   "source": [
    "## train our model/ fit algorithm to train dataset"
   ]
  },
  {
   "cell_type": "code",
   "execution_count": 33,
   "id": "d6516ec4",
   "metadata": {},
   "outputs": [
    {
     "name": "stdout",
     "output_type": "stream",
     "text": [
      "Epoch 1/200\n",
      "229/229 [==============================] - 1s 2ms/step - loss: 0.9320 - mse: 0.9320 - mae: 0.7402 - val_loss: 0.8162 - val_mse: 0.8162 - val_mae: 0.6782\n",
      "Epoch 2/200\n",
      "229/229 [==============================] - 0s 1ms/step - loss: 0.8516 - mse: 0.8516 - mae: 0.6981 - val_loss: 0.8176 - val_mse: 0.8176 - val_mae: 0.7025\n",
      "Epoch 3/200\n",
      "229/229 [==============================] - 0s 1ms/step - loss: 0.8313 - mse: 0.8313 - mae: 0.6874 - val_loss: 0.7785 - val_mse: 0.7785 - val_mae: 0.6766\n",
      "Epoch 4/200\n",
      "229/229 [==============================] - 0s 1ms/step - loss: 0.8205 - mse: 0.8205 - mae: 0.6796 - val_loss: 0.7826 - val_mse: 0.7826 - val_mae: 0.6941\n",
      "Epoch 5/200\n",
      "229/229 [==============================] - 0s 1ms/step - loss: 0.8054 - mse: 0.8054 - mae: 0.6722 - val_loss: 0.7588 - val_mse: 0.7588 - val_mae: 0.6495\n",
      "Epoch 6/200\n",
      "229/229 [==============================] - 0s 1ms/step - loss: 0.7978 - mse: 0.7978 - mae: 0.6668 - val_loss: 0.7523 - val_mse: 0.7523 - val_mae: 0.6525\n",
      "Epoch 7/200\n",
      "229/229 [==============================] - 0s 1ms/step - loss: 0.7927 - mse: 0.7927 - mae: 0.6648 - val_loss: 0.7521 - val_mse: 0.7521 - val_mae: 0.6452\n",
      "Epoch 8/200\n",
      "229/229 [==============================] - 0s 1ms/step - loss: 0.7918 - mse: 0.7918 - mae: 0.6630 - val_loss: 0.7557 - val_mse: 0.7557 - val_mae: 0.6467\n",
      "Epoch 9/200\n",
      "229/229 [==============================] - 0s 1ms/step - loss: 0.7917 - mse: 0.7917 - mae: 0.6618 - val_loss: 0.7557 - val_mse: 0.7557 - val_mae: 0.6261\n",
      "Epoch 10/200\n",
      "229/229 [==============================] - 0s 1ms/step - loss: 0.7829 - mse: 0.7829 - mae: 0.6571 - val_loss: 0.7528 - val_mse: 0.7528 - val_mae: 0.6659\n",
      "Epoch 11/200\n",
      "229/229 [==============================] - 0s 1ms/step - loss: 0.7769 - mse: 0.7769 - mae: 0.6543 - val_loss: 0.7428 - val_mse: 0.7428 - val_mae: 0.6423\n",
      "Epoch 12/200\n",
      "229/229 [==============================] - 0s 1ms/step - loss: 0.7787 - mse: 0.7787 - mae: 0.6557 - val_loss: 0.7395 - val_mse: 0.7395 - val_mae: 0.6379\n",
      "Epoch 13/200\n",
      "229/229 [==============================] - 0s 1ms/step - loss: 0.7777 - mse: 0.7777 - mae: 0.6531 - val_loss: 0.7382 - val_mse: 0.7382 - val_mae: 0.6331\n",
      "Epoch 14/200\n",
      "229/229 [==============================] - 0s 1ms/step - loss: 0.7734 - mse: 0.7734 - mae: 0.6518 - val_loss: 0.7486 - val_mse: 0.7486 - val_mae: 0.6617\n",
      "Epoch 15/200\n",
      "229/229 [==============================] - 0s 1ms/step - loss: 0.7641 - mse: 0.7641 - mae: 0.6461 - val_loss: 0.7333 - val_mse: 0.7333 - val_mae: 0.6369\n",
      "Epoch 16/200\n",
      "229/229 [==============================] - 0s 1ms/step - loss: 0.7651 - mse: 0.7651 - mae: 0.6473 - val_loss: 0.7376 - val_mse: 0.7376 - val_mae: 0.6582\n",
      "Epoch 17/200\n",
      "229/229 [==============================] - 0s 1ms/step - loss: 0.7623 - mse: 0.7623 - mae: 0.6462 - val_loss: 0.7299 - val_mse: 0.7299 - val_mae: 0.6436\n",
      "Epoch 18/200\n",
      "229/229 [==============================] - 0s 2ms/step - loss: 0.7609 - mse: 0.7609 - mae: 0.6438 - val_loss: 0.7292 - val_mse: 0.7292 - val_mae: 0.6213\n",
      "Epoch 19/200\n",
      "229/229 [==============================] - 0s 2ms/step - loss: 0.7594 - mse: 0.7594 - mae: 0.6428 - val_loss: 0.7224 - val_mse: 0.7224 - val_mae: 0.6311\n",
      "Epoch 20/200\n",
      "229/229 [==============================] - 0s 1ms/step - loss: 0.7545 - mse: 0.7545 - mae: 0.6418 - val_loss: 0.7163 - val_mse: 0.7163 - val_mae: 0.6350\n",
      "Epoch 21/200\n",
      "229/229 [==============================] - 0s 1ms/step - loss: 0.7564 - mse: 0.7564 - mae: 0.6427 - val_loss: 0.7202 - val_mse: 0.7202 - val_mae: 0.6242\n",
      "Epoch 22/200\n",
      "229/229 [==============================] - 0s 2ms/step - loss: 0.7468 - mse: 0.7468 - mae: 0.6372 - val_loss: 0.7349 - val_mse: 0.7349 - val_mae: 0.6089\n",
      "Epoch 23/200\n",
      "229/229 [==============================] - 0s 1ms/step - loss: 0.7466 - mse: 0.7466 - mae: 0.6366 - val_loss: 0.7247 - val_mse: 0.7247 - val_mae: 0.6453\n",
      "Epoch 24/200\n",
      "229/229 [==============================] - 0s 1ms/step - loss: 0.7481 - mse: 0.7481 - mae: 0.6373 - val_loss: 0.7249 - val_mse: 0.7249 - val_mae: 0.6532\n",
      "Epoch 25/200\n",
      "229/229 [==============================] - 0s 1ms/step - loss: 0.7438 - mse: 0.7438 - mae: 0.6356 - val_loss: 0.7166 - val_mse: 0.7166 - val_mae: 0.6400\n",
      "Epoch 26/200\n",
      "229/229 [==============================] - 0s 1ms/step - loss: 0.7390 - mse: 0.7390 - mae: 0.6336 - val_loss: 0.7138 - val_mse: 0.7138 - val_mae: 0.6156\n",
      "Epoch 27/200\n",
      "229/229 [==============================] - 0s 1ms/step - loss: 0.7386 - mse: 0.7386 - mae: 0.6319 - val_loss: 0.7312 - val_mse: 0.7312 - val_mae: 0.6630\n",
      "Epoch 28/200\n",
      "229/229 [==============================] - 0s 1ms/step - loss: 0.7396 - mse: 0.7396 - mae: 0.6329 - val_loss: 0.7163 - val_mse: 0.7163 - val_mae: 0.6379\n",
      "Epoch 29/200\n",
      "229/229 [==============================] - 0s 1ms/step - loss: 0.7349 - mse: 0.7349 - mae: 0.6317 - val_loss: 0.7113 - val_mse: 0.7113 - val_mae: 0.6057\n",
      "Epoch 30/200\n",
      "229/229 [==============================] - 0s 1ms/step - loss: 0.7334 - mse: 0.7334 - mae: 0.6296 - val_loss: 0.7096 - val_mse: 0.7096 - val_mae: 0.6371\n",
      "Epoch 31/200\n",
      "229/229 [==============================] - 0s 1ms/step - loss: 0.7311 - mse: 0.7311 - mae: 0.6299 - val_loss: 0.6980 - val_mse: 0.6980 - val_mae: 0.6101\n",
      "Epoch 32/200\n",
      "229/229 [==============================] - 0s 1ms/step - loss: 0.7312 - mse: 0.7312 - mae: 0.6286 - val_loss: 0.7130 - val_mse: 0.7130 - val_mae: 0.6103\n",
      "Epoch 33/200\n",
      "229/229 [==============================] - 0s 1ms/step - loss: 0.7272 - mse: 0.7272 - mae: 0.6261 - val_loss: 0.7039 - val_mse: 0.7039 - val_mae: 0.6373\n",
      "Epoch 34/200\n",
      "229/229 [==============================] - 0s 1ms/step - loss: 0.7293 - mse: 0.7293 - mae: 0.6277 - val_loss: 0.6966 - val_mse: 0.6966 - val_mae: 0.6155\n",
      "Epoch 35/200\n",
      "229/229 [==============================] - 0s 1ms/step - loss: 0.7214 - mse: 0.7214 - mae: 0.6235 - val_loss: 0.6959 - val_mse: 0.6959 - val_mae: 0.6174\n",
      "Epoch 36/200\n",
      "229/229 [==============================] - 0s 1ms/step - loss: 0.7193 - mse: 0.7193 - mae: 0.6220 - val_loss: 0.7075 - val_mse: 0.7075 - val_mae: 0.6422\n",
      "Epoch 37/200\n",
      "229/229 [==============================] - 0s 1ms/step - loss: 0.7186 - mse: 0.7186 - mae: 0.6222 - val_loss: 0.7224 - val_mse: 0.7224 - val_mae: 0.6499\n",
      "Epoch 38/200\n",
      "229/229 [==============================] - 0s 1ms/step - loss: 0.7174 - mse: 0.7174 - mae: 0.6212 - val_loss: 0.6946 - val_mse: 0.6946 - val_mae: 0.6166\n",
      "Epoch 39/200\n",
      "229/229 [==============================] - 0s 1ms/step - loss: 0.7132 - mse: 0.7132 - mae: 0.6188 - val_loss: 0.7020 - val_mse: 0.7020 - val_mae: 0.6350\n",
      "Epoch 40/200\n",
      "229/229 [==============================] - 0s 1ms/step - loss: 0.7169 - mse: 0.7169 - mae: 0.6200 - val_loss: 0.6893 - val_mse: 0.6893 - val_mae: 0.6047\n",
      "Epoch 41/200\n",
      "229/229 [==============================] - 0s 1ms/step - loss: 0.7140 - mse: 0.7140 - mae: 0.6186 - val_loss: 0.6935 - val_mse: 0.6935 - val_mae: 0.6096\n",
      "Epoch 42/200\n",
      "229/229 [==============================] - 0s 1ms/step - loss: 0.7118 - mse: 0.7118 - mae: 0.6181 - val_loss: 0.6886 - val_mse: 0.6886 - val_mae: 0.5992\n",
      "Epoch 43/200\n",
      "229/229 [==============================] - 0s 1ms/step - loss: 0.7113 - mse: 0.7113 - mae: 0.6174 - val_loss: 0.6859 - val_mse: 0.6859 - val_mae: 0.6091\n",
      "Epoch 44/200\n",
      "229/229 [==============================] - 0s 1ms/step - loss: 0.7060 - mse: 0.7060 - mae: 0.6144 - val_loss: 0.6875 - val_mse: 0.6875 - val_mae: 0.6016\n",
      "Epoch 45/200\n",
      "229/229 [==============================] - 0s 1ms/step - loss: 0.7042 - mse: 0.7042 - mae: 0.6133 - val_loss: 0.6852 - val_mse: 0.6852 - val_mae: 0.6030\n",
      "Epoch 46/200\n",
      "229/229 [==============================] - 0s 1ms/step - loss: 0.7040 - mse: 0.7040 - mae: 0.6140 - val_loss: 0.6871 - val_mse: 0.6871 - val_mae: 0.6190\n",
      "Epoch 47/200\n",
      "229/229 [==============================] - 0s 1ms/step - loss: 0.7016 - mse: 0.7016 - mae: 0.6131 - val_loss: 0.6823 - val_mse: 0.6823 - val_mae: 0.6110\n",
      "Epoch 48/200\n",
      "229/229 [==============================] - 0s 1ms/step - loss: 0.7001 - mse: 0.7001 - mae: 0.6122 - val_loss: 0.6799 - val_mse: 0.6799 - val_mae: 0.6141\n",
      "Epoch 49/200\n",
      "229/229 [==============================] - 0s 1ms/step - loss: 0.6966 - mse: 0.6966 - mae: 0.6099 - val_loss: 0.6867 - val_mse: 0.6867 - val_mae: 0.6013\n",
      "Epoch 50/200\n",
      "229/229 [==============================] - 0s 1ms/step - loss: 0.7004 - mse: 0.7004 - mae: 0.6116 - val_loss: 0.7109 - val_mse: 0.7109 - val_mae: 0.6507\n",
      "Epoch 51/200\n",
      "229/229 [==============================] - 0s 1ms/step - loss: 0.6936 - mse: 0.6936 - mae: 0.6088 - val_loss: 0.6837 - val_mse: 0.6837 - val_mae: 0.6002\n",
      "Epoch 52/200\n",
      "229/229 [==============================] - 0s 1ms/step - loss: 0.6931 - mse: 0.6931 - mae: 0.6085 - val_loss: 0.6827 - val_mse: 0.6827 - val_mae: 0.6002\n",
      "Epoch 53/200\n",
      "229/229 [==============================] - 0s 1ms/step - loss: 0.6933 - mse: 0.6933 - mae: 0.6071 - val_loss: 0.6750 - val_mse: 0.6750 - val_mae: 0.6137\n",
      "Epoch 54/200\n",
      "229/229 [==============================] - 0s 1ms/step - loss: 0.6874 - mse: 0.6874 - mae: 0.6056 - val_loss: 0.7015 - val_mse: 0.7015 - val_mae: 0.6254\n",
      "Epoch 55/200\n",
      "229/229 [==============================] - 0s 1ms/step - loss: 0.6915 - mse: 0.6915 - mae: 0.6080 - val_loss: 0.6814 - val_mse: 0.6814 - val_mae: 0.6023\n",
      "Epoch 56/200\n",
      "229/229 [==============================] - 0s 1ms/step - loss: 0.6880 - mse: 0.6880 - mae: 0.6055 - val_loss: 0.6788 - val_mse: 0.6788 - val_mae: 0.6115\n",
      "Epoch 57/200\n",
      "229/229 [==============================] - 0s 1ms/step - loss: 0.6903 - mse: 0.6903 - mae: 0.6061 - val_loss: 0.6731 - val_mse: 0.6731 - val_mae: 0.6012\n",
      "Epoch 58/200\n",
      "229/229 [==============================] - 0s 1ms/step - loss: 0.6829 - mse: 0.6829 - mae: 0.6028 - val_loss: 0.6716 - val_mse: 0.6716 - val_mae: 0.6041\n",
      "Epoch 59/200\n",
      "229/229 [==============================] - 0s 1ms/step - loss: 0.6830 - mse: 0.6830 - mae: 0.6024 - val_loss: 0.6743 - val_mse: 0.6743 - val_mae: 0.5920\n",
      "Epoch 60/200\n",
      "229/229 [==============================] - 0s 1ms/step - loss: 0.6845 - mse: 0.6845 - mae: 0.6037 - val_loss: 0.6928 - val_mse: 0.6928 - val_mae: 0.6229\n",
      "Epoch 61/200\n",
      "229/229 [==============================] - 0s 1ms/step - loss: 0.6810 - mse: 0.6810 - mae: 0.6013 - val_loss: 0.6720 - val_mse: 0.6720 - val_mae: 0.6055\n",
      "Epoch 62/200\n",
      "229/229 [==============================] - 0s 1ms/step - loss: 0.6794 - mse: 0.6794 - mae: 0.6006 - val_loss: 0.6685 - val_mse: 0.6685 - val_mae: 0.5952\n",
      "Epoch 63/200\n",
      "229/229 [==============================] - 0s 1ms/step - loss: 0.6817 - mse: 0.6817 - mae: 0.6013 - val_loss: 0.6746 - val_mse: 0.6746 - val_mae: 0.6019\n",
      "Epoch 64/200\n",
      "229/229 [==============================] - 0s 1ms/step - loss: 0.6788 - mse: 0.6788 - mae: 0.5992 - val_loss: 0.6700 - val_mse: 0.6700 - val_mae: 0.6021\n",
      "Epoch 65/200\n",
      "229/229 [==============================] - 0s 1ms/step - loss: 0.6799 - mse: 0.6799 - mae: 0.6010 - val_loss: 0.6708 - val_mse: 0.6708 - val_mae: 0.5850\n",
      "Epoch 66/200\n",
      "229/229 [==============================] - 0s 1ms/step - loss: 0.6746 - mse: 0.6746 - mae: 0.5970 - val_loss: 0.6905 - val_mse: 0.6905 - val_mae: 0.6304\n",
      "Epoch 67/200\n",
      "229/229 [==============================] - 0s 1ms/step - loss: 0.6776 - mse: 0.6776 - mae: 0.5996 - val_loss: 0.6800 - val_mse: 0.6800 - val_mae: 0.6217\n",
      "Epoch 68/200\n",
      "229/229 [==============================] - 0s 1ms/step - loss: 0.6811 - mse: 0.6811 - mae: 0.6009 - val_loss: 0.6791 - val_mse: 0.6791 - val_mae: 0.6037\n",
      "Epoch 69/200\n",
      "229/229 [==============================] - 0s 1ms/step - loss: 0.6723 - mse: 0.6723 - mae: 0.5966 - val_loss: 0.6664 - val_mse: 0.6664 - val_mae: 0.6066\n",
      "Epoch 70/200\n",
      "229/229 [==============================] - 0s 1ms/step - loss: 0.6700 - mse: 0.6700 - mae: 0.5956 - val_loss: 0.6815 - val_mse: 0.6815 - val_mae: 0.6146\n",
      "Epoch 71/200\n",
      "229/229 [==============================] - 0s 1ms/step - loss: 0.6729 - mse: 0.6729 - mae: 0.5977 - val_loss: 0.6695 - val_mse: 0.6695 - val_mae: 0.6038\n",
      "Epoch 72/200\n",
      "229/229 [==============================] - 0s 1ms/step - loss: 0.6709 - mse: 0.6709 - mae: 0.5966 - val_loss: 0.6761 - val_mse: 0.6761 - val_mae: 0.6055\n",
      "Epoch 73/200\n",
      "229/229 [==============================] - 0s 1ms/step - loss: 0.6685 - mse: 0.6685 - mae: 0.5948 - val_loss: 0.6687 - val_mse: 0.6687 - val_mae: 0.5952\n",
      "Epoch 74/200\n",
      "229/229 [==============================] - 0s 1ms/step - loss: 0.6682 - mse: 0.6682 - mae: 0.5938 - val_loss: 0.6707 - val_mse: 0.6707 - val_mae: 0.6065\n",
      "Epoch 75/200\n",
      "229/229 [==============================] - 0s 1ms/step - loss: 0.6643 - mse: 0.6643 - mae: 0.5923 - val_loss: 0.6684 - val_mse: 0.6684 - val_mae: 0.5835\n",
      "Epoch 76/200\n",
      "229/229 [==============================] - 0s 1ms/step - loss: 0.6631 - mse: 0.6631 - mae: 0.5927 - val_loss: 0.6736 - val_mse: 0.6736 - val_mae: 0.5820\n",
      "Epoch 77/200\n",
      "229/229 [==============================] - 0s 1ms/step - loss: 0.6653 - mse: 0.6653 - mae: 0.5925 - val_loss: 0.6778 - val_mse: 0.6778 - val_mae: 0.5935\n",
      "Epoch 78/200\n",
      "229/229 [==============================] - 0s 1ms/step - loss: 0.6710 - mse: 0.6710 - mae: 0.5963 - val_loss: 0.6588 - val_mse: 0.6588 - val_mae: 0.5882\n",
      "Epoch 79/200\n",
      "229/229 [==============================] - 0s 1ms/step - loss: 0.6641 - mse: 0.6641 - mae: 0.5928 - val_loss: 0.6706 - val_mse: 0.6706 - val_mae: 0.5991\n",
      "Epoch 80/200\n",
      "229/229 [==============================] - 0s 1ms/step - loss: 0.6642 - mse: 0.6642 - mae: 0.5922 - val_loss: 0.6577 - val_mse: 0.6577 - val_mae: 0.5829\n",
      "Epoch 81/200\n",
      "229/229 [==============================] - 0s 1ms/step - loss: 0.6580 - mse: 0.6580 - mae: 0.5902 - val_loss: 0.6655 - val_mse: 0.6655 - val_mae: 0.5819\n",
      "Epoch 82/200\n",
      "229/229 [==============================] - 0s 1ms/step - loss: 0.6620 - mse: 0.6620 - mae: 0.5901 - val_loss: 0.6713 - val_mse: 0.6713 - val_mae: 0.6105\n",
      "Epoch 83/200\n",
      "229/229 [==============================] - 0s 1ms/step - loss: 0.6600 - mse: 0.6600 - mae: 0.5907 - val_loss: 0.6643 - val_mse: 0.6643 - val_mae: 0.6073\n",
      "Epoch 84/200\n",
      "229/229 [==============================] - 0s 1ms/step - loss: 0.6608 - mse: 0.6608 - mae: 0.5913 - val_loss: 0.6725 - val_mse: 0.6725 - val_mae: 0.5956\n",
      "Epoch 85/200\n",
      "229/229 [==============================] - 0s 1ms/step - loss: 0.6622 - mse: 0.6622 - mae: 0.5918 - val_loss: 0.6710 - val_mse: 0.6710 - val_mae: 0.6140\n",
      "Epoch 86/200\n",
      "229/229 [==============================] - 0s 1ms/step - loss: 0.6572 - mse: 0.6572 - mae: 0.5897 - val_loss: 0.6564 - val_mse: 0.6564 - val_mae: 0.5896\n",
      "Epoch 87/200\n",
      "229/229 [==============================] - 0s 1ms/step - loss: 0.6564 - mse: 0.6564 - mae: 0.5880 - val_loss: 0.6874 - val_mse: 0.6874 - val_mae: 0.6226\n",
      "Epoch 88/200\n",
      "229/229 [==============================] - 0s 1ms/step - loss: 0.6582 - mse: 0.6582 - mae: 0.5892 - val_loss: 0.6671 - val_mse: 0.6671 - val_mae: 0.5841\n",
      "Epoch 89/200\n",
      "229/229 [==============================] - 0s 1ms/step - loss: 0.6536 - mse: 0.6536 - mae: 0.5867 - val_loss: 0.6781 - val_mse: 0.6781 - val_mae: 0.6126\n",
      "Epoch 90/200\n",
      "229/229 [==============================] - 0s 1ms/step - loss: 0.6540 - mse: 0.6540 - mae: 0.5874 - val_loss: 0.6587 - val_mse: 0.6587 - val_mae: 0.5979\n",
      "Epoch 91/200\n",
      "229/229 [==============================] - 0s 1ms/step - loss: 0.6515 - mse: 0.6515 - mae: 0.5859 - val_loss: 0.6652 - val_mse: 0.6652 - val_mae: 0.5926\n",
      "Epoch 92/200\n",
      "229/229 [==============================] - 0s 1ms/step - loss: 0.6543 - mse: 0.6543 - mae: 0.5871 - val_loss: 0.6660 - val_mse: 0.6660 - val_mae: 0.6080\n",
      "Epoch 93/200\n",
      "229/229 [==============================] - 0s 1ms/step - loss: 0.6562 - mse: 0.6562 - mae: 0.5880 - val_loss: 0.6661 - val_mse: 0.6661 - val_mae: 0.6003\n",
      "Epoch 94/200\n",
      "229/229 [==============================] - 0s 1ms/step - loss: 0.6514 - mse: 0.6514 - mae: 0.5859 - val_loss: 0.6722 - val_mse: 0.6722 - val_mae: 0.6028\n",
      "Epoch 95/200\n",
      "229/229 [==============================] - 0s 1ms/step - loss: 0.6559 - mse: 0.6559 - mae: 0.5889 - val_loss: 0.6615 - val_mse: 0.6615 - val_mae: 0.5966\n",
      "Epoch 96/200\n",
      "229/229 [==============================] - 0s 1ms/step - loss: 0.6504 - mse: 0.6504 - mae: 0.5847 - val_loss: 0.6760 - val_mse: 0.6760 - val_mae: 0.5999\n",
      "Epoch 97/200\n",
      "229/229 [==============================] - 0s 1ms/step - loss: 0.6470 - mse: 0.6470 - mae: 0.5844 - val_loss: 0.6613 - val_mse: 0.6613 - val_mae: 0.5911\n",
      "Epoch 98/200\n",
      "229/229 [==============================] - 0s 1ms/step - loss: 0.6525 - mse: 0.6525 - mae: 0.5863 - val_loss: 0.6570 - val_mse: 0.6570 - val_mae: 0.5848\n",
      "Epoch 99/200\n"
     ]
    },
    {
     "name": "stdout",
     "output_type": "stream",
     "text": [
      "229/229 [==============================] - 0s 1ms/step - loss: 0.6501 - mse: 0.6501 - mae: 0.5860 - val_loss: 0.6630 - val_mse: 0.6630 - val_mae: 0.5818\n",
      "Epoch 100/200\n",
      "229/229 [==============================] - 0s 1ms/step - loss: 0.6474 - mse: 0.6474 - mae: 0.5842 - val_loss: 0.6554 - val_mse: 0.6554 - val_mae: 0.5790\n",
      "Epoch 101/200\n",
      "229/229 [==============================] - 0s 1ms/step - loss: 0.6505 - mse: 0.6505 - mae: 0.5851 - val_loss: 0.6752 - val_mse: 0.6752 - val_mae: 0.6124\n",
      "Epoch 102/200\n",
      "229/229 [==============================] - 0s 1ms/step - loss: 0.6488 - mse: 0.6488 - mae: 0.5847 - val_loss: 0.6707 - val_mse: 0.6707 - val_mae: 0.5929\n",
      "Epoch 103/200\n",
      "229/229 [==============================] - 0s 1ms/step - loss: 0.6472 - mse: 0.6472 - mae: 0.5843 - val_loss: 0.6755 - val_mse: 0.6755 - val_mae: 0.6151\n",
      "Epoch 104/200\n",
      "229/229 [==============================] - 0s 1ms/step - loss: 0.6515 - mse: 0.6515 - mae: 0.5862 - val_loss: 0.6617 - val_mse: 0.6617 - val_mae: 0.5803\n",
      "Epoch 105/200\n",
      "229/229 [==============================] - 0s 1ms/step - loss: 0.6470 - mse: 0.6470 - mae: 0.5834 - val_loss: 0.6592 - val_mse: 0.6592 - val_mae: 0.5729\n",
      "Epoch 106/200\n",
      "229/229 [==============================] - 0s 1ms/step - loss: 0.6460 - mse: 0.6460 - mae: 0.5825 - val_loss: 0.6638 - val_mse: 0.6638 - val_mae: 0.5918\n",
      "Epoch 107/200\n",
      "229/229 [==============================] - 0s 1ms/step - loss: 0.6453 - mse: 0.6453 - mae: 0.5836 - val_loss: 0.6776 - val_mse: 0.6776 - val_mae: 0.6091\n",
      "Epoch 108/200\n",
      "229/229 [==============================] - 0s 1ms/step - loss: 0.6409 - mse: 0.6409 - mae: 0.5805 - val_loss: 0.6633 - val_mse: 0.6633 - val_mae: 0.5839\n",
      "Epoch 109/200\n",
      "229/229 [==============================] - 0s 1ms/step - loss: 0.6393 - mse: 0.6393 - mae: 0.5797 - val_loss: 0.6617 - val_mse: 0.6617 - val_mae: 0.5956\n",
      "Epoch 110/200\n",
      "229/229 [==============================] - 0s 1ms/step - loss: 0.6416 - mse: 0.6416 - mae: 0.5801 - val_loss: 0.6785 - val_mse: 0.6785 - val_mae: 0.6048\n",
      "Epoch 111/200\n",
      "229/229 [==============================] - 0s 1ms/step - loss: 0.6418 - mse: 0.6418 - mae: 0.5803 - val_loss: 0.6653 - val_mse: 0.6653 - val_mae: 0.6126\n",
      "Epoch 112/200\n",
      "229/229 [==============================] - 0s 1ms/step - loss: 0.6418 - mse: 0.6418 - mae: 0.5814 - val_loss: 0.6617 - val_mse: 0.6617 - val_mae: 0.5927\n",
      "Epoch 113/200\n",
      "229/229 [==============================] - 0s 1ms/step - loss: 0.6570 - mse: 0.6570 - mae: 0.5875 - val_loss: 0.6663 - val_mse: 0.6663 - val_mae: 0.6011\n",
      "Epoch 114/200\n",
      "229/229 [==============================] - 0s 1ms/step - loss: 0.6439 - mse: 0.6439 - mae: 0.5819 - val_loss: 0.6660 - val_mse: 0.6660 - val_mae: 0.5984\n",
      "Epoch 115/200\n",
      "229/229 [==============================] - 0s 1ms/step - loss: 0.6428 - mse: 0.6428 - mae: 0.5811 - val_loss: 0.6642 - val_mse: 0.6642 - val_mae: 0.6144\n",
      "Epoch 116/200\n",
      "229/229 [==============================] - 0s 1ms/step - loss: 0.6419 - mse: 0.6419 - mae: 0.5821 - val_loss: 0.6581 - val_mse: 0.6581 - val_mae: 0.5822\n",
      "Epoch 117/200\n",
      "229/229 [==============================] - 0s 1ms/step - loss: 0.6371 - mse: 0.6371 - mae: 0.5781 - val_loss: 0.6681 - val_mse: 0.6681 - val_mae: 0.6083\n",
      "Epoch 118/200\n",
      "229/229 [==============================] - 0s 1ms/step - loss: 0.6404 - mse: 0.6404 - mae: 0.5807 - val_loss: 0.6610 - val_mse: 0.6610 - val_mae: 0.5866\n",
      "Epoch 119/200\n",
      "229/229 [==============================] - 0s 1ms/step - loss: 0.6412 - mse: 0.6412 - mae: 0.5808 - val_loss: 0.6609 - val_mse: 0.6609 - val_mae: 0.5862\n",
      "Epoch 120/200\n",
      "229/229 [==============================] - 0s 1ms/step - loss: 0.6399 - mse: 0.6399 - mae: 0.5805 - val_loss: 0.6685 - val_mse: 0.6685 - val_mae: 0.5775\n",
      "Epoch 121/200\n",
      "229/229 [==============================] - 0s 1ms/step - loss: 0.6368 - mse: 0.6368 - mae: 0.5780 - val_loss: 0.6566 - val_mse: 0.6566 - val_mae: 0.5712\n",
      "Epoch 122/200\n",
      "229/229 [==============================] - 0s 1ms/step - loss: 0.6384 - mse: 0.6384 - mae: 0.5789 - val_loss: 0.6516 - val_mse: 0.6516 - val_mae: 0.5738\n",
      "Epoch 123/200\n",
      "229/229 [==============================] - 0s 1ms/step - loss: 0.6347 - mse: 0.6347 - mae: 0.5773 - val_loss: 0.6635 - val_mse: 0.6635 - val_mae: 0.6076\n",
      "Epoch 124/200\n",
      "229/229 [==============================] - 0s 1ms/step - loss: 0.6370 - mse: 0.6370 - mae: 0.5779 - val_loss: 0.6507 - val_mse: 0.6507 - val_mae: 0.5950\n",
      "Epoch 125/200\n",
      "229/229 [==============================] - 0s 1ms/step - loss: 0.6365 - mse: 0.6365 - mae: 0.5801 - val_loss: 0.6539 - val_mse: 0.6539 - val_mae: 0.5789\n",
      "Epoch 126/200\n",
      "229/229 [==============================] - 0s 1ms/step - loss: 0.6356 - mse: 0.6356 - mae: 0.5771 - val_loss: 0.6631 - val_mse: 0.6631 - val_mae: 0.6030\n",
      "Epoch 127/200\n",
      "229/229 [==============================] - 0s 1ms/step - loss: 0.6308 - mse: 0.6308 - mae: 0.5760 - val_loss: 0.6653 - val_mse: 0.6653 - val_mae: 0.5785\n",
      "Epoch 128/200\n",
      "229/229 [==============================] - 0s 1ms/step - loss: 0.6318 - mse: 0.6318 - mae: 0.5761 - val_loss: 0.6472 - val_mse: 0.6472 - val_mae: 0.5835\n",
      "Epoch 129/200\n",
      "229/229 [==============================] - 0s 1ms/step - loss: 0.6340 - mse: 0.6340 - mae: 0.5768 - val_loss: 0.6826 - val_mse: 0.6826 - val_mae: 0.6285\n",
      "Epoch 130/200\n",
      "229/229 [==============================] - 0s 1ms/step - loss: 0.6306 - mse: 0.6306 - mae: 0.5763 - val_loss: 0.6522 - val_mse: 0.6522 - val_mae: 0.5855\n",
      "Epoch 131/200\n",
      "229/229 [==============================] - 0s 1ms/step - loss: 0.6325 - mse: 0.6325 - mae: 0.5767 - val_loss: 0.6593 - val_mse: 0.6593 - val_mae: 0.5803\n",
      "Epoch 132/200\n",
      "229/229 [==============================] - 0s 1ms/step - loss: 0.6301 - mse: 0.6301 - mae: 0.5755 - val_loss: 0.6609 - val_mse: 0.6609 - val_mae: 0.5954\n",
      "Epoch 133/200\n",
      "229/229 [==============================] - 0s 1ms/step - loss: 0.6334 - mse: 0.6334 - mae: 0.5767 - val_loss: 0.6723 - val_mse: 0.6723 - val_mae: 0.6092\n",
      "Epoch 134/200\n",
      "229/229 [==============================] - 0s 1ms/step - loss: 0.6264 - mse: 0.6264 - mae: 0.5737 - val_loss: 0.6528 - val_mse: 0.6528 - val_mae: 0.5769\n",
      "Epoch 135/200\n",
      "229/229 [==============================] - 0s 1ms/step - loss: 0.6288 - mse: 0.6288 - mae: 0.5753 - val_loss: 0.6539 - val_mse: 0.6539 - val_mae: 0.5877\n",
      "Epoch 136/200\n",
      "229/229 [==============================] - 0s 1ms/step - loss: 0.6279 - mse: 0.6279 - mae: 0.5746 - val_loss: 0.6533 - val_mse: 0.6533 - val_mae: 0.5856\n",
      "Epoch 137/200\n",
      "229/229 [==============================] - 0s 1ms/step - loss: 0.6269 - mse: 0.6269 - mae: 0.5739 - val_loss: 0.6641 - val_mse: 0.6641 - val_mae: 0.5688\n",
      "Epoch 138/200\n",
      "229/229 [==============================] - 0s 1ms/step - loss: 0.6297 - mse: 0.6297 - mae: 0.5751 - val_loss: 0.6618 - val_mse: 0.6618 - val_mae: 0.6064\n",
      "Epoch 139/200\n",
      "229/229 [==============================] - 0s 1ms/step - loss: 0.6258 - mse: 0.6258 - mae: 0.5733 - val_loss: 0.6658 - val_mse: 0.6658 - val_mae: 0.5973\n",
      "Epoch 140/200\n",
      "229/229 [==============================] - 0s 1ms/step - loss: 0.6272 - mse: 0.6272 - mae: 0.5737 - val_loss: 0.6553 - val_mse: 0.6553 - val_mae: 0.5769\n",
      "Epoch 141/200\n",
      "229/229 [==============================] - 0s 1ms/step - loss: 0.6224 - mse: 0.6224 - mae: 0.5716 - val_loss: 0.6688 - val_mse: 0.6688 - val_mae: 0.5914\n",
      "Epoch 142/200\n",
      "229/229 [==============================] - 0s 1ms/step - loss: 0.6254 - mse: 0.6254 - mae: 0.5725 - val_loss: 0.6579 - val_mse: 0.6579 - val_mae: 0.5936\n",
      "Epoch 143/200\n",
      "229/229 [==============================] - 0s 1ms/step - loss: 0.6215 - mse: 0.6215 - mae: 0.5722 - val_loss: 0.6593 - val_mse: 0.6593 - val_mae: 0.5781\n",
      "Epoch 144/200\n",
      "229/229 [==============================] - 0s 1ms/step - loss: 0.6236 - mse: 0.6236 - mae: 0.5710 - val_loss: 0.6534 - val_mse: 0.6534 - val_mae: 0.5822\n",
      "Epoch 145/200\n",
      "229/229 [==============================] - 0s 1ms/step - loss: 0.6247 - mse: 0.6247 - mae: 0.5727 - val_loss: 0.6634 - val_mse: 0.6634 - val_mae: 0.6048\n",
      "Epoch 146/200\n",
      "229/229 [==============================] - 0s 1ms/step - loss: 0.6194 - mse: 0.6194 - mae: 0.5703 - val_loss: 0.6655 - val_mse: 0.6655 - val_mae: 0.5861\n",
      "Epoch 147/200\n",
      "229/229 [==============================] - 0s 1ms/step - loss: 0.6192 - mse: 0.6192 - mae: 0.5702 - val_loss: 0.6740 - val_mse: 0.6740 - val_mae: 0.6076\n",
      "Epoch 148/200\n",
      "229/229 [==============================] - 0s 1ms/step - loss: 0.6225 - mse: 0.6225 - mae: 0.5722 - val_loss: 0.6780 - val_mse: 0.6780 - val_mae: 0.6227\n",
      "Epoch 149/200\n",
      "229/229 [==============================] - 0s 1ms/step - loss: 0.6216 - mse: 0.6216 - mae: 0.5704 - val_loss: 0.6596 - val_mse: 0.6596 - val_mae: 0.5980\n",
      "Epoch 150/200\n",
      "229/229 [==============================] - 0s 1ms/step - loss: 0.6181 - mse: 0.6181 - mae: 0.5691 - val_loss: 0.6479 - val_mse: 0.6479 - val_mae: 0.5814\n",
      "Epoch 151/200\n",
      "229/229 [==============================] - 0s 1ms/step - loss: 0.6195 - mse: 0.6195 - mae: 0.5696 - val_loss: 0.6576 - val_mse: 0.6576 - val_mae: 0.5778\n",
      "Epoch 152/200\n",
      "229/229 [==============================] - 0s 1ms/step - loss: 0.6197 - mse: 0.6197 - mae: 0.5703 - val_loss: 0.6603 - val_mse: 0.6603 - val_mae: 0.6033\n",
      "Epoch 153/200\n",
      "229/229 [==============================] - 0s 1ms/step - loss: 0.6193 - mse: 0.6193 - mae: 0.5709 - val_loss: 0.6457 - val_mse: 0.6457 - val_mae: 0.5826\n",
      "Epoch 154/200\n",
      "229/229 [==============================] - 0s 1ms/step - loss: 0.6163 - mse: 0.6163 - mae: 0.5677 - val_loss: 0.6546 - val_mse: 0.6546 - val_mae: 0.5800\n",
      "Epoch 155/200\n",
      "229/229 [==============================] - 0s 1ms/step - loss: 0.6172 - mse: 0.6172 - mae: 0.5685 - val_loss: 0.6484 - val_mse: 0.6484 - val_mae: 0.5760\n",
      "Epoch 156/200\n",
      "229/229 [==============================] - 0s 1ms/step - loss: 0.6159 - mse: 0.6159 - mae: 0.5690 - val_loss: 0.6460 - val_mse: 0.6460 - val_mae: 0.5794\n",
      "Epoch 157/200\n",
      "229/229 [==============================] - 0s 1ms/step - loss: 0.6181 - mse: 0.6181 - mae: 0.5685 - val_loss: 0.6430 - val_mse: 0.6430 - val_mae: 0.5839\n",
      "Epoch 158/200\n",
      "229/229 [==============================] - 0s 1ms/step - loss: 0.6159 - mse: 0.6159 - mae: 0.5682 - val_loss: 0.6477 - val_mse: 0.6477 - val_mae: 0.5883\n",
      "Epoch 159/200\n",
      "229/229 [==============================] - 0s 1ms/step - loss: 0.6122 - mse: 0.6122 - mae: 0.5673 - val_loss: 0.6538 - val_mse: 0.6538 - val_mae: 0.5773\n",
      "Epoch 160/200\n",
      "229/229 [==============================] - 0s 1ms/step - loss: 0.6144 - mse: 0.6144 - mae: 0.5679 - val_loss: 0.6541 - val_mse: 0.6541 - val_mae: 0.5894\n",
      "Epoch 161/200\n",
      "229/229 [==============================] - 0s 1ms/step - loss: 0.6143 - mse: 0.6143 - mae: 0.5683 - val_loss: 0.6535 - val_mse: 0.6535 - val_mae: 0.5827\n",
      "Epoch 162/200\n",
      "229/229 [==============================] - 0s 1ms/step - loss: 0.6101 - mse: 0.6101 - mae: 0.5656 - val_loss: 0.6505 - val_mse: 0.6505 - val_mae: 0.5869\n",
      "Epoch 163/200\n",
      "229/229 [==============================] - 0s 1ms/step - loss: 0.6112 - mse: 0.6112 - mae: 0.5655 - val_loss: 0.6585 - val_mse: 0.6585 - val_mae: 0.6110\n",
      "Epoch 164/200\n",
      "229/229 [==============================] - 0s 1ms/step - loss: 0.6146 - mse: 0.6146 - mae: 0.5677 - val_loss: 0.6716 - val_mse: 0.6716 - val_mae: 0.6170\n",
      "Epoch 165/200\n",
      "229/229 [==============================] - 0s 1ms/step - loss: 0.6125 - mse: 0.6125 - mae: 0.5667 - val_loss: 0.6755 - val_mse: 0.6755 - val_mae: 0.6167\n",
      "Epoch 166/200\n",
      "229/229 [==============================] - 0s 1ms/step - loss: 0.6125 - mse: 0.6125 - mae: 0.5673 - val_loss: 0.6497 - val_mse: 0.6497 - val_mae: 0.5770\n",
      "Epoch 167/200\n",
      "229/229 [==============================] - 0s 1ms/step - loss: 0.6118 - mse: 0.6118 - mae: 0.5648 - val_loss: 0.6544 - val_mse: 0.6544 - val_mae: 0.5745\n",
      "Epoch 168/200\n",
      "229/229 [==============================] - 0s 1ms/step - loss: 0.6091 - mse: 0.6091 - mae: 0.5659 - val_loss: 0.6754 - val_mse: 0.6754 - val_mae: 0.6110\n",
      "Epoch 169/200\n",
      "229/229 [==============================] - 0s 1ms/step - loss: 0.6178 - mse: 0.6178 - mae: 0.5688 - val_loss: 0.6456 - val_mse: 0.6456 - val_mae: 0.5906\n",
      "Epoch 170/200\n",
      "229/229 [==============================] - 0s 1ms/step - loss: 0.6097 - mse: 0.6097 - mae: 0.5659 - val_loss: 0.6530 - val_mse: 0.6530 - val_mae: 0.5788\n",
      "Epoch 171/200\n",
      "229/229 [==============================] - 0s 1ms/step - loss: 0.6104 - mse: 0.6104 - mae: 0.5655 - val_loss: 0.6536 - val_mse: 0.6536 - val_mae: 0.5788\n",
      "Epoch 172/200\n",
      "229/229 [==============================] - 0s 1ms/step - loss: 0.6139 - mse: 0.6139 - mae: 0.5664 - val_loss: 0.6487 - val_mse: 0.6487 - val_mae: 0.5695\n",
      "Epoch 173/200\n",
      "229/229 [==============================] - 0s 1ms/step - loss: 0.6098 - mse: 0.6098 - mae: 0.5637 - val_loss: 0.6552 - val_mse: 0.6552 - val_mae: 0.5927\n",
      "Epoch 174/200\n",
      "229/229 [==============================] - 0s 1ms/step - loss: 0.6090 - mse: 0.6090 - mae: 0.5660 - val_loss: 0.6531 - val_mse: 0.6531 - val_mae: 0.5765\n",
      "Epoch 175/200\n",
      "229/229 [==============================] - 0s 1ms/step - loss: 0.6046 - mse: 0.6046 - mae: 0.5626 - val_loss: 0.6449 - val_mse: 0.6449 - val_mae: 0.5855\n",
      "Epoch 176/200\n",
      "229/229 [==============================] - 0s 1ms/step - loss: 0.6062 - mse: 0.6062 - mae: 0.5625 - val_loss: 0.6665 - val_mse: 0.6665 - val_mae: 0.5954\n",
      "Epoch 177/200\n",
      "229/229 [==============================] - 0s 1ms/step - loss: 0.6066 - mse: 0.6066 - mae: 0.5641 - val_loss: 0.6560 - val_mse: 0.6560 - val_mae: 0.5760\n",
      "Epoch 178/200\n",
      "229/229 [==============================] - 0s 1ms/step - loss: 0.6117 - mse: 0.6117 - mae: 0.5651 - val_loss: 0.6530 - val_mse: 0.6530 - val_mae: 0.5935\n",
      "Epoch 179/200\n",
      "229/229 [==============================] - 0s 1ms/step - loss: 0.6065 - mse: 0.6065 - mae: 0.5632 - val_loss: 0.6511 - val_mse: 0.6511 - val_mae: 0.5751\n",
      "Epoch 180/200\n",
      "229/229 [==============================] - 0s 1ms/step - loss: 0.6073 - mse: 0.6073 - mae: 0.5631 - val_loss: 0.6520 - val_mse: 0.6520 - val_mae: 0.5860\n",
      "Epoch 181/200\n",
      "229/229 [==============================] - 0s 1ms/step - loss: 0.6084 - mse: 0.6084 - mae: 0.5642 - val_loss: 0.6618 - val_mse: 0.6618 - val_mae: 0.5999\n",
      "Epoch 182/200\n",
      "229/229 [==============================] - 0s 1ms/step - loss: 0.6032 - mse: 0.6032 - mae: 0.5619 - val_loss: 0.6543 - val_mse: 0.6543 - val_mae: 0.5806\n",
      "Epoch 183/200\n",
      "229/229 [==============================] - 0s 1ms/step - loss: 0.6059 - mse: 0.6059 - mae: 0.5618 - val_loss: 0.6501 - val_mse: 0.6501 - val_mae: 0.5699\n",
      "Epoch 184/200\n",
      "229/229 [==============================] - 0s 1ms/step - loss: 0.6052 - mse: 0.6052 - mae: 0.5627 - val_loss: 0.6494 - val_mse: 0.6494 - val_mae: 0.5786\n",
      "Epoch 185/200\n",
      "229/229 [==============================] - 0s 1ms/step - loss: 0.6067 - mse: 0.6067 - mae: 0.5625 - val_loss: 0.6501 - val_mse: 0.6501 - val_mae: 0.5796\n",
      "Epoch 186/200\n",
      "229/229 [==============================] - 0s 1ms/step - loss: 0.6050 - mse: 0.6050 - mae: 0.5623 - val_loss: 0.6492 - val_mse: 0.6492 - val_mae: 0.5839\n",
      "Epoch 187/200\n",
      "229/229 [==============================] - 0s 1ms/step - loss: 0.6026 - mse: 0.6026 - mae: 0.5621 - val_loss: 0.6464 - val_mse: 0.6464 - val_mae: 0.5807\n",
      "Epoch 188/200\n",
      "229/229 [==============================] - 0s 1ms/step - loss: 0.6023 - mse: 0.6023 - mae: 0.5605 - val_loss: 0.6564 - val_mse: 0.6564 - val_mae: 0.5924\n",
      "Epoch 189/200\n",
      "229/229 [==============================] - 0s 1ms/step - loss: 0.6057 - mse: 0.6057 - mae: 0.5636 - val_loss: 0.6563 - val_mse: 0.6563 - val_mae: 0.5934\n",
      "Epoch 190/200\n",
      "229/229 [==============================] - 0s 1ms/step - loss: 0.6033 - mse: 0.6033 - mae: 0.5610 - val_loss: 0.6592 - val_mse: 0.6592 - val_mae: 0.5975\n",
      "Epoch 191/200\n",
      "229/229 [==============================] - 0s 1ms/step - loss: 0.6012 - mse: 0.6012 - mae: 0.5611 - val_loss: 0.6568 - val_mse: 0.6568 - val_mae: 0.5816\n",
      "Epoch 192/200\n",
      "229/229 [==============================] - 0s 1ms/step - loss: 0.6040 - mse: 0.6040 - mae: 0.5614 - val_loss: 0.6421 - val_mse: 0.6421 - val_mae: 0.5853\n",
      "Epoch 193/200\n",
      "229/229 [==============================] - 0s 1ms/step - loss: 0.6023 - mse: 0.6023 - mae: 0.5608 - val_loss: 0.6531 - val_mse: 0.6531 - val_mae: 0.5793\n",
      "Epoch 194/200\n",
      "229/229 [==============================] - 0s 1ms/step - loss: 0.6038 - mse: 0.6038 - mae: 0.5613 - val_loss: 0.6657 - val_mse: 0.6657 - val_mae: 0.5695\n",
      "Epoch 195/200\n",
      "229/229 [==============================] - 0s 1ms/step - loss: 0.5983 - mse: 0.5983 - mae: 0.5579 - val_loss: 0.6827 - val_mse: 0.6827 - val_mae: 0.6235\n",
      "Epoch 196/200\n",
      "229/229 [==============================] - 0s 1ms/step - loss: 0.5996 - mse: 0.5996 - mae: 0.5591 - val_loss: 0.6701 - val_mse: 0.6701 - val_mae: 0.6098\n",
      "Epoch 197/200\n"
     ]
    },
    {
     "name": "stdout",
     "output_type": "stream",
     "text": [
      "229/229 [==============================] - 0s 1ms/step - loss: 0.5994 - mse: 0.5994 - mae: 0.5603 - val_loss: 0.6534 - val_mse: 0.6534 - val_mae: 0.5916\n",
      "Epoch 198/200\n",
      "229/229 [==============================] - 0s 1ms/step - loss: 0.5989 - mse: 0.5989 - mae: 0.5593 - val_loss: 0.6505 - val_mse: 0.6505 - val_mae: 0.5834\n",
      "Epoch 199/200\n",
      "229/229 [==============================] - 0s 1ms/step - loss: 0.6006 - mse: 0.6006 - mae: 0.5606 - val_loss: 0.6582 - val_mse: 0.6582 - val_mae: 0.5826\n",
      "Epoch 200/200\n",
      "229/229 [==============================] - 0s 1ms/step - loss: 0.5953 - mse: 0.5953 - mae: 0.5569 - val_loss: 0.6602 - val_mse: 0.6602 - val_mae: 0.5820\n"
     ]
    }
   ],
   "source": [
    "train_history = built_model.fit(\n",
    "    x_train_scaled,\n",
    "    y_train_scaled,\n",
    "    epochs=200,\n",
    "    verbose=1,\n",
    "    batch_size=100,\n",
    "    validation_split=0.2\n",
    ")"
   ]
  },
  {
   "cell_type": "code",
   "execution_count": 34,
   "id": "026f7c34",
   "metadata": {},
   "outputs": [
    {
     "data": {
      "text/plain": [
       "keras.callbacks.History"
      ]
     },
     "execution_count": 34,
     "metadata": {},
     "output_type": "execute_result"
    }
   ],
   "source": [
    "type(train_history)"
   ]
  },
  {
   "cell_type": "markdown",
   "id": "e43c0522",
   "metadata": {},
   "source": [
    "## plot loss of training"
   ]
  },
  {
   "cell_type": "code",
   "execution_count": 35,
   "id": "d6406b4f",
   "metadata": {},
   "outputs": [
    {
     "name": "stdout",
     "output_type": "stream",
     "text": [
      "dict_keys(['loss', 'mse', 'mae', 'val_loss', 'val_mse', 'val_mae'])\n"
     ]
    },
    {
     "data": {
      "image/png": "[encoded data removed]",
      "text/plain": [
       "<Figure size 432x288 with 1 Axes>"
      ]
     },
     "metadata": {
      "needs_background": "light"
     },
     "output_type": "display_data"
    }
   ],
   "source": [
    "print(train_history.history.keys())\n",
    "# \"Loss\" val==validation==test\n",
    "plt.plot(train_history.history['loss'])\n",
    "plt.plot(train_history.history['val_loss'])\n",
    "plt.title('model loss')\n",
    "plt.ylabel('loss')\n",
    "plt.xlabel('epoch')\n",
    "plt.legend(['train', 'validation'], loc='upper left')\n",
    "plt.show()"
   ]
  },
  {
   "cell_type": "markdown",
   "id": "d5f686bf",
   "metadata": {},
   "source": [
    "## Make predictions on the test set"
   ]
  },
  {
   "cell_type": "code",
   "execution_count": 36,
   "id": "a0ffa864",
   "metadata": {},
   "outputs": [
    {
     "name": "stdout",
     "output_type": "stream",
     "text": [
      "383/383 [==============================] - 0s 554us/step\n"
     ]
    },
    {
     "data": {
      "text/plain": [
       "5.6851612427924305"
      ]
     },
     "execution_count": 36,
     "metadata": {},
     "output_type": "execute_result"
    }
   ],
   "source": [
    "y_pred_scaled = built_model.predict(x_test_scaled, verbose=1)  # Generates output predictions for the input samples\n",
    "# inverse y-pred to original scale\n",
    "y_pred = scaler_y.inverse_transform(y_pred_scaled)\n",
    "# compare y & y-hat in original scale\n",
    "rmse_pred_test = math.sqrt(mean_squared_error(y_test, y_pred))\n",
    "rmse_pred_test"
   ]
  },
  {
   "cell_type": "code",
   "execution_count": null,
   "id": "e0ba00cb",
   "metadata": {},
   "outputs": [],
   "source": []
  },
  {
   "cell_type": "markdown",
   "id": "0c6f4ab2",
   "metadata": {},
   "source": [
    "### time run"
   ]
  },
  {
   "cell_type": "code",
   "execution_count": 37,
   "id": "e418e2df",
   "metadata": {},
   "outputs": [
    {
     "name": "stdout",
     "output_type": "stream",
     "text": [
      "0:01:02.754526\n"
     ]
    }
   ],
   "source": [
    "now2 = dt.now()\n",
    "runtime = now2-now1\n",
    "print(runtime)"
   ]
  },
  {
   "cell_type": "code",
   "execution_count": null,
   "id": "bfc91f5d",
   "metadata": {},
   "outputs": [],
   "source": []
  },
  {
   "cell_type": "code",
   "execution_count": null,
   "id": "607cb1b8",
   "metadata": {},
   "outputs": [],
   "source": []
  }
 ],
 "metadata": {
  "kernelspec": {
   "display_name": "Python 3 (ipykernel)",
   "language": "python",
   "name": "python3"
  },
  "language_info": {
   "codemirror_mode": {
    "name": "ipython",
    "version": 3
   },
   "file_extension": ".py",
   "mimetype": "text/x-python",
   "name": "python",
   "nbconvert_exporter": "python",
   "pygments_lexer": "ipython3",
   "version": "3.9.12"
  }
 },
 "nbformat": 4,
 "nbformat_minor": 5
}
