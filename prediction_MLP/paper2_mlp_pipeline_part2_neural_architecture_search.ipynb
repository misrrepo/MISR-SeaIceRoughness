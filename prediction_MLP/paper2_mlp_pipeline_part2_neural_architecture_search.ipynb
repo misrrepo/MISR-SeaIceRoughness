{
 "cells": [
  {
   "cell_type": "code",
   "execution_count": 1,
   "id": "3dbc7ee9",
   "metadata": {},
   "outputs": [],
   "source": [
    "#- main machine learning libraries used\n",
    "\n",
    "# import tensorflow\n",
    "import tensorflow as tf\n",
    "import tensorflow.keras as keras  \n",
    "import sklearn\n",
    "from sklearn.metrics import mean_squared_error\n",
    "\n",
    "\n",
    "#- other libraries used\n",
    "import itertools\n",
    "import numpy as np\n",
    "import os\n",
    "import math\n",
    "import pandas as pd\n",
    "import matplotlib.pyplot as plt \n",
    "from platform import python_version\n",
    "from datetime import datetime as dt"
   ]
  },
  {
   "cell_type": "code",
   "execution_count": 2,
   "id": "3e0b69f6",
   "metadata": {},
   "outputs": [
    {
     "data": {
      "text/plain": [
       "'3.9.12'"
      ]
     },
     "execution_count": 2,
     "metadata": {},
     "output_type": "execute_result"
    }
   ],
   "source": [
    "python_version()"
   ]
  },
  {
   "cell_type": "code",
   "execution_count": 3,
   "id": "02be279c",
   "metadata": {},
   "outputs": [
    {
     "name": "stdout",
     "output_type": "stream",
     "text": [
      "latest run on: 2022-06-09 14:54:13.449449\n"
     ]
    }
   ],
   "source": [
    "today = dt.today()\n",
    "print('latest run on:', today)"
   ]
  },
  {
   "cell_type": "code",
   "execution_count": 4,
   "id": "30362b89",
   "metadata": {},
   "outputs": [
    {
     "data": {
      "text/plain": [
       "datetime.datetime(2022, 6, 9, 14, 54, 13, 454875)"
      ]
     },
     "execution_count": 4,
     "metadata": {},
     "output_type": "execute_result"
    }
   ],
   "source": [
    "now1 = dt.now()\n",
    "now1"
   ]
  },
  {
   "cell_type": "markdown",
   "id": "7bcfe260",
   "metadata": {},
   "source": [
    "## check tensorflow version"
   ]
  },
  {
   "cell_type": "code",
   "execution_count": 5,
   "id": "57a7442b",
   "metadata": {},
   "outputs": [
    {
     "name": "stdout",
     "output_type": "stream",
     "text": [
      "2.9.1\n"
     ]
    }
   ],
   "source": [
    "print (tf.__version__)"
   ]
  },
  {
   "cell_type": "markdown",
   "id": "7fb3750d",
   "metadata": {},
   "source": [
    "## my functions(.) here"
   ]
  },
  {
   "cell_type": "markdown",
   "id": "56aba0b3",
   "metadata": {},
   "source": [
    "## input directory"
   ]
  },
  {
   "cell_type": "code",
   "execution_count": 6,
   "id": "c9d30fc6",
   "metadata": {},
   "outputs": [],
   "source": [
    "dataset_dir = \"/Users/ehsanmos/MLP_dataset\""
   ]
  },
  {
   "cell_type": "code",
   "execution_count": 7,
   "id": "2bf041aa",
   "metadata": {},
   "outputs": [
    {
     "name": "stdout",
     "output_type": "stream",
     "text": [
      "dataset directory FOUND!\n"
     ]
    }
   ],
   "source": [
    "if os.path.isdir(dataset_dir) == False:\n",
    "    print(\"dataset directory NOT found!\")\n",
    "else:\n",
    "    print(\"dataset directory FOUND!\")"
   ]
  },
  {
   "cell_type": "markdown",
   "id": "eccbffb9",
   "metadata": {},
   "source": [
    "## Load input/ training dataset\n",
    "\n",
    "before doing this section, process filter final input dataset with \"check_n_filter_final_dataset\""
   ]
  },
  {
   "cell_type": "code",
   "execution_count": 8,
   "id": "4af39e8f",
   "metadata": {},
   "outputs": [],
   "source": [
    "in_ds = \"atmmodel_april_2016_k_zero_9cams4bands_preprocessed.csv\""
   ]
  },
  {
   "cell_type": "markdown",
   "id": "09b6dc59",
   "metadata": {},
   "source": [
    "## check if input dataset file exists"
   ]
  },
  {
   "cell_type": "code",
   "execution_count": 9,
   "id": "37ac74e6",
   "metadata": {},
   "outputs": [
    {
     "name": "stdout",
     "output_type": "stream",
     "text": [
      "/Users/ehsanmos/MLP_dataset/atmmodel_april_2016_k_zero_9cams4bands_preprocessed.csv\n",
      "input dataset found!\n"
     ]
    }
   ],
   "source": [
    "in_ds_fullpath = os.path.join(dataset_dir, in_ds)\n",
    "print(in_ds_fullpath)\n",
    "\n",
    "if (not os.path.isfile(os.path.join(in_ds_fullpath))):\n",
    "    raise SystemExit()\n",
    "else:\n",
    "    print(\"input dataset found!\")"
   ]
  },
  {
   "cell_type": "markdown",
   "id": "259b6d7b",
   "metadata": {},
   "source": [
    "## Read in dataset and look at dataset columns"
   ]
  },
  {
   "cell_type": "code",
   "execution_count": 10,
   "id": "b4582b5a",
   "metadata": {},
   "outputs": [],
   "source": [
    "df_orig = pd.read_csv(in_ds_fullpath, engine='python')"
   ]
  },
  {
   "cell_type": "code",
   "execution_count": 11,
   "id": "790ea7e3",
   "metadata": {},
   "outputs": [
    {
     "data": {
      "text/plain": [
       "(40775, 15)"
      ]
     },
     "execution_count": 11,
     "metadata": {},
     "output_type": "execute_result"
    }
   ],
   "source": [
    "df_orig.shape"
   ]
  },
  {
   "cell_type": "code",
   "execution_count": 12,
   "id": "4164b4d7",
   "metadata": {},
   "outputs": [
    {
     "data": {
      "text/plain": [
       "Index(['firstLat', 'firstLon', 'anr', 'ang', 'anb', 'annir', 'aa', 'af', 'ba',\n",
       "       'bf', 'ca', 'cf', 'da', 'df', 'rms'],\n",
       "      dtype='object')"
      ]
     },
     "execution_count": 12,
     "metadata": {},
     "output_type": "execute_result"
    }
   ],
   "source": [
    "df_orig.columns"
   ]
  },
  {
   "cell_type": "markdown",
   "id": "8170b8a4",
   "metadata": {},
   "source": [
    "Note: we will build an input dataset with 9 cameras to train the mlp model"
   ]
  },
  {
   "cell_type": "code",
   "execution_count": 13,
   "id": "654bfd8f",
   "metadata": {},
   "outputs": [
    {
     "name": "stdout",
     "output_type": "stream",
     "text": [
      "we are using 10 columns in our training dataset:\n",
      "Index(['anr', 'aa', 'af', 'ba', 'bf', 'ca', 'cf', 'da', 'df', 'rms'], dtype='object')\n"
     ]
    }
   ],
   "source": [
    "#- build dataset with 9 cameras\n",
    "excluce_columns = ['firstLat', 'firstLon', 'ang', 'anb', 'annir']\n",
    "input_ds_for_training = df_orig.drop(excluce_columns, axis=1)\n",
    "\n",
    "print('we are using %s columns in our training dataset:' %len(input_ds_for_training.columns))\n",
    "print(input_ds_for_training.columns)  # columns should be only 9 cameras + rms \n"
   ]
  },
  {
   "cell_type": "markdown",
   "id": "ba4b8050",
   "metadata": {},
   "source": [
    "## shuffle rows of input dataset"
   ]
  },
  {
   "cell_type": "code",
   "execution_count": 14,
   "id": "f7f0f96d",
   "metadata": {},
   "outputs": [],
   "source": [
    "from sklearn.utils import shuffle\n",
    "\n",
    "input_ds_for_training = shuffle(input_ds_for_training)"
   ]
  },
  {
   "cell_type": "markdown",
   "id": "9706d2b8",
   "metadata": {},
   "source": [
    "## Split dataset to train-test parts for training algorithms\n",
    "- we devided to plit our dataset to 2 parts (2-part split)\n",
    "- Here we use the ‘train_test_split’ to split the data in 80:20 ratio i.e. 80% of the data will be used for training the model while 20% will be used for testing the model that is built out of it.\n",
    "- note: last column should be label == rms"
   ]
  },
  {
   "cell_type": "code",
   "execution_count": 15,
   "id": "03d94ba4",
   "metadata": {},
   "outputs": [
    {
     "name": "stdout",
     "output_type": "stream",
     "text": [
      "(40775, 9)\n",
      "(40775, 1)\n"
     ]
    }
   ],
   "source": [
    "#- split data set to X and Y\n",
    "\n",
    "X = input_ds_for_training.iloc[:, :-1] # to select up to last column of dataset OR [:, 0:3]\n",
    "Y = input_ds_for_training.iloc[:, -1:] # to select last column of DF\n",
    "\n",
    "print(X.shape)\n",
    "print(Y.shape)"
   ]
  },
  {
   "cell_type": "code",
   "execution_count": 16,
   "id": "76e41811",
   "metadata": {},
   "outputs": [
    {
     "name": "stdout",
     "output_type": "stream",
     "text": [
      "test size= 30 percent\n",
      "train:\n",
      "(28542, 9)\n",
      "(28542, 1)\n",
      "test:\n",
      "(12233, 9)\n",
      "(12233, 1)\n"
     ]
    }
   ],
   "source": [
    "#- now split dataset to train-test\n",
    "\n",
    "from sklearn.model_selection import train_test_split\n",
    "\n",
    "#- we use this function to split data-- from here because we are usiong SKlearn library, we change all data structures from Pandas DF to numpy\n",
    "# X_train, X_test, y_train, y_test = train_test_split(X.to_numpy(), Y.to_numpy(), test_size=0.2, random_state=123) # Q- input is DF or numpy array?\n",
    "\n",
    "test_data_size = 0.3\n",
    "print(\"test size= %d percent\" %(test_data_size*100))\n",
    "x_train, x_test, y_train, y_test = train_test_split(X, Y, test_size=test_data_size, random_state=123) # Q- input is DF or numpy array?\n",
    "\n",
    "\n",
    "print(\"train:\")\n",
    "print(x_train.shape)\n",
    "print(y_train.shape)\n",
    "\n",
    "print(\"test:\")\n",
    "print(x_test.shape)\n",
    "print(y_test.shape)\n"
   ]
  },
  {
   "cell_type": "markdown",
   "id": "55b177d3",
   "metadata": {},
   "source": [
    "Qn- how about train-val-test (3 sections)? is this for DL?"
   ]
  },
  {
   "cell_type": "markdown",
   "id": "cb9b7538",
   "metadata": {},
   "source": [
    "## Feature scalling\n",
    "\n",
    "change the scale/range of input features from their original range to a new range. So changed features will have mean=0 and std=1.\n",
    "\n",
    "source: https://www.enjoyalgorithms.com/blog/need-of-feature-scaling-in-machine-learning\n",
    "\n",
    "- We rescale data after we split data to train-test\n",
    "- all features have the same range to reduce bias in data \n",
    "- perform this step before splitting data into train-test split\n",
    "- We normalize data using the training data\n",
    "\n",
    "Qn- why FS is important? why we do FS?\n",
    "\n",
    "Qn- which method? \n",
    "\n",
    "1) standardization/ Z-score/ StandardScaler() == mean=0 & std=1; Standardize features by removing the mean and scaling to unit variance; good for datasets w/ outliers;\n",
    "\n",
    "2) MinMaxScalar() == Transform features by scaling each feature to a given range (usually [0,1])\n",
    "\n",
    "3) normalize() == Scale input vectors individually to unit norm (vector length).\n",
    "\n",
    "source: https://scikit-learn.org/stable/modules/classes.html#module-sklearn.preprocessing\n",
    "\n"
   ]
  },
  {
   "cell_type": "markdown",
   "id": "e71ebb65",
   "metadata": {},
   "source": [
    "### 1) Using MinMaxScaler() method to rescale input features"
   ]
  },
  {
   "cell_type": "code",
   "execution_count": 17,
   "id": "102b941b",
   "metadata": {},
   "outputs": [],
   "source": [
    "# #- import necessary libraries for Neural Nets\n",
    "# from sklearn.preprocessing import MinMaxScaler\n",
    "\n",
    "# #- fit data\n",
    "\n",
    "# scaler_x = MinMaxScaler()\n",
    "# scaler_y = MinMaxScaler()\n",
    "\n",
    "# scaler_x.fit(X_train) # returns Fitted scaler\n",
    "# X_train_scaled = scaler_x.transform(X_train)  # transforms data\n",
    "\n",
    "# scaler_x.fit(X_test)\n",
    "# X_test_scaled = scaler_x.transform(X_test)\n",
    "\n",
    "# scaler_y.fit(y_train)\n",
    "# y_train_scaled = scaler_y.transform(y_train)\n",
    "\n",
    "# scaler_y.fit(y_test)\n",
    "# y_test_scaled = scaler_y.transform(y_test)"
   ]
  },
  {
   "cell_type": "markdown",
   "id": "ca8d345c",
   "metadata": {},
   "source": [
    "### 2) Using StandardScaler() method \n",
    "\n",
    "to rescale input features to mean of 0 and std of 1"
   ]
  },
  {
   "cell_type": "code",
   "execution_count": 18,
   "id": "f1eae3b0",
   "metadata": {},
   "outputs": [],
   "source": [
    "from sklearn.preprocessing import StandardScaler\n",
    "\n",
    "scaler_x = StandardScaler()\n",
    "scaler_y = StandardScaler()\n",
    "\n",
    "x_train_scaled = scaler_x.fit(x_train).transform(x_train) # returns daata w/ mean 0 & std 1\n",
    "y_train_scaled = scaler_y.fit(y_train).transform(y_train)\n",
    "x_test_scaled = scaler_x.fit(x_test).transform(x_test)\n",
    "y_test_scaled = scaler_y.fit(y_test).transform(y_test)"
   ]
  },
  {
   "cell_type": "markdown",
   "id": "20410efa",
   "metadata": {},
   "source": [
    "Check types of input dataset data structure; should be 2D arrays, or Pandas DataFrame"
   ]
  },
  {
   "cell_type": "code",
   "execution_count": 19,
   "id": "5083172b",
   "metadata": {},
   "outputs": [
    {
     "name": "stdout",
     "output_type": "stream",
     "text": [
      "<class 'numpy.ndarray'>\n",
      "7.778191098332289e-17\n",
      "0.8819171036881969\n",
      "-3.310986751317123e-17\n",
      "1.0\n",
      "1.8070607374663076e-17\n",
      "0.8819171036881969\n",
      "2.24204607212784e-16\n",
      "0.9999999999999999\n"
     ]
    }
   ],
   "source": [
    "print(type(x_train_scaled))\n",
    "# print(type(y_train_scaled))\n",
    "# print(type(x_test_scaled))\n",
    "# print(type(y_test_scaled))\n",
    "\n",
    "print(x_train_scaled.mean())\n",
    "print(x_train_scaled.std())\n",
    "print(y_train_scaled.mean())\n",
    "print(y_train_scaled.std())\n",
    "print(x_test_scaled.mean())\n",
    "print(x_test_scaled.std())\n",
    "print(y_test_scaled.mean())\n",
    "print(y_test_scaled.std())"
   ]
  },
  {
   "cell_type": "code",
   "execution_count": 20,
   "id": "e2db9f92",
   "metadata": {},
   "outputs": [
    {
     "data": {
      "text/plain": [
       "(28542, 9)"
      ]
     },
     "execution_count": 20,
     "metadata": {},
     "output_type": "execute_result"
    }
   ],
   "source": [
    "x_train_scaled.shape"
   ]
  },
  {
   "cell_type": "markdown",
   "id": "e5aa2e9d",
   "metadata": {},
   "source": [
    "## >>> Neural Network (Regression) >>>"
   ]
  },
  {
   "cell_type": "markdown",
   "id": "18088f76",
   "metadata": {},
   "source": [
    "### Building the NN model\n",
    "Q- how find the best architecture? for mlp? \n",
    "\n",
    "let's do a architecture search\n",
    "\n",
    "source: https://towardsdatascience.com/how-to-find-optimal-neural-network-architecture-with-tensorflow-the-easy-way-50575a03d060"
   ]
  },
  {
   "cell_type": "code",
   "execution_count": 21,
   "id": "bd212990",
   "metadata": {},
   "outputs": [],
   "source": [
    "def get_models(num_layers: int,\n",
    "               min_nodes_per_layer: int,\n",
    "               max_nodes_per_layer: int,\n",
    "               node_step_size: int,\n",
    "               input_shape: tuple,\n",
    "               hidden_layer_activation: str = 'relu',\n",
    "               num_nodes_at_output: int = 1,\n",
    "               output_layer_activation: str = 'linear') -> list:   \n",
    "        \n",
    "        # https://stackoverflow.com/questions/14379753/what-does-mean-in-python-function-definitions\n",
    "        # allowing you to attach metadata to functions, describe their parameters (their expected types) and return values\n",
    "    \n",
    "    # creates a list from nodes that we have defined [min, max, step]\n",
    "    node_options = list(range(min_nodes_per_layer, \n",
    "                              max_nodes_per_layer + 1, \n",
    "                              node_step_size))\n",
    "    \n",
    "    # make a collection of sets of nodes for each hidden layer\n",
    "    layer_possibilities = [node_options] * num_layers\n",
    "    layer_node_permutations = list(itertools.product(*layer_possibilities))\n",
    "#     print('permutations:')\n",
    "#     print(layer_node_permutations)\n",
    "    \n",
    "    models = []\n",
    "    for permutation in layer_node_permutations:\n",
    "        \n",
    "        # setup input layer\n",
    "        model = tf.keras.Sequential()\n",
    "        model.add(tf.keras.layers.InputLayer(input_shape=input_shape, name=\"input-layer\"))\n",
    "        model_name = ''\n",
    "        \n",
    "        # setup hidden layers\n",
    "        for nodes_at_layer in permutation:\n",
    "            model.add(tf.keras.layers.Dense(nodes_at_layer, activation=hidden_layer_activation))\n",
    "            model_name += 'dense_'+str(nodes_at_layer)+'_'\n",
    "\n",
    "        # setup output layer\n",
    "        model.add(tf.keras.layers.Dense(num_nodes_at_output, activation=output_layer_activation, name=\"output-layer-SIR\"))\n",
    "        model._name = model_name[:-1]\n",
    "        models.append(model)\n",
    "        \n",
    "    return models"
   ]
  },
  {
   "cell_type": "code",
   "execution_count": 22,
   "id": "03eec5d0",
   "metadata": {},
   "outputs": [],
   "source": [
    "def optimize(models: list,\n",
    "             X_train: np.array,\n",
    "             y_train: np.array,\n",
    "             X_test: np.array,\n",
    "             y_test: np.array,\n",
    "             epochs: int,\n",
    "             batch_size: int, \n",
    "             validation_split: float,\n",
    "             verbose: int = 0) -> pd.DataFrame:\n",
    "    \n",
    "\n",
    "    results = [] # We will store the results in this list\n",
    "    \n",
    "    ##############################################\n",
    "    def train(model: tf.keras.Sequential) -> dict:\n",
    "        \n",
    "        adam_lrt = 0.001\n",
    "        opt_alg = tf.keras.optimizers.Adam(\n",
    "                    learning_rate=adam_lrt,   # then everu step * 10 to get to 10\n",
    "                    beta_1=0.9,\n",
    "                    beta_2=0.999,\n",
    "                    epsilon=1e-07,\n",
    "                    amsgrad=False,\n",
    "                    name='Adam'\n",
    "        )\n",
    "        \n",
    "        # Compile each model\n",
    "        model.compile(\n",
    "            loss='mse', \n",
    "            optimizer=opt_alg, \n",
    "            metrics=['mse','mae']\n",
    "        )\n",
    "\n",
    "        # Train the model/ fit alg. to dataset\n",
    "        model.fit(\n",
    "            X_train,\n",
    "            y_train,\n",
    "            epochs=epochs,\n",
    "            verbose=verbose,\n",
    "            batch_size=batch_size,\n",
    "            validation_split=validation_split\n",
    "            \n",
    "        )\n",
    "        \n",
    "\n",
    "        # Make predictions on the test set\n",
    "        y_pred_scaled = model.predict(X_test, verbose=verbose)  # Generates output predictions for the input samples\n",
    "        # inverse y-pred to original scale\n",
    "        y_pred = scaler_y.inverse_transform(y_pred_scaled)\n",
    "        # compare y & y-hat in original scale\n",
    "        rmse_pred_test = math.sqrt(mean_squared_error(y_test, y_pred))\n",
    "        \n",
    "        \n",
    "#         # Evaluation on test data\n",
    "#         preds = model.evaluate(\n",
    "#             X_test, \n",
    "#             y_test, \n",
    "#             batch_size=20, \n",
    "#             verbose=0) # Returns the loss value & metrics values for the model in test mode\n",
    "#         print('return of evaluate(.)')\n",
    "#         print(preds)\n",
    "#         mse_test = preds[1]\n",
    "#         mae_test = preds[2]\n",
    "        \n",
    "\n",
    "        # Return evaluation metrics on the test set\n",
    "        return {\n",
    "            'model_name': model.name,\n",
    "            #'test_rmse': math.sqrt(mse_test),\n",
    "            #'test_mae': mae_test,\n",
    "            'test_pred_rmse (cm)': round(rmse_pred_test, 1)\n",
    "        }\n",
    "    \n",
    "    ##############################################\n",
    "    # Train every model and save results in the list above and tur it to DF\n",
    "    for model in models:\n",
    "        try:\n",
    "            print(model.name, end=' ... \\n')\n",
    "            res = train(model=model)\n",
    "            results.append(res)\n",
    "        except Exception as e:\n",
    "            print(f'{model.name} --> {str(e)}') # how change to nornal print?\n",
    "        \n",
    "    return pd.DataFrame(results)"
   ]
  },
  {
   "cell_type": "markdown",
   "id": "de6538bb",
   "metadata": {},
   "source": [
    "## Building all models\n",
    "\n",
    "iterate with different hidden layers + iterate over several node options in one single hidden layer"
   ]
  },
  {
   "cell_type": "code",
   "execution_count": 23,
   "id": "168f3145",
   "metadata": {},
   "outputs": [
    {
     "name": "stderr",
     "output_type": "stream",
     "text": [
      "2022-06-09 14:54:14.094756: I tensorflow/core/platform/cpu_feature_guard.cc:193] This TensorFlow binary is optimized with oneAPI Deep Neural Network Library (oneDNN) to use the following CPU instructions in performance-critical operations:  AVX2 FMA\n",
      "To enable them in other operations, rebuild TensorFlow with the appropriate compiler flags.\n"
     ]
    }
   ],
   "source": [
    "num_layers = 3\n",
    "\n",
    "all_models = get_models(\n",
    "    num_layers=num_layers, \n",
    "    min_nodes_per_layer=6, \n",
    "    max_nodes_per_layer=300, \n",
    "    node_step_size=24, \n",
    "    input_shape=(9,) # should be tuple\n",
    ")"
   ]
  },
  {
   "cell_type": "code",
   "execution_count": 24,
   "id": "2459dbb7",
   "metadata": {},
   "outputs": [],
   "source": [
    "# all_models[0].summary()"
   ]
  },
  {
   "cell_type": "markdown",
   "id": "011a863e",
   "metadata": {},
   "source": [
    "## Running the optimization"
   ]
  },
  {
   "cell_type": "code",
   "execution_count": 25,
   "id": "fbd1bbc2",
   "metadata": {},
   "outputs": [
    {
     "name": "stdout",
     "output_type": "stream",
     "text": [
      "dense_6_dense_6_dense_6 ... \n",
      "dense_6_dense_6_dense_30 ... \n",
      "dense_6_dense_6_dense_54 ... \n",
      "dense_6_dense_6_dense_78 ... \n",
      "dense_6_dense_6_dense_102 ... \n",
      "dense_6_dense_6_dense_126 ... \n",
      "dense_6_dense_6_dense_150 ... \n",
      "dense_6_dense_6_dense_174 ... \n",
      "dense_6_dense_6_dense_198 ... \n",
      "dense_6_dense_6_dense_222 ... \n",
      "dense_6_dense_6_dense_246 ... \n",
      "dense_6_dense_6_dense_270 ... \n",
      "dense_6_dense_6_dense_294 ... \n",
      "dense_6_dense_30_dense_6 ... \n",
      "dense_6_dense_30_dense_30 ... \n",
      "dense_6_dense_30_dense_54 ... \n",
      "dense_6_dense_30_dense_78 ... \n",
      "dense_6_dense_30_dense_102 ... \n",
      "dense_6_dense_30_dense_126 ... \n",
      "dense_6_dense_30_dense_150 ... \n",
      "dense_6_dense_30_dense_174 ... \n",
      "dense_6_dense_30_dense_198 ... \n",
      "dense_6_dense_30_dense_222 ... \n",
      "dense_6_dense_30_dense_246 ... \n",
      "dense_6_dense_30_dense_270 ... \n",
      "dense_6_dense_30_dense_294 ... \n",
      "dense_6_dense_54_dense_6 ... \n",
      "dense_6_dense_54_dense_30 ... \n",
      "dense_6_dense_54_dense_54 ... \n",
      "dense_6_dense_54_dense_78 ... \n",
      "dense_6_dense_54_dense_102 ... \n",
      "dense_6_dense_54_dense_126 ... \n",
      "dense_6_dense_54_dense_150 ... \n",
      "dense_6_dense_54_dense_174 ... \n",
      "dense_6_dense_54_dense_198 ... \n",
      "dense_6_dense_54_dense_222 ... \n",
      "dense_6_dense_54_dense_246 ... \n",
      "dense_6_dense_54_dense_270 ... \n",
      "dense_6_dense_54_dense_294 ... \n",
      "dense_6_dense_78_dense_6 ... \n",
      "dense_6_dense_78_dense_30 ... \n",
      "dense_6_dense_78_dense_54 ... \n",
      "dense_6_dense_78_dense_78 ... \n",
      "dense_6_dense_78_dense_102 ... \n",
      "dense_6_dense_78_dense_126 ... \n",
      "dense_6_dense_78_dense_150 ... \n",
      "dense_6_dense_78_dense_174 ... \n",
      "dense_6_dense_78_dense_198 ... \n",
      "dense_6_dense_78_dense_222 ... \n",
      "dense_6_dense_78_dense_246 ... \n",
      "dense_6_dense_78_dense_270 ... \n",
      "dense_6_dense_78_dense_294 ... \n",
      "dense_6_dense_102_dense_6 ... \n",
      "dense_6_dense_102_dense_30 ... \n",
      "dense_6_dense_102_dense_54 ... \n",
      "dense_6_dense_102_dense_78 ... \n",
      "dense_6_dense_102_dense_102 ... \n",
      "dense_6_dense_102_dense_126 ... \n",
      "dense_6_dense_102_dense_150 ... \n",
      "dense_6_dense_102_dense_174 ... \n",
      "dense_6_dense_102_dense_198 ... \n",
      "dense_6_dense_102_dense_222 ... \n",
      "dense_6_dense_102_dense_246 ... \n",
      "dense_6_dense_102_dense_270 ... \n",
      "dense_6_dense_102_dense_294 ... \n",
      "dense_6_dense_126_dense_6 ... \n",
      "dense_6_dense_126_dense_30 ... \n",
      "dense_6_dense_126_dense_54 ... \n",
      "dense_6_dense_126_dense_78 ... \n",
      "dense_6_dense_126_dense_102 ... \n",
      "dense_6_dense_126_dense_126 ... \n",
      "dense_6_dense_126_dense_150 ... \n",
      "dense_6_dense_126_dense_174 ... \n",
      "dense_6_dense_126_dense_198 ... \n",
      "dense_6_dense_126_dense_222 ... \n",
      "dense_6_dense_126_dense_246 ... \n",
      "dense_6_dense_126_dense_270 ... \n",
      "dense_6_dense_126_dense_294 ... \n",
      "dense_6_dense_150_dense_6 ... \n",
      "dense_6_dense_150_dense_30 ... \n",
      "dense_6_dense_150_dense_54 ... \n",
      "dense_6_dense_150_dense_78 ... \n",
      "dense_6_dense_150_dense_102 ... \n",
      "dense_6_dense_150_dense_126 ... \n",
      "dense_6_dense_150_dense_150 ... \n",
      "dense_6_dense_150_dense_174 ... \n",
      "dense_6_dense_150_dense_198 ... \n",
      "dense_6_dense_150_dense_222 ... \n",
      "dense_6_dense_150_dense_246 ... \n",
      "dense_6_dense_150_dense_270 ... \n",
      "dense_6_dense_150_dense_294 ... \n",
      "dense_6_dense_174_dense_6 ... \n",
      "dense_6_dense_174_dense_30 ... \n",
      "dense_6_dense_174_dense_54 ... \n",
      "dense_6_dense_174_dense_78 ... \n",
      "dense_6_dense_174_dense_102 ... \n",
      "dense_6_dense_174_dense_126 ... \n",
      "dense_6_dense_174_dense_150 ... \n",
      "dense_6_dense_174_dense_174 ... \n",
      "dense_6_dense_174_dense_198 ... \n",
      "dense_6_dense_174_dense_222 ... \n",
      "dense_6_dense_174_dense_246 ... \n",
      "dense_6_dense_174_dense_270 ... \n",
      "dense_6_dense_174_dense_294 ... \n",
      "dense_6_dense_198_dense_6 ... \n",
      "dense_6_dense_198_dense_30 ... \n",
      "dense_6_dense_198_dense_54 ... \n",
      "dense_6_dense_198_dense_78 ... \n",
      "dense_6_dense_198_dense_102 ... \n",
      "dense_6_dense_198_dense_126 ... \n",
      "dense_6_dense_198_dense_150 ... \n",
      "dense_6_dense_198_dense_174 ... \n",
      "dense_6_dense_198_dense_198 ... \n",
      "dense_6_dense_198_dense_222 ... \n",
      "dense_6_dense_198_dense_246 ... \n",
      "dense_6_dense_198_dense_270 ... \n",
      "dense_6_dense_198_dense_294 ... \n",
      "dense_6_dense_222_dense_6 ... \n",
      "dense_6_dense_222_dense_30 ... \n",
      "dense_6_dense_222_dense_54 ... \n",
      "dense_6_dense_222_dense_78 ... \n",
      "dense_6_dense_222_dense_102 ... \n",
      "dense_6_dense_222_dense_126 ... \n",
      "dense_6_dense_222_dense_150 ... \n",
      "dense_6_dense_222_dense_174 ... \n",
      "dense_6_dense_222_dense_198 ... \n",
      "dense_6_dense_222_dense_222 ... \n",
      "dense_6_dense_222_dense_246 ... \n",
      "dense_6_dense_222_dense_270 ... \n",
      "dense_6_dense_222_dense_294 ... \n",
      "dense_6_dense_246_dense_6 ... \n",
      "dense_6_dense_246_dense_30 ... \n",
      "dense_6_dense_246_dense_54 ... \n",
      "dense_6_dense_246_dense_78 ... \n",
      "dense_6_dense_246_dense_102 ... \n",
      "dense_6_dense_246_dense_126 ... \n",
      "dense_6_dense_246_dense_150 ... \n",
      "dense_6_dense_246_dense_174 ... \n",
      "dense_6_dense_246_dense_198 ... \n",
      "dense_6_dense_246_dense_222 ... \n",
      "dense_6_dense_246_dense_246 ... \n",
      "dense_6_dense_246_dense_270 ... \n",
      "dense_6_dense_246_dense_294 ... \n",
      "dense_6_dense_270_dense_6 ... \n",
      "dense_6_dense_270_dense_30 ... \n",
      "dense_6_dense_270_dense_54 ... \n",
      "dense_6_dense_270_dense_78 ... \n",
      "dense_6_dense_270_dense_102 ... \n",
      "dense_6_dense_270_dense_126 ... \n",
      "dense_6_dense_270_dense_150 ... \n",
      "dense_6_dense_270_dense_174 ... \n",
      "dense_6_dense_270_dense_198 ... \n",
      "dense_6_dense_270_dense_222 ... \n",
      "dense_6_dense_270_dense_246 ... \n",
      "dense_6_dense_270_dense_270 ... \n",
      "dense_6_dense_270_dense_294 ... \n",
      "dense_6_dense_294_dense_6 ... \n",
      "dense_6_dense_294_dense_30 ... \n",
      "dense_6_dense_294_dense_54 ... \n",
      "dense_6_dense_294_dense_78 ... \n",
      "dense_6_dense_294_dense_102 ... \n",
      "dense_6_dense_294_dense_126 ... \n",
      "dense_6_dense_294_dense_150 ... \n",
      "dense_6_dense_294_dense_174 ... \n",
      "dense_6_dense_294_dense_198 ... \n",
      "dense_6_dense_294_dense_222 ... \n",
      "dense_6_dense_294_dense_246 ... \n",
      "dense_6_dense_294_dense_270 ... \n",
      "dense_6_dense_294_dense_294 ... \n",
      "dense_30_dense_6_dense_6 ... \n",
      "dense_30_dense_6_dense_30 ... \n",
      "dense_30_dense_6_dense_54 ... \n",
      "dense_30_dense_6_dense_78 ... \n",
      "dense_30_dense_6_dense_102 ... \n",
      "dense_30_dense_6_dense_126 ... \n",
      "dense_30_dense_6_dense_150 ... \n",
      "dense_30_dense_6_dense_174 ... \n",
      "dense_30_dense_6_dense_198 ... \n",
      "dense_30_dense_6_dense_222 ... \n",
      "dense_30_dense_6_dense_246 ... \n",
      "dense_30_dense_6_dense_270 ... \n",
      "dense_30_dense_6_dense_294 ... \n",
      "dense_30_dense_30_dense_6 ... \n",
      "dense_30_dense_30_dense_30 ... \n",
      "dense_30_dense_30_dense_54 ... \n",
      "dense_30_dense_30_dense_78 ... \n",
      "dense_30_dense_30_dense_102 ... \n",
      "dense_30_dense_30_dense_126 ... \n",
      "dense_30_dense_30_dense_150 ... \n",
      "dense_30_dense_30_dense_174 ... \n",
      "dense_30_dense_30_dense_198 ... \n",
      "dense_30_dense_30_dense_222 ... \n",
      "dense_30_dense_30_dense_246 ... \n",
      "dense_30_dense_30_dense_270 ... \n",
      "dense_30_dense_30_dense_294 ... \n",
      "dense_30_dense_54_dense_6 ... \n",
      "dense_30_dense_54_dense_30 ... \n",
      "dense_30_dense_54_dense_54 ... \n",
      "dense_30_dense_54_dense_78 ... \n",
      "dense_30_dense_54_dense_102 ... \n",
      "dense_30_dense_54_dense_126 ... \n",
      "dense_30_dense_54_dense_150 ... \n",
      "dense_30_dense_54_dense_174 ... \n",
      "dense_30_dense_54_dense_198 ... \n",
      "dense_30_dense_54_dense_222 ... \n",
      "dense_30_dense_54_dense_246 ... \n",
      "dense_30_dense_54_dense_270 ... \n",
      "dense_30_dense_54_dense_294 ... \n",
      "dense_30_dense_78_dense_6 ... \n",
      "dense_30_dense_78_dense_30 ... \n",
      "dense_30_dense_78_dense_54 ... \n",
      "dense_30_dense_78_dense_78 ... \n",
      "dense_30_dense_78_dense_102 ... \n",
      "dense_30_dense_78_dense_126 ... \n",
      "dense_30_dense_78_dense_150 ... \n",
      "dense_30_dense_78_dense_174 ... \n",
      "dense_30_dense_78_dense_198 ... \n",
      "dense_30_dense_78_dense_222 ... \n",
      "dense_30_dense_78_dense_246 ... \n",
      "dense_30_dense_78_dense_270 ... \n",
      "dense_30_dense_78_dense_294 ... \n",
      "dense_30_dense_102_dense_6 ... \n",
      "dense_30_dense_102_dense_30 ... \n",
      "dense_30_dense_102_dense_54 ... \n",
      "dense_30_dense_102_dense_78 ... \n",
      "dense_30_dense_102_dense_102 ... \n",
      "dense_30_dense_102_dense_126 ... \n",
      "dense_30_dense_102_dense_150 ... \n",
      "dense_30_dense_102_dense_174 ... \n",
      "dense_30_dense_102_dense_198 ... \n",
      "dense_30_dense_102_dense_222 ... \n",
      "dense_30_dense_102_dense_246 ... \n",
      "dense_30_dense_102_dense_270 ... \n",
      "dense_30_dense_102_dense_294 ... \n",
      "dense_30_dense_126_dense_6 ... \n",
      "dense_30_dense_126_dense_30 ... \n",
      "dense_30_dense_126_dense_54 ... \n",
      "dense_30_dense_126_dense_78 ... \n",
      "dense_30_dense_126_dense_102 ... \n",
      "dense_30_dense_126_dense_126 ... \n",
      "dense_30_dense_126_dense_150 ... \n",
      "dense_30_dense_126_dense_174 ... \n",
      "dense_30_dense_126_dense_198 ... \n",
      "dense_30_dense_126_dense_222 ... \n",
      "dense_30_dense_126_dense_246 ... \n",
      "dense_30_dense_126_dense_270 ... \n",
      "dense_30_dense_126_dense_294 ... \n",
      "dense_30_dense_150_dense_6 ... \n",
      "dense_30_dense_150_dense_30 ... \n",
      "dense_30_dense_150_dense_54 ... \n",
      "dense_30_dense_150_dense_78 ... \n",
      "dense_30_dense_150_dense_102 ... \n",
      "dense_30_dense_150_dense_126 ... \n"
     ]
    },
    {
     "name": "stdout",
     "output_type": "stream",
     "text": [
      "dense_30_dense_150_dense_150 ... \n",
      "dense_30_dense_150_dense_174 ... \n",
      "dense_30_dense_150_dense_198 ... \n",
      "dense_30_dense_150_dense_222 ... \n",
      "dense_30_dense_150_dense_246 ... \n",
      "dense_30_dense_150_dense_270 ... \n",
      "dense_30_dense_150_dense_294 ... \n",
      "dense_30_dense_174_dense_6 ... \n",
      "dense_30_dense_174_dense_30 ... \n",
      "dense_30_dense_174_dense_54 ... \n",
      "dense_30_dense_174_dense_78 ... \n",
      "dense_30_dense_174_dense_102 ... \n",
      "dense_30_dense_174_dense_126 ... \n",
      "dense_30_dense_174_dense_150 ... \n",
      "dense_30_dense_174_dense_174 ... \n",
      "dense_30_dense_174_dense_198 ... \n",
      "dense_30_dense_174_dense_222 ... \n",
      "dense_30_dense_174_dense_246 ... \n",
      "dense_30_dense_174_dense_270 ... \n",
      "dense_30_dense_174_dense_294 ... \n",
      "dense_30_dense_198_dense_6 ... \n",
      "dense_30_dense_198_dense_30 ... \n",
      "dense_30_dense_198_dense_54 ... \n",
      "dense_30_dense_198_dense_78 ... \n",
      "dense_30_dense_198_dense_102 ... \n",
      "dense_30_dense_198_dense_126 ... \n",
      "dense_30_dense_198_dense_150 ... \n",
      "dense_30_dense_198_dense_174 ... \n",
      "dense_30_dense_198_dense_198 ... \n",
      "dense_30_dense_198_dense_222 ... \n",
      "dense_30_dense_198_dense_246 ... \n",
      "dense_30_dense_198_dense_270 ... \n",
      "dense_30_dense_198_dense_294 ... \n",
      "dense_30_dense_222_dense_6 ... \n",
      "dense_30_dense_222_dense_30 ... \n",
      "dense_30_dense_222_dense_54 ... \n",
      "dense_30_dense_222_dense_78 ... \n",
      "dense_30_dense_222_dense_102 ... \n",
      "dense_30_dense_222_dense_126 ... \n",
      "dense_30_dense_222_dense_150 ... \n",
      "dense_30_dense_222_dense_174 ... \n",
      "dense_30_dense_222_dense_198 ... \n",
      "dense_30_dense_222_dense_222 ... \n",
      "dense_30_dense_222_dense_246 ... \n",
      "dense_30_dense_222_dense_270 ... \n",
      "dense_30_dense_222_dense_294 ... \n",
      "dense_30_dense_246_dense_6 ... \n",
      "dense_30_dense_246_dense_30 ... \n",
      "dense_30_dense_246_dense_54 ... \n",
      "dense_30_dense_246_dense_78 ... \n",
      "dense_30_dense_246_dense_102 ... \n",
      "dense_30_dense_246_dense_126 ... \n",
      "dense_30_dense_246_dense_150 ... \n",
      "dense_30_dense_246_dense_174 ... \n",
      "dense_30_dense_246_dense_198 ... \n",
      "dense_30_dense_246_dense_222 ... \n",
      "dense_30_dense_246_dense_246 ... \n",
      "dense_30_dense_246_dense_270 ... \n",
      "dense_30_dense_246_dense_294 ... \n",
      "dense_30_dense_270_dense_6 ... \n",
      "dense_30_dense_270_dense_30 ... \n",
      "dense_30_dense_270_dense_54 ... \n",
      "dense_30_dense_270_dense_78 ... \n",
      "dense_30_dense_270_dense_102 ... \n",
      "dense_30_dense_270_dense_126 ... \n",
      "dense_30_dense_270_dense_150 ... \n",
      "dense_30_dense_270_dense_174 ... \n",
      "dense_30_dense_270_dense_198 ... \n",
      "dense_30_dense_270_dense_222 ... \n",
      "dense_30_dense_270_dense_246 ... \n",
      "dense_30_dense_270_dense_270 ... \n",
      "dense_30_dense_270_dense_294 ... \n",
      "dense_30_dense_294_dense_6 ... \n",
      "dense_30_dense_294_dense_30 ... \n",
      "dense_30_dense_294_dense_54 ... \n",
      "dense_30_dense_294_dense_78 ... \n",
      "dense_30_dense_294_dense_102 ... \n",
      "dense_30_dense_294_dense_126 ... \n",
      "dense_30_dense_294_dense_150 ... \n",
      "dense_30_dense_294_dense_174 ... \n",
      "dense_30_dense_294_dense_198 ... \n",
      "dense_30_dense_294_dense_222 ... \n",
      "dense_30_dense_294_dense_246 ... \n",
      "dense_30_dense_294_dense_270 ... \n",
      "dense_30_dense_294_dense_294 ... \n"
     ]
    },
    {
     "ename": "KeyboardInterrupt",
     "evalue": "",
     "output_type": "error",
     "traceback": [
      "\u001b[0;31m---------------------------------------------------------------------------\u001b[0m",
      "\u001b[0;31mKeyboardInterrupt\u001b[0m                         Traceback (most recent call last)",
      "Input \u001b[0;32mIn [25]\u001b[0m, in \u001b[0;36m<cell line: 1>\u001b[0;34m()\u001b[0m\n\u001b[0;32m----> 1\u001b[0m optimization_results \u001b[38;5;241m=\u001b[39m \u001b[43moptimize\u001b[49m\u001b[43m(\u001b[49m\n\u001b[1;32m      2\u001b[0m \u001b[43m    \u001b[49m\u001b[43mmodels\u001b[49m\u001b[38;5;241;43m=\u001b[39;49m\u001b[43mall_models\u001b[49m\u001b[43m,\u001b[49m\n\u001b[1;32m      3\u001b[0m \u001b[43m    \u001b[49m\u001b[43mX_train\u001b[49m\u001b[38;5;241;43m=\u001b[39;49m\u001b[43mx_train_scaled\u001b[49m\u001b[43m,\u001b[49m\n\u001b[1;32m      4\u001b[0m \u001b[43m    \u001b[49m\u001b[43my_train\u001b[49m\u001b[38;5;241;43m=\u001b[39;49m\u001b[43my_train_scaled\u001b[49m\u001b[43m,\u001b[49m\n\u001b[1;32m      5\u001b[0m \u001b[43m    \u001b[49m\u001b[43mX_test\u001b[49m\u001b[38;5;241;43m=\u001b[39;49m\u001b[43mx_test_scaled\u001b[49m\u001b[43m,\u001b[49m\n\u001b[1;32m      6\u001b[0m \u001b[43m    \u001b[49m\u001b[43my_test\u001b[49m\u001b[38;5;241;43m=\u001b[39;49m\u001b[43my_test\u001b[49m\u001b[43m,\u001b[49m\n\u001b[1;32m      7\u001b[0m \u001b[43m    \u001b[49m\u001b[43mepochs\u001b[49m\u001b[38;5;241;43m=\u001b[39;49m\u001b[38;5;241;43m50\u001b[39;49m\u001b[43m,\u001b[49m\n\u001b[1;32m      8\u001b[0m \u001b[43m    \u001b[49m\u001b[43mbatch_size\u001b[49m\u001b[38;5;241;43m=\u001b[39;49m\u001b[38;5;241;43m100\u001b[39;49m\u001b[43m,\u001b[49m\n\u001b[1;32m      9\u001b[0m \u001b[43m    \u001b[49m\u001b[43mvalidation_split\u001b[49m\u001b[38;5;241;43m=\u001b[39;49m\u001b[38;5;241;43m0.2\u001b[39;49m\n\u001b[1;32m     10\u001b[0m \u001b[43m)\u001b[49m\n",
      "Input \u001b[0;32mIn [22]\u001b[0m, in \u001b[0;36moptimize\u001b[0;34m(models, X_train, y_train, X_test, y_test, epochs, batch_size, validation_split, verbose)\u001b[0m\n\u001b[1;32m     77\u001b[0m \u001b[38;5;28;01mtry\u001b[39;00m:\n\u001b[1;32m     78\u001b[0m     \u001b[38;5;28mprint\u001b[39m(model\u001b[38;5;241m.\u001b[39mname, end\u001b[38;5;241m=\u001b[39m\u001b[38;5;124m'\u001b[39m\u001b[38;5;124m ... \u001b[39m\u001b[38;5;130;01m\\n\u001b[39;00m\u001b[38;5;124m'\u001b[39m)\n\u001b[0;32m---> 79\u001b[0m     res \u001b[38;5;241m=\u001b[39m \u001b[43mtrain\u001b[49m\u001b[43m(\u001b[49m\u001b[43mmodel\u001b[49m\u001b[38;5;241;43m=\u001b[39;49m\u001b[43mmodel\u001b[49m\u001b[43m)\u001b[49m\n\u001b[1;32m     80\u001b[0m     results\u001b[38;5;241m.\u001b[39mappend(res)\n\u001b[1;32m     81\u001b[0m \u001b[38;5;28;01mexcept\u001b[39;00m \u001b[38;5;167;01mException\u001b[39;00m \u001b[38;5;28;01mas\u001b[39;00m e:\n",
      "Input \u001b[0;32mIn [22]\u001b[0m, in \u001b[0;36moptimize.<locals>.train\u001b[0;34m(model)\u001b[0m\n\u001b[1;32m     28\u001b[0m model\u001b[38;5;241m.\u001b[39mcompile(\n\u001b[1;32m     29\u001b[0m     loss\u001b[38;5;241m=\u001b[39m\u001b[38;5;124m'\u001b[39m\u001b[38;5;124mmse\u001b[39m\u001b[38;5;124m'\u001b[39m, \n\u001b[1;32m     30\u001b[0m     optimizer\u001b[38;5;241m=\u001b[39mopt_alg, \n\u001b[1;32m     31\u001b[0m     metrics\u001b[38;5;241m=\u001b[39m[\u001b[38;5;124m'\u001b[39m\u001b[38;5;124mmse\u001b[39m\u001b[38;5;124m'\u001b[39m,\u001b[38;5;124m'\u001b[39m\u001b[38;5;124mmae\u001b[39m\u001b[38;5;124m'\u001b[39m]\n\u001b[1;32m     32\u001b[0m )\n\u001b[1;32m     34\u001b[0m \u001b[38;5;66;03m# Train the model/ fit alg. to dataset\u001b[39;00m\n\u001b[0;32m---> 35\u001b[0m \u001b[43mmodel\u001b[49m\u001b[38;5;241;43m.\u001b[39;49m\u001b[43mfit\u001b[49m\u001b[43m(\u001b[49m\n\u001b[1;32m     36\u001b[0m \u001b[43m    \u001b[49m\u001b[43mX_train\u001b[49m\u001b[43m,\u001b[49m\n\u001b[1;32m     37\u001b[0m \u001b[43m    \u001b[49m\u001b[43my_train\u001b[49m\u001b[43m,\u001b[49m\n\u001b[1;32m     38\u001b[0m \u001b[43m    \u001b[49m\u001b[43mepochs\u001b[49m\u001b[38;5;241;43m=\u001b[39;49m\u001b[43mepochs\u001b[49m\u001b[43m,\u001b[49m\n\u001b[1;32m     39\u001b[0m \u001b[43m    \u001b[49m\u001b[43mverbose\u001b[49m\u001b[38;5;241;43m=\u001b[39;49m\u001b[43mverbose\u001b[49m\u001b[43m,\u001b[49m\n\u001b[1;32m     40\u001b[0m \u001b[43m    \u001b[49m\u001b[43mbatch_size\u001b[49m\u001b[38;5;241;43m=\u001b[39;49m\u001b[43mbatch_size\u001b[49m\u001b[43m,\u001b[49m\n\u001b[1;32m     41\u001b[0m \u001b[43m    \u001b[49m\u001b[43mvalidation_split\u001b[49m\u001b[38;5;241;43m=\u001b[39;49m\u001b[43mvalidation_split\u001b[49m\n\u001b[1;32m     42\u001b[0m \u001b[43m    \u001b[49m\n\u001b[1;32m     43\u001b[0m \u001b[43m\u001b[49m\u001b[43m)\u001b[49m\n\u001b[1;32m     46\u001b[0m \u001b[38;5;66;03m# Make predictions on the test set\u001b[39;00m\n\u001b[1;32m     47\u001b[0m y_pred_scaled \u001b[38;5;241m=\u001b[39m model\u001b[38;5;241m.\u001b[39mpredict(X_test, verbose\u001b[38;5;241m=\u001b[39mverbose)  \u001b[38;5;66;03m# Generates output predictions for the input samples\u001b[39;00m\n",
      "File \u001b[0;32m/opt/anaconda3/lib/python3.9/site-packages/keras/utils/traceback_utils.py:64\u001b[0m, in \u001b[0;36mfilter_traceback.<locals>.error_handler\u001b[0;34m(*args, **kwargs)\u001b[0m\n\u001b[1;32m     62\u001b[0m filtered_tb \u001b[38;5;241m=\u001b[39m \u001b[38;5;28;01mNone\u001b[39;00m\n\u001b[1;32m     63\u001b[0m \u001b[38;5;28;01mtry\u001b[39;00m:\n\u001b[0;32m---> 64\u001b[0m   \u001b[38;5;28;01mreturn\u001b[39;00m \u001b[43mfn\u001b[49m\u001b[43m(\u001b[49m\u001b[38;5;241;43m*\u001b[39;49m\u001b[43margs\u001b[49m\u001b[43m,\u001b[49m\u001b[43m \u001b[49m\u001b[38;5;241;43m*\u001b[39;49m\u001b[38;5;241;43m*\u001b[39;49m\u001b[43mkwargs\u001b[49m\u001b[43m)\u001b[49m\n\u001b[1;32m     65\u001b[0m \u001b[38;5;28;01mexcept\u001b[39;00m \u001b[38;5;167;01mException\u001b[39;00m \u001b[38;5;28;01mas\u001b[39;00m e:  \u001b[38;5;66;03m# pylint: disable=broad-except\u001b[39;00m\n\u001b[1;32m     66\u001b[0m   filtered_tb \u001b[38;5;241m=\u001b[39m _process_traceback_frames(e\u001b[38;5;241m.\u001b[39m__traceback__)\n",
      "File \u001b[0;32m/opt/anaconda3/lib/python3.9/site-packages/keras/engine/training.py:1409\u001b[0m, in \u001b[0;36mModel.fit\u001b[0;34m(self, x, y, batch_size, epochs, verbose, callbacks, validation_split, validation_data, shuffle, class_weight, sample_weight, initial_epoch, steps_per_epoch, validation_steps, validation_batch_size, validation_freq, max_queue_size, workers, use_multiprocessing)\u001b[0m\n\u001b[1;32m   1402\u001b[0m \u001b[38;5;28;01mwith\u001b[39;00m tf\u001b[38;5;241m.\u001b[39mprofiler\u001b[38;5;241m.\u001b[39mexperimental\u001b[38;5;241m.\u001b[39mTrace(\n\u001b[1;32m   1403\u001b[0m     \u001b[38;5;124m'\u001b[39m\u001b[38;5;124mtrain\u001b[39m\u001b[38;5;124m'\u001b[39m,\n\u001b[1;32m   1404\u001b[0m     epoch_num\u001b[38;5;241m=\u001b[39mepoch,\n\u001b[1;32m   1405\u001b[0m     step_num\u001b[38;5;241m=\u001b[39mstep,\n\u001b[1;32m   1406\u001b[0m     batch_size\u001b[38;5;241m=\u001b[39mbatch_size,\n\u001b[1;32m   1407\u001b[0m     _r\u001b[38;5;241m=\u001b[39m\u001b[38;5;241m1\u001b[39m):\n\u001b[1;32m   1408\u001b[0m   callbacks\u001b[38;5;241m.\u001b[39mon_train_batch_begin(step)\n\u001b[0;32m-> 1409\u001b[0m   tmp_logs \u001b[38;5;241m=\u001b[39m \u001b[38;5;28;43mself\u001b[39;49m\u001b[38;5;241;43m.\u001b[39;49m\u001b[43mtrain_function\u001b[49m\u001b[43m(\u001b[49m\u001b[43miterator\u001b[49m\u001b[43m)\u001b[49m\n\u001b[1;32m   1410\u001b[0m   \u001b[38;5;28;01mif\u001b[39;00m data_handler\u001b[38;5;241m.\u001b[39mshould_sync:\n\u001b[1;32m   1411\u001b[0m     context\u001b[38;5;241m.\u001b[39masync_wait()\n",
      "File \u001b[0;32m/opt/anaconda3/lib/python3.9/site-packages/tensorflow/python/util/traceback_utils.py:150\u001b[0m, in \u001b[0;36mfilter_traceback.<locals>.error_handler\u001b[0;34m(*args, **kwargs)\u001b[0m\n\u001b[1;32m    148\u001b[0m filtered_tb \u001b[38;5;241m=\u001b[39m \u001b[38;5;28;01mNone\u001b[39;00m\n\u001b[1;32m    149\u001b[0m \u001b[38;5;28;01mtry\u001b[39;00m:\n\u001b[0;32m--> 150\u001b[0m   \u001b[38;5;28;01mreturn\u001b[39;00m \u001b[43mfn\u001b[49m\u001b[43m(\u001b[49m\u001b[38;5;241;43m*\u001b[39;49m\u001b[43margs\u001b[49m\u001b[43m,\u001b[49m\u001b[43m \u001b[49m\u001b[38;5;241;43m*\u001b[39;49m\u001b[38;5;241;43m*\u001b[39;49m\u001b[43mkwargs\u001b[49m\u001b[43m)\u001b[49m\n\u001b[1;32m    151\u001b[0m \u001b[38;5;28;01mexcept\u001b[39;00m \u001b[38;5;167;01mException\u001b[39;00m \u001b[38;5;28;01mas\u001b[39;00m e:\n\u001b[1;32m    152\u001b[0m   filtered_tb \u001b[38;5;241m=\u001b[39m _process_traceback_frames(e\u001b[38;5;241m.\u001b[39m__traceback__)\n",
      "File \u001b[0;32m/opt/anaconda3/lib/python3.9/site-packages/tensorflow/python/eager/def_function.py:915\u001b[0m, in \u001b[0;36mFunction.__call__\u001b[0;34m(self, *args, **kwds)\u001b[0m\n\u001b[1;32m    912\u001b[0m compiler \u001b[38;5;241m=\u001b[39m \u001b[38;5;124m\"\u001b[39m\u001b[38;5;124mxla\u001b[39m\u001b[38;5;124m\"\u001b[39m \u001b[38;5;28;01mif\u001b[39;00m \u001b[38;5;28mself\u001b[39m\u001b[38;5;241m.\u001b[39m_jit_compile \u001b[38;5;28;01melse\u001b[39;00m \u001b[38;5;124m\"\u001b[39m\u001b[38;5;124mnonXla\u001b[39m\u001b[38;5;124m\"\u001b[39m\n\u001b[1;32m    914\u001b[0m \u001b[38;5;28;01mwith\u001b[39;00m OptionalXlaContext(\u001b[38;5;28mself\u001b[39m\u001b[38;5;241m.\u001b[39m_jit_compile):\n\u001b[0;32m--> 915\u001b[0m   result \u001b[38;5;241m=\u001b[39m \u001b[38;5;28;43mself\u001b[39;49m\u001b[38;5;241;43m.\u001b[39;49m\u001b[43m_call\u001b[49m\u001b[43m(\u001b[49m\u001b[38;5;241;43m*\u001b[39;49m\u001b[43margs\u001b[49m\u001b[43m,\u001b[49m\u001b[43m \u001b[49m\u001b[38;5;241;43m*\u001b[39;49m\u001b[38;5;241;43m*\u001b[39;49m\u001b[43mkwds\u001b[49m\u001b[43m)\u001b[49m\n\u001b[1;32m    917\u001b[0m new_tracing_count \u001b[38;5;241m=\u001b[39m \u001b[38;5;28mself\u001b[39m\u001b[38;5;241m.\u001b[39mexperimental_get_tracing_count()\n\u001b[1;32m    918\u001b[0m without_tracing \u001b[38;5;241m=\u001b[39m (tracing_count \u001b[38;5;241m==\u001b[39m new_tracing_count)\n",
      "File \u001b[0;32m/opt/anaconda3/lib/python3.9/site-packages/tensorflow/python/eager/def_function.py:947\u001b[0m, in \u001b[0;36mFunction._call\u001b[0;34m(self, *args, **kwds)\u001b[0m\n\u001b[1;32m    944\u001b[0m   \u001b[38;5;28mself\u001b[39m\u001b[38;5;241m.\u001b[39m_lock\u001b[38;5;241m.\u001b[39mrelease()\n\u001b[1;32m    945\u001b[0m   \u001b[38;5;66;03m# In this case we have created variables on the first call, so we run the\u001b[39;00m\n\u001b[1;32m    946\u001b[0m   \u001b[38;5;66;03m# defunned version which is guaranteed to never create variables.\u001b[39;00m\n\u001b[0;32m--> 947\u001b[0m   \u001b[38;5;28;01mreturn\u001b[39;00m \u001b[38;5;28;43mself\u001b[39;49m\u001b[38;5;241;43m.\u001b[39;49m\u001b[43m_stateless_fn\u001b[49m\u001b[43m(\u001b[49m\u001b[38;5;241;43m*\u001b[39;49m\u001b[43margs\u001b[49m\u001b[43m,\u001b[49m\u001b[43m \u001b[49m\u001b[38;5;241;43m*\u001b[39;49m\u001b[38;5;241;43m*\u001b[39;49m\u001b[43mkwds\u001b[49m\u001b[43m)\u001b[49m  \u001b[38;5;66;03m# pylint: disable=not-callable\u001b[39;00m\n\u001b[1;32m    948\u001b[0m \u001b[38;5;28;01melif\u001b[39;00m \u001b[38;5;28mself\u001b[39m\u001b[38;5;241m.\u001b[39m_stateful_fn \u001b[38;5;129;01mis\u001b[39;00m \u001b[38;5;129;01mnot\u001b[39;00m \u001b[38;5;28;01mNone\u001b[39;00m:\n\u001b[1;32m    949\u001b[0m   \u001b[38;5;66;03m# Release the lock early so that multiple threads can perform the call\u001b[39;00m\n\u001b[1;32m    950\u001b[0m   \u001b[38;5;66;03m# in parallel.\u001b[39;00m\n\u001b[1;32m    951\u001b[0m   \u001b[38;5;28mself\u001b[39m\u001b[38;5;241m.\u001b[39m_lock\u001b[38;5;241m.\u001b[39mrelease()\n",
      "File \u001b[0;32m/opt/anaconda3/lib/python3.9/site-packages/tensorflow/python/eager/function.py:2452\u001b[0m, in \u001b[0;36mFunction.__call__\u001b[0;34m(self, *args, **kwargs)\u001b[0m\n\u001b[1;32m   2449\u001b[0m \u001b[38;5;124;03m\"\"\"Calls a graph function specialized to the inputs.\"\"\"\u001b[39;00m\n\u001b[1;32m   2450\u001b[0m \u001b[38;5;28;01mwith\u001b[39;00m \u001b[38;5;28mself\u001b[39m\u001b[38;5;241m.\u001b[39m_lock:\n\u001b[1;32m   2451\u001b[0m   (graph_function,\n\u001b[0;32m-> 2452\u001b[0m    filtered_flat_args) \u001b[38;5;241m=\u001b[39m \u001b[38;5;28;43mself\u001b[39;49m\u001b[38;5;241;43m.\u001b[39;49m\u001b[43m_maybe_define_function\u001b[49m\u001b[43m(\u001b[49m\u001b[43margs\u001b[49m\u001b[43m,\u001b[49m\u001b[43m \u001b[49m\u001b[43mkwargs\u001b[49m\u001b[43m)\u001b[49m\n\u001b[1;32m   2453\u001b[0m \u001b[38;5;28;01mreturn\u001b[39;00m graph_function\u001b[38;5;241m.\u001b[39m_call_flat(\n\u001b[1;32m   2454\u001b[0m     filtered_flat_args, captured_inputs\u001b[38;5;241m=\u001b[39mgraph_function\u001b[38;5;241m.\u001b[39mcaptured_inputs)\n",
      "File \u001b[0;32m/opt/anaconda3/lib/python3.9/site-packages/tensorflow/python/eager/function.py:2689\u001b[0m, in \u001b[0;36mFunction._maybe_define_function\u001b[0;34m(self, args, kwargs)\u001b[0m\n\u001b[1;32m   2684\u001b[0m \u001b[38;5;28;01mexcept\u001b[39;00m \u001b[38;5;167;01mTypeError\u001b[39;00m \u001b[38;5;28;01mas\u001b[39;00m e:\n\u001b[1;32m   2685\u001b[0m   \u001b[38;5;28;01mraise\u001b[39;00m \u001b[38;5;167;01mTypeError\u001b[39;00m(\n\u001b[1;32m   2686\u001b[0m       \u001b[38;5;124m\"\u001b[39m\u001b[38;5;124mArguments supplied to `defun`-generated functions must be \u001b[39m\u001b[38;5;124m\"\u001b[39m\n\u001b[1;32m   2687\u001b[0m       \u001b[38;5;124mf\u001b[39m\u001b[38;5;124m\"\u001b[39m\u001b[38;5;124mhashable.  Original error: \u001b[39m\u001b[38;5;132;01m{\u001b[39;00me\u001b[38;5;132;01m}\u001b[39;00m\u001b[38;5;124m.\u001b[39m\u001b[38;5;124m\"\u001b[39m)\n\u001b[0;32m-> 2689\u001b[0m graph_function \u001b[38;5;241m=\u001b[39m \u001b[38;5;28;43mself\u001b[39;49m\u001b[38;5;241;43m.\u001b[39;49m\u001b[43m_function_cache\u001b[49m\u001b[38;5;241;43m.\u001b[39;49m\u001b[43mlookup\u001b[49m\u001b[43m(\u001b[49m\u001b[43mcache_key\u001b[49m\u001b[43m,\u001b[49m\u001b[43m \u001b[49m\u001b[38;5;28;43;01mTrue\u001b[39;49;00m\u001b[43m)\u001b[49m\n\u001b[1;32m   2690\u001b[0m \u001b[38;5;28;01mif\u001b[39;00m graph_function \u001b[38;5;129;01mis\u001b[39;00m \u001b[38;5;129;01mnot\u001b[39;00m \u001b[38;5;28;01mNone\u001b[39;00m:\n\u001b[1;32m   2691\u001b[0m   \u001b[38;5;28;01mreturn\u001b[39;00m graph_function, filtered_flat_args\n",
      "File \u001b[0;32m/opt/anaconda3/lib/python3.9/site-packages/tensorflow/core/function/polymorphism/function_cache.py:119\u001b[0m, in \u001b[0;36mFunctionCache.lookup\u001b[0;34m(self, key, use_function_subtyping)\u001b[0m\n\u001b[1;32m    116\u001b[0m \u001b[38;5;28;01mif\u001b[39;00m \u001b[38;5;129;01mnot\u001b[39;00m use_function_subtyping:\n\u001b[1;32m    117\u001b[0m   \u001b[38;5;28;01mreturn\u001b[39;00m \u001b[38;5;28mself\u001b[39m\u001b[38;5;241m.\u001b[39m_primary\u001b[38;5;241m.\u001b[39mget(key, \u001b[38;5;28;01mNone\u001b[39;00m)\n\u001b[0;32m--> 119\u001b[0m dispatch_key \u001b[38;5;241m=\u001b[39m \u001b[38;5;28;43mself\u001b[39;49m\u001b[38;5;241;43m.\u001b[39;49m\u001b[43m_dispatch_table\u001b[49m\u001b[38;5;241;43m.\u001b[39;49m\u001b[43mdispatch\u001b[49m\u001b[43m(\u001b[49m\u001b[43mkey\u001b[49m\u001b[43m)\u001b[49m\n\u001b[1;32m    120\u001b[0m \u001b[38;5;28;01mif\u001b[39;00m dispatch_key \u001b[38;5;129;01mis\u001b[39;00m \u001b[38;5;129;01mnot\u001b[39;00m \u001b[38;5;28;01mNone\u001b[39;00m:\n\u001b[1;32m    121\u001b[0m   \u001b[38;5;28;01mreturn\u001b[39;00m \u001b[38;5;28mself\u001b[39m\u001b[38;5;241m.\u001b[39m_primary[dispatch_key]\n",
      "File \u001b[0;32m/opt/anaconda3/lib/python3.9/site-packages/tensorflow/core/function/polymorphism/type_dispatch.py:78\u001b[0m, in \u001b[0;36mTypeDispatchTable.dispatch\u001b[0;34m(self, request)\u001b[0m\n\u001b[1;32m     76\u001b[0m \u001b[38;5;124;03m\"\"\"Returns the deepest subtype target if it exists in the table.\"\"\"\u001b[39;00m\n\u001b[1;32m     77\u001b[0m \u001b[38;5;66;03m# For known exact matches.\u001b[39;00m\n\u001b[0;32m---> 78\u001b[0m \u001b[38;5;28;01mif\u001b[39;00m \u001b[43mrequest\u001b[49m\u001b[43m \u001b[49m\u001b[38;5;129;43;01min\u001b[39;49;00m\u001b[43m \u001b[49m\u001b[38;5;28;43mself\u001b[39;49m\u001b[38;5;241;43m.\u001b[39;49m\u001b[43m_dispatch_table\u001b[49m:\n\u001b[1;32m     79\u001b[0m   \u001b[38;5;28;01mreturn\u001b[39;00m request\n\u001b[1;32m     81\u001b[0m \u001b[38;5;66;03m# For known non-exact matches.\u001b[39;00m\n\u001b[1;32m     82\u001b[0m \u001b[38;5;66;03m# (self._dispatch cache does not contain exact matches)\u001b[39;00m\n",
      "File \u001b[0;32m/opt/anaconda3/lib/python3.9/site-packages/tensorflow/core/function/polymorphism/function_cache.py:86\u001b[0m, in \u001b[0;36mFunctionCacheKey.__eq__\u001b[0;34m(self, other)\u001b[0m\n\u001b[1;32m     82\u001b[0m \u001b[38;5;28;01mif\u001b[39;00m \u001b[38;5;129;01mnot\u001b[39;00m \u001b[38;5;28misinstance\u001b[39m(other, FunctionCacheKey):\n\u001b[1;32m     83\u001b[0m   \u001b[38;5;28;01mreturn\u001b[39;00m \u001b[38;5;28;01mFalse\u001b[39;00m\n\u001b[1;32m     85\u001b[0m \u001b[38;5;28;01mreturn\u001b[39;00m (\u001b[38;5;28mself\u001b[39m\u001b[38;5;241m.\u001b[39mcall_context \u001b[38;5;241m==\u001b[39m other\u001b[38;5;241m.\u001b[39mcall_context \u001b[38;5;129;01mand\u001b[39;00m\n\u001b[0;32m---> 86\u001b[0m         \u001b[38;5;28;43mself\u001b[39;49m\u001b[38;5;241;43m.\u001b[39;49m\u001b[43mfunction_signature\u001b[49m\u001b[43m \u001b[49m\u001b[38;5;241;43m==\u001b[39;49m\u001b[43m \u001b[49m\u001b[43mother\u001b[49m\u001b[38;5;241;43m.\u001b[39;49m\u001b[43mfunction_signature\u001b[49m)\n",
      "File \u001b[0;32m/opt/anaconda3/lib/python3.9/site-packages/tensorflow/core/function/trace_type/default_types.py:133\u001b[0m, in \u001b[0;36mOrderedCollection.__eq__\u001b[0;34m(self, other)\u001b[0m\n\u001b[1;32m    130\u001b[0m \u001b[38;5;28;01mif\u001b[39;00m \u001b[38;5;129;01mnot\u001b[39;00m \u001b[38;5;28mself\u001b[39m\u001b[38;5;241m.\u001b[39m_shallow_equal(other):\n\u001b[1;32m    131\u001b[0m   \u001b[38;5;28;01mreturn\u001b[39;00m \u001b[38;5;28;01mFalse\u001b[39;00m\n\u001b[0;32m--> 133\u001b[0m \u001b[38;5;28;01mreturn\u001b[39;00m \u001b[38;5;28;43mself\u001b[39;49m\u001b[38;5;241;43m.\u001b[39;49m\u001b[43mcomponents\u001b[49m\u001b[43m \u001b[49m\u001b[38;5;241;43m==\u001b[39;49m\u001b[43m \u001b[49m\u001b[43mother\u001b[49m\u001b[38;5;241;43m.\u001b[39;49m\u001b[43mcomponents\u001b[49m\n",
      "File \u001b[0;32m/opt/anaconda3/lib/python3.9/site-packages/tensorflow/core/function/trace_type/default_types.py:133\u001b[0m, in \u001b[0;36mOrderedCollection.__eq__\u001b[0;34m(self, other)\u001b[0m\n\u001b[1;32m    130\u001b[0m \u001b[38;5;28;01mif\u001b[39;00m \u001b[38;5;129;01mnot\u001b[39;00m \u001b[38;5;28mself\u001b[39m\u001b[38;5;241m.\u001b[39m_shallow_equal(other):\n\u001b[1;32m    131\u001b[0m   \u001b[38;5;28;01mreturn\u001b[39;00m \u001b[38;5;28;01mFalse\u001b[39;00m\n\u001b[0;32m--> 133\u001b[0m \u001b[38;5;28;01mreturn\u001b[39;00m \u001b[38;5;28;43mself\u001b[39;49m\u001b[38;5;241;43m.\u001b[39;49m\u001b[43mcomponents\u001b[49m\u001b[43m \u001b[49m\u001b[38;5;241;43m==\u001b[39;49m\u001b[43m \u001b[49m\u001b[43mother\u001b[49m\u001b[38;5;241;43m.\u001b[39;49m\u001b[43mcomponents\u001b[49m\n",
      "File \u001b[0;32m/opt/anaconda3/lib/python3.9/site-packages/tensorflow/core/function/trace_type/default_types.py:332\u001b[0m, in \u001b[0;36mReference.__eq__\u001b[0;34m(self, other)\u001b[0m\n\u001b[1;32m    327\u001b[0m \u001b[38;5;28;01mif\u001b[39;00m \u001b[38;5;129;01mnot\u001b[39;00m \u001b[38;5;28misinstance\u001b[39m(other, trace\u001b[38;5;241m.\u001b[39mTraceType):\n\u001b[1;32m    328\u001b[0m   \u001b[38;5;28;01mreturn\u001b[39;00m \u001b[38;5;28mNotImplemented\u001b[39m\n\u001b[1;32m    330\u001b[0m \u001b[38;5;28;01mreturn\u001b[39;00m \u001b[38;5;28misinstance\u001b[39m(\n\u001b[1;32m    331\u001b[0m     other, Reference\n\u001b[0;32m--> 332\u001b[0m ) \u001b[38;5;129;01mand\u001b[39;00m \u001b[38;5;28mself\u001b[39m\u001b[38;5;241m.\u001b[39midentifier \u001b[38;5;241m==\u001b[39m other\u001b[38;5;241m.\u001b[39midentifier \u001b[38;5;129;01mand\u001b[39;00m \u001b[38;5;28;43mself\u001b[39;49m\u001b[38;5;241;43m.\u001b[39;49m\u001b[43mbase\u001b[49m\u001b[43m \u001b[49m\u001b[38;5;241;43m==\u001b[39;49m\u001b[43m \u001b[49m\u001b[43mother\u001b[49m\u001b[38;5;241;43m.\u001b[39;49m\u001b[43mbase\u001b[49m\n",
      "File \u001b[0;32m/opt/anaconda3/lib/python3.9/site-packages/tensorflow/python/framework/type_spec.py:440\u001b[0m, in \u001b[0;36mTypeSpec.__eq__\u001b[0;34m(self, other)\u001b[0m\n\u001b[1;32m    438\u001b[0m \u001b[38;5;28;01mdef\u001b[39;00m \u001b[38;5;21m__eq__\u001b[39m(\u001b[38;5;28mself\u001b[39m, other) \u001b[38;5;241m-\u001b[39m\u001b[38;5;241m>\u001b[39m \u001b[38;5;28mbool\u001b[39m:\n\u001b[1;32m    439\u001b[0m   \u001b[38;5;66;03m# pylint: disable=protected-access\u001b[39;00m\n\u001b[0;32m--> 440\u001b[0m   \u001b[38;5;28;01mreturn\u001b[39;00m (\u001b[38;5;28;43mtype\u001b[39;49m\u001b[43m(\u001b[49m\u001b[43mother\u001b[49m\u001b[43m)\u001b[49m \u001b[38;5;129;01mis\u001b[39;00m \u001b[38;5;28mtype\u001b[39m(\u001b[38;5;28mself\u001b[39m) \u001b[38;5;129;01mand\u001b[39;00m\n\u001b[1;32m    441\u001b[0m           \u001b[38;5;28mself\u001b[39m\u001b[38;5;241m.\u001b[39m__get_cmp_key() \u001b[38;5;241m==\u001b[39m other\u001b[38;5;241m.\u001b[39m__get_cmp_key())\n",
      "\u001b[0;31mKeyboardInterrupt\u001b[0m: "
     ]
    }
   ],
   "source": [
    "optimization_results = optimize(\n",
    "    models=all_models,\n",
    "    X_train=x_train_scaled,\n",
    "    y_train=y_train_scaled,\n",
    "    X_test=x_test_scaled,\n",
    "    y_test=y_test,\n",
    "    epochs=50,\n",
    "    batch_size=100,\n",
    "    validation_split=0.2\n",
    ")"
   ]
  },
  {
   "cell_type": "code",
   "execution_count": null,
   "id": "971e78fb",
   "metadata": {},
   "outputs": [],
   "source": [
    "optimization_results"
   ]
  },
  {
   "cell_type": "code",
   "execution_count": null,
   "id": "7559f7e7",
   "metadata": {},
   "outputs": [],
   "source": [
    "# write to disk\n",
    "output_dir = dataset_dir\n",
    "output_file = 'mlp_search_results_num_layers_'+str(num_layers)+'.csv'\n",
    "output_fp = os.path.join(output_dir, output_file)\n",
    "optimization_results.to_csv(output_fp, index=False)\n",
    "output_fp"
   ]
  },
  {
   "cell_type": "code",
   "execution_count": null,
   "id": "e418e2df",
   "metadata": {},
   "outputs": [],
   "source": [
    "now2 = dt.now()\n",
    "runtime = now2-now1\n",
    "print(runtime)"
   ]
  }
 ],
 "metadata": {
  "kernelspec": {
   "display_name": "Python 3 (ipykernel)",
   "language": "python",
   "name": "python3"
  },
  "language_info": {
   "codemirror_mode": {
    "name": "ipython",
    "version": 3
   },
   "file_extension": ".py",
   "mimetype": "text/x-python",
   "name": "python",
   "nbconvert_exporter": "python",
   "pygments_lexer": "ipython3",
   "version": "3.9.12"
  }
 },
 "nbformat": 4,
 "nbformat_minor": 5
}
