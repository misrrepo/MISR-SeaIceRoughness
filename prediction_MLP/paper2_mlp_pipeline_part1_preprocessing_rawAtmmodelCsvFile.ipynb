{
 "cells": [
  {
   "cell_type": "markdown",
   "id": "43d724fd",
   "metadata": {},
   "source": [
    "### What does this code do:\n",
    "This code processes the atmmodel.csv from C-code and returns a clean (???) training dataset w/the <same_name_preprocessed.csv> label at the end."
   ]
  },
  {
   "cell_type": "code",
   "execution_count": 1,
   "id": "74cb2325",
   "metadata": {},
   "outputs": [],
   "source": [
    "import os\n",
    "import pandas as pd\n",
    "# import matplotlib.pyplot as plt "
   ]
  },
  {
   "cell_type": "code",
   "execution_count": 2,
   "id": "02be279c",
   "metadata": {},
   "outputs": [
    {
     "name": "stdout",
     "output_type": "stream",
     "text": [
      "latest run on: 2022-06-03 19:37:44.980062\n"
     ]
    }
   ],
   "source": [
    "from datetime import datetime\n",
    "today = datetime.today()\n",
    "\n",
    "print('latest run on:', today)"
   ]
  },
  {
   "cell_type": "markdown",
   "id": "7bcfe260",
   "metadata": {},
   "source": [
    "## check tensorflow version"
   ]
  },
  {
   "cell_type": "code",
   "execution_count": 3,
   "id": "57a7442b",
   "metadata": {},
   "outputs": [],
   "source": [
    "# print (tensorflow.__version__)"
   ]
  },
  {
   "cell_type": "code",
   "execution_count": 4,
   "id": "69ea5d88",
   "metadata": {},
   "outputs": [],
   "source": [
    "remove_camera_outlier = False "
   ]
  },
  {
   "cell_type": "markdown",
   "id": "7fb3750d",
   "metadata": {},
   "source": [
    "### functions(.)"
   ]
  },
  {
   "cell_type": "code",
   "execution_count": 1,
   "id": "be8894c1",
   "metadata": {},
   "outputs": [],
   "source": [
    "def remove_outliers_IQR(df, cutoff):\n",
    "    df.drop((df[df['rms'] > cutoff].index), inplace=True)\n",
    "    print('Removing outliers in ATM roughness values (IQR method): after dropping roughness values > %.1f in dataset; new shape= (%s,%s)' %(cutoff, df.shape[0], df.shape[1]))\n",
    "    return  # the same as None, cuz inplace=True\n"
   ]
  },
  {
   "cell_type": "markdown",
   "id": "56aba0b3",
   "metadata": {},
   "source": [
    "## input directory"
   ]
  },
  {
   "cell_type": "code",
   "execution_count": 6,
   "id": "c9d30fc6",
   "metadata": {},
   "outputs": [],
   "source": [
    "dataset_dir = \"/Users/ehsanmos/MLP_dataset\""
   ]
  },
  {
   "cell_type": "code",
   "execution_count": 7,
   "id": "2bf041aa",
   "metadata": {},
   "outputs": [
    {
     "name": "stdout",
     "output_type": "stream",
     "text": [
      "dataset directory FOUND!\n"
     ]
    }
   ],
   "source": [
    "if os.path.isdir(dataset_dir) == False:\n",
    "    print(\"dataset directory NOT found!\")\n",
    "else:\n",
    "    print(\"dataset directory FOUND!\")"
   ]
  },
  {
   "cell_type": "markdown",
   "id": "eccbffb9",
   "metadata": {},
   "source": [
    "## Load input/ training dataset\n",
    "\n",
    "before doing this section, process filter final input dataset with \"check_n_filter_final_dataset\""
   ]
  },
  {
   "cell_type": "code",
   "execution_count": 8,
   "id": "4af39e8f",
   "metadata": {},
   "outputs": [],
   "source": [
    "in_ds = \"atmmodel_july_2016_k_zero_9cams4bands.csv\""
   ]
  },
  {
   "cell_type": "markdown",
   "id": "09b6dc59",
   "metadata": {},
   "source": [
    "## check if input dataset file exists"
   ]
  },
  {
   "cell_type": "code",
   "execution_count": 9,
   "id": "37ac74e6",
   "metadata": {},
   "outputs": [
    {
     "name": "stdout",
     "output_type": "stream",
     "text": [
      "/Users/ehsanmos/MLP_dataset/atmmodel_july_2016_k_zero_9cams4bands.csv\n",
      "input dataset found!\n"
     ]
    }
   ],
   "source": [
    "in_ds_fullpath = os.path.join(dataset_dir, in_ds)\n",
    "print(in_ds_fullpath)\n",
    "\n",
    "if (not os.path.isfile(os.path.join(in_ds_fullpath))):\n",
    "    raise SystemExit()\n",
    "else:\n",
    "    print(\"input dataset found!\")"
   ]
  },
  {
   "cell_type": "markdown",
   "id": "259b6d7b",
   "metadata": {},
   "source": [
    "## Read in dataset and look at dataset columns"
   ]
  },
  {
   "cell_type": "code",
   "execution_count": 10,
   "id": "b4582b5a",
   "metadata": {},
   "outputs": [],
   "source": [
    "df_orig = pd.read_csv(in_ds_fullpath, engine='python')"
   ]
  },
  {
   "cell_type": "code",
   "execution_count": 11,
   "id": "790ea7e3",
   "metadata": {},
   "outputs": [
    {
     "data": {
      "text/plain": [
       "(34403, 24)"
      ]
     },
     "execution_count": 11,
     "metadata": {},
     "output_type": "execute_result"
    }
   ],
   "source": [
    "df_orig.shape"
   ]
  },
  {
   "cell_type": "code",
   "execution_count": 12,
   "id": "4164b4d7",
   "metadata": {},
   "outputs": [
    {
     "data": {
      "text/plain": [
       "Index(['path', 'orbit', 'img_block', 'line', 'sample', 'firstLat', 'firstLon',\n",
       "       'anr', 'ang', 'anb', 'annir', 'aa', 'af', 'ba', 'bf', 'ca', 'cf', 'da',\n",
       "       'df', 'rms', 'weight', 'npts', 'cloud', 'var'],\n",
       "      dtype='object')"
      ]
     },
     "execution_count": 12,
     "metadata": {},
     "output_type": "execute_result"
    }
   ],
   "source": [
    "df_orig.columns"
   ]
  },
  {
   "cell_type": "markdown",
   "id": "599b6408",
   "metadata": {},
   "source": [
    "## drop redundant columns\n",
    "why drop columns? because we do not use them in training our neural nets"
   ]
  },
  {
   "cell_type": "code",
   "execution_count": 13,
   "id": "252b107d",
   "metadata": {},
   "outputs": [
    {
     "name": "stdout",
     "output_type": "stream",
     "text": [
      "new columns:\n",
      "15\n",
      "Index(['firstLat', 'firstLon', 'anr', 'ang', 'anb', 'annir', 'aa', 'af', 'ba',\n",
      "       'bf', 'ca', 'cf', 'da', 'df', 'rms'],\n",
      "      dtype='object')\n"
     ]
    }
   ],
   "source": [
    "##- with 12 cameras\n",
    "dataset_df = df_orig.drop(['path', 'orbit', 'img_block', 'line', 'sample', 'weight', 'npts', 'cloud', 'var'], axis=1)\n",
    "\n",
    "print('new columns:')\n",
    "print(len(dataset_df.columns)) # columns should be only 12 cameras + rms + latlon\n",
    "print(dataset_df.columns)\n"
   ]
  },
  {
   "cell_type": "markdown",
   "id": "ba4b8050",
   "metadata": {},
   "source": [
    "## shuffle rows of input dataset"
   ]
  },
  {
   "cell_type": "code",
   "execution_count": 14,
   "id": "f7f0f96d",
   "metadata": {},
   "outputs": [],
   "source": [
    "# from sklearn.utils import shuffle\n",
    "\n",
    "# dataset_df = shuffle(dataset_df)"
   ]
  },
  {
   "cell_type": "markdown",
   "id": "563efb7b",
   "metadata": {},
   "source": [
    "### Visual check of dataset before cleaning data\n",
    "look at stats of some columns"
   ]
  },
  {
   "cell_type": "code",
   "execution_count": 15,
   "id": "7f3fb3d4",
   "metadata": {},
   "outputs": [
    {
     "name": "stdout",
     "output_type": "stream",
     "text": [
      "AN, before cleaning bad data:\n",
      "min: -1.0\n",
      "max: 1.87117\n",
      "mean: 0.07000946516292157\n",
      "median: 0.391959\n",
      "\n",
      "ATM roughness, before cleaning bad data:\n",
      "min: 2.3375\n",
      "max: 148.8825\n",
      "mean: 8.525203821614342\n",
      "median: 5.903333\n"
     ]
    }
   ],
   "source": [
    "print('AN, before cleaning bad data:')\n",
    "print('min: %s' % dataset_df['anr'].min())\n",
    "print('max: %s' % dataset_df['anr'].max())\n",
    "print('mean: %s' %dataset_df['anr'].mean())\n",
    "print('median: %s' %dataset_df['anr'].median())\n",
    "\n",
    "print('\\nATM roughness, before cleaning bad data:')\n",
    "print('min: %s' % dataset_df['rms'].min())\n",
    "print('max: %s' % dataset_df['rms'].max())\n",
    "print('mean: %s' %dataset_df['rms'].mean())\n",
    "print('median: %s' %dataset_df['rms'].median())"
   ]
  },
  {
   "cell_type": "markdown",
   "id": "901f8079",
   "metadata": {},
   "source": [
    "### plot histogram of all columns of input dataset to visually check distribution of data "
   ]
  },
  {
   "cell_type": "code",
   "execution_count": 16,
   "id": "25457856",
   "metadata": {},
   "outputs": [
    {
     "data": {
      "text/plain": [
       "array([[<AxesSubplot:title={'center':'firstLat'}>,\n",
       "        <AxesSubplot:title={'center':'firstLon'}>,\n",
       "        <AxesSubplot:title={'center':'anr'}>,\n",
       "        <AxesSubplot:title={'center':'ang'}>],\n",
       "       [<AxesSubplot:title={'center':'anb'}>,\n",
       "        <AxesSubplot:title={'center':'annir'}>,\n",
       "        <AxesSubplot:title={'center':'aa'}>,\n",
       "        <AxesSubplot:title={'center':'af'}>],\n",
       "       [<AxesSubplot:title={'center':'ba'}>,\n",
       "        <AxesSubplot:title={'center':'bf'}>,\n",
       "        <AxesSubplot:title={'center':'ca'}>,\n",
       "        <AxesSubplot:title={'center':'cf'}>],\n",
       "       [<AxesSubplot:title={'center':'da'}>,\n",
       "        <AxesSubplot:title={'center':'df'}>,\n",
       "        <AxesSubplot:title={'center':'rms'}>, <AxesSubplot:>]],\n",
       "      dtype=object)"
      ]
     },
     "execution_count": 16,
     "metadata": {},
     "output_type": "execute_result"
    },
    {
     "data": {
      "image/png": "[encoded data removed]",
      "text/plain": [
       "<Figure size 432x288 with 16 Axes>"
      ]
     },
     "metadata": {
      "needs_background": "light"
     },
     "output_type": "display_data"
    }
   ],
   "source": [
    "dataset_df.hist(bins=10)"
   ]
  },
  {
   "cell_type": "markdown",
   "id": "17d490d5",
   "metadata": {},
   "source": [
    "## remove negative data from each row\n",
    "we want to train our MLP models, so we will remove negative values, NAN values, masked values such as land mask, etc. also any rows that does not have all 9 or 12 cameras all together"
   ]
  },
  {
   "cell_type": "code",
   "execution_count": 17,
   "id": "673d5431",
   "metadata": {},
   "outputs": [
    {
     "name": "stdout",
     "output_type": "stream",
     "text": [
      "before dropping negative values: (34403, 15)\n",
      "after dropping negative values: (17693, 15)\n"
     ]
    },
    {
     "name": "stderr",
     "output_type": "stream",
     "text": [
      "/var/folders/0l/r3vc28ks6n99yn157sn20whw0000gn/T/ipykernel_3879/3998210268.py:5: FutureWarning: Index.__or__ operating as a set operation is deprecated, in the future this will be a logical operation matching Series.__or__.  Use index.union(other) instead.\n",
      "  dataset_df.drop((dataset_df[dataset_df['da'] < 0.0].index) |\n"
     ]
    }
   ],
   "source": [
    "print('before dropping negative values: (%s, %s)' %dataset_df.shape)\n",
    "\n",
    "\n",
    "#- remove/ drop negative values from all input features\n",
    "dataset_df.drop((dataset_df[dataset_df['da'] < 0.0].index) | \n",
    "                (dataset_df[dataset_df['ca'] < 0.0].index) | \n",
    "                (dataset_df[dataset_df['ba'] < 0.0].index) |\n",
    "                (dataset_df[dataset_df['aa'] < 0.0].index) |\n",
    "                (dataset_df[dataset_df['anr'] < 0.0].index) |\n",
    "                (dataset_df[dataset_df['ang'] < 0.0].index) |\n",
    "                (dataset_df[dataset_df['anb'] < 0.0].index) |\n",
    "                (dataset_df[dataset_df['annir'] < 0.0].index) |\n",
    "                (dataset_df[dataset_df['af'] < 0.0].index) |\n",
    "                (dataset_df[dataset_df['bf'] < 0.0].index) |\n",
    "                (dataset_df[dataset_df['cf'] < 0.0].index) |\n",
    "                (dataset_df[dataset_df['df'] < 0.0].index), inplace=True)\n",
    "\n",
    "\n",
    "print('after dropping negative values: (%s, %s)' %dataset_df.shape)"
   ]
  },
  {
   "cell_type": "markdown",
   "id": "380e9b20",
   "metadata": {},
   "source": [
    "## remove outlier values from camera/ manually"
   ]
  },
  {
   "cell_type": "code",
   "execution_count": 18,
   "id": "b4a1bcc9",
   "metadata": {},
   "outputs": [
    {
     "name": "stdout",
     "output_type": "stream",
     "text": [
      "we did NOT remove camera outliers manually!\n"
     ]
    }
   ],
   "source": [
    "cam_outlier = 2.0\n",
    "\n",
    "\n",
    "if (remove_camera_outlier == True):\n",
    "    print(\"removing camera outliers\")\n",
    "    dataset_df.drop(dataset_df[(dataset_df['Da_r'] > cam_outlier) |\n",
    "                               (dataset_df['Ca_r'] > cam_outlier) |\n",
    "                               (dataset_df['Ba_r'] > cam_outlier) |\n",
    "                               (dataset_df['Aa_r'] > cam_outlier) |\n",
    "                               (dataset_df['An_r'] > cam_outlier) |\n",
    "                               (dataset_df['Af_r'] > cam_outlier) |\n",
    "                               (dataset_df['Bf_r'] > cam_outlier) |\n",
    "                               (dataset_df['Cf_r'] > cam_outlier) |\n",
    "                               (dataset_df['Df_r'] > cam_outlier)].index, inplace=True)\n",
    "\n",
    "else:\n",
    "    print('we did NOT remove camera outliers manually!')"
   ]
  },
  {
   "cell_type": "markdown",
   "id": "72184fc1",
   "metadata": {},
   "source": [
    "## remove outlier values from ATM roughness data/ percentile"
   ]
  },
  {
   "cell_type": "code",
   "execution_count": 2,
   "id": "ea80173b",
   "metadata": {},
   "outputs": [
    {
     "ename": "NameError",
     "evalue": "name 'dataset_df' is not defined",
     "output_type": "error",
     "traceback": [
      "\u001b[0;31m---------------------------------------------------------------------------\u001b[0m",
      "\u001b[0;31mNameError\u001b[0m                                 Traceback (most recent call last)",
      "Input \u001b[0;32mIn [2]\u001b[0m, in \u001b[0;36m<cell line: 5>\u001b[0;34m()\u001b[0m\n\u001b[1;32m      2\u001b[0m \u001b[38;5;28;01mfrom\u001b[39;00m \u001b[38;5;21;01mnumpy\u001b[39;00m \u001b[38;5;28;01mimport\u001b[39;00m percentile\n\u001b[1;32m      4\u001b[0m \u001b[38;5;66;03m#- extract data \u001b[39;00m\n\u001b[0;32m----> 5\u001b[0m data \u001b[38;5;241m=\u001b[39m \u001b[43mdataset_df\u001b[49m\u001b[38;5;241m.\u001b[39mloc[:,\u001b[38;5;124m'\u001b[39m\u001b[38;5;124mrms\u001b[39m\u001b[38;5;124m'\u001b[39m]\n\u001b[1;32m      6\u001b[0m \u001b[38;5;28mprint\u001b[39m(\u001b[38;5;28mtype\u001b[39m(data))\n\u001b[1;32m      7\u001b[0m \u001b[38;5;66;03m#- calculate InterQuartile Range == IQR\u001b[39;00m\n",
      "\u001b[0;31mNameError\u001b[0m: name 'dataset_df' is not defined"
     ]
    }
   ],
   "source": [
    "#- identify outliers in ATM roughnes values with interquartile range (IQRange)\n",
    "from numpy import percentile\n",
    "\n",
    "#- extract data \n",
    "data = dataset_df.loc[:,'rms']\n",
    "print(type(data))\n",
    "#- calculate InterQuartile Range == IQR\n",
    "q25, q75 = percentile(data, 25), percentile(data, 75)\n",
    "iqr = q75 - q25\n",
    "print('Percentiles: 25th= %.3f (cm), 75th= %.3f (cm), InterQuartile Range= %.3f (cm)' % (q25, q75, iqr))\n",
    "#- calculate the outlier cutoff\n",
    "cut_off = iqr * 3\n",
    "lower, upper = q25 - cut_off, q75 + cut_off\n",
    "print('lower cutoff= %.1f, upper cutoff= %.1f' % (lower, upper))\n",
    "#- identify outliers\n",
    "outliers = [x for x in data if x > upper] # list comprehension method\n",
    "print('Identified outliers: %d \\n' % len(outliers))\n",
    "#- remove outliers\n",
    "remove_outliers_IQR(dataset_df, upper)"
   ]
  },
  {
   "cell_type": "markdown",
   "id": "07cc8f9b",
   "metadata": {},
   "source": [
    "## check for any NAN values"
   ]
  },
  {
   "cell_type": "code",
   "execution_count": 20,
   "id": "a2d21aee",
   "metadata": {},
   "outputs": [
    {
     "name": "stdout",
     "output_type": "stream",
     "text": [
      "did NOT find any NAN value in any column\n",
      "\n"
     ]
    }
   ],
   "source": [
    "#~ check all columns all together\n",
    "\n",
    "if (dataset_df['da'].isnull().values.any() | \n",
    "    dataset_df['ca'].isnull().values.any() | \n",
    "    dataset_df['ba'].isnull().values.any() |\n",
    "    dataset_df['aa'].isnull().values.any() |\n",
    "    dataset_df['anr'].isnull().values.any() |\n",
    "    dataset_df['ang'].isnull().values.any() |\n",
    "    dataset_df['anb'].isnull().values.any() |\n",
    "    dataset_df['annir'].isnull().values.any() |\n",
    "    dataset_df['af'].isnull().values.any() |\n",
    "    dataset_df['bf'].isnull().values.any() |\n",
    "    dataset_df['cf'].isnull().values.any() |\n",
    "    dataset_df['df'].isnull().values.any()):\n",
    "    \n",
    "    print('found NAN in one DF column')\n",
    "\n",
    "else:\n",
    "    print('did NOT find any NAN value in any column\\n')\n"
   ]
  },
  {
   "cell_type": "markdown",
   "id": "9060504d",
   "metadata": {},
   "source": [
    "## check for any negative value\n",
    "values() function comes from numpy and is faster"
   ]
  },
  {
   "cell_type": "code",
   "execution_count": 21,
   "id": "0941634d",
   "metadata": {},
   "outputs": [
    {
     "name": "stdout",
     "output_type": "stream",
     "text": [
      "double check: NO negative values found anywhere in DF\n"
     ]
    }
   ],
   "source": [
    "#- double check for any negative values in all columns\n",
    "if ((dataset_df.values < 0).any()):\n",
    "    print('found some negative values in DF! something is wrong!')\n",
    "else:\n",
    "    print('double check: NO negative values found anywhere in DF')"
   ]
  },
  {
   "cell_type": "markdown",
   "id": "e705cc36",
   "metadata": {},
   "source": [
    "## histogram of dataset\n",
    "defining histogram bins and checking the hostogram of input data again after cleaning dataset"
   ]
  },
  {
   "cell_type": "code",
   "execution_count": 22,
   "id": "457c1c72",
   "metadata": {},
   "outputs": [
    {
     "data": {
      "text/plain": [
       "array([[<AxesSubplot:title={'center':'firstLat'}>,\n",
       "        <AxesSubplot:title={'center':'firstLon'}>,\n",
       "        <AxesSubplot:title={'center':'anr'}>,\n",
       "        <AxesSubplot:title={'center':'ang'}>],\n",
       "       [<AxesSubplot:title={'center':'anb'}>,\n",
       "        <AxesSubplot:title={'center':'annir'}>,\n",
       "        <AxesSubplot:title={'center':'aa'}>,\n",
       "        <AxesSubplot:title={'center':'af'}>],\n",
       "       [<AxesSubplot:title={'center':'ba'}>,\n",
       "        <AxesSubplot:title={'center':'bf'}>,\n",
       "        <AxesSubplot:title={'center':'ca'}>,\n",
       "        <AxesSubplot:title={'center':'cf'}>],\n",
       "       [<AxesSubplot:title={'center':'da'}>,\n",
       "        <AxesSubplot:title={'center':'df'}>,\n",
       "        <AxesSubplot:title={'center':'rms'}>, <AxesSubplot:>]],\n",
       "      dtype=object)"
      ]
     },
     "execution_count": 22,
     "metadata": {},
     "output_type": "execute_result"
    },
    {
     "data": {
      "image/png": "[encoded data removed]",
      "text/plain": [
       "<Figure size 432x288 with 16 Axes>"
      ]
     },
     "metadata": {
      "needs_background": "light"
     },
     "output_type": "display_data"
    }
   ],
   "source": [
    "dataset_df.hist(bins=15)"
   ]
  },
  {
   "cell_type": "code",
   "execution_count": 23,
   "id": "e342d3e5",
   "metadata": {},
   "outputs": [
    {
     "data": {
      "text/html": [
       "<div>\n",
       "<style scoped>\n",
       "    .dataframe tbody tr th:only-of-type {\n",
       "        vertical-align: middle;\n",
       "    }\n",
       "\n",
       "    .dataframe tbody tr th {\n",
       "        vertical-align: top;\n",
       "    }\n",
       "\n",
       "    .dataframe thead th {\n",
       "        text-align: right;\n",
       "    }\n",
       "</style>\n",
       "<table border=\"1\" class=\"dataframe\">\n",
       "  <thead>\n",
       "    <tr style=\"text-align: right;\">\n",
       "      <th></th>\n",
       "      <th>firstLat</th>\n",
       "      <th>firstLon</th>\n",
       "      <th>anr</th>\n",
       "      <th>ang</th>\n",
       "      <th>anb</th>\n",
       "      <th>annir</th>\n",
       "      <th>aa</th>\n",
       "      <th>af</th>\n",
       "      <th>ba</th>\n",
       "      <th>bf</th>\n",
       "      <th>ca</th>\n",
       "      <th>cf</th>\n",
       "      <th>da</th>\n",
       "      <th>df</th>\n",
       "      <th>rms</th>\n",
       "    </tr>\n",
       "  </thead>\n",
       "  <tbody>\n",
       "    <tr>\n",
       "      <th>count</th>\n",
       "      <td>17244.000000</td>\n",
       "      <td>17244.000000</td>\n",
       "      <td>17244.000000</td>\n",
       "      <td>17244.0</td>\n",
       "      <td>17244.0</td>\n",
       "      <td>17244.000000</td>\n",
       "      <td>17244.000000</td>\n",
       "      <td>17244.000000</td>\n",
       "      <td>17244.000000</td>\n",
       "      <td>17244.000000</td>\n",
       "      <td>17244.000000</td>\n",
       "      <td>17244.000000</td>\n",
       "      <td>17244.000000</td>\n",
       "      <td>17244.000000</td>\n",
       "      <td>17244.000000</td>\n",
       "    </tr>\n",
       "    <tr>\n",
       "      <th>mean</th>\n",
       "      <td>75.829312</td>\n",
       "      <td>200.534755</td>\n",
       "      <td>0.436890</td>\n",
       "      <td>0.0</td>\n",
       "      <td>0.0</td>\n",
       "      <td>0.436890</td>\n",
       "      <td>0.479482</td>\n",
       "      <td>0.512413</td>\n",
       "      <td>0.535792</td>\n",
       "      <td>0.678344</td>\n",
       "      <td>0.571169</td>\n",
       "      <td>0.938148</td>\n",
       "      <td>0.609025</td>\n",
       "      <td>1.242547</td>\n",
       "      <td>7.882308</td>\n",
       "    </tr>\n",
       "    <tr>\n",
       "      <th>std</th>\n",
       "      <td>1.379298</td>\n",
       "      <td>12.961127</td>\n",
       "      <td>0.157079</td>\n",
       "      <td>0.0</td>\n",
       "      <td>0.0</td>\n",
       "      <td>0.157079</td>\n",
       "      <td>0.162271</td>\n",
       "      <td>0.171011</td>\n",
       "      <td>0.167561</td>\n",
       "      <td>0.225002</td>\n",
       "      <td>0.165429</td>\n",
       "      <td>0.390850</td>\n",
       "      <td>0.169358</td>\n",
       "      <td>0.635464</td>\n",
       "      <td>5.096729</td>\n",
       "    </tr>\n",
       "    <tr>\n",
       "      <th>min</th>\n",
       "      <td>72.732462</td>\n",
       "      <td>183.211637</td>\n",
       "      <td>0.034088</td>\n",
       "      <td>0.0</td>\n",
       "      <td>0.0</td>\n",
       "      <td>0.034088</td>\n",
       "      <td>0.043890</td>\n",
       "      <td>0.040465</td>\n",
       "      <td>0.060695</td>\n",
       "      <td>0.056706</td>\n",
       "      <td>0.085252</td>\n",
       "      <td>0.077717</td>\n",
       "      <td>0.123204</td>\n",
       "      <td>0.128087</td>\n",
       "      <td>2.348333</td>\n",
       "    </tr>\n",
       "    <tr>\n",
       "      <th>25%</th>\n",
       "      <td>74.973973</td>\n",
       "      <td>188.000204</td>\n",
       "      <td>0.360285</td>\n",
       "      <td>0.0</td>\n",
       "      <td>0.0</td>\n",
       "      <td>0.360285</td>\n",
       "      <td>0.403053</td>\n",
       "      <td>0.428597</td>\n",
       "      <td>0.462952</td>\n",
       "      <td>0.548100</td>\n",
       "      <td>0.499075</td>\n",
       "      <td>0.670543</td>\n",
       "      <td>0.532963</td>\n",
       "      <td>0.799927</td>\n",
       "      <td>4.280000</td>\n",
       "    </tr>\n",
       "    <tr>\n",
       "      <th>50%</th>\n",
       "      <td>75.820772</td>\n",
       "      <td>196.458013</td>\n",
       "      <td>0.445588</td>\n",
       "      <td>0.0</td>\n",
       "      <td>0.0</td>\n",
       "      <td>0.445588</td>\n",
       "      <td>0.487829</td>\n",
       "      <td>0.523609</td>\n",
       "      <td>0.550652</td>\n",
       "      <td>0.686686</td>\n",
       "      <td>0.581917</td>\n",
       "      <td>0.873247</td>\n",
       "      <td>0.610394</td>\n",
       "      <td>1.055265</td>\n",
       "      <td>5.902500</td>\n",
       "    </tr>\n",
       "    <tr>\n",
       "      <th>75%</th>\n",
       "      <td>76.623356</td>\n",
       "      <td>211.810827</td>\n",
       "      <td>0.533176</td>\n",
       "      <td>0.0</td>\n",
       "      <td>0.0</td>\n",
       "      <td>0.533176</td>\n",
       "      <td>0.575819</td>\n",
       "      <td>0.607352</td>\n",
       "      <td>0.631015</td>\n",
       "      <td>0.804176</td>\n",
       "      <td>0.666165</td>\n",
       "      <td>1.146810</td>\n",
       "      <td>0.706806</td>\n",
       "      <td>1.571989</td>\n",
       "      <td>9.704833</td>\n",
       "    </tr>\n",
       "    <tr>\n",
       "      <th>max</th>\n",
       "      <td>79.073270</td>\n",
       "      <td>220.001111</td>\n",
       "      <td>1.413194</td>\n",
       "      <td>0.0</td>\n",
       "      <td>0.0</td>\n",
       "      <td>1.413194</td>\n",
       "      <td>1.333279</td>\n",
       "      <td>1.663056</td>\n",
       "      <td>1.313771</td>\n",
       "      <td>1.970470</td>\n",
       "      <td>1.323347</td>\n",
       "      <td>2.314382</td>\n",
       "      <td>1.370876</td>\n",
       "      <td>3.365002</td>\n",
       "      <td>27.708000</td>\n",
       "    </tr>\n",
       "  </tbody>\n",
       "</table>\n",
       "</div>"
      ],
      "text/plain": [
       "           firstLat      firstLon           anr      ang      anb  \\\n",
       "count  17244.000000  17244.000000  17244.000000  17244.0  17244.0   \n",
       "mean      75.829312    200.534755      0.436890      0.0      0.0   \n",
       "std        1.379298     12.961127      0.157079      0.0      0.0   \n",
       "min       72.732462    183.211637      0.034088      0.0      0.0   \n",
       "25%       74.973973    188.000204      0.360285      0.0      0.0   \n",
       "50%       75.820772    196.458013      0.445588      0.0      0.0   \n",
       "75%       76.623356    211.810827      0.533176      0.0      0.0   \n",
       "max       79.073270    220.001111      1.413194      0.0      0.0   \n",
       "\n",
       "              annir            aa            af            ba            bf  \\\n",
       "count  17244.000000  17244.000000  17244.000000  17244.000000  17244.000000   \n",
       "mean       0.436890      0.479482      0.512413      0.535792      0.678344   \n",
       "std        0.157079      0.162271      0.171011      0.167561      0.225002   \n",
       "min        0.034088      0.043890      0.040465      0.060695      0.056706   \n",
       "25%        0.360285      0.403053      0.428597      0.462952      0.548100   \n",
       "50%        0.445588      0.487829      0.523609      0.550652      0.686686   \n",
       "75%        0.533176      0.575819      0.607352      0.631015      0.804176   \n",
       "max        1.413194      1.333279      1.663056      1.313771      1.970470   \n",
       "\n",
       "                 ca            cf            da            df           rms  \n",
       "count  17244.000000  17244.000000  17244.000000  17244.000000  17244.000000  \n",
       "mean       0.571169      0.938148      0.609025      1.242547      7.882308  \n",
       "std        0.165429      0.390850      0.169358      0.635464      5.096729  \n",
       "min        0.085252      0.077717      0.123204      0.128087      2.348333  \n",
       "25%        0.499075      0.670543      0.532963      0.799927      4.280000  \n",
       "50%        0.581917      0.873247      0.610394      1.055265      5.902500  \n",
       "75%        0.666165      1.146810      0.706806      1.571989      9.704833  \n",
       "max        1.323347      2.314382      1.370876      3.365002     27.708000  "
      ]
     },
     "execution_count": 23,
     "metadata": {},
     "output_type": "execute_result"
    }
   ],
   "source": [
    "dataset_df.describe()"
   ]
  },
  {
   "cell_type": "markdown",
   "id": "e54dd73d",
   "metadata": {},
   "source": [
    "## write out output csv"
   ]
  },
  {
   "cell_type": "code",
   "execution_count": 24,
   "id": "00a65d6b",
   "metadata": {},
   "outputs": [
    {
     "name": "stdout",
     "output_type": "stream",
     "text": [
      "output csv file:\n"
     ]
    },
    {
     "data": {
      "text/plain": [
       "'/Users/ehsanmos/MLP_dataset/atmmodel_july_2016_k_zero_9cams4bands_preprocessed.csv'"
      ]
     },
     "execution_count": 24,
     "metadata": {},
     "output_type": "execute_result"
    }
   ],
   "source": [
    "output_dir = dataset_dir\n",
    "output_filename = in_ds.split('.')[0]+'_preprocessed.csv'\n",
    "output_csv_fullpath = os.path.join(output_dir, output_filename)\n",
    "print('output csv file:')\n",
    "output_csv_fullpath"
   ]
  },
  {
   "cell_type": "code",
   "execution_count": 25,
   "id": "85a6477f",
   "metadata": {},
   "outputs": [],
   "source": [
    "dataset_df.to_csv(output_csv_fullpath, index=False)"
   ]
  },
  {
   "cell_type": "code",
   "execution_count": null,
   "id": "64d79955",
   "metadata": {},
   "outputs": [],
   "source": []
  }
 ],
 "metadata": {
  "kernelspec": {
   "display_name": "Python 3 (ipykernel)",
   "language": "python",
   "name": "python3"
  },
  "language_info": {
   "codemirror_mode": {
    "name": "ipython",
    "version": 3
   },
   "file_extension": ".py",
   "mimetype": "text/x-python",
   "name": "python",
   "nbconvert_exporter": "python",
   "pygments_lexer": "ipython3",
   "version": "3.9.11"
  }
 },
 "nbformat": 4,
 "nbformat_minor": 5
}
