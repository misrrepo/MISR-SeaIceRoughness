{
 "cells": [
  {
   "cell_type": "code",
   "execution_count": 29,
   "id": "3ea9359b",
   "metadata": {},
   "outputs": [],
   "source": [
    "cmd = (\"'%s' '%s' '%s' '%s' '%s'\") %('a', 'b', 'c', 'd', 'e')"
   ]
  },
  {
   "cell_type": "code",
   "execution_count": 30,
   "id": "cb8b7045",
   "metadata": {},
   "outputs": [
    {
     "data": {
      "text/plain": [
       "19"
      ]
     },
     "execution_count": 30,
     "metadata": {},
     "output_type": "execute_result"
    }
   ],
   "source": [
    "len(cmd)"
   ]
  },
  {
   "cell_type": "code",
   "execution_count": 33,
   "id": "010196d1",
   "metadata": {},
   "outputs": [
    {
     "data": {
      "text/plain": [
       "\"'\""
      ]
     },
     "execution_count": 33,
     "metadata": {},
     "output_type": "execute_result"
    }
   ],
   "source": [
    "cmd[0]"
   ]
  },
  {
   "cell_type": "code",
   "execution_count": 34,
   "id": "81982677",
   "metadata": {},
   "outputs": [
    {
     "data": {
      "text/plain": [
       "\"'a' 'b' 'c' 'd' 'e'\""
      ]
     },
     "execution_count": 34,
     "metadata": {},
     "output_type": "execute_result"
    }
   ],
   "source": [
    "cmd"
   ]
  },
  {
   "cell_type": "code",
   "execution_count": null,
   "id": "2b1ea6da",
   "metadata": {},
   "outputs": [],
   "source": []
  }
 ],
 "metadata": {
  "kernelspec": {
   "display_name": "Python 3 (ipykernel)",
   "language": "python",
   "name": "python3"
  },
  "language_info": {
   "codemirror_mode": {
    "name": "ipython",
    "version": 3
   },
   "file_extension": ".py",
   "mimetype": "text/x-python",
   "name": "python",
   "nbconvert_exporter": "python",
   "pygments_lexer": "ipython3",
   "version": "3.9.13"
  }
 },
 "nbformat": 4,
 "nbformat_minor": 5
}
